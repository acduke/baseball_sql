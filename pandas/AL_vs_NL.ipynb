{
 "cells": [
  {
   "cell_type": "code",
   "execution_count": 1,
   "metadata": {},
   "outputs": [],
   "source": [
    "# league quality\n"
   ]
  },
  {
   "cell_type": "code",
   "execution_count": 2,
   "metadata": {},
   "outputs": [],
   "source": [
    "import pandas as pd\n",
    "import numpy as np\n",
    "import plotly.express as px\n",
    "import boxball_loader as bbl\n",
    "import baseball_stats_utils as bsu\n",
    "from sklearn.linear_model import LinearRegression\n",
    "from sklearn.metrics import mean_squared_error"
   ]
  },
  {
   "cell_type": "code",
   "execution_count": 3,
   "metadata": {},
   "outputs": [],
   "source": [
    "tms = bbl.load_teams()"
   ]
  },
  {
   "cell_type": "markdown",
   "metadata": {},
   "source": []
  },
  {
   "cell_type": "code",
   "execution_count": 4,
   "metadata": {},
   "outputs": [
    {
     "ename": "KeyError",
     "evalue": "\"['park_id'] not in index\"",
     "output_type": "error",
     "traceback": [
      "\u001b[0;31m---------------------------------------------------------------------------\u001b[0m",
      "\u001b[0;31mKeyError\u001b[0m                                  Traceback (most recent call last)",
      "\u001b[0;32m<ipython-input-4-22edc7c64d2d>\u001b[0m in \u001b[0;36m<module>\u001b[0;34m\u001b[0m\n\u001b[1;32m      1\u001b[0m \u001b[0mcols\u001b[0m \u001b[0;34m=\u001b[0m \u001b[0;34m[\u001b[0m\u001b[0;34m'bat_team_id'\u001b[0m\u001b[0;34m,\u001b[0m \u001b[0;34m'fld_team_id'\u001b[0m\u001b[0;34m,\u001b[0m \u001b[0;34m'bat_id'\u001b[0m\u001b[0;34m,\u001b[0m \u001b[0;34m'pit_id'\u001b[0m\u001b[0;34m,\u001b[0m \u001b[0;34m'bat_fld_cd'\u001b[0m\u001b[0;34m,\u001b[0m \u001b[0;34m'bat_event_fl'\u001b[0m\u001b[0;34m,\u001b[0m \u001b[0;34m'bat_hand_cd'\u001b[0m\u001b[0;34m,\u001b[0m \u001b[0;34m'pit_hand_cd'\u001b[0m\u001b[0;34m,\u001b[0m \u001b[0;34m'event_cd'\u001b[0m\u001b[0;34m,\u001b[0m \u001b[0;34m'park_id'\u001b[0m\u001b[0;34m,\u001b[0m \u001b[0;34m'bat_home_id'\u001b[0m\u001b[0;34m,\u001b[0m \u001b[0;34m'inn_ct'\u001b[0m\u001b[0;34m]\u001b[0m\u001b[0;34m\u001b[0m\u001b[0;34m\u001b[0m\u001b[0m\n\u001b[0;32m----> 2\u001b[0;31m \u001b[0mpa\u001b[0m \u001b[0;34m=\u001b[0m \u001b[0mbbl\u001b[0m\u001b[0;34m.\u001b[0m\u001b[0mload_event_data\u001b[0m\u001b[0;34m(\u001b[0m\u001b[0;36m1997\u001b[0m\u001b[0;34m,\u001b[0m \u001b[0;36m2020\u001b[0m\u001b[0;34m,\u001b[0m \u001b[0mcols\u001b[0m\u001b[0;34m)\u001b[0m\u001b[0;34m.\u001b[0m\u001b[0mquery\u001b[0m\u001b[0;34m(\u001b[0m\u001b[0;34m'bat_fld_cd != 1'\u001b[0m\u001b[0;34m)\u001b[0m\u001b[0;34m\u001b[0m\u001b[0;34m\u001b[0m\u001b[0m\n\u001b[0m\u001b[1;32m      3\u001b[0m \u001b[0mpa\u001b[0m\u001b[0;34m.\u001b[0m\u001b[0mshape\u001b[0m\u001b[0;34m\u001b[0m\u001b[0;34m\u001b[0m\u001b[0m\n",
      "\u001b[0;32m~/dev/baseball_sql/pandas/boxball_loader.py\u001b[0m in \u001b[0;36mload_event_data\u001b[0;34m(start_yr, end_yr, requested_columns, pa_only, game_types)\u001b[0m\n\u001b[1;32m     75\u001b[0m         \u001b[0mgm\u001b[0m \u001b[0;34m=\u001b[0m \u001b[0mpd\u001b[0m\u001b[0;34m.\u001b[0m\u001b[0mread_parquet\u001b[0m\u001b[0;34m(\u001b[0m\u001b[0;34m'../data/mine/gamelog_enhanced.parquet'\u001b[0m\u001b[0;34m)\u001b[0m\u001b[0;34m\u001b[0m\u001b[0;34m\u001b[0m\u001b[0m\n\u001b[1;32m     76\u001b[0m         \u001b[0mgms\u001b[0m \u001b[0;34m=\u001b[0m \u001b[0mgm\u001b[0m\u001b[0;34m[\u001b[0m\u001b[0;34m(\u001b[0m\u001b[0mgm\u001b[0m\u001b[0;34m[\u001b[0m\u001b[0;34m'yr'\u001b[0m\u001b[0;34m]\u001b[0m\u001b[0;34m>=\u001b[0m\u001b[0mstart_yr\u001b[0m\u001b[0;34m)\u001b[0m \u001b[0;34m&\u001b[0m \u001b[0;34m(\u001b[0m\u001b[0mgm\u001b[0m\u001b[0;34m[\u001b[0m\u001b[0;34m'yr'\u001b[0m\u001b[0;34m]\u001b[0m\u001b[0;34m<=\u001b[0m\u001b[0mend_yr\u001b[0m\u001b[0;34m)\u001b[0m\u001b[0;34m]\u001b[0m\u001b[0;34m[\u001b[0m\u001b[0;34m[\u001b[0m\u001b[0;34m'game_id'\u001b[0m\u001b[0;34m,\u001b[0m \u001b[0;34m'date'\u001b[0m\u001b[0;34m,\u001b[0m \u001b[0;34m'game_type'\u001b[0m\u001b[0;34m]\u001b[0m\u001b[0;34m]\u001b[0m\u001b[0;34m\u001b[0m\u001b[0;34m\u001b[0m\u001b[0m\n\u001b[0;32m---> 77\u001b[0;31m         \u001b[0mev\u001b[0m \u001b[0;34m=\u001b[0m \u001b[0mpd\u001b[0m\u001b[0;34m.\u001b[0m\u001b[0mread_parquet\u001b[0m\u001b[0;34m(\u001b[0m\u001b[0;34m'../data/retrosheet/event.parquet'\u001b[0m\u001b[0;34m)\u001b[0m\u001b[0;34m[\u001b[0m\u001b[0mcolumns\u001b[0m\u001b[0;34m]\u001b[0m\u001b[0;34m\u001b[0m\u001b[0;34m\u001b[0m\u001b[0m\n\u001b[0m\u001b[1;32m     78\u001b[0m         \u001b[0mev\u001b[0m \u001b[0;34m=\u001b[0m \u001b[0mev\u001b[0m\u001b[0;34m[\u001b[0m\u001b[0;34m(\u001b[0m\u001b[0mev\u001b[0m\u001b[0;34m[\u001b[0m\u001b[0;34m'game_id'\u001b[0m\u001b[0;34m]\u001b[0m\u001b[0;34m.\u001b[0m\u001b[0misin\u001b[0m\u001b[0;34m(\u001b[0m\u001b[0mgms\u001b[0m\u001b[0;34m.\u001b[0m\u001b[0mgame_id\u001b[0m\u001b[0;34m)\u001b[0m\u001b[0;34m)\u001b[0m\u001b[0;34m]\u001b[0m\u001b[0;34m\u001b[0m\u001b[0;34m\u001b[0m\u001b[0m\n\u001b[1;32m     79\u001b[0m         \u001b[0mev\u001b[0m \u001b[0;34m=\u001b[0m \u001b[0mpd\u001b[0m\u001b[0;34m.\u001b[0m\u001b[0mmerge\u001b[0m\u001b[0;34m(\u001b[0m\u001b[0mleft\u001b[0m\u001b[0;34m=\u001b[0m\u001b[0mgms\u001b[0m\u001b[0;34m,\u001b[0m \u001b[0mright\u001b[0m\u001b[0;34m=\u001b[0m\u001b[0mev\u001b[0m\u001b[0;34m,\u001b[0m \u001b[0mon\u001b[0m\u001b[0;34m=\u001b[0m\u001b[0;34m'game_id'\u001b[0m\u001b[0;34m)\u001b[0m\u001b[0;34m\u001b[0m\u001b[0;34m\u001b[0m\u001b[0m\n",
      "\u001b[0;32m/Applications/anaconda3/lib/python3.8/site-packages/pandas/core/frame.py\u001b[0m in \u001b[0;36m__getitem__\u001b[0;34m(self, key)\u001b[0m\n\u001b[1;32m   3028\u001b[0m             \u001b[0;32mif\u001b[0m \u001b[0mis_iterator\u001b[0m\u001b[0;34m(\u001b[0m\u001b[0mkey\u001b[0m\u001b[0;34m)\u001b[0m\u001b[0;34m:\u001b[0m\u001b[0;34m\u001b[0m\u001b[0;34m\u001b[0m\u001b[0m\n\u001b[1;32m   3029\u001b[0m                 \u001b[0mkey\u001b[0m \u001b[0;34m=\u001b[0m \u001b[0mlist\u001b[0m\u001b[0;34m(\u001b[0m\u001b[0mkey\u001b[0m\u001b[0;34m)\u001b[0m\u001b[0;34m\u001b[0m\u001b[0;34m\u001b[0m\u001b[0m\n\u001b[0;32m-> 3030\u001b[0;31m             \u001b[0mindexer\u001b[0m \u001b[0;34m=\u001b[0m \u001b[0mself\u001b[0m\u001b[0;34m.\u001b[0m\u001b[0mloc\u001b[0m\u001b[0;34m.\u001b[0m\u001b[0m_get_listlike_indexer\u001b[0m\u001b[0;34m(\u001b[0m\u001b[0mkey\u001b[0m\u001b[0;34m,\u001b[0m \u001b[0maxis\u001b[0m\u001b[0;34m=\u001b[0m\u001b[0;36m1\u001b[0m\u001b[0;34m,\u001b[0m \u001b[0mraise_missing\u001b[0m\u001b[0;34m=\u001b[0m\u001b[0;32mTrue\u001b[0m\u001b[0;34m)\u001b[0m\u001b[0;34m[\u001b[0m\u001b[0;36m1\u001b[0m\u001b[0;34m]\u001b[0m\u001b[0;34m\u001b[0m\u001b[0;34m\u001b[0m\u001b[0m\n\u001b[0m\u001b[1;32m   3031\u001b[0m \u001b[0;34m\u001b[0m\u001b[0m\n\u001b[1;32m   3032\u001b[0m         \u001b[0;31m# take() does not accept boolean indexers\u001b[0m\u001b[0;34m\u001b[0m\u001b[0;34m\u001b[0m\u001b[0;34m\u001b[0m\u001b[0m\n",
      "\u001b[0;32m/Applications/anaconda3/lib/python3.8/site-packages/pandas/core/indexing.py\u001b[0m in \u001b[0;36m_get_listlike_indexer\u001b[0;34m(self, key, axis, raise_missing)\u001b[0m\n\u001b[1;32m   1264\u001b[0m             \u001b[0mkeyarr\u001b[0m\u001b[0;34m,\u001b[0m \u001b[0mindexer\u001b[0m\u001b[0;34m,\u001b[0m \u001b[0mnew_indexer\u001b[0m \u001b[0;34m=\u001b[0m \u001b[0max\u001b[0m\u001b[0;34m.\u001b[0m\u001b[0m_reindex_non_unique\u001b[0m\u001b[0;34m(\u001b[0m\u001b[0mkeyarr\u001b[0m\u001b[0;34m)\u001b[0m\u001b[0;34m\u001b[0m\u001b[0;34m\u001b[0m\u001b[0m\n\u001b[1;32m   1265\u001b[0m \u001b[0;34m\u001b[0m\u001b[0m\n\u001b[0;32m-> 1266\u001b[0;31m         \u001b[0mself\u001b[0m\u001b[0;34m.\u001b[0m\u001b[0m_validate_read_indexer\u001b[0m\u001b[0;34m(\u001b[0m\u001b[0mkeyarr\u001b[0m\u001b[0;34m,\u001b[0m \u001b[0mindexer\u001b[0m\u001b[0;34m,\u001b[0m \u001b[0maxis\u001b[0m\u001b[0;34m,\u001b[0m \u001b[0mraise_missing\u001b[0m\u001b[0;34m=\u001b[0m\u001b[0mraise_missing\u001b[0m\u001b[0;34m)\u001b[0m\u001b[0;34m\u001b[0m\u001b[0;34m\u001b[0m\u001b[0m\n\u001b[0m\u001b[1;32m   1267\u001b[0m         \u001b[0;32mreturn\u001b[0m \u001b[0mkeyarr\u001b[0m\u001b[0;34m,\u001b[0m \u001b[0mindexer\u001b[0m\u001b[0;34m\u001b[0m\u001b[0;34m\u001b[0m\u001b[0m\n\u001b[1;32m   1268\u001b[0m \u001b[0;34m\u001b[0m\u001b[0m\n",
      "\u001b[0;32m/Applications/anaconda3/lib/python3.8/site-packages/pandas/core/indexing.py\u001b[0m in \u001b[0;36m_validate_read_indexer\u001b[0;34m(self, key, indexer, axis, raise_missing)\u001b[0m\n\u001b[1;32m   1314\u001b[0m             \u001b[0;32mif\u001b[0m \u001b[0mraise_missing\u001b[0m\u001b[0;34m:\u001b[0m\u001b[0;34m\u001b[0m\u001b[0;34m\u001b[0m\u001b[0m\n\u001b[1;32m   1315\u001b[0m                 \u001b[0mnot_found\u001b[0m \u001b[0;34m=\u001b[0m \u001b[0mlist\u001b[0m\u001b[0;34m(\u001b[0m\u001b[0mset\u001b[0m\u001b[0;34m(\u001b[0m\u001b[0mkey\u001b[0m\u001b[0;34m)\u001b[0m \u001b[0;34m-\u001b[0m \u001b[0mset\u001b[0m\u001b[0;34m(\u001b[0m\u001b[0max\u001b[0m\u001b[0;34m)\u001b[0m\u001b[0;34m)\u001b[0m\u001b[0;34m\u001b[0m\u001b[0;34m\u001b[0m\u001b[0m\n\u001b[0;32m-> 1316\u001b[0;31m                 \u001b[0;32mraise\u001b[0m \u001b[0mKeyError\u001b[0m\u001b[0;34m(\u001b[0m\u001b[0;34mf\"{not_found} not in index\"\u001b[0m\u001b[0;34m)\u001b[0m\u001b[0;34m\u001b[0m\u001b[0;34m\u001b[0m\u001b[0m\n\u001b[0m\u001b[1;32m   1317\u001b[0m \u001b[0;34m\u001b[0m\u001b[0m\n\u001b[1;32m   1318\u001b[0m             \u001b[0mnot_found\u001b[0m \u001b[0;34m=\u001b[0m \u001b[0mkey\u001b[0m\u001b[0;34m[\u001b[0m\u001b[0mmissing_mask\u001b[0m\u001b[0;34m]\u001b[0m\u001b[0;34m\u001b[0m\u001b[0;34m\u001b[0m\u001b[0m\n",
      "\u001b[0;31mKeyError\u001b[0m: \"['park_id'] not in index\""
     ]
    }
   ],
   "source": [
    "cols = ['bat_team_id', 'fld_team_id', 'bat_id', 'pit_id', 'bat_fld_cd', 'bat_event_fl', 'bat_hand_cd', 'pit_hand_cd', 'event_cd', 'park_id', 'bat_home_id', 'inn_ct']\n",
    "pa = bbl.load_event_data(1997, 2020, cols).query('bat_fld_cd != 1')\n",
    "pa.shape"
   ]
  },
  {
   "cell_type": "code",
   "execution_count": null,
   "metadata": {},
   "outputs": [
    {
     "data": {
      "text/plain": [
       "(4212969, 19)"
      ]
     },
     "execution_count": 6,
     "metadata": {},
     "output_type": "execute_result"
    }
   ],
   "source": [
    "# Merge the lg_ids in, for the bat_team and fld_team\n",
    "pa = pd.merge(left=pa, right=tms[['yr', 'team_id_retro', 'lg_id']].rename(columns={'team_id_retro': 'bat_team_id', 'lg_id': 'bat_lg_id'}))\n",
    "pa = pd.merge(left=pa, right=tms[['yr', 'team_id_retro', 'lg_id']].rename(columns={'team_id_retro': 'fld_team_id', 'lg_id': 'fld_lg_id'}))\n",
    "pa.shape"
   ]
  },
  {
   "cell_type": "code",
   "execution_count": null,
   "metadata": {},
   "outputs": [
    {
     "data": {
      "text/html": [
       "<div>\n",
       "<style scoped>\n",
       "    .dataframe tbody tr th:only-of-type {\n",
       "        vertical-align: middle;\n",
       "    }\n",
       "\n",
       "    .dataframe tbody tr th {\n",
       "        vertical-align: top;\n",
       "    }\n",
       "\n",
       "    .dataframe thead th {\n",
       "        text-align: right;\n",
       "    }\n",
       "</style>\n",
       "<table border=\"1\" class=\"dataframe\">\n",
       "  <thead>\n",
       "    <tr style=\"text-align: right;\">\n",
       "      <th></th>\n",
       "      <th>game_id</th>\n",
       "      <th>date</th>\n",
       "      <th>game_type</th>\n",
       "      <th>tb_ct</th>\n",
       "      <th>bat_fld_cd</th>\n",
       "      <th>event_cd</th>\n",
       "      <th>bat_event_fl</th>\n",
       "      <th>fld_team_id</th>\n",
       "      <th>pit_hand_cd</th>\n",
       "      <th>pit_id</th>\n",
       "      <th>...</th>\n",
       "      <th>ab_fl</th>\n",
       "      <th>h_fl</th>\n",
       "      <th>ob_fl</th>\n",
       "      <th>yr</th>\n",
       "      <th>bat_lg_id</th>\n",
       "      <th>fld_lg_id</th>\n",
       "      <th>bat_age</th>\n",
       "      <th>pit_age</th>\n",
       "      <th>bat_prime_age</th>\n",
       "      <th>pit_prime_age</th>\n",
       "    </tr>\n",
       "  </thead>\n",
       "  <tbody>\n",
       "    <tr>\n",
       "      <th>3024516</th>\n",
       "      <td>WAS201307270</td>\n",
       "      <td>2013-07-27</td>\n",
       "      <td>RS</td>\n",
       "      <td>0</td>\n",
       "      <td>4</td>\n",
       "      <td>2</td>\n",
       "      <td>True</td>\n",
       "      <td>WAS</td>\n",
       "      <td>R</td>\n",
       "      <td>hared001</td>\n",
       "      <td>...</td>\n",
       "      <td>True</td>\n",
       "      <td>0</td>\n",
       "      <td>0</td>\n",
       "      <td>2013</td>\n",
       "      <td>NL</td>\n",
       "      <td>NL</td>\n",
       "      <td>28.0</td>\n",
       "      <td>28.0</td>\n",
       "      <td>True</td>\n",
       "      <td>True</td>\n",
       "    </tr>\n",
       "    <tr>\n",
       "      <th>2760572</th>\n",
       "      <td>OAK201205260</td>\n",
       "      <td>2012-05-26</td>\n",
       "      <td>RS</td>\n",
       "      <td>1</td>\n",
       "      <td>10</td>\n",
       "      <td>20</td>\n",
       "      <td>True</td>\n",
       "      <td>NYA</td>\n",
       "      <td>L</td>\n",
       "      <td>sabac001</td>\n",
       "      <td>...</td>\n",
       "      <td>True</td>\n",
       "      <td>1</td>\n",
       "      <td>1</td>\n",
       "      <td>2012</td>\n",
       "      <td>AL</td>\n",
       "      <td>AL</td>\n",
       "      <td>30.0</td>\n",
       "      <td>26.0</td>\n",
       "      <td>True</td>\n",
       "      <td>True</td>\n",
       "    </tr>\n",
       "    <tr>\n",
       "      <th>1075462</th>\n",
       "      <td>CHN200207310</td>\n",
       "      <td>2002-07-31</td>\n",
       "      <td>RS</td>\n",
       "      <td>4</td>\n",
       "      <td>5</td>\n",
       "      <td>23</td>\n",
       "      <td>True</td>\n",
       "      <td>CHN</td>\n",
       "      <td>R</td>\n",
       "      <td>zambc001</td>\n",
       "      <td>...</td>\n",
       "      <td>True</td>\n",
       "      <td>1</td>\n",
       "      <td>1</td>\n",
       "      <td>2002</td>\n",
       "      <td>NL</td>\n",
       "      <td>NL</td>\n",
       "      <td>44.0</td>\n",
       "      <td>27.0</td>\n",
       "      <td>False</td>\n",
       "      <td>True</td>\n",
       "    </tr>\n",
       "    <tr>\n",
       "      <th>2864697</th>\n",
       "      <td>NYN201208110</td>\n",
       "      <td>2012-08-11</td>\n",
       "      <td>RS</td>\n",
       "      <td>0</td>\n",
       "      <td>9</td>\n",
       "      <td>3</td>\n",
       "      <td>True</td>\n",
       "      <td>ATL</td>\n",
       "      <td>R</td>\n",
       "      <td>gearc001</td>\n",
       "      <td>...</td>\n",
       "      <td>True</td>\n",
       "      <td>0</td>\n",
       "      <td>0</td>\n",
       "      <td>2012</td>\n",
       "      <td>NL</td>\n",
       "      <td>NL</td>\n",
       "      <td>32.0</td>\n",
       "      <td>33.0</td>\n",
       "      <td>False</td>\n",
       "      <td>False</td>\n",
       "    </tr>\n",
       "    <tr>\n",
       "      <th>2754682</th>\n",
       "      <td>OAK201208210</td>\n",
       "      <td>2012-08-21</td>\n",
       "      <td>RS</td>\n",
       "      <td>1</td>\n",
       "      <td>7</td>\n",
       "      <td>20</td>\n",
       "      <td>True</td>\n",
       "      <td>MIN</td>\n",
       "      <td>R</td>\n",
       "      <td>swara001</td>\n",
       "      <td>...</td>\n",
       "      <td>True</td>\n",
       "      <td>1</td>\n",
       "      <td>1</td>\n",
       "      <td>2012</td>\n",
       "      <td>AL</td>\n",
       "      <td>AL</td>\n",
       "      <td>28.0</td>\n",
       "      <td>26.0</td>\n",
       "      <td>True</td>\n",
       "      <td>True</td>\n",
       "    </tr>\n",
       "    <tr>\n",
       "      <th>3429034</th>\n",
       "      <td>ARI201604220</td>\n",
       "      <td>2016-04-22</td>\n",
       "      <td>RS</td>\n",
       "      <td>0</td>\n",
       "      <td>11</td>\n",
       "      <td>18</td>\n",
       "      <td>True</td>\n",
       "      <td>PIT</td>\n",
       "      <td>L</td>\n",
       "      <td>watst001</td>\n",
       "      <td>...</td>\n",
       "      <td>True</td>\n",
       "      <td>0</td>\n",
       "      <td>0</td>\n",
       "      <td>2016</td>\n",
       "      <td>NL</td>\n",
       "      <td>NL</td>\n",
       "      <td>30.0</td>\n",
       "      <td>27.0</td>\n",
       "      <td>True</td>\n",
       "      <td>True</td>\n",
       "    </tr>\n",
       "    <tr>\n",
       "      <th>90326</th>\n",
       "      <td>DET199705070</td>\n",
       "      <td>1997-05-07</td>\n",
       "      <td>RS</td>\n",
       "      <td>0</td>\n",
       "      <td>5</td>\n",
       "      <td>2</td>\n",
       "      <td>True</td>\n",
       "      <td>KCA</td>\n",
       "      <td>R</td>\n",
       "      <td>pittj002</td>\n",
       "      <td>...</td>\n",
       "      <td>True</td>\n",
       "      <td>0</td>\n",
       "      <td>0</td>\n",
       "      <td>1997</td>\n",
       "      <td>AL</td>\n",
       "      <td>AL</td>\n",
       "      <td>26.0</td>\n",
       "      <td>26.0</td>\n",
       "      <td>True</td>\n",
       "      <td>True</td>\n",
       "    </tr>\n",
       "    <tr>\n",
       "      <th>1450123</th>\n",
       "      <td>TEX200507200</td>\n",
       "      <td>2005-07-20</td>\n",
       "      <td>RS</td>\n",
       "      <td>0</td>\n",
       "      <td>4</td>\n",
       "      <td>3</td>\n",
       "      <td>True</td>\n",
       "      <td>NYA</td>\n",
       "      <td>R</td>\n",
       "      <td>smala001</td>\n",
       "      <td>...</td>\n",
       "      <td>True</td>\n",
       "      <td>0</td>\n",
       "      <td>0</td>\n",
       "      <td>2005</td>\n",
       "      <td>AL</td>\n",
       "      <td>AL</td>\n",
       "      <td>33.0</td>\n",
       "      <td>29.0</td>\n",
       "      <td>False</td>\n",
       "      <td>True</td>\n",
       "    </tr>\n",
       "    <tr>\n",
       "      <th>99362</th>\n",
       "      <td>CHA199708310</td>\n",
       "      <td>1997-08-31</td>\n",
       "      <td>RS</td>\n",
       "      <td>0</td>\n",
       "      <td>6</td>\n",
       "      <td>2</td>\n",
       "      <td>True</td>\n",
       "      <td>HOU</td>\n",
       "      <td>R</td>\n",
       "      <td>reyns001</td>\n",
       "      <td>...</td>\n",
       "      <td>True</td>\n",
       "      <td>0</td>\n",
       "      <td>0</td>\n",
       "      <td>1997</td>\n",
       "      <td>AL</td>\n",
       "      <td>NL</td>\n",
       "      <td>29.0</td>\n",
       "      <td>31.0</td>\n",
       "      <td>True</td>\n",
       "      <td>False</td>\n",
       "    </tr>\n",
       "    <tr>\n",
       "      <th>1336946</th>\n",
       "      <td>LAN200406170</td>\n",
       "      <td>2004-06-17</td>\n",
       "      <td>RS</td>\n",
       "      <td>0</td>\n",
       "      <td>8</td>\n",
       "      <td>2</td>\n",
       "      <td>True</td>\n",
       "      <td>LAN</td>\n",
       "      <td>L</td>\n",
       "      <td>ishik001</td>\n",
       "      <td>...</td>\n",
       "      <td>True</td>\n",
       "      <td>0</td>\n",
       "      <td>0</td>\n",
       "      <td>2004</td>\n",
       "      <td>AL</td>\n",
       "      <td>NL</td>\n",
       "      <td>30.0</td>\n",
       "      <td>27.0</td>\n",
       "      <td>True</td>\n",
       "      <td>True</td>\n",
       "    </tr>\n",
       "    <tr>\n",
       "      <th>2746743</th>\n",
       "      <td>TOR201207040</td>\n",
       "      <td>2012-07-04</td>\n",
       "      <td>RS</td>\n",
       "      <td>2</td>\n",
       "      <td>5</td>\n",
       "      <td>21</td>\n",
       "      <td>True</td>\n",
       "      <td>TOR</td>\n",
       "      <td>R</td>\n",
       "      <td>villc001</td>\n",
       "      <td>...</td>\n",
       "      <td>True</td>\n",
       "      <td>1</td>\n",
       "      <td>1</td>\n",
       "      <td>2012</td>\n",
       "      <td>AL</td>\n",
       "      <td>AL</td>\n",
       "      <td>27.0</td>\n",
       "      <td>28.0</td>\n",
       "      <td>True</td>\n",
       "      <td>True</td>\n",
       "    </tr>\n",
       "    <tr>\n",
       "      <th>3244627</th>\n",
       "      <td>TBA201405230</td>\n",
       "      <td>2014-05-23</td>\n",
       "      <td>RS</td>\n",
       "      <td>0</td>\n",
       "      <td>3</td>\n",
       "      <td>2</td>\n",
       "      <td>True</td>\n",
       "      <td>TBA</td>\n",
       "      <td>R</td>\n",
       "      <td>archc001</td>\n",
       "      <td>...</td>\n",
       "      <td>True</td>\n",
       "      <td>0</td>\n",
       "      <td>0</td>\n",
       "      <td>2014</td>\n",
       "      <td>AL</td>\n",
       "      <td>AL</td>\n",
       "      <td>29.0</td>\n",
       "      <td>30.0</td>\n",
       "      <td>True</td>\n",
       "      <td>True</td>\n",
       "    </tr>\n",
       "    <tr>\n",
       "      <th>1024365</th>\n",
       "      <td>CIN200207190</td>\n",
       "      <td>2002-07-19</td>\n",
       "      <td>RS</td>\n",
       "      <td>0</td>\n",
       "      <td>4</td>\n",
       "      <td>2</td>\n",
       "      <td>True</td>\n",
       "      <td>CIN</td>\n",
       "      <td>R</td>\n",
       "      <td>fernj002</td>\n",
       "      <td>...</td>\n",
       "      <td>True</td>\n",
       "      <td>0</td>\n",
       "      <td>0</td>\n",
       "      <td>2002</td>\n",
       "      <td>NL</td>\n",
       "      <td>NL</td>\n",
       "      <td>28.0</td>\n",
       "      <td>31.0</td>\n",
       "      <td>True</td>\n",
       "      <td>False</td>\n",
       "    </tr>\n",
       "    <tr>\n",
       "      <th>700175</th>\n",
       "      <td>SFN200006100</td>\n",
       "      <td>2000-06-10</td>\n",
       "      <td>RS</td>\n",
       "      <td>0</td>\n",
       "      <td>3</td>\n",
       "      <td>3</td>\n",
       "      <td>True</td>\n",
       "      <td>SEA</td>\n",
       "      <td>R</td>\n",
       "      <td>abbop001</td>\n",
       "      <td>...</td>\n",
       "      <td>True</td>\n",
       "      <td>0</td>\n",
       "      <td>0</td>\n",
       "      <td>2000</td>\n",
       "      <td>NL</td>\n",
       "      <td>AL</td>\n",
       "      <td>26.0</td>\n",
       "      <td>33.0</td>\n",
       "      <td>True</td>\n",
       "      <td>False</td>\n",
       "    </tr>\n",
       "    <tr>\n",
       "      <th>2646170</th>\n",
       "      <td>SEA201109010</td>\n",
       "      <td>2011-09-01</td>\n",
       "      <td>RS</td>\n",
       "      <td>0</td>\n",
       "      <td>7</td>\n",
       "      <td>2</td>\n",
       "      <td>True</td>\n",
       "      <td>ANA</td>\n",
       "      <td>R</td>\n",
       "      <td>waldj001</td>\n",
       "      <td>...</td>\n",
       "      <td>True</td>\n",
       "      <td>0</td>\n",
       "      <td>0</td>\n",
       "      <td>2011</td>\n",
       "      <td>AL</td>\n",
       "      <td>AL</td>\n",
       "      <td>28.0</td>\n",
       "      <td>31.0</td>\n",
       "      <td>True</td>\n",
       "      <td>False</td>\n",
       "    </tr>\n",
       "    <tr>\n",
       "      <th>3126197</th>\n",
       "      <td>NYN201405100</td>\n",
       "      <td>2014-05-10</td>\n",
       "      <td>RS</td>\n",
       "      <td>1</td>\n",
       "      <td>6</td>\n",
       "      <td>20</td>\n",
       "      <td>True</td>\n",
       "      <td>NYN</td>\n",
       "      <td>R</td>\n",
       "      <td>gee-d001</td>\n",
       "      <td>...</td>\n",
       "      <td>True</td>\n",
       "      <td>1</td>\n",
       "      <td>1</td>\n",
       "      <td>2014</td>\n",
       "      <td>NL</td>\n",
       "      <td>NL</td>\n",
       "      <td>28.0</td>\n",
       "      <td>29.0</td>\n",
       "      <td>True</td>\n",
       "      <td>True</td>\n",
       "    </tr>\n",
       "    <tr>\n",
       "      <th>4170020</th>\n",
       "      <td>PHI202008310</td>\n",
       "      <td>2020-08-31</td>\n",
       "      <td>RS</td>\n",
       "      <td>0</td>\n",
       "      <td>4</td>\n",
       "      <td>2</td>\n",
       "      <td>True</td>\n",
       "      <td>WAS</td>\n",
       "      <td>R</td>\n",
       "      <td>fedde001</td>\n",
       "      <td>...</td>\n",
       "      <td>True</td>\n",
       "      <td>0</td>\n",
       "      <td>0</td>\n",
       "      <td>2020</td>\n",
       "      <td>NL</td>\n",
       "      <td>NL</td>\n",
       "      <td>27.0</td>\n",
       "      <td>25.0</td>\n",
       "      <td>True</td>\n",
       "      <td>True</td>\n",
       "    </tr>\n",
       "    <tr>\n",
       "      <th>3479431</th>\n",
       "      <td>ANA201604270</td>\n",
       "      <td>2016-04-27</td>\n",
       "      <td>RS</td>\n",
       "      <td>0</td>\n",
       "      <td>8</td>\n",
       "      <td>2</td>\n",
       "      <td>True</td>\n",
       "      <td>ANA</td>\n",
       "      <td>R</td>\n",
       "      <td>smitj002</td>\n",
       "      <td>...</td>\n",
       "      <td>True</td>\n",
       "      <td>0</td>\n",
       "      <td>0</td>\n",
       "      <td>2016</td>\n",
       "      <td>AL</td>\n",
       "      <td>AL</td>\n",
       "      <td>31.0</td>\n",
       "      <td>26.0</td>\n",
       "      <td>False</td>\n",
       "      <td>True</td>\n",
       "    </tr>\n",
       "    <tr>\n",
       "      <th>2465422</th>\n",
       "      <td>NYA201009020</td>\n",
       "      <td>2010-09-02</td>\n",
       "      <td>RS</td>\n",
       "      <td>0</td>\n",
       "      <td>5</td>\n",
       "      <td>2</td>\n",
       "      <td>True</td>\n",
       "      <td>NYA</td>\n",
       "      <td>R</td>\n",
       "      <td>albaj001</td>\n",
       "      <td>...</td>\n",
       "      <td>True</td>\n",
       "      <td>0</td>\n",
       "      <td>0</td>\n",
       "      <td>2010</td>\n",
       "      <td>AL</td>\n",
       "      <td>AL</td>\n",
       "      <td>28.0</td>\n",
       "      <td>32.0</td>\n",
       "      <td>True</td>\n",
       "      <td>False</td>\n",
       "    </tr>\n",
       "    <tr>\n",
       "      <th>3669799</th>\n",
       "      <td>CHA201705130</td>\n",
       "      <td>2017-05-13</td>\n",
       "      <td>RS</td>\n",
       "      <td>0</td>\n",
       "      <td>4</td>\n",
       "      <td>2</td>\n",
       "      <td>True</td>\n",
       "      <td>SDN</td>\n",
       "      <td>R</td>\n",
       "      <td>cahit001</td>\n",
       "      <td>...</td>\n",
       "      <td>True</td>\n",
       "      <td>0</td>\n",
       "      <td>0</td>\n",
       "      <td>2017</td>\n",
       "      <td>AL</td>\n",
       "      <td>NL</td>\n",
       "      <td>32.0</td>\n",
       "      <td>28.0</td>\n",
       "      <td>False</td>\n",
       "      <td>True</td>\n",
       "    </tr>\n",
       "  </tbody>\n",
       "</table>\n",
       "<p>20 rows × 23 columns</p>\n",
       "</div>"
      ],
      "text/plain": [
       "              game_id       date game_type  tb_ct  bat_fld_cd  event_cd  \\\n",
       "3024516  WAS201307270 2013-07-27        RS      0           4         2   \n",
       "2760572  OAK201205260 2012-05-26        RS      1          10        20   \n",
       "1075462  CHN200207310 2002-07-31        RS      4           5        23   \n",
       "2864697  NYN201208110 2012-08-11        RS      0           9         3   \n",
       "2754682  OAK201208210 2012-08-21        RS      1           7        20   \n",
       "3429034  ARI201604220 2016-04-22        RS      0          11        18   \n",
       "90326    DET199705070 1997-05-07        RS      0           5         2   \n",
       "1450123  TEX200507200 2005-07-20        RS      0           4         3   \n",
       "99362    CHA199708310 1997-08-31        RS      0           6         2   \n",
       "1336946  LAN200406170 2004-06-17        RS      0           8         2   \n",
       "2746743  TOR201207040 2012-07-04        RS      2           5        21   \n",
       "3244627  TBA201405230 2014-05-23        RS      0           3         2   \n",
       "1024365  CIN200207190 2002-07-19        RS      0           4         2   \n",
       "700175   SFN200006100 2000-06-10        RS      0           3         3   \n",
       "2646170  SEA201109010 2011-09-01        RS      0           7         2   \n",
       "3126197  NYN201405100 2014-05-10        RS      1           6        20   \n",
       "4170020  PHI202008310 2020-08-31        RS      0           4         2   \n",
       "3479431  ANA201604270 2016-04-27        RS      0           8         2   \n",
       "2465422  NYA201009020 2010-09-02        RS      0           5         2   \n",
       "3669799  CHA201705130 2017-05-13        RS      0           4         2   \n",
       "\n",
       "         bat_event_fl fld_team_id pit_hand_cd    pit_id  ... ab_fl h_fl ob_fl  \\\n",
       "3024516          True         WAS           R  hared001  ...  True    0     0   \n",
       "2760572          True         NYA           L  sabac001  ...  True    1     1   \n",
       "1075462          True         CHN           R  zambc001  ...  True    1     1   \n",
       "2864697          True         ATL           R  gearc001  ...  True    0     0   \n",
       "2754682          True         MIN           R  swara001  ...  True    1     1   \n",
       "3429034          True         PIT           L  watst001  ...  True    0     0   \n",
       "90326            True         KCA           R  pittj002  ...  True    0     0   \n",
       "1450123          True         NYA           R  smala001  ...  True    0     0   \n",
       "99362            True         HOU           R  reyns001  ...  True    0     0   \n",
       "1336946          True         LAN           L  ishik001  ...  True    0     0   \n",
       "2746743          True         TOR           R  villc001  ...  True    1     1   \n",
       "3244627          True         TBA           R  archc001  ...  True    0     0   \n",
       "1024365          True         CIN           R  fernj002  ...  True    0     0   \n",
       "700175           True         SEA           R  abbop001  ...  True    0     0   \n",
       "2646170          True         ANA           R  waldj001  ...  True    0     0   \n",
       "3126197          True         NYN           R  gee-d001  ...  True    1     1   \n",
       "4170020          True         WAS           R  fedde001  ...  True    0     0   \n",
       "3479431          True         ANA           R  smitj002  ...  True    0     0   \n",
       "2465422          True         NYA           R  albaj001  ...  True    0     0   \n",
       "3669799          True         SDN           R  cahit001  ...  True    0     0   \n",
       "\n",
       "           yr  bat_lg_id  fld_lg_id  bat_age pit_age bat_prime_age  \\\n",
       "3024516  2013         NL         NL     28.0    28.0          True   \n",
       "2760572  2012         AL         AL     30.0    26.0          True   \n",
       "1075462  2002         NL         NL     44.0    27.0         False   \n",
       "2864697  2012         NL         NL     32.0    33.0         False   \n",
       "2754682  2012         AL         AL     28.0    26.0          True   \n",
       "3429034  2016         NL         NL     30.0    27.0          True   \n",
       "90326    1997         AL         AL     26.0    26.0          True   \n",
       "1450123  2005         AL         AL     33.0    29.0         False   \n",
       "99362    1997         AL         NL     29.0    31.0          True   \n",
       "1336946  2004         AL         NL     30.0    27.0          True   \n",
       "2746743  2012         AL         AL     27.0    28.0          True   \n",
       "3244627  2014         AL         AL     29.0    30.0          True   \n",
       "1024365  2002         NL         NL     28.0    31.0          True   \n",
       "700175   2000         NL         AL     26.0    33.0          True   \n",
       "2646170  2011         AL         AL     28.0    31.0          True   \n",
       "3126197  2014         NL         NL     28.0    29.0          True   \n",
       "4170020  2020         NL         NL     27.0    25.0          True   \n",
       "3479431  2016         AL         AL     31.0    26.0         False   \n",
       "2465422  2010         AL         AL     28.0    32.0          True   \n",
       "3669799  2017         AL         NL     32.0    28.0         False   \n",
       "\n",
       "         pit_prime_age  \n",
       "3024516           True  \n",
       "2760572           True  \n",
       "1075462           True  \n",
       "2864697          False  \n",
       "2754682           True  \n",
       "3429034           True  \n",
       "90326             True  \n",
       "1450123           True  \n",
       "99362            False  \n",
       "1336946           True  \n",
       "2746743           True  \n",
       "3244627           True  \n",
       "1024365          False  \n",
       "700175           False  \n",
       "2646170          False  \n",
       "3126197           True  \n",
       "4170020           True  \n",
       "3479431           True  \n",
       "2465422          False  \n",
       "3669799           True  \n",
       "\n",
       "[20 rows x 23 columns]"
      ]
     },
     "execution_count": 7,
     "metadata": {},
     "output_type": "execute_result"
    }
   ],
   "source": [
    "# Add ages to each PA, to see if perhaps there's a bias of older players in the samples\n",
    "# Also look at whether the player was in \"prime\" age\n",
    "# For now, consider prime to be 24-30\n",
    "ppl = bbl.load_people()\n",
    "bat_birth_yrs = pd.merge(left=pa, right=ppl[['retro_id', 'birth_year']].rename(columns={'retro_id': 'bat_id'}))['birth_year']\n",
    "pit_birth_yrs = pd.merge(left=pa, right=ppl[['retro_id', 'birth_year']].rename(columns={'retro_id': 'pit_id'}))['birth_year']\n",
    "\n",
    "prime_age_range = range(24, 31)\n",
    "pa['bat_age'] = pa['date'].dt.year - bat_birth_yrs\n",
    "pa['pit_age'] = pa['date'].dt.year - pit_birth_yrs\n",
    "pa['bat_prime_age'] = pa['bat_age'].isin(prime_age_range)\n",
    "pa['pit_prime_age'] = pa['pit_age'].isin(prime_age_range)\n",
    "\n",
    "pa.sample(20)"
   ]
  },
  {
   "cell_type": "code",
   "execution_count": null,
   "metadata": {},
   "outputs": [
    {
     "data": {
      "text/plain": [
       "Index(['game_id', 'date', 'game_type', 'tb_ct', 'bat_fld_cd', 'event_cd',\n",
       "       'bat_event_fl', 'fld_team_id', 'pit_hand_cd', 'pit_id', 'bat_team_id',\n",
       "       'bat_hand_cd', 'bat_id', 'ab_fl', 'h_fl', 'ob_fl', 'yr', 'bat_lg_id',\n",
       "       'fld_lg_id', 'bat_age', 'pit_age', 'bat_prime_age', 'pit_prime_age'],\n",
       "      dtype='object')"
      ]
     },
     "execution_count": 8,
     "metadata": {},
     "output_type": "execute_result"
    }
   ],
   "source": [
    "pa.columns"
   ]
  },
  {
   "cell_type": "code",
   "execution_count": null,
   "metadata": {},
   "outputs": [
    {
     "data": {
      "text/html": [
       "<div>\n",
       "<style scoped>\n",
       "    .dataframe tbody tr th:only-of-type {\n",
       "        vertical-align: middle;\n",
       "    }\n",
       "\n",
       "    .dataframe tbody tr th {\n",
       "        vertical-align: top;\n",
       "    }\n",
       "\n",
       "    .dataframe thead th {\n",
       "        text-align: right;\n",
       "    }\n",
       "</style>\n",
       "<table border=\"1\" class=\"dataframe\">\n",
       "  <thead>\n",
       "    <tr style=\"text-align: right;\">\n",
       "      <th></th>\n",
       "      <th></th>\n",
       "      <th>pa</th>\n",
       "      <th>ob</th>\n",
       "      <th>ab</th>\n",
       "      <th>h</th>\n",
       "      <th>tb</th>\n",
       "      <th>k</th>\n",
       "      <th>bb</th>\n",
       "      <th>ibb</th>\n",
       "      <th>hr</th>\n",
       "      <th>ba</th>\n",
       "      <th>obp</th>\n",
       "      <th>slg</th>\n",
       "      <th>woba</th>\n",
       "      <th>k%</th>\n",
       "      <th>bb%</th>\n",
       "      <th>hr%</th>\n",
       "    </tr>\n",
       "    <tr>\n",
       "      <th>bat_lg_id</th>\n",
       "      <th>fld_lg_id</th>\n",
       "      <th></th>\n",
       "      <th></th>\n",
       "      <th></th>\n",
       "      <th></th>\n",
       "      <th></th>\n",
       "      <th></th>\n",
       "      <th></th>\n",
       "      <th></th>\n",
       "      <th></th>\n",
       "      <th></th>\n",
       "      <th></th>\n",
       "      <th></th>\n",
       "      <th></th>\n",
       "      <th></th>\n",
       "      <th></th>\n",
       "      <th></th>\n",
       "    </tr>\n",
       "  </thead>\n",
       "  <tbody>\n",
       "    <tr>\n",
       "      <th rowspan=\"2\" valign=\"top\">AL</th>\n",
       "      <th>AL</th>\n",
       "      <td>1836993</td>\n",
       "      <td>594252</td>\n",
       "      <td>1642851</td>\n",
       "      <td>432120</td>\n",
       "      <td>694173.0</td>\n",
       "      <td>332027</td>\n",
       "      <td>145341</td>\n",
       "      <td>8931</td>\n",
       "      <td>53228</td>\n",
       "      <td>0.263031</td>\n",
       "      <td>0.323492</td>\n",
       "      <td>0.422542</td>\n",
       "      <td>0.315632</td>\n",
       "      <td>0.180745</td>\n",
       "      <td>0.079119</td>\n",
       "      <td>0.028976</td>\n",
       "    </tr>\n",
       "    <tr>\n",
       "      <th>NL</th>\n",
       "      <td>237262</td>\n",
       "      <td>77857</td>\n",
       "      <td>211674</td>\n",
       "      <td>56523</td>\n",
       "      <td>91398.0</td>\n",
       "      <td>42644</td>\n",
       "      <td>19206</td>\n",
       "      <td>1460</td>\n",
       "      <td>7109</td>\n",
       "      <td>0.267029</td>\n",
       "      <td>0.328148</td>\n",
       "      <td>0.431787</td>\n",
       "      <td>0.320515</td>\n",
       "      <td>0.179734</td>\n",
       "      <td>0.080948</td>\n",
       "      <td>0.029963</td>\n",
       "    </tr>\n",
       "    <tr>\n",
       "      <th rowspan=\"2\" valign=\"top\">NL</th>\n",
       "      <th>AL</th>\n",
       "      <td>236497</td>\n",
       "      <td>75454</td>\n",
       "      <td>211985</td>\n",
       "      <td>55246</td>\n",
       "      <td>88442.0</td>\n",
       "      <td>44571</td>\n",
       "      <td>17940</td>\n",
       "      <td>1457</td>\n",
       "      <td>6717</td>\n",
       "      <td>0.260613</td>\n",
       "      <td>0.319048</td>\n",
       "      <td>0.417209</td>\n",
       "      <td>0.310874</td>\n",
       "      <td>0.188463</td>\n",
       "      <td>0.075857</td>\n",
       "      <td>0.028402</td>\n",
       "    </tr>\n",
       "    <tr>\n",
       "      <th>NL</th>\n",
       "      <td>1902217</td>\n",
       "      <td>622525</td>\n",
       "      <td>1690864</td>\n",
       "      <td>448721</td>\n",
       "      <td>721063.0</td>\n",
       "      <td>341740</td>\n",
       "      <td>155667</td>\n",
       "      <td>14917</td>\n",
       "      <td>54002</td>\n",
       "      <td>0.265380</td>\n",
       "      <td>0.327263</td>\n",
       "      <td>0.426446</td>\n",
       "      <td>0.317439</td>\n",
       "      <td>0.179654</td>\n",
       "      <td>0.081835</td>\n",
       "      <td>0.028389</td>\n",
       "    </tr>\n",
       "  </tbody>\n",
       "</table>\n",
       "</div>"
      ],
      "text/plain": [
       "                          pa      ob       ab       h        tb       k  \\\n",
       "bat_lg_id fld_lg_id                                                       \n",
       "AL        AL         1836993  594252  1642851  432120  694173.0  332027   \n",
       "          NL          237262   77857   211674   56523   91398.0   42644   \n",
       "NL        AL          236497   75454   211985   55246   88442.0   44571   \n",
       "          NL         1902217  622525  1690864  448721  721063.0  341740   \n",
       "\n",
       "                         bb    ibb     hr        ba       obp       slg  \\\n",
       "bat_lg_id fld_lg_id                                                       \n",
       "AL        AL         145341   8931  53228  0.263031  0.323492  0.422542   \n",
       "          NL          19206   1460   7109  0.267029  0.328148  0.431787   \n",
       "NL        AL          17940   1457   6717  0.260613  0.319048  0.417209   \n",
       "          NL         155667  14917  54002  0.265380  0.327263  0.426446   \n",
       "\n",
       "                         woba        k%       bb%       hr%  \n",
       "bat_lg_id fld_lg_id                                          \n",
       "AL        AL         0.315632  0.180745  0.079119  0.028976  \n",
       "          NL         0.320515  0.179734  0.080948  0.029963  \n",
       "NL        AL         0.310874  0.188463  0.075857  0.028402  \n",
       "          NL         0.317439  0.179654  0.081835  0.028389  "
      ]
     },
     "execution_count": 9,
     "metadata": {},
     "output_type": "execute_result"
    }
   ],
   "source": [
    "bsu.summarize_events(pa, ['bat_lg_id', 'fld_lg_id'])"
   ]
  },
  {
   "cell_type": "code",
   "execution_count": null,
   "metadata": {},
   "outputs": [
    {
     "data": {
      "text/html": [
       "<div>\n",
       "<style scoped>\n",
       "    .dataframe tbody tr th:only-of-type {\n",
       "        vertical-align: middle;\n",
       "    }\n",
       "\n",
       "    .dataframe tbody tr th {\n",
       "        vertical-align: top;\n",
       "    }\n",
       "\n",
       "    .dataframe thead th {\n",
       "        text-align: right;\n",
       "    }\n",
       "</style>\n",
       "<table border=\"1\" class=\"dataframe\">\n",
       "  <thead>\n",
       "    <tr style=\"text-align: right;\">\n",
       "      <th></th>\n",
       "      <th></th>\n",
       "      <th>pa</th>\n",
       "      <th>ob</th>\n",
       "      <th>ab</th>\n",
       "      <th>h</th>\n",
       "      <th>tb</th>\n",
       "      <th>k</th>\n",
       "      <th>bb</th>\n",
       "      <th>ibb</th>\n",
       "      <th>hr</th>\n",
       "      <th>ba</th>\n",
       "      <th>obp</th>\n",
       "      <th>slg</th>\n",
       "      <th>woba</th>\n",
       "      <th>k%</th>\n",
       "      <th>bb%</th>\n",
       "      <th>hr%</th>\n",
       "    </tr>\n",
       "    <tr>\n",
       "      <th>bat_lg_id</th>\n",
       "      <th>fld_lg_id</th>\n",
       "      <th></th>\n",
       "      <th></th>\n",
       "      <th></th>\n",
       "      <th></th>\n",
       "      <th></th>\n",
       "      <th></th>\n",
       "      <th></th>\n",
       "      <th></th>\n",
       "      <th></th>\n",
       "      <th></th>\n",
       "      <th></th>\n",
       "      <th></th>\n",
       "      <th></th>\n",
       "      <th></th>\n",
       "      <th></th>\n",
       "      <th></th>\n",
       "    </tr>\n",
       "  </thead>\n",
       "  <tbody>\n",
       "    <tr>\n",
       "      <th rowspan=\"2\" valign=\"top\">AL</th>\n",
       "      <th>AL</th>\n",
       "      <td>392723</td>\n",
       "      <td>123395</td>\n",
       "      <td>352725</td>\n",
       "      <td>90293</td>\n",
       "      <td>142424.0</td>\n",
       "      <td>74452</td>\n",
       "      <td>29789</td>\n",
       "      <td>1959</td>\n",
       "      <td>10319</td>\n",
       "      <td>0.255987</td>\n",
       "      <td>0.314204</td>\n",
       "      <td>0.403782</td>\n",
       "      <td>0.304489</td>\n",
       "      <td>0.189579</td>\n",
       "      <td>0.075852</td>\n",
       "      <td>0.026276</td>\n",
       "    </tr>\n",
       "    <tr>\n",
       "      <th>NL</th>\n",
       "      <td>49920</td>\n",
       "      <td>16012</td>\n",
       "      <td>44834</td>\n",
       "      <td>11831</td>\n",
       "      <td>18523.0</td>\n",
       "      <td>8873</td>\n",
       "      <td>3778</td>\n",
       "      <td>305</td>\n",
       "      <td>1325</td>\n",
       "      <td>0.263885</td>\n",
       "      <td>0.320753</td>\n",
       "      <td>0.413146</td>\n",
       "      <td>0.310296</td>\n",
       "      <td>0.177744</td>\n",
       "      <td>0.075681</td>\n",
       "      <td>0.026542</td>\n",
       "    </tr>\n",
       "    <tr>\n",
       "      <th rowspan=\"2\" valign=\"top\">NL</th>\n",
       "      <th>AL</th>\n",
       "      <td>49546</td>\n",
       "      <td>15200</td>\n",
       "      <td>44802</td>\n",
       "      <td>11369</td>\n",
       "      <td>17836.0</td>\n",
       "      <td>9859</td>\n",
       "      <td>3360</td>\n",
       "      <td>315</td>\n",
       "      <td>1230</td>\n",
       "      <td>0.253761</td>\n",
       "      <td>0.306786</td>\n",
       "      <td>0.398107</td>\n",
       "      <td>0.297802</td>\n",
       "      <td>0.198987</td>\n",
       "      <td>0.067816</td>\n",
       "      <td>0.024825</td>\n",
       "    </tr>\n",
       "    <tr>\n",
       "      <th>NL</th>\n",
       "      <td>402796</td>\n",
       "      <td>128129</td>\n",
       "      <td>360878</td>\n",
       "      <td>93783</td>\n",
       "      <td>146575.0</td>\n",
       "      <td>76019</td>\n",
       "      <td>30827</td>\n",
       "      <td>2926</td>\n",
       "      <td>9968</td>\n",
       "      <td>0.259875</td>\n",
       "      <td>0.318099</td>\n",
       "      <td>0.406162</td>\n",
       "      <td>0.306177</td>\n",
       "      <td>0.188728</td>\n",
       "      <td>0.076533</td>\n",
       "      <td>0.024747</td>\n",
       "    </tr>\n",
       "  </tbody>\n",
       "</table>\n",
       "</div>"
      ],
      "text/plain": [
       "                         pa      ob      ab      h        tb      k     bb  \\\n",
       "bat_lg_id fld_lg_id                                                          \n",
       "AL        AL         392723  123395  352725  90293  142424.0  74452  29789   \n",
       "          NL          49920   16012   44834  11831   18523.0   8873   3778   \n",
       "NL        AL          49546   15200   44802  11369   17836.0   9859   3360   \n",
       "          NL         402796  128129  360878  93783  146575.0  76019  30827   \n",
       "\n",
       "                      ibb     hr        ba       obp       slg      woba  \\\n",
       "bat_lg_id fld_lg_id                                                        \n",
       "AL        AL         1959  10319  0.255987  0.314204  0.403782  0.304489   \n",
       "          NL          305   1325  0.263885  0.320753  0.413146  0.310296   \n",
       "NL        AL          315   1230  0.253761  0.306786  0.398107  0.297802   \n",
       "          NL         2926   9968  0.259875  0.318099  0.406162  0.306177   \n",
       "\n",
       "                           k%       bb%       hr%  \n",
       "bat_lg_id fld_lg_id                                \n",
       "AL        AL         0.189579  0.075852  0.026276  \n",
       "          NL         0.177744  0.075681  0.026542  \n",
       "NL        AL         0.198987  0.067816  0.024825  \n",
       "          NL         0.188728  0.076533  0.024747  "
      ]
     },
     "execution_count": 10,
     "metadata": {},
     "output_type": "execute_result"
    }
   ],
   "source": [
    "df = pa[(pa['yr'].isin(range(2010, 2015)))]\n",
    "bsu.summarize_events(df, ['bat_lg_id', 'fld_lg_id'])"
   ]
  },
  {
   "cell_type": "code",
   "execution_count": null,
   "metadata": {},
   "outputs": [
    {
     "data": {
      "text/html": [
       "<div>\n",
       "<style scoped>\n",
       "    .dataframe tbody tr th:only-of-type {\n",
       "        vertical-align: middle;\n",
       "    }\n",
       "\n",
       "    .dataframe tbody tr th {\n",
       "        vertical-align: top;\n",
       "    }\n",
       "\n",
       "    .dataframe thead th {\n",
       "        text-align: right;\n",
       "    }\n",
       "</style>\n",
       "<table border=\"1\" class=\"dataframe\">\n",
       "  <thead>\n",
       "    <tr style=\"text-align: right;\">\n",
       "      <th></th>\n",
       "      <th></th>\n",
       "      <th>pa</th>\n",
       "      <th>ob</th>\n",
       "      <th>ab</th>\n",
       "      <th>h</th>\n",
       "      <th>tb</th>\n",
       "      <th>k</th>\n",
       "      <th>bb</th>\n",
       "      <th>ibb</th>\n",
       "      <th>hr</th>\n",
       "      <th>ba</th>\n",
       "      <th>obp</th>\n",
       "      <th>slg</th>\n",
       "      <th>woba</th>\n",
       "      <th>k%</th>\n",
       "      <th>bb%</th>\n",
       "      <th>hr%</th>\n",
       "    </tr>\n",
       "    <tr>\n",
       "      <th>bat_id</th>\n",
       "      <th>fld_lg_id</th>\n",
       "      <th></th>\n",
       "      <th></th>\n",
       "      <th></th>\n",
       "      <th></th>\n",
       "      <th></th>\n",
       "      <th></th>\n",
       "      <th></th>\n",
       "      <th></th>\n",
       "      <th></th>\n",
       "      <th></th>\n",
       "      <th></th>\n",
       "      <th></th>\n",
       "      <th></th>\n",
       "      <th></th>\n",
       "      <th></th>\n",
       "      <th></th>\n",
       "    </tr>\n",
       "  </thead>\n",
       "  <tbody>\n",
       "    <tr>\n",
       "      <th rowspan=\"2\" valign=\"top\">abada001</th>\n",
       "      <th>AL</th>\n",
       "      <td>20</td>\n",
       "      <td>4</td>\n",
       "      <td>18</td>\n",
       "      <td>2</td>\n",
       "      <td>2</td>\n",
       "      <td>5</td>\n",
       "      <td>2</td>\n",
       "      <td>0</td>\n",
       "      <td>0</td>\n",
       "      <td>0.111111</td>\n",
       "      <td>0.200000</td>\n",
       "      <td>0.111111</td>\n",
       "      <td>0.156400</td>\n",
       "      <td>0.250000</td>\n",
       "      <td>0.100000</td>\n",
       "      <td>0.000000</td>\n",
       "    </tr>\n",
       "    <tr>\n",
       "      <th>NL</th>\n",
       "      <td>5</td>\n",
       "      <td>2</td>\n",
       "      <td>3</td>\n",
       "      <td>0</td>\n",
       "      <td>0</td>\n",
       "      <td>0</td>\n",
       "      <td>2</td>\n",
       "      <td>0</td>\n",
       "      <td>0</td>\n",
       "      <td>0.000000</td>\n",
       "      <td>0.400000</td>\n",
       "      <td>0.000000</td>\n",
       "      <td>0.280800</td>\n",
       "      <td>0.000000</td>\n",
       "      <td>0.400000</td>\n",
       "      <td>0.000000</td>\n",
       "    </tr>\n",
       "    <tr>\n",
       "      <th rowspan=\"2\" valign=\"top\">abboj002</th>\n",
       "      <th>AL</th>\n",
       "      <td>549</td>\n",
       "      <td>160</td>\n",
       "      <td>502</td>\n",
       "      <td>129</td>\n",
       "      <td>209</td>\n",
       "      <td>75</td>\n",
       "      <td>29</td>\n",
       "      <td>2</td>\n",
       "      <td>18</td>\n",
       "      <td>0.256972</td>\n",
       "      <td>0.291439</td>\n",
       "      <td>0.416335</td>\n",
       "      <td>0.294618</td>\n",
       "      <td>0.136612</td>\n",
       "      <td>0.052823</td>\n",
       "      <td>0.032787</td>\n",
       "    </tr>\n",
       "    <tr>\n",
       "      <th>NL</th>\n",
       "      <td>102</td>\n",
       "      <td>36</td>\n",
       "      <td>94</td>\n",
       "      <td>28</td>\n",
       "      <td>39</td>\n",
       "      <td>16</td>\n",
       "      <td>7</td>\n",
       "      <td>0</td>\n",
       "      <td>0</td>\n",
       "      <td>0.297872</td>\n",
       "      <td>0.352941</td>\n",
       "      <td>0.414894</td>\n",
       "      <td>0.331588</td>\n",
       "      <td>0.156863</td>\n",
       "      <td>0.068627</td>\n",
       "      <td>0.000000</td>\n",
       "    </tr>\n",
       "    <tr>\n",
       "      <th>abbok002</th>\n",
       "      <th>AL</th>\n",
       "      <td>208</td>\n",
       "      <td>67</td>\n",
       "      <td>185</td>\n",
       "      <td>50</td>\n",
       "      <td>75</td>\n",
       "      <td>57</td>\n",
       "      <td>15</td>\n",
       "      <td>1</td>\n",
       "      <td>4</td>\n",
       "      <td>0.270270</td>\n",
       "      <td>0.322115</td>\n",
       "      <td>0.405405</td>\n",
       "      <td>0.307159</td>\n",
       "      <td>0.274038</td>\n",
       "      <td>0.072115</td>\n",
       "      <td>0.019231</td>\n",
       "    </tr>\n",
       "    <tr>\n",
       "      <th>...</th>\n",
       "      <th>...</th>\n",
       "      <td>...</td>\n",
       "      <td>...</td>\n",
       "      <td>...</td>\n",
       "      <td>...</td>\n",
       "      <td>...</td>\n",
       "      <td>...</td>\n",
       "      <td>...</td>\n",
       "      <td>...</td>\n",
       "      <td>...</td>\n",
       "      <td>...</td>\n",
       "      <td>...</td>\n",
       "      <td>...</td>\n",
       "      <td>...</td>\n",
       "      <td>...</td>\n",
       "      <td>...</td>\n",
       "      <td>...</td>\n",
       "    </tr>\n",
       "    <tr>\n",
       "      <th>zubej001</th>\n",
       "      <th>NL</th>\n",
       "      <td>47</td>\n",
       "      <td>17</td>\n",
       "      <td>40</td>\n",
       "      <td>10</td>\n",
       "      <td>18</td>\n",
       "      <td>8</td>\n",
       "      <td>6</td>\n",
       "      <td>0</td>\n",
       "      <td>1</td>\n",
       "      <td>0.250000</td>\n",
       "      <td>0.361702</td>\n",
       "      <td>0.450000</td>\n",
       "      <td>0.350936</td>\n",
       "      <td>0.170213</td>\n",
       "      <td>0.127660</td>\n",
       "      <td>0.021277</td>\n",
       "    </tr>\n",
       "    <tr>\n",
       "      <th rowspan=\"2\" valign=\"top\">zulej001</th>\n",
       "      <th>AL</th>\n",
       "      <td>14</td>\n",
       "      <td>4</td>\n",
       "      <td>13</td>\n",
       "      <td>3</td>\n",
       "      <td>4</td>\n",
       "      <td>2</td>\n",
       "      <td>0</td>\n",
       "      <td>0</td>\n",
       "      <td>0</td>\n",
       "      <td>0.230769</td>\n",
       "      <td>0.285714</td>\n",
       "      <td>0.307692</td>\n",
       "      <td>0.261286</td>\n",
       "      <td>0.142857</td>\n",
       "      <td>0.000000</td>\n",
       "      <td>0.000000</td>\n",
       "    </tr>\n",
       "    <tr>\n",
       "      <th>NL</th>\n",
       "      <td>177</td>\n",
       "      <td>54</td>\n",
       "      <td>161</td>\n",
       "      <td>40</td>\n",
       "      <td>77</td>\n",
       "      <td>49</td>\n",
       "      <td>9</td>\n",
       "      <td>1</td>\n",
       "      <td>9</td>\n",
       "      <td>0.248447</td>\n",
       "      <td>0.305085</td>\n",
       "      <td>0.478261</td>\n",
       "      <td>0.325545</td>\n",
       "      <td>0.276836</td>\n",
       "      <td>0.050847</td>\n",
       "      <td>0.050847</td>\n",
       "    </tr>\n",
       "    <tr>\n",
       "      <th rowspan=\"2\" valign=\"top\">zunim001</th>\n",
       "      <th>AL</th>\n",
       "      <td>2137</td>\n",
       "      <td>570</td>\n",
       "      <td>1934</td>\n",
       "      <td>386</td>\n",
       "      <td>767</td>\n",
       "      <td>732</td>\n",
       "      <td>141</td>\n",
       "      <td>0</td>\n",
       "      <td>97</td>\n",
       "      <td>0.199586</td>\n",
       "      <td>0.266729</td>\n",
       "      <td>0.396587</td>\n",
       "      <td>0.282110</td>\n",
       "      <td>0.342536</td>\n",
       "      <td>0.065980</td>\n",
       "      <td>0.045391</td>\n",
       "    </tr>\n",
       "    <tr>\n",
       "      <th>NL</th>\n",
       "      <td>323</td>\n",
       "      <td>90</td>\n",
       "      <td>292</td>\n",
       "      <td>60</td>\n",
       "      <td>109</td>\n",
       "      <td>117</td>\n",
       "      <td>22</td>\n",
       "      <td>1</td>\n",
       "      <td>11</td>\n",
       "      <td>0.205479</td>\n",
       "      <td>0.278638</td>\n",
       "      <td>0.373288</td>\n",
       "      <td>0.280149</td>\n",
       "      <td>0.362229</td>\n",
       "      <td>0.068111</td>\n",
       "      <td>0.034056</td>\n",
       "    </tr>\n",
       "  </tbody>\n",
       "</table>\n",
       "<p>5667 rows × 16 columns</p>\n",
       "</div>"
      ],
      "text/plain": [
       "                      pa   ob    ab    h   tb    k   bb  ibb  hr        ba  \\\n",
       "bat_id   fld_lg_id                                                           \n",
       "abada001 AL           20    4    18    2    2    5    2    0   0  0.111111   \n",
       "         NL            5    2     3    0    0    0    2    0   0  0.000000   \n",
       "abboj002 AL          549  160   502  129  209   75   29    2  18  0.256972   \n",
       "         NL          102   36    94   28   39   16    7    0   0  0.297872   \n",
       "abbok002 AL          208   67   185   50   75   57   15    1   4  0.270270   \n",
       "...                  ...  ...   ...  ...  ...  ...  ...  ...  ..       ...   \n",
       "zubej001 NL           47   17    40   10   18    8    6    0   1  0.250000   \n",
       "zulej001 AL           14    4    13    3    4    2    0    0   0  0.230769   \n",
       "         NL          177   54   161   40   77   49    9    1   9  0.248447   \n",
       "zunim001 AL         2137  570  1934  386  767  732  141    0  97  0.199586   \n",
       "         NL          323   90   292   60  109  117   22    1  11  0.205479   \n",
       "\n",
       "                         obp       slg      woba        k%       bb%       hr%  \n",
       "bat_id   fld_lg_id                                                              \n",
       "abada001 AL         0.200000  0.111111  0.156400  0.250000  0.100000  0.000000  \n",
       "         NL         0.400000  0.000000  0.280800  0.000000  0.400000  0.000000  \n",
       "abboj002 AL         0.291439  0.416335  0.294618  0.136612  0.052823  0.032787  \n",
       "         NL         0.352941  0.414894  0.331588  0.156863  0.068627  0.000000  \n",
       "abbok002 AL         0.322115  0.405405  0.307159  0.274038  0.072115  0.019231  \n",
       "...                      ...       ...       ...       ...       ...       ...  \n",
       "zubej001 NL         0.361702  0.450000  0.350936  0.170213  0.127660  0.021277  \n",
       "zulej001 AL         0.285714  0.307692  0.261286  0.142857  0.000000  0.000000  \n",
       "         NL         0.305085  0.478261  0.325545  0.276836  0.050847  0.050847  \n",
       "zunim001 AL         0.266729  0.396587  0.282110  0.342536  0.065980  0.045391  \n",
       "         NL         0.278638  0.373288  0.280149  0.362229  0.068111  0.034056  \n",
       "\n",
       "[5667 rows x 16 columns]"
      ]
     },
     "execution_count": 11,
     "metadata": {},
     "output_type": "execute_result"
    }
   ],
   "source": [
    "split = bsu.summarize_events(pa, ['bat_id', 'fld_lg_id'])\n",
    "split"
   ]
  },
  {
   "cell_type": "code",
   "execution_count": null,
   "metadata": {},
   "outputs": [
    {
     "data": {
      "text/html": [
       "<div>\n",
       "<style scoped>\n",
       "    .dataframe tbody tr th:only-of-type {\n",
       "        vertical-align: middle;\n",
       "    }\n",
       "\n",
       "    .dataframe tbody tr th {\n",
       "        vertical-align: top;\n",
       "    }\n",
       "\n",
       "    .dataframe thead th {\n",
       "        text-align: right;\n",
       "    }\n",
       "</style>\n",
       "<table border=\"1\" class=\"dataframe\">\n",
       "  <thead>\n",
       "    <tr style=\"text-align: right;\">\n",
       "      <th></th>\n",
       "      <th>min_pa</th>\n",
       "      <th>AL</th>\n",
       "      <th>NL</th>\n",
       "    </tr>\n",
       "    <tr>\n",
       "      <th>bat_id</th>\n",
       "      <th></th>\n",
       "      <th></th>\n",
       "      <th></th>\n",
       "    </tr>\n",
       "  </thead>\n",
       "  <tbody>\n",
       "    <tr>\n",
       "      <th>cahit001</th>\n",
       "      <td>1.0</td>\n",
       "      <td>0.000000</td>\n",
       "      <td>0.000000</td>\n",
       "    </tr>\n",
       "    <tr>\n",
       "      <th>guerg001</th>\n",
       "      <td>1.0</td>\n",
       "      <td>0.862000</td>\n",
       "      <td>0.166706</td>\n",
       "    </tr>\n",
       "    <tr>\n",
       "      <th>gruld001</th>\n",
       "      <td>1.0</td>\n",
       "      <td>0.000000</td>\n",
       "      <td>0.233000</td>\n",
       "    </tr>\n",
       "    <tr>\n",
       "      <th>rohrd001</th>\n",
       "      <td>1.0</td>\n",
       "      <td>0.399000</td>\n",
       "      <td>0.000000</td>\n",
       "    </tr>\n",
       "    <tr>\n",
       "      <th>gregt001</th>\n",
       "      <td>1.0</td>\n",
       "      <td>0.000000</td>\n",
       "      <td>0.302737</td>\n",
       "    </tr>\n",
       "    <tr>\n",
       "      <th>...</th>\n",
       "      <td>...</td>\n",
       "      <td>...</td>\n",
       "      <td>...</td>\n",
       "    </tr>\n",
       "    <tr>\n",
       "      <th>cabro001</th>\n",
       "      <td>4037.0</td>\n",
       "      <td>0.297790</td>\n",
       "      <td>0.297248</td>\n",
       "    </tr>\n",
       "    <tr>\n",
       "      <th>guerv001</th>\n",
       "      <td>4300.0</td>\n",
       "      <td>0.354498</td>\n",
       "      <td>0.369267</td>\n",
       "    </tr>\n",
       "    <tr>\n",
       "      <th>belta001</th>\n",
       "      <td>4440.0</td>\n",
       "      <td>0.332829</td>\n",
       "      <td>0.339237</td>\n",
       "    </tr>\n",
       "    <tr>\n",
       "      <th>pujoa001</th>\n",
       "      <td>4951.0</td>\n",
       "      <td>0.320498</td>\n",
       "      <td>0.387557</td>\n",
       "    </tr>\n",
       "    <tr>\n",
       "      <th>beltc001</th>\n",
       "      <td>5509.0</td>\n",
       "      <td>0.332860</td>\n",
       "      <td>0.353505</td>\n",
       "    </tr>\n",
       "  </tbody>\n",
       "</table>\n",
       "<p>2527 rows × 3 columns</p>\n",
       "</div>"
      ],
      "text/plain": [
       "          min_pa        AL        NL\n",
       "bat_id                              \n",
       "cahit001     1.0  0.000000  0.000000\n",
       "guerg001     1.0  0.862000  0.166706\n",
       "gruld001     1.0  0.000000  0.233000\n",
       "rohrd001     1.0  0.399000  0.000000\n",
       "gregt001     1.0  0.000000  0.302737\n",
       "...          ...       ...       ...\n",
       "cabro001  4037.0  0.297790  0.297248\n",
       "guerv001  4300.0  0.354498  0.369267\n",
       "belta001  4440.0  0.332829  0.339237\n",
       "pujoa001  4951.0  0.320498  0.387557\n",
       "beltc001  5509.0  0.332860  0.353505\n",
       "\n",
       "[2527 rows x 3 columns]"
      ]
     },
     "execution_count": 12,
     "metadata": {},
     "output_type": "execute_result"
    }
   ],
   "source": [
    "def summarize_split(split, stat):\n",
    "    df = split[['pa', stat]].unstack()\n",
    "    min_pa = df['pa'].apply(lambda x: min(x), axis=1).rename('min_pa')\n",
    "    return pd.concat([min_pa, df[stat]], axis=1).dropna()\n",
    "\n",
    "df = summarize_split(split, 'woba')\n",
    "df.sort_values('min_pa')\n"
   ]
  },
  {
   "cell_type": "code",
   "execution_count": null,
   "metadata": {},
   "outputs": [
    {
     "data": {
      "text/plain": [
       "[0.31160036736837976, 0.3171716870611606]"
      ]
     },
     "execution_count": 13,
     "metadata": {},
     "output_type": "execute_result"
    }
   ],
   "source": [
    "[(df['min_pa']*df[lg]).sum()/df['min_pa'].sum() for lg in ['AL', 'NL']]"
   ]
  },
  {
   "cell_type": "code",
   "execution_count": null,
   "metadata": {},
   "outputs": [
    {
     "data": {
      "text/plain": [
       "{'AL': 0.31160036736837976, 'NL': 0.3171716870611606}"
      ]
     },
     "execution_count": 14,
     "metadata": {},
     "output_type": "execute_result"
    }
   ],
   "source": [
    "def compute_overall_split(df_pa, split, stat):\n",
    "    df = summarize_split(bsu.summarize_events(df_pa, split), stat)\n",
    "    return ({lg: (df['min_pa']*df[lg]).sum()/df['min_pa'].sum() for lg in ['AL', 'NL']})\n",
    "\n",
    "compute_overall_split(pa, ['bat_id', 'fld_lg_id'], 'woba')\n"
   ]
  },
  {
   "cell_type": "code",
   "execution_count": null,
   "metadata": {},
   "outputs": [],
   "source": [
    "\n",
    "def compute_splits_windows(df_pa, split, window_size):\n",
    "    stat = 'woba'\n",
    "    def compute_split_range(df_pa, yr):\n",
    "        rng = range(yr, yr+window_size)\n",
    "        return compute_overall_split(df_pa.query('yr in @rng'), split, stat)\n",
    "\n",
    "\n",
    "    yrs = range(df_pa['yr'].min(), df_pa['yr'].max()-window_size+1)\n",
    "    result = pd.DataFrame({yr: compute_split_range(df_pa, yr) for yr in yrs}).T\n",
    "    stacked = result.stack().rename(stat)\n",
    "    stacked.index.names= ['yr', split[1]]\n",
    "    return stacked\n"
   ]
  },
  {
   "cell_type": "code",
   "execution_count": null,
   "metadata": {},
   "outputs": [
    {
     "data": {
      "application/vnd.plotly.v1+json": {
       "config": {
        "plotlyServerURL": "https://plot.ly"
       },
       "data": [
        {
         "hovertemplate": "fld_lg_id=AL<br>yr=%{x}<br>woba=%{y}<extra></extra>",
         "legendgroup": "AL",
         "line": {
          "color": "#636efa",
          "dash": "solid"
         },
         "mode": "lines",
         "name": "AL",
         "orientation": "v",
         "showlegend": true,
         "type": "scatter",
         "x": [
          1997,
          1998,
          1999,
          2000,
          2001,
          2002,
          2003,
          2004,
          2005,
          2006,
          2007,
          2008,
          2009,
          2010,
          2011,
          2012,
          2013,
          2014,
          2015
         ],
         "xaxis": "x",
         "y": [
          0.31990866389370604,
          0.3190147912027111,
          0.31832766429911835,
          0.31559537940413,
          0.31292648342670293,
          0.31339076890023715,
          0.31284621532414425,
          0.3116289423903302,
          0.310870114299942,
          0.31047055872567775,
          0.3071534201134637,
          0.30460863523136045,
          0.3023343095785723,
          0.2992205209706834,
          0.29842873561945915,
          0.30062635707244095,
          0.30286643281230324,
          0.3051604010768752,
          0.3102443412528716
         ],
         "yaxis": "y"
        },
        {
         "hovertemplate": "fld_lg_id=NL<br>yr=%{x}<br>woba=%{y}<extra></extra>",
         "legendgroup": "NL",
         "line": {
          "color": "#EF553B",
          "dash": "solid"
         },
         "mode": "lines",
         "name": "NL",
         "orientation": "v",
         "showlegend": true,
         "type": "scatter",
         "x": [
          1997,
          1998,
          1999,
          2000,
          2001,
          2002,
          2003,
          2004,
          2005,
          2006,
          2007,
          2008,
          2009,
          2010,
          2011,
          2012,
          2013,
          2014,
          2015
         ],
         "xaxis": "x",
         "y": [
          0.3229702215251917,
          0.32213774911437426,
          0.32159674793250553,
          0.31948112348681323,
          0.3183099441089653,
          0.32151293033926404,
          0.32376772679506044,
          0.32364806480387137,
          0.3220832555443399,
          0.3191890436209718,
          0.31324259340001265,
          0.3113797401622766,
          0.30876583590937406,
          0.3059806503720136,
          0.3065182515403056,
          0.30781756497938423,
          0.3104389011536174,
          0.3119165489895487,
          0.3141428453120542
         ],
         "yaxis": "y"
        }
       ],
       "layout": {
        "hovermode": "x",
        "legend": {
         "title": {
          "text": "fld_lg_id"
         },
         "tracegroupgap": 0
        },
        "margin": {
         "t": 60
        },
        "template": {
         "data": {
          "bar": [
           {
            "error_x": {
             "color": "#2a3f5f"
            },
            "error_y": {
             "color": "#2a3f5f"
            },
            "marker": {
             "line": {
              "color": "#E5ECF6",
              "width": 0.5
             }
            },
            "type": "bar"
           }
          ],
          "barpolar": [
           {
            "marker": {
             "line": {
              "color": "#E5ECF6",
              "width": 0.5
             }
            },
            "type": "barpolar"
           }
          ],
          "carpet": [
           {
            "aaxis": {
             "endlinecolor": "#2a3f5f",
             "gridcolor": "white",
             "linecolor": "white",
             "minorgridcolor": "white",
             "startlinecolor": "#2a3f5f"
            },
            "baxis": {
             "endlinecolor": "#2a3f5f",
             "gridcolor": "white",
             "linecolor": "white",
             "minorgridcolor": "white",
             "startlinecolor": "#2a3f5f"
            },
            "type": "carpet"
           }
          ],
          "choropleth": [
           {
            "colorbar": {
             "outlinewidth": 0,
             "ticks": ""
            },
            "type": "choropleth"
           }
          ],
          "contour": [
           {
            "colorbar": {
             "outlinewidth": 0,
             "ticks": ""
            },
            "colorscale": [
             [
              0,
              "#0d0887"
             ],
             [
              0.1111111111111111,
              "#46039f"
             ],
             [
              0.2222222222222222,
              "#7201a8"
             ],
             [
              0.3333333333333333,
              "#9c179e"
             ],
             [
              0.4444444444444444,
              "#bd3786"
             ],
             [
              0.5555555555555556,
              "#d8576b"
             ],
             [
              0.6666666666666666,
              "#ed7953"
             ],
             [
              0.7777777777777778,
              "#fb9f3a"
             ],
             [
              0.8888888888888888,
              "#fdca26"
             ],
             [
              1,
              "#f0f921"
             ]
            ],
            "type": "contour"
           }
          ],
          "contourcarpet": [
           {
            "colorbar": {
             "outlinewidth": 0,
             "ticks": ""
            },
            "type": "contourcarpet"
           }
          ],
          "heatmap": [
           {
            "colorbar": {
             "outlinewidth": 0,
             "ticks": ""
            },
            "colorscale": [
             [
              0,
              "#0d0887"
             ],
             [
              0.1111111111111111,
              "#46039f"
             ],
             [
              0.2222222222222222,
              "#7201a8"
             ],
             [
              0.3333333333333333,
              "#9c179e"
             ],
             [
              0.4444444444444444,
              "#bd3786"
             ],
             [
              0.5555555555555556,
              "#d8576b"
             ],
             [
              0.6666666666666666,
              "#ed7953"
             ],
             [
              0.7777777777777778,
              "#fb9f3a"
             ],
             [
              0.8888888888888888,
              "#fdca26"
             ],
             [
              1,
              "#f0f921"
             ]
            ],
            "type": "heatmap"
           }
          ],
          "heatmapgl": [
           {
            "colorbar": {
             "outlinewidth": 0,
             "ticks": ""
            },
            "colorscale": [
             [
              0,
              "#0d0887"
             ],
             [
              0.1111111111111111,
              "#46039f"
             ],
             [
              0.2222222222222222,
              "#7201a8"
             ],
             [
              0.3333333333333333,
              "#9c179e"
             ],
             [
              0.4444444444444444,
              "#bd3786"
             ],
             [
              0.5555555555555556,
              "#d8576b"
             ],
             [
              0.6666666666666666,
              "#ed7953"
             ],
             [
              0.7777777777777778,
              "#fb9f3a"
             ],
             [
              0.8888888888888888,
              "#fdca26"
             ],
             [
              1,
              "#f0f921"
             ]
            ],
            "type": "heatmapgl"
           }
          ],
          "histogram": [
           {
            "marker": {
             "colorbar": {
              "outlinewidth": 0,
              "ticks": ""
             }
            },
            "type": "histogram"
           }
          ],
          "histogram2d": [
           {
            "colorbar": {
             "outlinewidth": 0,
             "ticks": ""
            },
            "colorscale": [
             [
              0,
              "#0d0887"
             ],
             [
              0.1111111111111111,
              "#46039f"
             ],
             [
              0.2222222222222222,
              "#7201a8"
             ],
             [
              0.3333333333333333,
              "#9c179e"
             ],
             [
              0.4444444444444444,
              "#bd3786"
             ],
             [
              0.5555555555555556,
              "#d8576b"
             ],
             [
              0.6666666666666666,
              "#ed7953"
             ],
             [
              0.7777777777777778,
              "#fb9f3a"
             ],
             [
              0.8888888888888888,
              "#fdca26"
             ],
             [
              1,
              "#f0f921"
             ]
            ],
            "type": "histogram2d"
           }
          ],
          "histogram2dcontour": [
           {
            "colorbar": {
             "outlinewidth": 0,
             "ticks": ""
            },
            "colorscale": [
             [
              0,
              "#0d0887"
             ],
             [
              0.1111111111111111,
              "#46039f"
             ],
             [
              0.2222222222222222,
              "#7201a8"
             ],
             [
              0.3333333333333333,
              "#9c179e"
             ],
             [
              0.4444444444444444,
              "#bd3786"
             ],
             [
              0.5555555555555556,
              "#d8576b"
             ],
             [
              0.6666666666666666,
              "#ed7953"
             ],
             [
              0.7777777777777778,
              "#fb9f3a"
             ],
             [
              0.8888888888888888,
              "#fdca26"
             ],
             [
              1,
              "#f0f921"
             ]
            ],
            "type": "histogram2dcontour"
           }
          ],
          "mesh3d": [
           {
            "colorbar": {
             "outlinewidth": 0,
             "ticks": ""
            },
            "type": "mesh3d"
           }
          ],
          "parcoords": [
           {
            "line": {
             "colorbar": {
              "outlinewidth": 0,
              "ticks": ""
             }
            },
            "type": "parcoords"
           }
          ],
          "pie": [
           {
            "automargin": true,
            "type": "pie"
           }
          ],
          "scatter": [
           {
            "marker": {
             "colorbar": {
              "outlinewidth": 0,
              "ticks": ""
             }
            },
            "type": "scatter"
           }
          ],
          "scatter3d": [
           {
            "line": {
             "colorbar": {
              "outlinewidth": 0,
              "ticks": ""
             }
            },
            "marker": {
             "colorbar": {
              "outlinewidth": 0,
              "ticks": ""
             }
            },
            "type": "scatter3d"
           }
          ],
          "scattercarpet": [
           {
            "marker": {
             "colorbar": {
              "outlinewidth": 0,
              "ticks": ""
             }
            },
            "type": "scattercarpet"
           }
          ],
          "scattergeo": [
           {
            "marker": {
             "colorbar": {
              "outlinewidth": 0,
              "ticks": ""
             }
            },
            "type": "scattergeo"
           }
          ],
          "scattergl": [
           {
            "marker": {
             "colorbar": {
              "outlinewidth": 0,
              "ticks": ""
             }
            },
            "type": "scattergl"
           }
          ],
          "scattermapbox": [
           {
            "marker": {
             "colorbar": {
              "outlinewidth": 0,
              "ticks": ""
             }
            },
            "type": "scattermapbox"
           }
          ],
          "scatterpolar": [
           {
            "marker": {
             "colorbar": {
              "outlinewidth": 0,
              "ticks": ""
             }
            },
            "type": "scatterpolar"
           }
          ],
          "scatterpolargl": [
           {
            "marker": {
             "colorbar": {
              "outlinewidth": 0,
              "ticks": ""
             }
            },
            "type": "scatterpolargl"
           }
          ],
          "scatterternary": [
           {
            "marker": {
             "colorbar": {
              "outlinewidth": 0,
              "ticks": ""
             }
            },
            "type": "scatterternary"
           }
          ],
          "surface": [
           {
            "colorbar": {
             "outlinewidth": 0,
             "ticks": ""
            },
            "colorscale": [
             [
              0,
              "#0d0887"
             ],
             [
              0.1111111111111111,
              "#46039f"
             ],
             [
              0.2222222222222222,
              "#7201a8"
             ],
             [
              0.3333333333333333,
              "#9c179e"
             ],
             [
              0.4444444444444444,
              "#bd3786"
             ],
             [
              0.5555555555555556,
              "#d8576b"
             ],
             [
              0.6666666666666666,
              "#ed7953"
             ],
             [
              0.7777777777777778,
              "#fb9f3a"
             ],
             [
              0.8888888888888888,
              "#fdca26"
             ],
             [
              1,
              "#f0f921"
             ]
            ],
            "type": "surface"
           }
          ],
          "table": [
           {
            "cells": {
             "fill": {
              "color": "#EBF0F8"
             },
             "line": {
              "color": "white"
             }
            },
            "header": {
             "fill": {
              "color": "#C8D4E3"
             },
             "line": {
              "color": "white"
             }
            },
            "type": "table"
           }
          ]
         },
         "layout": {
          "annotationdefaults": {
           "arrowcolor": "#2a3f5f",
           "arrowhead": 0,
           "arrowwidth": 1
          },
          "autotypenumbers": "strict",
          "coloraxis": {
           "colorbar": {
            "outlinewidth": 0,
            "ticks": ""
           }
          },
          "colorscale": {
           "diverging": [
            [
             0,
             "#8e0152"
            ],
            [
             0.1,
             "#c51b7d"
            ],
            [
             0.2,
             "#de77ae"
            ],
            [
             0.3,
             "#f1b6da"
            ],
            [
             0.4,
             "#fde0ef"
            ],
            [
             0.5,
             "#f7f7f7"
            ],
            [
             0.6,
             "#e6f5d0"
            ],
            [
             0.7,
             "#b8e186"
            ],
            [
             0.8,
             "#7fbc41"
            ],
            [
             0.9,
             "#4d9221"
            ],
            [
             1,
             "#276419"
            ]
           ],
           "sequential": [
            [
             0,
             "#0d0887"
            ],
            [
             0.1111111111111111,
             "#46039f"
            ],
            [
             0.2222222222222222,
             "#7201a8"
            ],
            [
             0.3333333333333333,
             "#9c179e"
            ],
            [
             0.4444444444444444,
             "#bd3786"
            ],
            [
             0.5555555555555556,
             "#d8576b"
            ],
            [
             0.6666666666666666,
             "#ed7953"
            ],
            [
             0.7777777777777778,
             "#fb9f3a"
            ],
            [
             0.8888888888888888,
             "#fdca26"
            ],
            [
             1,
             "#f0f921"
            ]
           ],
           "sequentialminus": [
            [
             0,
             "#0d0887"
            ],
            [
             0.1111111111111111,
             "#46039f"
            ],
            [
             0.2222222222222222,
             "#7201a8"
            ],
            [
             0.3333333333333333,
             "#9c179e"
            ],
            [
             0.4444444444444444,
             "#bd3786"
            ],
            [
             0.5555555555555556,
             "#d8576b"
            ],
            [
             0.6666666666666666,
             "#ed7953"
            ],
            [
             0.7777777777777778,
             "#fb9f3a"
            ],
            [
             0.8888888888888888,
             "#fdca26"
            ],
            [
             1,
             "#f0f921"
            ]
           ]
          },
          "colorway": [
           "#636efa",
           "#EF553B",
           "#00cc96",
           "#ab63fa",
           "#FFA15A",
           "#19d3f3",
           "#FF6692",
           "#B6E880",
           "#FF97FF",
           "#FECB52"
          ],
          "font": {
           "color": "#2a3f5f"
          },
          "geo": {
           "bgcolor": "white",
           "lakecolor": "white",
           "landcolor": "#E5ECF6",
           "showlakes": true,
           "showland": true,
           "subunitcolor": "white"
          },
          "hoverlabel": {
           "align": "left"
          },
          "hovermode": "closest",
          "mapbox": {
           "style": "light"
          },
          "paper_bgcolor": "white",
          "plot_bgcolor": "#E5ECF6",
          "polar": {
           "angularaxis": {
            "gridcolor": "white",
            "linecolor": "white",
            "ticks": ""
           },
           "bgcolor": "#E5ECF6",
           "radialaxis": {
            "gridcolor": "white",
            "linecolor": "white",
            "ticks": ""
           }
          },
          "scene": {
           "xaxis": {
            "backgroundcolor": "#E5ECF6",
            "gridcolor": "white",
            "gridwidth": 2,
            "linecolor": "white",
            "showbackground": true,
            "ticks": "",
            "zerolinecolor": "white"
           },
           "yaxis": {
            "backgroundcolor": "#E5ECF6",
            "gridcolor": "white",
            "gridwidth": 2,
            "linecolor": "white",
            "showbackground": true,
            "ticks": "",
            "zerolinecolor": "white"
           },
           "zaxis": {
            "backgroundcolor": "#E5ECF6",
            "gridcolor": "white",
            "gridwidth": 2,
            "linecolor": "white",
            "showbackground": true,
            "ticks": "",
            "zerolinecolor": "white"
           }
          },
          "shapedefaults": {
           "line": {
            "color": "#2a3f5f"
           }
          },
          "ternary": {
           "aaxis": {
            "gridcolor": "white",
            "linecolor": "white",
            "ticks": ""
           },
           "baxis": {
            "gridcolor": "white",
            "linecolor": "white",
            "ticks": ""
           },
           "bgcolor": "#E5ECF6",
           "caxis": {
            "gridcolor": "white",
            "linecolor": "white",
            "ticks": ""
           }
          },
          "title": {
           "x": 0.05
          },
          "xaxis": {
           "automargin": true,
           "gridcolor": "white",
           "linecolor": "white",
           "ticks": "",
           "title": {
            "standoff": 15
           },
           "zerolinecolor": "white",
           "zerolinewidth": 2
          },
          "yaxis": {
           "automargin": true,
           "gridcolor": "white",
           "linecolor": "white",
           "ticks": "",
           "title": {
            "standoff": 15
           },
           "zerolinecolor": "white",
           "zerolinewidth": 2
          }
         }
        },
        "xaxis": {
         "anchor": "y",
         "domain": [
          0,
          1
         ],
         "title": {
          "text": "yr"
         }
        },
        "yaxis": {
         "anchor": "x",
         "domain": [
          0,
          1
         ],
         "title": {
          "text": "woba"
         }
        }
       }
      }
     },
     "metadata": {},
     "output_type": "display_data"
    },
    {
     "data": {
      "text/html": [
       "<div>\n",
       "<style scoped>\n",
       "    .dataframe tbody tr th:only-of-type {\n",
       "        vertical-align: middle;\n",
       "    }\n",
       "\n",
       "    .dataframe tbody tr th {\n",
       "        vertical-align: top;\n",
       "    }\n",
       "\n",
       "    .dataframe thead th {\n",
       "        text-align: right;\n",
       "    }\n",
       "</style>\n",
       "<table border=\"1\" class=\"dataframe\">\n",
       "  <thead>\n",
       "    <tr style=\"text-align: right;\">\n",
       "      <th>fld_lg_id</th>\n",
       "      <th>AL</th>\n",
       "      <th>NL</th>\n",
       "    </tr>\n",
       "    <tr>\n",
       "      <th>yr</th>\n",
       "      <th></th>\n",
       "      <th></th>\n",
       "    </tr>\n",
       "  </thead>\n",
       "  <tbody>\n",
       "    <tr>\n",
       "      <th>1997</th>\n",
       "      <td>0.319909</td>\n",
       "      <td>0.322970</td>\n",
       "    </tr>\n",
       "    <tr>\n",
       "      <th>1998</th>\n",
       "      <td>0.319015</td>\n",
       "      <td>0.322138</td>\n",
       "    </tr>\n",
       "    <tr>\n",
       "      <th>1999</th>\n",
       "      <td>0.318328</td>\n",
       "      <td>0.321597</td>\n",
       "    </tr>\n",
       "    <tr>\n",
       "      <th>2000</th>\n",
       "      <td>0.315595</td>\n",
       "      <td>0.319481</td>\n",
       "    </tr>\n",
       "    <tr>\n",
       "      <th>2001</th>\n",
       "      <td>0.312926</td>\n",
       "      <td>0.318310</td>\n",
       "    </tr>\n",
       "    <tr>\n",
       "      <th>2002</th>\n",
       "      <td>0.313391</td>\n",
       "      <td>0.321513</td>\n",
       "    </tr>\n",
       "    <tr>\n",
       "      <th>2003</th>\n",
       "      <td>0.312846</td>\n",
       "      <td>0.323768</td>\n",
       "    </tr>\n",
       "    <tr>\n",
       "      <th>2004</th>\n",
       "      <td>0.311629</td>\n",
       "      <td>0.323648</td>\n",
       "    </tr>\n",
       "    <tr>\n",
       "      <th>2005</th>\n",
       "      <td>0.310870</td>\n",
       "      <td>0.322083</td>\n",
       "    </tr>\n",
       "    <tr>\n",
       "      <th>2006</th>\n",
       "      <td>0.310471</td>\n",
       "      <td>0.319189</td>\n",
       "    </tr>\n",
       "    <tr>\n",
       "      <th>2007</th>\n",
       "      <td>0.307153</td>\n",
       "      <td>0.313243</td>\n",
       "    </tr>\n",
       "    <tr>\n",
       "      <th>2008</th>\n",
       "      <td>0.304609</td>\n",
       "      <td>0.311380</td>\n",
       "    </tr>\n",
       "    <tr>\n",
       "      <th>2009</th>\n",
       "      <td>0.302334</td>\n",
       "      <td>0.308766</td>\n",
       "    </tr>\n",
       "    <tr>\n",
       "      <th>2010</th>\n",
       "      <td>0.299221</td>\n",
       "      <td>0.305981</td>\n",
       "    </tr>\n",
       "    <tr>\n",
       "      <th>2011</th>\n",
       "      <td>0.298429</td>\n",
       "      <td>0.306518</td>\n",
       "    </tr>\n",
       "    <tr>\n",
       "      <th>2012</th>\n",
       "      <td>0.300626</td>\n",
       "      <td>0.307818</td>\n",
       "    </tr>\n",
       "    <tr>\n",
       "      <th>2013</th>\n",
       "      <td>0.302866</td>\n",
       "      <td>0.310439</td>\n",
       "    </tr>\n",
       "    <tr>\n",
       "      <th>2014</th>\n",
       "      <td>0.305160</td>\n",
       "      <td>0.311917</td>\n",
       "    </tr>\n",
       "    <tr>\n",
       "      <th>2015</th>\n",
       "      <td>0.310244</td>\n",
       "      <td>0.314143</td>\n",
       "    </tr>\n",
       "  </tbody>\n",
       "</table>\n",
       "</div>"
      ],
      "text/plain": [
       "fld_lg_id        AL        NL\n",
       "yr                           \n",
       "1997       0.319909  0.322970\n",
       "1998       0.319015  0.322138\n",
       "1999       0.318328  0.321597\n",
       "2000       0.315595  0.319481\n",
       "2001       0.312926  0.318310\n",
       "2002       0.313391  0.321513\n",
       "2003       0.312846  0.323768\n",
       "2004       0.311629  0.323648\n",
       "2005       0.310870  0.322083\n",
       "2006       0.310471  0.319189\n",
       "2007       0.307153  0.313243\n",
       "2008       0.304609  0.311380\n",
       "2009       0.302334  0.308766\n",
       "2010       0.299221  0.305981\n",
       "2011       0.298429  0.306518\n",
       "2012       0.300626  0.307818\n",
       "2013       0.302866  0.310439\n",
       "2014       0.305160  0.311917\n",
       "2015       0.310244  0.314143"
      ]
     },
     "execution_count": 16,
     "metadata": {},
     "output_type": "execute_result"
    }
   ],
   "source": [
    "\n",
    "# First look at a pool of batters, comparing the pitching/fielding of each league\n",
    "\n",
    "result = compute_splits_windows(pa, split = ['bat_id', 'fld_lg_id'], window_size = 5)\n",
    "fig = px.line(result.reset_index(), x='yr', y='woba', color='fld_lg_id')\n",
    "fig.update_layout(hovermode=\"x\")\n",
    "fig.show()\n",
    "result.unstack()\n",
    "\n",
    "    "
   ]
  },
  {
   "cell_type": "code",
   "execution_count": null,
   "metadata": {},
   "outputs": [
    {
     "data": {
      "text/plain": [
       "<AxesSubplot:xlabel='yr'>"
      ]
     },
     "execution_count": 17,
     "metadata": {},
     "output_type": "execute_result"
    },
    {
     "data": {
      "image/png": "[encoded data removed]",
      "text/plain": [
       "<Figure size 432x288 with 1 Axes>"
      ]
     },
     "metadata": {
      "needs_background": "light"
     },
     "output_type": "display_data"
    }
   ],
   "source": [
    "# The AL's pitchers have been consistently better\n",
    "(result.unstack()['AL']-result.unstack()['NL']).plot.bar()"
   ]
  },
  {
   "cell_type": "code",
   "execution_count": null,
   "metadata": {},
   "outputs": [
    {
     "data": {
      "application/vnd.plotly.v1+json": {
       "config": {
        "plotlyServerURL": "https://plot.ly"
       },
       "data": [
        {
         "hovertemplate": "bat_lg_id=AL<br>yr=%{x}<br>woba=%{y}<extra></extra>",
         "legendgroup": "AL",
         "line": {
          "color": "#636efa",
          "dash": "solid"
         },
         "mode": "lines",
         "name": "AL",
         "orientation": "v",
         "showlegend": true,
         "type": "scatter",
         "x": [
          1997,
          1998,
          1999,
          2000,
          2001,
          2002,
          2003,
          2004,
          2005,
          2006,
          2007,
          2008,
          2009,
          2010,
          2011,
          2012,
          2013,
          2014,
          2015
         ],
         "xaxis": "x",
         "y": [
          0.3294353794262522,
          0.3285635956787948,
          0.3286580041820922,
          0.32625221526424086,
          0.32217428390174063,
          0.32241966406749456,
          0.32436820200492333,
          0.3253457823583936,
          0.3246500365426392,
          0.32298673504667913,
          0.31786718061919156,
          0.315363922875791,
          0.313942779578724,
          0.3090851472862837,
          0.3086894225514537,
          0.3092985866868559,
          0.3103110385567998,
          0.31136023756949277,
          0.3147773094407189
         ],
         "yaxis": "y"
        },
        {
         "hovertemplate": "bat_lg_id=NL<br>yr=%{x}<br>woba=%{y}<extra></extra>",
         "legendgroup": "NL",
         "line": {
          "color": "#EF553B",
          "dash": "solid"
         },
         "mode": "lines",
         "name": "NL",
         "orientation": "v",
         "showlegend": true,
         "type": "scatter",
         "x": [
          1997,
          1998,
          1999,
          2000,
          2001,
          2002,
          2003,
          2004,
          2005,
          2006,
          2007,
          2008,
          2009,
          2010,
          2011,
          2012,
          2013,
          2014,
          2015
         ],
         "xaxis": "x",
         "y": [
          0.32585459583964343,
          0.3236255896254994,
          0.3237187079822444,
          0.32097119052696754,
          0.31625853227701367,
          0.315818015929409,
          0.317683660370831,
          0.31838128312189506,
          0.3170970198926721,
          0.31599710537508097,
          0.3103402616646109,
          0.3071736404632958,
          0.30690155084708404,
          0.3049179404508729,
          0.3043659412929401,
          0.30505078675984687,
          0.30692142176403736,
          0.3090846770694388,
          0.31558171863198015
         ],
         "yaxis": "y"
        }
       ],
       "layout": {
        "hovermode": "x",
        "legend": {
         "title": {
          "text": "bat_lg_id"
         },
         "tracegroupgap": 0
        },
        "margin": {
         "t": 60
        },
        "template": {
         "data": {
          "bar": [
           {
            "error_x": {
             "color": "#2a3f5f"
            },
            "error_y": {
             "color": "#2a3f5f"
            },
            "marker": {
             "line": {
              "color": "#E5ECF6",
              "width": 0.5
             }
            },
            "type": "bar"
           }
          ],
          "barpolar": [
           {
            "marker": {
             "line": {
              "color": "#E5ECF6",
              "width": 0.5
             }
            },
            "type": "barpolar"
           }
          ],
          "carpet": [
           {
            "aaxis": {
             "endlinecolor": "#2a3f5f",
             "gridcolor": "white",
             "linecolor": "white",
             "minorgridcolor": "white",
             "startlinecolor": "#2a3f5f"
            },
            "baxis": {
             "endlinecolor": "#2a3f5f",
             "gridcolor": "white",
             "linecolor": "white",
             "minorgridcolor": "white",
             "startlinecolor": "#2a3f5f"
            },
            "type": "carpet"
           }
          ],
          "choropleth": [
           {
            "colorbar": {
             "outlinewidth": 0,
             "ticks": ""
            },
            "type": "choropleth"
           }
          ],
          "contour": [
           {
            "colorbar": {
             "outlinewidth": 0,
             "ticks": ""
            },
            "colorscale": [
             [
              0,
              "#0d0887"
             ],
             [
              0.1111111111111111,
              "#46039f"
             ],
             [
              0.2222222222222222,
              "#7201a8"
             ],
             [
              0.3333333333333333,
              "#9c179e"
             ],
             [
              0.4444444444444444,
              "#bd3786"
             ],
             [
              0.5555555555555556,
              "#d8576b"
             ],
             [
              0.6666666666666666,
              "#ed7953"
             ],
             [
              0.7777777777777778,
              "#fb9f3a"
             ],
             [
              0.8888888888888888,
              "#fdca26"
             ],
             [
              1,
              "#f0f921"
             ]
            ],
            "type": "contour"
           }
          ],
          "contourcarpet": [
           {
            "colorbar": {
             "outlinewidth": 0,
             "ticks": ""
            },
            "type": "contourcarpet"
           }
          ],
          "heatmap": [
           {
            "colorbar": {
             "outlinewidth": 0,
             "ticks": ""
            },
            "colorscale": [
             [
              0,
              "#0d0887"
             ],
             [
              0.1111111111111111,
              "#46039f"
             ],
             [
              0.2222222222222222,
              "#7201a8"
             ],
             [
              0.3333333333333333,
              "#9c179e"
             ],
             [
              0.4444444444444444,
              "#bd3786"
             ],
             [
              0.5555555555555556,
              "#d8576b"
             ],
             [
              0.6666666666666666,
              "#ed7953"
             ],
             [
              0.7777777777777778,
              "#fb9f3a"
             ],
             [
              0.8888888888888888,
              "#fdca26"
             ],
             [
              1,
              "#f0f921"
             ]
            ],
            "type": "heatmap"
           }
          ],
          "heatmapgl": [
           {
            "colorbar": {
             "outlinewidth": 0,
             "ticks": ""
            },
            "colorscale": [
             [
              0,
              "#0d0887"
             ],
             [
              0.1111111111111111,
              "#46039f"
             ],
             [
              0.2222222222222222,
              "#7201a8"
             ],
             [
              0.3333333333333333,
              "#9c179e"
             ],
             [
              0.4444444444444444,
              "#bd3786"
             ],
             [
              0.5555555555555556,
              "#d8576b"
             ],
             [
              0.6666666666666666,
              "#ed7953"
             ],
             [
              0.7777777777777778,
              "#fb9f3a"
             ],
             [
              0.8888888888888888,
              "#fdca26"
             ],
             [
              1,
              "#f0f921"
             ]
            ],
            "type": "heatmapgl"
           }
          ],
          "histogram": [
           {
            "marker": {
             "colorbar": {
              "outlinewidth": 0,
              "ticks": ""
             }
            },
            "type": "histogram"
           }
          ],
          "histogram2d": [
           {
            "colorbar": {
             "outlinewidth": 0,
             "ticks": ""
            },
            "colorscale": [
             [
              0,
              "#0d0887"
             ],
             [
              0.1111111111111111,
              "#46039f"
             ],
             [
              0.2222222222222222,
              "#7201a8"
             ],
             [
              0.3333333333333333,
              "#9c179e"
             ],
             [
              0.4444444444444444,
              "#bd3786"
             ],
             [
              0.5555555555555556,
              "#d8576b"
             ],
             [
              0.6666666666666666,
              "#ed7953"
             ],
             [
              0.7777777777777778,
              "#fb9f3a"
             ],
             [
              0.8888888888888888,
              "#fdca26"
             ],
             [
              1,
              "#f0f921"
             ]
            ],
            "type": "histogram2d"
           }
          ],
          "histogram2dcontour": [
           {
            "colorbar": {
             "outlinewidth": 0,
             "ticks": ""
            },
            "colorscale": [
             [
              0,
              "#0d0887"
             ],
             [
              0.1111111111111111,
              "#46039f"
             ],
             [
              0.2222222222222222,
              "#7201a8"
             ],
             [
              0.3333333333333333,
              "#9c179e"
             ],
             [
              0.4444444444444444,
              "#bd3786"
             ],
             [
              0.5555555555555556,
              "#d8576b"
             ],
             [
              0.6666666666666666,
              "#ed7953"
             ],
             [
              0.7777777777777778,
              "#fb9f3a"
             ],
             [
              0.8888888888888888,
              "#fdca26"
             ],
             [
              1,
              "#f0f921"
             ]
            ],
            "type": "histogram2dcontour"
           }
          ],
          "mesh3d": [
           {
            "colorbar": {
             "outlinewidth": 0,
             "ticks": ""
            },
            "type": "mesh3d"
           }
          ],
          "parcoords": [
           {
            "line": {
             "colorbar": {
              "outlinewidth": 0,
              "ticks": ""
             }
            },
            "type": "parcoords"
           }
          ],
          "pie": [
           {
            "automargin": true,
            "type": "pie"
           }
          ],
          "scatter": [
           {
            "marker": {
             "colorbar": {
              "outlinewidth": 0,
              "ticks": ""
             }
            },
            "type": "scatter"
           }
          ],
          "scatter3d": [
           {
            "line": {
             "colorbar": {
              "outlinewidth": 0,
              "ticks": ""
             }
            },
            "marker": {
             "colorbar": {
              "outlinewidth": 0,
              "ticks": ""
             }
            },
            "type": "scatter3d"
           }
          ],
          "scattercarpet": [
           {
            "marker": {
             "colorbar": {
              "outlinewidth": 0,
              "ticks": ""
             }
            },
            "type": "scattercarpet"
           }
          ],
          "scattergeo": [
           {
            "marker": {
             "colorbar": {
              "outlinewidth": 0,
              "ticks": ""
             }
            },
            "type": "scattergeo"
           }
          ],
          "scattergl": [
           {
            "marker": {
             "colorbar": {
              "outlinewidth": 0,
              "ticks": ""
             }
            },
            "type": "scattergl"
           }
          ],
          "scattermapbox": [
           {
            "marker": {
             "colorbar": {
              "outlinewidth": 0,
              "ticks": ""
             }
            },
            "type": "scattermapbox"
           }
          ],
          "scatterpolar": [
           {
            "marker": {
             "colorbar": {
              "outlinewidth": 0,
              "ticks": ""
             }
            },
            "type": "scatterpolar"
           }
          ],
          "scatterpolargl": [
           {
            "marker": {
             "colorbar": {
              "outlinewidth": 0,
              "ticks": ""
             }
            },
            "type": "scatterpolargl"
           }
          ],
          "scatterternary": [
           {
            "marker": {
             "colorbar": {
              "outlinewidth": 0,
              "ticks": ""
             }
            },
            "type": "scatterternary"
           }
          ],
          "surface": [
           {
            "colorbar": {
             "outlinewidth": 0,
             "ticks": ""
            },
            "colorscale": [
             [
              0,
              "#0d0887"
             ],
             [
              0.1111111111111111,
              "#46039f"
             ],
             [
              0.2222222222222222,
              "#7201a8"
             ],
             [
              0.3333333333333333,
              "#9c179e"
             ],
             [
              0.4444444444444444,
              "#bd3786"
             ],
             [
              0.5555555555555556,
              "#d8576b"
             ],
             [
              0.6666666666666666,
              "#ed7953"
             ],
             [
              0.7777777777777778,
              "#fb9f3a"
             ],
             [
              0.8888888888888888,
              "#fdca26"
             ],
             [
              1,
              "#f0f921"
             ]
            ],
            "type": "surface"
           }
          ],
          "table": [
           {
            "cells": {
             "fill": {
              "color": "#EBF0F8"
             },
             "line": {
              "color": "white"
             }
            },
            "header": {
             "fill": {
              "color": "#C8D4E3"
             },
             "line": {
              "color": "white"
             }
            },
            "type": "table"
           }
          ]
         },
         "layout": {
          "annotationdefaults": {
           "arrowcolor": "#2a3f5f",
           "arrowhead": 0,
           "arrowwidth": 1
          },
          "autotypenumbers": "strict",
          "coloraxis": {
           "colorbar": {
            "outlinewidth": 0,
            "ticks": ""
           }
          },
          "colorscale": {
           "diverging": [
            [
             0,
             "#8e0152"
            ],
            [
             0.1,
             "#c51b7d"
            ],
            [
             0.2,
             "#de77ae"
            ],
            [
             0.3,
             "#f1b6da"
            ],
            [
             0.4,
             "#fde0ef"
            ],
            [
             0.5,
             "#f7f7f7"
            ],
            [
             0.6,
             "#e6f5d0"
            ],
            [
             0.7,
             "#b8e186"
            ],
            [
             0.8,
             "#7fbc41"
            ],
            [
             0.9,
             "#4d9221"
            ],
            [
             1,
             "#276419"
            ]
           ],
           "sequential": [
            [
             0,
             "#0d0887"
            ],
            [
             0.1111111111111111,
             "#46039f"
            ],
            [
             0.2222222222222222,
             "#7201a8"
            ],
            [
             0.3333333333333333,
             "#9c179e"
            ],
            [
             0.4444444444444444,
             "#bd3786"
            ],
            [
             0.5555555555555556,
             "#d8576b"
            ],
            [
             0.6666666666666666,
             "#ed7953"
            ],
            [
             0.7777777777777778,
             "#fb9f3a"
            ],
            [
             0.8888888888888888,
             "#fdca26"
            ],
            [
             1,
             "#f0f921"
            ]
           ],
           "sequentialminus": [
            [
             0,
             "#0d0887"
            ],
            [
             0.1111111111111111,
             "#46039f"
            ],
            [
             0.2222222222222222,
             "#7201a8"
            ],
            [
             0.3333333333333333,
             "#9c179e"
            ],
            [
             0.4444444444444444,
             "#bd3786"
            ],
            [
             0.5555555555555556,
             "#d8576b"
            ],
            [
             0.6666666666666666,
             "#ed7953"
            ],
            [
             0.7777777777777778,
             "#fb9f3a"
            ],
            [
             0.8888888888888888,
             "#fdca26"
            ],
            [
             1,
             "#f0f921"
            ]
           ]
          },
          "colorway": [
           "#636efa",
           "#EF553B",
           "#00cc96",
           "#ab63fa",
           "#FFA15A",
           "#19d3f3",
           "#FF6692",
           "#B6E880",
           "#FF97FF",
           "#FECB52"
          ],
          "font": {
           "color": "#2a3f5f"
          },
          "geo": {
           "bgcolor": "white",
           "lakecolor": "white",
           "landcolor": "#E5ECF6",
           "showlakes": true,
           "showland": true,
           "subunitcolor": "white"
          },
          "hoverlabel": {
           "align": "left"
          },
          "hovermode": "closest",
          "mapbox": {
           "style": "light"
          },
          "paper_bgcolor": "white",
          "plot_bgcolor": "#E5ECF6",
          "polar": {
           "angularaxis": {
            "gridcolor": "white",
            "linecolor": "white",
            "ticks": ""
           },
           "bgcolor": "#E5ECF6",
           "radialaxis": {
            "gridcolor": "white",
            "linecolor": "white",
            "ticks": ""
           }
          },
          "scene": {
           "xaxis": {
            "backgroundcolor": "#E5ECF6",
            "gridcolor": "white",
            "gridwidth": 2,
            "linecolor": "white",
            "showbackground": true,
            "ticks": "",
            "zerolinecolor": "white"
           },
           "yaxis": {
            "backgroundcolor": "#E5ECF6",
            "gridcolor": "white",
            "gridwidth": 2,
            "linecolor": "white",
            "showbackground": true,
            "ticks": "",
            "zerolinecolor": "white"
           },
           "zaxis": {
            "backgroundcolor": "#E5ECF6",
            "gridcolor": "white",
            "gridwidth": 2,
            "linecolor": "white",
            "showbackground": true,
            "ticks": "",
            "zerolinecolor": "white"
           }
          },
          "shapedefaults": {
           "line": {
            "color": "#2a3f5f"
           }
          },
          "ternary": {
           "aaxis": {
            "gridcolor": "white",
            "linecolor": "white",
            "ticks": ""
           },
           "baxis": {
            "gridcolor": "white",
            "linecolor": "white",
            "ticks": ""
           },
           "bgcolor": "#E5ECF6",
           "caxis": {
            "gridcolor": "white",
            "linecolor": "white",
            "ticks": ""
           }
          },
          "title": {
           "x": 0.05
          },
          "xaxis": {
           "automargin": true,
           "gridcolor": "white",
           "linecolor": "white",
           "ticks": "",
           "title": {
            "standoff": 15
           },
           "zerolinecolor": "white",
           "zerolinewidth": 2
          },
          "yaxis": {
           "automargin": true,
           "gridcolor": "white",
           "linecolor": "white",
           "ticks": "",
           "title": {
            "standoff": 15
           },
           "zerolinecolor": "white",
           "zerolinewidth": 2
          }
         }
        },
        "xaxis": {
         "anchor": "y",
         "domain": [
          0,
          1
         ],
         "title": {
          "text": "yr"
         }
        },
        "yaxis": {
         "anchor": "x",
         "domain": [
          0,
          1
         ],
         "title": {
          "text": "woba"
         }
        }
       }
      }
     },
     "metadata": {},
     "output_type": "display_data"
    },
    {
     "data": {
      "text/html": [
       "<div>\n",
       "<style scoped>\n",
       "    .dataframe tbody tr th:only-of-type {\n",
       "        vertical-align: middle;\n",
       "    }\n",
       "\n",
       "    .dataframe tbody tr th {\n",
       "        vertical-align: top;\n",
       "    }\n",
       "\n",
       "    .dataframe thead th {\n",
       "        text-align: right;\n",
       "    }\n",
       "</style>\n",
       "<table border=\"1\" class=\"dataframe\">\n",
       "  <thead>\n",
       "    <tr style=\"text-align: right;\">\n",
       "      <th>bat_lg_id</th>\n",
       "      <th>AL</th>\n",
       "      <th>NL</th>\n",
       "    </tr>\n",
       "    <tr>\n",
       "      <th>yr</th>\n",
       "      <th></th>\n",
       "      <th></th>\n",
       "    </tr>\n",
       "  </thead>\n",
       "  <tbody>\n",
       "    <tr>\n",
       "      <th>1997</th>\n",
       "      <td>0.329435</td>\n",
       "      <td>0.325855</td>\n",
       "    </tr>\n",
       "    <tr>\n",
       "      <th>1998</th>\n",
       "      <td>0.328564</td>\n",
       "      <td>0.323626</td>\n",
       "    </tr>\n",
       "    <tr>\n",
       "      <th>1999</th>\n",
       "      <td>0.328658</td>\n",
       "      <td>0.323719</td>\n",
       "    </tr>\n",
       "    <tr>\n",
       "      <th>2000</th>\n",
       "      <td>0.326252</td>\n",
       "      <td>0.320971</td>\n",
       "    </tr>\n",
       "    <tr>\n",
       "      <th>2001</th>\n",
       "      <td>0.322174</td>\n",
       "      <td>0.316259</td>\n",
       "    </tr>\n",
       "    <tr>\n",
       "      <th>2002</th>\n",
       "      <td>0.322420</td>\n",
       "      <td>0.315818</td>\n",
       "    </tr>\n",
       "    <tr>\n",
       "      <th>2003</th>\n",
       "      <td>0.324368</td>\n",
       "      <td>0.317684</td>\n",
       "    </tr>\n",
       "    <tr>\n",
       "      <th>2004</th>\n",
       "      <td>0.325346</td>\n",
       "      <td>0.318381</td>\n",
       "    </tr>\n",
       "    <tr>\n",
       "      <th>2005</th>\n",
       "      <td>0.324650</td>\n",
       "      <td>0.317097</td>\n",
       "    </tr>\n",
       "    <tr>\n",
       "      <th>2006</th>\n",
       "      <td>0.322987</td>\n",
       "      <td>0.315997</td>\n",
       "    </tr>\n",
       "    <tr>\n",
       "      <th>2007</th>\n",
       "      <td>0.317867</td>\n",
       "      <td>0.310340</td>\n",
       "    </tr>\n",
       "    <tr>\n",
       "      <th>2008</th>\n",
       "      <td>0.315364</td>\n",
       "      <td>0.307174</td>\n",
       "    </tr>\n",
       "    <tr>\n",
       "      <th>2009</th>\n",
       "      <td>0.313943</td>\n",
       "      <td>0.306902</td>\n",
       "    </tr>\n",
       "    <tr>\n",
       "      <th>2010</th>\n",
       "      <td>0.309085</td>\n",
       "      <td>0.304918</td>\n",
       "    </tr>\n",
       "    <tr>\n",
       "      <th>2011</th>\n",
       "      <td>0.308689</td>\n",
       "      <td>0.304366</td>\n",
       "    </tr>\n",
       "    <tr>\n",
       "      <th>2012</th>\n",
       "      <td>0.309299</td>\n",
       "      <td>0.305051</td>\n",
       "    </tr>\n",
       "    <tr>\n",
       "      <th>2013</th>\n",
       "      <td>0.310311</td>\n",
       "      <td>0.306921</td>\n",
       "    </tr>\n",
       "    <tr>\n",
       "      <th>2014</th>\n",
       "      <td>0.311360</td>\n",
       "      <td>0.309085</td>\n",
       "    </tr>\n",
       "    <tr>\n",
       "      <th>2015</th>\n",
       "      <td>0.314777</td>\n",
       "      <td>0.315582</td>\n",
       "    </tr>\n",
       "  </tbody>\n",
       "</table>\n",
       "</div>"
      ],
      "text/plain": [
       "bat_lg_id        AL        NL\n",
       "yr                           \n",
       "1997       0.329435  0.325855\n",
       "1998       0.328564  0.323626\n",
       "1999       0.328658  0.323719\n",
       "2000       0.326252  0.320971\n",
       "2001       0.322174  0.316259\n",
       "2002       0.322420  0.315818\n",
       "2003       0.324368  0.317684\n",
       "2004       0.325346  0.318381\n",
       "2005       0.324650  0.317097\n",
       "2006       0.322987  0.315997\n",
       "2007       0.317867  0.310340\n",
       "2008       0.315364  0.307174\n",
       "2009       0.313943  0.306902\n",
       "2010       0.309085  0.304918\n",
       "2011       0.308689  0.304366\n",
       "2012       0.309299  0.305051\n",
       "2013       0.310311  0.306921\n",
       "2014       0.311360  0.309085\n",
       "2015       0.314777  0.315582"
      ]
     },
     "execution_count": 18,
     "metadata": {},
     "output_type": "execute_result"
    }
   ],
   "source": [
    "# Now look at a pool of pitchers, comparing the offenses of each league\n",
    "\n",
    "result = compute_splits_windows(pa, split = ['pit_id', 'bat_lg_id'], window_size = 5)\n",
    "fig = px.line(result.reset_index(), x='yr', y='woba', color='bat_lg_id')\n",
    "fig.update_layout(hovermode=\"x\")\n",
    "fig.show()\n",
    "result.unstack()"
   ]
  },
  {
   "cell_type": "code",
   "execution_count": null,
   "metadata": {},
   "outputs": [
    {
     "data": {
      "application/vnd.plotly.v1+json": {
       "config": {
        "plotlyServerURL": "https://plot.ly"
       },
       "data": [
        {
         "hovertemplate": "bat_lg_id=AL<br>yr=%{x}<br>woba=%{y}<extra></extra>",
         "legendgroup": "AL",
         "line": {
          "color": "#636efa",
          "dash": "solid"
         },
         "mode": "lines",
         "name": "AL",
         "orientation": "v",
         "showlegend": true,
         "type": "scatter",
         "x": [
          1997,
          1998,
          1999,
          2000,
          2001,
          2002,
          2003,
          2004,
          2005,
          2006,
          2007,
          2008,
          2009,
          2010,
          2011,
          2012,
          2013,
          2014,
          2015
         ],
         "xaxis": "x",
         "y": [
          0.3254115294900806,
          0.32537796057329604,
          0.3262733660873246,
          0.3249873547642843,
          0.3210179738873258,
          0.32058411002705545,
          0.32244641537638874,
          0.3233013820772773,
          0.3222445406574825,
          0.3199769924180325,
          0.3142548400041935,
          0.31257510213068185,
          0.3119849049062745,
          0.3072466162508034,
          0.30690993130071936,
          0.3076215681622317,
          0.3087553963612052,
          0.30922010206582895,
          0.3129297668985675
         ],
         "yaxis": "y"
        },
        {
         "hovertemplate": "bat_lg_id=NL<br>yr=%{x}<br>woba=%{y}<extra></extra>",
         "legendgroup": "NL",
         "line": {
          "color": "#EF553B",
          "dash": "solid"
         },
         "mode": "lines",
         "name": "NL",
         "orientation": "v",
         "showlegend": true,
         "type": "scatter",
         "x": [
          1997,
          1998,
          1999,
          2000,
          2001,
          2002,
          2003,
          2004,
          2005,
          2006,
          2007,
          2008,
          2009,
          2010,
          2011,
          2012,
          2013,
          2014,
          2015
         ],
         "xaxis": "x",
         "y": [
          0.3253811565286085,
          0.3222383137003094,
          0.3221377886020789,
          0.3194126488959534,
          0.3149655346578199,
          0.31509415770769805,
          0.31808084422027977,
          0.3193917678301804,
          0.31812499276235107,
          0.31690347775890637,
          0.31070130807430946,
          0.30717584202978154,
          0.30635757041594325,
          0.30489842669165873,
          0.30416828235294674,
          0.30526317328431224,
          0.307473240283283,
          0.310127842291211,
          0.3164564300772492
         ],
         "yaxis": "y"
        }
       ],
       "layout": {
        "hovermode": "x",
        "legend": {
         "title": {
          "text": "bat_lg_id"
         },
         "tracegroupgap": 0
        },
        "margin": {
         "t": 60
        },
        "template": {
         "data": {
          "bar": [
           {
            "error_x": {
             "color": "#2a3f5f"
            },
            "error_y": {
             "color": "#2a3f5f"
            },
            "marker": {
             "line": {
              "color": "#E5ECF6",
              "width": 0.5
             }
            },
            "type": "bar"
           }
          ],
          "barpolar": [
           {
            "marker": {
             "line": {
              "color": "#E5ECF6",
              "width": 0.5
             }
            },
            "type": "barpolar"
           }
          ],
          "carpet": [
           {
            "aaxis": {
             "endlinecolor": "#2a3f5f",
             "gridcolor": "white",
             "linecolor": "white",
             "minorgridcolor": "white",
             "startlinecolor": "#2a3f5f"
            },
            "baxis": {
             "endlinecolor": "#2a3f5f",
             "gridcolor": "white",
             "linecolor": "white",
             "minorgridcolor": "white",
             "startlinecolor": "#2a3f5f"
            },
            "type": "carpet"
           }
          ],
          "choropleth": [
           {
            "colorbar": {
             "outlinewidth": 0,
             "ticks": ""
            },
            "type": "choropleth"
           }
          ],
          "contour": [
           {
            "colorbar": {
             "outlinewidth": 0,
             "ticks": ""
            },
            "colorscale": [
             [
              0,
              "#0d0887"
             ],
             [
              0.1111111111111111,
              "#46039f"
             ],
             [
              0.2222222222222222,
              "#7201a8"
             ],
             [
              0.3333333333333333,
              "#9c179e"
             ],
             [
              0.4444444444444444,
              "#bd3786"
             ],
             [
              0.5555555555555556,
              "#d8576b"
             ],
             [
              0.6666666666666666,
              "#ed7953"
             ],
             [
              0.7777777777777778,
              "#fb9f3a"
             ],
             [
              0.8888888888888888,
              "#fdca26"
             ],
             [
              1,
              "#f0f921"
             ]
            ],
            "type": "contour"
           }
          ],
          "contourcarpet": [
           {
            "colorbar": {
             "outlinewidth": 0,
             "ticks": ""
            },
            "type": "contourcarpet"
           }
          ],
          "heatmap": [
           {
            "colorbar": {
             "outlinewidth": 0,
             "ticks": ""
            },
            "colorscale": [
             [
              0,
              "#0d0887"
             ],
             [
              0.1111111111111111,
              "#46039f"
             ],
             [
              0.2222222222222222,
              "#7201a8"
             ],
             [
              0.3333333333333333,
              "#9c179e"
             ],
             [
              0.4444444444444444,
              "#bd3786"
             ],
             [
              0.5555555555555556,
              "#d8576b"
             ],
             [
              0.6666666666666666,
              "#ed7953"
             ],
             [
              0.7777777777777778,
              "#fb9f3a"
             ],
             [
              0.8888888888888888,
              "#fdca26"
             ],
             [
              1,
              "#f0f921"
             ]
            ],
            "type": "heatmap"
           }
          ],
          "heatmapgl": [
           {
            "colorbar": {
             "outlinewidth": 0,
             "ticks": ""
            },
            "colorscale": [
             [
              0,
              "#0d0887"
             ],
             [
              0.1111111111111111,
              "#46039f"
             ],
             [
              0.2222222222222222,
              "#7201a8"
             ],
             [
              0.3333333333333333,
              "#9c179e"
             ],
             [
              0.4444444444444444,
              "#bd3786"
             ],
             [
              0.5555555555555556,
              "#d8576b"
             ],
             [
              0.6666666666666666,
              "#ed7953"
             ],
             [
              0.7777777777777778,
              "#fb9f3a"
             ],
             [
              0.8888888888888888,
              "#fdca26"
             ],
             [
              1,
              "#f0f921"
             ]
            ],
            "type": "heatmapgl"
           }
          ],
          "histogram": [
           {
            "marker": {
             "colorbar": {
              "outlinewidth": 0,
              "ticks": ""
             }
            },
            "type": "histogram"
           }
          ],
          "histogram2d": [
           {
            "colorbar": {
             "outlinewidth": 0,
             "ticks": ""
            },
            "colorscale": [
             [
              0,
              "#0d0887"
             ],
             [
              0.1111111111111111,
              "#46039f"
             ],
             [
              0.2222222222222222,
              "#7201a8"
             ],
             [
              0.3333333333333333,
              "#9c179e"
             ],
             [
              0.4444444444444444,
              "#bd3786"
             ],
             [
              0.5555555555555556,
              "#d8576b"
             ],
             [
              0.6666666666666666,
              "#ed7953"
             ],
             [
              0.7777777777777778,
              "#fb9f3a"
             ],
             [
              0.8888888888888888,
              "#fdca26"
             ],
             [
              1,
              "#f0f921"
             ]
            ],
            "type": "histogram2d"
           }
          ],
          "histogram2dcontour": [
           {
            "colorbar": {
             "outlinewidth": 0,
             "ticks": ""
            },
            "colorscale": [
             [
              0,
              "#0d0887"
             ],
             [
              0.1111111111111111,
              "#46039f"
             ],
             [
              0.2222222222222222,
              "#7201a8"
             ],
             [
              0.3333333333333333,
              "#9c179e"
             ],
             [
              0.4444444444444444,
              "#bd3786"
             ],
             [
              0.5555555555555556,
              "#d8576b"
             ],
             [
              0.6666666666666666,
              "#ed7953"
             ],
             [
              0.7777777777777778,
              "#fb9f3a"
             ],
             [
              0.8888888888888888,
              "#fdca26"
             ],
             [
              1,
              "#f0f921"
             ]
            ],
            "type": "histogram2dcontour"
           }
          ],
          "mesh3d": [
           {
            "colorbar": {
             "outlinewidth": 0,
             "ticks": ""
            },
            "type": "mesh3d"
           }
          ],
          "parcoords": [
           {
            "line": {
             "colorbar": {
              "outlinewidth": 0,
              "ticks": ""
             }
            },
            "type": "parcoords"
           }
          ],
          "pie": [
           {
            "automargin": true,
            "type": "pie"
           }
          ],
          "scatter": [
           {
            "marker": {
             "colorbar": {
              "outlinewidth": 0,
              "ticks": ""
             }
            },
            "type": "scatter"
           }
          ],
          "scatter3d": [
           {
            "line": {
             "colorbar": {
              "outlinewidth": 0,
              "ticks": ""
             }
            },
            "marker": {
             "colorbar": {
              "outlinewidth": 0,
              "ticks": ""
             }
            },
            "type": "scatter3d"
           }
          ],
          "scattercarpet": [
           {
            "marker": {
             "colorbar": {
              "outlinewidth": 0,
              "ticks": ""
             }
            },
            "type": "scattercarpet"
           }
          ],
          "scattergeo": [
           {
            "marker": {
             "colorbar": {
              "outlinewidth": 0,
              "ticks": ""
             }
            },
            "type": "scattergeo"
           }
          ],
          "scattergl": [
           {
            "marker": {
             "colorbar": {
              "outlinewidth": 0,
              "ticks": ""
             }
            },
            "type": "scattergl"
           }
          ],
          "scattermapbox": [
           {
            "marker": {
             "colorbar": {
              "outlinewidth": 0,
              "ticks": ""
             }
            },
            "type": "scattermapbox"
           }
          ],
          "scatterpolar": [
           {
            "marker": {
             "colorbar": {
              "outlinewidth": 0,
              "ticks": ""
             }
            },
            "type": "scatterpolar"
           }
          ],
          "scatterpolargl": [
           {
            "marker": {
             "colorbar": {
              "outlinewidth": 0,
              "ticks": ""
             }
            },
            "type": "scatterpolargl"
           }
          ],
          "scatterternary": [
           {
            "marker": {
             "colorbar": {
              "outlinewidth": 0,
              "ticks": ""
             }
            },
            "type": "scatterternary"
           }
          ],
          "surface": [
           {
            "colorbar": {
             "outlinewidth": 0,
             "ticks": ""
            },
            "colorscale": [
             [
              0,
              "#0d0887"
             ],
             [
              0.1111111111111111,
              "#46039f"
             ],
             [
              0.2222222222222222,
              "#7201a8"
             ],
             [
              0.3333333333333333,
              "#9c179e"
             ],
             [
              0.4444444444444444,
              "#bd3786"
             ],
             [
              0.5555555555555556,
              "#d8576b"
             ],
             [
              0.6666666666666666,
              "#ed7953"
             ],
             [
              0.7777777777777778,
              "#fb9f3a"
             ],
             [
              0.8888888888888888,
              "#fdca26"
             ],
             [
              1,
              "#f0f921"
             ]
            ],
            "type": "surface"
           }
          ],
          "table": [
           {
            "cells": {
             "fill": {
              "color": "#EBF0F8"
             },
             "line": {
              "color": "white"
             }
            },
            "header": {
             "fill": {
              "color": "#C8D4E3"
             },
             "line": {
              "color": "white"
             }
            },
            "type": "table"
           }
          ]
         },
         "layout": {
          "annotationdefaults": {
           "arrowcolor": "#2a3f5f",
           "arrowhead": 0,
           "arrowwidth": 1
          },
          "autotypenumbers": "strict",
          "coloraxis": {
           "colorbar": {
            "outlinewidth": 0,
            "ticks": ""
           }
          },
          "colorscale": {
           "diverging": [
            [
             0,
             "#8e0152"
            ],
            [
             0.1,
             "#c51b7d"
            ],
            [
             0.2,
             "#de77ae"
            ],
            [
             0.3,
             "#f1b6da"
            ],
            [
             0.4,
             "#fde0ef"
            ],
            [
             0.5,
             "#f7f7f7"
            ],
            [
             0.6,
             "#e6f5d0"
            ],
            [
             0.7,
             "#b8e186"
            ],
            [
             0.8,
             "#7fbc41"
            ],
            [
             0.9,
             "#4d9221"
            ],
            [
             1,
             "#276419"
            ]
           ],
           "sequential": [
            [
             0,
             "#0d0887"
            ],
            [
             0.1111111111111111,
             "#46039f"
            ],
            [
             0.2222222222222222,
             "#7201a8"
            ],
            [
             0.3333333333333333,
             "#9c179e"
            ],
            [
             0.4444444444444444,
             "#bd3786"
            ],
            [
             0.5555555555555556,
             "#d8576b"
            ],
            [
             0.6666666666666666,
             "#ed7953"
            ],
            [
             0.7777777777777778,
             "#fb9f3a"
            ],
            [
             0.8888888888888888,
             "#fdca26"
            ],
            [
             1,
             "#f0f921"
            ]
           ],
           "sequentialminus": [
            [
             0,
             "#0d0887"
            ],
            [
             0.1111111111111111,
             "#46039f"
            ],
            [
             0.2222222222222222,
             "#7201a8"
            ],
            [
             0.3333333333333333,
             "#9c179e"
            ],
            [
             0.4444444444444444,
             "#bd3786"
            ],
            [
             0.5555555555555556,
             "#d8576b"
            ],
            [
             0.6666666666666666,
             "#ed7953"
            ],
            [
             0.7777777777777778,
             "#fb9f3a"
            ],
            [
             0.8888888888888888,
             "#fdca26"
            ],
            [
             1,
             "#f0f921"
            ]
           ]
          },
          "colorway": [
           "#636efa",
           "#EF553B",
           "#00cc96",
           "#ab63fa",
           "#FFA15A",
           "#19d3f3",
           "#FF6692",
           "#B6E880",
           "#FF97FF",
           "#FECB52"
          ],
          "font": {
           "color": "#2a3f5f"
          },
          "geo": {
           "bgcolor": "white",
           "lakecolor": "white",
           "landcolor": "#E5ECF6",
           "showlakes": true,
           "showland": true,
           "subunitcolor": "white"
          },
          "hoverlabel": {
           "align": "left"
          },
          "hovermode": "closest",
          "mapbox": {
           "style": "light"
          },
          "paper_bgcolor": "white",
          "plot_bgcolor": "#E5ECF6",
          "polar": {
           "angularaxis": {
            "gridcolor": "white",
            "linecolor": "white",
            "ticks": ""
           },
           "bgcolor": "#E5ECF6",
           "radialaxis": {
            "gridcolor": "white",
            "linecolor": "white",
            "ticks": ""
           }
          },
          "scene": {
           "xaxis": {
            "backgroundcolor": "#E5ECF6",
            "gridcolor": "white",
            "gridwidth": 2,
            "linecolor": "white",
            "showbackground": true,
            "ticks": "",
            "zerolinecolor": "white"
           },
           "yaxis": {
            "backgroundcolor": "#E5ECF6",
            "gridcolor": "white",
            "gridwidth": 2,
            "linecolor": "white",
            "showbackground": true,
            "ticks": "",
            "zerolinecolor": "white"
           },
           "zaxis": {
            "backgroundcolor": "#E5ECF6",
            "gridcolor": "white",
            "gridwidth": 2,
            "linecolor": "white",
            "showbackground": true,
            "ticks": "",
            "zerolinecolor": "white"
           }
          },
          "shapedefaults": {
           "line": {
            "color": "#2a3f5f"
           }
          },
          "ternary": {
           "aaxis": {
            "gridcolor": "white",
            "linecolor": "white",
            "ticks": ""
           },
           "baxis": {
            "gridcolor": "white",
            "linecolor": "white",
            "ticks": ""
           },
           "bgcolor": "#E5ECF6",
           "caxis": {
            "gridcolor": "white",
            "linecolor": "white",
            "ticks": ""
           }
          },
          "title": {
           "x": 0.05
          },
          "xaxis": {
           "automargin": true,
           "gridcolor": "white",
           "linecolor": "white",
           "ticks": "",
           "title": {
            "standoff": 15
           },
           "zerolinecolor": "white",
           "zerolinewidth": 2
          },
          "yaxis": {
           "automargin": true,
           "gridcolor": "white",
           "linecolor": "white",
           "ticks": "",
           "title": {
            "standoff": 15
           },
           "zerolinecolor": "white",
           "zerolinewidth": 2
          }
         }
        },
        "xaxis": {
         "anchor": "y",
         "domain": [
          0,
          1
         ],
         "title": {
          "text": "yr"
         }
        },
        "yaxis": {
         "anchor": "x",
         "domain": [
          0,
          1
         ],
         "title": {
          "text": "woba"
         }
        }
       }
      }
     },
     "metadata": {},
     "output_type": "display_data"
    },
    {
     "data": {
      "text/html": [
       "<div>\n",
       "<style scoped>\n",
       "    .dataframe tbody tr th:only-of-type {\n",
       "        vertical-align: middle;\n",
       "    }\n",
       "\n",
       "    .dataframe tbody tr th {\n",
       "        vertical-align: top;\n",
       "    }\n",
       "\n",
       "    .dataframe thead th {\n",
       "        text-align: right;\n",
       "    }\n",
       "</style>\n",
       "<table border=\"1\" class=\"dataframe\">\n",
       "  <thead>\n",
       "    <tr style=\"text-align: right;\">\n",
       "      <th>bat_lg_id</th>\n",
       "      <th>AL</th>\n",
       "      <th>NL</th>\n",
       "    </tr>\n",
       "    <tr>\n",
       "      <th>yr</th>\n",
       "      <th></th>\n",
       "      <th></th>\n",
       "    </tr>\n",
       "  </thead>\n",
       "  <tbody>\n",
       "    <tr>\n",
       "      <th>1997</th>\n",
       "      <td>0.325412</td>\n",
       "      <td>0.325381</td>\n",
       "    </tr>\n",
       "    <tr>\n",
       "      <th>1998</th>\n",
       "      <td>0.325378</td>\n",
       "      <td>0.322238</td>\n",
       "    </tr>\n",
       "    <tr>\n",
       "      <th>1999</th>\n",
       "      <td>0.326273</td>\n",
       "      <td>0.322138</td>\n",
       "    </tr>\n",
       "    <tr>\n",
       "      <th>2000</th>\n",
       "      <td>0.324987</td>\n",
       "      <td>0.319413</td>\n",
       "    </tr>\n",
       "    <tr>\n",
       "      <th>2001</th>\n",
       "      <td>0.321018</td>\n",
       "      <td>0.314966</td>\n",
       "    </tr>\n",
       "    <tr>\n",
       "      <th>2002</th>\n",
       "      <td>0.320584</td>\n",
       "      <td>0.315094</td>\n",
       "    </tr>\n",
       "    <tr>\n",
       "      <th>2003</th>\n",
       "      <td>0.322446</td>\n",
       "      <td>0.318081</td>\n",
       "    </tr>\n",
       "    <tr>\n",
       "      <th>2004</th>\n",
       "      <td>0.323301</td>\n",
       "      <td>0.319392</td>\n",
       "    </tr>\n",
       "    <tr>\n",
       "      <th>2005</th>\n",
       "      <td>0.322245</td>\n",
       "      <td>0.318125</td>\n",
       "    </tr>\n",
       "    <tr>\n",
       "      <th>2006</th>\n",
       "      <td>0.319977</td>\n",
       "      <td>0.316903</td>\n",
       "    </tr>\n",
       "    <tr>\n",
       "      <th>2007</th>\n",
       "      <td>0.314255</td>\n",
       "      <td>0.310701</td>\n",
       "    </tr>\n",
       "    <tr>\n",
       "      <th>2008</th>\n",
       "      <td>0.312575</td>\n",
       "      <td>0.307176</td>\n",
       "    </tr>\n",
       "    <tr>\n",
       "      <th>2009</th>\n",
       "      <td>0.311985</td>\n",
       "      <td>0.306358</td>\n",
       "    </tr>\n",
       "    <tr>\n",
       "      <th>2010</th>\n",
       "      <td>0.307247</td>\n",
       "      <td>0.304898</td>\n",
       "    </tr>\n",
       "    <tr>\n",
       "      <th>2011</th>\n",
       "      <td>0.306910</td>\n",
       "      <td>0.304168</td>\n",
       "    </tr>\n",
       "    <tr>\n",
       "      <th>2012</th>\n",
       "      <td>0.307622</td>\n",
       "      <td>0.305263</td>\n",
       "    </tr>\n",
       "    <tr>\n",
       "      <th>2013</th>\n",
       "      <td>0.308755</td>\n",
       "      <td>0.307473</td>\n",
       "    </tr>\n",
       "    <tr>\n",
       "      <th>2014</th>\n",
       "      <td>0.309220</td>\n",
       "      <td>0.310128</td>\n",
       "    </tr>\n",
       "    <tr>\n",
       "      <th>2015</th>\n",
       "      <td>0.312930</td>\n",
       "      <td>0.316456</td>\n",
       "    </tr>\n",
       "  </tbody>\n",
       "</table>\n",
       "</div>"
      ],
      "text/plain": [
       "bat_lg_id        AL        NL\n",
       "yr                           \n",
       "1997       0.325412  0.325381\n",
       "1998       0.325378  0.322238\n",
       "1999       0.326273  0.322138\n",
       "2000       0.324987  0.319413\n",
       "2001       0.321018  0.314966\n",
       "2002       0.320584  0.315094\n",
       "2003       0.322446  0.318081\n",
       "2004       0.323301  0.319392\n",
       "2005       0.322245  0.318125\n",
       "2006       0.319977  0.316903\n",
       "2007       0.314255  0.310701\n",
       "2008       0.312575  0.307176\n",
       "2009       0.311985  0.306358\n",
       "2010       0.307247  0.304898\n",
       "2011       0.306910  0.304168\n",
       "2012       0.307622  0.305263\n",
       "2013       0.308755  0.307473\n",
       "2014       0.309220  0.310128\n",
       "2015       0.312930  0.316456"
      ]
     },
     "execution_count": 19,
     "metadata": {},
     "output_type": "execute_result"
    }
   ],
   "source": [
    "# Do the same thing, while ignoring DHs/PHs/etc\n",
    "pos_range = range(2, 9)\n",
    "\n",
    "result = compute_splits_windows(pa.query('bat_fld_cd in @pos_range'), split = ['pit_id', 'bat_lg_id'], window_size = 5)\n",
    "fig = px.line(result.reset_index(), x='yr', y='woba', color='bat_lg_id')\n",
    "fig.update_layout(hovermode=\"x\")\n",
    "fig.show()\n",
    "result.unstack()"
   ]
  },
  {
   "cell_type": "code",
   "execution_count": null,
   "metadata": {},
   "outputs": [],
   "source": [
    "def compute_platoon_split(hd, hitorpit):\n",
    "    hand_cd_fld = {'bat': 'bat_hand_cd', 'pit': 'pit_hand_cd'}[hitorpit]\n",
    "    split_flds = {'bat': ['bat_id', 'fld_lg_id'], 'pit': ['pit_id', 'bat_lg_id']}[hitorpit]\n",
    "    result = compute_splits_windows(pa.query(f'{hand_cd_fld}==@hd'), split = split_flds, window_size = 5).unstack()\n",
    "    diff = result['AL']-result['NL']\n",
    "    return diff"
   ]
  },
  {
   "cell_type": "code",
   "execution_count": null,
   "metadata": {},
   "outputs": [
    {
     "data": {
      "text/plain": [
       "bat_hd_cd  yr  \n",
       "L          1997   -0.005014\n",
       "           1998   -0.003930\n",
       "           1999   -0.003841\n",
       "           2000   -0.003520\n",
       "           2001   -0.002123\n",
       "           2002   -0.005678\n",
       "           2003   -0.009001\n",
       "           2004   -0.011841\n",
       "           2005   -0.009775\n",
       "           2006   -0.009709\n",
       "           2007   -0.005174\n",
       "           2008   -0.007442\n",
       "           2009   -0.006146\n",
       "           2010   -0.005475\n",
       "           2011   -0.007618\n",
       "           2012   -0.005879\n",
       "           2013   -0.005290\n",
       "           2014   -0.007263\n",
       "           2015   -0.005462\n",
       "R          1997   -0.001456\n",
       "           1998   -0.002482\n",
       "           1999   -0.002838\n",
       "           2000   -0.004378\n",
       "           2001   -0.007900\n",
       "           2002   -0.009849\n",
       "           2003   -0.012192\n",
       "           2004   -0.012115\n",
       "           2005   -0.012323\n",
       "           2006   -0.008157\n",
       "           2007   -0.006741\n",
       "           2008   -0.006390\n",
       "           2009   -0.006980\n",
       "           2010   -0.008104\n",
       "           2011   -0.008789\n",
       "           2012   -0.008475\n",
       "           2013   -0.009332\n",
       "           2014   -0.006535\n",
       "           2015   -0.002810\n",
       "Name: AL_advantage, dtype: float64"
      ]
     },
     "execution_count": 21,
     "metadata": {},
     "output_type": "execute_result"
    }
   ],
   "source": [
    "by_handed = pd.DataFrame({hd: compute_platoon_split(hd, 'bat') for hd in ['L', 'R']}).unstack().rename('AL_advantage')\n",
    "by_handed.index.names = ['bat_hd_cd', 'yr']\n",
    "by_handed\n"
   ]
  },
  {
   "cell_type": "code",
   "execution_count": null,
   "metadata": {},
   "outputs": [
    {
     "data": {
      "application/vnd.plotly.v1+json": {
       "config": {
        "plotlyServerURL": "https://plot.ly"
       },
       "data": [
        {
         "hovertemplate": "bat_hd_cd=L<br>yr=%{x}<br>AL_advantage=%{y}<extra></extra>",
         "legendgroup": "L",
         "line": {
          "color": "#636efa",
          "dash": "solid"
         },
         "mode": "lines",
         "name": "L",
         "orientation": "v",
         "showlegend": true,
         "type": "scatter",
         "x": [
          1997,
          1998,
          1999,
          2000,
          2001,
          2002,
          2003,
          2004,
          2005,
          2006,
          2007,
          2008,
          2009,
          2010,
          2011,
          2012,
          2013,
          2014,
          2015
         ],
         "xaxis": "x",
         "y": [
          -0.005014287707601428,
          -0.003929796571771671,
          -0.003840610579431303,
          -0.0035201864162792695,
          -0.0021227740157021002,
          -0.005678498156565237,
          -0.009001365379756654,
          -0.01184107083052699,
          -0.009774675230433183,
          -0.009708922937921693,
          -0.005173959909232695,
          -0.007442013342077558,
          -0.006145829942272529,
          -0.00547483948301869,
          -0.007617838746707073,
          -0.005879416066840226,
          -0.005289860152422832,
          -0.007263158188085095,
          -0.005462032080343959
         ],
         "yaxis": "y"
        },
        {
         "hovertemplate": "bat_hd_cd=R<br>yr=%{x}<br>AL_advantage=%{y}<extra></extra>",
         "legendgroup": "R",
         "line": {
          "color": "#EF553B",
          "dash": "solid"
         },
         "mode": "lines",
         "name": "R",
         "orientation": "v",
         "showlegend": true,
         "type": "scatter",
         "x": [
          1997,
          1998,
          1999,
          2000,
          2001,
          2002,
          2003,
          2004,
          2005,
          2006,
          2007,
          2008,
          2009,
          2010,
          2011,
          2012,
          2013,
          2014,
          2015
         ],
         "xaxis": "x",
         "y": [
          -0.001456220019506571,
          -0.0024819572103580434,
          -0.002838259371818197,
          -0.004378142868225299,
          -0.00790014474394568,
          -0.009849204681588564,
          -0.012191776035712809,
          -0.012114944944908945,
          -0.012323417181887675,
          -0.00815661340640933,
          -0.006741455652129247,
          -0.006389956545204467,
          -0.00697990921422903,
          -0.008103602250830455,
          -0.00878916406771979,
          -0.008475137186943205,
          -0.009332104225404203,
          -0.006534960282005009,
          -0.0028095685155791195
         ],
         "yaxis": "y"
        }
       ],
       "layout": {
        "hovermode": "x",
        "legend": {
         "title": {
          "text": "bat_hd_cd"
         },
         "tracegroupgap": 0
        },
        "margin": {
         "t": 60
        },
        "template": {
         "data": {
          "bar": [
           {
            "error_x": {
             "color": "#2a3f5f"
            },
            "error_y": {
             "color": "#2a3f5f"
            },
            "marker": {
             "line": {
              "color": "#E5ECF6",
              "width": 0.5
             }
            },
            "type": "bar"
           }
          ],
          "barpolar": [
           {
            "marker": {
             "line": {
              "color": "#E5ECF6",
              "width": 0.5
             }
            },
            "type": "barpolar"
           }
          ],
          "carpet": [
           {
            "aaxis": {
             "endlinecolor": "#2a3f5f",
             "gridcolor": "white",
             "linecolor": "white",
             "minorgridcolor": "white",
             "startlinecolor": "#2a3f5f"
            },
            "baxis": {
             "endlinecolor": "#2a3f5f",
             "gridcolor": "white",
             "linecolor": "white",
             "minorgridcolor": "white",
             "startlinecolor": "#2a3f5f"
            },
            "type": "carpet"
           }
          ],
          "choropleth": [
           {
            "colorbar": {
             "outlinewidth": 0,
             "ticks": ""
            },
            "type": "choropleth"
           }
          ],
          "contour": [
           {
            "colorbar": {
             "outlinewidth": 0,
             "ticks": ""
            },
            "colorscale": [
             [
              0,
              "#0d0887"
             ],
             [
              0.1111111111111111,
              "#46039f"
             ],
             [
              0.2222222222222222,
              "#7201a8"
             ],
             [
              0.3333333333333333,
              "#9c179e"
             ],
             [
              0.4444444444444444,
              "#bd3786"
             ],
             [
              0.5555555555555556,
              "#d8576b"
             ],
             [
              0.6666666666666666,
              "#ed7953"
             ],
             [
              0.7777777777777778,
              "#fb9f3a"
             ],
             [
              0.8888888888888888,
              "#fdca26"
             ],
             [
              1,
              "#f0f921"
             ]
            ],
            "type": "contour"
           }
          ],
          "contourcarpet": [
           {
            "colorbar": {
             "outlinewidth": 0,
             "ticks": ""
            },
            "type": "contourcarpet"
           }
          ],
          "heatmap": [
           {
            "colorbar": {
             "outlinewidth": 0,
             "ticks": ""
            },
            "colorscale": [
             [
              0,
              "#0d0887"
             ],
             [
              0.1111111111111111,
              "#46039f"
             ],
             [
              0.2222222222222222,
              "#7201a8"
             ],
             [
              0.3333333333333333,
              "#9c179e"
             ],
             [
              0.4444444444444444,
              "#bd3786"
             ],
             [
              0.5555555555555556,
              "#d8576b"
             ],
             [
              0.6666666666666666,
              "#ed7953"
             ],
             [
              0.7777777777777778,
              "#fb9f3a"
             ],
             [
              0.8888888888888888,
              "#fdca26"
             ],
             [
              1,
              "#f0f921"
             ]
            ],
            "type": "heatmap"
           }
          ],
          "heatmapgl": [
           {
            "colorbar": {
             "outlinewidth": 0,
             "ticks": ""
            },
            "colorscale": [
             [
              0,
              "#0d0887"
             ],
             [
              0.1111111111111111,
              "#46039f"
             ],
             [
              0.2222222222222222,
              "#7201a8"
             ],
             [
              0.3333333333333333,
              "#9c179e"
             ],
             [
              0.4444444444444444,
              "#bd3786"
             ],
             [
              0.5555555555555556,
              "#d8576b"
             ],
             [
              0.6666666666666666,
              "#ed7953"
             ],
             [
              0.7777777777777778,
              "#fb9f3a"
             ],
             [
              0.8888888888888888,
              "#fdca26"
             ],
             [
              1,
              "#f0f921"
             ]
            ],
            "type": "heatmapgl"
           }
          ],
          "histogram": [
           {
            "marker": {
             "colorbar": {
              "outlinewidth": 0,
              "ticks": ""
             }
            },
            "type": "histogram"
           }
          ],
          "histogram2d": [
           {
            "colorbar": {
             "outlinewidth": 0,
             "ticks": ""
            },
            "colorscale": [
             [
              0,
              "#0d0887"
             ],
             [
              0.1111111111111111,
              "#46039f"
             ],
             [
              0.2222222222222222,
              "#7201a8"
             ],
             [
              0.3333333333333333,
              "#9c179e"
             ],
             [
              0.4444444444444444,
              "#bd3786"
             ],
             [
              0.5555555555555556,
              "#d8576b"
             ],
             [
              0.6666666666666666,
              "#ed7953"
             ],
             [
              0.7777777777777778,
              "#fb9f3a"
             ],
             [
              0.8888888888888888,
              "#fdca26"
             ],
             [
              1,
              "#f0f921"
             ]
            ],
            "type": "histogram2d"
           }
          ],
          "histogram2dcontour": [
           {
            "colorbar": {
             "outlinewidth": 0,
             "ticks": ""
            },
            "colorscale": [
             [
              0,
              "#0d0887"
             ],
             [
              0.1111111111111111,
              "#46039f"
             ],
             [
              0.2222222222222222,
              "#7201a8"
             ],
             [
              0.3333333333333333,
              "#9c179e"
             ],
             [
              0.4444444444444444,
              "#bd3786"
             ],
             [
              0.5555555555555556,
              "#d8576b"
             ],
             [
              0.6666666666666666,
              "#ed7953"
             ],
             [
              0.7777777777777778,
              "#fb9f3a"
             ],
             [
              0.8888888888888888,
              "#fdca26"
             ],
             [
              1,
              "#f0f921"
             ]
            ],
            "type": "histogram2dcontour"
           }
          ],
          "mesh3d": [
           {
            "colorbar": {
             "outlinewidth": 0,
             "ticks": ""
            },
            "type": "mesh3d"
           }
          ],
          "parcoords": [
           {
            "line": {
             "colorbar": {
              "outlinewidth": 0,
              "ticks": ""
             }
            },
            "type": "parcoords"
           }
          ],
          "pie": [
           {
            "automargin": true,
            "type": "pie"
           }
          ],
          "scatter": [
           {
            "marker": {
             "colorbar": {
              "outlinewidth": 0,
              "ticks": ""
             }
            },
            "type": "scatter"
           }
          ],
          "scatter3d": [
           {
            "line": {
             "colorbar": {
              "outlinewidth": 0,
              "ticks": ""
             }
            },
            "marker": {
             "colorbar": {
              "outlinewidth": 0,
              "ticks": ""
             }
            },
            "type": "scatter3d"
           }
          ],
          "scattercarpet": [
           {
            "marker": {
             "colorbar": {
              "outlinewidth": 0,
              "ticks": ""
             }
            },
            "type": "scattercarpet"
           }
          ],
          "scattergeo": [
           {
            "marker": {
             "colorbar": {
              "outlinewidth": 0,
              "ticks": ""
             }
            },
            "type": "scattergeo"
           }
          ],
          "scattergl": [
           {
            "marker": {
             "colorbar": {
              "outlinewidth": 0,
              "ticks": ""
             }
            },
            "type": "scattergl"
           }
          ],
          "scattermapbox": [
           {
            "marker": {
             "colorbar": {
              "outlinewidth": 0,
              "ticks": ""
             }
            },
            "type": "scattermapbox"
           }
          ],
          "scatterpolar": [
           {
            "marker": {
             "colorbar": {
              "outlinewidth": 0,
              "ticks": ""
             }
            },
            "type": "scatterpolar"
           }
          ],
          "scatterpolargl": [
           {
            "marker": {
             "colorbar": {
              "outlinewidth": 0,
              "ticks": ""
             }
            },
            "type": "scatterpolargl"
           }
          ],
          "scatterternary": [
           {
            "marker": {
             "colorbar": {
              "outlinewidth": 0,
              "ticks": ""
             }
            },
            "type": "scatterternary"
           }
          ],
          "surface": [
           {
            "colorbar": {
             "outlinewidth": 0,
             "ticks": ""
            },
            "colorscale": [
             [
              0,
              "#0d0887"
             ],
             [
              0.1111111111111111,
              "#46039f"
             ],
             [
              0.2222222222222222,
              "#7201a8"
             ],
             [
              0.3333333333333333,
              "#9c179e"
             ],
             [
              0.4444444444444444,
              "#bd3786"
             ],
             [
              0.5555555555555556,
              "#d8576b"
             ],
             [
              0.6666666666666666,
              "#ed7953"
             ],
             [
              0.7777777777777778,
              "#fb9f3a"
             ],
             [
              0.8888888888888888,
              "#fdca26"
             ],
             [
              1,
              "#f0f921"
             ]
            ],
            "type": "surface"
           }
          ],
          "table": [
           {
            "cells": {
             "fill": {
              "color": "#EBF0F8"
             },
             "line": {
              "color": "white"
             }
            },
            "header": {
             "fill": {
              "color": "#C8D4E3"
             },
             "line": {
              "color": "white"
             }
            },
            "type": "table"
           }
          ]
         },
         "layout": {
          "annotationdefaults": {
           "arrowcolor": "#2a3f5f",
           "arrowhead": 0,
           "arrowwidth": 1
          },
          "autotypenumbers": "strict",
          "coloraxis": {
           "colorbar": {
            "outlinewidth": 0,
            "ticks": ""
           }
          },
          "colorscale": {
           "diverging": [
            [
             0,
             "#8e0152"
            ],
            [
             0.1,
             "#c51b7d"
            ],
            [
             0.2,
             "#de77ae"
            ],
            [
             0.3,
             "#f1b6da"
            ],
            [
             0.4,
             "#fde0ef"
            ],
            [
             0.5,
             "#f7f7f7"
            ],
            [
             0.6,
             "#e6f5d0"
            ],
            [
             0.7,
             "#b8e186"
            ],
            [
             0.8,
             "#7fbc41"
            ],
            [
             0.9,
             "#4d9221"
            ],
            [
             1,
             "#276419"
            ]
           ],
           "sequential": [
            [
             0,
             "#0d0887"
            ],
            [
             0.1111111111111111,
             "#46039f"
            ],
            [
             0.2222222222222222,
             "#7201a8"
            ],
            [
             0.3333333333333333,
             "#9c179e"
            ],
            [
             0.4444444444444444,
             "#bd3786"
            ],
            [
             0.5555555555555556,
             "#d8576b"
            ],
            [
             0.6666666666666666,
             "#ed7953"
            ],
            [
             0.7777777777777778,
             "#fb9f3a"
            ],
            [
             0.8888888888888888,
             "#fdca26"
            ],
            [
             1,
             "#f0f921"
            ]
           ],
           "sequentialminus": [
            [
             0,
             "#0d0887"
            ],
            [
             0.1111111111111111,
             "#46039f"
            ],
            [
             0.2222222222222222,
             "#7201a8"
            ],
            [
             0.3333333333333333,
             "#9c179e"
            ],
            [
             0.4444444444444444,
             "#bd3786"
            ],
            [
             0.5555555555555556,
             "#d8576b"
            ],
            [
             0.6666666666666666,
             "#ed7953"
            ],
            [
             0.7777777777777778,
             "#fb9f3a"
            ],
            [
             0.8888888888888888,
             "#fdca26"
            ],
            [
             1,
             "#f0f921"
            ]
           ]
          },
          "colorway": [
           "#636efa",
           "#EF553B",
           "#00cc96",
           "#ab63fa",
           "#FFA15A",
           "#19d3f3",
           "#FF6692",
           "#B6E880",
           "#FF97FF",
           "#FECB52"
          ],
          "font": {
           "color": "#2a3f5f"
          },
          "geo": {
           "bgcolor": "white",
           "lakecolor": "white",
           "landcolor": "#E5ECF6",
           "showlakes": true,
           "showland": true,
           "subunitcolor": "white"
          },
          "hoverlabel": {
           "align": "left"
          },
          "hovermode": "closest",
          "mapbox": {
           "style": "light"
          },
          "paper_bgcolor": "white",
          "plot_bgcolor": "#E5ECF6",
          "polar": {
           "angularaxis": {
            "gridcolor": "white",
            "linecolor": "white",
            "ticks": ""
           },
           "bgcolor": "#E5ECF6",
           "radialaxis": {
            "gridcolor": "white",
            "linecolor": "white",
            "ticks": ""
           }
          },
          "scene": {
           "xaxis": {
            "backgroundcolor": "#E5ECF6",
            "gridcolor": "white",
            "gridwidth": 2,
            "linecolor": "white",
            "showbackground": true,
            "ticks": "",
            "zerolinecolor": "white"
           },
           "yaxis": {
            "backgroundcolor": "#E5ECF6",
            "gridcolor": "white",
            "gridwidth": 2,
            "linecolor": "white",
            "showbackground": true,
            "ticks": "",
            "zerolinecolor": "white"
           },
           "zaxis": {
            "backgroundcolor": "#E5ECF6",
            "gridcolor": "white",
            "gridwidth": 2,
            "linecolor": "white",
            "showbackground": true,
            "ticks": "",
            "zerolinecolor": "white"
           }
          },
          "shapedefaults": {
           "line": {
            "color": "#2a3f5f"
           }
          },
          "ternary": {
           "aaxis": {
            "gridcolor": "white",
            "linecolor": "white",
            "ticks": ""
           },
           "baxis": {
            "gridcolor": "white",
            "linecolor": "white",
            "ticks": ""
           },
           "bgcolor": "#E5ECF6",
           "caxis": {
            "gridcolor": "white",
            "linecolor": "white",
            "ticks": ""
           }
          },
          "title": {
           "x": 0.05
          },
          "xaxis": {
           "automargin": true,
           "gridcolor": "white",
           "linecolor": "white",
           "ticks": "",
           "title": {
            "standoff": 15
           },
           "zerolinecolor": "white",
           "zerolinewidth": 2
          },
          "yaxis": {
           "automargin": true,
           "gridcolor": "white",
           "linecolor": "white",
           "ticks": "",
           "title": {
            "standoff": 15
           },
           "zerolinecolor": "white",
           "zerolinewidth": 2
          }
         }
        },
        "xaxis": {
         "anchor": "y",
         "domain": [
          0,
          1
         ],
         "title": {
          "text": "yr"
         }
        },
        "yaxis": {
         "anchor": "x",
         "domain": [
          0,
          1
         ],
         "title": {
          "text": "AL_advantage"
         }
        }
       }
      }
     },
     "metadata": {},
     "output_type": "display_data"
    }
   ],
   "source": [
    "fig = px.line(by_handed.reset_index(), x='yr', y='AL_advantage', color='bat_hd_cd')\n",
    "fig.update_layout(hovermode=\"x\")\n",
    "fig.show()"
   ]
  },
  {
   "cell_type": "code",
   "execution_count": null,
   "metadata": {},
   "outputs": [
    {
     "data": {
      "application/vnd.plotly.v1+json": {
       "config": {
        "plotlyServerURL": "https://plot.ly"
       },
       "data": [
        {
         "hovertemplate": "pit_hd_cd=L<br>yr=%{x}<br>AL_advantage=%{y}<extra></extra>",
         "legendgroup": "L",
         "line": {
          "color": "#636efa",
          "dash": "solid"
         },
         "mode": "lines",
         "name": "L",
         "orientation": "v",
         "showlegend": true,
         "type": "scatter",
         "x": [
          1997,
          1998,
          1999,
          2000,
          2001,
          2002,
          2003,
          2004,
          2005,
          2006,
          2007,
          2008,
          2009,
          2010,
          2011,
          2012,
          2013,
          2014,
          2015
         ],
         "xaxis": "x",
         "y": [
          0.0044152446355357755,
          0.0015142744574473954,
          -0.00005494136141009909,
          -0.0008964796938961128,
          0.0004240526354394314,
          0.004165769205627778,
          0.0029839463932765375,
          0.00499813900307966,
          0.007686081764867403,
          0.005823001510190828,
          0.006277190145941192,
          0.00451501217093675,
          0.0035118374065750135,
          0.0007066021206186268,
          0.0027782779049143613,
          0.0016095876399138676,
          -0.00023253422669983204,
          -0.0007879966212994693,
          -0.004471874167161882
         ],
         "yaxis": "y"
        },
        {
         "hovertemplate": "pit_hd_cd=R<br>yr=%{x}<br>AL_advantage=%{y}<extra></extra>",
         "legendgroup": "R",
         "line": {
          "color": "#EF553B",
          "dash": "solid"
         },
         "mode": "lines",
         "name": "R",
         "orientation": "v",
         "showlegend": true,
         "type": "scatter",
         "x": [
          1997,
          1998,
          1999,
          2000,
          2001,
          2002,
          2003,
          2004,
          2005,
          2006,
          2007,
          2008,
          2009,
          2010,
          2011,
          2012,
          2013,
          2014,
          2015
         ],
         "xaxis": "x",
         "y": [
          0.003311470416690443,
          0.005997505886553567,
          0.006581774518088668,
          0.0073550172199854935,
          0.007878448330665033,
          0.007452634656372192,
          0.008001984403647244,
          0.007750544817793026,
          0.007500098149296586,
          0.0074292242935740105,
          0.007960735481772951,
          0.009476704666143476,
          0.00819087336485097,
          0.005327557187174536,
          0.004858158764009135,
          0.005188491182920585,
          0.004671266077559355,
          0.003397067650140584,
          0.0005687142096533204
         ],
         "yaxis": "y"
        }
       ],
       "layout": {
        "hovermode": "x",
        "legend": {
         "title": {
          "text": "pit_hd_cd"
         },
         "tracegroupgap": 0
        },
        "margin": {
         "t": 60
        },
        "template": {
         "data": {
          "bar": [
           {
            "error_x": {
             "color": "#2a3f5f"
            },
            "error_y": {
             "color": "#2a3f5f"
            },
            "marker": {
             "line": {
              "color": "#E5ECF6",
              "width": 0.5
             }
            },
            "type": "bar"
           }
          ],
          "barpolar": [
           {
            "marker": {
             "line": {
              "color": "#E5ECF6",
              "width": 0.5
             }
            },
            "type": "barpolar"
           }
          ],
          "carpet": [
           {
            "aaxis": {
             "endlinecolor": "#2a3f5f",
             "gridcolor": "white",
             "linecolor": "white",
             "minorgridcolor": "white",
             "startlinecolor": "#2a3f5f"
            },
            "baxis": {
             "endlinecolor": "#2a3f5f",
             "gridcolor": "white",
             "linecolor": "white",
             "minorgridcolor": "white",
             "startlinecolor": "#2a3f5f"
            },
            "type": "carpet"
           }
          ],
          "choropleth": [
           {
            "colorbar": {
             "outlinewidth": 0,
             "ticks": ""
            },
            "type": "choropleth"
           }
          ],
          "contour": [
           {
            "colorbar": {
             "outlinewidth": 0,
             "ticks": ""
            },
            "colorscale": [
             [
              0,
              "#0d0887"
             ],
             [
              0.1111111111111111,
              "#46039f"
             ],
             [
              0.2222222222222222,
              "#7201a8"
             ],
             [
              0.3333333333333333,
              "#9c179e"
             ],
             [
              0.4444444444444444,
              "#bd3786"
             ],
             [
              0.5555555555555556,
              "#d8576b"
             ],
             [
              0.6666666666666666,
              "#ed7953"
             ],
             [
              0.7777777777777778,
              "#fb9f3a"
             ],
             [
              0.8888888888888888,
              "#fdca26"
             ],
             [
              1,
              "#f0f921"
             ]
            ],
            "type": "contour"
           }
          ],
          "contourcarpet": [
           {
            "colorbar": {
             "outlinewidth": 0,
             "ticks": ""
            },
            "type": "contourcarpet"
           }
          ],
          "heatmap": [
           {
            "colorbar": {
             "outlinewidth": 0,
             "ticks": ""
            },
            "colorscale": [
             [
              0,
              "#0d0887"
             ],
             [
              0.1111111111111111,
              "#46039f"
             ],
             [
              0.2222222222222222,
              "#7201a8"
             ],
             [
              0.3333333333333333,
              "#9c179e"
             ],
             [
              0.4444444444444444,
              "#bd3786"
             ],
             [
              0.5555555555555556,
              "#d8576b"
             ],
             [
              0.6666666666666666,
              "#ed7953"
             ],
             [
              0.7777777777777778,
              "#fb9f3a"
             ],
             [
              0.8888888888888888,
              "#fdca26"
             ],
             [
              1,
              "#f0f921"
             ]
            ],
            "type": "heatmap"
           }
          ],
          "heatmapgl": [
           {
            "colorbar": {
             "outlinewidth": 0,
             "ticks": ""
            },
            "colorscale": [
             [
              0,
              "#0d0887"
             ],
             [
              0.1111111111111111,
              "#46039f"
             ],
             [
              0.2222222222222222,
              "#7201a8"
             ],
             [
              0.3333333333333333,
              "#9c179e"
             ],
             [
              0.4444444444444444,
              "#bd3786"
             ],
             [
              0.5555555555555556,
              "#d8576b"
             ],
             [
              0.6666666666666666,
              "#ed7953"
             ],
             [
              0.7777777777777778,
              "#fb9f3a"
             ],
             [
              0.8888888888888888,
              "#fdca26"
             ],
             [
              1,
              "#f0f921"
             ]
            ],
            "type": "heatmapgl"
           }
          ],
          "histogram": [
           {
            "marker": {
             "colorbar": {
              "outlinewidth": 0,
              "ticks": ""
             }
            },
            "type": "histogram"
           }
          ],
          "histogram2d": [
           {
            "colorbar": {
             "outlinewidth": 0,
             "ticks": ""
            },
            "colorscale": [
             [
              0,
              "#0d0887"
             ],
             [
              0.1111111111111111,
              "#46039f"
             ],
             [
              0.2222222222222222,
              "#7201a8"
             ],
             [
              0.3333333333333333,
              "#9c179e"
             ],
             [
              0.4444444444444444,
              "#bd3786"
             ],
             [
              0.5555555555555556,
              "#d8576b"
             ],
             [
              0.6666666666666666,
              "#ed7953"
             ],
             [
              0.7777777777777778,
              "#fb9f3a"
             ],
             [
              0.8888888888888888,
              "#fdca26"
             ],
             [
              1,
              "#f0f921"
             ]
            ],
            "type": "histogram2d"
           }
          ],
          "histogram2dcontour": [
           {
            "colorbar": {
             "outlinewidth": 0,
             "ticks": ""
            },
            "colorscale": [
             [
              0,
              "#0d0887"
             ],
             [
              0.1111111111111111,
              "#46039f"
             ],
             [
              0.2222222222222222,
              "#7201a8"
             ],
             [
              0.3333333333333333,
              "#9c179e"
             ],
             [
              0.4444444444444444,
              "#bd3786"
             ],
             [
              0.5555555555555556,
              "#d8576b"
             ],
             [
              0.6666666666666666,
              "#ed7953"
             ],
             [
              0.7777777777777778,
              "#fb9f3a"
             ],
             [
              0.8888888888888888,
              "#fdca26"
             ],
             [
              1,
              "#f0f921"
             ]
            ],
            "type": "histogram2dcontour"
           }
          ],
          "mesh3d": [
           {
            "colorbar": {
             "outlinewidth": 0,
             "ticks": ""
            },
            "type": "mesh3d"
           }
          ],
          "parcoords": [
           {
            "line": {
             "colorbar": {
              "outlinewidth": 0,
              "ticks": ""
             }
            },
            "type": "parcoords"
           }
          ],
          "pie": [
           {
            "automargin": true,
            "type": "pie"
           }
          ],
          "scatter": [
           {
            "marker": {
             "colorbar": {
              "outlinewidth": 0,
              "ticks": ""
             }
            },
            "type": "scatter"
           }
          ],
          "scatter3d": [
           {
            "line": {
             "colorbar": {
              "outlinewidth": 0,
              "ticks": ""
             }
            },
            "marker": {
             "colorbar": {
              "outlinewidth": 0,
              "ticks": ""
             }
            },
            "type": "scatter3d"
           }
          ],
          "scattercarpet": [
           {
            "marker": {
             "colorbar": {
              "outlinewidth": 0,
              "ticks": ""
             }
            },
            "type": "scattercarpet"
           }
          ],
          "scattergeo": [
           {
            "marker": {
             "colorbar": {
              "outlinewidth": 0,
              "ticks": ""
             }
            },
            "type": "scattergeo"
           }
          ],
          "scattergl": [
           {
            "marker": {
             "colorbar": {
              "outlinewidth": 0,
              "ticks": ""
             }
            },
            "type": "scattergl"
           }
          ],
          "scattermapbox": [
           {
            "marker": {
             "colorbar": {
              "outlinewidth": 0,
              "ticks": ""
             }
            },
            "type": "scattermapbox"
           }
          ],
          "scatterpolar": [
           {
            "marker": {
             "colorbar": {
              "outlinewidth": 0,
              "ticks": ""
             }
            },
            "type": "scatterpolar"
           }
          ],
          "scatterpolargl": [
           {
            "marker": {
             "colorbar": {
              "outlinewidth": 0,
              "ticks": ""
             }
            },
            "type": "scatterpolargl"
           }
          ],
          "scatterternary": [
           {
            "marker": {
             "colorbar": {
              "outlinewidth": 0,
              "ticks": ""
             }
            },
            "type": "scatterternary"
           }
          ],
          "surface": [
           {
            "colorbar": {
             "outlinewidth": 0,
             "ticks": ""
            },
            "colorscale": [
             [
              0,
              "#0d0887"
             ],
             [
              0.1111111111111111,
              "#46039f"
             ],
             [
              0.2222222222222222,
              "#7201a8"
             ],
             [
              0.3333333333333333,
              "#9c179e"
             ],
             [
              0.4444444444444444,
              "#bd3786"
             ],
             [
              0.5555555555555556,
              "#d8576b"
             ],
             [
              0.6666666666666666,
              "#ed7953"
             ],
             [
              0.7777777777777778,
              "#fb9f3a"
             ],
             [
              0.8888888888888888,
              "#fdca26"
             ],
             [
              1,
              "#f0f921"
             ]
            ],
            "type": "surface"
           }
          ],
          "table": [
           {
            "cells": {
             "fill": {
              "color": "#EBF0F8"
             },
             "line": {
              "color": "white"
             }
            },
            "header": {
             "fill": {
              "color": "#C8D4E3"
             },
             "line": {
              "color": "white"
             }
            },
            "type": "table"
           }
          ]
         },
         "layout": {
          "annotationdefaults": {
           "arrowcolor": "#2a3f5f",
           "arrowhead": 0,
           "arrowwidth": 1
          },
          "autotypenumbers": "strict",
          "coloraxis": {
           "colorbar": {
            "outlinewidth": 0,
            "ticks": ""
           }
          },
          "colorscale": {
           "diverging": [
            [
             0,
             "#8e0152"
            ],
            [
             0.1,
             "#c51b7d"
            ],
            [
             0.2,
             "#de77ae"
            ],
            [
             0.3,
             "#f1b6da"
            ],
            [
             0.4,
             "#fde0ef"
            ],
            [
             0.5,
             "#f7f7f7"
            ],
            [
             0.6,
             "#e6f5d0"
            ],
            [
             0.7,
             "#b8e186"
            ],
            [
             0.8,
             "#7fbc41"
            ],
            [
             0.9,
             "#4d9221"
            ],
            [
             1,
             "#276419"
            ]
           ],
           "sequential": [
            [
             0,
             "#0d0887"
            ],
            [
             0.1111111111111111,
             "#46039f"
            ],
            [
             0.2222222222222222,
             "#7201a8"
            ],
            [
             0.3333333333333333,
             "#9c179e"
            ],
            [
             0.4444444444444444,
             "#bd3786"
            ],
            [
             0.5555555555555556,
             "#d8576b"
            ],
            [
             0.6666666666666666,
             "#ed7953"
            ],
            [
             0.7777777777777778,
             "#fb9f3a"
            ],
            [
             0.8888888888888888,
             "#fdca26"
            ],
            [
             1,
             "#f0f921"
            ]
           ],
           "sequentialminus": [
            [
             0,
             "#0d0887"
            ],
            [
             0.1111111111111111,
             "#46039f"
            ],
            [
             0.2222222222222222,
             "#7201a8"
            ],
            [
             0.3333333333333333,
             "#9c179e"
            ],
            [
             0.4444444444444444,
             "#bd3786"
            ],
            [
             0.5555555555555556,
             "#d8576b"
            ],
            [
             0.6666666666666666,
             "#ed7953"
            ],
            [
             0.7777777777777778,
             "#fb9f3a"
            ],
            [
             0.8888888888888888,
             "#fdca26"
            ],
            [
             1,
             "#f0f921"
            ]
           ]
          },
          "colorway": [
           "#636efa",
           "#EF553B",
           "#00cc96",
           "#ab63fa",
           "#FFA15A",
           "#19d3f3",
           "#FF6692",
           "#B6E880",
           "#FF97FF",
           "#FECB52"
          ],
          "font": {
           "color": "#2a3f5f"
          },
          "geo": {
           "bgcolor": "white",
           "lakecolor": "white",
           "landcolor": "#E5ECF6",
           "showlakes": true,
           "showland": true,
           "subunitcolor": "white"
          },
          "hoverlabel": {
           "align": "left"
          },
          "hovermode": "closest",
          "mapbox": {
           "style": "light"
          },
          "paper_bgcolor": "white",
          "plot_bgcolor": "#E5ECF6",
          "polar": {
           "angularaxis": {
            "gridcolor": "white",
            "linecolor": "white",
            "ticks": ""
           },
           "bgcolor": "#E5ECF6",
           "radialaxis": {
            "gridcolor": "white",
            "linecolor": "white",
            "ticks": ""
           }
          },
          "scene": {
           "xaxis": {
            "backgroundcolor": "#E5ECF6",
            "gridcolor": "white",
            "gridwidth": 2,
            "linecolor": "white",
            "showbackground": true,
            "ticks": "",
            "zerolinecolor": "white"
           },
           "yaxis": {
            "backgroundcolor": "#E5ECF6",
            "gridcolor": "white",
            "gridwidth": 2,
            "linecolor": "white",
            "showbackground": true,
            "ticks": "",
            "zerolinecolor": "white"
           },
           "zaxis": {
            "backgroundcolor": "#E5ECF6",
            "gridcolor": "white",
            "gridwidth": 2,
            "linecolor": "white",
            "showbackground": true,
            "ticks": "",
            "zerolinecolor": "white"
           }
          },
          "shapedefaults": {
           "line": {
            "color": "#2a3f5f"
           }
          },
          "ternary": {
           "aaxis": {
            "gridcolor": "white",
            "linecolor": "white",
            "ticks": ""
           },
           "baxis": {
            "gridcolor": "white",
            "linecolor": "white",
            "ticks": ""
           },
           "bgcolor": "#E5ECF6",
           "caxis": {
            "gridcolor": "white",
            "linecolor": "white",
            "ticks": ""
           }
          },
          "title": {
           "x": 0.05
          },
          "xaxis": {
           "automargin": true,
           "gridcolor": "white",
           "linecolor": "white",
           "ticks": "",
           "title": {
            "standoff": 15
           },
           "zerolinecolor": "white",
           "zerolinewidth": 2
          },
          "yaxis": {
           "automargin": true,
           "gridcolor": "white",
           "linecolor": "white",
           "ticks": "",
           "title": {
            "standoff": 15
           },
           "zerolinecolor": "white",
           "zerolinewidth": 2
          }
         }
        },
        "xaxis": {
         "anchor": "y",
         "domain": [
          0,
          1
         ],
         "title": {
          "text": "yr"
         }
        },
        "yaxis": {
         "anchor": "x",
         "domain": [
          0,
          1
         ],
         "title": {
          "text": "AL_advantage"
         }
        }
       }
      }
     },
     "metadata": {},
     "output_type": "display_data"
    }
   ],
   "source": [
    "by_handed = pd.DataFrame({hd: compute_platoon_split(hd, 'pit') for hd in ['L', 'R']}).unstack().rename('AL_advantage')\n",
    "by_handed.index.names = ['pit_hd_cd', 'yr']\n",
    "fig = px.line(by_handed.reset_index(), x='yr', y='AL_advantage', color='pit_hd_cd')\n",
    "fig.update_layout(hovermode=\"x\")\n",
    "fig.show()\n"
   ]
  },
  {
   "cell_type": "code",
   "execution_count": null,
   "metadata": {},
   "outputs": [
    {
     "data": {
      "text/html": [
       "<div>\n",
       "<style scoped>\n",
       "    .dataframe tbody tr th:only-of-type {\n",
       "        vertical-align: middle;\n",
       "    }\n",
       "\n",
       "    .dataframe tbody tr th {\n",
       "        vertical-align: top;\n",
       "    }\n",
       "\n",
       "    .dataframe thead th {\n",
       "        text-align: right;\n",
       "    }\n",
       "</style>\n",
       "<table border=\"1\" class=\"dataframe\">\n",
       "  <thead>\n",
       "    <tr style=\"text-align: right;\">\n",
       "      <th></th>\n",
       "      <th>min_pa</th>\n",
       "      <th>AL</th>\n",
       "      <th>NL</th>\n",
       "    </tr>\n",
       "    <tr>\n",
       "      <th>bat_id</th>\n",
       "      <th></th>\n",
       "      <th></th>\n",
       "      <th></th>\n",
       "    </tr>\n",
       "  </thead>\n",
       "  <tbody>\n",
       "    <tr>\n",
       "      <th>abreb001</th>\n",
       "      <td>1707.0</td>\n",
       "      <td>0.366928</td>\n",
       "      <td>0.367497</td>\n",
       "    </tr>\n",
       "    <tr>\n",
       "      <th>kendj001</th>\n",
       "      <td>1511.0</td>\n",
       "      <td>0.294297</td>\n",
       "      <td>0.304091</td>\n",
       "    </tr>\n",
       "    <tr>\n",
       "      <th>overl001</th>\n",
       "      <td>1338.0</td>\n",
       "      <td>0.324431</td>\n",
       "      <td>0.354980</td>\n",
       "    </tr>\n",
       "    <tr>\n",
       "      <th>soria001</th>\n",
       "      <td>1331.0</td>\n",
       "      <td>0.328951</td>\n",
       "      <td>0.358925</td>\n",
       "    </tr>\n",
       "    <tr>\n",
       "      <th>lowem001</th>\n",
       "      <td>1292.0</td>\n",
       "      <td>0.334049</td>\n",
       "      <td>0.338253</td>\n",
       "    </tr>\n",
       "    <tr>\n",
       "      <th>glaut001</th>\n",
       "      <td>1278.0</td>\n",
       "      <td>0.354172</td>\n",
       "      <td>0.369155</td>\n",
       "    </tr>\n",
       "    <tr>\n",
       "      <th>rente001</th>\n",
       "      <td>1276.0</td>\n",
       "      <td>0.308743</td>\n",
       "      <td>0.331212</td>\n",
       "    </tr>\n",
       "    <tr>\n",
       "      <th>rowaa001</th>\n",
       "      <td>1246.0</td>\n",
       "      <td>0.327464</td>\n",
       "      <td>0.341981</td>\n",
       "    </tr>\n",
       "    <tr>\n",
       "      <th>bellr002</th>\n",
       "      <td>1242.0</td>\n",
       "      <td>0.316449</td>\n",
       "      <td>0.330739</td>\n",
       "    </tr>\n",
       "    <tr>\n",
       "      <th>winnr001</th>\n",
       "      <td>1195.0</td>\n",
       "      <td>0.317210</td>\n",
       "      <td>0.335402</td>\n",
       "    </tr>\n",
       "    <tr>\n",
       "      <th>jonej003</th>\n",
       "      <td>1192.0</td>\n",
       "      <td>0.302633</td>\n",
       "      <td>0.311088</td>\n",
       "    </tr>\n",
       "    <tr>\n",
       "      <th>hudso001</th>\n",
       "      <td>1132.0</td>\n",
       "      <td>0.324354</td>\n",
       "      <td>0.339495</td>\n",
       "    </tr>\n",
       "    <tr>\n",
       "      <th>lee-c001</th>\n",
       "      <td>1121.0</td>\n",
       "      <td>0.348917</td>\n",
       "      <td>0.360273</td>\n",
       "    </tr>\n",
       "    <tr>\n",
       "      <th>molib001</th>\n",
       "      <td>1101.0</td>\n",
       "      <td>0.315220</td>\n",
       "      <td>0.311473</td>\n",
       "    </tr>\n",
       "    <tr>\n",
       "      <th>wilkb002</th>\n",
       "      <td>1070.0</td>\n",
       "      <td>0.307881</td>\n",
       "      <td>0.332053</td>\n",
       "    </tr>\n",
       "    <tr>\n",
       "      <th>castl001</th>\n",
       "      <td>1067.0</td>\n",
       "      <td>0.330036</td>\n",
       "      <td>0.302122</td>\n",
       "    </tr>\n",
       "    <tr>\n",
       "      <th>byrne001</th>\n",
       "      <td>1063.0</td>\n",
       "      <td>0.322491</td>\n",
       "      <td>0.323969</td>\n",
       "    </tr>\n",
       "    <tr>\n",
       "      <th>drewj001</th>\n",
       "      <td>1058.0</td>\n",
       "      <td>0.341873</td>\n",
       "      <td>0.401071</td>\n",
       "    </tr>\n",
       "    <tr>\n",
       "      <th>ecksd001</th>\n",
       "      <td>1027.0</td>\n",
       "      <td>0.300515</td>\n",
       "      <td>0.311052</td>\n",
       "    </tr>\n",
       "    <tr>\n",
       "      <th>pattc001</th>\n",
       "      <td>1023.0</td>\n",
       "      <td>0.292383</td>\n",
       "      <td>0.276280</td>\n",
       "    </tr>\n",
       "  </tbody>\n",
       "</table>\n",
       "</div>"
      ],
      "text/plain": [
       "          min_pa        AL        NL\n",
       "bat_id                              \n",
       "abreb001  1707.0  0.366928  0.367497\n",
       "kendj001  1511.0  0.294297  0.304091\n",
       "overl001  1338.0  0.324431  0.354980\n",
       "soria001  1331.0  0.328951  0.358925\n",
       "lowem001  1292.0  0.334049  0.338253\n",
       "glaut001  1278.0  0.354172  0.369155\n",
       "rente001  1276.0  0.308743  0.331212\n",
       "rowaa001  1246.0  0.327464  0.341981\n",
       "bellr002  1242.0  0.316449  0.330739\n",
       "winnr001  1195.0  0.317210  0.335402\n",
       "jonej003  1192.0  0.302633  0.311088\n",
       "hudso001  1132.0  0.324354  0.339495\n",
       "lee-c001  1121.0  0.348917  0.360273\n",
       "molib001  1101.0  0.315220  0.311473\n",
       "wilkb002  1070.0  0.307881  0.332053\n",
       "castl001  1067.0  0.330036  0.302122\n",
       "byrne001  1063.0  0.322491  0.323969\n",
       "drewj001  1058.0  0.341873  0.401071\n",
       "ecksd001  1027.0  0.300515  0.311052\n",
       "pattc001  1023.0  0.292383  0.276280"
      ]
     },
     "execution_count": 24,
     "metadata": {},
     "output_type": "execute_result"
    }
   ],
   "source": [
    "# look at who contributes to a sample and how\n",
    "\n",
    "yr = 2004\n",
    "rng = range(yr, yr+5)\n",
    "df_pa = pa[(pa['bat_fld_cd']!= 1) & (pa['yr'].isin(rng))]\n",
    "df = summarize_split(bsu.summarize_events(df_pa, ['bat_id', 'fld_lg_id']), 'woba')\n",
    "df.sort_values('min_pa', ascending=False).head(20)"
   ]
  },
  {
   "cell_type": "code",
   "execution_count": null,
   "metadata": {},
   "outputs": [
    {
     "data": {
      "text/html": [
       "<div>\n",
       "<style scoped>\n",
       "    .dataframe tbody tr th:only-of-type {\n",
       "        vertical-align: middle;\n",
       "    }\n",
       "\n",
       "    .dataframe tbody tr th {\n",
       "        vertical-align: top;\n",
       "    }\n",
       "\n",
       "    .dataframe thead th {\n",
       "        text-align: right;\n",
       "    }\n",
       "</style>\n",
       "<table border=\"1\" class=\"dataframe\">\n",
       "  <thead>\n",
       "    <tr style=\"text-align: right;\">\n",
       "      <th></th>\n",
       "      <th></th>\n",
       "      <th>pa</th>\n",
       "      <th>mean_age</th>\n",
       "      <th>pct_prime</th>\n",
       "    </tr>\n",
       "    <tr>\n",
       "      <th>bat_id</th>\n",
       "      <th>fld_lg_id</th>\n",
       "      <th></th>\n",
       "      <th></th>\n",
       "      <th></th>\n",
       "    </tr>\n",
       "  </thead>\n",
       "  <tbody>\n",
       "    <tr>\n",
       "      <th rowspan=\"2\" valign=\"top\">abada001</th>\n",
       "      <th>AL</th>\n",
       "      <td>20</td>\n",
       "      <td>30.000000</td>\n",
       "      <td>0.700000</td>\n",
       "    </tr>\n",
       "    <tr>\n",
       "      <th>NL</th>\n",
       "      <td>5</td>\n",
       "      <td>30.000000</td>\n",
       "      <td>0.600000</td>\n",
       "    </tr>\n",
       "    <tr>\n",
       "      <th rowspan=\"2\" valign=\"top\">abboj002</th>\n",
       "      <th>AL</th>\n",
       "      <td>549</td>\n",
       "      <td>29.342441</td>\n",
       "      <td>0.542805</td>\n",
       "    </tr>\n",
       "    <tr>\n",
       "      <th>NL</th>\n",
       "      <td>102</td>\n",
       "      <td>30.196078</td>\n",
       "      <td>0.519608</td>\n",
       "    </tr>\n",
       "    <tr>\n",
       "      <th>abbok002</th>\n",
       "      <th>AL</th>\n",
       "      <td>208</td>\n",
       "      <td>27.543269</td>\n",
       "      <td>0.562500</td>\n",
       "    </tr>\n",
       "    <tr>\n",
       "      <th>...</th>\n",
       "      <th>...</th>\n",
       "      <td>...</td>\n",
       "      <td>...</td>\n",
       "      <td>...</td>\n",
       "    </tr>\n",
       "    <tr>\n",
       "      <th>zubej001</th>\n",
       "      <th>NL</th>\n",
       "      <td>47</td>\n",
       "      <td>27.468085</td>\n",
       "      <td>0.787234</td>\n",
       "    </tr>\n",
       "    <tr>\n",
       "      <th rowspan=\"2\" valign=\"top\">zulej001</th>\n",
       "      <th>AL</th>\n",
       "      <td>14</td>\n",
       "      <td>34.571429</td>\n",
       "      <td>0.071429</td>\n",
       "    </tr>\n",
       "    <tr>\n",
       "      <th>NL</th>\n",
       "      <td>177</td>\n",
       "      <td>32.005650</td>\n",
       "      <td>0.519774</td>\n",
       "    </tr>\n",
       "    <tr>\n",
       "      <th rowspan=\"2\" valign=\"top\">zunim001</th>\n",
       "      <th>AL</th>\n",
       "      <td>2137</td>\n",
       "      <td>27.856809</td>\n",
       "      <td>0.865232</td>\n",
       "    </tr>\n",
       "    <tr>\n",
       "      <th>NL</th>\n",
       "      <td>323</td>\n",
       "      <td>28.724458</td>\n",
       "      <td>0.727554</td>\n",
       "    </tr>\n",
       "  </tbody>\n",
       "</table>\n",
       "<p>5667 rows × 3 columns</p>\n",
       "</div>"
      ],
      "text/plain": [
       "                      pa   mean_age  pct_prime\n",
       "bat_id   fld_lg_id                            \n",
       "abada001 AL           20  30.000000   0.700000\n",
       "         NL            5  30.000000   0.600000\n",
       "abboj002 AL          549  29.342441   0.542805\n",
       "         NL          102  30.196078   0.519608\n",
       "abbok002 AL          208  27.543269   0.562500\n",
       "...                  ...        ...        ...\n",
       "zubej001 NL           47  27.468085   0.787234\n",
       "zulej001 AL           14  34.571429   0.071429\n",
       "         NL          177  32.005650   0.519774\n",
       "zunim001 AL         2137  27.856809   0.865232\n",
       "         NL          323  28.724458   0.727554\n",
       "\n",
       "[5667 rows x 3 columns]"
      ]
     },
     "execution_count": 25,
     "metadata": {},
     "output_type": "execute_result"
    }
   ],
   "source": [
    "\n",
    "age_split = pa.groupby(['bat_id', 'fld_lg_id']).agg(pa=('event_cd', len), mean_age=('bat_age', np.mean), pct_prime=('bat_prime_age', np.mean))\n",
    "age_split"
   ]
  },
  {
   "cell_type": "code",
   "execution_count": null,
   "metadata": {},
   "outputs": [
    {
     "data": {
      "text/plain": [
       "{'AL': 29.333670035091366, 'NL': 29.37274736626806}"
      ]
     },
     "execution_count": 26,
     "metadata": {},
     "output_type": "execute_result"
    }
   ],
   "source": [
    "df = summarize_split(age_split, 'mean_age')\n",
    "({lg: (df['min_pa']*df[lg]).sum()/df['min_pa'].sum() for lg in ['AL', 'NL']})"
   ]
  },
  {
   "cell_type": "code",
   "execution_count": null,
   "metadata": {},
   "outputs": [
    {
     "data": {
      "text/plain": [
       "{'AL': 0.7225328273188006, 'NL': 0.6993362706992577}"
      ]
     },
     "execution_count": 27,
     "metadata": {},
     "output_type": "execute_result"
    }
   ],
   "source": [
    "df = summarize_split(age_split, 'pct_prime')\n",
    "({lg: (df['min_pa']*df[lg]).sum()/df['min_pa'].sum() for lg in ['AL', 'NL']})"
   ]
  },
  {
   "cell_type": "code",
   "execution_count": null,
   "metadata": {},
   "outputs": [
    {
     "data": {
      "text/html": [
       "<div>\n",
       "<style scoped>\n",
       "    .dataframe tbody tr th:only-of-type {\n",
       "        vertical-align: middle;\n",
       "    }\n",
       "\n",
       "    .dataframe tbody tr th {\n",
       "        vertical-align: top;\n",
       "    }\n",
       "\n",
       "    .dataframe thead th {\n",
       "        text-align: right;\n",
       "    }\n",
       "</style>\n",
       "<table border=\"1\" class=\"dataframe\">\n",
       "  <thead>\n",
       "    <tr style=\"text-align: right;\">\n",
       "      <th></th>\n",
       "      <th>game_id</th>\n",
       "      <th>date</th>\n",
       "      <th>game_type</th>\n",
       "      <th>tb_ct</th>\n",
       "      <th>bat_fld_cd</th>\n",
       "      <th>event_cd</th>\n",
       "      <th>bat_event_fl</th>\n",
       "      <th>fld_team_id</th>\n",
       "      <th>pit_hand_cd</th>\n",
       "      <th>pit_id</th>\n",
       "      <th>...</th>\n",
       "      <th>ab_fl</th>\n",
       "      <th>h_fl</th>\n",
       "      <th>ob_fl</th>\n",
       "      <th>yr</th>\n",
       "      <th>bat_lg_id</th>\n",
       "      <th>fld_lg_id</th>\n",
       "      <th>bat_age</th>\n",
       "      <th>pit_age</th>\n",
       "      <th>bat_prime_age</th>\n",
       "      <th>pit_prime_age</th>\n",
       "    </tr>\n",
       "  </thead>\n",
       "  <tbody>\n",
       "    <tr>\n",
       "      <th>2556200</th>\n",
       "      <td>OAK201105010</td>\n",
       "      <td>2011-05-01</td>\n",
       "      <td>RS</td>\n",
       "      <td>1</td>\n",
       "      <td>2</td>\n",
       "      <td>20</td>\n",
       "      <td>True</td>\n",
       "      <td>TEX</td>\n",
       "      <td>R</td>\n",
       "      <td>tuckr001</td>\n",
       "      <td>...</td>\n",
       "      <td>True</td>\n",
       "      <td>1</td>\n",
       "      <td>1</td>\n",
       "      <td>2011</td>\n",
       "      <td>AL</td>\n",
       "      <td>AL</td>\n",
       "      <td>31.0</td>\n",
       "      <td>29.0</td>\n",
       "      <td>False</td>\n",
       "      <td>True</td>\n",
       "    </tr>\n",
       "    <tr>\n",
       "      <th>2737103</th>\n",
       "      <td>CIN201206100</td>\n",
       "      <td>2012-06-10</td>\n",
       "      <td>RS</td>\n",
       "      <td>0</td>\n",
       "      <td>7</td>\n",
       "      <td>2</td>\n",
       "      <td>True</td>\n",
       "      <td>DET</td>\n",
       "      <td>R</td>\n",
       "      <td>villb002</td>\n",
       "      <td>...</td>\n",
       "      <td>True</td>\n",
       "      <td>0</td>\n",
       "      <td>0</td>\n",
       "      <td>2012</td>\n",
       "      <td>NL</td>\n",
       "      <td>AL</td>\n",
       "      <td>27.0</td>\n",
       "      <td>32.0</td>\n",
       "      <td>True</td>\n",
       "      <td>False</td>\n",
       "    </tr>\n",
       "    <tr>\n",
       "      <th>2006160</th>\n",
       "      <td>DET200807110</td>\n",
       "      <td>2008-07-11</td>\n",
       "      <td>RS</td>\n",
       "      <td>1</td>\n",
       "      <td>3</td>\n",
       "      <td>20</td>\n",
       "      <td>True</td>\n",
       "      <td>DET</td>\n",
       "      <td>R</td>\n",
       "      <td>rodnf001</td>\n",
       "      <td>...</td>\n",
       "      <td>True</td>\n",
       "      <td>1</td>\n",
       "      <td>1</td>\n",
       "      <td>2008</td>\n",
       "      <td>AL</td>\n",
       "      <td>AL</td>\n",
       "      <td>31.0</td>\n",
       "      <td>29.0</td>\n",
       "      <td>False</td>\n",
       "      <td>True</td>\n",
       "    </tr>\n",
       "    <tr>\n",
       "      <th>2345982</th>\n",
       "      <td>CHA200906030</td>\n",
       "      <td>2009-06-03</td>\n",
       "      <td>RS</td>\n",
       "      <td>0</td>\n",
       "      <td>8</td>\n",
       "      <td>2</td>\n",
       "      <td>True</td>\n",
       "      <td>OAK</td>\n",
       "      <td>L</td>\n",
       "      <td>outmj001</td>\n",
       "      <td>...</td>\n",
       "      <td>True</td>\n",
       "      <td>0</td>\n",
       "      <td>0</td>\n",
       "      <td>2009</td>\n",
       "      <td>AL</td>\n",
       "      <td>AL</td>\n",
       "      <td>32.0</td>\n",
       "      <td>23.0</td>\n",
       "      <td>False</td>\n",
       "      <td>False</td>\n",
       "    </tr>\n",
       "    <tr>\n",
       "      <th>2838994</th>\n",
       "      <td>CIN201208020</td>\n",
       "      <td>2012-08-02</td>\n",
       "      <td>RS</td>\n",
       "      <td>0</td>\n",
       "      <td>6</td>\n",
       "      <td>2</td>\n",
       "      <td>True</td>\n",
       "      <td>CIN</td>\n",
       "      <td>R</td>\n",
       "      <td>cuetj001</td>\n",
       "      <td>...</td>\n",
       "      <td>True</td>\n",
       "      <td>0</td>\n",
       "      <td>0</td>\n",
       "      <td>2012</td>\n",
       "      <td>NL</td>\n",
       "      <td>NL</td>\n",
       "      <td>28.0</td>\n",
       "      <td>29.0</td>\n",
       "      <td>True</td>\n",
       "      <td>True</td>\n",
       "    </tr>\n",
       "    <tr>\n",
       "      <th>2806162</th>\n",
       "      <td>COL201209230</td>\n",
       "      <td>2012-09-23</td>\n",
       "      <td>RS</td>\n",
       "      <td>0</td>\n",
       "      <td>5</td>\n",
       "      <td>3</td>\n",
       "      <td>True</td>\n",
       "      <td>ARI</td>\n",
       "      <td>R</td>\n",
       "      <td>kenni001</td>\n",
       "      <td>...</td>\n",
       "      <td>True</td>\n",
       "      <td>0</td>\n",
       "      <td>0</td>\n",
       "      <td>2012</td>\n",
       "      <td>NL</td>\n",
       "      <td>NL</td>\n",
       "      <td>29.0</td>\n",
       "      <td>26.0</td>\n",
       "      <td>True</td>\n",
       "      <td>True</td>\n",
       "    </tr>\n",
       "    <tr>\n",
       "      <th>2369998</th>\n",
       "      <td>CLE201009160</td>\n",
       "      <td>2010-09-16</td>\n",
       "      <td>RS</td>\n",
       "      <td>0</td>\n",
       "      <td>2</td>\n",
       "      <td>14</td>\n",
       "      <td>True</td>\n",
       "      <td>ANA</td>\n",
       "      <td>R</td>\n",
       "      <td>sante001</td>\n",
       "      <td>...</td>\n",
       "      <td>False</td>\n",
       "      <td>0</td>\n",
       "      <td>1</td>\n",
       "      <td>2010</td>\n",
       "      <td>AL</td>\n",
       "      <td>AL</td>\n",
       "      <td>31.0</td>\n",
       "      <td>29.0</td>\n",
       "      <td>False</td>\n",
       "      <td>True</td>\n",
       "    </tr>\n",
       "    <tr>\n",
       "      <th>2070263</th>\n",
       "      <td>CIN200806130</td>\n",
       "      <td>2008-06-13</td>\n",
       "      <td>RS</td>\n",
       "      <td>0</td>\n",
       "      <td>5</td>\n",
       "      <td>2</td>\n",
       "      <td>True</td>\n",
       "      <td>CIN</td>\n",
       "      <td>R</td>\n",
       "      <td>cordf002</td>\n",
       "      <td>...</td>\n",
       "      <td>True</td>\n",
       "      <td>0</td>\n",
       "      <td>0</td>\n",
       "      <td>2008</td>\n",
       "      <td>AL</td>\n",
       "      <td>NL</td>\n",
       "      <td>27.0</td>\n",
       "      <td>27.0</td>\n",
       "      <td>True</td>\n",
       "      <td>True</td>\n",
       "    </tr>\n",
       "    <tr>\n",
       "      <th>2257405</th>\n",
       "      <td>ANA200907020</td>\n",
       "      <td>2009-07-02</td>\n",
       "      <td>RS</td>\n",
       "      <td>1</td>\n",
       "      <td>5</td>\n",
       "      <td>20</td>\n",
       "      <td>True</td>\n",
       "      <td>BAL</td>\n",
       "      <td>R</td>\n",
       "      <td>guthj001</td>\n",
       "      <td>...</td>\n",
       "      <td>True</td>\n",
       "      <td>1</td>\n",
       "      <td>1</td>\n",
       "      <td>2009</td>\n",
       "      <td>AL</td>\n",
       "      <td>AL</td>\n",
       "      <td>30.0</td>\n",
       "      <td>30.0</td>\n",
       "      <td>True</td>\n",
       "      <td>True</td>\n",
       "    </tr>\n",
       "    <tr>\n",
       "      <th>2348647</th>\n",
       "      <td>DET200910010</td>\n",
       "      <td>2009-10-01</td>\n",
       "      <td>RS</td>\n",
       "      <td>0</td>\n",
       "      <td>3</td>\n",
       "      <td>3</td>\n",
       "      <td>True</td>\n",
       "      <td>DET</td>\n",
       "      <td>R</td>\n",
       "      <td>perrr001</td>\n",
       "      <td>...</td>\n",
       "      <td>True</td>\n",
       "      <td>0</td>\n",
       "      <td>0</td>\n",
       "      <td>2009</td>\n",
       "      <td>AL</td>\n",
       "      <td>AL</td>\n",
       "      <td>25.0</td>\n",
       "      <td>23.0</td>\n",
       "      <td>True</td>\n",
       "      <td>False</td>\n",
       "    </tr>\n",
       "  </tbody>\n",
       "</table>\n",
       "<p>10 rows × 23 columns</p>\n",
       "</div>"
      ],
      "text/plain": [
       "              game_id       date game_type  tb_ct  bat_fld_cd  event_cd  \\\n",
       "2556200  OAK201105010 2011-05-01        RS      1           2        20   \n",
       "2737103  CIN201206100 2012-06-10        RS      0           7         2   \n",
       "2006160  DET200807110 2008-07-11        RS      1           3        20   \n",
       "2345982  CHA200906030 2009-06-03        RS      0           8         2   \n",
       "2838994  CIN201208020 2012-08-02        RS      0           6         2   \n",
       "2806162  COL201209230 2012-09-23        RS      0           5         3   \n",
       "2369998  CLE201009160 2010-09-16        RS      0           2        14   \n",
       "2070263  CIN200806130 2008-06-13        RS      0           5         2   \n",
       "2257405  ANA200907020 2009-07-02        RS      1           5        20   \n",
       "2348647  DET200910010 2009-10-01        RS      0           3         3   \n",
       "\n",
       "         bat_event_fl fld_team_id pit_hand_cd    pit_id  ...  ab_fl h_fl  \\\n",
       "2556200          True         TEX           R  tuckr001  ...   True    1   \n",
       "2737103          True         DET           R  villb002  ...   True    0   \n",
       "2006160          True         DET           R  rodnf001  ...   True    1   \n",
       "2345982          True         OAK           L  outmj001  ...   True    0   \n",
       "2838994          True         CIN           R  cuetj001  ...   True    0   \n",
       "2806162          True         ARI           R  kenni001  ...   True    0   \n",
       "2369998          True         ANA           R  sante001  ...  False    0   \n",
       "2070263          True         CIN           R  cordf002  ...   True    0   \n",
       "2257405          True         BAL           R  guthj001  ...   True    1   \n",
       "2348647          True         DET           R  perrr001  ...   True    0   \n",
       "\n",
       "        ob_fl    yr  bat_lg_id  fld_lg_id  bat_age pit_age bat_prime_age  \\\n",
       "2556200     1  2011         AL         AL     31.0    29.0         False   \n",
       "2737103     0  2012         NL         AL     27.0    32.0          True   \n",
       "2006160     1  2008         AL         AL     31.0    29.0         False   \n",
       "2345982     0  2009         AL         AL     32.0    23.0         False   \n",
       "2838994     0  2012         NL         NL     28.0    29.0          True   \n",
       "2806162     0  2012         NL         NL     29.0    26.0          True   \n",
       "2369998     1  2010         AL         AL     31.0    29.0         False   \n",
       "2070263     0  2008         AL         NL     27.0    27.0          True   \n",
       "2257405     1  2009         AL         AL     30.0    30.0          True   \n",
       "2348647     0  2009         AL         AL     25.0    23.0          True   \n",
       "\n",
       "         pit_prime_age  \n",
       "2556200           True  \n",
       "2737103          False  \n",
       "2006160           True  \n",
       "2345982          False  \n",
       "2838994           True  \n",
       "2806162           True  \n",
       "2369998           True  \n",
       "2070263           True  \n",
       "2257405           True  \n",
       "2348647          False  \n",
       "\n",
       "[10 rows x 23 columns]"
      ]
     },
     "execution_count": 28,
     "metadata": {},
     "output_type": "execute_result"
    }
   ],
   "source": [
    "# Now look at estimating outcomes, based on batter/pitcher quality and looking at residuals\n",
    "\n",
    "# start with a particular era (2008-2012)\n",
    "\n",
    "rng=range(2008, 2013)\n",
    "df_pa = pa.query('yr in @rng')\n",
    "df_pa.sample(10)"
   ]
  },
  {
   "cell_type": "code",
   "execution_count": null,
   "metadata": {},
   "outputs": [
    {
     "data": {
      "text/html": [
       "<div>\n",
       "<style scoped>\n",
       "    .dataframe tbody tr th:only-of-type {\n",
       "        vertical-align: middle;\n",
       "    }\n",
       "\n",
       "    .dataframe tbody tr th {\n",
       "        vertical-align: top;\n",
       "    }\n",
       "\n",
       "    .dataframe thead th {\n",
       "        text-align: right;\n",
       "    }\n",
       "</style>\n",
       "<table border=\"1\" class=\"dataframe\">\n",
       "  <thead>\n",
       "    <tr style=\"text-align: right;\">\n",
       "      <th></th>\n",
       "      <th>event_cd</th>\n",
       "      <th>event_re</th>\n",
       "    </tr>\n",
       "  </thead>\n",
       "  <tbody>\n",
       "    <tr>\n",
       "      <th>0</th>\n",
       "      <td>2</td>\n",
       "      <td>-0.274422</td>\n",
       "    </tr>\n",
       "    <tr>\n",
       "      <th>1</th>\n",
       "      <td>3</td>\n",
       "      <td>-0.276082</td>\n",
       "    </tr>\n",
       "    <tr>\n",
       "      <th>2</th>\n",
       "      <td>14</td>\n",
       "      <td>0.307662</td>\n",
       "    </tr>\n",
       "    <tr>\n",
       "      <th>3</th>\n",
       "      <td>15</td>\n",
       "      <td>0.169918</td>\n",
       "    </tr>\n",
       "    <tr>\n",
       "      <th>4</th>\n",
       "      <td>16</td>\n",
       "      <td>0.329926</td>\n",
       "    </tr>\n",
       "    <tr>\n",
       "      <th>5</th>\n",
       "      <td>17</td>\n",
       "      <td>0.362597</td>\n",
       "    </tr>\n",
       "    <tr>\n",
       "      <th>6</th>\n",
       "      <td>18</td>\n",
       "      <td>0.495224</td>\n",
       "    </tr>\n",
       "    <tr>\n",
       "      <th>7</th>\n",
       "      <td>19</td>\n",
       "      <td>-0.195556</td>\n",
       "    </tr>\n",
       "    <tr>\n",
       "      <th>8</th>\n",
       "      <td>20</td>\n",
       "      <td>0.453606</td>\n",
       "    </tr>\n",
       "    <tr>\n",
       "      <th>9</th>\n",
       "      <td>21</td>\n",
       "      <td>0.760431</td>\n",
       "    </tr>\n",
       "    <tr>\n",
       "      <th>10</th>\n",
       "      <td>22</td>\n",
       "      <td>1.051710</td>\n",
       "    </tr>\n",
       "    <tr>\n",
       "      <th>11</th>\n",
       "      <td>23</td>\n",
       "      <td>1.393442</td>\n",
       "    </tr>\n",
       "  </tbody>\n",
       "</table>\n",
       "</div>"
      ],
      "text/plain": [
       "    event_cd  event_re\n",
       "0          2 -0.274422\n",
       "1          3 -0.276082\n",
       "2         14  0.307662\n",
       "3         15  0.169918\n",
       "4         16  0.329926\n",
       "5         17  0.362597\n",
       "6         18  0.495224\n",
       "7         19 -0.195556\n",
       "8         20  0.453606\n",
       "9         21  0.760431\n",
       "10        22  1.051710\n",
       "11        23  1.393442"
      ]
     },
     "execution_count": 29,
     "metadata": {},
     "output_type": "execute_result"
    }
   ],
   "source": [
    "event_res = pd.read_csv('~/temp/event_res.csv')\n",
    "event_res"
   ]
  },
  {
   "cell_type": "code",
   "execution_count": null,
   "metadata": {},
   "outputs": [
    {
     "data": {
      "text/html": [
       "<div>\n",
       "<style scoped>\n",
       "    .dataframe tbody tr th:only-of-type {\n",
       "        vertical-align: middle;\n",
       "    }\n",
       "\n",
       "    .dataframe tbody tr th {\n",
       "        vertical-align: top;\n",
       "    }\n",
       "\n",
       "    .dataframe thead th {\n",
       "        text-align: right;\n",
       "    }\n",
       "</style>\n",
       "<table border=\"1\" class=\"dataframe\">\n",
       "  <thead>\n",
       "    <tr style=\"text-align: right;\">\n",
       "      <th></th>\n",
       "      <th>game_id</th>\n",
       "      <th>date</th>\n",
       "      <th>game_type</th>\n",
       "      <th>tb_ct</th>\n",
       "      <th>bat_fld_cd</th>\n",
       "      <th>event_cd</th>\n",
       "      <th>bat_event_fl</th>\n",
       "      <th>fld_team_id</th>\n",
       "      <th>pit_hand_cd</th>\n",
       "      <th>pit_id</th>\n",
       "      <th>...</th>\n",
       "      <th>h_fl</th>\n",
       "      <th>ob_fl</th>\n",
       "      <th>yr</th>\n",
       "      <th>bat_lg_id</th>\n",
       "      <th>fld_lg_id</th>\n",
       "      <th>bat_age</th>\n",
       "      <th>pit_age</th>\n",
       "      <th>bat_prime_age</th>\n",
       "      <th>pit_prime_age</th>\n",
       "      <th>event_re</th>\n",
       "    </tr>\n",
       "  </thead>\n",
       "  <tbody>\n",
       "    <tr>\n",
       "      <th>201207</th>\n",
       "      <td>FLO200804160</td>\n",
       "      <td>2008-04-16</td>\n",
       "      <td>RS</td>\n",
       "      <td>0</td>\n",
       "      <td>9</td>\n",
       "      <td>2</td>\n",
       "      <td>True</td>\n",
       "      <td>ATL</td>\n",
       "      <td>R</td>\n",
       "      <td>hudst001</td>\n",
       "      <td>...</td>\n",
       "      <td>0</td>\n",
       "      <td>0</td>\n",
       "      <td>2008</td>\n",
       "      <td>NL</td>\n",
       "      <td>NL</td>\n",
       "      <td>33.0</td>\n",
       "      <td>27.0</td>\n",
       "      <td>False</td>\n",
       "      <td>True</td>\n",
       "      <td>-0.274422</td>\n",
       "    </tr>\n",
       "    <tr>\n",
       "      <th>167868</th>\n",
       "      <td>BAL200809050</td>\n",
       "      <td>2008-09-05</td>\n",
       "      <td>RS</td>\n",
       "      <td>0</td>\n",
       "      <td>5</td>\n",
       "      <td>2</td>\n",
       "      <td>True</td>\n",
       "      <td>BAL</td>\n",
       "      <td>R</td>\n",
       "      <td>bierr001</td>\n",
       "      <td>...</td>\n",
       "      <td>0</td>\n",
       "      <td>0</td>\n",
       "      <td>2008</td>\n",
       "      <td>AL</td>\n",
       "      <td>AL</td>\n",
       "      <td>30.0</td>\n",
       "      <td>29.0</td>\n",
       "      <td>True</td>\n",
       "      <td>True</td>\n",
       "      <td>-0.274422</td>\n",
       "    </tr>\n",
       "    <tr>\n",
       "      <th>600014</th>\n",
       "      <td>SFN200807040</td>\n",
       "      <td>2008-07-04</td>\n",
       "      <td>RS</td>\n",
       "      <td>0</td>\n",
       "      <td>7</td>\n",
       "      <td>3</td>\n",
       "      <td>True</td>\n",
       "      <td>LAN</td>\n",
       "      <td>L</td>\n",
       "      <td>kuo-h001</td>\n",
       "      <td>...</td>\n",
       "      <td>0</td>\n",
       "      <td>0</td>\n",
       "      <td>2008</td>\n",
       "      <td>NL</td>\n",
       "      <td>NL</td>\n",
       "      <td>32.0</td>\n",
       "      <td>24.0</td>\n",
       "      <td>False</td>\n",
       "      <td>True</td>\n",
       "      <td>-0.276082</td>\n",
       "    </tr>\n",
       "    <tr>\n",
       "      <th>32482</th>\n",
       "      <td>CLE200906280</td>\n",
       "      <td>2009-06-28</td>\n",
       "      <td>RS</td>\n",
       "      <td>1</td>\n",
       "      <td>5</td>\n",
       "      <td>20</td>\n",
       "      <td>True</td>\n",
       "      <td>CIN</td>\n",
       "      <td>L</td>\n",
       "      <td>herrd001</td>\n",
       "      <td>...</td>\n",
       "      <td>1</td>\n",
       "      <td>1</td>\n",
       "      <td>2009</td>\n",
       "      <td>AL</td>\n",
       "      <td>NL</td>\n",
       "      <td>26.0</td>\n",
       "      <td>33.0</td>\n",
       "      <td>True</td>\n",
       "      <td>False</td>\n",
       "      <td>0.453606</td>\n",
       "    </tr>\n",
       "    <tr>\n",
       "      <th>28572</th>\n",
       "      <td>CHN200808090</td>\n",
       "      <td>2008-08-09</td>\n",
       "      <td>RS</td>\n",
       "      <td>1</td>\n",
       "      <td>2</td>\n",
       "      <td>20</td>\n",
       "      <td>True</td>\n",
       "      <td>CHN</td>\n",
       "      <td>R</td>\n",
       "      <td>zambc001</td>\n",
       "      <td>...</td>\n",
       "      <td>1</td>\n",
       "      <td>1</td>\n",
       "      <td>2008</td>\n",
       "      <td>NL</td>\n",
       "      <td>NL</td>\n",
       "      <td>26.0</td>\n",
       "      <td>28.0</td>\n",
       "      <td>True</td>\n",
       "      <td>True</td>\n",
       "      <td>0.453606</td>\n",
       "    </tr>\n",
       "    <tr>\n",
       "      <th>269805</th>\n",
       "      <td>BAL200907010</td>\n",
       "      <td>2009-07-01</td>\n",
       "      <td>RS</td>\n",
       "      <td>0</td>\n",
       "      <td>5</td>\n",
       "      <td>2</td>\n",
       "      <td>True</td>\n",
       "      <td>BAL</td>\n",
       "      <td>R</td>\n",
       "      <td>baezd001</td>\n",
       "      <td>...</td>\n",
       "      <td>0</td>\n",
       "      <td>0</td>\n",
       "      <td>2009</td>\n",
       "      <td>AL</td>\n",
       "      <td>AL</td>\n",
       "      <td>30.0</td>\n",
       "      <td>30.0</td>\n",
       "      <td>True</td>\n",
       "      <td>True</td>\n",
       "      <td>-0.274422</td>\n",
       "    </tr>\n",
       "    <tr>\n",
       "      <th>729518</th>\n",
       "      <td>ATL201207270</td>\n",
       "      <td>2012-07-27</td>\n",
       "      <td>RS</td>\n",
       "      <td>0</td>\n",
       "      <td>9</td>\n",
       "      <td>3</td>\n",
       "      <td>True</td>\n",
       "      <td>PHI</td>\n",
       "      <td>L</td>\n",
       "      <td>horsj001</td>\n",
       "      <td>...</td>\n",
       "      <td>0</td>\n",
       "      <td>0</td>\n",
       "      <td>2012</td>\n",
       "      <td>NL</td>\n",
       "      <td>NL</td>\n",
       "      <td>29.0</td>\n",
       "      <td>27.0</td>\n",
       "      <td>True</td>\n",
       "      <td>True</td>\n",
       "      <td>-0.276082</td>\n",
       "    </tr>\n",
       "    <tr>\n",
       "      <th>841128</th>\n",
       "      <td>OAK201209150</td>\n",
       "      <td>2012-09-15</td>\n",
       "      <td>RS</td>\n",
       "      <td>0</td>\n",
       "      <td>8</td>\n",
       "      <td>14</td>\n",
       "      <td>True</td>\n",
       "      <td>BAL</td>\n",
       "      <td>L</td>\n",
       "      <td>britz001</td>\n",
       "      <td>...</td>\n",
       "      <td>0</td>\n",
       "      <td>1</td>\n",
       "      <td>2012</td>\n",
       "      <td>AL</td>\n",
       "      <td>AL</td>\n",
       "      <td>29.0</td>\n",
       "      <td>26.0</td>\n",
       "      <td>True</td>\n",
       "      <td>True</td>\n",
       "      <td>0.307662</td>\n",
       "    </tr>\n",
       "    <tr>\n",
       "      <th>489821</th>\n",
       "      <td>OAK201208060</td>\n",
       "      <td>2012-08-06</td>\n",
       "      <td>RS</td>\n",
       "      <td>0</td>\n",
       "      <td>4</td>\n",
       "      <td>2</td>\n",
       "      <td>True</td>\n",
       "      <td>OAK</td>\n",
       "      <td>R</td>\n",
       "      <td>parkj001</td>\n",
       "      <td>...</td>\n",
       "      <td>0</td>\n",
       "      <td>0</td>\n",
       "      <td>2012</td>\n",
       "      <td>AL</td>\n",
       "      <td>AL</td>\n",
       "      <td>29.0</td>\n",
       "      <td>30.0</td>\n",
       "      <td>True</td>\n",
       "      <td>True</td>\n",
       "      <td>-0.274422</td>\n",
       "    </tr>\n",
       "    <tr>\n",
       "      <th>796225</th>\n",
       "      <td>SFN200909250</td>\n",
       "      <td>2009-09-25</td>\n",
       "      <td>RS</td>\n",
       "      <td>0</td>\n",
       "      <td>5</td>\n",
       "      <td>14</td>\n",
       "      <td>True</td>\n",
       "      <td>SFN</td>\n",
       "      <td>R</td>\n",
       "      <td>linct001</td>\n",
       "      <td>...</td>\n",
       "      <td>0</td>\n",
       "      <td>1</td>\n",
       "      <td>2009</td>\n",
       "      <td>NL</td>\n",
       "      <td>NL</td>\n",
       "      <td>30.0</td>\n",
       "      <td>32.0</td>\n",
       "      <td>True</td>\n",
       "      <td>False</td>\n",
       "      <td>0.307662</td>\n",
       "    </tr>\n",
       "  </tbody>\n",
       "</table>\n",
       "<p>10 rows × 24 columns</p>\n",
       "</div>"
      ],
      "text/plain": [
       "             game_id       date game_type  tb_ct  bat_fld_cd  event_cd  \\\n",
       "201207  FLO200804160 2008-04-16        RS      0           9         2   \n",
       "167868  BAL200809050 2008-09-05        RS      0           5         2   \n",
       "600014  SFN200807040 2008-07-04        RS      0           7         3   \n",
       "32482   CLE200906280 2009-06-28        RS      1           5        20   \n",
       "28572   CHN200808090 2008-08-09        RS      1           2        20   \n",
       "269805  BAL200907010 2009-07-01        RS      0           5         2   \n",
       "729518  ATL201207270 2012-07-27        RS      0           9         3   \n",
       "841128  OAK201209150 2012-09-15        RS      0           8        14   \n",
       "489821  OAK201208060 2012-08-06        RS      0           4         2   \n",
       "796225  SFN200909250 2009-09-25        RS      0           5        14   \n",
       "\n",
       "        bat_event_fl fld_team_id pit_hand_cd    pit_id  ... h_fl ob_fl    yr  \\\n",
       "201207          True         ATL           R  hudst001  ...    0     0  2008   \n",
       "167868          True         BAL           R  bierr001  ...    0     0  2008   \n",
       "600014          True         LAN           L  kuo-h001  ...    0     0  2008   \n",
       "32482           True         CIN           L  herrd001  ...    1     1  2009   \n",
       "28572           True         CHN           R  zambc001  ...    1     1  2008   \n",
       "269805          True         BAL           R  baezd001  ...    0     0  2009   \n",
       "729518          True         PHI           L  horsj001  ...    0     0  2012   \n",
       "841128          True         BAL           L  britz001  ...    0     1  2012   \n",
       "489821          True         OAK           R  parkj001  ...    0     0  2012   \n",
       "796225          True         SFN           R  linct001  ...    0     1  2009   \n",
       "\n",
       "        bat_lg_id  fld_lg_id  bat_age  pit_age bat_prime_age pit_prime_age  \\\n",
       "201207         NL         NL     33.0     27.0         False          True   \n",
       "167868         AL         AL     30.0     29.0          True          True   \n",
       "600014         NL         NL     32.0     24.0         False          True   \n",
       "32482          AL         NL     26.0     33.0          True         False   \n",
       "28572          NL         NL     26.0     28.0          True          True   \n",
       "269805         AL         AL     30.0     30.0          True          True   \n",
       "729518         NL         NL     29.0     27.0          True          True   \n",
       "841128         AL         AL     29.0     26.0          True          True   \n",
       "489821         AL         AL     29.0     30.0          True          True   \n",
       "796225         NL         NL     30.0     32.0          True         False   \n",
       "\n",
       "        event_re  \n",
       "201207 -0.274422  \n",
       "167868 -0.274422  \n",
       "600014 -0.276082  \n",
       "32482   0.453606  \n",
       "28572   0.453606  \n",
       "269805 -0.274422  \n",
       "729518 -0.276082  \n",
       "841128  0.307662  \n",
       "489821 -0.274422  \n",
       "796225  0.307662  \n",
       "\n",
       "[10 rows x 24 columns]"
      ]
     },
     "execution_count": 31,
     "metadata": {},
     "output_type": "execute_result"
    }
   ],
   "source": [
    "df_pa = pd.merge(left=df_pa, right=event_res)\n",
    "df_pa.sample(10)"
   ]
  },
  {
   "cell_type": "code",
   "execution_count": null,
   "metadata": {},
   "outputs": [
    {
     "data": {
      "text/plain": [
       "Index(['game_id', 'date', 'game_type', 'tb_ct', 'bat_fld_cd', 'event_cd',\n",
       "       'bat_event_fl', 'fld_team_id', 'pit_hand_cd', 'pit_id', 'bat_team_id',\n",
       "       'bat_hand_cd', 'bat_id', 'ab_fl', 'h_fl', 'ob_fl', 'yr', 'bat_lg_id',\n",
       "       'fld_lg_id', 'bat_age', 'pit_age', 'bat_prime_age', 'pit_prime_age',\n",
       "       'event_re'],\n",
       "      dtype='object')"
      ]
     },
     "execution_count": 32,
     "metadata": {},
     "output_type": "execute_result"
    }
   ],
   "source": [
    "df_pa.columns"
   ]
  },
  {
   "cell_type": "code",
   "execution_count": null,
   "metadata": {},
   "outputs": [
    {
     "data": {
      "text/plain": [
       "pit_id\n",
       "aardd001   -0.028928\n",
       "abadf001    0.037526\n",
       "abrej002    0.048482\n",
       "abrew001    0.112750\n",
       "accaj001    0.025265\n",
       "              ...   \n",
       "ziegb001   -0.024585\n",
       "zimmj003   -0.005309\n",
       "zinkc001    0.118219\n",
       "zitob001    0.012134\n",
       "zumaj001   -0.002431\n",
       "Name: pit_re_avg, Length: 1225, dtype: float64"
      ]
     },
     "execution_count": 34,
     "metadata": {},
     "output_type": "execute_result"
    }
   ],
   "source": [
    "pit_re_avg = bsu.summarize_events(df_pa, ['pit_id'])['event_re_avg'].rename('pit_re_avg')\n",
    "pit_re_avg"
   ]
  },
  {
   "cell_type": "code",
   "execution_count": null,
   "metadata": {},
   "outputs": [
    {
     "data": {
      "text/plain": [
       "bat_id\n",
       "aberr001    0.030787\n",
       "abreb001    0.016909\n",
       "abret001   -0.062246\n",
       "ackld001   -0.020007\n",
       "adamm002   -0.033985\n",
       "              ...   \n",
       "zaung001   -0.000677\n",
       "zawal001   -0.057689\n",
       "zimmj003   -0.274976\n",
       "zimmr001    0.031817\n",
       "zobrb001    0.027901\n",
       "Name: bat_re_avg, Length: 1154, dtype: float64"
      ]
     },
     "execution_count": 35,
     "metadata": {},
     "output_type": "execute_result"
    }
   ],
   "source": [
    "bat_re_avg = bsu.summarize_events(df_pa, ['bat_id'])['event_re_avg'].rename('bat_re_avg')\n",
    "bat_re_avg"
   ]
  },
  {
   "cell_type": "code",
   "execution_count": null,
   "metadata": {},
   "outputs": [
    {
     "data": {
      "text/html": [
       "<div>\n",
       "<style scoped>\n",
       "    .dataframe tbody tr th:only-of-type {\n",
       "        vertical-align: middle;\n",
       "    }\n",
       "\n",
       "    .dataframe tbody tr th {\n",
       "        vertical-align: top;\n",
       "    }\n",
       "\n",
       "    .dataframe thead th {\n",
       "        text-align: right;\n",
       "    }\n",
       "</style>\n",
       "<table border=\"1\" class=\"dataframe\">\n",
       "  <thead>\n",
       "    <tr style=\"text-align: right;\">\n",
       "      <th></th>\n",
       "      <th>game_id</th>\n",
       "      <th>date</th>\n",
       "      <th>game_type</th>\n",
       "      <th>tb_ct</th>\n",
       "      <th>bat_fld_cd</th>\n",
       "      <th>event_cd</th>\n",
       "      <th>bat_event_fl</th>\n",
       "      <th>fld_team_id</th>\n",
       "      <th>pit_hand_cd</th>\n",
       "      <th>pit_id</th>\n",
       "      <th>...</th>\n",
       "      <th>yr</th>\n",
       "      <th>bat_lg_id</th>\n",
       "      <th>fld_lg_id</th>\n",
       "      <th>bat_age</th>\n",
       "      <th>pit_age</th>\n",
       "      <th>bat_prime_age</th>\n",
       "      <th>pit_prime_age</th>\n",
       "      <th>event_re</th>\n",
       "      <th>pit_re_avg</th>\n",
       "      <th>bat_re_avg</th>\n",
       "    </tr>\n",
       "  </thead>\n",
       "  <tbody>\n",
       "    <tr>\n",
       "      <th>293684</th>\n",
       "      <td>BAL200907110</td>\n",
       "      <td>2009-07-11</td>\n",
       "      <td>RS</td>\n",
       "      <td>2</td>\n",
       "      <td>6</td>\n",
       "      <td>21</td>\n",
       "      <td>True</td>\n",
       "      <td>BAL</td>\n",
       "      <td>L</td>\n",
       "      <td>hillr001</td>\n",
       "      <td>...</td>\n",
       "      <td>2009</td>\n",
       "      <td>AL</td>\n",
       "      <td>AL</td>\n",
       "      <td>30.0</td>\n",
       "      <td>30.0</td>\n",
       "      <td>True</td>\n",
       "      <td>True</td>\n",
       "      <td>0.760431</td>\n",
       "      <td>0.020750</td>\n",
       "      <td>0.001633</td>\n",
       "    </tr>\n",
       "    <tr>\n",
       "      <th>785184</th>\n",
       "      <td>SLN201106020</td>\n",
       "      <td>2011-06-02</td>\n",
       "      <td>RS</td>\n",
       "      <td>0</td>\n",
       "      <td>2</td>\n",
       "      <td>2</td>\n",
       "      <td>True</td>\n",
       "      <td>SLN</td>\n",
       "      <td>R</td>\n",
       "      <td>cletm001</td>\n",
       "      <td>...</td>\n",
       "      <td>2011</td>\n",
       "      <td>NL</td>\n",
       "      <td>NL</td>\n",
       "      <td>28.0</td>\n",
       "      <td>28.0</td>\n",
       "      <td>True</td>\n",
       "      <td>True</td>\n",
       "      <td>-0.274422</td>\n",
       "      <td>0.135676</td>\n",
       "      <td>-0.047591</td>\n",
       "    </tr>\n",
       "    <tr>\n",
       "      <th>220243</th>\n",
       "      <td>LAN201005170</td>\n",
       "      <td>2010-05-17</td>\n",
       "      <td>RS</td>\n",
       "      <td>0</td>\n",
       "      <td>9</td>\n",
       "      <td>2</td>\n",
       "      <td>True</td>\n",
       "      <td>LAN</td>\n",
       "      <td>R</td>\n",
       "      <td>tronr001</td>\n",
       "      <td>...</td>\n",
       "      <td>2010</td>\n",
       "      <td>NL</td>\n",
       "      <td>NL</td>\n",
       "      <td>29.0</td>\n",
       "      <td>27.0</td>\n",
       "      <td>True</td>\n",
       "      <td>True</td>\n",
       "      <td>-0.274422</td>\n",
       "      <td>0.002025</td>\n",
       "      <td>0.019083</td>\n",
       "    </tr>\n",
       "    <tr>\n",
       "      <th>883821</th>\n",
       "      <td>NYN200804300</td>\n",
       "      <td>2008-04-30</td>\n",
       "      <td>RS</td>\n",
       "      <td>0</td>\n",
       "      <td>2</td>\n",
       "      <td>2</td>\n",
       "      <td>True</td>\n",
       "      <td>PIT</td>\n",
       "      <td>L</td>\n",
       "      <td>gorzt001</td>\n",
       "      <td>...</td>\n",
       "      <td>2008</td>\n",
       "      <td>NL</td>\n",
       "      <td>NL</td>\n",
       "      <td>29.0</td>\n",
       "      <td>29.0</td>\n",
       "      <td>True</td>\n",
       "      <td>True</td>\n",
       "      <td>-0.274422</td>\n",
       "      <td>0.017611</td>\n",
       "      <td>-0.128326</td>\n",
       "    </tr>\n",
       "    <tr>\n",
       "      <th>366662</th>\n",
       "      <td>CIN201105050</td>\n",
       "      <td>2011-05-05</td>\n",
       "      <td>RS</td>\n",
       "      <td>0</td>\n",
       "      <td>8</td>\n",
       "      <td>14</td>\n",
       "      <td>True</td>\n",
       "      <td>HOU</td>\n",
       "      <td>R</td>\n",
       "      <td>myerb001</td>\n",
       "      <td>...</td>\n",
       "      <td>2011</td>\n",
       "      <td>NL</td>\n",
       "      <td>NL</td>\n",
       "      <td>28.0</td>\n",
       "      <td>28.0</td>\n",
       "      <td>True</td>\n",
       "      <td>True</td>\n",
       "      <td>0.307662</td>\n",
       "      <td>0.010802</td>\n",
       "      <td>0.003772</td>\n",
       "    </tr>\n",
       "    <tr>\n",
       "      <th>495</th>\n",
       "      <td>NYA200807060</td>\n",
       "      <td>2008-07-06</td>\n",
       "      <td>RS</td>\n",
       "      <td>0</td>\n",
       "      <td>4</td>\n",
       "      <td>3</td>\n",
       "      <td>True</td>\n",
       "      <td>NYA</td>\n",
       "      <td>R</td>\n",
       "      <td>rivem002</td>\n",
       "      <td>...</td>\n",
       "      <td>2008</td>\n",
       "      <td>AL</td>\n",
       "      <td>AL</td>\n",
       "      <td>31.0</td>\n",
       "      <td>28.0</td>\n",
       "      <td>False</td>\n",
       "      <td>True</td>\n",
       "      <td>-0.276082</td>\n",
       "      <td>-0.087606</td>\n",
       "      <td>0.032899</td>\n",
       "    </tr>\n",
       "    <tr>\n",
       "      <th>788593</th>\n",
       "      <td>NYA201005190</td>\n",
       "      <td>2010-05-19</td>\n",
       "      <td>RS</td>\n",
       "      <td>0</td>\n",
       "      <td>3</td>\n",
       "      <td>14</td>\n",
       "      <td>True</td>\n",
       "      <td>TBA</td>\n",
       "      <td>R</td>\n",
       "      <td>corml001</td>\n",
       "      <td>...</td>\n",
       "      <td>2010</td>\n",
       "      <td>AL</td>\n",
       "      <td>AL</td>\n",
       "      <td>30.0</td>\n",
       "      <td>31.0</td>\n",
       "      <td>True</td>\n",
       "      <td>False</td>\n",
       "      <td>0.307662</td>\n",
       "      <td>0.011460</td>\n",
       "      <td>-0.006529</td>\n",
       "    </tr>\n",
       "    <tr>\n",
       "      <th>198691</th>\n",
       "      <td>SFN201004250</td>\n",
       "      <td>2010-04-25</td>\n",
       "      <td>RS</td>\n",
       "      <td>1</td>\n",
       "      <td>3</td>\n",
       "      <td>20</td>\n",
       "      <td>True</td>\n",
       "      <td>SFN</td>\n",
       "      <td>R</td>\n",
       "      <td>cainm001</td>\n",
       "      <td>...</td>\n",
       "      <td>2010</td>\n",
       "      <td>NL</td>\n",
       "      <td>NL</td>\n",
       "      <td>28.0</td>\n",
       "      <td>27.0</td>\n",
       "      <td>True</td>\n",
       "      <td>True</td>\n",
       "      <td>0.453606</td>\n",
       "      <td>-0.024043</td>\n",
       "      <td>0.072552</td>\n",
       "    </tr>\n",
       "    <tr>\n",
       "      <th>55885</th>\n",
       "      <td>CLE200804020</td>\n",
       "      <td>2008-04-02</td>\n",
       "      <td>RS</td>\n",
       "      <td>0</td>\n",
       "      <td>6</td>\n",
       "      <td>3</td>\n",
       "      <td>True</td>\n",
       "      <td>CHA</td>\n",
       "      <td>R</td>\n",
       "      <td>vazqj001</td>\n",
       "      <td>...</td>\n",
       "      <td>2008</td>\n",
       "      <td>AL</td>\n",
       "      <td>AL</td>\n",
       "      <td>34.0</td>\n",
       "      <td>28.0</td>\n",
       "      <td>False</td>\n",
       "      <td>True</td>\n",
       "      <td>-0.276082</td>\n",
       "      <td>-0.012495</td>\n",
       "      <td>-0.001217</td>\n",
       "    </tr>\n",
       "    <tr>\n",
       "      <th>603514</th>\n",
       "      <td>PIT201207200</td>\n",
       "      <td>2012-07-20</td>\n",
       "      <td>RS</td>\n",
       "      <td>0</td>\n",
       "      <td>2</td>\n",
       "      <td>3</td>\n",
       "      <td>True</td>\n",
       "      <td>MIA</td>\n",
       "      <td>R</td>\n",
       "      <td>nolar001</td>\n",
       "      <td>...</td>\n",
       "      <td>2012</td>\n",
       "      <td>NL</td>\n",
       "      <td>NL</td>\n",
       "      <td>29.0</td>\n",
       "      <td>27.0</td>\n",
       "      <td>True</td>\n",
       "      <td>True</td>\n",
       "      <td>-0.276082</td>\n",
       "      <td>0.002415</td>\n",
       "      <td>-0.023416</td>\n",
       "    </tr>\n",
       "  </tbody>\n",
       "</table>\n",
       "<p>10 rows × 26 columns</p>\n",
       "</div>"
      ],
      "text/plain": [
       "             game_id       date game_type  tb_ct  bat_fld_cd  event_cd  \\\n",
       "293684  BAL200907110 2009-07-11        RS      2           6        21   \n",
       "785184  SLN201106020 2011-06-02        RS      0           2         2   \n",
       "220243  LAN201005170 2010-05-17        RS      0           9         2   \n",
       "883821  NYN200804300 2008-04-30        RS      0           2         2   \n",
       "366662  CIN201105050 2011-05-05        RS      0           8        14   \n",
       "495     NYA200807060 2008-07-06        RS      0           4         3   \n",
       "788593  NYA201005190 2010-05-19        RS      0           3        14   \n",
       "198691  SFN201004250 2010-04-25        RS      1           3        20   \n",
       "55885   CLE200804020 2008-04-02        RS      0           6         3   \n",
       "603514  PIT201207200 2012-07-20        RS      0           2         3   \n",
       "\n",
       "        bat_event_fl fld_team_id pit_hand_cd    pit_id  ...    yr bat_lg_id  \\\n",
       "293684          True         BAL           L  hillr001  ...  2009        AL   \n",
       "785184          True         SLN           R  cletm001  ...  2011        NL   \n",
       "220243          True         LAN           R  tronr001  ...  2010        NL   \n",
       "883821          True         PIT           L  gorzt001  ...  2008        NL   \n",
       "366662          True         HOU           R  myerb001  ...  2011        NL   \n",
       "495             True         NYA           R  rivem002  ...  2008        AL   \n",
       "788593          True         TBA           R  corml001  ...  2010        AL   \n",
       "198691          True         SFN           R  cainm001  ...  2010        NL   \n",
       "55885           True         CHA           R  vazqj001  ...  2008        AL   \n",
       "603514          True         MIA           R  nolar001  ...  2012        NL   \n",
       "\n",
       "       fld_lg_id  bat_age  pit_age  bat_prime_age  pit_prime_age  event_re  \\\n",
       "293684        AL     30.0     30.0           True           True  0.760431   \n",
       "785184        NL     28.0     28.0           True           True -0.274422   \n",
       "220243        NL     29.0     27.0           True           True -0.274422   \n",
       "883821        NL     29.0     29.0           True           True -0.274422   \n",
       "366662        NL     28.0     28.0           True           True  0.307662   \n",
       "495           AL     31.0     28.0          False           True -0.276082   \n",
       "788593        AL     30.0     31.0           True          False  0.307662   \n",
       "198691        NL     28.0     27.0           True           True  0.453606   \n",
       "55885         AL     34.0     28.0          False           True -0.276082   \n",
       "603514        NL     29.0     27.0           True           True -0.276082   \n",
       "\n",
       "       pit_re_avg  bat_re_avg  \n",
       "293684   0.020750    0.001633  \n",
       "785184   0.135676   -0.047591  \n",
       "220243   0.002025    0.019083  \n",
       "883821   0.017611   -0.128326  \n",
       "366662   0.010802    0.003772  \n",
       "495     -0.087606    0.032899  \n",
       "788593   0.011460   -0.006529  \n",
       "198691  -0.024043    0.072552  \n",
       "55885   -0.012495   -0.001217  \n",
       "603514   0.002415   -0.023416  \n",
       "\n",
       "[10 rows x 26 columns]"
      ]
     },
     "execution_count": 40,
     "metadata": {},
     "output_type": "execute_result"
    }
   ],
   "source": [
    "df_pa = pd.merge(left=(pd.merge(left=df_pa, right=pit_re_avg, on='pit_id')), right=bat_re_avg, on='bat_id')\n",
    "df_pa.sample(10)"
   ]
  },
  {
   "cell_type": "code",
   "execution_count": null,
   "metadata": {},
   "outputs": [
    {
     "data": {
      "text/plain": [
       "(0.00019005646319123227, array([0.99618291, 0.99536143]))"
      ]
     },
     "execution_count": 42,
     "metadata": {},
     "output_type": "execute_result"
    }
   ],
   "source": [
    "X1 = df_pa[['bat_re_avg', 'pit_re_avg']]\n",
    "y = df_pa['event_re']\n",
    "LR = LinearRegression()\n",
    "model1 = LR.fit(X1, y)\n",
    "model1.intercept_, model1.coef_"
   ]
  },
  {
   "cell_type": "code",
   "execution_count": null,
   "metadata": {},
   "outputs": [
    {
     "data": {
      "text/plain": [
       "0.4190748174025012"
      ]
     },
     "execution_count": 44,
     "metadata": {},
     "output_type": "execute_result"
    }
   ],
   "source": [
    "# Compute the RMSE of the LR model based on batter and pitcher quality\n",
    "y_true = df_pa['event_re']\n",
    "y_pred1 = model1.predict(X1)\n",
    "model1_RMSE = mean_squared_error(y_true, y_pred1, squared=False)\n",
    "model1_RMSE"
   ]
  },
  {
   "cell_type": "code",
   "execution_count": null,
   "metadata": {},
   "outputs": [
    {
     "data": {
      "text/plain": [
       "Index(['game_id', 'date', 'game_type', 'tb_ct', 'bat_fld_cd', 'event_cd',\n",
       "       'bat_event_fl', 'fld_team_id', 'pit_hand_cd', 'pit_id', 'bat_team_id',\n",
       "       'bat_hand_cd', 'bat_id', 'ab_fl', 'h_fl', 'ob_fl', 'yr', 'bat_lg_id',\n",
       "       'fld_lg_id', 'bat_age', 'pit_age', 'bat_prime_age', 'pit_prime_age',\n",
       "       'event_re', 'pit_re_avg', 'bat_re_avg', 'pred', 'pit_rating',\n",
       "       'bat_rating'],\n",
       "      dtype='object')"
      ]
     },
     "execution_count": 102,
     "metadata": {},
     "output_type": "execute_result"
    }
   ],
   "source": [
    "df_pa.columns"
   ]
  },
  {
   "cell_type": "code",
   "execution_count": null,
   "metadata": {},
   "outputs": [
    {
     "data": {
      "text/plain": [
       "bat_hand_cd  pit_hand_cd\n",
       "L            L             -0.025771\n",
       "             R              0.006512\n",
       "R            L              0.010636\n",
       "             R             -0.006178\n",
       "dtype: float64"
      ]
     },
     "execution_count": 50,
     "metadata": {},
     "output_type": "execute_result"
    }
   ],
   "source": [
    "df_pa['pred'] = y_pred1\n",
    "split = df_pa.groupby((['bat_hand_cd', 'pit_hand_cd']))[['pred', 'event_re']].mean()\n",
    "residual = split['event_re']-split['pred']\n",
    "residual"
   ]
  },
  {
   "cell_type": "code",
   "execution_count": null,
   "metadata": {},
   "outputs": [
    {
     "data": {
      "text/plain": [
       "bat_lg_id  fld_lg_id\n",
       "AL         AL           0.001490\n",
       "           NL           0.004125\n",
       "NL         AL          -0.006721\n",
       "           NL          -0.001088\n",
       "dtype: float64"
      ]
     },
     "execution_count": 51,
     "metadata": {},
     "output_type": "execute_result"
    }
   ],
   "source": [
    "split = df_pa.groupby((['bat_lg_id', 'fld_lg_id']))[['pred', 'event_re']].mean()\n",
    "residual = split['event_re']-split['pred']\n",
    "residual"
   ]
  },
  {
   "cell_type": "code",
   "execution_count": null,
   "metadata": {},
   "outputs": [],
   "source": [
    "bat_lg_al = pd.Series(np.where(df_pa['bat_lg_id']=='AL', True, False))\n",
    "pit_lg_al = pd.Series(np.where(df_pa['fld_lg_id']=='AL', True, False))\n",
    "intlg = bat_lg_al != pit_lg_al\n"
   ]
  },
  {
   "cell_type": "code",
   "execution_count": null,
   "metadata": {},
   "outputs": [
    {
     "data": {
      "text/plain": [
       "0         False\n",
       "1          True\n",
       "2          True\n",
       "3         False\n",
       "4         False\n",
       "          ...  \n",
       "899995    False\n",
       "899996    False\n",
       "899997     True\n",
       "899998     True\n",
       "899999     True\n",
       "Length: 900000, dtype: bool"
      ]
     },
     "execution_count": 98,
     "metadata": {},
     "output_type": "execute_result"
    }
   ],
   "source": [
    "bat_lg_al != pit_lg_al\n"
   ]
  },
  {
   "cell_type": "code",
   "execution_count": null,
   "metadata": {},
   "outputs": [
    {
     "data": {
      "text/plain": [
       "(-0.000903992185804734,\n",
       " array([ 0.99665089,  0.99779559,  0.00671178, -0.0041202 , -0.00149995]))"
      ]
     },
     "execution_count": 100,
     "metadata": {},
     "output_type": "execute_result"
    }
   ],
   "source": [
    "X1 = pd.concat([df_pa[['bat_re_avg', 'pit_re_avg']], bat_lg_al, pit_lg_al, intlg], axis=1)\n",
    "y = df_pa['event_re']\n",
    "LR = LinearRegression()\n",
    "model1 = LR.fit(X1, y)\n",
    "model1.intercept_, model1.coef_"
   ]
  },
  {
   "cell_type": "code",
   "execution_count": null,
   "metadata": {},
   "outputs": [
    {
     "data": {
      "text/plain": [
       "0.41906920176180956"
      ]
     },
     "execution_count": 101,
     "metadata": {},
     "output_type": "execute_result"
    }
   ],
   "source": [
    "# Compute the RMSE of the LR model based on batter and pitcher quality\n",
    "y_true = df_pa['event_re']\n",
    "y_pred1 = model1.predict(X1)\n",
    "model1_RMSE = mean_squared_error(y_true, y_pred1, squared=False)\n",
    "model1_RMSE"
   ]
  },
  {
   "cell_type": "code",
   "execution_count": null,
   "metadata": {},
   "outputs": [],
   "source": [
    "# So AL batters should get a 6.7 point boost, and AL pitchers 4.1 points\n",
    "AL_bat_adv = model1.coef_[2]\n",
    "AL_pit_adv = model1.coef_[3]"
   ]
  },
  {
   "cell_type": "code",
   "execution_count": null,
   "metadata": {},
   "outputs": [
    {
     "data": {
      "text/html": [
       "<div>\n",
       "<style scoped>\n",
       "    .dataframe tbody tr th:only-of-type {\n",
       "        vertical-align: middle;\n",
       "    }\n",
       "\n",
       "    .dataframe tbody tr th {\n",
       "        vertical-align: top;\n",
       "    }\n",
       "\n",
       "    .dataframe thead th {\n",
       "        text-align: right;\n",
       "    }\n",
       "</style>\n",
       "<table border=\"1\" class=\"dataframe\">\n",
       "  <thead>\n",
       "    <tr style=\"text-align: right;\">\n",
       "      <th>bat_lg_id</th>\n",
       "      <th>AL</th>\n",
       "      <th>NL</th>\n",
       "    </tr>\n",
       "    <tr>\n",
       "      <th>pit_id</th>\n",
       "      <th></th>\n",
       "      <th></th>\n",
       "    </tr>\n",
       "  </thead>\n",
       "  <tbody>\n",
       "    <tr>\n",
       "      <th>aardd001</th>\n",
       "      <td>641.0</td>\n",
       "      <td>89.0</td>\n",
       "    </tr>\n",
       "    <tr>\n",
       "      <th>abadf001</th>\n",
       "      <td>32.0</td>\n",
       "      <td>333.0</td>\n",
       "    </tr>\n",
       "    <tr>\n",
       "      <th>abrej002</th>\n",
       "      <td>0.0</td>\n",
       "      <td>33.0</td>\n",
       "    </tr>\n",
       "    <tr>\n",
       "      <th>abrew001</th>\n",
       "      <td>17.0</td>\n",
       "      <td>15.0</td>\n",
       "    </tr>\n",
       "    <tr>\n",
       "      <th>accaj001</th>\n",
       "      <td>458.0</td>\n",
       "      <td>66.0</td>\n",
       "    </tr>\n",
       "    <tr>\n",
       "      <th>...</th>\n",
       "      <td>...</td>\n",
       "      <td>...</td>\n",
       "    </tr>\n",
       "    <tr>\n",
       "      <th>ziegb001</th>\n",
       "      <td>841.0</td>\n",
       "      <td>455.0</td>\n",
       "    </tr>\n",
       "    <tr>\n",
       "      <th>zimmj003</th>\n",
       "      <td>281.0</td>\n",
       "      <td>1562.0</td>\n",
       "    </tr>\n",
       "    <tr>\n",
       "      <th>zinkc001</th>\n",
       "      <td>25.0</td>\n",
       "      <td>0.0</td>\n",
       "    </tr>\n",
       "    <tr>\n",
       "      <th>zitob001</th>\n",
       "      <td>333.0</td>\n",
       "      <td>2908.0</td>\n",
       "    </tr>\n",
       "    <tr>\n",
       "      <th>zumaj001</th>\n",
       "      <td>327.0</td>\n",
       "      <td>90.0</td>\n",
       "    </tr>\n",
       "  </tbody>\n",
       "</table>\n",
       "<p>1225 rows × 2 columns</p>\n",
       "</div>"
      ],
      "text/plain": [
       "bat_lg_id     AL      NL\n",
       "pit_id                  \n",
       "aardd001   641.0    89.0\n",
       "abadf001    32.0   333.0\n",
       "abrej002     0.0    33.0\n",
       "abrew001    17.0    15.0\n",
       "accaj001   458.0    66.0\n",
       "...          ...     ...\n",
       "ziegb001   841.0   455.0\n",
       "zimmj003   281.0  1562.0\n",
       "zinkc001    25.0     0.0\n",
       "zitob001   333.0  2908.0\n",
       "zumaj001   327.0    90.0\n",
       "\n",
       "[1225 rows x 2 columns]"
      ]
     },
     "execution_count": 68,
     "metadata": {},
     "output_type": "execute_result"
    }
   ],
   "source": [
    "pit_opp_bf = bsu.summarize_events(df_pa, ['pit_id', 'bat_lg_id'])['pa'].unstack().fillna(0)\n"
   ]
  },
  {
   "cell_type": "code",
   "execution_count": null,
   "metadata": {},
   "outputs": [
    {
     "data": {
      "text/html": [
       "<div>\n",
       "<style scoped>\n",
       "    .dataframe tbody tr th:only-of-type {\n",
       "        vertical-align: middle;\n",
       "    }\n",
       "\n",
       "    .dataframe tbody tr th {\n",
       "        vertical-align: top;\n",
       "    }\n",
       "\n",
       "    .dataframe thead th {\n",
       "        text-align: right;\n",
       "    }\n",
       "</style>\n",
       "<table border=\"1\" class=\"dataframe\">\n",
       "  <thead>\n",
       "    <tr style=\"text-align: right;\">\n",
       "      <th></th>\n",
       "      <th>pit_re_avg</th>\n",
       "      <th>0</th>\n",
       "    </tr>\n",
       "    <tr>\n",
       "      <th>pit_id</th>\n",
       "      <th></th>\n",
       "      <th></th>\n",
       "    </tr>\n",
       "  </thead>\n",
       "  <tbody>\n",
       "    <tr>\n",
       "      <th>aardd001</th>\n",
       "      <td>-0.028928</td>\n",
       "      <td>-0.034808</td>\n",
       "    </tr>\n",
       "    <tr>\n",
       "      <th>abadf001</th>\n",
       "      <td>0.037526</td>\n",
       "      <td>0.036938</td>\n",
       "    </tr>\n",
       "    <tr>\n",
       "      <th>abrej002</th>\n",
       "      <td>0.048482</td>\n",
       "      <td>0.048482</td>\n",
       "    </tr>\n",
       "    <tr>\n",
       "      <th>abrew001</th>\n",
       "      <td>0.112750</td>\n",
       "      <td>0.109192</td>\n",
       "    </tr>\n",
       "    <tr>\n",
       "      <th>accaj001</th>\n",
       "      <td>0.025265</td>\n",
       "      <td>0.019412</td>\n",
       "    </tr>\n",
       "    <tr>\n",
       "      <th>...</th>\n",
       "      <td>...</td>\n",
       "      <td>...</td>\n",
       "    </tr>\n",
       "    <tr>\n",
       "      <th>ziegb001</th>\n",
       "      <td>-0.024585</td>\n",
       "      <td>-0.028930</td>\n",
       "    </tr>\n",
       "    <tr>\n",
       "      <th>zimmj003</th>\n",
       "      <td>-0.005309</td>\n",
       "      <td>-0.006330</td>\n",
       "    </tr>\n",
       "    <tr>\n",
       "      <th>zinkc001</th>\n",
       "      <td>0.118219</td>\n",
       "      <td>0.111522</td>\n",
       "    </tr>\n",
       "    <tr>\n",
       "      <th>zitob001</th>\n",
       "      <td>0.012134</td>\n",
       "      <td>0.011445</td>\n",
       "    </tr>\n",
       "    <tr>\n",
       "      <th>zumaj001</th>\n",
       "      <td>-0.002431</td>\n",
       "      <td>-0.007683</td>\n",
       "    </tr>\n",
       "  </tbody>\n",
       "</table>\n",
       "<p>1225 rows × 2 columns</p>\n",
       "</div>"
      ],
      "text/plain": [
       "          pit_re_avg         0\n",
       "pit_id                        \n",
       "aardd001   -0.028928 -0.034808\n",
       "abadf001    0.037526  0.036938\n",
       "abrej002    0.048482  0.048482\n",
       "abrew001    0.112750  0.109192\n",
       "accaj001    0.025265  0.019412\n",
       "...              ...       ...\n",
       "ziegb001   -0.024585 -0.028930\n",
       "zimmj003   -0.005309 -0.006330\n",
       "zinkc001    0.118219  0.111522\n",
       "zitob001    0.012134  0.011445\n",
       "zumaj001   -0.002431 -0.007683\n",
       "\n",
       "[1225 rows x 2 columns]"
      ]
     },
     "execution_count": 76,
     "metadata": {},
     "output_type": "execute_result"
    }
   ],
   "source": [
    "pit_AL_pct = pit_opp_bf['AL']/pit_opp_bf.sum(axis=1)\n",
    "pit_rating = pit_re_avg - AL_bat_adv*pit_AL_pct\n",
    "pd.concat([pit_re_avg, pit_rating], axis=1)"
   ]
  },
  {
   "cell_type": "code",
   "execution_count": null,
   "metadata": {},
   "outputs": [
    {
     "data": {
      "text/plain": [
       "pit_id\n",
       "aardd001    0.878082\n",
       "abadf001    0.087671\n",
       "abrej002    0.000000\n",
       "abrew001    0.531250\n",
       "accaj001    0.874046\n",
       "              ...   \n",
       "ziegb001    0.648920\n",
       "zimmj003    0.152469\n",
       "zinkc001    1.000000\n",
       "zitob001    0.102746\n",
       "zumaj001    0.784173\n",
       "Length: 1225, dtype: float64"
      ]
     },
     "execution_count": 70,
     "metadata": {},
     "output_type": "execute_result"
    }
   ],
   "source": [
    "pit_opp_bf['AL']/pit_opp_bf.sum(axis=1)"
   ]
  },
  {
   "cell_type": "code",
   "execution_count": null,
   "metadata": {},
   "outputs": [
    {
     "data": {
      "text/html": [
       "<div>\n",
       "<style scoped>\n",
       "    .dataframe tbody tr th:only-of-type {\n",
       "        vertical-align: middle;\n",
       "    }\n",
       "\n",
       "    .dataframe tbody tr th {\n",
       "        vertical-align: top;\n",
       "    }\n",
       "\n",
       "    .dataframe thead th {\n",
       "        text-align: right;\n",
       "    }\n",
       "</style>\n",
       "<table border=\"1\" class=\"dataframe\">\n",
       "  <thead>\n",
       "    <tr style=\"text-align: right;\">\n",
       "      <th></th>\n",
       "      <th>game_id</th>\n",
       "      <th>date</th>\n",
       "      <th>game_type</th>\n",
       "      <th>tb_ct</th>\n",
       "      <th>bat_fld_cd</th>\n",
       "      <th>event_cd</th>\n",
       "      <th>bat_event_fl</th>\n",
       "      <th>fld_team_id</th>\n",
       "      <th>pit_hand_cd</th>\n",
       "      <th>pit_id</th>\n",
       "      <th>...</th>\n",
       "      <th>fld_lg_id</th>\n",
       "      <th>bat_age</th>\n",
       "      <th>pit_age</th>\n",
       "      <th>bat_prime_age</th>\n",
       "      <th>pit_prime_age</th>\n",
       "      <th>event_re</th>\n",
       "      <th>pit_re_avg</th>\n",
       "      <th>bat_re_avg</th>\n",
       "      <th>pred</th>\n",
       "      <th>pit_rating</th>\n",
       "    </tr>\n",
       "  </thead>\n",
       "  <tbody>\n",
       "    <tr>\n",
       "      <th>232419</th>\n",
       "      <td>TEX200907040</td>\n",
       "      <td>2009-07-04</td>\n",
       "      <td>RS</td>\n",
       "      <td>0</td>\n",
       "      <td>4</td>\n",
       "      <td>2</td>\n",
       "      <td>True</td>\n",
       "      <td>TBA</td>\n",
       "      <td>R</td>\n",
       "      <td>corml001</td>\n",
       "      <td>...</td>\n",
       "      <td>AL</td>\n",
       "      <td>28.0</td>\n",
       "      <td>28.0</td>\n",
       "      <td>True</td>\n",
       "      <td>True</td>\n",
       "      <td>-0.274422</td>\n",
       "      <td>0.011460</td>\n",
       "      <td>0.023035</td>\n",
       "      <td>0.034544</td>\n",
       "      <td>0.005846</td>\n",
       "    </tr>\n",
       "    <tr>\n",
       "      <th>768737</th>\n",
       "      <td>OAK200804010</td>\n",
       "      <td>2008-04-01</td>\n",
       "      <td>RS</td>\n",
       "      <td>0</td>\n",
       "      <td>9</td>\n",
       "      <td>3</td>\n",
       "      <td>True</td>\n",
       "      <td>BOS</td>\n",
       "      <td>R</td>\n",
       "      <td>matsd001</td>\n",
       "      <td>...</td>\n",
       "      <td>AL</td>\n",
       "      <td>31.0</td>\n",
       "      <td>28.0</td>\n",
       "      <td>False</td>\n",
       "      <td>True</td>\n",
       "      <td>-0.276082</td>\n",
       "      <td>-0.001454</td>\n",
       "      <td>-0.035660</td>\n",
       "      <td>-0.036781</td>\n",
       "      <td>-0.007362</td>\n",
       "    </tr>\n",
       "    <tr>\n",
       "      <th>164931</th>\n",
       "      <td>ANA200805170</td>\n",
       "      <td>2008-05-17</td>\n",
       "      <td>RS</td>\n",
       "      <td>0</td>\n",
       "      <td>5</td>\n",
       "      <td>2</td>\n",
       "      <td>True</td>\n",
       "      <td>ANA</td>\n",
       "      <td>R</td>\n",
       "      <td>sante001</td>\n",
       "      <td>...</td>\n",
       "      <td>AL</td>\n",
       "      <td>30.0</td>\n",
       "      <td>30.0</td>\n",
       "      <td>True</td>\n",
       "      <td>True</td>\n",
       "      <td>-0.274422</td>\n",
       "      <td>-0.005947</td>\n",
       "      <td>-0.013638</td>\n",
       "      <td>-0.019315</td>\n",
       "      <td>-0.011982</td>\n",
       "    </tr>\n",
       "    <tr>\n",
       "      <th>425693</th>\n",
       "      <td>MIA201205300</td>\n",
       "      <td>2012-05-30</td>\n",
       "      <td>RS</td>\n",
       "      <td>2</td>\n",
       "      <td>9</td>\n",
       "      <td>21</td>\n",
       "      <td>True</td>\n",
       "      <td>MIA</td>\n",
       "      <td>R</td>\n",
       "      <td>johnj009</td>\n",
       "      <td>...</td>\n",
       "      <td>NL</td>\n",
       "      <td>29.0</td>\n",
       "      <td>27.0</td>\n",
       "      <td>True</td>\n",
       "      <td>True</td>\n",
       "      <td>0.760431</td>\n",
       "      <td>-0.026670</td>\n",
       "      <td>-0.016923</td>\n",
       "      <td>-0.043214</td>\n",
       "      <td>-0.027372</td>\n",
       "    </tr>\n",
       "    <tr>\n",
       "      <th>183128</th>\n",
       "      <td>TEX200909250</td>\n",
       "      <td>2009-09-25</td>\n",
       "      <td>RS</td>\n",
       "      <td>1</td>\n",
       "      <td>7</td>\n",
       "      <td>20</td>\n",
       "      <td>True</td>\n",
       "      <td>TBA</td>\n",
       "      <td>R</td>\n",
       "      <td>shiej002</td>\n",
       "      <td>...</td>\n",
       "      <td>AL</td>\n",
       "      <td>28.0</td>\n",
       "      <td>28.0</td>\n",
       "      <td>True</td>\n",
       "      <td>True</td>\n",
       "      <td>0.453606</td>\n",
       "      <td>-0.010604</td>\n",
       "      <td>-0.020508</td>\n",
       "      <td>-0.030794</td>\n",
       "      <td>-0.016619</td>\n",
       "    </tr>\n",
       "    <tr>\n",
       "      <th>216936</th>\n",
       "      <td>MIN201004150</td>\n",
       "      <td>2010-04-15</td>\n",
       "      <td>RS</td>\n",
       "      <td>0</td>\n",
       "      <td>6</td>\n",
       "      <td>2</td>\n",
       "      <td>True</td>\n",
       "      <td>MIN</td>\n",
       "      <td>L</td>\n",
       "      <td>lirif001</td>\n",
       "      <td>...</td>\n",
       "      <td>AL</td>\n",
       "      <td>30.0</td>\n",
       "      <td>30.0</td>\n",
       "      <td>True</td>\n",
       "      <td>True</td>\n",
       "      <td>-0.274422</td>\n",
       "      <td>-0.004387</td>\n",
       "      <td>0.001633</td>\n",
       "      <td>-0.002549</td>\n",
       "      <td>-0.010340</td>\n",
       "    </tr>\n",
       "    <tr>\n",
       "      <th>368155</th>\n",
       "      <td>CHA201007090</td>\n",
       "      <td>2010-07-09</td>\n",
       "      <td>RS</td>\n",
       "      <td>0</td>\n",
       "      <td>5</td>\n",
       "      <td>3</td>\n",
       "      <td>True</td>\n",
       "      <td>CHA</td>\n",
       "      <td>L</td>\n",
       "      <td>buehm001</td>\n",
       "      <td>...</td>\n",
       "      <td>AL</td>\n",
       "      <td>28.0</td>\n",
       "      <td>29.0</td>\n",
       "      <td>True</td>\n",
       "      <td>True</td>\n",
       "      <td>-0.276082</td>\n",
       "      <td>-0.001397</td>\n",
       "      <td>0.009498</td>\n",
       "      <td>0.008261</td>\n",
       "      <td>-0.006398</td>\n",
       "    </tr>\n",
       "    <tr>\n",
       "      <th>346988</th>\n",
       "      <td>ARI200904140</td>\n",
       "      <td>2009-04-14</td>\n",
       "      <td>RS</td>\n",
       "      <td>0</td>\n",
       "      <td>9</td>\n",
       "      <td>2</td>\n",
       "      <td>True</td>\n",
       "      <td>ARI</td>\n",
       "      <td>R</td>\n",
       "      <td>schem001</td>\n",
       "      <td>...</td>\n",
       "      <td>NL</td>\n",
       "      <td>29.0</td>\n",
       "      <td>28.0</td>\n",
       "      <td>True</td>\n",
       "      <td>True</td>\n",
       "      <td>-0.274422</td>\n",
       "      <td>-0.003623</td>\n",
       "      <td>-0.008970</td>\n",
       "      <td>-0.012352</td>\n",
       "      <td>-0.008192</td>\n",
       "    </tr>\n",
       "    <tr>\n",
       "      <th>301692</th>\n",
       "      <td>COL200808240</td>\n",
       "      <td>2008-08-24</td>\n",
       "      <td>RS</td>\n",
       "      <td>0</td>\n",
       "      <td>6</td>\n",
       "      <td>2</td>\n",
       "      <td>True</td>\n",
       "      <td>CIN</td>\n",
       "      <td>R</td>\n",
       "      <td>lincm001</td>\n",
       "      <td>...</td>\n",
       "      <td>NL</td>\n",
       "      <td>31.0</td>\n",
       "      <td>26.0</td>\n",
       "      <td>False</td>\n",
       "      <td>True</td>\n",
       "      <td>-0.274422</td>\n",
       "      <td>0.023863</td>\n",
       "      <td>-0.021527</td>\n",
       "      <td>0.002497</td>\n",
       "      <td>0.023387</td>\n",
       "    </tr>\n",
       "    <tr>\n",
       "      <th>857521</th>\n",
       "      <td>SDN201208200</td>\n",
       "      <td>2012-08-20</td>\n",
       "      <td>RS</td>\n",
       "      <td>0</td>\n",
       "      <td>8</td>\n",
       "      <td>3</td>\n",
       "      <td>True</td>\n",
       "      <td>SDN</td>\n",
       "      <td>R</td>\n",
       "      <td>bracb001</td>\n",
       "      <td>...</td>\n",
       "      <td>NL</td>\n",
       "      <td>28.0</td>\n",
       "      <td>30.0</td>\n",
       "      <td>True</td>\n",
       "      <td>True</td>\n",
       "      <td>-0.276082</td>\n",
       "      <td>-0.022092</td>\n",
       "      <td>0.038800</td>\n",
       "      <td>0.016852</td>\n",
       "      <td>-0.022841</td>\n",
       "    </tr>\n",
       "  </tbody>\n",
       "</table>\n",
       "<p>10 rows × 28 columns</p>\n",
       "</div>"
      ],
      "text/plain": [
       "             game_id       date game_type  tb_ct  bat_fld_cd  event_cd  \\\n",
       "232419  TEX200907040 2009-07-04        RS      0           4         2   \n",
       "768737  OAK200804010 2008-04-01        RS      0           9         3   \n",
       "164931  ANA200805170 2008-05-17        RS      0           5         2   \n",
       "425693  MIA201205300 2012-05-30        RS      2           9        21   \n",
       "183128  TEX200909250 2009-09-25        RS      1           7        20   \n",
       "216936  MIN201004150 2010-04-15        RS      0           6         2   \n",
       "368155  CHA201007090 2010-07-09        RS      0           5         3   \n",
       "346988  ARI200904140 2009-04-14        RS      0           9         2   \n",
       "301692  COL200808240 2008-08-24        RS      0           6         2   \n",
       "857521  SDN201208200 2012-08-20        RS      0           8         3   \n",
       "\n",
       "        bat_event_fl fld_team_id pit_hand_cd    pit_id  ... fld_lg_id bat_age  \\\n",
       "232419          True         TBA           R  corml001  ...        AL    28.0   \n",
       "768737          True         BOS           R  matsd001  ...        AL    31.0   \n",
       "164931          True         ANA           R  sante001  ...        AL    30.0   \n",
       "425693          True         MIA           R  johnj009  ...        NL    29.0   \n",
       "183128          True         TBA           R  shiej002  ...        AL    28.0   \n",
       "216936          True         MIN           L  lirif001  ...        AL    30.0   \n",
       "368155          True         CHA           L  buehm001  ...        AL    28.0   \n",
       "346988          True         ARI           R  schem001  ...        NL    29.0   \n",
       "301692          True         CIN           R  lincm001  ...        NL    31.0   \n",
       "857521          True         SDN           R  bracb001  ...        NL    28.0   \n",
       "\n",
       "       pit_age  bat_prime_age  pit_prime_age  event_re  pit_re_avg bat_re_avg  \\\n",
       "232419    28.0           True           True -0.274422    0.011460   0.023035   \n",
       "768737    28.0          False           True -0.276082   -0.001454  -0.035660   \n",
       "164931    30.0           True           True -0.274422   -0.005947  -0.013638   \n",
       "425693    27.0           True           True  0.760431   -0.026670  -0.016923   \n",
       "183128    28.0           True           True  0.453606   -0.010604  -0.020508   \n",
       "216936    30.0           True           True -0.274422   -0.004387   0.001633   \n",
       "368155    29.0           True           True -0.276082   -0.001397   0.009498   \n",
       "346988    28.0           True           True -0.274422   -0.003623  -0.008970   \n",
       "301692    26.0          False           True -0.274422    0.023863  -0.021527   \n",
       "857521    30.0           True           True -0.276082   -0.022092   0.038800   \n",
       "\n",
       "            pred  pit_rating  \n",
       "232419  0.034544    0.005846  \n",
       "768737 -0.036781   -0.007362  \n",
       "164931 -0.019315   -0.011982  \n",
       "425693 -0.043214   -0.027372  \n",
       "183128 -0.030794   -0.016619  \n",
       "216936 -0.002549   -0.010340  \n",
       "368155  0.008261   -0.006398  \n",
       "346988 -0.012352   -0.008192  \n",
       "301692  0.002497    0.023387  \n",
       "857521  0.016852   -0.022841  \n",
       "\n",
       "[10 rows x 28 columns]"
      ]
     },
     "execution_count": 78,
     "metadata": {},
     "output_type": "execute_result"
    }
   ],
   "source": [
    "df_pa = pd.merge(left=df_pa, right=pit_rating.rename('pit_rating'), on='pit_id')\n",
    "df_pa.sample(10)"
   ]
  },
  {
   "cell_type": "code",
   "execution_count": null,
   "metadata": {},
   "outputs": [
    {
     "data": {
      "text/plain": [
       "(0.003097385743542072,\n",
       " array([ 0.99559119,  0.97609061, -0.00190422,  0.00239206]))"
      ]
     },
     "execution_count": 80,
     "metadata": {},
     "output_type": "execute_result"
    }
   ],
   "source": [
    "X1 = pd.concat([df_pa[['bat_re_avg', 'pit_rating']], bat_lg_al, pit_lg_al], axis=1)\n",
    "y = df_pa['event_re']\n",
    "LR = LinearRegression()\n",
    "model1 = LR.fit(X1, y)\n",
    "model1.intercept_, model1.coef_"
   ]
  },
  {
   "cell_type": "code",
   "execution_count": null,
   "metadata": {},
   "outputs": [
    {
     "data": {
      "text/plain": [
       "0.41908161946446937"
      ]
     },
     "execution_count": 81,
     "metadata": {},
     "output_type": "execute_result"
    }
   ],
   "source": [
    "# Compute the RMSE of the LR model based on batter and pitcher quality\n",
    "y_true = df_pa['event_re']\n",
    "y_pred1 = model1.predict(X1)\n",
    "model1_RMSE = mean_squared_error(y_true, y_pred1, squared=False)\n",
    "model1_RMSE"
   ]
  },
  {
   "cell_type": "code",
   "execution_count": null,
   "metadata": {},
   "outputs": [
    {
     "data": {
      "text/html": [
       "<div>\n",
       "<style scoped>\n",
       "    .dataframe tbody tr th:only-of-type {\n",
       "        vertical-align: middle;\n",
       "    }\n",
       "\n",
       "    .dataframe tbody tr th {\n",
       "        vertical-align: top;\n",
       "    }\n",
       "\n",
       "    .dataframe thead th {\n",
       "        text-align: right;\n",
       "    }\n",
       "</style>\n",
       "<table border=\"1\" class=\"dataframe\">\n",
       "  <thead>\n",
       "    <tr style=\"text-align: right;\">\n",
       "      <th>fld_lg_id</th>\n",
       "      <th>AL</th>\n",
       "      <th>NL</th>\n",
       "    </tr>\n",
       "    <tr>\n",
       "      <th>bat_id</th>\n",
       "      <th></th>\n",
       "      <th></th>\n",
       "    </tr>\n",
       "  </thead>\n",
       "  <tbody>\n",
       "    <tr>\n",
       "      <th>aberr001</th>\n",
       "      <td>6.0</td>\n",
       "      <td>54.0</td>\n",
       "    </tr>\n",
       "    <tr>\n",
       "      <th>abreb001</th>\n",
       "      <td>2395.0</td>\n",
       "      <td>465.0</td>\n",
       "    </tr>\n",
       "    <tr>\n",
       "      <th>abret001</th>\n",
       "      <td>109.0</td>\n",
       "      <td>178.0</td>\n",
       "    </tr>\n",
       "    <tr>\n",
       "      <th>ackld001</th>\n",
       "      <td>924.0</td>\n",
       "      <td>120.0</td>\n",
       "    </tr>\n",
       "    <tr>\n",
       "      <th>adamm002</th>\n",
       "      <td>31.0</td>\n",
       "      <td>60.0</td>\n",
       "    </tr>\n",
       "    <tr>\n",
       "      <th>...</th>\n",
       "      <td>...</td>\n",
       "      <td>...</td>\n",
       "    </tr>\n",
       "    <tr>\n",
       "      <th>zaung001</th>\n",
       "      <td>523.0</td>\n",
       "      <td>178.0</td>\n",
       "    </tr>\n",
       "    <tr>\n",
       "      <th>zawal001</th>\n",
       "      <td>8.0</td>\n",
       "      <td>34.0</td>\n",
       "    </tr>\n",
       "    <tr>\n",
       "      <th>zimmj003</th>\n",
       "      <td>0.0</td>\n",
       "      <td>3.0</td>\n",
       "    </tr>\n",
       "    <tr>\n",
       "      <th>zimmr001</th>\n",
       "      <td>299.0</td>\n",
       "      <td>2545.0</td>\n",
       "    </tr>\n",
       "    <tr>\n",
       "      <th>zobrb001</th>\n",
       "      <td>2508.0</td>\n",
       "      <td>315.0</td>\n",
       "    </tr>\n",
       "  </tbody>\n",
       "</table>\n",
       "<p>1154 rows × 2 columns</p>\n",
       "</div>"
      ],
      "text/plain": [
       "fld_lg_id      AL      NL\n",
       "bat_id                   \n",
       "aberr001      6.0    54.0\n",
       "abreb001   2395.0   465.0\n",
       "abret001    109.0   178.0\n",
       "ackld001    924.0   120.0\n",
       "adamm002     31.0    60.0\n",
       "...           ...     ...\n",
       "zaung001    523.0   178.0\n",
       "zawal001      8.0    34.0\n",
       "zimmj003      0.0     3.0\n",
       "zimmr001    299.0  2545.0\n",
       "zobrb001   2508.0   315.0\n",
       "\n",
       "[1154 rows x 2 columns]"
      ]
     },
     "execution_count": 84,
     "metadata": {},
     "output_type": "execute_result"
    }
   ],
   "source": [
    "bat_opp_pa = bsu.summarize_events(df_pa, ['bat_id', 'fld_lg_id'])['pa'].unstack().fillna(0)\n",
    "bat_opp_pa\n"
   ]
  },
  {
   "cell_type": "code",
   "execution_count": null,
   "metadata": {},
   "outputs": [
    {
     "data": {
      "text/html": [
       "<div>\n",
       "<style scoped>\n",
       "    .dataframe tbody tr th:only-of-type {\n",
       "        vertical-align: middle;\n",
       "    }\n",
       "\n",
       "    .dataframe tbody tr th {\n",
       "        vertical-align: top;\n",
       "    }\n",
       "\n",
       "    .dataframe thead th {\n",
       "        text-align: right;\n",
       "    }\n",
       "</style>\n",
       "<table border=\"1\" class=\"dataframe\">\n",
       "  <thead>\n",
       "    <tr style=\"text-align: right;\">\n",
       "      <th></th>\n",
       "      <th>bat_re_avg</th>\n",
       "      <th>0</th>\n",
       "    </tr>\n",
       "    <tr>\n",
       "      <th>bat_id</th>\n",
       "      <th></th>\n",
       "      <th></th>\n",
       "    </tr>\n",
       "  </thead>\n",
       "  <tbody>\n",
       "    <tr>\n",
       "      <th>aberr001</th>\n",
       "      <td>0.030787</td>\n",
       "      <td>0.031198</td>\n",
       "    </tr>\n",
       "    <tr>\n",
       "      <th>abreb001</th>\n",
       "      <td>0.016909</td>\n",
       "      <td>0.020358</td>\n",
       "    </tr>\n",
       "    <tr>\n",
       "      <th>abret001</th>\n",
       "      <td>-0.062246</td>\n",
       "      <td>-0.060682</td>\n",
       "    </tr>\n",
       "    <tr>\n",
       "      <th>ackld001</th>\n",
       "      <td>-0.020007</td>\n",
       "      <td>-0.016361</td>\n",
       "    </tr>\n",
       "    <tr>\n",
       "      <th>adamm002</th>\n",
       "      <td>-0.033985</td>\n",
       "      <td>-0.032582</td>\n",
       "    </tr>\n",
       "    <tr>\n",
       "      <th>...</th>\n",
       "      <td>...</td>\n",
       "      <td>...</td>\n",
       "    </tr>\n",
       "    <tr>\n",
       "      <th>zaung001</th>\n",
       "      <td>-0.000677</td>\n",
       "      <td>0.002396</td>\n",
       "    </tr>\n",
       "    <tr>\n",
       "      <th>zawal001</th>\n",
       "      <td>-0.057689</td>\n",
       "      <td>-0.056904</td>\n",
       "    </tr>\n",
       "    <tr>\n",
       "      <th>zimmj003</th>\n",
       "      <td>-0.274976</td>\n",
       "      <td>-0.274976</td>\n",
       "    </tr>\n",
       "    <tr>\n",
       "      <th>zimmr001</th>\n",
       "      <td>0.031817</td>\n",
       "      <td>0.032250</td>\n",
       "    </tr>\n",
       "    <tr>\n",
       "      <th>zobrb001</th>\n",
       "      <td>0.027901</td>\n",
       "      <td>0.031561</td>\n",
       "    </tr>\n",
       "  </tbody>\n",
       "</table>\n",
       "<p>1154 rows × 2 columns</p>\n",
       "</div>"
      ],
      "text/plain": [
       "          bat_re_avg         0\n",
       "bat_id                        \n",
       "aberr001    0.030787  0.031198\n",
       "abreb001    0.016909  0.020358\n",
       "abret001   -0.062246 -0.060682\n",
       "ackld001   -0.020007 -0.016361\n",
       "adamm002   -0.033985 -0.032582\n",
       "...              ...       ...\n",
       "zaung001   -0.000677  0.002396\n",
       "zawal001   -0.057689 -0.056904\n",
       "zimmj003   -0.274976 -0.274976\n",
       "zimmr001    0.031817  0.032250\n",
       "zobrb001    0.027901  0.031561\n",
       "\n",
       "[1154 rows x 2 columns]"
      ]
     },
     "execution_count": 85,
     "metadata": {},
     "output_type": "execute_result"
    }
   ],
   "source": [
    "bat_AL_pct = bat_opp_pa['AL']/bat_opp_pa.sum(axis=1)\n",
    "bat_rating = bat_re_avg - AL_pit_adv*bat_AL_pct\n",
    "pd.concat([bat_re_avg, bat_rating], axis=1)\n"
   ]
  },
  {
   "cell_type": "code",
   "execution_count": null,
   "metadata": {},
   "outputs": [
    {
     "data": {
      "text/html": [
       "<div>\n",
       "<style scoped>\n",
       "    .dataframe tbody tr th:only-of-type {\n",
       "        vertical-align: middle;\n",
       "    }\n",
       "\n",
       "    .dataframe tbody tr th {\n",
       "        vertical-align: top;\n",
       "    }\n",
       "\n",
       "    .dataframe thead th {\n",
       "        text-align: right;\n",
       "    }\n",
       "</style>\n",
       "<table border=\"1\" class=\"dataframe\">\n",
       "  <thead>\n",
       "    <tr style=\"text-align: right;\">\n",
       "      <th></th>\n",
       "      <th>game_id</th>\n",
       "      <th>date</th>\n",
       "      <th>game_type</th>\n",
       "      <th>tb_ct</th>\n",
       "      <th>bat_fld_cd</th>\n",
       "      <th>event_cd</th>\n",
       "      <th>bat_event_fl</th>\n",
       "      <th>fld_team_id</th>\n",
       "      <th>pit_hand_cd</th>\n",
       "      <th>pit_id</th>\n",
       "      <th>...</th>\n",
       "      <th>bat_age</th>\n",
       "      <th>pit_age</th>\n",
       "      <th>bat_prime_age</th>\n",
       "      <th>pit_prime_age</th>\n",
       "      <th>event_re</th>\n",
       "      <th>pit_re_avg</th>\n",
       "      <th>bat_re_avg</th>\n",
       "      <th>pred</th>\n",
       "      <th>pit_rating</th>\n",
       "      <th>bat_rating</th>\n",
       "    </tr>\n",
       "  </thead>\n",
       "  <tbody>\n",
       "    <tr>\n",
       "      <th>539969</th>\n",
       "      <td>TOR200905130</td>\n",
       "      <td>2009-05-13</td>\n",
       "      <td>RS</td>\n",
       "      <td>1</td>\n",
       "      <td>4</td>\n",
       "      <td>20</td>\n",
       "      <td>True</td>\n",
       "      <td>TOR</td>\n",
       "      <td>R</td>\n",
       "      <td>richs001</td>\n",
       "      <td>...</td>\n",
       "      <td>27.0</td>\n",
       "      <td>32.0</td>\n",
       "      <td>True</td>\n",
       "      <td>False</td>\n",
       "      <td>0.453606</td>\n",
       "      <td>0.022836</td>\n",
       "      <td>0.036602</td>\n",
       "      <td>0.059382</td>\n",
       "      <td>0.016941</td>\n",
       "      <td>0.040274</td>\n",
       "    </tr>\n",
       "    <tr>\n",
       "      <th>203489</th>\n",
       "      <td>MIL201004240</td>\n",
       "      <td>2010-04-24</td>\n",
       "      <td>RS</td>\n",
       "      <td>1</td>\n",
       "      <td>6</td>\n",
       "      <td>20</td>\n",
       "      <td>True</td>\n",
       "      <td>MIL</td>\n",
       "      <td>L</td>\n",
       "      <td>david002</td>\n",
       "      <td>...</td>\n",
       "      <td>27.0</td>\n",
       "      <td>31.0</td>\n",
       "      <td>True</td>\n",
       "      <td>False</td>\n",
       "      <td>0.453606</td>\n",
       "      <td>0.031987</td>\n",
       "      <td>-0.016626</td>\n",
       "      <td>0.015466</td>\n",
       "      <td>0.031133</td>\n",
       "      <td>-0.016218</td>\n",
       "    </tr>\n",
       "    <tr>\n",
       "      <th>308058</th>\n",
       "      <td>MIN201205270</td>\n",
       "      <td>2012-05-27</td>\n",
       "      <td>RS</td>\n",
       "      <td>0</td>\n",
       "      <td>6</td>\n",
       "      <td>2</td>\n",
       "      <td>True</td>\n",
       "      <td>DET</td>\n",
       "      <td>R</td>\n",
       "      <td>porcr001</td>\n",
       "      <td>...</td>\n",
       "      <td>32.0</td>\n",
       "      <td>26.0</td>\n",
       "      <td>False</td>\n",
       "      <td>True</td>\n",
       "      <td>-0.274422</td>\n",
       "      <td>0.008247</td>\n",
       "      <td>-0.008622</td>\n",
       "      <td>-0.000190</td>\n",
       "      <td>0.002309</td>\n",
       "      <td>-0.006435</td>\n",
       "    </tr>\n",
       "    <tr>\n",
       "      <th>535349</th>\n",
       "      <td>TEX201007240</td>\n",
       "      <td>2010-07-24</td>\n",
       "      <td>RS</td>\n",
       "      <td>0</td>\n",
       "      <td>9</td>\n",
       "      <td>14</td>\n",
       "      <td>True</td>\n",
       "      <td>TEX</td>\n",
       "      <td>R</td>\n",
       "      <td>felds001</td>\n",
       "      <td>...</td>\n",
       "      <td>31.0</td>\n",
       "      <td>28.0</td>\n",
       "      <td>False</td>\n",
       "      <td>True</td>\n",
       "      <td>0.307662</td>\n",
       "      <td>0.006403</td>\n",
       "      <td>0.016909</td>\n",
       "      <td>0.023408</td>\n",
       "      <td>0.000451</td>\n",
       "      <td>0.020358</td>\n",
       "    </tr>\n",
       "    <tr>\n",
       "      <th>559810</th>\n",
       "      <td>NYA200908120</td>\n",
       "      <td>2009-08-12</td>\n",
       "      <td>RS</td>\n",
       "      <td>0</td>\n",
       "      <td>4</td>\n",
       "      <td>2</td>\n",
       "      <td>True</td>\n",
       "      <td>NYA</td>\n",
       "      <td>R</td>\n",
       "      <td>burna001</td>\n",
       "      <td>...</td>\n",
       "      <td>31.0</td>\n",
       "      <td>27.0</td>\n",
       "      <td>False</td>\n",
       "      <td>True</td>\n",
       "      <td>-0.274422</td>\n",
       "      <td>0.004215</td>\n",
       "      <td>0.002839</td>\n",
       "      <td>0.007213</td>\n",
       "      <td>-0.000781</td>\n",
       "      <td>0.005491</td>\n",
       "    </tr>\n",
       "    <tr>\n",
       "      <th>75175</th>\n",
       "      <td>OAK200804240</td>\n",
       "      <td>2008-04-24</td>\n",
       "      <td>RS</td>\n",
       "      <td>0</td>\n",
       "      <td>7</td>\n",
       "      <td>3</td>\n",
       "      <td>True</td>\n",
       "      <td>OAK</td>\n",
       "      <td>L</td>\n",
       "      <td>smitg002</td>\n",
       "      <td>...</td>\n",
       "      <td>31.0</td>\n",
       "      <td>27.0</td>\n",
       "      <td>False</td>\n",
       "      <td>True</td>\n",
       "      <td>-0.276082</td>\n",
       "      <td>0.008290</td>\n",
       "      <td>-0.002935</td>\n",
       "      <td>0.005518</td>\n",
       "      <td>0.003189</td>\n",
       "      <td>0.000770</td>\n",
       "    </tr>\n",
       "    <tr>\n",
       "      <th>763039</th>\n",
       "      <td>BOS201008010</td>\n",
       "      <td>2010-08-01</td>\n",
       "      <td>RS</td>\n",
       "      <td>0</td>\n",
       "      <td>6</td>\n",
       "      <td>2</td>\n",
       "      <td>True</td>\n",
       "      <td>BOS</td>\n",
       "      <td>R</td>\n",
       "      <td>buchc001</td>\n",
       "      <td>...</td>\n",
       "      <td>28.0</td>\n",
       "      <td>27.0</td>\n",
       "      <td>True</td>\n",
       "      <td>True</td>\n",
       "      <td>-0.274422</td>\n",
       "      <td>-0.005427</td>\n",
       "      <td>-0.025123</td>\n",
       "      <td>-0.030239</td>\n",
       "      <td>-0.011847</td>\n",
       "      <td>-0.021521</td>\n",
       "    </tr>\n",
       "    <tr>\n",
       "      <th>784291</th>\n",
       "      <td>MIL201208190</td>\n",
       "      <td>2012-08-19</td>\n",
       "      <td>RS</td>\n",
       "      <td>0</td>\n",
       "      <td>9</td>\n",
       "      <td>2</td>\n",
       "      <td>True</td>\n",
       "      <td>MIL</td>\n",
       "      <td>L</td>\n",
       "      <td>wolfr001</td>\n",
       "      <td>...</td>\n",
       "      <td>28.0</td>\n",
       "      <td>29.0</td>\n",
       "      <td>True</td>\n",
       "      <td>True</td>\n",
       "      <td>-0.274422</td>\n",
       "      <td>0.009953</td>\n",
       "      <td>-0.014014</td>\n",
       "      <td>-0.003864</td>\n",
       "      <td>0.009160</td>\n",
       "      <td>-0.013687</td>\n",
       "    </tr>\n",
       "    <tr>\n",
       "      <th>1163</th>\n",
       "      <td>BOS201008180</td>\n",
       "      <td>2010-08-18</td>\n",
       "      <td>RS</td>\n",
       "      <td>0</td>\n",
       "      <td>4</td>\n",
       "      <td>14</td>\n",
       "      <td>True</td>\n",
       "      <td>ANA</td>\n",
       "      <td>L</td>\n",
       "      <td>kazms001</td>\n",
       "      <td>...</td>\n",
       "      <td>32.0</td>\n",
       "      <td>28.0</td>\n",
       "      <td>False</td>\n",
       "      <td>True</td>\n",
       "      <td>0.307662</td>\n",
       "      <td>0.011312</td>\n",
       "      <td>0.032899</td>\n",
       "      <td>0.044223</td>\n",
       "      <td>0.005208</td>\n",
       "      <td>0.036500</td>\n",
       "    </tr>\n",
       "    <tr>\n",
       "      <th>277076</th>\n",
       "      <td>BAL201207250</td>\n",
       "      <td>2012-07-25</td>\n",
       "      <td>RS</td>\n",
       "      <td>1</td>\n",
       "      <td>6</td>\n",
       "      <td>20</td>\n",
       "      <td>True</td>\n",
       "      <td>TBA</td>\n",
       "      <td>L</td>\n",
       "      <td>pricd001</td>\n",
       "      <td>...</td>\n",
       "      <td>32.0</td>\n",
       "      <td>30.0</td>\n",
       "      <td>False</td>\n",
       "      <td>True</td>\n",
       "      <td>0.453606</td>\n",
       "      <td>-0.032412</td>\n",
       "      <td>-0.006638</td>\n",
       "      <td>-0.038684</td>\n",
       "      <td>-0.038350</td>\n",
       "      <td>-0.004254</td>\n",
       "    </tr>\n",
       "  </tbody>\n",
       "</table>\n",
       "<p>10 rows × 29 columns</p>\n",
       "</div>"
      ],
      "text/plain": [
       "             game_id       date game_type  tb_ct  bat_fld_cd  event_cd  \\\n",
       "539969  TOR200905130 2009-05-13        RS      1           4        20   \n",
       "203489  MIL201004240 2010-04-24        RS      1           6        20   \n",
       "308058  MIN201205270 2012-05-27        RS      0           6         2   \n",
       "535349  TEX201007240 2010-07-24        RS      0           9        14   \n",
       "559810  NYA200908120 2009-08-12        RS      0           4         2   \n",
       "75175   OAK200804240 2008-04-24        RS      0           7         3   \n",
       "763039  BOS201008010 2010-08-01        RS      0           6         2   \n",
       "784291  MIL201208190 2012-08-19        RS      0           9         2   \n",
       "1163    BOS201008180 2010-08-18        RS      0           4        14   \n",
       "277076  BAL201207250 2012-07-25        RS      1           6        20   \n",
       "\n",
       "        bat_event_fl fld_team_id pit_hand_cd    pit_id  ... bat_age pit_age  \\\n",
       "539969          True         TOR           R  richs001  ...    27.0    32.0   \n",
       "203489          True         MIL           L  david002  ...    27.0    31.0   \n",
       "308058          True         DET           R  porcr001  ...    32.0    26.0   \n",
       "535349          True         TEX           R  felds001  ...    31.0    28.0   \n",
       "559810          True         NYA           R  burna001  ...    31.0    27.0   \n",
       "75175           True         OAK           L  smitg002  ...    31.0    27.0   \n",
       "763039          True         BOS           R  buchc001  ...    28.0    27.0   \n",
       "784291          True         MIL           L  wolfr001  ...    28.0    29.0   \n",
       "1163            True         ANA           L  kazms001  ...    32.0    28.0   \n",
       "277076          True         TBA           L  pricd001  ...    32.0    30.0   \n",
       "\n",
       "       bat_prime_age  pit_prime_age  event_re  pit_re_avg  bat_re_avg  \\\n",
       "539969          True          False  0.453606    0.022836    0.036602   \n",
       "203489          True          False  0.453606    0.031987   -0.016626   \n",
       "308058         False           True -0.274422    0.008247   -0.008622   \n",
       "535349         False           True  0.307662    0.006403    0.016909   \n",
       "559810         False           True -0.274422    0.004215    0.002839   \n",
       "75175          False           True -0.276082    0.008290   -0.002935   \n",
       "763039          True           True -0.274422   -0.005427   -0.025123   \n",
       "784291          True           True -0.274422    0.009953   -0.014014   \n",
       "1163           False           True  0.307662    0.011312    0.032899   \n",
       "277076         False           True  0.453606   -0.032412   -0.006638   \n",
       "\n",
       "            pred pit_rating  bat_rating  \n",
       "539969  0.059382   0.016941    0.040274  \n",
       "203489  0.015466   0.031133   -0.016218  \n",
       "308058 -0.000190   0.002309   -0.006435  \n",
       "535349  0.023408   0.000451    0.020358  \n",
       "559810  0.007213  -0.000781    0.005491  \n",
       "75175   0.005518   0.003189    0.000770  \n",
       "763039 -0.030239  -0.011847   -0.021521  \n",
       "784291 -0.003864   0.009160   -0.013687  \n",
       "1163    0.044223   0.005208    0.036500  \n",
       "277076 -0.038684  -0.038350   -0.004254  \n",
       "\n",
       "[10 rows x 29 columns]"
      ]
     },
     "execution_count": 86,
     "metadata": {},
     "output_type": "execute_result"
    }
   ],
   "source": [
    "df_pa = pd.merge(left=df_pa, right=bat_rating.rename('bat_rating'), on='bat_id')\n",
    "df_pa.sample(10)"
   ]
  },
  {
   "cell_type": "code",
   "execution_count": null,
   "metadata": {},
   "outputs": [
    {
     "data": {
      "text/plain": [
       "(0.0013773186387171586, array([0.99929474, 0.98294181]))"
      ]
     },
     "execution_count": 89,
     "metadata": {},
     "output_type": "execute_result"
    }
   ],
   "source": [
    "X1 = pd.concat([df_pa[['bat_rating', 'pit_rating']], bat_lg_al, pit_lg_al], axis=1)\n",
    "X1 = df_pa[['bat_rating', 'pit_rating']]\n",
    "y = df_pa['event_re']\n",
    "LR = LinearRegression()\n",
    "model1 = LR.fit(X1, y)\n",
    "model1.intercept_, model1.coef_"
   ]
  },
  {
   "cell_type": "code",
   "execution_count": null,
   "metadata": {},
   "outputs": [
    {
     "data": {
      "text/plain": [
       "0.4190736513063781"
      ]
     },
     "execution_count": 90,
     "metadata": {},
     "output_type": "execute_result"
    }
   ],
   "source": [
    "# Compute the RMSE of the LR model based on batter and pitcher quality\n",
    "y_true = df_pa['event_re']\n",
    "y_pred1 = model1.predict(X1)\n",
    "model1_RMSE = mean_squared_error(y_true, y_pred1, squared=False)\n",
    "model1_RMSE"
   ]
  }
 ],
 "metadata": {
  "interpreter": {
   "hash": "344443636c3027c5042750c9c609acdda283a9c43681b128a8c1053e7ad2aa7d"
  },
  "kernelspec": {
   "display_name": "Python 3.8.8 64-bit ('base': conda)",
   "name": "python3"
  },
  "language_info": {
   "codemirror_mode": {
    "name": "ipython",
    "version": 3
   },
   "file_extension": ".py",
   "mimetype": "text/x-python",
   "name": "python",
   "nbconvert_exporter": "python",
   "pygments_lexer": "ipython3",
   "version": "3.8.8"
  },
  "orig_nbformat": 4
 },
 "nbformat": 4,
 "nbformat_minor": 2
}
