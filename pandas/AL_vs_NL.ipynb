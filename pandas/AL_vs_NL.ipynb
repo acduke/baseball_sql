{
 "cells": [
  {
   "cell_type": "code",
   "execution_count": 1,
   "metadata": {},
   "outputs": [],
   "source": [
    "# league quality\n"
   ]
  },
  {
   "cell_type": "code",
   "execution_count": 2,
   "metadata": {},
   "outputs": [],
   "source": [
    "import pandas as pd\n",
    "import numpy as np\n",
    "import plotly.express as px\n",
    "import boxball_loader as bbl\n",
    "import baseball_stats_utils as bsu"
   ]
  },
  {
   "cell_type": "code",
   "execution_count": 3,
   "metadata": {},
   "outputs": [],
   "source": [
    "tms = bbl.load_teams()"
   ]
  },
  {
   "cell_type": "code",
   "execution_count": 4,
   "metadata": {},
   "outputs": [
    {
     "data": {
      "text/plain": [
       "(4212969, 17)"
      ]
     },
     "execution_count": 4,
     "metadata": {},
     "output_type": "execute_result"
    }
   ],
   "source": [
    "cols = ['bat_team_id', 'fld_team_id', 'bat_id', 'pit_id', 'bat_fld_cd', 'bat_event_fl', 'bat_hand_cd', 'pit_hand_cd', 'event_cd']\n",
    "pa = bbl.load_event_data(1997, 2020, cols).query('bat_fld_cd != 1')\n",
    "pa.shape"
   ]
  },
  {
   "cell_type": "code",
   "execution_count": 5,
   "metadata": {},
   "outputs": [
    {
     "data": {
      "text/plain": [
       "(4212969, 19)"
      ]
     },
     "execution_count": 5,
     "metadata": {},
     "output_type": "execute_result"
    }
   ],
   "source": [
    "# Merge the lg_ids in, for the bat_team and fld_team\n",
    "pa = pd.merge(left=pa, right=tms[['yr', 'team_id_retro', 'lg_id']].rename(columns={'team_id_retro': 'bat_team_id', 'lg_id': 'bat_lg_id'}))\n",
    "pa = pd.merge(left=pa, right=tms[['yr', 'team_id_retro', 'lg_id']].rename(columns={'team_id_retro': 'fld_team_id', 'lg_id': 'fld_lg_id'}))\n",
    "pa.shape"
   ]
  },
  {
   "cell_type": "code",
   "execution_count": 6,
   "metadata": {},
   "outputs": [
    {
     "data": {
      "text/html": [
       "<div>\n",
       "<style scoped>\n",
       "    .dataframe tbody tr th:only-of-type {\n",
       "        vertical-align: middle;\n",
       "    }\n",
       "\n",
       "    .dataframe tbody tr th {\n",
       "        vertical-align: top;\n",
       "    }\n",
       "\n",
       "    .dataframe thead th {\n",
       "        text-align: right;\n",
       "    }\n",
       "</style>\n",
       "<table border=\"1\" class=\"dataframe\">\n",
       "  <thead>\n",
       "    <tr style=\"text-align: right;\">\n",
       "      <th></th>\n",
       "      <th>game_id</th>\n",
       "      <th>date</th>\n",
       "      <th>game_type</th>\n",
       "      <th>tb_ct</th>\n",
       "      <th>bat_fld_cd</th>\n",
       "      <th>event_cd</th>\n",
       "      <th>bat_event_fl</th>\n",
       "      <th>fld_team_id</th>\n",
       "      <th>pit_hand_cd</th>\n",
       "      <th>pit_id</th>\n",
       "      <th>...</th>\n",
       "      <th>ab_fl</th>\n",
       "      <th>h_fl</th>\n",
       "      <th>ob_fl</th>\n",
       "      <th>yr</th>\n",
       "      <th>bat_lg_id</th>\n",
       "      <th>fld_lg_id</th>\n",
       "      <th>bat_age</th>\n",
       "      <th>pit_age</th>\n",
       "      <th>bat_prime_age</th>\n",
       "      <th>pit_prime_age</th>\n",
       "    </tr>\n",
       "  </thead>\n",
       "  <tbody>\n",
       "    <tr>\n",
       "      <th>1534286</th>\n",
       "      <td>MIN200509030</td>\n",
       "      <td>2005-09-03</td>\n",
       "      <td>RS</td>\n",
       "      <td>0</td>\n",
       "      <td>8</td>\n",
       "      <td>14</td>\n",
       "      <td>True</td>\n",
       "      <td>CLE</td>\n",
       "      <td>R</td>\n",
       "      <td>millk004</td>\n",
       "      <td>...</td>\n",
       "      <td>False</td>\n",
       "      <td>0</td>\n",
       "      <td>1</td>\n",
       "      <td>2005</td>\n",
       "      <td>AL</td>\n",
       "      <td>AL</td>\n",
       "      <td>32.0</td>\n",
       "      <td>29.0</td>\n",
       "      <td>False</td>\n",
       "      <td>True</td>\n",
       "    </tr>\n",
       "    <tr>\n",
       "      <th>419933</th>\n",
       "      <td>LAN199907290</td>\n",
       "      <td>1999-07-29</td>\n",
       "      <td>RS</td>\n",
       "      <td>1</td>\n",
       "      <td>8</td>\n",
       "      <td>20</td>\n",
       "      <td>True</td>\n",
       "      <td>CIN</td>\n",
       "      <td>L</td>\n",
       "      <td>whitg001</td>\n",
       "      <td>...</td>\n",
       "      <td>True</td>\n",
       "      <td>1</td>\n",
       "      <td>1</td>\n",
       "      <td>1999</td>\n",
       "      <td>NL</td>\n",
       "      <td>NL</td>\n",
       "      <td>28.0</td>\n",
       "      <td>30.0</td>\n",
       "      <td>True</td>\n",
       "      <td>True</td>\n",
       "    </tr>\n",
       "    <tr>\n",
       "      <th>1100989</th>\n",
       "      <td>NYA200309060</td>\n",
       "      <td>2003-09-06</td>\n",
       "      <td>RS</td>\n",
       "      <td>0</td>\n",
       "      <td>3</td>\n",
       "      <td>14</td>\n",
       "      <td>True</td>\n",
       "      <td>BOS</td>\n",
       "      <td>R</td>\n",
       "      <td>waket001</td>\n",
       "      <td>...</td>\n",
       "      <td>False</td>\n",
       "      <td>0</td>\n",
       "      <td>1</td>\n",
       "      <td>2003</td>\n",
       "      <td>AL</td>\n",
       "      <td>AL</td>\n",
       "      <td>38.0</td>\n",
       "      <td>36.0</td>\n",
       "      <td>False</td>\n",
       "      <td>False</td>\n",
       "    </tr>\n",
       "    <tr>\n",
       "      <th>115878</th>\n",
       "      <td>CHA199704170</td>\n",
       "      <td>1997-04-17</td>\n",
       "      <td>RS</td>\n",
       "      <td>0</td>\n",
       "      <td>5</td>\n",
       "      <td>2</td>\n",
       "      <td>True</td>\n",
       "      <td>CHA</td>\n",
       "      <td>R</td>\n",
       "      <td>darwd001</td>\n",
       "      <td>...</td>\n",
       "      <td>True</td>\n",
       "      <td>0</td>\n",
       "      <td>0</td>\n",
       "      <td>1997</td>\n",
       "      <td>AL</td>\n",
       "      <td>AL</td>\n",
       "      <td>22.0</td>\n",
       "      <td>30.0</td>\n",
       "      <td>False</td>\n",
       "      <td>True</td>\n",
       "    </tr>\n",
       "    <tr>\n",
       "      <th>3311152</th>\n",
       "      <td>ARI201508300</td>\n",
       "      <td>2015-08-30</td>\n",
       "      <td>RS</td>\n",
       "      <td>0</td>\n",
       "      <td>11</td>\n",
       "      <td>2</td>\n",
       "      <td>True</td>\n",
       "      <td>ARI</td>\n",
       "      <td>R</td>\n",
       "      <td>ziegb001</td>\n",
       "      <td>...</td>\n",
       "      <td>True</td>\n",
       "      <td>0</td>\n",
       "      <td>0</td>\n",
       "      <td>2015</td>\n",
       "      <td>AL</td>\n",
       "      <td>NL</td>\n",
       "      <td>29.0</td>\n",
       "      <td>28.0</td>\n",
       "      <td>True</td>\n",
       "      <td>True</td>\n",
       "    </tr>\n",
       "    <tr>\n",
       "      <th>3909822</th>\n",
       "      <td>DET201807050</td>\n",
       "      <td>2018-07-05</td>\n",
       "      <td>RS</td>\n",
       "      <td>2</td>\n",
       "      <td>2</td>\n",
       "      <td>21</td>\n",
       "      <td>True</td>\n",
       "      <td>TEX</td>\n",
       "      <td>L</td>\n",
       "      <td>diekj001</td>\n",
       "      <td>...</td>\n",
       "      <td>True</td>\n",
       "      <td>1</td>\n",
       "      <td>1</td>\n",
       "      <td>2018</td>\n",
       "      <td>AL</td>\n",
       "      <td>AL</td>\n",
       "      <td>26.0</td>\n",
       "      <td>27.0</td>\n",
       "      <td>True</td>\n",
       "      <td>True</td>\n",
       "    </tr>\n",
       "    <tr>\n",
       "      <th>2801715</th>\n",
       "      <td>SFN201209250</td>\n",
       "      <td>2012-09-25</td>\n",
       "      <td>RS</td>\n",
       "      <td>0</td>\n",
       "      <td>8</td>\n",
       "      <td>3</td>\n",
       "      <td>True</td>\n",
       "      <td>SFN</td>\n",
       "      <td>R</td>\n",
       "      <td>pennb002</td>\n",
       "      <td>...</td>\n",
       "      <td>True</td>\n",
       "      <td>0</td>\n",
       "      <td>0</td>\n",
       "      <td>2012</td>\n",
       "      <td>NL</td>\n",
       "      <td>NL</td>\n",
       "      <td>29.0</td>\n",
       "      <td>27.0</td>\n",
       "      <td>True</td>\n",
       "      <td>True</td>\n",
       "    </tr>\n",
       "    <tr>\n",
       "      <th>2644573</th>\n",
       "      <td>TBA201104290</td>\n",
       "      <td>2011-04-29</td>\n",
       "      <td>RS</td>\n",
       "      <td>0</td>\n",
       "      <td>3</td>\n",
       "      <td>3</td>\n",
       "      <td>True</td>\n",
       "      <td>ANA</td>\n",
       "      <td>R</td>\n",
       "      <td>sante001</td>\n",
       "      <td>...</td>\n",
       "      <td>True</td>\n",
       "      <td>0</td>\n",
       "      <td>0</td>\n",
       "      <td>2011</td>\n",
       "      <td>AL</td>\n",
       "      <td>AL</td>\n",
       "      <td>30.0</td>\n",
       "      <td>29.0</td>\n",
       "      <td>True</td>\n",
       "      <td>True</td>\n",
       "    </tr>\n",
       "    <tr>\n",
       "      <th>1191977</th>\n",
       "      <td>NYA200305170</td>\n",
       "      <td>2003-05-17</td>\n",
       "      <td>RS</td>\n",
       "      <td>0</td>\n",
       "      <td>3</td>\n",
       "      <td>2</td>\n",
       "      <td>True</td>\n",
       "      <td>TEX</td>\n",
       "      <td>R</td>\n",
       "      <td>valdi001</td>\n",
       "      <td>...</td>\n",
       "      <td>True</td>\n",
       "      <td>0</td>\n",
       "      <td>0</td>\n",
       "      <td>2003</td>\n",
       "      <td>AL</td>\n",
       "      <td>AL</td>\n",
       "      <td>29.0</td>\n",
       "      <td>25.0</td>\n",
       "      <td>True</td>\n",
       "      <td>True</td>\n",
       "    </tr>\n",
       "    <tr>\n",
       "      <th>1588646</th>\n",
       "      <td>LAN200507310</td>\n",
       "      <td>2005-07-31</td>\n",
       "      <td>RS</td>\n",
       "      <td>0</td>\n",
       "      <td>5</td>\n",
       "      <td>2</td>\n",
       "      <td>True</td>\n",
       "      <td>LAN</td>\n",
       "      <td>L</td>\n",
       "      <td>pereo001</td>\n",
       "      <td>...</td>\n",
       "      <td>True</td>\n",
       "      <td>0</td>\n",
       "      <td>0</td>\n",
       "      <td>2005</td>\n",
       "      <td>NL</td>\n",
       "      <td>NL</td>\n",
       "      <td>33.0</td>\n",
       "      <td>29.0</td>\n",
       "      <td>False</td>\n",
       "      <td>True</td>\n",
       "    </tr>\n",
       "    <tr>\n",
       "      <th>3472256</th>\n",
       "      <td>WAS201605150</td>\n",
       "      <td>2016-05-15</td>\n",
       "      <td>RS</td>\n",
       "      <td>0</td>\n",
       "      <td>7</td>\n",
       "      <td>2</td>\n",
       "      <td>True</td>\n",
       "      <td>WAS</td>\n",
       "      <td>R</td>\n",
       "      <td>rossj002</td>\n",
       "      <td>...</td>\n",
       "      <td>True</td>\n",
       "      <td>0</td>\n",
       "      <td>0</td>\n",
       "      <td>2016</td>\n",
       "      <td>NL</td>\n",
       "      <td>NL</td>\n",
       "      <td>29.0</td>\n",
       "      <td>29.0</td>\n",
       "      <td>True</td>\n",
       "      <td>True</td>\n",
       "    </tr>\n",
       "    <tr>\n",
       "      <th>1809647</th>\n",
       "      <td>SLN200709050</td>\n",
       "      <td>2007-09-05</td>\n",
       "      <td>RS</td>\n",
       "      <td>0</td>\n",
       "      <td>5</td>\n",
       "      <td>2</td>\n",
       "      <td>True</td>\n",
       "      <td>SLN</td>\n",
       "      <td>L</td>\n",
       "      <td>muldm001</td>\n",
       "      <td>...</td>\n",
       "      <td>True</td>\n",
       "      <td>0</td>\n",
       "      <td>0</td>\n",
       "      <td>2007</td>\n",
       "      <td>NL</td>\n",
       "      <td>NL</td>\n",
       "      <td>34.0</td>\n",
       "      <td>32.0</td>\n",
       "      <td>False</td>\n",
       "      <td>False</td>\n",
       "    </tr>\n",
       "    <tr>\n",
       "      <th>3813</th>\n",
       "      <td>BOS199709170</td>\n",
       "      <td>1997-09-17</td>\n",
       "      <td>RS</td>\n",
       "      <td>0</td>\n",
       "      <td>10</td>\n",
       "      <td>2</td>\n",
       "      <td>True</td>\n",
       "      <td>TOR</td>\n",
       "      <td>R</td>\n",
       "      <td>hentp001</td>\n",
       "      <td>...</td>\n",
       "      <td>True</td>\n",
       "      <td>0</td>\n",
       "      <td>0</td>\n",
       "      <td>1997</td>\n",
       "      <td>AL</td>\n",
       "      <td>AL</td>\n",
       "      <td>29.0</td>\n",
       "      <td>29.0</td>\n",
       "      <td>True</td>\n",
       "      <td>True</td>\n",
       "    </tr>\n",
       "    <tr>\n",
       "      <th>1666327</th>\n",
       "      <td>NYA200606080</td>\n",
       "      <td>2006-06-08</td>\n",
       "      <td>RS</td>\n",
       "      <td>0</td>\n",
       "      <td>3</td>\n",
       "      <td>2</td>\n",
       "      <td>True</td>\n",
       "      <td>BOS</td>\n",
       "      <td>R</td>\n",
       "      <td>schic002</td>\n",
       "      <td>...</td>\n",
       "      <td>True</td>\n",
       "      <td>0</td>\n",
       "      <td>0</td>\n",
       "      <td>2006</td>\n",
       "      <td>AL</td>\n",
       "      <td>AL</td>\n",
       "      <td>29.0</td>\n",
       "      <td>29.0</td>\n",
       "      <td>True</td>\n",
       "      <td>True</td>\n",
       "    </tr>\n",
       "    <tr>\n",
       "      <th>1662808</th>\n",
       "      <td>PHI200605200</td>\n",
       "      <td>2006-05-20</td>\n",
       "      <td>RS</td>\n",
       "      <td>0</td>\n",
       "      <td>3</td>\n",
       "      <td>2</td>\n",
       "      <td>True</td>\n",
       "      <td>BOS</td>\n",
       "      <td>R</td>\n",
       "      <td>beckj002</td>\n",
       "      <td>...</td>\n",
       "      <td>True</td>\n",
       "      <td>0</td>\n",
       "      <td>0</td>\n",
       "      <td>2006</td>\n",
       "      <td>NL</td>\n",
       "      <td>AL</td>\n",
       "      <td>29.0</td>\n",
       "      <td>28.0</td>\n",
       "      <td>True</td>\n",
       "      <td>True</td>\n",
       "    </tr>\n",
       "    <tr>\n",
       "      <th>1725656</th>\n",
       "      <td>TBA200608010</td>\n",
       "      <td>2006-08-01</td>\n",
       "      <td>RS</td>\n",
       "      <td>0</td>\n",
       "      <td>9</td>\n",
       "      <td>14</td>\n",
       "      <td>True</td>\n",
       "      <td>TBA</td>\n",
       "      <td>R</td>\n",
       "      <td>harpt002</td>\n",
       "      <td>...</td>\n",
       "      <td>False</td>\n",
       "      <td>0</td>\n",
       "      <td>1</td>\n",
       "      <td>2006</td>\n",
       "      <td>AL</td>\n",
       "      <td>AL</td>\n",
       "      <td>31.0</td>\n",
       "      <td>27.0</td>\n",
       "      <td>False</td>\n",
       "      <td>True</td>\n",
       "    </tr>\n",
       "    <tr>\n",
       "      <th>2732838</th>\n",
       "      <td>CHA201206230</td>\n",
       "      <td>2012-06-23</td>\n",
       "      <td>RS</td>\n",
       "      <td>1</td>\n",
       "      <td>10</td>\n",
       "      <td>20</td>\n",
       "      <td>True</td>\n",
       "      <td>CHA</td>\n",
       "      <td>R</td>\n",
       "      <td>axeld001</td>\n",
       "      <td>...</td>\n",
       "      <td>True</td>\n",
       "      <td>1</td>\n",
       "      <td>1</td>\n",
       "      <td>2012</td>\n",
       "      <td>NL</td>\n",
       "      <td>AL</td>\n",
       "      <td>29.0</td>\n",
       "      <td>32.0</td>\n",
       "      <td>True</td>\n",
       "      <td>False</td>\n",
       "    </tr>\n",
       "    <tr>\n",
       "      <th>3071906</th>\n",
       "      <td>ARI201404290</td>\n",
       "      <td>2014-04-29</td>\n",
       "      <td>RS</td>\n",
       "      <td>0</td>\n",
       "      <td>9</td>\n",
       "      <td>3</td>\n",
       "      <td>True</td>\n",
       "      <td>ARI</td>\n",
       "      <td>R</td>\n",
       "      <td>bolsm001</td>\n",
       "      <td>...</td>\n",
       "      <td>True</td>\n",
       "      <td>0</td>\n",
       "      <td>0</td>\n",
       "      <td>2014</td>\n",
       "      <td>NL</td>\n",
       "      <td>NL</td>\n",
       "      <td>26.0</td>\n",
       "      <td>25.0</td>\n",
       "      <td>True</td>\n",
       "      <td>True</td>\n",
       "    </tr>\n",
       "    <tr>\n",
       "      <th>642339</th>\n",
       "      <td>CIN200008240</td>\n",
       "      <td>2000-08-24</td>\n",
       "      <td>RS</td>\n",
       "      <td>1</td>\n",
       "      <td>2</td>\n",
       "      <td>20</td>\n",
       "      <td>True</td>\n",
       "      <td>PHI</td>\n",
       "      <td>L</td>\n",
       "      <td>daalo001</td>\n",
       "      <td>...</td>\n",
       "      <td>True</td>\n",
       "      <td>1</td>\n",
       "      <td>1</td>\n",
       "      <td>2000</td>\n",
       "      <td>NL</td>\n",
       "      <td>NL</td>\n",
       "      <td>42.0</td>\n",
       "      <td>29.0</td>\n",
       "      <td>False</td>\n",
       "      <td>True</td>\n",
       "    </tr>\n",
       "    <tr>\n",
       "      <th>2661479</th>\n",
       "      <td>BAL201106240</td>\n",
       "      <td>2011-06-24</td>\n",
       "      <td>RS</td>\n",
       "      <td>1</td>\n",
       "      <td>6</td>\n",
       "      <td>20</td>\n",
       "      <td>True</td>\n",
       "      <td>CIN</td>\n",
       "      <td>R</td>\n",
       "      <td>volqe001</td>\n",
       "      <td>...</td>\n",
       "      <td>True</td>\n",
       "      <td>1</td>\n",
       "      <td>1</td>\n",
       "      <td>2011</td>\n",
       "      <td>AL</td>\n",
       "      <td>NL</td>\n",
       "      <td>30.0</td>\n",
       "      <td>29.0</td>\n",
       "      <td>True</td>\n",
       "      <td>True</td>\n",
       "    </tr>\n",
       "  </tbody>\n",
       "</table>\n",
       "<p>20 rows × 23 columns</p>\n",
       "</div>"
      ],
      "text/plain": [
       "              game_id       date game_type  tb_ct  bat_fld_cd  event_cd  \\\n",
       "1534286  MIN200509030 2005-09-03        RS      0           8        14   \n",
       "419933   LAN199907290 1999-07-29        RS      1           8        20   \n",
       "1100989  NYA200309060 2003-09-06        RS      0           3        14   \n",
       "115878   CHA199704170 1997-04-17        RS      0           5         2   \n",
       "3311152  ARI201508300 2015-08-30        RS      0          11         2   \n",
       "3909822  DET201807050 2018-07-05        RS      2           2        21   \n",
       "2801715  SFN201209250 2012-09-25        RS      0           8         3   \n",
       "2644573  TBA201104290 2011-04-29        RS      0           3         3   \n",
       "1191977  NYA200305170 2003-05-17        RS      0           3         2   \n",
       "1588646  LAN200507310 2005-07-31        RS      0           5         2   \n",
       "3472256  WAS201605150 2016-05-15        RS      0           7         2   \n",
       "1809647  SLN200709050 2007-09-05        RS      0           5         2   \n",
       "3813     BOS199709170 1997-09-17        RS      0          10         2   \n",
       "1666327  NYA200606080 2006-06-08        RS      0           3         2   \n",
       "1662808  PHI200605200 2006-05-20        RS      0           3         2   \n",
       "1725656  TBA200608010 2006-08-01        RS      0           9        14   \n",
       "2732838  CHA201206230 2012-06-23        RS      1          10        20   \n",
       "3071906  ARI201404290 2014-04-29        RS      0           9         3   \n",
       "642339   CIN200008240 2000-08-24        RS      1           2        20   \n",
       "2661479  BAL201106240 2011-06-24        RS      1           6        20   \n",
       "\n",
       "         bat_event_fl fld_team_id pit_hand_cd    pit_id  ...  ab_fl h_fl  \\\n",
       "1534286          True         CLE           R  millk004  ...  False    0   \n",
       "419933           True         CIN           L  whitg001  ...   True    1   \n",
       "1100989          True         BOS           R  waket001  ...  False    0   \n",
       "115878           True         CHA           R  darwd001  ...   True    0   \n",
       "3311152          True         ARI           R  ziegb001  ...   True    0   \n",
       "3909822          True         TEX           L  diekj001  ...   True    1   \n",
       "2801715          True         SFN           R  pennb002  ...   True    0   \n",
       "2644573          True         ANA           R  sante001  ...   True    0   \n",
       "1191977          True         TEX           R  valdi001  ...   True    0   \n",
       "1588646          True         LAN           L  pereo001  ...   True    0   \n",
       "3472256          True         WAS           R  rossj002  ...   True    0   \n",
       "1809647          True         SLN           L  muldm001  ...   True    0   \n",
       "3813             True         TOR           R  hentp001  ...   True    0   \n",
       "1666327          True         BOS           R  schic002  ...   True    0   \n",
       "1662808          True         BOS           R  beckj002  ...   True    0   \n",
       "1725656          True         TBA           R  harpt002  ...  False    0   \n",
       "2732838          True         CHA           R  axeld001  ...   True    1   \n",
       "3071906          True         ARI           R  bolsm001  ...   True    0   \n",
       "642339           True         PHI           L  daalo001  ...   True    1   \n",
       "2661479          True         CIN           R  volqe001  ...   True    1   \n",
       "\n",
       "        ob_fl    yr  bat_lg_id  fld_lg_id  bat_age pit_age bat_prime_age  \\\n",
       "1534286     1  2005         AL         AL     32.0    29.0         False   \n",
       "419933      1  1999         NL         NL     28.0    30.0          True   \n",
       "1100989     1  2003         AL         AL     38.0    36.0         False   \n",
       "115878      0  1997         AL         AL     22.0    30.0         False   \n",
       "3311152     0  2015         AL         NL     29.0    28.0          True   \n",
       "3909822     1  2018         AL         AL     26.0    27.0          True   \n",
       "2801715     0  2012         NL         NL     29.0    27.0          True   \n",
       "2644573     0  2011         AL         AL     30.0    29.0          True   \n",
       "1191977     0  2003         AL         AL     29.0    25.0          True   \n",
       "1588646     0  2005         NL         NL     33.0    29.0         False   \n",
       "3472256     0  2016         NL         NL     29.0    29.0          True   \n",
       "1809647     0  2007         NL         NL     34.0    32.0         False   \n",
       "3813        0  1997         AL         AL     29.0    29.0          True   \n",
       "1666327     0  2006         AL         AL     29.0    29.0          True   \n",
       "1662808     0  2006         NL         AL     29.0    28.0          True   \n",
       "1725656     1  2006         AL         AL     31.0    27.0         False   \n",
       "2732838     1  2012         NL         AL     29.0    32.0          True   \n",
       "3071906     0  2014         NL         NL     26.0    25.0          True   \n",
       "642339      1  2000         NL         NL     42.0    29.0         False   \n",
       "2661479     1  2011         AL         NL     30.0    29.0          True   \n",
       "\n",
       "         pit_prime_age  \n",
       "1534286           True  \n",
       "419933            True  \n",
       "1100989          False  \n",
       "115878            True  \n",
       "3311152           True  \n",
       "3909822           True  \n",
       "2801715           True  \n",
       "2644573           True  \n",
       "1191977           True  \n",
       "1588646           True  \n",
       "3472256           True  \n",
       "1809647          False  \n",
       "3813              True  \n",
       "1666327           True  \n",
       "1662808           True  \n",
       "1725656           True  \n",
       "2732838          False  \n",
       "3071906           True  \n",
       "642339            True  \n",
       "2661479           True  \n",
       "\n",
       "[20 rows x 23 columns]"
      ]
     },
     "execution_count": 6,
     "metadata": {},
     "output_type": "execute_result"
    }
   ],
   "source": [
    "# Add ages to each PA, to see if perhaps there's a bias of older players in the samples\n",
    "# Also look at whether the player was in \"prime\" age\n",
    "# For now, consider prime to be 24-30\n",
    "ppl = bbl.load_people()\n",
    "bat_birth_yrs = pd.merge(left=pa, right=ppl[['retro_id', 'birth_year']].rename(columns={'retro_id': 'bat_id'}))['birth_year']\n",
    "pit_birth_yrs = pd.merge(left=pa, right=ppl[['retro_id', 'birth_year']].rename(columns={'retro_id': 'pit_id'}))['birth_year']\n",
    "\n",
    "prime_age_range = range(24, 31)\n",
    "pa['bat_age'] = pa['date'].dt.year - bat_birth_yrs\n",
    "pa['pit_age'] = pa['date'].dt.year - pit_birth_yrs\n",
    "pa['bat_prime_age'] = pa['bat_age'].isin(prime_age_range)\n",
    "pa['pit_prime_age'] = pa['pit_age'].isin(prime_age_range)\n",
    "\n",
    "pa.sample(20)"
   ]
  },
  {
   "cell_type": "code",
   "execution_count": 7,
   "metadata": {},
   "outputs": [
    {
     "data": {
      "text/plain": [
       "Index(['game_id', 'date', 'game_type', 'tb_ct', 'bat_fld_cd', 'event_cd',\n",
       "       'bat_event_fl', 'fld_team_id', 'pit_hand_cd', 'pit_id', 'bat_team_id',\n",
       "       'bat_hand_cd', 'bat_id', 'ab_fl', 'h_fl', 'ob_fl', 'yr', 'bat_lg_id',\n",
       "       'fld_lg_id', 'bat_age', 'pit_age', 'bat_prime_age', 'pit_prime_age'],\n",
       "      dtype='object')"
      ]
     },
     "execution_count": 7,
     "metadata": {},
     "output_type": "execute_result"
    }
   ],
   "source": [
    "pa.columns"
   ]
  },
  {
   "cell_type": "code",
   "execution_count": 8,
   "metadata": {},
   "outputs": [
    {
     "data": {
      "text/html": [
       "<div>\n",
       "<style scoped>\n",
       "    .dataframe tbody tr th:only-of-type {\n",
       "        vertical-align: middle;\n",
       "    }\n",
       "\n",
       "    .dataframe tbody tr th {\n",
       "        vertical-align: top;\n",
       "    }\n",
       "\n",
       "    .dataframe thead th {\n",
       "        text-align: right;\n",
       "    }\n",
       "</style>\n",
       "<table border=\"1\" class=\"dataframe\">\n",
       "  <thead>\n",
       "    <tr style=\"text-align: right;\">\n",
       "      <th></th>\n",
       "      <th></th>\n",
       "      <th>pa</th>\n",
       "      <th>ob</th>\n",
       "      <th>ab</th>\n",
       "      <th>h</th>\n",
       "      <th>tb</th>\n",
       "      <th>k</th>\n",
       "      <th>bb</th>\n",
       "      <th>ibb</th>\n",
       "      <th>hr</th>\n",
       "      <th>ba</th>\n",
       "      <th>obp</th>\n",
       "      <th>slg</th>\n",
       "      <th>woba</th>\n",
       "      <th>k%</th>\n",
       "      <th>bb%</th>\n",
       "      <th>hr%</th>\n",
       "    </tr>\n",
       "    <tr>\n",
       "      <th>bat_lg_id</th>\n",
       "      <th>fld_lg_id</th>\n",
       "      <th></th>\n",
       "      <th></th>\n",
       "      <th></th>\n",
       "      <th></th>\n",
       "      <th></th>\n",
       "      <th></th>\n",
       "      <th></th>\n",
       "      <th></th>\n",
       "      <th></th>\n",
       "      <th></th>\n",
       "      <th></th>\n",
       "      <th></th>\n",
       "      <th></th>\n",
       "      <th></th>\n",
       "      <th></th>\n",
       "      <th></th>\n",
       "    </tr>\n",
       "  </thead>\n",
       "  <tbody>\n",
       "    <tr>\n",
       "      <th rowspan=\"2\" valign=\"top\">AL</th>\n",
       "      <th>AL</th>\n",
       "      <td>1836993</td>\n",
       "      <td>594252</td>\n",
       "      <td>1642851</td>\n",
       "      <td>432120</td>\n",
       "      <td>694173.0</td>\n",
       "      <td>332027</td>\n",
       "      <td>145341</td>\n",
       "      <td>8931</td>\n",
       "      <td>53228</td>\n",
       "      <td>0.263031</td>\n",
       "      <td>0.323492</td>\n",
       "      <td>0.422542</td>\n",
       "      <td>0.315632</td>\n",
       "      <td>0.180745</td>\n",
       "      <td>0.079119</td>\n",
       "      <td>0.028976</td>\n",
       "    </tr>\n",
       "    <tr>\n",
       "      <th>NL</th>\n",
       "      <td>237262</td>\n",
       "      <td>77857</td>\n",
       "      <td>211674</td>\n",
       "      <td>56523</td>\n",
       "      <td>91398.0</td>\n",
       "      <td>42644</td>\n",
       "      <td>19206</td>\n",
       "      <td>1460</td>\n",
       "      <td>7109</td>\n",
       "      <td>0.267029</td>\n",
       "      <td>0.328148</td>\n",
       "      <td>0.431787</td>\n",
       "      <td>0.320515</td>\n",
       "      <td>0.179734</td>\n",
       "      <td>0.080948</td>\n",
       "      <td>0.029963</td>\n",
       "    </tr>\n",
       "    <tr>\n",
       "      <th rowspan=\"2\" valign=\"top\">NL</th>\n",
       "      <th>AL</th>\n",
       "      <td>236497</td>\n",
       "      <td>75454</td>\n",
       "      <td>211985</td>\n",
       "      <td>55246</td>\n",
       "      <td>88442.0</td>\n",
       "      <td>44571</td>\n",
       "      <td>17940</td>\n",
       "      <td>1457</td>\n",
       "      <td>6717</td>\n",
       "      <td>0.260613</td>\n",
       "      <td>0.319048</td>\n",
       "      <td>0.417209</td>\n",
       "      <td>0.310874</td>\n",
       "      <td>0.188463</td>\n",
       "      <td>0.075857</td>\n",
       "      <td>0.028402</td>\n",
       "    </tr>\n",
       "    <tr>\n",
       "      <th>NL</th>\n",
       "      <td>1902217</td>\n",
       "      <td>622525</td>\n",
       "      <td>1690864</td>\n",
       "      <td>448721</td>\n",
       "      <td>721063.0</td>\n",
       "      <td>341740</td>\n",
       "      <td>155667</td>\n",
       "      <td>14917</td>\n",
       "      <td>54002</td>\n",
       "      <td>0.265380</td>\n",
       "      <td>0.327263</td>\n",
       "      <td>0.426446</td>\n",
       "      <td>0.317439</td>\n",
       "      <td>0.179654</td>\n",
       "      <td>0.081835</td>\n",
       "      <td>0.028389</td>\n",
       "    </tr>\n",
       "  </tbody>\n",
       "</table>\n",
       "</div>"
      ],
      "text/plain": [
       "                          pa      ob       ab       h        tb       k  \\\n",
       "bat_lg_id fld_lg_id                                                       \n",
       "AL        AL         1836993  594252  1642851  432120  694173.0  332027   \n",
       "          NL          237262   77857   211674   56523   91398.0   42644   \n",
       "NL        AL          236497   75454   211985   55246   88442.0   44571   \n",
       "          NL         1902217  622525  1690864  448721  721063.0  341740   \n",
       "\n",
       "                         bb    ibb     hr        ba       obp       slg  \\\n",
       "bat_lg_id fld_lg_id                                                       \n",
       "AL        AL         145341   8931  53228  0.263031  0.323492  0.422542   \n",
       "          NL          19206   1460   7109  0.267029  0.328148  0.431787   \n",
       "NL        AL          17940   1457   6717  0.260613  0.319048  0.417209   \n",
       "          NL         155667  14917  54002  0.265380  0.327263  0.426446   \n",
       "\n",
       "                         woba        k%       bb%       hr%  \n",
       "bat_lg_id fld_lg_id                                          \n",
       "AL        AL         0.315632  0.180745  0.079119  0.028976  \n",
       "          NL         0.320515  0.179734  0.080948  0.029963  \n",
       "NL        AL         0.310874  0.188463  0.075857  0.028402  \n",
       "          NL         0.317439  0.179654  0.081835  0.028389  "
      ]
     },
     "execution_count": 8,
     "metadata": {},
     "output_type": "execute_result"
    }
   ],
   "source": [
    "bsu.summarize_events(pa, ['bat_lg_id', 'fld_lg_id'])"
   ]
  },
  {
   "cell_type": "code",
   "execution_count": 9,
   "metadata": {},
   "outputs": [
    {
     "data": {
      "text/html": [
       "<div>\n",
       "<style scoped>\n",
       "    .dataframe tbody tr th:only-of-type {\n",
       "        vertical-align: middle;\n",
       "    }\n",
       "\n",
       "    .dataframe tbody tr th {\n",
       "        vertical-align: top;\n",
       "    }\n",
       "\n",
       "    .dataframe thead th {\n",
       "        text-align: right;\n",
       "    }\n",
       "</style>\n",
       "<table border=\"1\" class=\"dataframe\">\n",
       "  <thead>\n",
       "    <tr style=\"text-align: right;\">\n",
       "      <th></th>\n",
       "      <th></th>\n",
       "      <th>pa</th>\n",
       "      <th>ob</th>\n",
       "      <th>ab</th>\n",
       "      <th>h</th>\n",
       "      <th>tb</th>\n",
       "      <th>k</th>\n",
       "      <th>bb</th>\n",
       "      <th>ibb</th>\n",
       "      <th>hr</th>\n",
       "      <th>ba</th>\n",
       "      <th>obp</th>\n",
       "      <th>slg</th>\n",
       "      <th>woba</th>\n",
       "      <th>k%</th>\n",
       "      <th>bb%</th>\n",
       "      <th>hr%</th>\n",
       "    </tr>\n",
       "    <tr>\n",
       "      <th>bat_lg_id</th>\n",
       "      <th>fld_lg_id</th>\n",
       "      <th></th>\n",
       "      <th></th>\n",
       "      <th></th>\n",
       "      <th></th>\n",
       "      <th></th>\n",
       "      <th></th>\n",
       "      <th></th>\n",
       "      <th></th>\n",
       "      <th></th>\n",
       "      <th></th>\n",
       "      <th></th>\n",
       "      <th></th>\n",
       "      <th></th>\n",
       "      <th></th>\n",
       "      <th></th>\n",
       "      <th></th>\n",
       "    </tr>\n",
       "  </thead>\n",
       "  <tbody>\n",
       "    <tr>\n",
       "      <th rowspan=\"2\" valign=\"top\">AL</th>\n",
       "      <th>AL</th>\n",
       "      <td>392723</td>\n",
       "      <td>123395</td>\n",
       "      <td>352725</td>\n",
       "      <td>90293</td>\n",
       "      <td>142424.0</td>\n",
       "      <td>74452</td>\n",
       "      <td>29789</td>\n",
       "      <td>1959</td>\n",
       "      <td>10319</td>\n",
       "      <td>0.255987</td>\n",
       "      <td>0.314204</td>\n",
       "      <td>0.403782</td>\n",
       "      <td>0.304489</td>\n",
       "      <td>0.189579</td>\n",
       "      <td>0.075852</td>\n",
       "      <td>0.026276</td>\n",
       "    </tr>\n",
       "    <tr>\n",
       "      <th>NL</th>\n",
       "      <td>49920</td>\n",
       "      <td>16012</td>\n",
       "      <td>44834</td>\n",
       "      <td>11831</td>\n",
       "      <td>18523.0</td>\n",
       "      <td>8873</td>\n",
       "      <td>3778</td>\n",
       "      <td>305</td>\n",
       "      <td>1325</td>\n",
       "      <td>0.263885</td>\n",
       "      <td>0.320753</td>\n",
       "      <td>0.413146</td>\n",
       "      <td>0.310296</td>\n",
       "      <td>0.177744</td>\n",
       "      <td>0.075681</td>\n",
       "      <td>0.026542</td>\n",
       "    </tr>\n",
       "    <tr>\n",
       "      <th rowspan=\"2\" valign=\"top\">NL</th>\n",
       "      <th>AL</th>\n",
       "      <td>49546</td>\n",
       "      <td>15200</td>\n",
       "      <td>44802</td>\n",
       "      <td>11369</td>\n",
       "      <td>17836.0</td>\n",
       "      <td>9859</td>\n",
       "      <td>3360</td>\n",
       "      <td>315</td>\n",
       "      <td>1230</td>\n",
       "      <td>0.253761</td>\n",
       "      <td>0.306786</td>\n",
       "      <td>0.398107</td>\n",
       "      <td>0.297802</td>\n",
       "      <td>0.198987</td>\n",
       "      <td>0.067816</td>\n",
       "      <td>0.024825</td>\n",
       "    </tr>\n",
       "    <tr>\n",
       "      <th>NL</th>\n",
       "      <td>402796</td>\n",
       "      <td>128129</td>\n",
       "      <td>360878</td>\n",
       "      <td>93783</td>\n",
       "      <td>146575.0</td>\n",
       "      <td>76019</td>\n",
       "      <td>30827</td>\n",
       "      <td>2926</td>\n",
       "      <td>9968</td>\n",
       "      <td>0.259875</td>\n",
       "      <td>0.318099</td>\n",
       "      <td>0.406162</td>\n",
       "      <td>0.306177</td>\n",
       "      <td>0.188728</td>\n",
       "      <td>0.076533</td>\n",
       "      <td>0.024747</td>\n",
       "    </tr>\n",
       "  </tbody>\n",
       "</table>\n",
       "</div>"
      ],
      "text/plain": [
       "                         pa      ob      ab      h        tb      k     bb  \\\n",
       "bat_lg_id fld_lg_id                                                          \n",
       "AL        AL         392723  123395  352725  90293  142424.0  74452  29789   \n",
       "          NL          49920   16012   44834  11831   18523.0   8873   3778   \n",
       "NL        AL          49546   15200   44802  11369   17836.0   9859   3360   \n",
       "          NL         402796  128129  360878  93783  146575.0  76019  30827   \n",
       "\n",
       "                      ibb     hr        ba       obp       slg      woba  \\\n",
       "bat_lg_id fld_lg_id                                                        \n",
       "AL        AL         1959  10319  0.255987  0.314204  0.403782  0.304489   \n",
       "          NL          305   1325  0.263885  0.320753  0.413146  0.310296   \n",
       "NL        AL          315   1230  0.253761  0.306786  0.398107  0.297802   \n",
       "          NL         2926   9968  0.259875  0.318099  0.406162  0.306177   \n",
       "\n",
       "                           k%       bb%       hr%  \n",
       "bat_lg_id fld_lg_id                                \n",
       "AL        AL         0.189579  0.075852  0.026276  \n",
       "          NL         0.177744  0.075681  0.026542  \n",
       "NL        AL         0.198987  0.067816  0.024825  \n",
       "          NL         0.188728  0.076533  0.024747  "
      ]
     },
     "execution_count": 9,
     "metadata": {},
     "output_type": "execute_result"
    }
   ],
   "source": [
    "df = pa[(pa['yr'].isin(range(2010, 2015)))]\n",
    "bsu.summarize_events(df, ['bat_lg_id', 'fld_lg_id'])"
   ]
  },
  {
   "cell_type": "code",
   "execution_count": 10,
   "metadata": {},
   "outputs": [
    {
     "data": {
      "text/html": [
       "<div>\n",
       "<style scoped>\n",
       "    .dataframe tbody tr th:only-of-type {\n",
       "        vertical-align: middle;\n",
       "    }\n",
       "\n",
       "    .dataframe tbody tr th {\n",
       "        vertical-align: top;\n",
       "    }\n",
       "\n",
       "    .dataframe thead th {\n",
       "        text-align: right;\n",
       "    }\n",
       "</style>\n",
       "<table border=\"1\" class=\"dataframe\">\n",
       "  <thead>\n",
       "    <tr style=\"text-align: right;\">\n",
       "      <th></th>\n",
       "      <th></th>\n",
       "      <th>pa</th>\n",
       "      <th>ob</th>\n",
       "      <th>ab</th>\n",
       "      <th>h</th>\n",
       "      <th>tb</th>\n",
       "      <th>k</th>\n",
       "      <th>bb</th>\n",
       "      <th>ibb</th>\n",
       "      <th>hr</th>\n",
       "      <th>ba</th>\n",
       "      <th>obp</th>\n",
       "      <th>slg</th>\n",
       "      <th>woba</th>\n",
       "      <th>k%</th>\n",
       "      <th>bb%</th>\n",
       "      <th>hr%</th>\n",
       "    </tr>\n",
       "    <tr>\n",
       "      <th>bat_id</th>\n",
       "      <th>fld_lg_id</th>\n",
       "      <th></th>\n",
       "      <th></th>\n",
       "      <th></th>\n",
       "      <th></th>\n",
       "      <th></th>\n",
       "      <th></th>\n",
       "      <th></th>\n",
       "      <th></th>\n",
       "      <th></th>\n",
       "      <th></th>\n",
       "      <th></th>\n",
       "      <th></th>\n",
       "      <th></th>\n",
       "      <th></th>\n",
       "      <th></th>\n",
       "      <th></th>\n",
       "    </tr>\n",
       "  </thead>\n",
       "  <tbody>\n",
       "    <tr>\n",
       "      <th rowspan=\"2\" valign=\"top\">abada001</th>\n",
       "      <th>AL</th>\n",
       "      <td>20</td>\n",
       "      <td>4</td>\n",
       "      <td>18</td>\n",
       "      <td>2</td>\n",
       "      <td>2</td>\n",
       "      <td>5</td>\n",
       "      <td>2</td>\n",
       "      <td>0</td>\n",
       "      <td>0</td>\n",
       "      <td>0.111111</td>\n",
       "      <td>0.200000</td>\n",
       "      <td>0.111111</td>\n",
       "      <td>0.156400</td>\n",
       "      <td>0.250000</td>\n",
       "      <td>0.100000</td>\n",
       "      <td>0.000000</td>\n",
       "    </tr>\n",
       "    <tr>\n",
       "      <th>NL</th>\n",
       "      <td>5</td>\n",
       "      <td>2</td>\n",
       "      <td>3</td>\n",
       "      <td>0</td>\n",
       "      <td>0</td>\n",
       "      <td>0</td>\n",
       "      <td>2</td>\n",
       "      <td>0</td>\n",
       "      <td>0</td>\n",
       "      <td>0.000000</td>\n",
       "      <td>0.400000</td>\n",
       "      <td>0.000000</td>\n",
       "      <td>0.280800</td>\n",
       "      <td>0.000000</td>\n",
       "      <td>0.400000</td>\n",
       "      <td>0.000000</td>\n",
       "    </tr>\n",
       "    <tr>\n",
       "      <th rowspan=\"2\" valign=\"top\">abboj002</th>\n",
       "      <th>AL</th>\n",
       "      <td>549</td>\n",
       "      <td>160</td>\n",
       "      <td>502</td>\n",
       "      <td>129</td>\n",
       "      <td>209</td>\n",
       "      <td>75</td>\n",
       "      <td>29</td>\n",
       "      <td>2</td>\n",
       "      <td>18</td>\n",
       "      <td>0.256972</td>\n",
       "      <td>0.291439</td>\n",
       "      <td>0.416335</td>\n",
       "      <td>0.294618</td>\n",
       "      <td>0.136612</td>\n",
       "      <td>0.052823</td>\n",
       "      <td>0.032787</td>\n",
       "    </tr>\n",
       "    <tr>\n",
       "      <th>NL</th>\n",
       "      <td>102</td>\n",
       "      <td>36</td>\n",
       "      <td>94</td>\n",
       "      <td>28</td>\n",
       "      <td>39</td>\n",
       "      <td>16</td>\n",
       "      <td>7</td>\n",
       "      <td>0</td>\n",
       "      <td>0</td>\n",
       "      <td>0.297872</td>\n",
       "      <td>0.352941</td>\n",
       "      <td>0.414894</td>\n",
       "      <td>0.331588</td>\n",
       "      <td>0.156863</td>\n",
       "      <td>0.068627</td>\n",
       "      <td>0.000000</td>\n",
       "    </tr>\n",
       "    <tr>\n",
       "      <th>abbok002</th>\n",
       "      <th>AL</th>\n",
       "      <td>208</td>\n",
       "      <td>67</td>\n",
       "      <td>185</td>\n",
       "      <td>50</td>\n",
       "      <td>75</td>\n",
       "      <td>57</td>\n",
       "      <td>15</td>\n",
       "      <td>1</td>\n",
       "      <td>4</td>\n",
       "      <td>0.270270</td>\n",
       "      <td>0.322115</td>\n",
       "      <td>0.405405</td>\n",
       "      <td>0.307159</td>\n",
       "      <td>0.274038</td>\n",
       "      <td>0.072115</td>\n",
       "      <td>0.019231</td>\n",
       "    </tr>\n",
       "    <tr>\n",
       "      <th>...</th>\n",
       "      <th>...</th>\n",
       "      <td>...</td>\n",
       "      <td>...</td>\n",
       "      <td>...</td>\n",
       "      <td>...</td>\n",
       "      <td>...</td>\n",
       "      <td>...</td>\n",
       "      <td>...</td>\n",
       "      <td>...</td>\n",
       "      <td>...</td>\n",
       "      <td>...</td>\n",
       "      <td>...</td>\n",
       "      <td>...</td>\n",
       "      <td>...</td>\n",
       "      <td>...</td>\n",
       "      <td>...</td>\n",
       "      <td>...</td>\n",
       "    </tr>\n",
       "    <tr>\n",
       "      <th>zubej001</th>\n",
       "      <th>NL</th>\n",
       "      <td>47</td>\n",
       "      <td>17</td>\n",
       "      <td>40</td>\n",
       "      <td>10</td>\n",
       "      <td>18</td>\n",
       "      <td>8</td>\n",
       "      <td>6</td>\n",
       "      <td>0</td>\n",
       "      <td>1</td>\n",
       "      <td>0.250000</td>\n",
       "      <td>0.361702</td>\n",
       "      <td>0.450000</td>\n",
       "      <td>0.350936</td>\n",
       "      <td>0.170213</td>\n",
       "      <td>0.127660</td>\n",
       "      <td>0.021277</td>\n",
       "    </tr>\n",
       "    <tr>\n",
       "      <th rowspan=\"2\" valign=\"top\">zulej001</th>\n",
       "      <th>AL</th>\n",
       "      <td>14</td>\n",
       "      <td>4</td>\n",
       "      <td>13</td>\n",
       "      <td>3</td>\n",
       "      <td>4</td>\n",
       "      <td>2</td>\n",
       "      <td>0</td>\n",
       "      <td>0</td>\n",
       "      <td>0</td>\n",
       "      <td>0.230769</td>\n",
       "      <td>0.285714</td>\n",
       "      <td>0.307692</td>\n",
       "      <td>0.261286</td>\n",
       "      <td>0.142857</td>\n",
       "      <td>0.000000</td>\n",
       "      <td>0.000000</td>\n",
       "    </tr>\n",
       "    <tr>\n",
       "      <th>NL</th>\n",
       "      <td>177</td>\n",
       "      <td>54</td>\n",
       "      <td>161</td>\n",
       "      <td>40</td>\n",
       "      <td>77</td>\n",
       "      <td>49</td>\n",
       "      <td>9</td>\n",
       "      <td>1</td>\n",
       "      <td>9</td>\n",
       "      <td>0.248447</td>\n",
       "      <td>0.305085</td>\n",
       "      <td>0.478261</td>\n",
       "      <td>0.325545</td>\n",
       "      <td>0.276836</td>\n",
       "      <td>0.050847</td>\n",
       "      <td>0.050847</td>\n",
       "    </tr>\n",
       "    <tr>\n",
       "      <th rowspan=\"2\" valign=\"top\">zunim001</th>\n",
       "      <th>AL</th>\n",
       "      <td>2137</td>\n",
       "      <td>570</td>\n",
       "      <td>1934</td>\n",
       "      <td>386</td>\n",
       "      <td>767</td>\n",
       "      <td>732</td>\n",
       "      <td>141</td>\n",
       "      <td>0</td>\n",
       "      <td>97</td>\n",
       "      <td>0.199586</td>\n",
       "      <td>0.266729</td>\n",
       "      <td>0.396587</td>\n",
       "      <td>0.282110</td>\n",
       "      <td>0.342536</td>\n",
       "      <td>0.065980</td>\n",
       "      <td>0.045391</td>\n",
       "    </tr>\n",
       "    <tr>\n",
       "      <th>NL</th>\n",
       "      <td>323</td>\n",
       "      <td>90</td>\n",
       "      <td>292</td>\n",
       "      <td>60</td>\n",
       "      <td>109</td>\n",
       "      <td>117</td>\n",
       "      <td>22</td>\n",
       "      <td>1</td>\n",
       "      <td>11</td>\n",
       "      <td>0.205479</td>\n",
       "      <td>0.278638</td>\n",
       "      <td>0.373288</td>\n",
       "      <td>0.280149</td>\n",
       "      <td>0.362229</td>\n",
       "      <td>0.068111</td>\n",
       "      <td>0.034056</td>\n",
       "    </tr>\n",
       "  </tbody>\n",
       "</table>\n",
       "<p>5667 rows × 16 columns</p>\n",
       "</div>"
      ],
      "text/plain": [
       "                      pa   ob    ab    h   tb    k   bb  ibb  hr        ba  \\\n",
       "bat_id   fld_lg_id                                                           \n",
       "abada001 AL           20    4    18    2    2    5    2    0   0  0.111111   \n",
       "         NL            5    2     3    0    0    0    2    0   0  0.000000   \n",
       "abboj002 AL          549  160   502  129  209   75   29    2  18  0.256972   \n",
       "         NL          102   36    94   28   39   16    7    0   0  0.297872   \n",
       "abbok002 AL          208   67   185   50   75   57   15    1   4  0.270270   \n",
       "...                  ...  ...   ...  ...  ...  ...  ...  ...  ..       ...   \n",
       "zubej001 NL           47   17    40   10   18    8    6    0   1  0.250000   \n",
       "zulej001 AL           14    4    13    3    4    2    0    0   0  0.230769   \n",
       "         NL          177   54   161   40   77   49    9    1   9  0.248447   \n",
       "zunim001 AL         2137  570  1934  386  767  732  141    0  97  0.199586   \n",
       "         NL          323   90   292   60  109  117   22    1  11  0.205479   \n",
       "\n",
       "                         obp       slg      woba        k%       bb%       hr%  \n",
       "bat_id   fld_lg_id                                                              \n",
       "abada001 AL         0.200000  0.111111  0.156400  0.250000  0.100000  0.000000  \n",
       "         NL         0.400000  0.000000  0.280800  0.000000  0.400000  0.000000  \n",
       "abboj002 AL         0.291439  0.416335  0.294618  0.136612  0.052823  0.032787  \n",
       "         NL         0.352941  0.414894  0.331588  0.156863  0.068627  0.000000  \n",
       "abbok002 AL         0.322115  0.405405  0.307159  0.274038  0.072115  0.019231  \n",
       "...                      ...       ...       ...       ...       ...       ...  \n",
       "zubej001 NL         0.361702  0.450000  0.350936  0.170213  0.127660  0.021277  \n",
       "zulej001 AL         0.285714  0.307692  0.261286  0.142857  0.000000  0.000000  \n",
       "         NL         0.305085  0.478261  0.325545  0.276836  0.050847  0.050847  \n",
       "zunim001 AL         0.266729  0.396587  0.282110  0.342536  0.065980  0.045391  \n",
       "         NL         0.278638  0.373288  0.280149  0.362229  0.068111  0.034056  \n",
       "\n",
       "[5667 rows x 16 columns]"
      ]
     },
     "execution_count": 10,
     "metadata": {},
     "output_type": "execute_result"
    }
   ],
   "source": [
    "split = bsu.summarize_events(pa, ['bat_id', 'fld_lg_id'])\n",
    "split"
   ]
  },
  {
   "cell_type": "code",
   "execution_count": 11,
   "metadata": {},
   "outputs": [
    {
     "data": {
      "text/html": [
       "<div>\n",
       "<style scoped>\n",
       "    .dataframe tbody tr th:only-of-type {\n",
       "        vertical-align: middle;\n",
       "    }\n",
       "\n",
       "    .dataframe tbody tr th {\n",
       "        vertical-align: top;\n",
       "    }\n",
       "\n",
       "    .dataframe thead th {\n",
       "        text-align: right;\n",
       "    }\n",
       "</style>\n",
       "<table border=\"1\" class=\"dataframe\">\n",
       "  <thead>\n",
       "    <tr style=\"text-align: right;\">\n",
       "      <th></th>\n",
       "      <th>min_pa</th>\n",
       "      <th>AL</th>\n",
       "      <th>NL</th>\n",
       "    </tr>\n",
       "    <tr>\n",
       "      <th>bat_id</th>\n",
       "      <th></th>\n",
       "      <th></th>\n",
       "      <th></th>\n",
       "    </tr>\n",
       "  </thead>\n",
       "  <tbody>\n",
       "    <tr>\n",
       "      <th>cahit001</th>\n",
       "      <td>1.0</td>\n",
       "      <td>0.000000</td>\n",
       "      <td>0.000000</td>\n",
       "    </tr>\n",
       "    <tr>\n",
       "      <th>guerg001</th>\n",
       "      <td>1.0</td>\n",
       "      <td>0.862000</td>\n",
       "      <td>0.166706</td>\n",
       "    </tr>\n",
       "    <tr>\n",
       "      <th>gruld001</th>\n",
       "      <td>1.0</td>\n",
       "      <td>0.000000</td>\n",
       "      <td>0.233000</td>\n",
       "    </tr>\n",
       "    <tr>\n",
       "      <th>rohrd001</th>\n",
       "      <td>1.0</td>\n",
       "      <td>0.399000</td>\n",
       "      <td>0.000000</td>\n",
       "    </tr>\n",
       "    <tr>\n",
       "      <th>gregt001</th>\n",
       "      <td>1.0</td>\n",
       "      <td>0.000000</td>\n",
       "      <td>0.302737</td>\n",
       "    </tr>\n",
       "    <tr>\n",
       "      <th>...</th>\n",
       "      <td>...</td>\n",
       "      <td>...</td>\n",
       "      <td>...</td>\n",
       "    </tr>\n",
       "    <tr>\n",
       "      <th>cabro001</th>\n",
       "      <td>4037.0</td>\n",
       "      <td>0.297790</td>\n",
       "      <td>0.297248</td>\n",
       "    </tr>\n",
       "    <tr>\n",
       "      <th>guerv001</th>\n",
       "      <td>4300.0</td>\n",
       "      <td>0.354498</td>\n",
       "      <td>0.369267</td>\n",
       "    </tr>\n",
       "    <tr>\n",
       "      <th>belta001</th>\n",
       "      <td>4440.0</td>\n",
       "      <td>0.332829</td>\n",
       "      <td>0.339237</td>\n",
       "    </tr>\n",
       "    <tr>\n",
       "      <th>pujoa001</th>\n",
       "      <td>4951.0</td>\n",
       "      <td>0.320498</td>\n",
       "      <td>0.387557</td>\n",
       "    </tr>\n",
       "    <tr>\n",
       "      <th>beltc001</th>\n",
       "      <td>5509.0</td>\n",
       "      <td>0.332860</td>\n",
       "      <td>0.353505</td>\n",
       "    </tr>\n",
       "  </tbody>\n",
       "</table>\n",
       "<p>2527 rows × 3 columns</p>\n",
       "</div>"
      ],
      "text/plain": [
       "          min_pa        AL        NL\n",
       "bat_id                              \n",
       "cahit001     1.0  0.000000  0.000000\n",
       "guerg001     1.0  0.862000  0.166706\n",
       "gruld001     1.0  0.000000  0.233000\n",
       "rohrd001     1.0  0.399000  0.000000\n",
       "gregt001     1.0  0.000000  0.302737\n",
       "...          ...       ...       ...\n",
       "cabro001  4037.0  0.297790  0.297248\n",
       "guerv001  4300.0  0.354498  0.369267\n",
       "belta001  4440.0  0.332829  0.339237\n",
       "pujoa001  4951.0  0.320498  0.387557\n",
       "beltc001  5509.0  0.332860  0.353505\n",
       "\n",
       "[2527 rows x 3 columns]"
      ]
     },
     "execution_count": 11,
     "metadata": {},
     "output_type": "execute_result"
    }
   ],
   "source": [
    "def summarize_split(split, stat):\n",
    "    df = split[['pa', stat]].unstack()\n",
    "    min_pa = df['pa'].apply(lambda x: min(x), axis=1).rename('min_pa')\n",
    "    return pd.concat([min_pa, df[stat]], axis=1).dropna()\n",
    "\n",
    "df = summarize_split(split, 'woba')\n",
    "df.sort_values('min_pa')\n"
   ]
  },
  {
   "cell_type": "code",
   "execution_count": 12,
   "metadata": {},
   "outputs": [
    {
     "data": {
      "text/plain": [
       "[0.31160036736837976, 0.3171716870611606]"
      ]
     },
     "execution_count": 12,
     "metadata": {},
     "output_type": "execute_result"
    }
   ],
   "source": [
    "[(df['min_pa']*df[lg]).sum()/df['min_pa'].sum() for lg in ['AL', 'NL']]"
   ]
  },
  {
   "cell_type": "code",
   "execution_count": 13,
   "metadata": {},
   "outputs": [
    {
     "data": {
      "text/plain": [
       "{'AL': 0.31160036736837976, 'NL': 0.3171716870611606}"
      ]
     },
     "execution_count": 13,
     "metadata": {},
     "output_type": "execute_result"
    }
   ],
   "source": [
    "def compute_overall_split(df_pa, split, stat):\n",
    "    df = summarize_split(bsu.summarize_events(df_pa, split), stat)\n",
    "    return ({lg: (df['min_pa']*df[lg]).sum()/df['min_pa'].sum() for lg in ['AL', 'NL']})\n",
    "\n",
    "compute_overall_split(pa, ['bat_id', 'fld_lg_id'], 'woba')\n"
   ]
  },
  {
   "cell_type": "code",
   "execution_count": 14,
   "metadata": {},
   "outputs": [],
   "source": [
    "\n",
    "def compute_splits_windows(df_pa, split, window_size):\n",
    "    stat = 'woba'\n",
    "    def compute_split_range(df_pa, yr):\n",
    "        rng = range(yr, yr+window_size)\n",
    "        return compute_overall_split(df_pa.query('yr in @rng'), split, stat)\n",
    "\n",
    "\n",
    "    yrs = range(df_pa['yr'].min(), df_pa['yr'].max()-window_size+1)\n",
    "    result = pd.DataFrame({yr: compute_split_range(df_pa, yr) for yr in yrs}).T\n",
    "    stacked = result.stack().rename(stat)\n",
    "    stacked.index.names= ['yr', split[1]]\n",
    "    return stacked\n"
   ]
  },
  {
   "cell_type": "code",
   "execution_count": 15,
   "metadata": {},
   "outputs": [
    {
     "data": {
      "application/vnd.plotly.v1+json": {
       "config": {
        "plotlyServerURL": "https://plot.ly"
       },
       "data": [
        {
         "hovertemplate": "fld_lg_id=AL<br>yr=%{x}<br>woba=%{y}<extra></extra>",
         "legendgroup": "AL",
         "line": {
          "color": "#636efa",
          "dash": "solid"
         },
         "mode": "lines",
         "name": "AL",
         "orientation": "v",
         "showlegend": true,
         "type": "scatter",
         "x": [
          1997,
          1998,
          1999,
          2000,
          2001,
          2002,
          2003,
          2004,
          2005,
          2006,
          2007,
          2008,
          2009,
          2010,
          2011,
          2012,
          2013,
          2014,
          2015
         ],
         "xaxis": "x",
         "y": [
          0.31990866389370604,
          0.3190147912027111,
          0.31832766429911835,
          0.31559537940413,
          0.31292648342670293,
          0.31339076890023715,
          0.31284621532414425,
          0.3116289423903302,
          0.310870114299942,
          0.31047055872567775,
          0.3071534201134637,
          0.30460863523136045,
          0.3023343095785723,
          0.2992205209706834,
          0.29842873561945915,
          0.30062635707244095,
          0.30286643281230324,
          0.3051604010768752,
          0.3102443412528716
         ],
         "yaxis": "y"
        },
        {
         "hovertemplate": "fld_lg_id=NL<br>yr=%{x}<br>woba=%{y}<extra></extra>",
         "legendgroup": "NL",
         "line": {
          "color": "#EF553B",
          "dash": "solid"
         },
         "mode": "lines",
         "name": "NL",
         "orientation": "v",
         "showlegend": true,
         "type": "scatter",
         "x": [
          1997,
          1998,
          1999,
          2000,
          2001,
          2002,
          2003,
          2004,
          2005,
          2006,
          2007,
          2008,
          2009,
          2010,
          2011,
          2012,
          2013,
          2014,
          2015
         ],
         "xaxis": "x",
         "y": [
          0.3229702215251917,
          0.32213774911437426,
          0.32159674793250553,
          0.31948112348681323,
          0.3183099441089653,
          0.32151293033926404,
          0.32376772679506044,
          0.32364806480387137,
          0.3220832555443399,
          0.3191890436209718,
          0.31324259340001265,
          0.3113797401622766,
          0.30876583590937406,
          0.3059806503720136,
          0.3065182515403056,
          0.30781756497938423,
          0.3104389011536174,
          0.3119165489895487,
          0.3141428453120542
         ],
         "yaxis": "y"
        }
       ],
       "layout": {
        "hovermode": "x",
        "legend": {
         "title": {
          "text": "fld_lg_id"
         },
         "tracegroupgap": 0
        },
        "margin": {
         "t": 60
        },
        "template": {
         "data": {
          "bar": [
           {
            "error_x": {
             "color": "#2a3f5f"
            },
            "error_y": {
             "color": "#2a3f5f"
            },
            "marker": {
             "line": {
              "color": "#E5ECF6",
              "width": 0.5
             }
            },
            "type": "bar"
           }
          ],
          "barpolar": [
           {
            "marker": {
             "line": {
              "color": "#E5ECF6",
              "width": 0.5
             }
            },
            "type": "barpolar"
           }
          ],
          "carpet": [
           {
            "aaxis": {
             "endlinecolor": "#2a3f5f",
             "gridcolor": "white",
             "linecolor": "white",
             "minorgridcolor": "white",
             "startlinecolor": "#2a3f5f"
            },
            "baxis": {
             "endlinecolor": "#2a3f5f",
             "gridcolor": "white",
             "linecolor": "white",
             "minorgridcolor": "white",
             "startlinecolor": "#2a3f5f"
            },
            "type": "carpet"
           }
          ],
          "choropleth": [
           {
            "colorbar": {
             "outlinewidth": 0,
             "ticks": ""
            },
            "type": "choropleth"
           }
          ],
          "contour": [
           {
            "colorbar": {
             "outlinewidth": 0,
             "ticks": ""
            },
            "colorscale": [
             [
              0,
              "#0d0887"
             ],
             [
              0.1111111111111111,
              "#46039f"
             ],
             [
              0.2222222222222222,
              "#7201a8"
             ],
             [
              0.3333333333333333,
              "#9c179e"
             ],
             [
              0.4444444444444444,
              "#bd3786"
             ],
             [
              0.5555555555555556,
              "#d8576b"
             ],
             [
              0.6666666666666666,
              "#ed7953"
             ],
             [
              0.7777777777777778,
              "#fb9f3a"
             ],
             [
              0.8888888888888888,
              "#fdca26"
             ],
             [
              1,
              "#f0f921"
             ]
            ],
            "type": "contour"
           }
          ],
          "contourcarpet": [
           {
            "colorbar": {
             "outlinewidth": 0,
             "ticks": ""
            },
            "type": "contourcarpet"
           }
          ],
          "heatmap": [
           {
            "colorbar": {
             "outlinewidth": 0,
             "ticks": ""
            },
            "colorscale": [
             [
              0,
              "#0d0887"
             ],
             [
              0.1111111111111111,
              "#46039f"
             ],
             [
              0.2222222222222222,
              "#7201a8"
             ],
             [
              0.3333333333333333,
              "#9c179e"
             ],
             [
              0.4444444444444444,
              "#bd3786"
             ],
             [
              0.5555555555555556,
              "#d8576b"
             ],
             [
              0.6666666666666666,
              "#ed7953"
             ],
             [
              0.7777777777777778,
              "#fb9f3a"
             ],
             [
              0.8888888888888888,
              "#fdca26"
             ],
             [
              1,
              "#f0f921"
             ]
            ],
            "type": "heatmap"
           }
          ],
          "heatmapgl": [
           {
            "colorbar": {
             "outlinewidth": 0,
             "ticks": ""
            },
            "colorscale": [
             [
              0,
              "#0d0887"
             ],
             [
              0.1111111111111111,
              "#46039f"
             ],
             [
              0.2222222222222222,
              "#7201a8"
             ],
             [
              0.3333333333333333,
              "#9c179e"
             ],
             [
              0.4444444444444444,
              "#bd3786"
             ],
             [
              0.5555555555555556,
              "#d8576b"
             ],
             [
              0.6666666666666666,
              "#ed7953"
             ],
             [
              0.7777777777777778,
              "#fb9f3a"
             ],
             [
              0.8888888888888888,
              "#fdca26"
             ],
             [
              1,
              "#f0f921"
             ]
            ],
            "type": "heatmapgl"
           }
          ],
          "histogram": [
           {
            "marker": {
             "colorbar": {
              "outlinewidth": 0,
              "ticks": ""
             }
            },
            "type": "histogram"
           }
          ],
          "histogram2d": [
           {
            "colorbar": {
             "outlinewidth": 0,
             "ticks": ""
            },
            "colorscale": [
             [
              0,
              "#0d0887"
             ],
             [
              0.1111111111111111,
              "#46039f"
             ],
             [
              0.2222222222222222,
              "#7201a8"
             ],
             [
              0.3333333333333333,
              "#9c179e"
             ],
             [
              0.4444444444444444,
              "#bd3786"
             ],
             [
              0.5555555555555556,
              "#d8576b"
             ],
             [
              0.6666666666666666,
              "#ed7953"
             ],
             [
              0.7777777777777778,
              "#fb9f3a"
             ],
             [
              0.8888888888888888,
              "#fdca26"
             ],
             [
              1,
              "#f0f921"
             ]
            ],
            "type": "histogram2d"
           }
          ],
          "histogram2dcontour": [
           {
            "colorbar": {
             "outlinewidth": 0,
             "ticks": ""
            },
            "colorscale": [
             [
              0,
              "#0d0887"
             ],
             [
              0.1111111111111111,
              "#46039f"
             ],
             [
              0.2222222222222222,
              "#7201a8"
             ],
             [
              0.3333333333333333,
              "#9c179e"
             ],
             [
              0.4444444444444444,
              "#bd3786"
             ],
             [
              0.5555555555555556,
              "#d8576b"
             ],
             [
              0.6666666666666666,
              "#ed7953"
             ],
             [
              0.7777777777777778,
              "#fb9f3a"
             ],
             [
              0.8888888888888888,
              "#fdca26"
             ],
             [
              1,
              "#f0f921"
             ]
            ],
            "type": "histogram2dcontour"
           }
          ],
          "mesh3d": [
           {
            "colorbar": {
             "outlinewidth": 0,
             "ticks": ""
            },
            "type": "mesh3d"
           }
          ],
          "parcoords": [
           {
            "line": {
             "colorbar": {
              "outlinewidth": 0,
              "ticks": ""
             }
            },
            "type": "parcoords"
           }
          ],
          "pie": [
           {
            "automargin": true,
            "type": "pie"
           }
          ],
          "scatter": [
           {
            "marker": {
             "colorbar": {
              "outlinewidth": 0,
              "ticks": ""
             }
            },
            "type": "scatter"
           }
          ],
          "scatter3d": [
           {
            "line": {
             "colorbar": {
              "outlinewidth": 0,
              "ticks": ""
             }
            },
            "marker": {
             "colorbar": {
              "outlinewidth": 0,
              "ticks": ""
             }
            },
            "type": "scatter3d"
           }
          ],
          "scattercarpet": [
           {
            "marker": {
             "colorbar": {
              "outlinewidth": 0,
              "ticks": ""
             }
            },
            "type": "scattercarpet"
           }
          ],
          "scattergeo": [
           {
            "marker": {
             "colorbar": {
              "outlinewidth": 0,
              "ticks": ""
             }
            },
            "type": "scattergeo"
           }
          ],
          "scattergl": [
           {
            "marker": {
             "colorbar": {
              "outlinewidth": 0,
              "ticks": ""
             }
            },
            "type": "scattergl"
           }
          ],
          "scattermapbox": [
           {
            "marker": {
             "colorbar": {
              "outlinewidth": 0,
              "ticks": ""
             }
            },
            "type": "scattermapbox"
           }
          ],
          "scatterpolar": [
           {
            "marker": {
             "colorbar": {
              "outlinewidth": 0,
              "ticks": ""
             }
            },
            "type": "scatterpolar"
           }
          ],
          "scatterpolargl": [
           {
            "marker": {
             "colorbar": {
              "outlinewidth": 0,
              "ticks": ""
             }
            },
            "type": "scatterpolargl"
           }
          ],
          "scatterternary": [
           {
            "marker": {
             "colorbar": {
              "outlinewidth": 0,
              "ticks": ""
             }
            },
            "type": "scatterternary"
           }
          ],
          "surface": [
           {
            "colorbar": {
             "outlinewidth": 0,
             "ticks": ""
            },
            "colorscale": [
             [
              0,
              "#0d0887"
             ],
             [
              0.1111111111111111,
              "#46039f"
             ],
             [
              0.2222222222222222,
              "#7201a8"
             ],
             [
              0.3333333333333333,
              "#9c179e"
             ],
             [
              0.4444444444444444,
              "#bd3786"
             ],
             [
              0.5555555555555556,
              "#d8576b"
             ],
             [
              0.6666666666666666,
              "#ed7953"
             ],
             [
              0.7777777777777778,
              "#fb9f3a"
             ],
             [
              0.8888888888888888,
              "#fdca26"
             ],
             [
              1,
              "#f0f921"
             ]
            ],
            "type": "surface"
           }
          ],
          "table": [
           {
            "cells": {
             "fill": {
              "color": "#EBF0F8"
             },
             "line": {
              "color": "white"
             }
            },
            "header": {
             "fill": {
              "color": "#C8D4E3"
             },
             "line": {
              "color": "white"
             }
            },
            "type": "table"
           }
          ]
         },
         "layout": {
          "annotationdefaults": {
           "arrowcolor": "#2a3f5f",
           "arrowhead": 0,
           "arrowwidth": 1
          },
          "autotypenumbers": "strict",
          "coloraxis": {
           "colorbar": {
            "outlinewidth": 0,
            "ticks": ""
           }
          },
          "colorscale": {
           "diverging": [
            [
             0,
             "#8e0152"
            ],
            [
             0.1,
             "#c51b7d"
            ],
            [
             0.2,
             "#de77ae"
            ],
            [
             0.3,
             "#f1b6da"
            ],
            [
             0.4,
             "#fde0ef"
            ],
            [
             0.5,
             "#f7f7f7"
            ],
            [
             0.6,
             "#e6f5d0"
            ],
            [
             0.7,
             "#b8e186"
            ],
            [
             0.8,
             "#7fbc41"
            ],
            [
             0.9,
             "#4d9221"
            ],
            [
             1,
             "#276419"
            ]
           ],
           "sequential": [
            [
             0,
             "#0d0887"
            ],
            [
             0.1111111111111111,
             "#46039f"
            ],
            [
             0.2222222222222222,
             "#7201a8"
            ],
            [
             0.3333333333333333,
             "#9c179e"
            ],
            [
             0.4444444444444444,
             "#bd3786"
            ],
            [
             0.5555555555555556,
             "#d8576b"
            ],
            [
             0.6666666666666666,
             "#ed7953"
            ],
            [
             0.7777777777777778,
             "#fb9f3a"
            ],
            [
             0.8888888888888888,
             "#fdca26"
            ],
            [
             1,
             "#f0f921"
            ]
           ],
           "sequentialminus": [
            [
             0,
             "#0d0887"
            ],
            [
             0.1111111111111111,
             "#46039f"
            ],
            [
             0.2222222222222222,
             "#7201a8"
            ],
            [
             0.3333333333333333,
             "#9c179e"
            ],
            [
             0.4444444444444444,
             "#bd3786"
            ],
            [
             0.5555555555555556,
             "#d8576b"
            ],
            [
             0.6666666666666666,
             "#ed7953"
            ],
            [
             0.7777777777777778,
             "#fb9f3a"
            ],
            [
             0.8888888888888888,
             "#fdca26"
            ],
            [
             1,
             "#f0f921"
            ]
           ]
          },
          "colorway": [
           "#636efa",
           "#EF553B",
           "#00cc96",
           "#ab63fa",
           "#FFA15A",
           "#19d3f3",
           "#FF6692",
           "#B6E880",
           "#FF97FF",
           "#FECB52"
          ],
          "font": {
           "color": "#2a3f5f"
          },
          "geo": {
           "bgcolor": "white",
           "lakecolor": "white",
           "landcolor": "#E5ECF6",
           "showlakes": true,
           "showland": true,
           "subunitcolor": "white"
          },
          "hoverlabel": {
           "align": "left"
          },
          "hovermode": "closest",
          "mapbox": {
           "style": "light"
          },
          "paper_bgcolor": "white",
          "plot_bgcolor": "#E5ECF6",
          "polar": {
           "angularaxis": {
            "gridcolor": "white",
            "linecolor": "white",
            "ticks": ""
           },
           "bgcolor": "#E5ECF6",
           "radialaxis": {
            "gridcolor": "white",
            "linecolor": "white",
            "ticks": ""
           }
          },
          "scene": {
           "xaxis": {
            "backgroundcolor": "#E5ECF6",
            "gridcolor": "white",
            "gridwidth": 2,
            "linecolor": "white",
            "showbackground": true,
            "ticks": "",
            "zerolinecolor": "white"
           },
           "yaxis": {
            "backgroundcolor": "#E5ECF6",
            "gridcolor": "white",
            "gridwidth": 2,
            "linecolor": "white",
            "showbackground": true,
            "ticks": "",
            "zerolinecolor": "white"
           },
           "zaxis": {
            "backgroundcolor": "#E5ECF6",
            "gridcolor": "white",
            "gridwidth": 2,
            "linecolor": "white",
            "showbackground": true,
            "ticks": "",
            "zerolinecolor": "white"
           }
          },
          "shapedefaults": {
           "line": {
            "color": "#2a3f5f"
           }
          },
          "ternary": {
           "aaxis": {
            "gridcolor": "white",
            "linecolor": "white",
            "ticks": ""
           },
           "baxis": {
            "gridcolor": "white",
            "linecolor": "white",
            "ticks": ""
           },
           "bgcolor": "#E5ECF6",
           "caxis": {
            "gridcolor": "white",
            "linecolor": "white",
            "ticks": ""
           }
          },
          "title": {
           "x": 0.05
          },
          "xaxis": {
           "automargin": true,
           "gridcolor": "white",
           "linecolor": "white",
           "ticks": "",
           "title": {
            "standoff": 15
           },
           "zerolinecolor": "white",
           "zerolinewidth": 2
          },
          "yaxis": {
           "automargin": true,
           "gridcolor": "white",
           "linecolor": "white",
           "ticks": "",
           "title": {
            "standoff": 15
           },
           "zerolinecolor": "white",
           "zerolinewidth": 2
          }
         }
        },
        "xaxis": {
         "anchor": "y",
         "domain": [
          0,
          1
         ],
         "title": {
          "text": "yr"
         }
        },
        "yaxis": {
         "anchor": "x",
         "domain": [
          0,
          1
         ],
         "title": {
          "text": "woba"
         }
        }
       }
      }
     },
     "metadata": {},
     "output_type": "display_data"
    },
    {
     "data": {
      "text/html": [
       "<div>\n",
       "<style scoped>\n",
       "    .dataframe tbody tr th:only-of-type {\n",
       "        vertical-align: middle;\n",
       "    }\n",
       "\n",
       "    .dataframe tbody tr th {\n",
       "        vertical-align: top;\n",
       "    }\n",
       "\n",
       "    .dataframe thead th {\n",
       "        text-align: right;\n",
       "    }\n",
       "</style>\n",
       "<table border=\"1\" class=\"dataframe\">\n",
       "  <thead>\n",
       "    <tr style=\"text-align: right;\">\n",
       "      <th>fld_lg_id</th>\n",
       "      <th>AL</th>\n",
       "      <th>NL</th>\n",
       "    </tr>\n",
       "    <tr>\n",
       "      <th>yr</th>\n",
       "      <th></th>\n",
       "      <th></th>\n",
       "    </tr>\n",
       "  </thead>\n",
       "  <tbody>\n",
       "    <tr>\n",
       "      <th>1997</th>\n",
       "      <td>0.319909</td>\n",
       "      <td>0.322970</td>\n",
       "    </tr>\n",
       "    <tr>\n",
       "      <th>1998</th>\n",
       "      <td>0.319015</td>\n",
       "      <td>0.322138</td>\n",
       "    </tr>\n",
       "    <tr>\n",
       "      <th>1999</th>\n",
       "      <td>0.318328</td>\n",
       "      <td>0.321597</td>\n",
       "    </tr>\n",
       "    <tr>\n",
       "      <th>2000</th>\n",
       "      <td>0.315595</td>\n",
       "      <td>0.319481</td>\n",
       "    </tr>\n",
       "    <tr>\n",
       "      <th>2001</th>\n",
       "      <td>0.312926</td>\n",
       "      <td>0.318310</td>\n",
       "    </tr>\n",
       "    <tr>\n",
       "      <th>2002</th>\n",
       "      <td>0.313391</td>\n",
       "      <td>0.321513</td>\n",
       "    </tr>\n",
       "    <tr>\n",
       "      <th>2003</th>\n",
       "      <td>0.312846</td>\n",
       "      <td>0.323768</td>\n",
       "    </tr>\n",
       "    <tr>\n",
       "      <th>2004</th>\n",
       "      <td>0.311629</td>\n",
       "      <td>0.323648</td>\n",
       "    </tr>\n",
       "    <tr>\n",
       "      <th>2005</th>\n",
       "      <td>0.310870</td>\n",
       "      <td>0.322083</td>\n",
       "    </tr>\n",
       "    <tr>\n",
       "      <th>2006</th>\n",
       "      <td>0.310471</td>\n",
       "      <td>0.319189</td>\n",
       "    </tr>\n",
       "    <tr>\n",
       "      <th>2007</th>\n",
       "      <td>0.307153</td>\n",
       "      <td>0.313243</td>\n",
       "    </tr>\n",
       "    <tr>\n",
       "      <th>2008</th>\n",
       "      <td>0.304609</td>\n",
       "      <td>0.311380</td>\n",
       "    </tr>\n",
       "    <tr>\n",
       "      <th>2009</th>\n",
       "      <td>0.302334</td>\n",
       "      <td>0.308766</td>\n",
       "    </tr>\n",
       "    <tr>\n",
       "      <th>2010</th>\n",
       "      <td>0.299221</td>\n",
       "      <td>0.305981</td>\n",
       "    </tr>\n",
       "    <tr>\n",
       "      <th>2011</th>\n",
       "      <td>0.298429</td>\n",
       "      <td>0.306518</td>\n",
       "    </tr>\n",
       "    <tr>\n",
       "      <th>2012</th>\n",
       "      <td>0.300626</td>\n",
       "      <td>0.307818</td>\n",
       "    </tr>\n",
       "    <tr>\n",
       "      <th>2013</th>\n",
       "      <td>0.302866</td>\n",
       "      <td>0.310439</td>\n",
       "    </tr>\n",
       "    <tr>\n",
       "      <th>2014</th>\n",
       "      <td>0.305160</td>\n",
       "      <td>0.311917</td>\n",
       "    </tr>\n",
       "    <tr>\n",
       "      <th>2015</th>\n",
       "      <td>0.310244</td>\n",
       "      <td>0.314143</td>\n",
       "    </tr>\n",
       "  </tbody>\n",
       "</table>\n",
       "</div>"
      ],
      "text/plain": [
       "fld_lg_id        AL        NL\n",
       "yr                           \n",
       "1997       0.319909  0.322970\n",
       "1998       0.319015  0.322138\n",
       "1999       0.318328  0.321597\n",
       "2000       0.315595  0.319481\n",
       "2001       0.312926  0.318310\n",
       "2002       0.313391  0.321513\n",
       "2003       0.312846  0.323768\n",
       "2004       0.311629  0.323648\n",
       "2005       0.310870  0.322083\n",
       "2006       0.310471  0.319189\n",
       "2007       0.307153  0.313243\n",
       "2008       0.304609  0.311380\n",
       "2009       0.302334  0.308766\n",
       "2010       0.299221  0.305981\n",
       "2011       0.298429  0.306518\n",
       "2012       0.300626  0.307818\n",
       "2013       0.302866  0.310439\n",
       "2014       0.305160  0.311917\n",
       "2015       0.310244  0.314143"
      ]
     },
     "execution_count": 15,
     "metadata": {},
     "output_type": "execute_result"
    }
   ],
   "source": [
    "\n",
    "# First look at a pool of batters, comparing the pitching/fielding of each league\n",
    "\n",
    "result = compute_splits_windows(pa, split = ['bat_id', 'fld_lg_id'], window_size = 5)\n",
    "fig = px.line(result.reset_index(), x='yr', y='woba', color='fld_lg_id')\n",
    "fig.update_layout(hovermode=\"x\")\n",
    "fig.show()\n",
    "result.unstack()\n",
    "\n",
    "    "
   ]
  },
  {
   "cell_type": "code",
   "execution_count": 16,
   "metadata": {},
   "outputs": [
    {
     "data": {
      "text/plain": [
       "<AxesSubplot:xlabel='yr'>"
      ]
     },
     "execution_count": 16,
     "metadata": {},
     "output_type": "execute_result"
    },
    {
     "data": {
      "image/png": "[encoded data removed]",
      "text/plain": [
       "<Figure size 432x288 with 1 Axes>"
      ]
     },
     "metadata": {
      "needs_background": "light"
     },
     "output_type": "display_data"
    }
   ],
   "source": [
    "# The AL's pitchers have been consistently better\n",
    "(result.unstack()['AL']-result.unstack()['NL']).plot.bar()"
   ]
  },
  {
   "cell_type": "code",
   "execution_count": 17,
   "metadata": {},
   "outputs": [
    {
     "data": {
      "application/vnd.plotly.v1+json": {
       "config": {
        "plotlyServerURL": "https://plot.ly"
       },
       "data": [
        {
         "hovertemplate": "bat_lg_id=AL<br>yr=%{x}<br>woba=%{y}<extra></extra>",
         "legendgroup": "AL",
         "line": {
          "color": "#636efa",
          "dash": "solid"
         },
         "mode": "lines",
         "name": "AL",
         "orientation": "v",
         "showlegend": true,
         "type": "scatter",
         "x": [
          1997,
          1998,
          1999,
          2000,
          2001,
          2002,
          2003,
          2004,
          2005,
          2006,
          2007,
          2008,
          2009,
          2010,
          2011,
          2012,
          2013,
          2014,
          2015
         ],
         "xaxis": "x",
         "y": [
          0.3294353794262522,
          0.3285635956787948,
          0.3286580041820922,
          0.32625221526424086,
          0.32217428390174063,
          0.32241966406749456,
          0.32436820200492333,
          0.3253457823583936,
          0.3246500365426392,
          0.32298673504667913,
          0.31786718061919156,
          0.315363922875791,
          0.313942779578724,
          0.3090851472862837,
          0.3086894225514537,
          0.3092985866868559,
          0.3103110385567998,
          0.31136023756949277,
          0.3147773094407189
         ],
         "yaxis": "y"
        },
        {
         "hovertemplate": "bat_lg_id=NL<br>yr=%{x}<br>woba=%{y}<extra></extra>",
         "legendgroup": "NL",
         "line": {
          "color": "#EF553B",
          "dash": "solid"
         },
         "mode": "lines",
         "name": "NL",
         "orientation": "v",
         "showlegend": true,
         "type": "scatter",
         "x": [
          1997,
          1998,
          1999,
          2000,
          2001,
          2002,
          2003,
          2004,
          2005,
          2006,
          2007,
          2008,
          2009,
          2010,
          2011,
          2012,
          2013,
          2014,
          2015
         ],
         "xaxis": "x",
         "y": [
          0.32585459583964343,
          0.3236255896254994,
          0.3237187079822444,
          0.32097119052696754,
          0.31625853227701367,
          0.315818015929409,
          0.317683660370831,
          0.31838128312189506,
          0.3170970198926721,
          0.31599710537508097,
          0.3103402616646109,
          0.3071736404632958,
          0.30690155084708404,
          0.3049179404508729,
          0.3043659412929401,
          0.30505078675984687,
          0.30692142176403736,
          0.3090846770694388,
          0.31558171863198015
         ],
         "yaxis": "y"
        }
       ],
       "layout": {
        "hovermode": "x",
        "legend": {
         "title": {
          "text": "bat_lg_id"
         },
         "tracegroupgap": 0
        },
        "margin": {
         "t": 60
        },
        "template": {
         "data": {
          "bar": [
           {
            "error_x": {
             "color": "#2a3f5f"
            },
            "error_y": {
             "color": "#2a3f5f"
            },
            "marker": {
             "line": {
              "color": "#E5ECF6",
              "width": 0.5
             }
            },
            "type": "bar"
           }
          ],
          "barpolar": [
           {
            "marker": {
             "line": {
              "color": "#E5ECF6",
              "width": 0.5
             }
            },
            "type": "barpolar"
           }
          ],
          "carpet": [
           {
            "aaxis": {
             "endlinecolor": "#2a3f5f",
             "gridcolor": "white",
             "linecolor": "white",
             "minorgridcolor": "white",
             "startlinecolor": "#2a3f5f"
            },
            "baxis": {
             "endlinecolor": "#2a3f5f",
             "gridcolor": "white",
             "linecolor": "white",
             "minorgridcolor": "white",
             "startlinecolor": "#2a3f5f"
            },
            "type": "carpet"
           }
          ],
          "choropleth": [
           {
            "colorbar": {
             "outlinewidth": 0,
             "ticks": ""
            },
            "type": "choropleth"
           }
          ],
          "contour": [
           {
            "colorbar": {
             "outlinewidth": 0,
             "ticks": ""
            },
            "colorscale": [
             [
              0,
              "#0d0887"
             ],
             [
              0.1111111111111111,
              "#46039f"
             ],
             [
              0.2222222222222222,
              "#7201a8"
             ],
             [
              0.3333333333333333,
              "#9c179e"
             ],
             [
              0.4444444444444444,
              "#bd3786"
             ],
             [
              0.5555555555555556,
              "#d8576b"
             ],
             [
              0.6666666666666666,
              "#ed7953"
             ],
             [
              0.7777777777777778,
              "#fb9f3a"
             ],
             [
              0.8888888888888888,
              "#fdca26"
             ],
             [
              1,
              "#f0f921"
             ]
            ],
            "type": "contour"
           }
          ],
          "contourcarpet": [
           {
            "colorbar": {
             "outlinewidth": 0,
             "ticks": ""
            },
            "type": "contourcarpet"
           }
          ],
          "heatmap": [
           {
            "colorbar": {
             "outlinewidth": 0,
             "ticks": ""
            },
            "colorscale": [
             [
              0,
              "#0d0887"
             ],
             [
              0.1111111111111111,
              "#46039f"
             ],
             [
              0.2222222222222222,
              "#7201a8"
             ],
             [
              0.3333333333333333,
              "#9c179e"
             ],
             [
              0.4444444444444444,
              "#bd3786"
             ],
             [
              0.5555555555555556,
              "#d8576b"
             ],
             [
              0.6666666666666666,
              "#ed7953"
             ],
             [
              0.7777777777777778,
              "#fb9f3a"
             ],
             [
              0.8888888888888888,
              "#fdca26"
             ],
             [
              1,
              "#f0f921"
             ]
            ],
            "type": "heatmap"
           }
          ],
          "heatmapgl": [
           {
            "colorbar": {
             "outlinewidth": 0,
             "ticks": ""
            },
            "colorscale": [
             [
              0,
              "#0d0887"
             ],
             [
              0.1111111111111111,
              "#46039f"
             ],
             [
              0.2222222222222222,
              "#7201a8"
             ],
             [
              0.3333333333333333,
              "#9c179e"
             ],
             [
              0.4444444444444444,
              "#bd3786"
             ],
             [
              0.5555555555555556,
              "#d8576b"
             ],
             [
              0.6666666666666666,
              "#ed7953"
             ],
             [
              0.7777777777777778,
              "#fb9f3a"
             ],
             [
              0.8888888888888888,
              "#fdca26"
             ],
             [
              1,
              "#f0f921"
             ]
            ],
            "type": "heatmapgl"
           }
          ],
          "histogram": [
           {
            "marker": {
             "colorbar": {
              "outlinewidth": 0,
              "ticks": ""
             }
            },
            "type": "histogram"
           }
          ],
          "histogram2d": [
           {
            "colorbar": {
             "outlinewidth": 0,
             "ticks": ""
            },
            "colorscale": [
             [
              0,
              "#0d0887"
             ],
             [
              0.1111111111111111,
              "#46039f"
             ],
             [
              0.2222222222222222,
              "#7201a8"
             ],
             [
              0.3333333333333333,
              "#9c179e"
             ],
             [
              0.4444444444444444,
              "#bd3786"
             ],
             [
              0.5555555555555556,
              "#d8576b"
             ],
             [
              0.6666666666666666,
              "#ed7953"
             ],
             [
              0.7777777777777778,
              "#fb9f3a"
             ],
             [
              0.8888888888888888,
              "#fdca26"
             ],
             [
              1,
              "#f0f921"
             ]
            ],
            "type": "histogram2d"
           }
          ],
          "histogram2dcontour": [
           {
            "colorbar": {
             "outlinewidth": 0,
             "ticks": ""
            },
            "colorscale": [
             [
              0,
              "#0d0887"
             ],
             [
              0.1111111111111111,
              "#46039f"
             ],
             [
              0.2222222222222222,
              "#7201a8"
             ],
             [
              0.3333333333333333,
              "#9c179e"
             ],
             [
              0.4444444444444444,
              "#bd3786"
             ],
             [
              0.5555555555555556,
              "#d8576b"
             ],
             [
              0.6666666666666666,
              "#ed7953"
             ],
             [
              0.7777777777777778,
              "#fb9f3a"
             ],
             [
              0.8888888888888888,
              "#fdca26"
             ],
             [
              1,
              "#f0f921"
             ]
            ],
            "type": "histogram2dcontour"
           }
          ],
          "mesh3d": [
           {
            "colorbar": {
             "outlinewidth": 0,
             "ticks": ""
            },
            "type": "mesh3d"
           }
          ],
          "parcoords": [
           {
            "line": {
             "colorbar": {
              "outlinewidth": 0,
              "ticks": ""
             }
            },
            "type": "parcoords"
           }
          ],
          "pie": [
           {
            "automargin": true,
            "type": "pie"
           }
          ],
          "scatter": [
           {
            "marker": {
             "colorbar": {
              "outlinewidth": 0,
              "ticks": ""
             }
            },
            "type": "scatter"
           }
          ],
          "scatter3d": [
           {
            "line": {
             "colorbar": {
              "outlinewidth": 0,
              "ticks": ""
             }
            },
            "marker": {
             "colorbar": {
              "outlinewidth": 0,
              "ticks": ""
             }
            },
            "type": "scatter3d"
           }
          ],
          "scattercarpet": [
           {
            "marker": {
             "colorbar": {
              "outlinewidth": 0,
              "ticks": ""
             }
            },
            "type": "scattercarpet"
           }
          ],
          "scattergeo": [
           {
            "marker": {
             "colorbar": {
              "outlinewidth": 0,
              "ticks": ""
             }
            },
            "type": "scattergeo"
           }
          ],
          "scattergl": [
           {
            "marker": {
             "colorbar": {
              "outlinewidth": 0,
              "ticks": ""
             }
            },
            "type": "scattergl"
           }
          ],
          "scattermapbox": [
           {
            "marker": {
             "colorbar": {
              "outlinewidth": 0,
              "ticks": ""
             }
            },
            "type": "scattermapbox"
           }
          ],
          "scatterpolar": [
           {
            "marker": {
             "colorbar": {
              "outlinewidth": 0,
              "ticks": ""
             }
            },
            "type": "scatterpolar"
           }
          ],
          "scatterpolargl": [
           {
            "marker": {
             "colorbar": {
              "outlinewidth": 0,
              "ticks": ""
             }
            },
            "type": "scatterpolargl"
           }
          ],
          "scatterternary": [
           {
            "marker": {
             "colorbar": {
              "outlinewidth": 0,
              "ticks": ""
             }
            },
            "type": "scatterternary"
           }
          ],
          "surface": [
           {
            "colorbar": {
             "outlinewidth": 0,
             "ticks": ""
            },
            "colorscale": [
             [
              0,
              "#0d0887"
             ],
             [
              0.1111111111111111,
              "#46039f"
             ],
             [
              0.2222222222222222,
              "#7201a8"
             ],
             [
              0.3333333333333333,
              "#9c179e"
             ],
             [
              0.4444444444444444,
              "#bd3786"
             ],
             [
              0.5555555555555556,
              "#d8576b"
             ],
             [
              0.6666666666666666,
              "#ed7953"
             ],
             [
              0.7777777777777778,
              "#fb9f3a"
             ],
             [
              0.8888888888888888,
              "#fdca26"
             ],
             [
              1,
              "#f0f921"
             ]
            ],
            "type": "surface"
           }
          ],
          "table": [
           {
            "cells": {
             "fill": {
              "color": "#EBF0F8"
             },
             "line": {
              "color": "white"
             }
            },
            "header": {
             "fill": {
              "color": "#C8D4E3"
             },
             "line": {
              "color": "white"
             }
            },
            "type": "table"
           }
          ]
         },
         "layout": {
          "annotationdefaults": {
           "arrowcolor": "#2a3f5f",
           "arrowhead": 0,
           "arrowwidth": 1
          },
          "autotypenumbers": "strict",
          "coloraxis": {
           "colorbar": {
            "outlinewidth": 0,
            "ticks": ""
           }
          },
          "colorscale": {
           "diverging": [
            [
             0,
             "#8e0152"
            ],
            [
             0.1,
             "#c51b7d"
            ],
            [
             0.2,
             "#de77ae"
            ],
            [
             0.3,
             "#f1b6da"
            ],
            [
             0.4,
             "#fde0ef"
            ],
            [
             0.5,
             "#f7f7f7"
            ],
            [
             0.6,
             "#e6f5d0"
            ],
            [
             0.7,
             "#b8e186"
            ],
            [
             0.8,
             "#7fbc41"
            ],
            [
             0.9,
             "#4d9221"
            ],
            [
             1,
             "#276419"
            ]
           ],
           "sequential": [
            [
             0,
             "#0d0887"
            ],
            [
             0.1111111111111111,
             "#46039f"
            ],
            [
             0.2222222222222222,
             "#7201a8"
            ],
            [
             0.3333333333333333,
             "#9c179e"
            ],
            [
             0.4444444444444444,
             "#bd3786"
            ],
            [
             0.5555555555555556,
             "#d8576b"
            ],
            [
             0.6666666666666666,
             "#ed7953"
            ],
            [
             0.7777777777777778,
             "#fb9f3a"
            ],
            [
             0.8888888888888888,
             "#fdca26"
            ],
            [
             1,
             "#f0f921"
            ]
           ],
           "sequentialminus": [
            [
             0,
             "#0d0887"
            ],
            [
             0.1111111111111111,
             "#46039f"
            ],
            [
             0.2222222222222222,
             "#7201a8"
            ],
            [
             0.3333333333333333,
             "#9c179e"
            ],
            [
             0.4444444444444444,
             "#bd3786"
            ],
            [
             0.5555555555555556,
             "#d8576b"
            ],
            [
             0.6666666666666666,
             "#ed7953"
            ],
            [
             0.7777777777777778,
             "#fb9f3a"
            ],
            [
             0.8888888888888888,
             "#fdca26"
            ],
            [
             1,
             "#f0f921"
            ]
           ]
          },
          "colorway": [
           "#636efa",
           "#EF553B",
           "#00cc96",
           "#ab63fa",
           "#FFA15A",
           "#19d3f3",
           "#FF6692",
           "#B6E880",
           "#FF97FF",
           "#FECB52"
          ],
          "font": {
           "color": "#2a3f5f"
          },
          "geo": {
           "bgcolor": "white",
           "lakecolor": "white",
           "landcolor": "#E5ECF6",
           "showlakes": true,
           "showland": true,
           "subunitcolor": "white"
          },
          "hoverlabel": {
           "align": "left"
          },
          "hovermode": "closest",
          "mapbox": {
           "style": "light"
          },
          "paper_bgcolor": "white",
          "plot_bgcolor": "#E5ECF6",
          "polar": {
           "angularaxis": {
            "gridcolor": "white",
            "linecolor": "white",
            "ticks": ""
           },
           "bgcolor": "#E5ECF6",
           "radialaxis": {
            "gridcolor": "white",
            "linecolor": "white",
            "ticks": ""
           }
          },
          "scene": {
           "xaxis": {
            "backgroundcolor": "#E5ECF6",
            "gridcolor": "white",
            "gridwidth": 2,
            "linecolor": "white",
            "showbackground": true,
            "ticks": "",
            "zerolinecolor": "white"
           },
           "yaxis": {
            "backgroundcolor": "#E5ECF6",
            "gridcolor": "white",
            "gridwidth": 2,
            "linecolor": "white",
            "showbackground": true,
            "ticks": "",
            "zerolinecolor": "white"
           },
           "zaxis": {
            "backgroundcolor": "#E5ECF6",
            "gridcolor": "white",
            "gridwidth": 2,
            "linecolor": "white",
            "showbackground": true,
            "ticks": "",
            "zerolinecolor": "white"
           }
          },
          "shapedefaults": {
           "line": {
            "color": "#2a3f5f"
           }
          },
          "ternary": {
           "aaxis": {
            "gridcolor": "white",
            "linecolor": "white",
            "ticks": ""
           },
           "baxis": {
            "gridcolor": "white",
            "linecolor": "white",
            "ticks": ""
           },
           "bgcolor": "#E5ECF6",
           "caxis": {
            "gridcolor": "white",
            "linecolor": "white",
            "ticks": ""
           }
          },
          "title": {
           "x": 0.05
          },
          "xaxis": {
           "automargin": true,
           "gridcolor": "white",
           "linecolor": "white",
           "ticks": "",
           "title": {
            "standoff": 15
           },
           "zerolinecolor": "white",
           "zerolinewidth": 2
          },
          "yaxis": {
           "automargin": true,
           "gridcolor": "white",
           "linecolor": "white",
           "ticks": "",
           "title": {
            "standoff": 15
           },
           "zerolinecolor": "white",
           "zerolinewidth": 2
          }
         }
        },
        "xaxis": {
         "anchor": "y",
         "domain": [
          0,
          1
         ],
         "title": {
          "text": "yr"
         }
        },
        "yaxis": {
         "anchor": "x",
         "domain": [
          0,
          1
         ],
         "title": {
          "text": "woba"
         }
        }
       }
      }
     },
     "metadata": {},
     "output_type": "display_data"
    },
    {
     "data": {
      "text/html": [
       "<div>\n",
       "<style scoped>\n",
       "    .dataframe tbody tr th:only-of-type {\n",
       "        vertical-align: middle;\n",
       "    }\n",
       "\n",
       "    .dataframe tbody tr th {\n",
       "        vertical-align: top;\n",
       "    }\n",
       "\n",
       "    .dataframe thead th {\n",
       "        text-align: right;\n",
       "    }\n",
       "</style>\n",
       "<table border=\"1\" class=\"dataframe\">\n",
       "  <thead>\n",
       "    <tr style=\"text-align: right;\">\n",
       "      <th>bat_lg_id</th>\n",
       "      <th>AL</th>\n",
       "      <th>NL</th>\n",
       "    </tr>\n",
       "    <tr>\n",
       "      <th>yr</th>\n",
       "      <th></th>\n",
       "      <th></th>\n",
       "    </tr>\n",
       "  </thead>\n",
       "  <tbody>\n",
       "    <tr>\n",
       "      <th>1997</th>\n",
       "      <td>0.329435</td>\n",
       "      <td>0.325855</td>\n",
       "    </tr>\n",
       "    <tr>\n",
       "      <th>1998</th>\n",
       "      <td>0.328564</td>\n",
       "      <td>0.323626</td>\n",
       "    </tr>\n",
       "    <tr>\n",
       "      <th>1999</th>\n",
       "      <td>0.328658</td>\n",
       "      <td>0.323719</td>\n",
       "    </tr>\n",
       "    <tr>\n",
       "      <th>2000</th>\n",
       "      <td>0.326252</td>\n",
       "      <td>0.320971</td>\n",
       "    </tr>\n",
       "    <tr>\n",
       "      <th>2001</th>\n",
       "      <td>0.322174</td>\n",
       "      <td>0.316259</td>\n",
       "    </tr>\n",
       "    <tr>\n",
       "      <th>2002</th>\n",
       "      <td>0.322420</td>\n",
       "      <td>0.315818</td>\n",
       "    </tr>\n",
       "    <tr>\n",
       "      <th>2003</th>\n",
       "      <td>0.324368</td>\n",
       "      <td>0.317684</td>\n",
       "    </tr>\n",
       "    <tr>\n",
       "      <th>2004</th>\n",
       "      <td>0.325346</td>\n",
       "      <td>0.318381</td>\n",
       "    </tr>\n",
       "    <tr>\n",
       "      <th>2005</th>\n",
       "      <td>0.324650</td>\n",
       "      <td>0.317097</td>\n",
       "    </tr>\n",
       "    <tr>\n",
       "      <th>2006</th>\n",
       "      <td>0.322987</td>\n",
       "      <td>0.315997</td>\n",
       "    </tr>\n",
       "    <tr>\n",
       "      <th>2007</th>\n",
       "      <td>0.317867</td>\n",
       "      <td>0.310340</td>\n",
       "    </tr>\n",
       "    <tr>\n",
       "      <th>2008</th>\n",
       "      <td>0.315364</td>\n",
       "      <td>0.307174</td>\n",
       "    </tr>\n",
       "    <tr>\n",
       "      <th>2009</th>\n",
       "      <td>0.313943</td>\n",
       "      <td>0.306902</td>\n",
       "    </tr>\n",
       "    <tr>\n",
       "      <th>2010</th>\n",
       "      <td>0.309085</td>\n",
       "      <td>0.304918</td>\n",
       "    </tr>\n",
       "    <tr>\n",
       "      <th>2011</th>\n",
       "      <td>0.308689</td>\n",
       "      <td>0.304366</td>\n",
       "    </tr>\n",
       "    <tr>\n",
       "      <th>2012</th>\n",
       "      <td>0.309299</td>\n",
       "      <td>0.305051</td>\n",
       "    </tr>\n",
       "    <tr>\n",
       "      <th>2013</th>\n",
       "      <td>0.310311</td>\n",
       "      <td>0.306921</td>\n",
       "    </tr>\n",
       "    <tr>\n",
       "      <th>2014</th>\n",
       "      <td>0.311360</td>\n",
       "      <td>0.309085</td>\n",
       "    </tr>\n",
       "    <tr>\n",
       "      <th>2015</th>\n",
       "      <td>0.314777</td>\n",
       "      <td>0.315582</td>\n",
       "    </tr>\n",
       "  </tbody>\n",
       "</table>\n",
       "</div>"
      ],
      "text/plain": [
       "bat_lg_id        AL        NL\n",
       "yr                           \n",
       "1997       0.329435  0.325855\n",
       "1998       0.328564  0.323626\n",
       "1999       0.328658  0.323719\n",
       "2000       0.326252  0.320971\n",
       "2001       0.322174  0.316259\n",
       "2002       0.322420  0.315818\n",
       "2003       0.324368  0.317684\n",
       "2004       0.325346  0.318381\n",
       "2005       0.324650  0.317097\n",
       "2006       0.322987  0.315997\n",
       "2007       0.317867  0.310340\n",
       "2008       0.315364  0.307174\n",
       "2009       0.313943  0.306902\n",
       "2010       0.309085  0.304918\n",
       "2011       0.308689  0.304366\n",
       "2012       0.309299  0.305051\n",
       "2013       0.310311  0.306921\n",
       "2014       0.311360  0.309085\n",
       "2015       0.314777  0.315582"
      ]
     },
     "execution_count": 17,
     "metadata": {},
     "output_type": "execute_result"
    }
   ],
   "source": [
    "# Now look at a pool of pitchers, comparing the offenses of each league\n",
    "\n",
    "result = compute_splits_windows(pa, split = ['pit_id', 'bat_lg_id'], window_size = 5)\n",
    "fig = px.line(result.reset_index(), x='yr', y='woba', color='bat_lg_id')\n",
    "fig.update_layout(hovermode=\"x\")\n",
    "fig.show()\n",
    "result.unstack()"
   ]
  },
  {
   "cell_type": "code",
   "execution_count": 18,
   "metadata": {},
   "outputs": [
    {
     "data": {
      "application/vnd.plotly.v1+json": {
       "config": {
        "plotlyServerURL": "https://plot.ly"
       },
       "data": [
        {
         "hovertemplate": "bat_lg_id=AL<br>yr=%{x}<br>woba=%{y}<extra></extra>",
         "legendgroup": "AL",
         "line": {
          "color": "#636efa",
          "dash": "solid"
         },
         "mode": "lines",
         "name": "AL",
         "orientation": "v",
         "showlegend": true,
         "type": "scatter",
         "x": [
          1997,
          1998,
          1999,
          2000,
          2001,
          2002,
          2003,
          2004,
          2005,
          2006,
          2007,
          2008,
          2009,
          2010,
          2011,
          2012,
          2013,
          2014,
          2015
         ],
         "xaxis": "x",
         "y": [
          0.3254115294900806,
          0.32537796057329604,
          0.3262733660873246,
          0.3249873547642843,
          0.3210179738873258,
          0.32058411002705545,
          0.32244641537638874,
          0.3233013820772773,
          0.3222445406574825,
          0.3199769924180325,
          0.3142548400041935,
          0.31257510213068185,
          0.3119849049062745,
          0.3072466162508034,
          0.30690993130071936,
          0.3076215681622317,
          0.3087553963612052,
          0.30922010206582895,
          0.3129297668985675
         ],
         "yaxis": "y"
        },
        {
         "hovertemplate": "bat_lg_id=NL<br>yr=%{x}<br>woba=%{y}<extra></extra>",
         "legendgroup": "NL",
         "line": {
          "color": "#EF553B",
          "dash": "solid"
         },
         "mode": "lines",
         "name": "NL",
         "orientation": "v",
         "showlegend": true,
         "type": "scatter",
         "x": [
          1997,
          1998,
          1999,
          2000,
          2001,
          2002,
          2003,
          2004,
          2005,
          2006,
          2007,
          2008,
          2009,
          2010,
          2011,
          2012,
          2013,
          2014,
          2015
         ],
         "xaxis": "x",
         "y": [
          0.3253811565286085,
          0.3222383137003094,
          0.3221377886020789,
          0.3194126488959534,
          0.3149655346578199,
          0.31509415770769805,
          0.31808084422027977,
          0.3193917678301804,
          0.31812499276235107,
          0.31690347775890637,
          0.31070130807430946,
          0.30717584202978154,
          0.30635757041594325,
          0.30489842669165873,
          0.30416828235294674,
          0.30526317328431224,
          0.307473240283283,
          0.310127842291211,
          0.3164564300772492
         ],
         "yaxis": "y"
        }
       ],
       "layout": {
        "hovermode": "x",
        "legend": {
         "title": {
          "text": "bat_lg_id"
         },
         "tracegroupgap": 0
        },
        "margin": {
         "t": 60
        },
        "template": {
         "data": {
          "bar": [
           {
            "error_x": {
             "color": "#2a3f5f"
            },
            "error_y": {
             "color": "#2a3f5f"
            },
            "marker": {
             "line": {
              "color": "#E5ECF6",
              "width": 0.5
             }
            },
            "type": "bar"
           }
          ],
          "barpolar": [
           {
            "marker": {
             "line": {
              "color": "#E5ECF6",
              "width": 0.5
             }
            },
            "type": "barpolar"
           }
          ],
          "carpet": [
           {
            "aaxis": {
             "endlinecolor": "#2a3f5f",
             "gridcolor": "white",
             "linecolor": "white",
             "minorgridcolor": "white",
             "startlinecolor": "#2a3f5f"
            },
            "baxis": {
             "endlinecolor": "#2a3f5f",
             "gridcolor": "white",
             "linecolor": "white",
             "minorgridcolor": "white",
             "startlinecolor": "#2a3f5f"
            },
            "type": "carpet"
           }
          ],
          "choropleth": [
           {
            "colorbar": {
             "outlinewidth": 0,
             "ticks": ""
            },
            "type": "choropleth"
           }
          ],
          "contour": [
           {
            "colorbar": {
             "outlinewidth": 0,
             "ticks": ""
            },
            "colorscale": [
             [
              0,
              "#0d0887"
             ],
             [
              0.1111111111111111,
              "#46039f"
             ],
             [
              0.2222222222222222,
              "#7201a8"
             ],
             [
              0.3333333333333333,
              "#9c179e"
             ],
             [
              0.4444444444444444,
              "#bd3786"
             ],
             [
              0.5555555555555556,
              "#d8576b"
             ],
             [
              0.6666666666666666,
              "#ed7953"
             ],
             [
              0.7777777777777778,
              "#fb9f3a"
             ],
             [
              0.8888888888888888,
              "#fdca26"
             ],
             [
              1,
              "#f0f921"
             ]
            ],
            "type": "contour"
           }
          ],
          "contourcarpet": [
           {
            "colorbar": {
             "outlinewidth": 0,
             "ticks": ""
            },
            "type": "contourcarpet"
           }
          ],
          "heatmap": [
           {
            "colorbar": {
             "outlinewidth": 0,
             "ticks": ""
            },
            "colorscale": [
             [
              0,
              "#0d0887"
             ],
             [
              0.1111111111111111,
              "#46039f"
             ],
             [
              0.2222222222222222,
              "#7201a8"
             ],
             [
              0.3333333333333333,
              "#9c179e"
             ],
             [
              0.4444444444444444,
              "#bd3786"
             ],
             [
              0.5555555555555556,
              "#d8576b"
             ],
             [
              0.6666666666666666,
              "#ed7953"
             ],
             [
              0.7777777777777778,
              "#fb9f3a"
             ],
             [
              0.8888888888888888,
              "#fdca26"
             ],
             [
              1,
              "#f0f921"
             ]
            ],
            "type": "heatmap"
           }
          ],
          "heatmapgl": [
           {
            "colorbar": {
             "outlinewidth": 0,
             "ticks": ""
            },
            "colorscale": [
             [
              0,
              "#0d0887"
             ],
             [
              0.1111111111111111,
              "#46039f"
             ],
             [
              0.2222222222222222,
              "#7201a8"
             ],
             [
              0.3333333333333333,
              "#9c179e"
             ],
             [
              0.4444444444444444,
              "#bd3786"
             ],
             [
              0.5555555555555556,
              "#d8576b"
             ],
             [
              0.6666666666666666,
              "#ed7953"
             ],
             [
              0.7777777777777778,
              "#fb9f3a"
             ],
             [
              0.8888888888888888,
              "#fdca26"
             ],
             [
              1,
              "#f0f921"
             ]
            ],
            "type": "heatmapgl"
           }
          ],
          "histogram": [
           {
            "marker": {
             "colorbar": {
              "outlinewidth": 0,
              "ticks": ""
             }
            },
            "type": "histogram"
           }
          ],
          "histogram2d": [
           {
            "colorbar": {
             "outlinewidth": 0,
             "ticks": ""
            },
            "colorscale": [
             [
              0,
              "#0d0887"
             ],
             [
              0.1111111111111111,
              "#46039f"
             ],
             [
              0.2222222222222222,
              "#7201a8"
             ],
             [
              0.3333333333333333,
              "#9c179e"
             ],
             [
              0.4444444444444444,
              "#bd3786"
             ],
             [
              0.5555555555555556,
              "#d8576b"
             ],
             [
              0.6666666666666666,
              "#ed7953"
             ],
             [
              0.7777777777777778,
              "#fb9f3a"
             ],
             [
              0.8888888888888888,
              "#fdca26"
             ],
             [
              1,
              "#f0f921"
             ]
            ],
            "type": "histogram2d"
           }
          ],
          "histogram2dcontour": [
           {
            "colorbar": {
             "outlinewidth": 0,
             "ticks": ""
            },
            "colorscale": [
             [
              0,
              "#0d0887"
             ],
             [
              0.1111111111111111,
              "#46039f"
             ],
             [
              0.2222222222222222,
              "#7201a8"
             ],
             [
              0.3333333333333333,
              "#9c179e"
             ],
             [
              0.4444444444444444,
              "#bd3786"
             ],
             [
              0.5555555555555556,
              "#d8576b"
             ],
             [
              0.6666666666666666,
              "#ed7953"
             ],
             [
              0.7777777777777778,
              "#fb9f3a"
             ],
             [
              0.8888888888888888,
              "#fdca26"
             ],
             [
              1,
              "#f0f921"
             ]
            ],
            "type": "histogram2dcontour"
           }
          ],
          "mesh3d": [
           {
            "colorbar": {
             "outlinewidth": 0,
             "ticks": ""
            },
            "type": "mesh3d"
           }
          ],
          "parcoords": [
           {
            "line": {
             "colorbar": {
              "outlinewidth": 0,
              "ticks": ""
             }
            },
            "type": "parcoords"
           }
          ],
          "pie": [
           {
            "automargin": true,
            "type": "pie"
           }
          ],
          "scatter": [
           {
            "marker": {
             "colorbar": {
              "outlinewidth": 0,
              "ticks": ""
             }
            },
            "type": "scatter"
           }
          ],
          "scatter3d": [
           {
            "line": {
             "colorbar": {
              "outlinewidth": 0,
              "ticks": ""
             }
            },
            "marker": {
             "colorbar": {
              "outlinewidth": 0,
              "ticks": ""
             }
            },
            "type": "scatter3d"
           }
          ],
          "scattercarpet": [
           {
            "marker": {
             "colorbar": {
              "outlinewidth": 0,
              "ticks": ""
             }
            },
            "type": "scattercarpet"
           }
          ],
          "scattergeo": [
           {
            "marker": {
             "colorbar": {
              "outlinewidth": 0,
              "ticks": ""
             }
            },
            "type": "scattergeo"
           }
          ],
          "scattergl": [
           {
            "marker": {
             "colorbar": {
              "outlinewidth": 0,
              "ticks": ""
             }
            },
            "type": "scattergl"
           }
          ],
          "scattermapbox": [
           {
            "marker": {
             "colorbar": {
              "outlinewidth": 0,
              "ticks": ""
             }
            },
            "type": "scattermapbox"
           }
          ],
          "scatterpolar": [
           {
            "marker": {
             "colorbar": {
              "outlinewidth": 0,
              "ticks": ""
             }
            },
            "type": "scatterpolar"
           }
          ],
          "scatterpolargl": [
           {
            "marker": {
             "colorbar": {
              "outlinewidth": 0,
              "ticks": ""
             }
            },
            "type": "scatterpolargl"
           }
          ],
          "scatterternary": [
           {
            "marker": {
             "colorbar": {
              "outlinewidth": 0,
              "ticks": ""
             }
            },
            "type": "scatterternary"
           }
          ],
          "surface": [
           {
            "colorbar": {
             "outlinewidth": 0,
             "ticks": ""
            },
            "colorscale": [
             [
              0,
              "#0d0887"
             ],
             [
              0.1111111111111111,
              "#46039f"
             ],
             [
              0.2222222222222222,
              "#7201a8"
             ],
             [
              0.3333333333333333,
              "#9c179e"
             ],
             [
              0.4444444444444444,
              "#bd3786"
             ],
             [
              0.5555555555555556,
              "#d8576b"
             ],
             [
              0.6666666666666666,
              "#ed7953"
             ],
             [
              0.7777777777777778,
              "#fb9f3a"
             ],
             [
              0.8888888888888888,
              "#fdca26"
             ],
             [
              1,
              "#f0f921"
             ]
            ],
            "type": "surface"
           }
          ],
          "table": [
           {
            "cells": {
             "fill": {
              "color": "#EBF0F8"
             },
             "line": {
              "color": "white"
             }
            },
            "header": {
             "fill": {
              "color": "#C8D4E3"
             },
             "line": {
              "color": "white"
             }
            },
            "type": "table"
           }
          ]
         },
         "layout": {
          "annotationdefaults": {
           "arrowcolor": "#2a3f5f",
           "arrowhead": 0,
           "arrowwidth": 1
          },
          "autotypenumbers": "strict",
          "coloraxis": {
           "colorbar": {
            "outlinewidth": 0,
            "ticks": ""
           }
          },
          "colorscale": {
           "diverging": [
            [
             0,
             "#8e0152"
            ],
            [
             0.1,
             "#c51b7d"
            ],
            [
             0.2,
             "#de77ae"
            ],
            [
             0.3,
             "#f1b6da"
            ],
            [
             0.4,
             "#fde0ef"
            ],
            [
             0.5,
             "#f7f7f7"
            ],
            [
             0.6,
             "#e6f5d0"
            ],
            [
             0.7,
             "#b8e186"
            ],
            [
             0.8,
             "#7fbc41"
            ],
            [
             0.9,
             "#4d9221"
            ],
            [
             1,
             "#276419"
            ]
           ],
           "sequential": [
            [
             0,
             "#0d0887"
            ],
            [
             0.1111111111111111,
             "#46039f"
            ],
            [
             0.2222222222222222,
             "#7201a8"
            ],
            [
             0.3333333333333333,
             "#9c179e"
            ],
            [
             0.4444444444444444,
             "#bd3786"
            ],
            [
             0.5555555555555556,
             "#d8576b"
            ],
            [
             0.6666666666666666,
             "#ed7953"
            ],
            [
             0.7777777777777778,
             "#fb9f3a"
            ],
            [
             0.8888888888888888,
             "#fdca26"
            ],
            [
             1,
             "#f0f921"
            ]
           ],
           "sequentialminus": [
            [
             0,
             "#0d0887"
            ],
            [
             0.1111111111111111,
             "#46039f"
            ],
            [
             0.2222222222222222,
             "#7201a8"
            ],
            [
             0.3333333333333333,
             "#9c179e"
            ],
            [
             0.4444444444444444,
             "#bd3786"
            ],
            [
             0.5555555555555556,
             "#d8576b"
            ],
            [
             0.6666666666666666,
             "#ed7953"
            ],
            [
             0.7777777777777778,
             "#fb9f3a"
            ],
            [
             0.8888888888888888,
             "#fdca26"
            ],
            [
             1,
             "#f0f921"
            ]
           ]
          },
          "colorway": [
           "#636efa",
           "#EF553B",
           "#00cc96",
           "#ab63fa",
           "#FFA15A",
           "#19d3f3",
           "#FF6692",
           "#B6E880",
           "#FF97FF",
           "#FECB52"
          ],
          "font": {
           "color": "#2a3f5f"
          },
          "geo": {
           "bgcolor": "white",
           "lakecolor": "white",
           "landcolor": "#E5ECF6",
           "showlakes": true,
           "showland": true,
           "subunitcolor": "white"
          },
          "hoverlabel": {
           "align": "left"
          },
          "hovermode": "closest",
          "mapbox": {
           "style": "light"
          },
          "paper_bgcolor": "white",
          "plot_bgcolor": "#E5ECF6",
          "polar": {
           "angularaxis": {
            "gridcolor": "white",
            "linecolor": "white",
            "ticks": ""
           },
           "bgcolor": "#E5ECF6",
           "radialaxis": {
            "gridcolor": "white",
            "linecolor": "white",
            "ticks": ""
           }
          },
          "scene": {
           "xaxis": {
            "backgroundcolor": "#E5ECF6",
            "gridcolor": "white",
            "gridwidth": 2,
            "linecolor": "white",
            "showbackground": true,
            "ticks": "",
            "zerolinecolor": "white"
           },
           "yaxis": {
            "backgroundcolor": "#E5ECF6",
            "gridcolor": "white",
            "gridwidth": 2,
            "linecolor": "white",
            "showbackground": true,
            "ticks": "",
            "zerolinecolor": "white"
           },
           "zaxis": {
            "backgroundcolor": "#E5ECF6",
            "gridcolor": "white",
            "gridwidth": 2,
            "linecolor": "white",
            "showbackground": true,
            "ticks": "",
            "zerolinecolor": "white"
           }
          },
          "shapedefaults": {
           "line": {
            "color": "#2a3f5f"
           }
          },
          "ternary": {
           "aaxis": {
            "gridcolor": "white",
            "linecolor": "white",
            "ticks": ""
           },
           "baxis": {
            "gridcolor": "white",
            "linecolor": "white",
            "ticks": ""
           },
           "bgcolor": "#E5ECF6",
           "caxis": {
            "gridcolor": "white",
            "linecolor": "white",
            "ticks": ""
           }
          },
          "title": {
           "x": 0.05
          },
          "xaxis": {
           "automargin": true,
           "gridcolor": "white",
           "linecolor": "white",
           "ticks": "",
           "title": {
            "standoff": 15
           },
           "zerolinecolor": "white",
           "zerolinewidth": 2
          },
          "yaxis": {
           "automargin": true,
           "gridcolor": "white",
           "linecolor": "white",
           "ticks": "",
           "title": {
            "standoff": 15
           },
           "zerolinecolor": "white",
           "zerolinewidth": 2
          }
         }
        },
        "xaxis": {
         "anchor": "y",
         "domain": [
          0,
          1
         ],
         "title": {
          "text": "yr"
         }
        },
        "yaxis": {
         "anchor": "x",
         "domain": [
          0,
          1
         ],
         "title": {
          "text": "woba"
         }
        }
       }
      }
     },
     "metadata": {},
     "output_type": "display_data"
    },
    {
     "data": {
      "text/html": [
       "<div>\n",
       "<style scoped>\n",
       "    .dataframe tbody tr th:only-of-type {\n",
       "        vertical-align: middle;\n",
       "    }\n",
       "\n",
       "    .dataframe tbody tr th {\n",
       "        vertical-align: top;\n",
       "    }\n",
       "\n",
       "    .dataframe thead th {\n",
       "        text-align: right;\n",
       "    }\n",
       "</style>\n",
       "<table border=\"1\" class=\"dataframe\">\n",
       "  <thead>\n",
       "    <tr style=\"text-align: right;\">\n",
       "      <th>bat_lg_id</th>\n",
       "      <th>AL</th>\n",
       "      <th>NL</th>\n",
       "    </tr>\n",
       "    <tr>\n",
       "      <th>yr</th>\n",
       "      <th></th>\n",
       "      <th></th>\n",
       "    </tr>\n",
       "  </thead>\n",
       "  <tbody>\n",
       "    <tr>\n",
       "      <th>1997</th>\n",
       "      <td>0.325412</td>\n",
       "      <td>0.325381</td>\n",
       "    </tr>\n",
       "    <tr>\n",
       "      <th>1998</th>\n",
       "      <td>0.325378</td>\n",
       "      <td>0.322238</td>\n",
       "    </tr>\n",
       "    <tr>\n",
       "      <th>1999</th>\n",
       "      <td>0.326273</td>\n",
       "      <td>0.322138</td>\n",
       "    </tr>\n",
       "    <tr>\n",
       "      <th>2000</th>\n",
       "      <td>0.324987</td>\n",
       "      <td>0.319413</td>\n",
       "    </tr>\n",
       "    <tr>\n",
       "      <th>2001</th>\n",
       "      <td>0.321018</td>\n",
       "      <td>0.314966</td>\n",
       "    </tr>\n",
       "    <tr>\n",
       "      <th>2002</th>\n",
       "      <td>0.320584</td>\n",
       "      <td>0.315094</td>\n",
       "    </tr>\n",
       "    <tr>\n",
       "      <th>2003</th>\n",
       "      <td>0.322446</td>\n",
       "      <td>0.318081</td>\n",
       "    </tr>\n",
       "    <tr>\n",
       "      <th>2004</th>\n",
       "      <td>0.323301</td>\n",
       "      <td>0.319392</td>\n",
       "    </tr>\n",
       "    <tr>\n",
       "      <th>2005</th>\n",
       "      <td>0.322245</td>\n",
       "      <td>0.318125</td>\n",
       "    </tr>\n",
       "    <tr>\n",
       "      <th>2006</th>\n",
       "      <td>0.319977</td>\n",
       "      <td>0.316903</td>\n",
       "    </tr>\n",
       "    <tr>\n",
       "      <th>2007</th>\n",
       "      <td>0.314255</td>\n",
       "      <td>0.310701</td>\n",
       "    </tr>\n",
       "    <tr>\n",
       "      <th>2008</th>\n",
       "      <td>0.312575</td>\n",
       "      <td>0.307176</td>\n",
       "    </tr>\n",
       "    <tr>\n",
       "      <th>2009</th>\n",
       "      <td>0.311985</td>\n",
       "      <td>0.306358</td>\n",
       "    </tr>\n",
       "    <tr>\n",
       "      <th>2010</th>\n",
       "      <td>0.307247</td>\n",
       "      <td>0.304898</td>\n",
       "    </tr>\n",
       "    <tr>\n",
       "      <th>2011</th>\n",
       "      <td>0.306910</td>\n",
       "      <td>0.304168</td>\n",
       "    </tr>\n",
       "    <tr>\n",
       "      <th>2012</th>\n",
       "      <td>0.307622</td>\n",
       "      <td>0.305263</td>\n",
       "    </tr>\n",
       "    <tr>\n",
       "      <th>2013</th>\n",
       "      <td>0.308755</td>\n",
       "      <td>0.307473</td>\n",
       "    </tr>\n",
       "    <tr>\n",
       "      <th>2014</th>\n",
       "      <td>0.309220</td>\n",
       "      <td>0.310128</td>\n",
       "    </tr>\n",
       "    <tr>\n",
       "      <th>2015</th>\n",
       "      <td>0.312930</td>\n",
       "      <td>0.316456</td>\n",
       "    </tr>\n",
       "  </tbody>\n",
       "</table>\n",
       "</div>"
      ],
      "text/plain": [
       "bat_lg_id        AL        NL\n",
       "yr                           \n",
       "1997       0.325412  0.325381\n",
       "1998       0.325378  0.322238\n",
       "1999       0.326273  0.322138\n",
       "2000       0.324987  0.319413\n",
       "2001       0.321018  0.314966\n",
       "2002       0.320584  0.315094\n",
       "2003       0.322446  0.318081\n",
       "2004       0.323301  0.319392\n",
       "2005       0.322245  0.318125\n",
       "2006       0.319977  0.316903\n",
       "2007       0.314255  0.310701\n",
       "2008       0.312575  0.307176\n",
       "2009       0.311985  0.306358\n",
       "2010       0.307247  0.304898\n",
       "2011       0.306910  0.304168\n",
       "2012       0.307622  0.305263\n",
       "2013       0.308755  0.307473\n",
       "2014       0.309220  0.310128\n",
       "2015       0.312930  0.316456"
      ]
     },
     "execution_count": 18,
     "metadata": {},
     "output_type": "execute_result"
    }
   ],
   "source": [
    "# Do the same thing, while ignoring DHs/PHs/etc\n",
    "pos_range = range(2, 9)\n",
    "\n",
    "result = compute_splits_windows(pa.query('bat_fld_cd in @pos_range'), split = ['pit_id', 'bat_lg_id'], window_size = 5)\n",
    "fig = px.line(result.reset_index(), x='yr', y='woba', color='bat_lg_id')\n",
    "fig.update_layout(hovermode=\"x\")\n",
    "fig.show()\n",
    "result.unstack()"
   ]
  },
  {
   "cell_type": "code",
   "execution_count": 20,
   "metadata": {},
   "outputs": [
    {
     "data": {
      "text/html": [
       "<div>\n",
       "<style scoped>\n",
       "    .dataframe tbody tr th:only-of-type {\n",
       "        vertical-align: middle;\n",
       "    }\n",
       "\n",
       "    .dataframe tbody tr th {\n",
       "        vertical-align: top;\n",
       "    }\n",
       "\n",
       "    .dataframe thead th {\n",
       "        text-align: right;\n",
       "    }\n",
       "</style>\n",
       "<table border=\"1\" class=\"dataframe\">\n",
       "  <thead>\n",
       "    <tr style=\"text-align: right;\">\n",
       "      <th></th>\n",
       "      <th>min_pa</th>\n",
       "      <th>AL</th>\n",
       "      <th>NL</th>\n",
       "    </tr>\n",
       "    <tr>\n",
       "      <th>bat_id</th>\n",
       "      <th></th>\n",
       "      <th></th>\n",
       "      <th></th>\n",
       "    </tr>\n",
       "  </thead>\n",
       "  <tbody>\n",
       "    <tr>\n",
       "      <th>abreb001</th>\n",
       "      <td>1707.0</td>\n",
       "      <td>0.366928</td>\n",
       "      <td>0.367497</td>\n",
       "    </tr>\n",
       "    <tr>\n",
       "      <th>kendj001</th>\n",
       "      <td>1511.0</td>\n",
       "      <td>0.294297</td>\n",
       "      <td>0.304091</td>\n",
       "    </tr>\n",
       "    <tr>\n",
       "      <th>overl001</th>\n",
       "      <td>1338.0</td>\n",
       "      <td>0.324431</td>\n",
       "      <td>0.354980</td>\n",
       "    </tr>\n",
       "    <tr>\n",
       "      <th>soria001</th>\n",
       "      <td>1331.0</td>\n",
       "      <td>0.328951</td>\n",
       "      <td>0.358925</td>\n",
       "    </tr>\n",
       "    <tr>\n",
       "      <th>lowem001</th>\n",
       "      <td>1292.0</td>\n",
       "      <td>0.334049</td>\n",
       "      <td>0.338253</td>\n",
       "    </tr>\n",
       "    <tr>\n",
       "      <th>glaut001</th>\n",
       "      <td>1278.0</td>\n",
       "      <td>0.354172</td>\n",
       "      <td>0.369155</td>\n",
       "    </tr>\n",
       "    <tr>\n",
       "      <th>rente001</th>\n",
       "      <td>1276.0</td>\n",
       "      <td>0.308743</td>\n",
       "      <td>0.331212</td>\n",
       "    </tr>\n",
       "    <tr>\n",
       "      <th>rowaa001</th>\n",
       "      <td>1246.0</td>\n",
       "      <td>0.327464</td>\n",
       "      <td>0.341981</td>\n",
       "    </tr>\n",
       "    <tr>\n",
       "      <th>bellr002</th>\n",
       "      <td>1242.0</td>\n",
       "      <td>0.316449</td>\n",
       "      <td>0.330739</td>\n",
       "    </tr>\n",
       "    <tr>\n",
       "      <th>winnr001</th>\n",
       "      <td>1195.0</td>\n",
       "      <td>0.317210</td>\n",
       "      <td>0.335402</td>\n",
       "    </tr>\n",
       "    <tr>\n",
       "      <th>jonej003</th>\n",
       "      <td>1192.0</td>\n",
       "      <td>0.302633</td>\n",
       "      <td>0.311088</td>\n",
       "    </tr>\n",
       "    <tr>\n",
       "      <th>hudso001</th>\n",
       "      <td>1132.0</td>\n",
       "      <td>0.324354</td>\n",
       "      <td>0.339495</td>\n",
       "    </tr>\n",
       "    <tr>\n",
       "      <th>lee-c001</th>\n",
       "      <td>1121.0</td>\n",
       "      <td>0.348917</td>\n",
       "      <td>0.360273</td>\n",
       "    </tr>\n",
       "    <tr>\n",
       "      <th>molib001</th>\n",
       "      <td>1101.0</td>\n",
       "      <td>0.315220</td>\n",
       "      <td>0.311473</td>\n",
       "    </tr>\n",
       "    <tr>\n",
       "      <th>wilkb002</th>\n",
       "      <td>1070.0</td>\n",
       "      <td>0.307881</td>\n",
       "      <td>0.332053</td>\n",
       "    </tr>\n",
       "    <tr>\n",
       "      <th>castl001</th>\n",
       "      <td>1067.0</td>\n",
       "      <td>0.330036</td>\n",
       "      <td>0.302122</td>\n",
       "    </tr>\n",
       "    <tr>\n",
       "      <th>byrne001</th>\n",
       "      <td>1063.0</td>\n",
       "      <td>0.322491</td>\n",
       "      <td>0.323969</td>\n",
       "    </tr>\n",
       "    <tr>\n",
       "      <th>drewj001</th>\n",
       "      <td>1058.0</td>\n",
       "      <td>0.341873</td>\n",
       "      <td>0.401071</td>\n",
       "    </tr>\n",
       "    <tr>\n",
       "      <th>ecksd001</th>\n",
       "      <td>1027.0</td>\n",
       "      <td>0.300515</td>\n",
       "      <td>0.311052</td>\n",
       "    </tr>\n",
       "    <tr>\n",
       "      <th>pattc001</th>\n",
       "      <td>1023.0</td>\n",
       "      <td>0.292383</td>\n",
       "      <td>0.276280</td>\n",
       "    </tr>\n",
       "  </tbody>\n",
       "</table>\n",
       "</div>"
      ],
      "text/plain": [
       "          min_pa        AL        NL\n",
       "bat_id                              \n",
       "abreb001  1707.0  0.366928  0.367497\n",
       "kendj001  1511.0  0.294297  0.304091\n",
       "overl001  1338.0  0.324431  0.354980\n",
       "soria001  1331.0  0.328951  0.358925\n",
       "lowem001  1292.0  0.334049  0.338253\n",
       "glaut001  1278.0  0.354172  0.369155\n",
       "rente001  1276.0  0.308743  0.331212\n",
       "rowaa001  1246.0  0.327464  0.341981\n",
       "bellr002  1242.0  0.316449  0.330739\n",
       "winnr001  1195.0  0.317210  0.335402\n",
       "jonej003  1192.0  0.302633  0.311088\n",
       "hudso001  1132.0  0.324354  0.339495\n",
       "lee-c001  1121.0  0.348917  0.360273\n",
       "molib001  1101.0  0.315220  0.311473\n",
       "wilkb002  1070.0  0.307881  0.332053\n",
       "castl001  1067.0  0.330036  0.302122\n",
       "byrne001  1063.0  0.322491  0.323969\n",
       "drewj001  1058.0  0.341873  0.401071\n",
       "ecksd001  1027.0  0.300515  0.311052\n",
       "pattc001  1023.0  0.292383  0.276280"
      ]
     },
     "execution_count": 20,
     "metadata": {},
     "output_type": "execute_result"
    }
   ],
   "source": [
    "# look at who contributes to a sample and how\n",
    "\n",
    "yr = 2004\n",
    "rng = range(yr, yr+5)\n",
    "df_pa = pa[(pa['bat_fld_cd']!= 1) & (pa['yr'].isin(rng))]\n",
    "df = summarize_split(bsu.summarize_events(df_pa, ['bat_id', 'fld_lg_id']), 'woba')\n",
    "df.sort_values('min_pa', ascending=False).head(20)"
   ]
  },
  {
   "cell_type": "code",
   "execution_count": 21,
   "metadata": {},
   "outputs": [
    {
     "data": {
      "text/html": [
       "<div>\n",
       "<style scoped>\n",
       "    .dataframe tbody tr th:only-of-type {\n",
       "        vertical-align: middle;\n",
       "    }\n",
       "\n",
       "    .dataframe tbody tr th {\n",
       "        vertical-align: top;\n",
       "    }\n",
       "\n",
       "    .dataframe thead th {\n",
       "        text-align: right;\n",
       "    }\n",
       "</style>\n",
       "<table border=\"1\" class=\"dataframe\">\n",
       "  <thead>\n",
       "    <tr style=\"text-align: right;\">\n",
       "      <th></th>\n",
       "      <th></th>\n",
       "      <th>pa</th>\n",
       "      <th>mean_age</th>\n",
       "      <th>pct_prime</th>\n",
       "    </tr>\n",
       "    <tr>\n",
       "      <th>bat_id</th>\n",
       "      <th>fld_lg_id</th>\n",
       "      <th></th>\n",
       "      <th></th>\n",
       "      <th></th>\n",
       "    </tr>\n",
       "  </thead>\n",
       "  <tbody>\n",
       "    <tr>\n",
       "      <th rowspan=\"2\" valign=\"top\">abada001</th>\n",
       "      <th>AL</th>\n",
       "      <td>20</td>\n",
       "      <td>30.000000</td>\n",
       "      <td>0.700000</td>\n",
       "    </tr>\n",
       "    <tr>\n",
       "      <th>NL</th>\n",
       "      <td>5</td>\n",
       "      <td>30.000000</td>\n",
       "      <td>0.600000</td>\n",
       "    </tr>\n",
       "    <tr>\n",
       "      <th rowspan=\"2\" valign=\"top\">abboj002</th>\n",
       "      <th>AL</th>\n",
       "      <td>549</td>\n",
       "      <td>29.342441</td>\n",
       "      <td>0.542805</td>\n",
       "    </tr>\n",
       "    <tr>\n",
       "      <th>NL</th>\n",
       "      <td>102</td>\n",
       "      <td>30.196078</td>\n",
       "      <td>0.519608</td>\n",
       "    </tr>\n",
       "    <tr>\n",
       "      <th>abbok002</th>\n",
       "      <th>AL</th>\n",
       "      <td>208</td>\n",
       "      <td>27.543269</td>\n",
       "      <td>0.562500</td>\n",
       "    </tr>\n",
       "    <tr>\n",
       "      <th>...</th>\n",
       "      <th>...</th>\n",
       "      <td>...</td>\n",
       "      <td>...</td>\n",
       "      <td>...</td>\n",
       "    </tr>\n",
       "    <tr>\n",
       "      <th>zubej001</th>\n",
       "      <th>NL</th>\n",
       "      <td>47</td>\n",
       "      <td>27.468085</td>\n",
       "      <td>0.787234</td>\n",
       "    </tr>\n",
       "    <tr>\n",
       "      <th rowspan=\"2\" valign=\"top\">zulej001</th>\n",
       "      <th>AL</th>\n",
       "      <td>14</td>\n",
       "      <td>34.571429</td>\n",
       "      <td>0.071429</td>\n",
       "    </tr>\n",
       "    <tr>\n",
       "      <th>NL</th>\n",
       "      <td>177</td>\n",
       "      <td>32.005650</td>\n",
       "      <td>0.519774</td>\n",
       "    </tr>\n",
       "    <tr>\n",
       "      <th rowspan=\"2\" valign=\"top\">zunim001</th>\n",
       "      <th>AL</th>\n",
       "      <td>2137</td>\n",
       "      <td>27.856809</td>\n",
       "      <td>0.865232</td>\n",
       "    </tr>\n",
       "    <tr>\n",
       "      <th>NL</th>\n",
       "      <td>323</td>\n",
       "      <td>28.724458</td>\n",
       "      <td>0.727554</td>\n",
       "    </tr>\n",
       "  </tbody>\n",
       "</table>\n",
       "<p>5667 rows × 3 columns</p>\n",
       "</div>"
      ],
      "text/plain": [
       "                      pa   mean_age  pct_prime\n",
       "bat_id   fld_lg_id                            \n",
       "abada001 AL           20  30.000000   0.700000\n",
       "         NL            5  30.000000   0.600000\n",
       "abboj002 AL          549  29.342441   0.542805\n",
       "         NL          102  30.196078   0.519608\n",
       "abbok002 AL          208  27.543269   0.562500\n",
       "...                  ...        ...        ...\n",
       "zubej001 NL           47  27.468085   0.787234\n",
       "zulej001 AL           14  34.571429   0.071429\n",
       "         NL          177  32.005650   0.519774\n",
       "zunim001 AL         2137  27.856809   0.865232\n",
       "         NL          323  28.724458   0.727554\n",
       "\n",
       "[5667 rows x 3 columns]"
      ]
     },
     "execution_count": 21,
     "metadata": {},
     "output_type": "execute_result"
    }
   ],
   "source": [
    "\n",
    "age_split = pa.groupby(['bat_id', 'fld_lg_id']).agg(pa=('event_cd', len), mean_age=('bat_age', np.mean), pct_prime=('bat_prime_age', np.mean))\n",
    "age_split"
   ]
  },
  {
   "cell_type": "code",
   "execution_count": 22,
   "metadata": {},
   "outputs": [
    {
     "data": {
      "text/plain": [
       "{'AL': 29.333670035091366, 'NL': 29.37274736626806}"
      ]
     },
     "execution_count": 22,
     "metadata": {},
     "output_type": "execute_result"
    }
   ],
   "source": [
    "df = summarize_split(age_split, 'mean_age')\n",
    "({lg: (df['min_pa']*df[lg]).sum()/df['min_pa'].sum() for lg in ['AL', 'NL']})"
   ]
  },
  {
   "cell_type": "code",
   "execution_count": 23,
   "metadata": {},
   "outputs": [
    {
     "data": {
      "text/plain": [
       "{'AL': 0.7225328273188006, 'NL': 0.6993362706992577}"
      ]
     },
     "execution_count": 23,
     "metadata": {},
     "output_type": "execute_result"
    }
   ],
   "source": [
    "df = summarize_split(age_split, 'pct_prime')\n",
    "({lg: (df['min_pa']*df[lg]).sum()/df['min_pa'].sum() for lg in ['AL', 'NL']})"
   ]
  }
 ],
 "metadata": {
  "interpreter": {
   "hash": "344443636c3027c5042750c9c609acdda283a9c43681b128a8c1053e7ad2aa7d"
  },
  "kernelspec": {
   "display_name": "Python 3.8.8 64-bit ('base': conda)",
   "name": "python3"
  },
  "language_info": {
   "codemirror_mode": {
    "name": "ipython",
    "version": 3
   },
   "file_extension": ".py",
   "mimetype": "text/x-python",
   "name": "python",
   "nbconvert_exporter": "python",
   "pygments_lexer": "ipython3",
   "version": "3.8.8"
  },
  "orig_nbformat": 4
 },
 "nbformat": 4,
 "nbformat_minor": 2
}
