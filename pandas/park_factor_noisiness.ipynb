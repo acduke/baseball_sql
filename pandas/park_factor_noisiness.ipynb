{
 "cells": [
  {
   "cell_type": "code",
   "execution_count": 1,
   "metadata": {},
   "outputs": [],
   "source": [
    "# park factor stability\n",
    "\n",
    "# think about triples.  how much noise in a park factor?  how does this change as we add more years"
   ]
  },
  {
   "cell_type": "code",
   "execution_count": 2,
   "metadata": {},
   "outputs": [],
   "source": [
    "# Start with the baseline triples rate (per pa)\n",
    "# Assume a real park effect (e.g., 1.1) # for now do a neutral PF of 1\n",
    "# Compute expected triples rate at home and on road\n",
    "# Run many iterations of:\n",
    "    # Simulate a season's worth of at bats at home and on road\n",
    "    # Compute observed PF\n",
    "# Compute metrics on observations"
   ]
  },
  {
   "cell_type": "code",
   "execution_count": 3,
   "metadata": {},
   "outputs": [],
   "source": [
    "import pandas as pd\n",
    "from io import StringIO\n",
    "import numpy as np"
   ]
  },
  {
   "cell_type": "code",
   "execution_count": 4,
   "metadata": {},
   "outputs": [],
   "source": [
    "# Start with the baseline triples rate (per pa)\n",
    "csv_data = \"\"\"Year,Tms,#Bat,BatAge,R/G,G,PA,AB,R,H,2B,3B,HR,RBI,SB,CS,BB,SO,BA,OBP,SLG,OPS,TB,GDP,HBP,SH,SF,IBB\n",
    "2021,30,1272,28.5,4.50,3704,138327,123103,16681,29839,5929,494,4479,15882,1677,545,12109,32426,.242,.316,.408,.724,50193,2492,1629,576,859,508\n",
    "2020,30,618,28.0,4.65,1796,66506,59030,8344,14439,2823,241,2304,7978,885,292,6092,15586,.245,.322,.418,.740,24656,1237,821,126,402,202\n",
    "2019,30,1287,27.9,4.83,4858,186517,166651,23467,42039,8531,785,6776,22471,2280,832,15895,42823,.252,.323,.435,.758,72468,3463,1984,776,1150,753\n",
    "2018,30,1271,28.1,4.45,4862,185139,165432,21630,41018,8264,847,5585,20606,2474,958,15686,41207,.248,.318,.409,.728,67731,3457,1922,823,1235,929\n",
    "2017,30,1229,28.3,4.65,4860,185295,165567,22582,42215,8397,795,6105,21558,2527,934,15829,40104,.255,.324,.426,.750,70517,3804,1763,925,1168,970\n",
    "2016,30,1247,28.4,4.48,4856,184580,165561,21744,42276,8254,873,5610,20745,2537,1001,15088,38982,.255,.322,.417,.739,69106,3719,1651,1025,1214,932\"\"\"\n",
    "\n",
    "df = pd.read_csv(StringIO(csv_data))\n",
    "sums = df.sum()\n"
   ]
  },
  {
   "cell_type": "code",
   "execution_count": 5,
   "metadata": {},
   "outputs": [
    {
     "data": {
      "text/plain": [
       "{'H': 0.2238314221589156,\n",
       " '3B': 0.004263687122502547,\n",
       " 'HR': 0.03260796057331006}"
      ]
     },
     "execution_count": 5,
     "metadata": {},
     "output_type": "execute_result"
    }
   ],
   "source": [
    "rates = {}\n",
    "stats = ['H', '3B', 'HR']\n",
    "for stat in stats:\n",
    "    rates[stat] = sums[stat]/sums['PA']\n",
    "rates"
   ]
  },
  {
   "cell_type": "code",
   "execution_count": 6,
   "metadata": {},
   "outputs": [
    {
     "data": {
      "text/plain": [
       "6148.178055822907"
      ]
     },
     "execution_count": 6,
     "metadata": {},
     "output_type": "execute_result"
    }
   ],
   "source": [
    "# Simulate a season's worth of at bats at home and on road\n",
    "PA_season = sums['PA']/sums['G'] * 81 * 2\n",
    "PA_season"
   ]
  },
  {
   "cell_type": "code",
   "execution_count": 7,
   "metadata": {},
   "outputs": [
    {
     "data": {
      "text/plain": [
       "37.95171639396856"
      ]
     },
     "execution_count": 7,
     "metadata": {},
     "output_type": "execute_result"
    }
   ],
   "source": [
    "sums['PA']/sums['G']"
   ]
  },
  {
   "cell_type": "code",
   "execution_count": 8,
   "metadata": {},
   "outputs": [],
   "source": [
    "def generate_series_values(n, p, iterations):\n",
    "    return pd.Series([np.random.binomial(n, p) for _ in range(iterations)])"
   ]
  },
  {
   "cell_type": "code",
   "execution_count": 9,
   "metadata": {},
   "outputs": [
    {
     "data": {
      "text/plain": [
       "0     1.291667\n",
       "1     1.000000\n",
       "2     1.038462\n",
       "3     1.172414\n",
       "4     0.750000\n",
       "        ...   \n",
       "95    1.687500\n",
       "96    1.437500\n",
       "97    1.032258\n",
       "98    0.677419\n",
       "99    0.787879\n",
       "Length: 100, dtype: float64"
      ]
     },
     "execution_count": 9,
     "metadata": {},
     "output_type": "execute_result"
    }
   ],
   "source": [
    "def generate_pfs(n, p, iterations):\n",
    "    stat_h = generate_series_values(n, p, iterations)\n",
    "    stat_a = generate_series_values(n, p, iterations)\n",
    "    pfs = stat_h/stat_a\n",
    "    return pfs\n",
    "\n",
    "generate_pfs(PA_season, rates['3B'], 100)"
   ]
  },
  {
   "cell_type": "code",
   "execution_count": 10,
   "metadata": {},
   "outputs": [
    {
     "data": {
      "text/plain": [
       "count    100000.000000\n",
       "mean          1.041498\n",
       "std           0.303268\n",
       "min           0.285714\n",
       "25%           0.827586\n",
       "50%           1.000000\n",
       "75%           1.208333\n",
       "max           4.500000\n",
       "dtype: float64"
      ]
     },
     "execution_count": 10,
     "metadata": {},
     "output_type": "execute_result"
    }
   ],
   "source": [
    "generate_pfs(PA_season, rates['3B'], 100*1000).describe()"
   ]
  },
  {
   "cell_type": "code",
   "execution_count": 11,
   "metadata": {},
   "outputs": [
    {
     "data": {
      "text/plain": [
       "0.20453225545531165"
      ]
     },
     "execution_count": 11,
     "metadata": {},
     "output_type": "execute_result"
    }
   ],
   "source": [
    "generate_pfs(PA_season*2, rates['3B'], 100*1000).std()"
   ]
  },
  {
   "cell_type": "code",
   "execution_count": 12,
   "metadata": {},
   "outputs": [
    {
     "data": {
      "text/plain": [
       "{'H': 0.033671196728000896,\n",
       " '3B': 0.30384037005548864,\n",
       " 'HR': 0.09922875031064192}"
      ]
     },
     "execution_count": 12,
     "metadata": {},
     "output_type": "execute_result"
    }
   ],
   "source": [
    "def run_sim(sample_size_in_seasons):\n",
    "    pfs = {}\n",
    "    for stat in stats:\n",
    "        pfs[stat] = generate_pfs(PA_season* sample_size_in_seasons, rates[stat], 100*1000).std()\n",
    "    return pfs\n",
    "\n",
    "run_sim(1)"
   ]
  },
  {
   "cell_type": "code",
   "execution_count": 13,
   "metadata": {},
   "outputs": [],
   "source": [
    "output = {i: run_sim(i) for i in range (1, 20)}\n",
    "#pd.concat(output, axis=1)"
   ]
  },
  {
   "cell_type": "code",
   "execution_count": 14,
   "metadata": {},
   "outputs": [
    {
     "data": {
      "text/plain": [
       "{1: {'H': 0.033661959045663596,\n",
       "  '3B': 0.304329304138098,\n",
       "  'HR': 0.09943737106323497},\n",
       " 2: {'H': 0.02382913516102559,\n",
       "  '3B': 0.20427932807572144,\n",
       "  'HR': 0.06979612172086307},\n",
       " 3: {'H': 0.019356327188023503,\n",
       "  '3B': 0.16377789813951144,\n",
       "  'HR': 0.057056785635989274},\n",
       " 4: {'H': 0.01676069289892459,\n",
       "  '3B': 0.14088045941723906,\n",
       "  'HR': 0.04905840368834532},\n",
       " 5: {'H': 0.01503912106804281,\n",
       "  '3B': 0.12586701705366057,\n",
       "  'HR': 0.04403451244531306},\n",
       " 6: {'H': 0.013693882574248176,\n",
       "  '3B': 0.11398869495093711,\n",
       "  'HR': 0.0401778693322492},\n",
       " 7: {'H': 0.012655731735301585,\n",
       "  '3B': 0.10557164316349041,\n",
       "  'HR': 0.03724494657798437},\n",
       " 8: {'H': 0.011895701116349022,\n",
       "  '3B': 0.09897247774109762,\n",
       "  'HR': 0.034800522773102915},\n",
       " 9: {'H': 0.011184506085412724,\n",
       "  '3B': 0.09290381373348958,\n",
       "  'HR': 0.03295883066599289},\n",
       " 10: {'H': 0.010621747038378124,\n",
       "  '3B': 0.08790973881034649,\n",
       "  'HR': 0.031119065463830135},\n",
       " 11: {'H': 0.010137588485547583,\n",
       "  '3B': 0.08389923734938129,\n",
       "  'HR': 0.029665599357493005},\n",
       " 12: {'H': 0.00970893702911115,\n",
       "  '3B': 0.08006588192647174,\n",
       "  'HR': 0.028365468200951677},\n",
       " 13: {'H': 0.009321468535526338,\n",
       "  '3B': 0.07676543990204361,\n",
       "  'HR': 0.027143010873446706},\n",
       " 14: {'H': 0.00896698864241876,\n",
       "  '3B': 0.07413609474864664,\n",
       "  'HR': 0.026223907954363204},\n",
       " 15: {'H': 0.008680544494402724,\n",
       "  '3B': 0.07145268548848197,\n",
       "  'HR': 0.02547663187983818},\n",
       " 16: {'H': 0.00839519738325621,\n",
       "  '3B': 0.0693924622003159,\n",
       "  'HR': 0.024609702497081595},\n",
       " 17: {'H': 0.008142429943684,\n",
       "  '3B': 0.06728075538584503,\n",
       "  'HR': 0.023886095031716004},\n",
       " 18: {'H': 0.00789394858627331,\n",
       "  '3B': 0.06517213687427341,\n",
       "  'HR': 0.02326965708053435},\n",
       " 19: {'H': 0.00770834468984052,\n",
       "  '3B': 0.0634556991458709,\n",
       "  'HR': 0.022569303307866297}}"
      ]
     },
     "execution_count": 14,
     "metadata": {},
     "output_type": "execute_result"
    }
   ],
   "source": [
    "output"
   ]
  },
  {
   "cell_type": "code",
   "execution_count": 15,
   "metadata": {},
   "outputs": [
    {
     "data": {
      "text/html": [
       "<div>\n",
       "<style scoped>\n",
       "    .dataframe tbody tr th:only-of-type {\n",
       "        vertical-align: middle;\n",
       "    }\n",
       "\n",
       "    .dataframe tbody tr th {\n",
       "        vertical-align: top;\n",
       "    }\n",
       "\n",
       "    .dataframe thead th {\n",
       "        text-align: right;\n",
       "    }\n",
       "</style>\n",
       "<table border=\"1\" class=\"dataframe\">\n",
       "  <thead>\n",
       "    <tr style=\"text-align: right;\">\n",
       "      <th></th>\n",
       "      <th>H</th>\n",
       "      <th>3B</th>\n",
       "      <th>HR</th>\n",
       "    </tr>\n",
       "  </thead>\n",
       "  <tbody>\n",
       "    <tr>\n",
       "      <th>1</th>\n",
       "      <td>0.033662</td>\n",
       "      <td>0.304329</td>\n",
       "      <td>0.099437</td>\n",
       "    </tr>\n",
       "    <tr>\n",
       "      <th>2</th>\n",
       "      <td>0.023829</td>\n",
       "      <td>0.204279</td>\n",
       "      <td>0.069796</td>\n",
       "    </tr>\n",
       "    <tr>\n",
       "      <th>3</th>\n",
       "      <td>0.019356</td>\n",
       "      <td>0.163778</td>\n",
       "      <td>0.057057</td>\n",
       "    </tr>\n",
       "    <tr>\n",
       "      <th>4</th>\n",
       "      <td>0.016761</td>\n",
       "      <td>0.140880</td>\n",
       "      <td>0.049058</td>\n",
       "    </tr>\n",
       "    <tr>\n",
       "      <th>5</th>\n",
       "      <td>0.015039</td>\n",
       "      <td>0.125867</td>\n",
       "      <td>0.044035</td>\n",
       "    </tr>\n",
       "    <tr>\n",
       "      <th>6</th>\n",
       "      <td>0.013694</td>\n",
       "      <td>0.113989</td>\n",
       "      <td>0.040178</td>\n",
       "    </tr>\n",
       "    <tr>\n",
       "      <th>7</th>\n",
       "      <td>0.012656</td>\n",
       "      <td>0.105572</td>\n",
       "      <td>0.037245</td>\n",
       "    </tr>\n",
       "    <tr>\n",
       "      <th>8</th>\n",
       "      <td>0.011896</td>\n",
       "      <td>0.098972</td>\n",
       "      <td>0.034801</td>\n",
       "    </tr>\n",
       "    <tr>\n",
       "      <th>9</th>\n",
       "      <td>0.011185</td>\n",
       "      <td>0.092904</td>\n",
       "      <td>0.032959</td>\n",
       "    </tr>\n",
       "    <tr>\n",
       "      <th>10</th>\n",
       "      <td>0.010622</td>\n",
       "      <td>0.087910</td>\n",
       "      <td>0.031119</td>\n",
       "    </tr>\n",
       "    <tr>\n",
       "      <th>11</th>\n",
       "      <td>0.010138</td>\n",
       "      <td>0.083899</td>\n",
       "      <td>0.029666</td>\n",
       "    </tr>\n",
       "    <tr>\n",
       "      <th>12</th>\n",
       "      <td>0.009709</td>\n",
       "      <td>0.080066</td>\n",
       "      <td>0.028365</td>\n",
       "    </tr>\n",
       "    <tr>\n",
       "      <th>13</th>\n",
       "      <td>0.009321</td>\n",
       "      <td>0.076765</td>\n",
       "      <td>0.027143</td>\n",
       "    </tr>\n",
       "    <tr>\n",
       "      <th>14</th>\n",
       "      <td>0.008967</td>\n",
       "      <td>0.074136</td>\n",
       "      <td>0.026224</td>\n",
       "    </tr>\n",
       "    <tr>\n",
       "      <th>15</th>\n",
       "      <td>0.008681</td>\n",
       "      <td>0.071453</td>\n",
       "      <td>0.025477</td>\n",
       "    </tr>\n",
       "    <tr>\n",
       "      <th>16</th>\n",
       "      <td>0.008395</td>\n",
       "      <td>0.069392</td>\n",
       "      <td>0.024610</td>\n",
       "    </tr>\n",
       "    <tr>\n",
       "      <th>17</th>\n",
       "      <td>0.008142</td>\n",
       "      <td>0.067281</td>\n",
       "      <td>0.023886</td>\n",
       "    </tr>\n",
       "    <tr>\n",
       "      <th>18</th>\n",
       "      <td>0.007894</td>\n",
       "      <td>0.065172</td>\n",
       "      <td>0.023270</td>\n",
       "    </tr>\n",
       "    <tr>\n",
       "      <th>19</th>\n",
       "      <td>0.007708</td>\n",
       "      <td>0.063456</td>\n",
       "      <td>0.022569</td>\n",
       "    </tr>\n",
       "  </tbody>\n",
       "</table>\n",
       "</div>"
      ],
      "text/plain": [
       "           H        3B        HR\n",
       "1   0.033662  0.304329  0.099437\n",
       "2   0.023829  0.204279  0.069796\n",
       "3   0.019356  0.163778  0.057057\n",
       "4   0.016761  0.140880  0.049058\n",
       "5   0.015039  0.125867  0.044035\n",
       "6   0.013694  0.113989  0.040178\n",
       "7   0.012656  0.105572  0.037245\n",
       "8   0.011896  0.098972  0.034801\n",
       "9   0.011185  0.092904  0.032959\n",
       "10  0.010622  0.087910  0.031119\n",
       "11  0.010138  0.083899  0.029666\n",
       "12  0.009709  0.080066  0.028365\n",
       "13  0.009321  0.076765  0.027143\n",
       "14  0.008967  0.074136  0.026224\n",
       "15  0.008681  0.071453  0.025477\n",
       "16  0.008395  0.069392  0.024610\n",
       "17  0.008142  0.067281  0.023886\n",
       "18  0.007894  0.065172  0.023270\n",
       "19  0.007708  0.063456  0.022569"
      ]
     },
     "execution_count": 15,
     "metadata": {},
     "output_type": "execute_result"
    }
   ],
   "source": [
    "std_devs = pd.DataFrame(output).T\n",
    "std_devs"
   ]
  },
  {
   "cell_type": "code",
   "execution_count": 16,
   "metadata": {},
   "outputs": [
    {
     "name": "stdout",
     "output_type": "stream",
     "text": [
      "|    |     H |    3B |    HR |\n",
      "|---:|------:|------:|------:|\n",
      "|  1 | 0.034 | 0.304 | 0.099 |\n",
      "|  2 | 0.024 | 0.204 | 0.07  |\n",
      "|  3 | 0.019 | 0.164 | 0.057 |\n",
      "|  4 | 0.017 | 0.141 | 0.049 |\n",
      "|  5 | 0.015 | 0.126 | 0.044 |\n",
      "|  6 | 0.014 | 0.114 | 0.04  |\n",
      "|  7 | 0.013 | 0.106 | 0.037 |\n",
      "|  8 | 0.012 | 0.099 | 0.035 |\n",
      "|  9 | 0.011 | 0.093 | 0.033 |\n",
      "| 10 | 0.011 | 0.088 | 0.031 |\n",
      "| 11 | 0.01  | 0.084 | 0.03  |\n",
      "| 12 | 0.01  | 0.08  | 0.028 |\n",
      "| 13 | 0.009 | 0.077 | 0.027 |\n",
      "| 14 | 0.009 | 0.074 | 0.026 |\n",
      "| 15 | 0.009 | 0.071 | 0.025 |\n",
      "| 16 | 0.008 | 0.069 | 0.025 |\n",
      "| 17 | 0.008 | 0.067 | 0.024 |\n",
      "| 18 | 0.008 | 0.065 | 0.023 |\n",
      "| 19 | 0.008 | 0.063 | 0.023 |\n"
     ]
    }
   ],
   "source": [
    "print(std_devs.apply(lambda x: round(x, 3)).to_markdown())"
   ]
  },
  {
   "cell_type": "code",
   "execution_count": null,
   "metadata": {},
   "outputs": [],
   "source": []
  }
 ],
 "metadata": {
  "interpreter": {
   "hash": "344443636c3027c5042750c9c609acdda283a9c43681b128a8c1053e7ad2aa7d"
  },
  "kernelspec": {
   "display_name": "Python 3.8.8 64-bit ('base': conda)",
   "name": "python3"
  },
  "language_info": {
   "codemirror_mode": {
    "name": "ipython",
    "version": 3
   },
   "file_extension": ".py",
   "mimetype": "text/x-python",
   "name": "python",
   "nbconvert_exporter": "python",
   "pygments_lexer": "ipython3",
   "version": "3.8.8"
  },
  "orig_nbformat": 4
 },
 "nbformat": 4,
 "nbformat_minor": 2
}
