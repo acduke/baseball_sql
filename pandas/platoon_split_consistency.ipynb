{
 "cells": [
  {
   "cell_type": "markdown",
   "id": "original-palace",
   "metadata": {},
   "source": [
    "How predictive is a batter's platoon split?\n",
    "\n",
    "Should we look at individual batters' platoon splits?  Regress them?"
   ]
  },
  {
   "cell_type": "code",
   "execution_count": 1,
   "id": "expected-concert",
   "metadata": {
    "ExecuteTime": {
     "end_time": "2021-05-12T01:26:09.573703Z",
     "start_time": "2021-05-12T01:26:09.220974Z"
    }
   },
   "outputs": [],
   "source": [
    "import pandas as pd\n",
    "import numpy as np\n",
    "import boxball_loader as bbl\n",
    "import baseball_stats_utils as utils"
   ]
  },
  {
   "cell_type": "code",
   "execution_count": 2,
   "id": "stock-professor",
   "metadata": {
    "ExecuteTime": {
     "end_time": "2021-05-12T01:26:45.757525Z",
     "start_time": "2021-05-12T01:26:09.574860Z"
    }
   },
   "outputs": [
    {
     "data": {
      "text/html": [
       "<div>\n",
       "<style scoped>\n",
       "    .dataframe tbody tr th:only-of-type {\n",
       "        vertical-align: middle;\n",
       "    }\n",
       "\n",
       "    .dataframe tbody tr th {\n",
       "        vertical-align: top;\n",
       "    }\n",
       "\n",
       "    .dataframe thead th {\n",
       "        text-align: right;\n",
       "    }\n",
       "</style>\n",
       "<table border=\"1\" class=\"dataframe\">\n",
       "  <thead>\n",
       "    <tr style=\"text-align: right;\">\n",
       "      <th></th>\n",
       "      <th>game_id</th>\n",
       "      <th>date</th>\n",
       "      <th>game_type</th>\n",
       "      <th>bat_id</th>\n",
       "      <th>bat_hand_cd</th>\n",
       "      <th>tb_ct</th>\n",
       "      <th>ab_fl</th>\n",
       "      <th>event_cd</th>\n",
       "      <th>bat_event_fl</th>\n",
       "      <th>bat_team_id</th>\n",
       "      <th>pit_hand_cd</th>\n",
       "      <th>fld_team_id</th>\n",
       "      <th>pos2_fld_id</th>\n",
       "      <th>pit_id</th>\n",
       "      <th>h_fl</th>\n",
       "      <th>ob_fl</th>\n",
       "      <th>yr</th>\n",
       "    </tr>\n",
       "  </thead>\n",
       "  <tbody>\n",
       "    <tr>\n",
       "      <th>0</th>\n",
       "      <td>CHN201504050</td>\n",
       "      <td>2015-04-05</td>\n",
       "      <td>RS</td>\n",
       "      <td>carpm002</td>\n",
       "      <td>L</td>\n",
       "      <td>0</td>\n",
       "      <td>True</td>\n",
       "      <td>2</td>\n",
       "      <td>True</td>\n",
       "      <td>SLN</td>\n",
       "      <td>L</td>\n",
       "      <td>CHN</td>\n",
       "      <td>rossd001</td>\n",
       "      <td>lestj001</td>\n",
       "      <td>0</td>\n",
       "      <td>0</td>\n",
       "      <td>2015</td>\n",
       "    </tr>\n",
       "    <tr>\n",
       "      <th>1</th>\n",
       "      <td>CHN201504050</td>\n",
       "      <td>2015-04-05</td>\n",
       "      <td>RS</td>\n",
       "      <td>heywj001</td>\n",
       "      <td>L</td>\n",
       "      <td>2</td>\n",
       "      <td>True</td>\n",
       "      <td>21</td>\n",
       "      <td>True</td>\n",
       "      <td>SLN</td>\n",
       "      <td>L</td>\n",
       "      <td>CHN</td>\n",
       "      <td>rossd001</td>\n",
       "      <td>lestj001</td>\n",
       "      <td>1</td>\n",
       "      <td>1</td>\n",
       "      <td>2015</td>\n",
       "    </tr>\n",
       "    <tr>\n",
       "      <th>2</th>\n",
       "      <td>CHN201504050</td>\n",
       "      <td>2015-04-05</td>\n",
       "      <td>RS</td>\n",
       "      <td>hollm001</td>\n",
       "      <td>R</td>\n",
       "      <td>1</td>\n",
       "      <td>True</td>\n",
       "      <td>20</td>\n",
       "      <td>True</td>\n",
       "      <td>SLN</td>\n",
       "      <td>L</td>\n",
       "      <td>CHN</td>\n",
       "      <td>rossd001</td>\n",
       "      <td>lestj001</td>\n",
       "      <td>1</td>\n",
       "      <td>1</td>\n",
       "      <td>2015</td>\n",
       "    </tr>\n",
       "    <tr>\n",
       "      <th>3</th>\n",
       "      <td>CHN201504050</td>\n",
       "      <td>2015-04-05</td>\n",
       "      <td>RS</td>\n",
       "      <td>peraj001</td>\n",
       "      <td>R</td>\n",
       "      <td>0</td>\n",
       "      <td>True</td>\n",
       "      <td>3</td>\n",
       "      <td>True</td>\n",
       "      <td>SLN</td>\n",
       "      <td>L</td>\n",
       "      <td>CHN</td>\n",
       "      <td>rossd001</td>\n",
       "      <td>lestj001</td>\n",
       "      <td>0</td>\n",
       "      <td>0</td>\n",
       "      <td>2015</td>\n",
       "    </tr>\n",
       "    <tr>\n",
       "      <th>4</th>\n",
       "      <td>CHN201504050</td>\n",
       "      <td>2015-04-05</td>\n",
       "      <td>RS</td>\n",
       "      <td>adamm002</td>\n",
       "      <td>L</td>\n",
       "      <td>0</td>\n",
       "      <td>True</td>\n",
       "      <td>3</td>\n",
       "      <td>True</td>\n",
       "      <td>SLN</td>\n",
       "      <td>L</td>\n",
       "      <td>CHN</td>\n",
       "      <td>rossd001</td>\n",
       "      <td>lestj001</td>\n",
       "      <td>0</td>\n",
       "      <td>0</td>\n",
       "      <td>2015</td>\n",
       "    </tr>\n",
       "    <tr>\n",
       "      <th>...</th>\n",
       "      <td>...</td>\n",
       "      <td>...</td>\n",
       "      <td>...</td>\n",
       "      <td>...</td>\n",
       "      <td>...</td>\n",
       "      <td>...</td>\n",
       "      <td>...</td>\n",
       "      <td>...</td>\n",
       "      <td>...</td>\n",
       "      <td>...</td>\n",
       "      <td>...</td>\n",
       "      <td>...</td>\n",
       "      <td>...</td>\n",
       "      <td>...</td>\n",
       "      <td>...</td>\n",
       "      <td>...</td>\n",
       "      <td>...</td>\n",
       "    </tr>\n",
       "    <tr>\n",
       "      <th>1037442</th>\n",
       "      <td>KCA202009270</td>\n",
       "      <td>2020-09-27</td>\n",
       "      <td>RS</td>\n",
       "      <td>peres002</td>\n",
       "      <td>R</td>\n",
       "      <td>0</td>\n",
       "      <td>True</td>\n",
       "      <td>3</td>\n",
       "      <td>True</td>\n",
       "      <td>KCA</td>\n",
       "      <td>R</td>\n",
       "      <td>DET</td>\n",
       "      <td>haase001</td>\n",
       "      <td>farmb001</td>\n",
       "      <td>0</td>\n",
       "      <td>0</td>\n",
       "      <td>2020</td>\n",
       "    </tr>\n",
       "    <tr>\n",
       "      <th>1037443</th>\n",
       "      <td>KCA202009270</td>\n",
       "      <td>2020-09-27</td>\n",
       "      <td>RS</td>\n",
       "      <td>alcas002</td>\n",
       "      <td>L</td>\n",
       "      <td>0</td>\n",
       "      <td>False</td>\n",
       "      <td>14</td>\n",
       "      <td>True</td>\n",
       "      <td>DET</td>\n",
       "      <td>R</td>\n",
       "      <td>KCA</td>\n",
       "      <td>peres002</td>\n",
       "      <td>hahnj001</td>\n",
       "      <td>0</td>\n",
       "      <td>1</td>\n",
       "      <td>2020</td>\n",
       "    </tr>\n",
       "    <tr>\n",
       "      <th>1037444</th>\n",
       "      <td>KCA202009270</td>\n",
       "      <td>2020-09-27</td>\n",
       "      <td>RS</td>\n",
       "      <td>reyev001</td>\n",
       "      <td>L</td>\n",
       "      <td>0</td>\n",
       "      <td>True</td>\n",
       "      <td>3</td>\n",
       "      <td>True</td>\n",
       "      <td>DET</td>\n",
       "      <td>R</td>\n",
       "      <td>KCA</td>\n",
       "      <td>peres002</td>\n",
       "      <td>hahnj001</td>\n",
       "      <td>0</td>\n",
       "      <td>0</td>\n",
       "      <td>2020</td>\n",
       "    </tr>\n",
       "    <tr>\n",
       "      <th>1037445</th>\n",
       "      <td>KCA202009270</td>\n",
       "      <td>2020-09-27</td>\n",
       "      <td>RS</td>\n",
       "      <td>camed001</td>\n",
       "      <td>R</td>\n",
       "      <td>0</td>\n",
       "      <td>True</td>\n",
       "      <td>3</td>\n",
       "      <td>True</td>\n",
       "      <td>DET</td>\n",
       "      <td>R</td>\n",
       "      <td>KCA</td>\n",
       "      <td>peres002</td>\n",
       "      <td>hahnj001</td>\n",
       "      <td>0</td>\n",
       "      <td>0</td>\n",
       "      <td>2020</td>\n",
       "    </tr>\n",
       "    <tr>\n",
       "      <th>1037447</th>\n",
       "      <td>KCA202009270</td>\n",
       "      <td>2020-09-27</td>\n",
       "      <td>RS</td>\n",
       "      <td>goodn002</td>\n",
       "      <td>L</td>\n",
       "      <td>0</td>\n",
       "      <td>True</td>\n",
       "      <td>3</td>\n",
       "      <td>True</td>\n",
       "      <td>DET</td>\n",
       "      <td>R</td>\n",
       "      <td>KCA</td>\n",
       "      <td>peres002</td>\n",
       "      <td>hahnj001</td>\n",
       "      <td>0</td>\n",
       "      <td>0</td>\n",
       "      <td>2020</td>\n",
       "    </tr>\n",
       "  </tbody>\n",
       "</table>\n",
       "<p>991665 rows × 17 columns</p>\n",
       "</div>"
      ],
      "text/plain": [
       "              game_id       date game_type    bat_id bat_hand_cd  tb_ct  \\\n",
       "0        CHN201504050 2015-04-05        RS  carpm002           L      0   \n",
       "1        CHN201504050 2015-04-05        RS  heywj001           L      2   \n",
       "2        CHN201504050 2015-04-05        RS  hollm001           R      1   \n",
       "3        CHN201504050 2015-04-05        RS  peraj001           R      0   \n",
       "4        CHN201504050 2015-04-05        RS  adamm002           L      0   \n",
       "...               ...        ...       ...       ...         ...    ...   \n",
       "1037442  KCA202009270 2020-09-27        RS  peres002           R      0   \n",
       "1037443  KCA202009270 2020-09-27        RS  alcas002           L      0   \n",
       "1037444  KCA202009270 2020-09-27        RS  reyev001           L      0   \n",
       "1037445  KCA202009270 2020-09-27        RS  camed001           R      0   \n",
       "1037447  KCA202009270 2020-09-27        RS  goodn002           L      0   \n",
       "\n",
       "         ab_fl  event_cd  bat_event_fl bat_team_id pit_hand_cd fld_team_id  \\\n",
       "0         True         2          True         SLN           L         CHN   \n",
       "1         True        21          True         SLN           L         CHN   \n",
       "2         True        20          True         SLN           L         CHN   \n",
       "3         True         3          True         SLN           L         CHN   \n",
       "4         True         3          True         SLN           L         CHN   \n",
       "...        ...       ...           ...         ...         ...         ...   \n",
       "1037442   True         3          True         KCA           R         DET   \n",
       "1037443  False        14          True         DET           R         KCA   \n",
       "1037444   True         3          True         DET           R         KCA   \n",
       "1037445   True         3          True         DET           R         KCA   \n",
       "1037447   True         3          True         DET           R         KCA   \n",
       "\n",
       "        pos2_fld_id    pit_id  h_fl  ob_fl    yr  \n",
       "0          rossd001  lestj001     0      0  2015  \n",
       "1          rossd001  lestj001     1      1  2015  \n",
       "2          rossd001  lestj001     1      1  2015  \n",
       "3          rossd001  lestj001     0      0  2015  \n",
       "4          rossd001  lestj001     0      0  2015  \n",
       "...             ...       ...   ...    ...   ...  \n",
       "1037442    haase001  farmb001     0      0  2020  \n",
       "1037443    peres002  hahnj001     0      1  2020  \n",
       "1037444    peres002  hahnj001     0      0  2020  \n",
       "1037445    peres002  hahnj001     0      0  2020  \n",
       "1037447    peres002  hahnj001     0      0  2020  \n",
       "\n",
       "[991665 rows x 17 columns]"
      ]
     },
     "execution_count": 2,
     "metadata": {},
     "output_type": "execute_result"
    }
   ],
   "source": [
    "cols = ['bat_team_id', 'fld_team_id', 'bat_id', 'pit_id', 'pos2_fld_id', 'bat_event_fl', 'bat_hand_cd', 'pit_hand_cd', 'event_cd']\n",
    "pa = bbl.load_event_data(bbl.Eras.since(2015), cols)\n",
    "pa\n"
   ]
  },
  {
   "cell_type": "code",
   "execution_count": 3,
   "id": "possible-noise",
   "metadata": {
    "ExecuteTime": {
     "end_time": "2021-05-12T01:26:45.761778Z",
     "start_time": "2021-05-12T01:26:45.758917Z"
    }
   },
   "outputs": [
    {
     "data": {
      "text/plain": [
       "Index(['game_id', 'date', 'game_type', 'bat_id', 'bat_hand_cd', 'tb_ct',\n",
       "       'ab_fl', 'event_cd', 'bat_event_fl', 'bat_team_id', 'pit_hand_cd',\n",
       "       'fld_team_id', 'pos2_fld_id', 'pit_id', 'h_fl', 'ob_fl', 'yr'],\n",
       "      dtype='object')"
      ]
     },
     "execution_count": 3,
     "metadata": {},
     "output_type": "execute_result"
    }
   ],
   "source": [
    "pa.columns"
   ]
  },
  {
   "cell_type": "code",
   "execution_count": 4,
   "id": "bibliographic-westminster",
   "metadata": {
    "ExecuteTime": {
     "end_time": "2021-05-12T01:26:45.986242Z",
     "start_time": "2021-05-12T01:26:45.763160Z"
    }
   },
   "outputs": [
    {
     "data": {
      "text/html": [
       "<div>\n",
       "<style scoped>\n",
       "    .dataframe tbody tr th:only-of-type {\n",
       "        vertical-align: middle;\n",
       "    }\n",
       "\n",
       "    .dataframe tbody tr th {\n",
       "        vertical-align: top;\n",
       "    }\n",
       "\n",
       "    .dataframe thead th {\n",
       "        text-align: right;\n",
       "    }\n",
       "</style>\n",
       "<table border=\"1\" class=\"dataframe\">\n",
       "  <thead>\n",
       "    <tr style=\"text-align: right;\">\n",
       "      <th></th>\n",
       "      <th></th>\n",
       "      <th>pa</th>\n",
       "      <th>ob</th>\n",
       "      <th>ab</th>\n",
       "      <th>h</th>\n",
       "      <th>tb</th>\n",
       "      <th>k</th>\n",
       "      <th>bb</th>\n",
       "      <th>ibb</th>\n",
       "      <th>hr</th>\n",
       "      <th>ba</th>\n",
       "      <th>obp</th>\n",
       "      <th>slg</th>\n",
       "      <th>woba</th>\n",
       "      <th>k%</th>\n",
       "      <th>bb%</th>\n",
       "      <th>hr%</th>\n",
       "    </tr>\n",
       "    <tr>\n",
       "      <th>bat_hand_cd</th>\n",
       "      <th>pit_hand_cd</th>\n",
       "      <th></th>\n",
       "      <th></th>\n",
       "      <th></th>\n",
       "      <th></th>\n",
       "      <th></th>\n",
       "      <th></th>\n",
       "      <th></th>\n",
       "      <th></th>\n",
       "      <th></th>\n",
       "      <th></th>\n",
       "      <th></th>\n",
       "      <th></th>\n",
       "      <th></th>\n",
       "      <th></th>\n",
       "      <th></th>\n",
       "      <th></th>\n",
       "    </tr>\n",
       "  </thead>\n",
       "  <tbody>\n",
       "    <tr>\n",
       "      <th>?</th>\n",
       "      <th>B</th>\n",
       "      <td>1</td>\n",
       "      <td>0</td>\n",
       "      <td>1</td>\n",
       "      <td>0</td>\n",
       "      <td>0.0</td>\n",
       "      <td>0</td>\n",
       "      <td>0</td>\n",
       "      <td>0</td>\n",
       "      <td>0</td>\n",
       "      <td>0.000000</td>\n",
       "      <td>0.000000</td>\n",
       "      <td>0.000000</td>\n",
       "      <td>0.000000</td>\n",
       "      <td>0.000000</td>\n",
       "      <td>0.000000</td>\n",
       "      <td>0.000000</td>\n",
       "    </tr>\n",
       "    <tr>\n",
       "      <th rowspan=\"2\" valign=\"top\">L</th>\n",
       "      <th>L</th>\n",
       "      <td>75946</td>\n",
       "      <td>23215</td>\n",
       "      <td>68022</td>\n",
       "      <td>16311</td>\n",
       "      <td>25349.0</td>\n",
       "      <td>17622</td>\n",
       "      <td>5819</td>\n",
       "      <td>91</td>\n",
       "      <td>1813</td>\n",
       "      <td>0.239790</td>\n",
       "      <td>0.305678</td>\n",
       "      <td>0.372659</td>\n",
       "      <td>0.292491</td>\n",
       "      <td>0.232033</td>\n",
       "      <td>0.076620</td>\n",
       "      <td>0.023872</td>\n",
       "    </tr>\n",
       "    <tr>\n",
       "      <th>R</th>\n",
       "      <td>335622</td>\n",
       "      <td>108312</td>\n",
       "      <td>297413</td>\n",
       "      <td>75858</td>\n",
       "      <td>127500.0</td>\n",
       "      <td>69444</td>\n",
       "      <td>29655</td>\n",
       "      <td>2301</td>\n",
       "      <td>10760</td>\n",
       "      <td>0.255059</td>\n",
       "      <td>0.322720</td>\n",
       "      <td>0.428697</td>\n",
       "      <td>0.317005</td>\n",
       "      <td>0.206911</td>\n",
       "      <td>0.088358</td>\n",
       "      <td>0.032060</td>\n",
       "    </tr>\n",
       "    <tr>\n",
       "      <th rowspan=\"2\" valign=\"top\">R</th>\n",
       "      <th>L</th>\n",
       "      <td>191473</td>\n",
       "      <td>61318</td>\n",
       "      <td>171048</td>\n",
       "      <td>44279</td>\n",
       "      <td>73881.0</td>\n",
       "      <td>40912</td>\n",
       "      <td>15581</td>\n",
       "      <td>1190</td>\n",
       "      <td>6358</td>\n",
       "      <td>0.258869</td>\n",
       "      <td>0.320244</td>\n",
       "      <td>0.431931</td>\n",
       "      <td>0.316619</td>\n",
       "      <td>0.213670</td>\n",
       "      <td>0.081374</td>\n",
       "      <td>0.033206</td>\n",
       "    </tr>\n",
       "    <tr>\n",
       "      <th>R</th>\n",
       "      <td>388623</td>\n",
       "      <td>118917</td>\n",
       "      <td>351245</td>\n",
       "      <td>87645</td>\n",
       "      <td>144701.0</td>\n",
       "      <td>88170</td>\n",
       "      <td>26871</td>\n",
       "      <td>1155</td>\n",
       "      <td>12358</td>\n",
       "      <td>0.249527</td>\n",
       "      <td>0.305996</td>\n",
       "      <td>0.411966</td>\n",
       "      <td>0.304032</td>\n",
       "      <td>0.226878</td>\n",
       "      <td>0.069144</td>\n",
       "      <td>0.031799</td>\n",
       "    </tr>\n",
       "  </tbody>\n",
       "</table>\n",
       "</div>"
      ],
      "text/plain": [
       "                             pa      ob      ab      h        tb      k  \\\n",
       "bat_hand_cd pit_hand_cd                                                   \n",
       "?           B                 1       0       1      0       0.0      0   \n",
       "L           L             75946   23215   68022  16311   25349.0  17622   \n",
       "            R            335622  108312  297413  75858  127500.0  69444   \n",
       "R           L            191473   61318  171048  44279   73881.0  40912   \n",
       "            R            388623  118917  351245  87645  144701.0  88170   \n",
       "\n",
       "                            bb   ibb     hr        ba       obp       slg  \\\n",
       "bat_hand_cd pit_hand_cd                                                     \n",
       "?           B                0     0      0  0.000000  0.000000  0.000000   \n",
       "L           L             5819    91   1813  0.239790  0.305678  0.372659   \n",
       "            R            29655  2301  10760  0.255059  0.322720  0.428697   \n",
       "R           L            15581  1190   6358  0.258869  0.320244  0.431931   \n",
       "            R            26871  1155  12358  0.249527  0.305996  0.411966   \n",
       "\n",
       "                             woba        k%       bb%       hr%  \n",
       "bat_hand_cd pit_hand_cd                                          \n",
       "?           B            0.000000  0.000000  0.000000  0.000000  \n",
       "L           L            0.292491  0.232033  0.076620  0.023872  \n",
       "            R            0.317005  0.206911  0.088358  0.032060  \n",
       "R           L            0.316619  0.213670  0.081374  0.033206  \n",
       "            R            0.304032  0.226878  0.069144  0.031799  "
      ]
     },
     "execution_count": 4,
     "metadata": {},
     "output_type": "execute_result"
    }
   ],
   "source": [
    "utils.summarize_events(pa, ['bat_hand_cd', 'pit_hand_cd'])"
   ]
  },
  {
   "cell_type": "code",
   "execution_count": 5,
   "id": "little-reliance",
   "metadata": {
    "ExecuteTime": {
     "end_time": "2021-05-12T01:26:46.191857Z",
     "start_time": "2021-05-12T01:26:45.988256Z"
    }
   },
   "outputs": [
    {
     "data": {
      "text/html": [
       "<div>\n",
       "<style scoped>\n",
       "    .dataframe tbody tr th:only-of-type {\n",
       "        vertical-align: middle;\n",
       "    }\n",
       "\n",
       "    .dataframe tbody tr th {\n",
       "        vertical-align: top;\n",
       "    }\n",
       "\n",
       "    .dataframe thead th {\n",
       "        text-align: right;\n",
       "    }\n",
       "</style>\n",
       "<table border=\"1\" class=\"dataframe\">\n",
       "  <thead>\n",
       "    <tr style=\"text-align: right;\">\n",
       "      <th></th>\n",
       "      <th></th>\n",
       "      <th></th>\n",
       "      <th>pa</th>\n",
       "      <th>ob</th>\n",
       "      <th>ab</th>\n",
       "      <th>h</th>\n",
       "      <th>tb</th>\n",
       "      <th>k</th>\n",
       "      <th>bb</th>\n",
       "      <th>ibb</th>\n",
       "      <th>hr</th>\n",
       "      <th>ba</th>\n",
       "      <th>obp</th>\n",
       "      <th>slg</th>\n",
       "      <th>woba</th>\n",
       "      <th>k%</th>\n",
       "      <th>bb%</th>\n",
       "      <th>hr%</th>\n",
       "    </tr>\n",
       "    <tr>\n",
       "      <th>bat_id</th>\n",
       "      <th>bat_hand_cd</th>\n",
       "      <th>pit_hand_cd</th>\n",
       "      <th></th>\n",
       "      <th></th>\n",
       "      <th></th>\n",
       "      <th></th>\n",
       "      <th></th>\n",
       "      <th></th>\n",
       "      <th></th>\n",
       "      <th></th>\n",
       "      <th></th>\n",
       "      <th></th>\n",
       "      <th></th>\n",
       "      <th></th>\n",
       "      <th></th>\n",
       "      <th></th>\n",
       "      <th></th>\n",
       "      <th></th>\n",
       "    </tr>\n",
       "  </thead>\n",
       "  <tbody>\n",
       "    <tr>\n",
       "      <th>aardd001</th>\n",
       "      <th>R</th>\n",
       "      <th>R</th>\n",
       "      <td>1</td>\n",
       "      <td>0</td>\n",
       "      <td>1</td>\n",
       "      <td>0</td>\n",
       "      <td>0</td>\n",
       "      <td>1</td>\n",
       "      <td>0</td>\n",
       "      <td>0</td>\n",
       "      <td>0</td>\n",
       "      <td>0.000000</td>\n",
       "      <td>0.000000</td>\n",
       "      <td>0.000000</td>\n",
       "      <td>0.000000</td>\n",
       "      <td>1.000000</td>\n",
       "      <td>0.000000</td>\n",
       "      <td>0.000000</td>\n",
       "    </tr>\n",
       "    <tr>\n",
       "      <th>abadf001</th>\n",
       "      <th>L</th>\n",
       "      <th>R</th>\n",
       "      <td>1</td>\n",
       "      <td>0</td>\n",
       "      <td>1</td>\n",
       "      <td>0</td>\n",
       "      <td>0</td>\n",
       "      <td>1</td>\n",
       "      <td>0</td>\n",
       "      <td>0</td>\n",
       "      <td>0</td>\n",
       "      <td>0.000000</td>\n",
       "      <td>0.000000</td>\n",
       "      <td>0.000000</td>\n",
       "      <td>0.000000</td>\n",
       "      <td>1.000000</td>\n",
       "      <td>0.000000</td>\n",
       "      <td>0.000000</td>\n",
       "    </tr>\n",
       "    <tr>\n",
       "      <th rowspan=\"2\" valign=\"top\">abrej003</th>\n",
       "      <th rowspan=\"2\" valign=\"top\">R</th>\n",
       "      <th>L</th>\n",
       "      <td>819</td>\n",
       "      <td>291</td>\n",
       "      <td>733</td>\n",
       "      <td>220</td>\n",
       "      <td>388</td>\n",
       "      <td>163</td>\n",
       "      <td>55</td>\n",
       "      <td>8</td>\n",
       "      <td>39</td>\n",
       "      <td>0.300136</td>\n",
       "      <td>0.355311</td>\n",
       "      <td>0.529332</td>\n",
       "      <td>0.365014</td>\n",
       "      <td>0.199023</td>\n",
       "      <td>0.067155</td>\n",
       "      <td>0.047619</td>\n",
       "    </tr>\n",
       "    <tr>\n",
       "      <th>R</th>\n",
       "      <td>2727</td>\n",
       "      <td>895</td>\n",
       "      <td>2498</td>\n",
       "      <td>718</td>\n",
       "      <td>1258</td>\n",
       "      <td>541</td>\n",
       "      <td>121</td>\n",
       "      <td>28</td>\n",
       "      <td>123</td>\n",
       "      <td>0.287430</td>\n",
       "      <td>0.328199</td>\n",
       "      <td>0.503603</td>\n",
       "      <td>0.342095</td>\n",
       "      <td>0.198387</td>\n",
       "      <td>0.044371</td>\n",
       "      <td>0.045105</td>\n",
       "    </tr>\n",
       "    <tr>\n",
       "      <th>ackld001</th>\n",
       "      <th>L</th>\n",
       "      <th>L</th>\n",
       "      <td>42</td>\n",
       "      <td>10</td>\n",
       "      <td>35</td>\n",
       "      <td>5</td>\n",
       "      <td>6</td>\n",
       "      <td>12</td>\n",
       "      <td>5</td>\n",
       "      <td>0</td>\n",
       "      <td>0</td>\n",
       "      <td>0.142857</td>\n",
       "      <td>0.238095</td>\n",
       "      <td>0.171429</td>\n",
       "      <td>0.195000</td>\n",
       "      <td>0.285714</td>\n",
       "      <td>0.119048</td>\n",
       "      <td>0.000000</td>\n",
       "    </tr>\n",
       "    <tr>\n",
       "      <th>...</th>\n",
       "      <th>...</th>\n",
       "      <th>...</th>\n",
       "      <td>...</td>\n",
       "      <td>...</td>\n",
       "      <td>...</td>\n",
       "      <td>...</td>\n",
       "      <td>...</td>\n",
       "      <td>...</td>\n",
       "      <td>...</td>\n",
       "      <td>...</td>\n",
       "      <td>...</td>\n",
       "      <td>...</td>\n",
       "      <td>...</td>\n",
       "      <td>...</td>\n",
       "      <td>...</td>\n",
       "      <td>...</td>\n",
       "      <td>...</td>\n",
       "      <td>...</td>\n",
       "    </tr>\n",
       "    <tr>\n",
       "      <th rowspan=\"3\" valign=\"top\">zobrb001</th>\n",
       "      <th>L</th>\n",
       "      <th>R</th>\n",
       "      <td>1729</td>\n",
       "      <td>614</td>\n",
       "      <td>1484</td>\n",
       "      <td>394</td>\n",
       "      <td>626</td>\n",
       "      <td>210</td>\n",
       "      <td>214</td>\n",
       "      <td>6</td>\n",
       "      <td>45</td>\n",
       "      <td>0.265499</td>\n",
       "      <td>0.355119</td>\n",
       "      <td>0.421833</td>\n",
       "      <td>0.334124</td>\n",
       "      <td>0.121457</td>\n",
       "      <td>0.123771</td>\n",
       "      <td>0.026027</td>\n",
       "    </tr>\n",
       "    <tr>\n",
       "      <th rowspan=\"2\" valign=\"top\">R</th>\n",
       "      <th>L</th>\n",
       "      <td>625</td>\n",
       "      <td>224</td>\n",
       "      <td>542</td>\n",
       "      <td>156</td>\n",
       "      <td>227</td>\n",
       "      <td>83</td>\n",
       "      <td>64</td>\n",
       "      <td>6</td>\n",
       "      <td>8</td>\n",
       "      <td>0.287823</td>\n",
       "      <td>0.358400</td>\n",
       "      <td>0.418819</td>\n",
       "      <td>0.329994</td>\n",
       "      <td>0.132800</td>\n",
       "      <td>0.102400</td>\n",
       "      <td>0.012800</td>\n",
       "    </tr>\n",
       "    <tr>\n",
       "      <th>R</th>\n",
       "      <td>4</td>\n",
       "      <td>0</td>\n",
       "      <td>4</td>\n",
       "      <td>0</td>\n",
       "      <td>0</td>\n",
       "      <td>0</td>\n",
       "      <td>0</td>\n",
       "      <td>0</td>\n",
       "      <td>0</td>\n",
       "      <td>0.000000</td>\n",
       "      <td>0.000000</td>\n",
       "      <td>0.000000</td>\n",
       "      <td>0.000000</td>\n",
       "      <td>0.000000</td>\n",
       "      <td>0.000000</td>\n",
       "      <td>0.000000</td>\n",
       "    </tr>\n",
       "    <tr>\n",
       "      <th rowspan=\"2\" valign=\"top\">zunim001</th>\n",
       "      <th rowspan=\"2\" valign=\"top\">R</th>\n",
       "      <th>L</th>\n",
       "      <td>522</td>\n",
       "      <td>138</td>\n",
       "      <td>466</td>\n",
       "      <td>87</td>\n",
       "      <td>163</td>\n",
       "      <td>185</td>\n",
       "      <td>48</td>\n",
       "      <td>0</td>\n",
       "      <td>21</td>\n",
       "      <td>0.186695</td>\n",
       "      <td>0.264368</td>\n",
       "      <td>0.349785</td>\n",
       "      <td>0.266123</td>\n",
       "      <td>0.354406</td>\n",
       "      <td>0.091954</td>\n",
       "      <td>0.040230</td>\n",
       "    </tr>\n",
       "    <tr>\n",
       "      <th>R</th>\n",
       "      <td>1269</td>\n",
       "      <td>346</td>\n",
       "      <td>1149</td>\n",
       "      <td>235</td>\n",
       "      <td>479</td>\n",
       "      <td>457</td>\n",
       "      <td>83</td>\n",
       "      <td>0</td>\n",
       "      <td>60</td>\n",
       "      <td>0.204526</td>\n",
       "      <td>0.272656</td>\n",
       "      <td>0.416884</td>\n",
       "      <td>0.292177</td>\n",
       "      <td>0.360126</td>\n",
       "      <td>0.065406</td>\n",
       "      <td>0.047281</td>\n",
       "    </tr>\n",
       "  </tbody>\n",
       "</table>\n",
       "<p>3663 rows × 16 columns</p>\n",
       "</div>"
      ],
      "text/plain": [
       "                                    pa   ob    ab    h    tb    k   bb  ibb  \\\n",
       "bat_id   bat_hand_cd pit_hand_cd                                              \n",
       "aardd001 R           R               1    0     1    0     0    1    0    0   \n",
       "abadf001 L           R               1    0     1    0     0    1    0    0   \n",
       "abrej003 R           L             819  291   733  220   388  163   55    8   \n",
       "                     R            2727  895  2498  718  1258  541  121   28   \n",
       "ackld001 L           L              42   10    35    5     6   12    5    0   \n",
       "...                                ...  ...   ...  ...   ...  ...  ...  ...   \n",
       "zobrb001 L           R            1729  614  1484  394   626  210  214    6   \n",
       "         R           L             625  224   542  156   227   83   64    6   \n",
       "                     R               4    0     4    0     0    0    0    0   \n",
       "zunim001 R           L             522  138   466   87   163  185   48    0   \n",
       "                     R            1269  346  1149  235   479  457   83    0   \n",
       "\n",
       "                                   hr        ba       obp       slg      woba  \\\n",
       "bat_id   bat_hand_cd pit_hand_cd                                                \n",
       "aardd001 R           R              0  0.000000  0.000000  0.000000  0.000000   \n",
       "abadf001 L           R              0  0.000000  0.000000  0.000000  0.000000   \n",
       "abrej003 R           L             39  0.300136  0.355311  0.529332  0.365014   \n",
       "                     R            123  0.287430  0.328199  0.503603  0.342095   \n",
       "ackld001 L           L              0  0.142857  0.238095  0.171429  0.195000   \n",
       "...                               ...       ...       ...       ...       ...   \n",
       "zobrb001 L           R             45  0.265499  0.355119  0.421833  0.334124   \n",
       "         R           L              8  0.287823  0.358400  0.418819  0.329994   \n",
       "                     R              0  0.000000  0.000000  0.000000  0.000000   \n",
       "zunim001 R           L             21  0.186695  0.264368  0.349785  0.266123   \n",
       "                     R             60  0.204526  0.272656  0.416884  0.292177   \n",
       "\n",
       "                                        k%       bb%       hr%  \n",
       "bat_id   bat_hand_cd pit_hand_cd                                \n",
       "aardd001 R           R            1.000000  0.000000  0.000000  \n",
       "abadf001 L           R            1.000000  0.000000  0.000000  \n",
       "abrej003 R           L            0.199023  0.067155  0.047619  \n",
       "                     R            0.198387  0.044371  0.045105  \n",
       "ackld001 L           L            0.285714  0.119048  0.000000  \n",
       "...                                    ...       ...       ...  \n",
       "zobrb001 L           R            0.121457  0.123771  0.026027  \n",
       "         R           L            0.132800  0.102400  0.012800  \n",
       "                     R            0.000000  0.000000  0.000000  \n",
       "zunim001 R           L            0.354406  0.091954  0.040230  \n",
       "                     R            0.360126  0.065406  0.047281  \n",
       "\n",
       "[3663 rows x 16 columns]"
      ]
     },
     "execution_count": 5,
     "metadata": {},
     "output_type": "execute_result"
    }
   ],
   "source": [
    "utils.summarize_events(pa, ['bat_id', 'bat_hand_cd', 'pit_hand_cd'])"
   ]
  },
  {
   "cell_type": "markdown",
   "id": "contained-salon",
   "metadata": {},
   "source": [
    "What to examine:\n",
    "* Platoon split (difference in wOBA vs LHP and vs RHP)\n",
    "* Look at LHB, RHB, SH separately\n",
    "* Predict later years from earlier\n",
    " * Start with basic split, e.g. X=2015-2017; Y=2018-20\n",
    " * Then move up to more complex (e.g., use consecutive years, or career going into each year)\n",
    "* Validate a simple heuristic: which is a better prediction: batter's existing split, or standard split?\n",
    "* Then attempt to predict future split.  How to work in playing time?  Regression?"
   ]
  },
  {
   "cell_type": "code",
   "execution_count": 6,
   "id": "opponent-treasury",
   "metadata": {
    "ExecuteTime": {
     "end_time": "2021-05-12T01:26:46.279256Z",
     "start_time": "2021-05-12T01:26:46.193035Z"
    }
   },
   "outputs": [
    {
     "data": {
      "text/plain": [
       "X    553503\n",
       "Y    438162\n",
       "Name: XY, dtype: int64"
      ]
     },
     "execution_count": 6,
     "metadata": {},
     "output_type": "execute_result"
    }
   ],
   "source": [
    "# Define X and Y\n",
    "\n",
    "pa['XY'] = np.where(pa['yr']>=2018, 'Y', 'X')\n",
    "pa['XY'].value_counts()"
   ]
  },
  {
   "cell_type": "code",
   "execution_count": 7,
   "id": "isolated-passport",
   "metadata": {
    "ExecuteTime": {
     "end_time": "2021-05-12T01:31:23.312584Z",
     "start_time": "2021-05-12T01:31:23.075930Z"
    }
   },
   "outputs": [],
   "source": [
    "\n",
    "pa_rhb = pa[pa['bat_hand_cd']=='R']\n",
    "pa_lhb = pa[pa['bat_hand_cd']=='L']\n"
   ]
  },
  {
   "cell_type": "code",
   "execution_count": 8,
   "id": "regular-thermal",
   "metadata": {
    "ExecuteTime": {
     "end_time": "2021-05-12T01:28:17.929262Z",
     "start_time": "2021-05-12T01:28:17.821534Z"
    }
   },
   "outputs": [
    {
     "data": {
      "text/html": [
       "<div>\n",
       "<style scoped>\n",
       "    .dataframe tbody tr th:only-of-type {\n",
       "        vertical-align: middle;\n",
       "    }\n",
       "\n",
       "    .dataframe tbody tr th {\n",
       "        vertical-align: top;\n",
       "    }\n",
       "\n",
       "    .dataframe thead th {\n",
       "        text-align: right;\n",
       "    }\n",
       "</style>\n",
       "<table border=\"1\" class=\"dataframe\">\n",
       "  <thead>\n",
       "    <tr style=\"text-align: right;\">\n",
       "      <th></th>\n",
       "      <th></th>\n",
       "      <th></th>\n",
       "      <th>pa</th>\n",
       "      <th>woba</th>\n",
       "    </tr>\n",
       "    <tr>\n",
       "      <th>bat_id</th>\n",
       "      <th>pit_hand_cd</th>\n",
       "      <th>XY</th>\n",
       "      <th></th>\n",
       "      <th></th>\n",
       "    </tr>\n",
       "  </thead>\n",
       "  <tbody>\n",
       "    <tr>\n",
       "      <th>abadf001</th>\n",
       "      <th>R</th>\n",
       "      <th>X</th>\n",
       "      <td>1</td>\n",
       "      <td>0.000000</td>\n",
       "    </tr>\n",
       "    <tr>\n",
       "      <th rowspan=\"2\" valign=\"top\">ackld001</th>\n",
       "      <th>L</th>\n",
       "      <th>X</th>\n",
       "      <td>42</td>\n",
       "      <td>0.195000</td>\n",
       "    </tr>\n",
       "    <tr>\n",
       "      <th>R</th>\n",
       "      <th>X</th>\n",
       "      <td>292</td>\n",
       "      <td>0.285349</td>\n",
       "    </tr>\n",
       "    <tr>\n",
       "      <th rowspan=\"2\" valign=\"top\">adamc001</th>\n",
       "      <th rowspan=\"2\" valign=\"top\">R</th>\n",
       "      <th>X</th>\n",
       "      <td>219</td>\n",
       "      <td>0.256338</td>\n",
       "    </tr>\n",
       "    <tr>\n",
       "      <th>Y</th>\n",
       "      <td>14</td>\n",
       "      <td>0.358000</td>\n",
       "    </tr>\n",
       "    <tr>\n",
       "      <th>...</th>\n",
       "      <th>...</th>\n",
       "      <th>...</th>\n",
       "      <td>...</td>\n",
       "      <td>...</td>\n",
       "    </tr>\n",
       "    <tr>\n",
       "      <th rowspan=\"3\" valign=\"top\">zimmb001</th>\n",
       "      <th>L</th>\n",
       "      <th>Y</th>\n",
       "      <td>45</td>\n",
       "      <td>0.257600</td>\n",
       "    </tr>\n",
       "    <tr>\n",
       "      <th rowspan=\"2\" valign=\"top\">R</th>\n",
       "      <th>X</th>\n",
       "      <td>252</td>\n",
       "      <td>0.301522</td>\n",
       "    </tr>\n",
       "    <tr>\n",
       "      <th>Y</th>\n",
       "      <td>133</td>\n",
       "      <td>0.257068</td>\n",
       "    </tr>\n",
       "    <tr>\n",
       "      <th rowspan=\"2\" valign=\"top\">zobrb001</th>\n",
       "      <th rowspan=\"2\" valign=\"top\">R</th>\n",
       "      <th>X</th>\n",
       "      <td>1196</td>\n",
       "      <td>0.331928</td>\n",
       "    </tr>\n",
       "    <tr>\n",
       "      <th>Y</th>\n",
       "      <td>533</td>\n",
       "      <td>0.339041</td>\n",
       "    </tr>\n",
       "  </tbody>\n",
       "</table>\n",
       "<p>1742 rows × 2 columns</p>\n",
       "</div>"
      ],
      "text/plain": [
       "                           pa      woba\n",
       "bat_id   pit_hand_cd XY                \n",
       "abadf001 R           X      1  0.000000\n",
       "ackld001 L           X     42  0.195000\n",
       "         R           X    292  0.285349\n",
       "adamc001 R           X    219  0.256338\n",
       "                     Y     14  0.358000\n",
       "...                       ...       ...\n",
       "zimmb001 L           Y     45  0.257600\n",
       "         R           X    252  0.301522\n",
       "                     Y    133  0.257068\n",
       "zobrb001 R           X   1196  0.331928\n",
       "                     Y    533  0.339041\n",
       "\n",
       "[1742 rows x 2 columns]"
      ]
     },
     "execution_count": 8,
     "metadata": {},
     "output_type": "execute_result"
    }
   ],
   "source": [
    "# Compute each player's platoon split in the X and Y samples\n",
    "bat_splits = utils.summarize_events(pa_lhb, ['bat_id', 'pit_hand_cd', 'XY'])[['pa', 'woba']]\n",
    "bat_splits"
   ]
  },
  {
   "cell_type": "code",
   "execution_count": 9,
   "id": "opposed-peeing",
   "metadata": {
    "ExecuteTime": {
     "end_time": "2021-05-12T01:28:34.205215Z",
     "start_time": "2021-05-12T01:28:34.195132Z"
    }
   },
   "outputs": [
    {
     "data": {
      "text/plain": [
       "71"
      ]
     },
     "execution_count": 9,
     "metadata": {},
     "output_type": "execute_result"
    }
   ],
   "source": [
    "# let's start with everyone with at least 10 PA against both hands and in both samples\n",
    "QUAL_PA = 100\n",
    "qual = (bat_splits['pa']>=QUAL_PA).groupby('bat_id').sum()>=4\n",
    "qual_bat = qual[qual==True].index\n",
    "len(qual_bat)"
   ]
  },
  {
   "cell_type": "code",
   "execution_count": 10,
   "id": "collect-password",
   "metadata": {
    "ExecuteTime": {
     "end_time": "2021-05-12T01:28:44.827798Z",
     "start_time": "2021-05-12T01:28:44.721721Z"
    }
   },
   "outputs": [
    {
     "data": {
      "text/html": [
       "<div>\n",
       "<style scoped>\n",
       "    .dataframe tbody tr th:only-of-type {\n",
       "        vertical-align: middle;\n",
       "    }\n",
       "\n",
       "    .dataframe tbody tr th {\n",
       "        vertical-align: top;\n",
       "    }\n",
       "\n",
       "    .dataframe thead th {\n",
       "        text-align: right;\n",
       "    }\n",
       "</style>\n",
       "<table border=\"1\" class=\"dataframe\">\n",
       "  <thead>\n",
       "    <tr style=\"text-align: right;\">\n",
       "      <th></th>\n",
       "      <th></th>\n",
       "      <th></th>\n",
       "      <th>pa</th>\n",
       "      <th>woba</th>\n",
       "    </tr>\n",
       "    <tr>\n",
       "      <th>bat_id</th>\n",
       "      <th>pit_hand_cd</th>\n",
       "      <th>XY</th>\n",
       "      <th></th>\n",
       "      <th></th>\n",
       "    </tr>\n",
       "  </thead>\n",
       "  <tbody>\n",
       "    <tr>\n",
       "      <th rowspan=\"4\" valign=\"top\">adamm002</th>\n",
       "      <th rowspan=\"2\" valign=\"top\">L</th>\n",
       "      <th>X</th>\n",
       "      <td>140</td>\n",
       "      <td>0.272071</td>\n",
       "    </tr>\n",
       "    <tr>\n",
       "      <th>Y</th>\n",
       "      <td>109</td>\n",
       "      <td>0.290587</td>\n",
       "    </tr>\n",
       "    <tr>\n",
       "      <th rowspan=\"2\" valign=\"top\">R</th>\n",
       "      <th>X</th>\n",
       "      <td>740</td>\n",
       "      <td>0.326660</td>\n",
       "    </tr>\n",
       "    <tr>\n",
       "      <th>Y</th>\n",
       "      <td>612</td>\n",
       "      <td>0.311997</td>\n",
       "    </tr>\n",
       "    <tr>\n",
       "      <th>alony001</th>\n",
       "      <th>L</th>\n",
       "      <th>X</th>\n",
       "      <td>240</td>\n",
       "      <td>0.285767</td>\n",
       "    </tr>\n",
       "    <tr>\n",
       "      <th>...</th>\n",
       "      <th>...</th>\n",
       "      <th>...</th>\n",
       "      <td>...</td>\n",
       "      <td>...</td>\n",
       "    </tr>\n",
       "    <tr>\n",
       "      <th>wongk001</th>\n",
       "      <th>R</th>\n",
       "      <th>Y</th>\n",
       "      <td>910</td>\n",
       "      <td>0.318104</td>\n",
       "    </tr>\n",
       "    <tr>\n",
       "      <th rowspan=\"4\" valign=\"top\">yelic001</th>\n",
       "      <th rowspan=\"2\" valign=\"top\">L</th>\n",
       "      <th>X</th>\n",
       "      <td>478</td>\n",
       "      <td>0.310209</td>\n",
       "    </tr>\n",
       "    <tr>\n",
       "      <th>Y</th>\n",
       "      <td>466</td>\n",
       "      <td>0.396742</td>\n",
       "    </tr>\n",
       "    <tr>\n",
       "      <th rowspan=\"2\" valign=\"top\">R</th>\n",
       "      <th>X</th>\n",
       "      <td>1401</td>\n",
       "      <td>0.358441</td>\n",
       "    </tr>\n",
       "    <tr>\n",
       "      <th>Y</th>\n",
       "      <td>1011</td>\n",
       "      <td>0.409558</td>\n",
       "    </tr>\n",
       "  </tbody>\n",
       "</table>\n",
       "<p>284 rows × 2 columns</p>\n",
       "</div>"
      ],
      "text/plain": [
       "                           pa      woba\n",
       "bat_id   pit_hand_cd XY                \n",
       "adamm002 L           X    140  0.272071\n",
       "                     Y    109  0.290587\n",
       "         R           X    740  0.326660\n",
       "                     Y    612  0.311997\n",
       "alony001 L           X    240  0.285767\n",
       "...                       ...       ...\n",
       "wongk001 R           Y    910  0.318104\n",
       "yelic001 L           X    478  0.310209\n",
       "                     Y    466  0.396742\n",
       "         R           X   1401  0.358441\n",
       "                     Y   1011  0.409558\n",
       "\n",
       "[284 rows x 2 columns]"
      ]
     },
     "execution_count": 10,
     "metadata": {},
     "output_type": "execute_result"
    }
   ],
   "source": [
    "pa_qual = pa[pa['bat_id'].isin(qual_bat)]\n",
    "splits_qual = utils.summarize_events(pa_qual, ['bat_id', 'pit_hand_cd', 'XY'])[['pa', 'woba']]\n",
    "splits_qual"
   ]
  },
  {
   "cell_type": "code",
   "execution_count": 11,
   "id": "small-serbia",
   "metadata": {
    "ExecuteTime": {
     "end_time": "2021-05-12T01:29:02.763394Z",
     "start_time": "2021-05-12T01:29:02.735454Z"
    }
   },
   "outputs": [
    {
     "data": {
      "text/html": [
       "<div>\n",
       "<style scoped>\n",
       "    .dataframe tbody tr th:only-of-type {\n",
       "        vertical-align: middle;\n",
       "    }\n",
       "\n",
       "    .dataframe tbody tr th {\n",
       "        vertical-align: top;\n",
       "    }\n",
       "\n",
       "    .dataframe thead tr th {\n",
       "        text-align: left;\n",
       "    }\n",
       "\n",
       "    .dataframe thead tr:last-of-type th {\n",
       "        text-align: right;\n",
       "    }\n",
       "</style>\n",
       "<table border=\"1\" class=\"dataframe\">\n",
       "  <thead>\n",
       "    <tr>\n",
       "      <th></th>\n",
       "      <th></th>\n",
       "      <th colspan=\"2\" halign=\"left\">pa</th>\n",
       "      <th colspan=\"2\" halign=\"left\">woba</th>\n",
       "    </tr>\n",
       "    <tr>\n",
       "      <th></th>\n",
       "      <th>pit_hand_cd</th>\n",
       "      <th>L</th>\n",
       "      <th>R</th>\n",
       "      <th>L</th>\n",
       "      <th>R</th>\n",
       "    </tr>\n",
       "    <tr>\n",
       "      <th>bat_id</th>\n",
       "      <th>XY</th>\n",
       "      <th></th>\n",
       "      <th></th>\n",
       "      <th></th>\n",
       "      <th></th>\n",
       "    </tr>\n",
       "  </thead>\n",
       "  <tbody>\n",
       "    <tr>\n",
       "      <th rowspan=\"2\" valign=\"top\">adamm002</th>\n",
       "      <th>X</th>\n",
       "      <td>140</td>\n",
       "      <td>740</td>\n",
       "      <td>0.272071</td>\n",
       "      <td>0.326660</td>\n",
       "    </tr>\n",
       "    <tr>\n",
       "      <th>Y</th>\n",
       "      <td>109</td>\n",
       "      <td>612</td>\n",
       "      <td>0.290587</td>\n",
       "      <td>0.311997</td>\n",
       "    </tr>\n",
       "    <tr>\n",
       "      <th rowspan=\"2\" valign=\"top\">alony001</th>\n",
       "      <th>X</th>\n",
       "      <td>240</td>\n",
       "      <td>1214</td>\n",
       "      <td>0.285767</td>\n",
       "      <td>0.330334</td>\n",
       "    </tr>\n",
       "    <tr>\n",
       "      <th>Y</th>\n",
       "      <td>209</td>\n",
       "      <td>700</td>\n",
       "      <td>0.299349</td>\n",
       "      <td>0.298092</td>\n",
       "    </tr>\n",
       "    <tr>\n",
       "      <th>bellc002</th>\n",
       "      <th>X</th>\n",
       "      <td>173</td>\n",
       "      <td>375</td>\n",
       "      <td>0.372578</td>\n",
       "      <td>0.356707</td>\n",
       "    </tr>\n",
       "    <tr>\n",
       "      <th>...</th>\n",
       "      <th>...</th>\n",
       "      <td>...</td>\n",
       "      <td>...</td>\n",
       "      <td>...</td>\n",
       "      <td>...</td>\n",
       "    </tr>\n",
       "    <tr>\n",
       "      <th>woltt001</th>\n",
       "      <th>Y</th>\n",
       "      <td>191</td>\n",
       "      <td>545</td>\n",
       "      <td>0.289598</td>\n",
       "      <td>0.258167</td>\n",
       "    </tr>\n",
       "    <tr>\n",
       "      <th rowspan=\"2\" valign=\"top\">wongk001</th>\n",
       "      <th>X</th>\n",
       "      <td>339</td>\n",
       "      <td>1046</td>\n",
       "      <td>0.264303</td>\n",
       "      <td>0.315710</td>\n",
       "    </tr>\n",
       "    <tr>\n",
       "      <th>Y</th>\n",
       "      <td>254</td>\n",
       "      <td>910</td>\n",
       "      <td>0.284885</td>\n",
       "      <td>0.318104</td>\n",
       "    </tr>\n",
       "    <tr>\n",
       "      <th rowspan=\"2\" valign=\"top\">yelic001</th>\n",
       "      <th>X</th>\n",
       "      <td>478</td>\n",
       "      <td>1401</td>\n",
       "      <td>0.310209</td>\n",
       "      <td>0.358441</td>\n",
       "    </tr>\n",
       "    <tr>\n",
       "      <th>Y</th>\n",
       "      <td>466</td>\n",
       "      <td>1011</td>\n",
       "      <td>0.396742</td>\n",
       "      <td>0.409558</td>\n",
       "    </tr>\n",
       "  </tbody>\n",
       "</table>\n",
       "<p>142 rows × 4 columns</p>\n",
       "</div>"
      ],
      "text/plain": [
       "              pa            woba          \n",
       "pit_hand_cd    L     R         L         R\n",
       "bat_id   XY                               \n",
       "adamm002 X   140   740  0.272071  0.326660\n",
       "         Y   109   612  0.290587  0.311997\n",
       "alony001 X   240  1214  0.285767  0.330334\n",
       "         Y   209   700  0.299349  0.298092\n",
       "bellc002 X   173   375  0.372578  0.356707\n",
       "...          ...   ...       ...       ...\n",
       "woltt001 Y   191   545  0.289598  0.258167\n",
       "wongk001 X   339  1046  0.264303  0.315710\n",
       "         Y   254   910  0.284885  0.318104\n",
       "yelic001 X   478  1401  0.310209  0.358441\n",
       "         Y   466  1011  0.396742  0.409558\n",
       "\n",
       "[142 rows x 4 columns]"
      ]
     },
     "execution_count": 11,
     "metadata": {},
     "output_type": "execute_result"
    }
   ],
   "source": [
    "bat_diff = splits_qual.unstack(level=1)\n",
    "bat_diff"
   ]
  },
  {
   "cell_type": "code",
   "execution_count": 12,
   "id": "short-jesus",
   "metadata": {
    "ExecuteTime": {
     "end_time": "2021-05-12T01:29:13.244919Z",
     "start_time": "2021-05-12T01:29:13.228543Z"
    }
   },
   "outputs": [
    {
     "data": {
      "text/plain": [
       "bat_id    XY\n",
       "adamm002  X    -0.054589\n",
       "          Y    -0.021410\n",
       "alony001  X    -0.044567\n",
       "          Y     0.001257\n",
       "bellc002  X     0.015871\n",
       "                  ...   \n",
       "woltt001  Y     0.031431\n",
       "wongk001  X    -0.051407\n",
       "          Y    -0.033219\n",
       "yelic001  X    -0.048232\n",
       "          Y    -0.012816\n",
       "Length: 142, dtype: float64"
      ]
     },
     "execution_count": 12,
     "metadata": {},
     "output_type": "execute_result"
    }
   ],
   "source": [
    "pl_splt = bat_diff['woba']['L']- bat_diff['woba']['R']\n",
    "pl_splt"
   ]
  },
  {
   "cell_type": "code",
   "execution_count": 13,
   "id": "seeing-carrier",
   "metadata": {
    "ExecuteTime": {
     "end_time": "2021-05-12T01:29:34.841112Z",
     "start_time": "2021-05-12T01:29:34.531313Z"
    }
   },
   "outputs": [
    {
     "data": {
      "text/plain": [
       "<AxesSubplot:>"
      ]
     },
     "execution_count": 13,
     "metadata": {},
     "output_type": "execute_result"
    },
    {
     "data": {
      "image/png": "[encoded data removed]",
      "text/plain": [
       "<Figure size 432x288 with 1 Axes>"
      ]
     },
     "metadata": {
      "needs_background": "light"
     },
     "output_type": "display_data"
    }
   ],
   "source": [
    "pl_splt.hist()"
   ]
  },
  {
   "cell_type": "code",
   "execution_count": 14,
   "id": "forward-vanilla",
   "metadata": {
    "ExecuteTime": {
     "end_time": "2021-05-12T01:30:19.456455Z",
     "start_time": "2021-05-12T01:30:19.344129Z"
    }
   },
   "outputs": [],
   "source": [
    "import plotly.express as px"
   ]
  },
  {
   "cell_type": "code",
   "execution_count": 15,
   "id": "educated-archives",
   "metadata": {
    "ExecuteTime": {
     "end_time": "2021-05-12T01:30:21.824255Z",
     "start_time": "2021-05-12T01:30:20.013230Z"
    }
   },
   "outputs": [
    {
     "data": {
      "application/vnd.plotly.v1+json": {
       "config": {
        "plotlyServerURL": "https://plot.ly"
       },
       "data": [
        {
         "hovertemplate": "<b>%{hovertext}</b><br><br>2015-17=%{x}<br>2018-20=%{y}<extra></extra>",
         "hovertext": [
          "adamm002",
          "alony001",
          "bellc002",
          "beltb001",
          "benia002",
          "blacc001",
          "bourj002",
          "bradj001",
          "branm003",
          "brucj001",
          "calhk001",
          "canor001",
          "carpm002",
          "choos001",
          "confm001",
          "crawb001",
          "davic003",
          "dickc002",
          "dietd001",
          "dudal001",
          "dysoj001",
          "eatoa002",
          "freef001",
          "gallj002",
          "gameb001",
          "gardb001",
          "genns001",
          "gonzc001",
          "gorda001",
          "gordd002",
          "gregd001",
          "harpb003",
          "herro001",
          "heywj001",
          "holtb002",
          "hosme001",
          "incie001",
          "jay-j001",
          "keplm001",
          "kierk001",
          "kipnj001",
          "lambj001",
          "markn001",
          "martl004",
          "mauej001",
          "mazan001",
          "morem001",
          "mousm001",
          "murpd006",
          "odorr001",
          "panij002",
          "parrg001",
          "pedej001",
          "perad001",
          "polag001",
          "reddj001",
          "rizza001",
          "rosae001",
          "sches001",
          "schwk001",
          "seagc001",
          "seagk001",
          "shawt001",
          "smitm007",
          "sogae001",
          "spand001",
          "thame001",
          "vottj001",
          "woltt001",
          "wongk001",
          "yelic001"
         ],
         "legendgroup": "",
         "marker": {
          "color": "#636efa",
          "symbol": "circle"
         },
         "mode": "markers",
         "name": "",
         "orientation": "v",
         "showlegend": false,
         "type": "scatter",
         "x": [
          -0.05458887156499703,
          -0.044567220376522665,
          0.015870852361638876,
          -0.011950634920634862,
          -0.07658290667204193,
          -0.02046082199881727,
          -0.05466078635660171,
          -0.010668453950437251,
          -0.03259077972843222,
          -0.044516182336182375,
          -0.010794290293881292,
          -0.06254090114893845,
          -0.052619764864309526,
          -0.016214089653707298,
          -0.11983165540971075,
          -0.014785503415633117,
          -0.04542736616045412,
          -0.027861527348474635,
          -0.046562589348635886,
          -0.02640211042463464,
          -0.04286702652710961,
          -0.05034403800204801,
          -0.03143342857389486,
          -0.02643660130718961,
          0.008783997547516853,
          -0.044020594845275596,
          -0.054435505872176215,
          -0.10505938468799603,
          0.01551301525911608,
          -0.01068896384075585,
          -0.017230401479133683,
          -0.03839137758942579,
          -0.025482691601995233,
          -0.028214862810975183,
          0.005891081274880694,
          -0.06256061223807768,
          -0.037840370225960374,
          0.015784367960859302,
          -0.10734728886162856,
          -0.025317941236691177,
          -0.049942830880394695,
          -0.09382228997530156,
          -0.03556160774941475,
          0.014754354417883087,
          -0.016272740742358127,
          -0.07231773487773491,
          -0.012713837931799699,
          -0.00729943678592504,
          -0.03517144324601956,
          -0.03219772470629717,
          -0.03296636794485136,
          -0.022087522176227115,
          -0.08774040467756805,
          -0.058128221501549726,
          -0.04816791974834034,
          -0.08889686440677969,
          -0.010664842681258502,
          -0.03258662959686587,
          -0.01978551766572756,
          -0.09728395757063735,
          -0.022693996265172656,
          -0.0034399983632661946,
          -0.016386143499498185,
          -0.1280547103274559,
          -0.021291759266164445,
          -0.09275097783572367,
          -0.09638884045335655,
          -0.0036012869128312364,
          -0.038883663366336696,
          -0.05140691311354384,
          -0.048232204037311044
         ],
         "xaxis": "x",
         "y": [
          -0.021409554563013078,
          0.001257328273662206,
          -0.040027997290584816,
          -0.06121830070407125,
          -0.027763142263142193,
          0.009227854529265167,
          -0.053919594720208186,
          -0.03843222012710379,
          -0.07601187565490747,
          -0.018064101279353317,
          -0.0128864934071109,
          -0.008945480155771013,
          -0.006102571275815261,
          -0.0803749050309231,
          -0.0278724965086668,
          0.00453057950452912,
          -0.032918458230958264,
          -0.03383893519621073,
          -0.03284324266207933,
          -0.10205698324022344,
          0.061990650607710446,
          -0.06368320241490305,
          -0.045639096501091325,
          0.02302285354079142,
          0.04181751748616763,
          -0.06762316482494773,
          -0.03458537981931542,
          -0.04490423597548654,
          -0.037054980092490974,
          -0.015642400279591906,
          -0.02264852360353581,
          0.031848649245288185,
          0.006866645326504439,
          -0.07017084507529597,
          -0.025660063340914474,
          -0.08894110252429802,
          -0.004218889760384814,
          -0.019041788638581247,
          -0.016675347658594408,
          0.001322283551490333,
          -0.04107579185520366,
          0.025680733162830316,
          -0.02205905361981686,
          -0.09332419435078215,
          0.022818252952055862,
          -0.035189898816177956,
          -0.0633401666666667,
          -0.007056483227100008,
          -0.017014667980383424,
          0.009623838162930665,
          -0.0027827141580492043,
          -0.06408155970087928,
          -0.13384634278049715,
          -0.06889398836457655,
          -0.013538865546218415,
          0.055836900456512795,
          -0.04867201739262228,
          -0.0336968837613999,
          0.018711796733212327,
          -0.03860867776518778,
          -0.059623698630137,
          0.031664106583072005,
          -0.0822528612732529,
          0.021810230224416305,
          0.049680784640857456,
          0.03668936917597698,
          -0.04276476522377104,
          -0.04029520938023451,
          0.03143121693121703,
          -0.03321883736623926,
          -0.012816367421965569
         ],
         "yaxis": "y"
        },
        {
         "hovertemplate": "<b>OLS trendline</b><br>Y = -0.0602533 * X + -0.026297<br>R<sup>2</sup>=0.002527<br><br>2015-17=%{x}<br>2018-20=%{y} <b>(trend)</b><extra></extra>",
         "legendgroup": "",
         "marker": {
          "color": "#636efa",
          "symbol": "circle"
         },
         "mode": "lines",
         "name": "",
         "showlegend": false,
         "type": "scatter",
         "x": [
          -0.1280547103274559,
          -0.11983165540971075,
          -0.10734728886162856,
          -0.10505938468799603,
          -0.09728395757063735,
          -0.09638884045335655,
          -0.09382228997530156,
          -0.09275097783572367,
          -0.08889686440677969,
          -0.08774040467756805,
          -0.07658290667204193,
          -0.07231773487773491,
          -0.06256061223807768,
          -0.06254090114893845,
          -0.058128221501549726,
          -0.05466078635660171,
          -0.05458887156499703,
          -0.054435505872176215,
          -0.052619764864309526,
          -0.05140691311354384,
          -0.05034403800204801,
          -0.049942830880394695,
          -0.048232204037311044,
          -0.04816791974834034,
          -0.046562589348635886,
          -0.04542736616045412,
          -0.044567220376522665,
          -0.044516182336182375,
          -0.044020594845275596,
          -0.04286702652710961,
          -0.038883663366336696,
          -0.03839137758942579,
          -0.037840370225960374,
          -0.03556160774941475,
          -0.03517144324601956,
          -0.03296636794485136,
          -0.03259077972843222,
          -0.03258662959686587,
          -0.03219772470629717,
          -0.03143342857389486,
          -0.028214862810975183,
          -0.027861527348474635,
          -0.02643660130718961,
          -0.02640211042463464,
          -0.025482691601995233,
          -0.025317941236691177,
          -0.022693996265172656,
          -0.022087522176227115,
          -0.021291759266164445,
          -0.02046082199881727,
          -0.01978551766572756,
          -0.017230401479133683,
          -0.016386143499498185,
          -0.016272740742358127,
          -0.016214089653707298,
          -0.014785503415633117,
          -0.012713837931799699,
          -0.011950634920634862,
          -0.010794290293881292,
          -0.01068896384075585,
          -0.010668453950437251,
          -0.010664842681258502,
          -0.00729943678592504,
          -0.0036012869128312364,
          -0.0034399983632661946,
          0.005891081274880694,
          0.008783997547516853,
          0.014754354417883087,
          0.01551301525911608,
          0.015784367960859302,
          0.015870852361638876
         ],
         "xaxis": "x",
         "y": [
          -0.0185812944752264,
          -0.01907676029633923,
          -0.019828984011818825,
          -0.019966837684371838,
          -0.020435332473685668,
          -0.020489266193202557,
          -0.02064390921246452,
          -0.020708459255509792,
          -0.02094068213299695,
          -0.021010362595434488,
          -0.021682638162869052,
          -0.021939628644678102,
          -0.022527527038731624,
          -0.022528714696002927,
          -0.02279459300603139,
          -0.02300351725844514,
          -0.02300785035868939,
          -0.0230170911408177,
          -0.023126495445956113,
          -0.023199573711222766,
          -0.02326361539586739,
          -0.023287789430694435,
          -0.02339086026530568,
          -0.023394733602932403,
          -0.023491459984137826,
          -0.023559860875862995,
          -0.02361168745872974,
          -0.023614762666765945,
          -0.02364462342600586,
          -0.02371412967151766,
          -0.023954140265996838,
          -0.023983802086222916,
          -0.024017002073151068,
          -0.024154304928702516,
          -0.02417781360984079,
          -0.02431067657325737,
          -0.024333306985666124,
          -0.024333557044599795,
          -0.0243569898299658,
          -0.02440304115938072,
          -0.024596970221570168,
          -0.02461825983313269,
          -0.02470411626460888,
          -0.024706194452535017,
          -0.02476159242889081,
          -0.024771519174588186,
          -0.024929620398874402,
          -0.024966162436531793,
          -0.02501410974171086,
          -0.025064176416392914,
          -0.025104865700271255,
          -0.025258819766259245,
          -0.025309689057209556,
          -0.025316521942401846,
          -0.025320055861375784,
          -0.0254061328316208,
          -0.025530957419354443,
          -0.025576942884657193,
          -0.025646616411797024,
          -0.025652962673387725,
          -0.02565419846102982,
          -0.025654416051750888,
          -0.025857192709816373,
          -0.026080018275472835,
          -0.026089736435505294,
          -0.026651964352140848,
          -0.026826271972699142,
          -0.027186005404945722,
          -0.027231717189727372,
          -0.02724806707313752,
          -0.027253278039752037
         ],
         "yaxis": "y"
        }
       ],
       "layout": {
        "legend": {
         "tracegroupgap": 0
        },
        "margin": {
         "t": 60
        },
        "template": {
         "data": {
          "bar": [
           {
            "error_x": {
             "color": "#2a3f5f"
            },
            "error_y": {
             "color": "#2a3f5f"
            },
            "marker": {
             "line": {
              "color": "#E5ECF6",
              "width": 0.5
             }
            },
            "type": "bar"
           }
          ],
          "barpolar": [
           {
            "marker": {
             "line": {
              "color": "#E5ECF6",
              "width": 0.5
             }
            },
            "type": "barpolar"
           }
          ],
          "carpet": [
           {
            "aaxis": {
             "endlinecolor": "#2a3f5f",
             "gridcolor": "white",
             "linecolor": "white",
             "minorgridcolor": "white",
             "startlinecolor": "#2a3f5f"
            },
            "baxis": {
             "endlinecolor": "#2a3f5f",
             "gridcolor": "white",
             "linecolor": "white",
             "minorgridcolor": "white",
             "startlinecolor": "#2a3f5f"
            },
            "type": "carpet"
           }
          ],
          "choropleth": [
           {
            "colorbar": {
             "outlinewidth": 0,
             "ticks": ""
            },
            "type": "choropleth"
           }
          ],
          "contour": [
           {
            "colorbar": {
             "outlinewidth": 0,
             "ticks": ""
            },
            "colorscale": [
             [
              0,
              "#0d0887"
             ],
             [
              0.1111111111111111,
              "#46039f"
             ],
             [
              0.2222222222222222,
              "#7201a8"
             ],
             [
              0.3333333333333333,
              "#9c179e"
             ],
             [
              0.4444444444444444,
              "#bd3786"
             ],
             [
              0.5555555555555556,
              "#d8576b"
             ],
             [
              0.6666666666666666,
              "#ed7953"
             ],
             [
              0.7777777777777778,
              "#fb9f3a"
             ],
             [
              0.8888888888888888,
              "#fdca26"
             ],
             [
              1,
              "#f0f921"
             ]
            ],
            "type": "contour"
           }
          ],
          "contourcarpet": [
           {
            "colorbar": {
             "outlinewidth": 0,
             "ticks": ""
            },
            "type": "contourcarpet"
           }
          ],
          "heatmap": [
           {
            "colorbar": {
             "outlinewidth": 0,
             "ticks": ""
            },
            "colorscale": [
             [
              0,
              "#0d0887"
             ],
             [
              0.1111111111111111,
              "#46039f"
             ],
             [
              0.2222222222222222,
              "#7201a8"
             ],
             [
              0.3333333333333333,
              "#9c179e"
             ],
             [
              0.4444444444444444,
              "#bd3786"
             ],
             [
              0.5555555555555556,
              "#d8576b"
             ],
             [
              0.6666666666666666,
              "#ed7953"
             ],
             [
              0.7777777777777778,
              "#fb9f3a"
             ],
             [
              0.8888888888888888,
              "#fdca26"
             ],
             [
              1,
              "#f0f921"
             ]
            ],
            "type": "heatmap"
           }
          ],
          "heatmapgl": [
           {
            "colorbar": {
             "outlinewidth": 0,
             "ticks": ""
            },
            "colorscale": [
             [
              0,
              "#0d0887"
             ],
             [
              0.1111111111111111,
              "#46039f"
             ],
             [
              0.2222222222222222,
              "#7201a8"
             ],
             [
              0.3333333333333333,
              "#9c179e"
             ],
             [
              0.4444444444444444,
              "#bd3786"
             ],
             [
              0.5555555555555556,
              "#d8576b"
             ],
             [
              0.6666666666666666,
              "#ed7953"
             ],
             [
              0.7777777777777778,
              "#fb9f3a"
             ],
             [
              0.8888888888888888,
              "#fdca26"
             ],
             [
              1,
              "#f0f921"
             ]
            ],
            "type": "heatmapgl"
           }
          ],
          "histogram": [
           {
            "marker": {
             "colorbar": {
              "outlinewidth": 0,
              "ticks": ""
             }
            },
            "type": "histogram"
           }
          ],
          "histogram2d": [
           {
            "colorbar": {
             "outlinewidth": 0,
             "ticks": ""
            },
            "colorscale": [
             [
              0,
              "#0d0887"
             ],
             [
              0.1111111111111111,
              "#46039f"
             ],
             [
              0.2222222222222222,
              "#7201a8"
             ],
             [
              0.3333333333333333,
              "#9c179e"
             ],
             [
              0.4444444444444444,
              "#bd3786"
             ],
             [
              0.5555555555555556,
              "#d8576b"
             ],
             [
              0.6666666666666666,
              "#ed7953"
             ],
             [
              0.7777777777777778,
              "#fb9f3a"
             ],
             [
              0.8888888888888888,
              "#fdca26"
             ],
             [
              1,
              "#f0f921"
             ]
            ],
            "type": "histogram2d"
           }
          ],
          "histogram2dcontour": [
           {
            "colorbar": {
             "outlinewidth": 0,
             "ticks": ""
            },
            "colorscale": [
             [
              0,
              "#0d0887"
             ],
             [
              0.1111111111111111,
              "#46039f"
             ],
             [
              0.2222222222222222,
              "#7201a8"
             ],
             [
              0.3333333333333333,
              "#9c179e"
             ],
             [
              0.4444444444444444,
              "#bd3786"
             ],
             [
              0.5555555555555556,
              "#d8576b"
             ],
             [
              0.6666666666666666,
              "#ed7953"
             ],
             [
              0.7777777777777778,
              "#fb9f3a"
             ],
             [
              0.8888888888888888,
              "#fdca26"
             ],
             [
              1,
              "#f0f921"
             ]
            ],
            "type": "histogram2dcontour"
           }
          ],
          "mesh3d": [
           {
            "colorbar": {
             "outlinewidth": 0,
             "ticks": ""
            },
            "type": "mesh3d"
           }
          ],
          "parcoords": [
           {
            "line": {
             "colorbar": {
              "outlinewidth": 0,
              "ticks": ""
             }
            },
            "type": "parcoords"
           }
          ],
          "pie": [
           {
            "automargin": true,
            "type": "pie"
           }
          ],
          "scatter": [
           {
            "marker": {
             "colorbar": {
              "outlinewidth": 0,
              "ticks": ""
             }
            },
            "type": "scatter"
           }
          ],
          "scatter3d": [
           {
            "line": {
             "colorbar": {
              "outlinewidth": 0,
              "ticks": ""
             }
            },
            "marker": {
             "colorbar": {
              "outlinewidth": 0,
              "ticks": ""
             }
            },
            "type": "scatter3d"
           }
          ],
          "scattercarpet": [
           {
            "marker": {
             "colorbar": {
              "outlinewidth": 0,
              "ticks": ""
             }
            },
            "type": "scattercarpet"
           }
          ],
          "scattergeo": [
           {
            "marker": {
             "colorbar": {
              "outlinewidth": 0,
              "ticks": ""
             }
            },
            "type": "scattergeo"
           }
          ],
          "scattergl": [
           {
            "marker": {
             "colorbar": {
              "outlinewidth": 0,
              "ticks": ""
             }
            },
            "type": "scattergl"
           }
          ],
          "scattermapbox": [
           {
            "marker": {
             "colorbar": {
              "outlinewidth": 0,
              "ticks": ""
             }
            },
            "type": "scattermapbox"
           }
          ],
          "scatterpolar": [
           {
            "marker": {
             "colorbar": {
              "outlinewidth": 0,
              "ticks": ""
             }
            },
            "type": "scatterpolar"
           }
          ],
          "scatterpolargl": [
           {
            "marker": {
             "colorbar": {
              "outlinewidth": 0,
              "ticks": ""
             }
            },
            "type": "scatterpolargl"
           }
          ],
          "scatterternary": [
           {
            "marker": {
             "colorbar": {
              "outlinewidth": 0,
              "ticks": ""
             }
            },
            "type": "scatterternary"
           }
          ],
          "surface": [
           {
            "colorbar": {
             "outlinewidth": 0,
             "ticks": ""
            },
            "colorscale": [
             [
              0,
              "#0d0887"
             ],
             [
              0.1111111111111111,
              "#46039f"
             ],
             [
              0.2222222222222222,
              "#7201a8"
             ],
             [
              0.3333333333333333,
              "#9c179e"
             ],
             [
              0.4444444444444444,
              "#bd3786"
             ],
             [
              0.5555555555555556,
              "#d8576b"
             ],
             [
              0.6666666666666666,
              "#ed7953"
             ],
             [
              0.7777777777777778,
              "#fb9f3a"
             ],
             [
              0.8888888888888888,
              "#fdca26"
             ],
             [
              1,
              "#f0f921"
             ]
            ],
            "type": "surface"
           }
          ],
          "table": [
           {
            "cells": {
             "fill": {
              "color": "#EBF0F8"
             },
             "line": {
              "color": "white"
             }
            },
            "header": {
             "fill": {
              "color": "#C8D4E3"
             },
             "line": {
              "color": "white"
             }
            },
            "type": "table"
           }
          ]
         },
         "layout": {
          "annotationdefaults": {
           "arrowcolor": "#2a3f5f",
           "arrowhead": 0,
           "arrowwidth": 1
          },
          "autotypenumbers": "strict",
          "coloraxis": {
           "colorbar": {
            "outlinewidth": 0,
            "ticks": ""
           }
          },
          "colorscale": {
           "diverging": [
            [
             0,
             "#8e0152"
            ],
            [
             0.1,
             "#c51b7d"
            ],
            [
             0.2,
             "#de77ae"
            ],
            [
             0.3,
             "#f1b6da"
            ],
            [
             0.4,
             "#fde0ef"
            ],
            [
             0.5,
             "#f7f7f7"
            ],
            [
             0.6,
             "#e6f5d0"
            ],
            [
             0.7,
             "#b8e186"
            ],
            [
             0.8,
             "#7fbc41"
            ],
            [
             0.9,
             "#4d9221"
            ],
            [
             1,
             "#276419"
            ]
           ],
           "sequential": [
            [
             0,
             "#0d0887"
            ],
            [
             0.1111111111111111,
             "#46039f"
            ],
            [
             0.2222222222222222,
             "#7201a8"
            ],
            [
             0.3333333333333333,
             "#9c179e"
            ],
            [
             0.4444444444444444,
             "#bd3786"
            ],
            [
             0.5555555555555556,
             "#d8576b"
            ],
            [
             0.6666666666666666,
             "#ed7953"
            ],
            [
             0.7777777777777778,
             "#fb9f3a"
            ],
            [
             0.8888888888888888,
             "#fdca26"
            ],
            [
             1,
             "#f0f921"
            ]
           ],
           "sequentialminus": [
            [
             0,
             "#0d0887"
            ],
            [
             0.1111111111111111,
             "#46039f"
            ],
            [
             0.2222222222222222,
             "#7201a8"
            ],
            [
             0.3333333333333333,
             "#9c179e"
            ],
            [
             0.4444444444444444,
             "#bd3786"
            ],
            [
             0.5555555555555556,
             "#d8576b"
            ],
            [
             0.6666666666666666,
             "#ed7953"
            ],
            [
             0.7777777777777778,
             "#fb9f3a"
            ],
            [
             0.8888888888888888,
             "#fdca26"
            ],
            [
             1,
             "#f0f921"
            ]
           ]
          },
          "colorway": [
           "#636efa",
           "#EF553B",
           "#00cc96",
           "#ab63fa",
           "#FFA15A",
           "#19d3f3",
           "#FF6692",
           "#B6E880",
           "#FF97FF",
           "#FECB52"
          ],
          "font": {
           "color": "#2a3f5f"
          },
          "geo": {
           "bgcolor": "white",
           "lakecolor": "white",
           "landcolor": "#E5ECF6",
           "showlakes": true,
           "showland": true,
           "subunitcolor": "white"
          },
          "hoverlabel": {
           "align": "left"
          },
          "hovermode": "closest",
          "mapbox": {
           "style": "light"
          },
          "paper_bgcolor": "white",
          "plot_bgcolor": "#E5ECF6",
          "polar": {
           "angularaxis": {
            "gridcolor": "white",
            "linecolor": "white",
            "ticks": ""
           },
           "bgcolor": "#E5ECF6",
           "radialaxis": {
            "gridcolor": "white",
            "linecolor": "white",
            "ticks": ""
           }
          },
          "scene": {
           "xaxis": {
            "backgroundcolor": "#E5ECF6",
            "gridcolor": "white",
            "gridwidth": 2,
            "linecolor": "white",
            "showbackground": true,
            "ticks": "",
            "zerolinecolor": "white"
           },
           "yaxis": {
            "backgroundcolor": "#E5ECF6",
            "gridcolor": "white",
            "gridwidth": 2,
            "linecolor": "white",
            "showbackground": true,
            "ticks": "",
            "zerolinecolor": "white"
           },
           "zaxis": {
            "backgroundcolor": "#E5ECF6",
            "gridcolor": "white",
            "gridwidth": 2,
            "linecolor": "white",
            "showbackground": true,
            "ticks": "",
            "zerolinecolor": "white"
           }
          },
          "shapedefaults": {
           "line": {
            "color": "#2a3f5f"
           }
          },
          "ternary": {
           "aaxis": {
            "gridcolor": "white",
            "linecolor": "white",
            "ticks": ""
           },
           "baxis": {
            "gridcolor": "white",
            "linecolor": "white",
            "ticks": ""
           },
           "bgcolor": "#E5ECF6",
           "caxis": {
            "gridcolor": "white",
            "linecolor": "white",
            "ticks": ""
           }
          },
          "title": {
           "x": 0.05
          },
          "xaxis": {
           "automargin": true,
           "gridcolor": "white",
           "linecolor": "white",
           "ticks": "",
           "title": {
            "standoff": 15
           },
           "zerolinecolor": "white",
           "zerolinewidth": 2
          },
          "yaxis": {
           "automargin": true,
           "gridcolor": "white",
           "linecolor": "white",
           "ticks": "",
           "title": {
            "standoff": 15
           },
           "zerolinecolor": "white",
           "zerolinewidth": 2
          }
         }
        },
        "xaxis": {
         "anchor": "y",
         "domain": [
          0,
          1
         ],
         "title": {
          "text": "2015-17"
         }
        },
        "yaxis": {
         "anchor": "x",
         "domain": [
          0,
          1
         ],
         "title": {
          "text": "2018-20"
         }
        }
       }
      }
     },
     "metadata": {},
     "output_type": "display_data"
    }
   ],
   "source": [
    "fig = px.scatter(pl_splt.unstack().reset_index(), x='X', y='Y', trendline=\"ols\", hover_name=\"bat_id\"\n",
    "                 , labels={'X': '2015-17', 'Y': '2018-20'})\n",
    "fig.show()"
   ]
  },
  {
   "cell_type": "code",
   "execution_count": 16,
   "id": "based-heather",
   "metadata": {
    "ExecuteTime": {
     "end_time": "2021-05-12T01:31:39.771176Z",
     "start_time": "2021-05-12T01:31:39.516432Z"
    }
   },
   "outputs": [],
   "source": [
    "from sklearn.metrics import mean_squared_error"
   ]
  },
  {
   "cell_type": "code",
   "execution_count": 17,
   "id": "alternative-quantity",
   "metadata": {
    "ExecuteTime": {
     "end_time": "2021-05-12T01:31:40.496597Z",
     "start_time": "2021-05-12T01:31:40.481685Z"
    }
   },
   "outputs": [
    {
     "data": {
      "text/plain": [
       "count    71.000000\n",
       "mean     -0.023937\n",
       "std       0.039572\n",
       "min      -0.133846\n",
       "25%      -0.045272\n",
       "50%      -0.025660\n",
       "75%       0.001290\n",
       "max       0.061991\n",
       "Name: Y, dtype: float64"
      ]
     },
     "execution_count": 17,
     "metadata": {},
     "output_type": "execute_result"
    }
   ],
   "source": [
    "pl_splt.unstack()['Y'].describe()"
   ]
  },
  {
   "cell_type": "code",
   "execution_count": 18,
   "id": "great-timeline",
   "metadata": {
    "ExecuteTime": {
     "end_time": "2021-05-12T01:31:43.760440Z",
     "start_time": "2021-05-12T01:31:43.738699Z"
    }
   },
   "outputs": [
    {
     "data": {
      "text/html": [
       "<div>\n",
       "<style scoped>\n",
       "    .dataframe tbody tr th:only-of-type {\n",
       "        vertical-align: middle;\n",
       "    }\n",
       "\n",
       "    .dataframe tbody tr th {\n",
       "        vertical-align: top;\n",
       "    }\n",
       "\n",
       "    .dataframe thead th {\n",
       "        text-align: right;\n",
       "    }\n",
       "</style>\n",
       "<table border=\"1\" class=\"dataframe\">\n",
       "  <thead>\n",
       "    <tr style=\"text-align: right;\">\n",
       "      <th>XY</th>\n",
       "      <th>X</th>\n",
       "      <th>Y</th>\n",
       "      <th>base_pred</th>\n",
       "    </tr>\n",
       "    <tr>\n",
       "      <th>bat_id</th>\n",
       "      <th></th>\n",
       "      <th></th>\n",
       "      <th></th>\n",
       "    </tr>\n",
       "  </thead>\n",
       "  <tbody>\n",
       "    <tr>\n",
       "      <th>adamm002</th>\n",
       "      <td>-0.054589</td>\n",
       "      <td>-0.021410</td>\n",
       "      <td>-0.023937</td>\n",
       "    </tr>\n",
       "    <tr>\n",
       "      <th>alony001</th>\n",
       "      <td>-0.044567</td>\n",
       "      <td>0.001257</td>\n",
       "      <td>-0.023937</td>\n",
       "    </tr>\n",
       "    <tr>\n",
       "      <th>bellc002</th>\n",
       "      <td>0.015871</td>\n",
       "      <td>-0.040028</td>\n",
       "      <td>-0.023937</td>\n",
       "    </tr>\n",
       "    <tr>\n",
       "      <th>beltb001</th>\n",
       "      <td>-0.011951</td>\n",
       "      <td>-0.061218</td>\n",
       "      <td>-0.023937</td>\n",
       "    </tr>\n",
       "    <tr>\n",
       "      <th>benia002</th>\n",
       "      <td>-0.076583</td>\n",
       "      <td>-0.027763</td>\n",
       "      <td>-0.023937</td>\n",
       "    </tr>\n",
       "    <tr>\n",
       "      <th>...</th>\n",
       "      <td>...</td>\n",
       "      <td>...</td>\n",
       "      <td>...</td>\n",
       "    </tr>\n",
       "    <tr>\n",
       "      <th>thame001</th>\n",
       "      <td>-0.096389</td>\n",
       "      <td>-0.042765</td>\n",
       "      <td>-0.023937</td>\n",
       "    </tr>\n",
       "    <tr>\n",
       "      <th>vottj001</th>\n",
       "      <td>-0.003601</td>\n",
       "      <td>-0.040295</td>\n",
       "      <td>-0.023937</td>\n",
       "    </tr>\n",
       "    <tr>\n",
       "      <th>woltt001</th>\n",
       "      <td>-0.038884</td>\n",
       "      <td>0.031431</td>\n",
       "      <td>-0.023937</td>\n",
       "    </tr>\n",
       "    <tr>\n",
       "      <th>wongk001</th>\n",
       "      <td>-0.051407</td>\n",
       "      <td>-0.033219</td>\n",
       "      <td>-0.023937</td>\n",
       "    </tr>\n",
       "    <tr>\n",
       "      <th>yelic001</th>\n",
       "      <td>-0.048232</td>\n",
       "      <td>-0.012816</td>\n",
       "      <td>-0.023937</td>\n",
       "    </tr>\n",
       "  </tbody>\n",
       "</table>\n",
       "<p>71 rows × 3 columns</p>\n",
       "</div>"
      ],
      "text/plain": [
       "XY               X         Y  base_pred\n",
       "bat_id                                 \n",
       "adamm002 -0.054589 -0.021410  -0.023937\n",
       "alony001 -0.044567  0.001257  -0.023937\n",
       "bellc002  0.015871 -0.040028  -0.023937\n",
       "beltb001 -0.011951 -0.061218  -0.023937\n",
       "benia002 -0.076583 -0.027763  -0.023937\n",
       "...            ...       ...        ...\n",
       "thame001 -0.096389 -0.042765  -0.023937\n",
       "vottj001 -0.003601 -0.040295  -0.023937\n",
       "woltt001 -0.038884  0.031431  -0.023937\n",
       "wongk001 -0.051407 -0.033219  -0.023937\n",
       "yelic001 -0.048232 -0.012816  -0.023937\n",
       "\n",
       "[71 rows x 3 columns]"
      ]
     },
     "execution_count": 18,
     "metadata": {},
     "output_type": "execute_result"
    }
   ],
   "source": [
    "outputs = pl_splt.unstack()\n",
    "outputs['base_pred'] = outputs['Y'].mean()\n",
    "\n",
    "outputs"
   ]
  },
  {
   "cell_type": "code",
   "execution_count": 19,
   "id": "conscious-maine",
   "metadata": {
    "ExecuteTime": {
     "end_time": "2021-05-12T01:31:54.200301Z",
     "start_time": "2021-05-12T01:31:54.190940Z"
    }
   },
   "outputs": [
    {
     "data": {
      "text/plain": [
       "0.039292589968280126"
      ]
     },
     "execution_count": 19,
     "metadata": {},
     "output_type": "execute_result"
    }
   ],
   "source": [
    "mean_squared_error(outputs['Y'], outputs['base_pred'], squared=False)"
   ]
  },
  {
   "cell_type": "code",
   "execution_count": 20,
   "id": "toxic-relationship",
   "metadata": {
    "ExecuteTime": {
     "end_time": "2021-05-12T01:32:00.112308Z",
     "start_time": "2021-05-12T01:32:00.106051Z"
    }
   },
   "outputs": [
    {
     "data": {
      "text/plain": [
       "0.05459361721560286"
      ]
     },
     "execution_count": 20,
     "metadata": {},
     "output_type": "execute_result"
    }
   ],
   "source": [
    "mean_squared_error(outputs['Y'], outputs['X'], squared=False)"
   ]
  },
  {
   "cell_type": "code",
   "execution_count": 21,
   "id": "excessive-marking",
   "metadata": {
    "ExecuteTime": {
     "end_time": "2021-05-12T01:32:10.277308Z",
     "start_time": "2021-05-12T01:32:10.165871Z"
    }
   },
   "outputs": [],
   "source": [
    "from sklearn.linear_model import LinearRegression"
   ]
  },
  {
   "cell_type": "code",
   "execution_count": 22,
   "id": "guided-hebrew",
   "metadata": {
    "ExecuteTime": {
     "end_time": "2021-05-12T01:32:11.790738Z",
     "start_time": "2021-05-12T01:32:11.773763Z"
    }
   },
   "outputs": [
    {
     "data": {
      "text/plain": [
       "LinearRegression()"
      ]
     },
     "execution_count": 22,
     "metadata": {},
     "output_type": "execute_result"
    }
   ],
   "source": [
    "reg = LinearRegression()\n",
    "reg.fit(outputs[['X']], outputs['Y'])"
   ]
  },
  {
   "cell_type": "code",
   "execution_count": 23,
   "id": "hybrid-macedonia",
   "metadata": {
    "ExecuteTime": {
     "end_time": "2021-05-12T01:32:13.103325Z",
     "start_time": "2021-05-12T01:32:13.081438Z"
    }
   },
   "outputs": [
    {
     "data": {
      "text/html": [
       "<div>\n",
       "<style scoped>\n",
       "    .dataframe tbody tr th:only-of-type {\n",
       "        vertical-align: middle;\n",
       "    }\n",
       "\n",
       "    .dataframe tbody tr th {\n",
       "        vertical-align: top;\n",
       "    }\n",
       "\n",
       "    .dataframe thead th {\n",
       "        text-align: right;\n",
       "    }\n",
       "</style>\n",
       "<table border=\"1\" class=\"dataframe\">\n",
       "  <thead>\n",
       "    <tr style=\"text-align: right;\">\n",
       "      <th>XY</th>\n",
       "      <th>X</th>\n",
       "      <th>Y</th>\n",
       "      <th>base_pred</th>\n",
       "      <th>lin_pred</th>\n",
       "    </tr>\n",
       "    <tr>\n",
       "      <th>bat_id</th>\n",
       "      <th></th>\n",
       "      <th></th>\n",
       "      <th></th>\n",
       "      <th></th>\n",
       "    </tr>\n",
       "  </thead>\n",
       "  <tbody>\n",
       "    <tr>\n",
       "      <th>adamm002</th>\n",
       "      <td>-0.054589</td>\n",
       "      <td>-0.021410</td>\n",
       "      <td>-0.023937</td>\n",
       "      <td>-0.023008</td>\n",
       "    </tr>\n",
       "    <tr>\n",
       "      <th>alony001</th>\n",
       "      <td>-0.044567</td>\n",
       "      <td>0.001257</td>\n",
       "      <td>-0.023937</td>\n",
       "      <td>-0.023612</td>\n",
       "    </tr>\n",
       "    <tr>\n",
       "      <th>bellc002</th>\n",
       "      <td>0.015871</td>\n",
       "      <td>-0.040028</td>\n",
       "      <td>-0.023937</td>\n",
       "      <td>-0.027253</td>\n",
       "    </tr>\n",
       "    <tr>\n",
       "      <th>beltb001</th>\n",
       "      <td>-0.011951</td>\n",
       "      <td>-0.061218</td>\n",
       "      <td>-0.023937</td>\n",
       "      <td>-0.025577</td>\n",
       "    </tr>\n",
       "    <tr>\n",
       "      <th>benia002</th>\n",
       "      <td>-0.076583</td>\n",
       "      <td>-0.027763</td>\n",
       "      <td>-0.023937</td>\n",
       "      <td>-0.021683</td>\n",
       "    </tr>\n",
       "    <tr>\n",
       "      <th>...</th>\n",
       "      <td>...</td>\n",
       "      <td>...</td>\n",
       "      <td>...</td>\n",
       "      <td>...</td>\n",
       "    </tr>\n",
       "    <tr>\n",
       "      <th>thame001</th>\n",
       "      <td>-0.096389</td>\n",
       "      <td>-0.042765</td>\n",
       "      <td>-0.023937</td>\n",
       "      <td>-0.020489</td>\n",
       "    </tr>\n",
       "    <tr>\n",
       "      <th>vottj001</th>\n",
       "      <td>-0.003601</td>\n",
       "      <td>-0.040295</td>\n",
       "      <td>-0.023937</td>\n",
       "      <td>-0.026080</td>\n",
       "    </tr>\n",
       "    <tr>\n",
       "      <th>woltt001</th>\n",
       "      <td>-0.038884</td>\n",
       "      <td>0.031431</td>\n",
       "      <td>-0.023937</td>\n",
       "      <td>-0.023954</td>\n",
       "    </tr>\n",
       "    <tr>\n",
       "      <th>wongk001</th>\n",
       "      <td>-0.051407</td>\n",
       "      <td>-0.033219</td>\n",
       "      <td>-0.023937</td>\n",
       "      <td>-0.023200</td>\n",
       "    </tr>\n",
       "    <tr>\n",
       "      <th>yelic001</th>\n",
       "      <td>-0.048232</td>\n",
       "      <td>-0.012816</td>\n",
       "      <td>-0.023937</td>\n",
       "      <td>-0.023391</td>\n",
       "    </tr>\n",
       "  </tbody>\n",
       "</table>\n",
       "<p>71 rows × 4 columns</p>\n",
       "</div>"
      ],
      "text/plain": [
       "XY               X         Y  base_pred  lin_pred\n",
       "bat_id                                           \n",
       "adamm002 -0.054589 -0.021410  -0.023937 -0.023008\n",
       "alony001 -0.044567  0.001257  -0.023937 -0.023612\n",
       "bellc002  0.015871 -0.040028  -0.023937 -0.027253\n",
       "beltb001 -0.011951 -0.061218  -0.023937 -0.025577\n",
       "benia002 -0.076583 -0.027763  -0.023937 -0.021683\n",
       "...            ...       ...        ...       ...\n",
       "thame001 -0.096389 -0.042765  -0.023937 -0.020489\n",
       "vottj001 -0.003601 -0.040295  -0.023937 -0.026080\n",
       "woltt001 -0.038884  0.031431  -0.023937 -0.023954\n",
       "wongk001 -0.051407 -0.033219  -0.023937 -0.023200\n",
       "yelic001 -0.048232 -0.012816  -0.023937 -0.023391\n",
       "\n",
       "[71 rows x 4 columns]"
      ]
     },
     "execution_count": 23,
     "metadata": {},
     "output_type": "execute_result"
    }
   ],
   "source": [
    "outputs['lin_pred'] = reg.predict(outputs[['X']])\n",
    "outputs"
   ]
  },
  {
   "cell_type": "code",
   "execution_count": 24,
   "id": "indian-symbol",
   "metadata": {
    "ExecuteTime": {
     "end_time": "2021-05-12T01:32:19.359178Z",
     "start_time": "2021-05-12T01:32:19.352122Z"
    }
   },
   "outputs": [
    {
     "data": {
      "text/plain": [
       "0.03924290445164322"
      ]
     },
     "execution_count": 24,
     "metadata": {},
     "output_type": "execute_result"
    }
   ],
   "source": [
    "mean_squared_error(outputs['Y'], outputs['lin_pred'], squared=False)"
   ]
  },
  {
   "cell_type": "code",
   "execution_count": 25,
   "id": "listed-breast",
   "metadata": {},
   "outputs": [
    {
     "data": {
      "text/plain": [
       "(array([-0.06025325]), -0.026297007532528404)"
      ]
     },
     "execution_count": 25,
     "metadata": {},
     "output_type": "execute_result"
    }
   ],
   "source": [
    "reg.coef_, reg.intercept_"
   ]
  },
  {
   "cell_type": "code",
   "execution_count": null,
   "id": "0955332d",
   "metadata": {},
   "outputs": [],
   "source": []
  }
 ],
 "metadata": {
  "interpreter": {
   "hash": "cd78fef2128015050713e82ca51c6520b11aee7c9ee8df750520bbbc7384cbaa"
  },
  "kernelspec": {
   "display_name": "Python 3.8.8 ('base')",
   "language": "python",
   "name": "python3"
  },
  "language_info": {
   "codemirror_mode": {
    "name": "ipython",
    "version": 3
   },
   "file_extension": ".py",
   "mimetype": "text/x-python",
   "name": "python",
   "nbconvert_exporter": "python",
   "pygments_lexer": "ipython3",
   "version": "3.8.8"
  }
 },
 "nbformat": 4,
 "nbformat_minor": 5
}
