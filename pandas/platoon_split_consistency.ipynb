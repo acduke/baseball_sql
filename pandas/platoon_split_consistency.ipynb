{
 "cells": [
  {
   "cell_type": "markdown",
   "id": "original-palace",
   "metadata": {},
   "source": [
    "How predictive is a batter's platoon split?\n",
    "\n",
    "Should we look at individual batters' platoon splits?  Regress them?"
   ]
  },
  {
   "cell_type": "code",
   "execution_count": 2,
   "id": "expected-concert",
   "metadata": {
    "ExecuteTime": {
     "end_time": "2021-05-12T01:26:09.573703Z",
     "start_time": "2021-05-12T01:26:09.220974Z"
    }
   },
   "outputs": [],
   "source": [
    "import pandas as pd\n",
    "import numpy as np\n",
    "import boxball_loader as bbl\n",
    "import baseball_stats_utils as utils"
   ]
  },
  {
   "cell_type": "code",
   "execution_count": 3,
   "id": "stock-professor",
   "metadata": {
    "ExecuteTime": {
     "end_time": "2021-05-12T01:26:45.757525Z",
     "start_time": "2021-05-12T01:26:09.574860Z"
    }
   },
   "outputs": [
    {
     "data": {
      "text/html": [
       "<div>\n",
       "<style scoped>\n",
       "    .dataframe tbody tr th:only-of-type {\n",
       "        vertical-align: middle;\n",
       "    }\n",
       "\n",
       "    .dataframe tbody tr th {\n",
       "        vertical-align: top;\n",
       "    }\n",
       "\n",
       "    .dataframe thead th {\n",
       "        text-align: right;\n",
       "    }\n",
       "</style>\n",
       "<table border=\"1\" class=\"dataframe\">\n",
       "  <thead>\n",
       "    <tr style=\"text-align: right;\">\n",
       "      <th></th>\n",
       "      <th>game_id</th>\n",
       "      <th>date</th>\n",
       "      <th>game_type</th>\n",
       "      <th>tb_ct</th>\n",
       "      <th>fld_team_id</th>\n",
       "      <th>ab_fl</th>\n",
       "      <th>bat_team_id</th>\n",
       "      <th>pos2_fld_id</th>\n",
       "      <th>bat_event_fl</th>\n",
       "      <th>bat_hand_cd</th>\n",
       "      <th>pit_id</th>\n",
       "      <th>pit_hand_cd</th>\n",
       "      <th>event_cd</th>\n",
       "      <th>bat_id</th>\n",
       "      <th>h_fl</th>\n",
       "      <th>ob_fl</th>\n",
       "      <th>yr</th>\n",
       "    </tr>\n",
       "  </thead>\n",
       "  <tbody>\n",
       "    <tr>\n",
       "      <th>0</th>\n",
       "      <td>CHN201504050</td>\n",
       "      <td>2015-04-05</td>\n",
       "      <td>RS</td>\n",
       "      <td>0</td>\n",
       "      <td>CHN</td>\n",
       "      <td>True</td>\n",
       "      <td>SLN</td>\n",
       "      <td>rossd001</td>\n",
       "      <td>True</td>\n",
       "      <td>L</td>\n",
       "      <td>lestj001</td>\n",
       "      <td>L</td>\n",
       "      <td>2</td>\n",
       "      <td>carpm002</td>\n",
       "      <td>0</td>\n",
       "      <td>0</td>\n",
       "      <td>2015</td>\n",
       "    </tr>\n",
       "    <tr>\n",
       "      <th>1</th>\n",
       "      <td>CHN201504050</td>\n",
       "      <td>2015-04-05</td>\n",
       "      <td>RS</td>\n",
       "      <td>2</td>\n",
       "      <td>CHN</td>\n",
       "      <td>True</td>\n",
       "      <td>SLN</td>\n",
       "      <td>rossd001</td>\n",
       "      <td>True</td>\n",
       "      <td>L</td>\n",
       "      <td>lestj001</td>\n",
       "      <td>L</td>\n",
       "      <td>21</td>\n",
       "      <td>heywj001</td>\n",
       "      <td>1</td>\n",
       "      <td>1</td>\n",
       "      <td>2015</td>\n",
       "    </tr>\n",
       "    <tr>\n",
       "      <th>2</th>\n",
       "      <td>CHN201504050</td>\n",
       "      <td>2015-04-05</td>\n",
       "      <td>RS</td>\n",
       "      <td>1</td>\n",
       "      <td>CHN</td>\n",
       "      <td>True</td>\n",
       "      <td>SLN</td>\n",
       "      <td>rossd001</td>\n",
       "      <td>True</td>\n",
       "      <td>R</td>\n",
       "      <td>lestj001</td>\n",
       "      <td>L</td>\n",
       "      <td>20</td>\n",
       "      <td>hollm001</td>\n",
       "      <td>1</td>\n",
       "      <td>1</td>\n",
       "      <td>2015</td>\n",
       "    </tr>\n",
       "    <tr>\n",
       "      <th>3</th>\n",
       "      <td>CHN201504050</td>\n",
       "      <td>2015-04-05</td>\n",
       "      <td>RS</td>\n",
       "      <td>0</td>\n",
       "      <td>CHN</td>\n",
       "      <td>True</td>\n",
       "      <td>SLN</td>\n",
       "      <td>rossd001</td>\n",
       "      <td>True</td>\n",
       "      <td>R</td>\n",
       "      <td>lestj001</td>\n",
       "      <td>L</td>\n",
       "      <td>3</td>\n",
       "      <td>peraj001</td>\n",
       "      <td>0</td>\n",
       "      <td>0</td>\n",
       "      <td>2015</td>\n",
       "    </tr>\n",
       "    <tr>\n",
       "      <th>4</th>\n",
       "      <td>CHN201504050</td>\n",
       "      <td>2015-04-05</td>\n",
       "      <td>RS</td>\n",
       "      <td>0</td>\n",
       "      <td>CHN</td>\n",
       "      <td>True</td>\n",
       "      <td>SLN</td>\n",
       "      <td>rossd001</td>\n",
       "      <td>True</td>\n",
       "      <td>L</td>\n",
       "      <td>lestj001</td>\n",
       "      <td>L</td>\n",
       "      <td>3</td>\n",
       "      <td>adamm002</td>\n",
       "      <td>0</td>\n",
       "      <td>0</td>\n",
       "      <td>2015</td>\n",
       "    </tr>\n",
       "    <tr>\n",
       "      <th>...</th>\n",
       "      <td>...</td>\n",
       "      <td>...</td>\n",
       "      <td>...</td>\n",
       "      <td>...</td>\n",
       "      <td>...</td>\n",
       "      <td>...</td>\n",
       "      <td>...</td>\n",
       "      <td>...</td>\n",
       "      <td>...</td>\n",
       "      <td>...</td>\n",
       "      <td>...</td>\n",
       "      <td>...</td>\n",
       "      <td>...</td>\n",
       "      <td>...</td>\n",
       "      <td>...</td>\n",
       "      <td>...</td>\n",
       "      <td>...</td>\n",
       "    </tr>\n",
       "    <tr>\n",
       "      <th>1037442</th>\n",
       "      <td>KCA202009270</td>\n",
       "      <td>2020-09-27</td>\n",
       "      <td>RS</td>\n",
       "      <td>0</td>\n",
       "      <td>DET</td>\n",
       "      <td>True</td>\n",
       "      <td>KCA</td>\n",
       "      <td>haase001</td>\n",
       "      <td>True</td>\n",
       "      <td>R</td>\n",
       "      <td>farmb001</td>\n",
       "      <td>R</td>\n",
       "      <td>3</td>\n",
       "      <td>peres002</td>\n",
       "      <td>0</td>\n",
       "      <td>0</td>\n",
       "      <td>2020</td>\n",
       "    </tr>\n",
       "    <tr>\n",
       "      <th>1037443</th>\n",
       "      <td>KCA202009270</td>\n",
       "      <td>2020-09-27</td>\n",
       "      <td>RS</td>\n",
       "      <td>0</td>\n",
       "      <td>KCA</td>\n",
       "      <td>False</td>\n",
       "      <td>DET</td>\n",
       "      <td>peres002</td>\n",
       "      <td>True</td>\n",
       "      <td>L</td>\n",
       "      <td>hahnj001</td>\n",
       "      <td>R</td>\n",
       "      <td>14</td>\n",
       "      <td>alcas002</td>\n",
       "      <td>0</td>\n",
       "      <td>1</td>\n",
       "      <td>2020</td>\n",
       "    </tr>\n",
       "    <tr>\n",
       "      <th>1037444</th>\n",
       "      <td>KCA202009270</td>\n",
       "      <td>2020-09-27</td>\n",
       "      <td>RS</td>\n",
       "      <td>0</td>\n",
       "      <td>KCA</td>\n",
       "      <td>True</td>\n",
       "      <td>DET</td>\n",
       "      <td>peres002</td>\n",
       "      <td>True</td>\n",
       "      <td>L</td>\n",
       "      <td>hahnj001</td>\n",
       "      <td>R</td>\n",
       "      <td>3</td>\n",
       "      <td>reyev001</td>\n",
       "      <td>0</td>\n",
       "      <td>0</td>\n",
       "      <td>2020</td>\n",
       "    </tr>\n",
       "    <tr>\n",
       "      <th>1037445</th>\n",
       "      <td>KCA202009270</td>\n",
       "      <td>2020-09-27</td>\n",
       "      <td>RS</td>\n",
       "      <td>0</td>\n",
       "      <td>KCA</td>\n",
       "      <td>True</td>\n",
       "      <td>DET</td>\n",
       "      <td>peres002</td>\n",
       "      <td>True</td>\n",
       "      <td>R</td>\n",
       "      <td>hahnj001</td>\n",
       "      <td>R</td>\n",
       "      <td>3</td>\n",
       "      <td>camed001</td>\n",
       "      <td>0</td>\n",
       "      <td>0</td>\n",
       "      <td>2020</td>\n",
       "    </tr>\n",
       "    <tr>\n",
       "      <th>1037447</th>\n",
       "      <td>KCA202009270</td>\n",
       "      <td>2020-09-27</td>\n",
       "      <td>RS</td>\n",
       "      <td>0</td>\n",
       "      <td>KCA</td>\n",
       "      <td>True</td>\n",
       "      <td>DET</td>\n",
       "      <td>peres002</td>\n",
       "      <td>True</td>\n",
       "      <td>L</td>\n",
       "      <td>hahnj001</td>\n",
       "      <td>R</td>\n",
       "      <td>3</td>\n",
       "      <td>goodn002</td>\n",
       "      <td>0</td>\n",
       "      <td>0</td>\n",
       "      <td>2020</td>\n",
       "    </tr>\n",
       "  </tbody>\n",
       "</table>\n",
       "<p>991665 rows × 17 columns</p>\n",
       "</div>"
      ],
      "text/plain": [
       "              game_id       date game_type  tb_ct fld_team_id  ab_fl  \\\n",
       "0        CHN201504050 2015-04-05        RS      0         CHN   True   \n",
       "1        CHN201504050 2015-04-05        RS      2         CHN   True   \n",
       "2        CHN201504050 2015-04-05        RS      1         CHN   True   \n",
       "3        CHN201504050 2015-04-05        RS      0         CHN   True   \n",
       "4        CHN201504050 2015-04-05        RS      0         CHN   True   \n",
       "...               ...        ...       ...    ...         ...    ...   \n",
       "1037442  KCA202009270 2020-09-27        RS      0         DET   True   \n",
       "1037443  KCA202009270 2020-09-27        RS      0         KCA  False   \n",
       "1037444  KCA202009270 2020-09-27        RS      0         KCA   True   \n",
       "1037445  KCA202009270 2020-09-27        RS      0         KCA   True   \n",
       "1037447  KCA202009270 2020-09-27        RS      0         KCA   True   \n",
       "\n",
       "        bat_team_id pos2_fld_id  bat_event_fl bat_hand_cd    pit_id  \\\n",
       "0               SLN    rossd001          True           L  lestj001   \n",
       "1               SLN    rossd001          True           L  lestj001   \n",
       "2               SLN    rossd001          True           R  lestj001   \n",
       "3               SLN    rossd001          True           R  lestj001   \n",
       "4               SLN    rossd001          True           L  lestj001   \n",
       "...             ...         ...           ...         ...       ...   \n",
       "1037442         KCA    haase001          True           R  farmb001   \n",
       "1037443         DET    peres002          True           L  hahnj001   \n",
       "1037444         DET    peres002          True           L  hahnj001   \n",
       "1037445         DET    peres002          True           R  hahnj001   \n",
       "1037447         DET    peres002          True           L  hahnj001   \n",
       "\n",
       "        pit_hand_cd  event_cd    bat_id  h_fl  ob_fl    yr  \n",
       "0                 L         2  carpm002     0      0  2015  \n",
       "1                 L        21  heywj001     1      1  2015  \n",
       "2                 L        20  hollm001     1      1  2015  \n",
       "3                 L         3  peraj001     0      0  2015  \n",
       "4                 L         3  adamm002     0      0  2015  \n",
       "...             ...       ...       ...   ...    ...   ...  \n",
       "1037442           R         3  peres002     0      0  2020  \n",
       "1037443           R        14  alcas002     0      1  2020  \n",
       "1037444           R         3  reyev001     0      0  2020  \n",
       "1037445           R         3  camed001     0      0  2020  \n",
       "1037447           R         3  goodn002     0      0  2020  \n",
       "\n",
       "[991665 rows x 17 columns]"
      ]
     },
     "execution_count": 3,
     "metadata": {},
     "output_type": "execute_result"
    }
   ],
   "source": [
    "cols = ['bat_team_id', 'fld_team_id', 'bat_id', 'pit_id', 'pos2_fld_id', 'bat_event_fl', 'bat_hand_cd', 'pit_hand_cd', 'event_cd']\n",
    "pa = bbl.load_event_data(2015, 2020, cols)\n",
    "pa\n"
   ]
  },
  {
   "cell_type": "code",
   "execution_count": 4,
   "id": "possible-noise",
   "metadata": {
    "ExecuteTime": {
     "end_time": "2021-05-12T01:26:45.761778Z",
     "start_time": "2021-05-12T01:26:45.758917Z"
    }
   },
   "outputs": [
    {
     "data": {
      "text/plain": [
       "Index(['game_id', 'date', 'game_type', 'tb_ct', 'fld_team_id', 'ab_fl',\n",
       "       'bat_team_id', 'pos2_fld_id', 'bat_event_fl', 'bat_hand_cd', 'pit_id',\n",
       "       'pit_hand_cd', 'event_cd', 'bat_id', 'h_fl', 'ob_fl', 'yr'],\n",
       "      dtype='object')"
      ]
     },
     "execution_count": 4,
     "metadata": {},
     "output_type": "execute_result"
    }
   ],
   "source": [
    "pa.columns"
   ]
  },
  {
   "cell_type": "code",
   "execution_count": 7,
   "id": "bibliographic-westminster",
   "metadata": {
    "ExecuteTime": {
     "end_time": "2021-05-12T01:26:45.986242Z",
     "start_time": "2021-05-12T01:26:45.763160Z"
    }
   },
   "outputs": [
    {
     "data": {
      "text/html": [
       "<div>\n",
       "<style scoped>\n",
       "    .dataframe tbody tr th:only-of-type {\n",
       "        vertical-align: middle;\n",
       "    }\n",
       "\n",
       "    .dataframe tbody tr th {\n",
       "        vertical-align: top;\n",
       "    }\n",
       "\n",
       "    .dataframe thead th {\n",
       "        text-align: right;\n",
       "    }\n",
       "</style>\n",
       "<table border=\"1\" class=\"dataframe\">\n",
       "  <thead>\n",
       "    <tr style=\"text-align: right;\">\n",
       "      <th></th>\n",
       "      <th></th>\n",
       "      <th>pa</th>\n",
       "      <th>ob</th>\n",
       "      <th>ab</th>\n",
       "      <th>h</th>\n",
       "      <th>tb</th>\n",
       "      <th>k</th>\n",
       "      <th>bb</th>\n",
       "      <th>hr</th>\n",
       "      <th>ba</th>\n",
       "      <th>obp</th>\n",
       "      <th>slg</th>\n",
       "      <th>woba</th>\n",
       "      <th>k%</th>\n",
       "      <th>bb%</th>\n",
       "      <th>hr%</th>\n",
       "    </tr>\n",
       "    <tr>\n",
       "      <th>bat_hand_cd</th>\n",
       "      <th>pit_hand_cd</th>\n",
       "      <th></th>\n",
       "      <th></th>\n",
       "      <th></th>\n",
       "      <th></th>\n",
       "      <th></th>\n",
       "      <th></th>\n",
       "      <th></th>\n",
       "      <th></th>\n",
       "      <th></th>\n",
       "      <th></th>\n",
       "      <th></th>\n",
       "      <th></th>\n",
       "      <th></th>\n",
       "      <th></th>\n",
       "      <th></th>\n",
       "    </tr>\n",
       "  </thead>\n",
       "  <tbody>\n",
       "    <tr>\n",
       "      <th>?</th>\n",
       "      <th>B</th>\n",
       "      <td>1</td>\n",
       "      <td>0</td>\n",
       "      <td>1</td>\n",
       "      <td>0</td>\n",
       "      <td>0.0</td>\n",
       "      <td>0</td>\n",
       "      <td>0</td>\n",
       "      <td>0</td>\n",
       "      <td>0.000000</td>\n",
       "      <td>0.000000</td>\n",
       "      <td>0.000000</td>\n",
       "      <td>0.000000</td>\n",
       "      <td>0.000000</td>\n",
       "      <td>0.000000</td>\n",
       "      <td>0.000000</td>\n",
       "    </tr>\n",
       "    <tr>\n",
       "      <th rowspan=\"2\" valign=\"top\">L</th>\n",
       "      <th>L</th>\n",
       "      <td>75946</td>\n",
       "      <td>23215</td>\n",
       "      <td>68022</td>\n",
       "      <td>16311</td>\n",
       "      <td>25349.0</td>\n",
       "      <td>17622</td>\n",
       "      <td>5819</td>\n",
       "      <td>1813</td>\n",
       "      <td>0.239790</td>\n",
       "      <td>0.305678</td>\n",
       "      <td>0.372659</td>\n",
       "      <td>0.292981</td>\n",
       "      <td>0.232033</td>\n",
       "      <td>0.076620</td>\n",
       "      <td>0.023872</td>\n",
       "    </tr>\n",
       "    <tr>\n",
       "      <th>R</th>\n",
       "      <td>335622</td>\n",
       "      <td>108312</td>\n",
       "      <td>297413</td>\n",
       "      <td>75858</td>\n",
       "      <td>127500.0</td>\n",
       "      <td>69444</td>\n",
       "      <td>29655</td>\n",
       "      <td>10760</td>\n",
       "      <td>0.255059</td>\n",
       "      <td>0.322720</td>\n",
       "      <td>0.428697</td>\n",
       "      <td>0.319645</td>\n",
       "      <td>0.206911</td>\n",
       "      <td>0.088358</td>\n",
       "      <td>0.032060</td>\n",
       "    </tr>\n",
       "    <tr>\n",
       "      <th rowspan=\"2\" valign=\"top\">R</th>\n",
       "      <th>L</th>\n",
       "      <td>191473</td>\n",
       "      <td>61318</td>\n",
       "      <td>171048</td>\n",
       "      <td>44279</td>\n",
       "      <td>73881.0</td>\n",
       "      <td>40912</td>\n",
       "      <td>15581</td>\n",
       "      <td>6358</td>\n",
       "      <td>0.258869</td>\n",
       "      <td>0.320244</td>\n",
       "      <td>0.431931</td>\n",
       "      <td>0.319014</td>\n",
       "      <td>0.213670</td>\n",
       "      <td>0.081374</td>\n",
       "      <td>0.033206</td>\n",
       "    </tr>\n",
       "    <tr>\n",
       "      <th>R</th>\n",
       "      <td>388623</td>\n",
       "      <td>118917</td>\n",
       "      <td>351245</td>\n",
       "      <td>87645</td>\n",
       "      <td>144701.0</td>\n",
       "      <td>88170</td>\n",
       "      <td>26871</td>\n",
       "      <td>12358</td>\n",
       "      <td>0.249527</td>\n",
       "      <td>0.305996</td>\n",
       "      <td>0.411966</td>\n",
       "      <td>0.305215</td>\n",
       "      <td>0.226878</td>\n",
       "      <td>0.069144</td>\n",
       "      <td>0.031799</td>\n",
       "    </tr>\n",
       "  </tbody>\n",
       "</table>\n",
       "</div>"
      ],
      "text/plain": [
       "                             pa      ob      ab      h        tb      k  \\\n",
       "bat_hand_cd pit_hand_cd                                                   \n",
       "?           B                 1       0       1      0       0.0      0   \n",
       "L           L             75946   23215   68022  16311   25349.0  17622   \n",
       "            R            335622  108312  297413  75858  127500.0  69444   \n",
       "R           L            191473   61318  171048  44279   73881.0  40912   \n",
       "            R            388623  118917  351245  87645  144701.0  88170   \n",
       "\n",
       "                            bb     hr        ba       obp       slg      woba  \\\n",
       "bat_hand_cd pit_hand_cd                                                         \n",
       "?           B                0      0  0.000000  0.000000  0.000000  0.000000   \n",
       "L           L             5819   1813  0.239790  0.305678  0.372659  0.292981   \n",
       "            R            29655  10760  0.255059  0.322720  0.428697  0.319645   \n",
       "R           L            15581   6358  0.258869  0.320244  0.431931  0.319014   \n",
       "            R            26871  12358  0.249527  0.305996  0.411966  0.305215   \n",
       "\n",
       "                               k%       bb%       hr%  \n",
       "bat_hand_cd pit_hand_cd                                \n",
       "?           B            0.000000  0.000000  0.000000  \n",
       "L           L            0.232033  0.076620  0.023872  \n",
       "            R            0.206911  0.088358  0.032060  \n",
       "R           L            0.213670  0.081374  0.033206  \n",
       "            R            0.226878  0.069144  0.031799  "
      ]
     },
     "execution_count": 7,
     "metadata": {},
     "output_type": "execute_result"
    }
   ],
   "source": [
    "utils.summarize_events(pa, ['bat_hand_cd', 'pit_hand_cd'])"
   ]
  },
  {
   "cell_type": "code",
   "execution_count": 9,
   "id": "little-reliance",
   "metadata": {
    "ExecuteTime": {
     "end_time": "2021-05-12T01:26:46.191857Z",
     "start_time": "2021-05-12T01:26:45.988256Z"
    }
   },
   "outputs": [
    {
     "data": {
      "text/html": [
       "<div>\n",
       "<style scoped>\n",
       "    .dataframe tbody tr th:only-of-type {\n",
       "        vertical-align: middle;\n",
       "    }\n",
       "\n",
       "    .dataframe tbody tr th {\n",
       "        vertical-align: top;\n",
       "    }\n",
       "\n",
       "    .dataframe thead th {\n",
       "        text-align: right;\n",
       "    }\n",
       "</style>\n",
       "<table border=\"1\" class=\"dataframe\">\n",
       "  <thead>\n",
       "    <tr style=\"text-align: right;\">\n",
       "      <th></th>\n",
       "      <th></th>\n",
       "      <th></th>\n",
       "      <th>pa</th>\n",
       "      <th>ob</th>\n",
       "      <th>ab</th>\n",
       "      <th>h</th>\n",
       "      <th>tb</th>\n",
       "      <th>k</th>\n",
       "      <th>bb</th>\n",
       "      <th>hr</th>\n",
       "      <th>ba</th>\n",
       "      <th>obp</th>\n",
       "      <th>slg</th>\n",
       "      <th>woba</th>\n",
       "      <th>k%</th>\n",
       "      <th>bb%</th>\n",
       "      <th>hr%</th>\n",
       "    </tr>\n",
       "    <tr>\n",
       "      <th>bat_id</th>\n",
       "      <th>bat_hand_cd</th>\n",
       "      <th>pit_hand_cd</th>\n",
       "      <th></th>\n",
       "      <th></th>\n",
       "      <th></th>\n",
       "      <th></th>\n",
       "      <th></th>\n",
       "      <th></th>\n",
       "      <th></th>\n",
       "      <th></th>\n",
       "      <th></th>\n",
       "      <th></th>\n",
       "      <th></th>\n",
       "      <th></th>\n",
       "      <th></th>\n",
       "      <th></th>\n",
       "      <th></th>\n",
       "    </tr>\n",
       "  </thead>\n",
       "  <tbody>\n",
       "    <tr>\n",
       "      <th>aardd001</th>\n",
       "      <th>R</th>\n",
       "      <th>R</th>\n",
       "      <td>1</td>\n",
       "      <td>0</td>\n",
       "      <td>1</td>\n",
       "      <td>0</td>\n",
       "      <td>0</td>\n",
       "      <td>1</td>\n",
       "      <td>0</td>\n",
       "      <td>0</td>\n",
       "      <td>0.000000</td>\n",
       "      <td>0.000000</td>\n",
       "      <td>0.000000</td>\n",
       "      <td>0.000000</td>\n",
       "      <td>1.000000</td>\n",
       "      <td>0.000000</td>\n",
       "      <td>0.000000</td>\n",
       "    </tr>\n",
       "    <tr>\n",
       "      <th>abadf001</th>\n",
       "      <th>L</th>\n",
       "      <th>R</th>\n",
       "      <td>1</td>\n",
       "      <td>0</td>\n",
       "      <td>1</td>\n",
       "      <td>0</td>\n",
       "      <td>0</td>\n",
       "      <td>1</td>\n",
       "      <td>0</td>\n",
       "      <td>0</td>\n",
       "      <td>0.000000</td>\n",
       "      <td>0.000000</td>\n",
       "      <td>0.000000</td>\n",
       "      <td>0.000000</td>\n",
       "      <td>1.000000</td>\n",
       "      <td>0.000000</td>\n",
       "      <td>0.000000</td>\n",
       "    </tr>\n",
       "    <tr>\n",
       "      <th rowspan=\"2\" valign=\"top\">abrej003</th>\n",
       "      <th rowspan=\"2\" valign=\"top\">R</th>\n",
       "      <th>L</th>\n",
       "      <td>819</td>\n",
       "      <td>291</td>\n",
       "      <td>733</td>\n",
       "      <td>220</td>\n",
       "      <td>388</td>\n",
       "      <td>163</td>\n",
       "      <td>55</td>\n",
       "      <td>39</td>\n",
       "      <td>0.300136</td>\n",
       "      <td>0.355311</td>\n",
       "      <td>0.529332</td>\n",
       "      <td>0.368305</td>\n",
       "      <td>0.199023</td>\n",
       "      <td>0.067155</td>\n",
       "      <td>0.047619</td>\n",
       "    </tr>\n",
       "    <tr>\n",
       "      <th>R</th>\n",
       "      <td>2727</td>\n",
       "      <td>895</td>\n",
       "      <td>2498</td>\n",
       "      <td>718</td>\n",
       "      <td>1258</td>\n",
       "      <td>541</td>\n",
       "      <td>121</td>\n",
       "      <td>123</td>\n",
       "      <td>0.287430</td>\n",
       "      <td>0.328199</td>\n",
       "      <td>0.503603</td>\n",
       "      <td>0.345790</td>\n",
       "      <td>0.198387</td>\n",
       "      <td>0.044371</td>\n",
       "      <td>0.045105</td>\n",
       "    </tr>\n",
       "    <tr>\n",
       "      <th>ackld001</th>\n",
       "      <th>L</th>\n",
       "      <th>L</th>\n",
       "      <td>42</td>\n",
       "      <td>10</td>\n",
       "      <td>35</td>\n",
       "      <td>5</td>\n",
       "      <td>6</td>\n",
       "      <td>12</td>\n",
       "      <td>5</td>\n",
       "      <td>0</td>\n",
       "      <td>0.142857</td>\n",
       "      <td>0.238095</td>\n",
       "      <td>0.171429</td>\n",
       "      <td>0.195000</td>\n",
       "      <td>0.285714</td>\n",
       "      <td>0.119048</td>\n",
       "      <td>0.000000</td>\n",
       "    </tr>\n",
       "    <tr>\n",
       "      <th>...</th>\n",
       "      <th>...</th>\n",
       "      <th>...</th>\n",
       "      <td>...</td>\n",
       "      <td>...</td>\n",
       "      <td>...</td>\n",
       "      <td>...</td>\n",
       "      <td>...</td>\n",
       "      <td>...</td>\n",
       "      <td>...</td>\n",
       "      <td>...</td>\n",
       "      <td>...</td>\n",
       "      <td>...</td>\n",
       "      <td>...</td>\n",
       "      <td>...</td>\n",
       "      <td>...</td>\n",
       "      <td>...</td>\n",
       "      <td>...</td>\n",
       "    </tr>\n",
       "    <tr>\n",
       "      <th rowspan=\"3\" valign=\"top\">zobrb001</th>\n",
       "      <th>L</th>\n",
       "      <th>R</th>\n",
       "      <td>1729</td>\n",
       "      <td>614</td>\n",
       "      <td>1484</td>\n",
       "      <td>394</td>\n",
       "      <td>626</td>\n",
       "      <td>210</td>\n",
       "      <td>214</td>\n",
       "      <td>45</td>\n",
       "      <td>0.265499</td>\n",
       "      <td>0.355119</td>\n",
       "      <td>0.421833</td>\n",
       "      <td>0.335401</td>\n",
       "      <td>0.121457</td>\n",
       "      <td>0.123771</td>\n",
       "      <td>0.026027</td>\n",
       "    </tr>\n",
       "    <tr>\n",
       "      <th rowspan=\"2\" valign=\"top\">R</th>\n",
       "      <th>L</th>\n",
       "      <td>625</td>\n",
       "      <td>224</td>\n",
       "      <td>542</td>\n",
       "      <td>156</td>\n",
       "      <td>227</td>\n",
       "      <td>83</td>\n",
       "      <td>64</td>\n",
       "      <td>8</td>\n",
       "      <td>0.287823</td>\n",
       "      <td>0.358400</td>\n",
       "      <td>0.418819</td>\n",
       "      <td>0.333565</td>\n",
       "      <td>0.132800</td>\n",
       "      <td>0.102400</td>\n",
       "      <td>0.012800</td>\n",
       "    </tr>\n",
       "    <tr>\n",
       "      <th>R</th>\n",
       "      <td>4</td>\n",
       "      <td>0</td>\n",
       "      <td>4</td>\n",
       "      <td>0</td>\n",
       "      <td>0</td>\n",
       "      <td>0</td>\n",
       "      <td>0</td>\n",
       "      <td>0</td>\n",
       "      <td>0.000000</td>\n",
       "      <td>0.000000</td>\n",
       "      <td>0.000000</td>\n",
       "      <td>0.000000</td>\n",
       "      <td>0.000000</td>\n",
       "      <td>0.000000</td>\n",
       "      <td>0.000000</td>\n",
       "    </tr>\n",
       "    <tr>\n",
       "      <th rowspan=\"2\" valign=\"top\">zunim001</th>\n",
       "      <th rowspan=\"2\" valign=\"top\">R</th>\n",
       "      <th>L</th>\n",
       "      <td>522</td>\n",
       "      <td>138</td>\n",
       "      <td>466</td>\n",
       "      <td>87</td>\n",
       "      <td>163</td>\n",
       "      <td>185</td>\n",
       "      <td>48</td>\n",
       "      <td>21</td>\n",
       "      <td>0.186695</td>\n",
       "      <td>0.264368</td>\n",
       "      <td>0.349785</td>\n",
       "      <td>0.266123</td>\n",
       "      <td>0.354406</td>\n",
       "      <td>0.091954</td>\n",
       "      <td>0.040230</td>\n",
       "    </tr>\n",
       "    <tr>\n",
       "      <th>R</th>\n",
       "      <td>1269</td>\n",
       "      <td>346</td>\n",
       "      <td>1149</td>\n",
       "      <td>235</td>\n",
       "      <td>479</td>\n",
       "      <td>457</td>\n",
       "      <td>83</td>\n",
       "      <td>60</td>\n",
       "      <td>0.204526</td>\n",
       "      <td>0.272656</td>\n",
       "      <td>0.416884</td>\n",
       "      <td>0.292177</td>\n",
       "      <td>0.360126</td>\n",
       "      <td>0.065406</td>\n",
       "      <td>0.047281</td>\n",
       "    </tr>\n",
       "  </tbody>\n",
       "</table>\n",
       "<p>3663 rows × 15 columns</p>\n",
       "</div>"
      ],
      "text/plain": [
       "                                    pa   ob    ab    h    tb    k   bb   hr  \\\n",
       "bat_id   bat_hand_cd pit_hand_cd                                              \n",
       "aardd001 R           R               1    0     1    0     0    1    0    0   \n",
       "abadf001 L           R               1    0     1    0     0    1    0    0   \n",
       "abrej003 R           L             819  291   733  220   388  163   55   39   \n",
       "                     R            2727  895  2498  718  1258  541  121  123   \n",
       "ackld001 L           L              42   10    35    5     6   12    5    0   \n",
       "...                                ...  ...   ...  ...   ...  ...  ...  ...   \n",
       "zobrb001 L           R            1729  614  1484  394   626  210  214   45   \n",
       "         R           L             625  224   542  156   227   83   64    8   \n",
       "                     R               4    0     4    0     0    0    0    0   \n",
       "zunim001 R           L             522  138   466   87   163  185   48   21   \n",
       "                     R            1269  346  1149  235   479  457   83   60   \n",
       "\n",
       "                                        ba       obp       slg      woba  \\\n",
       "bat_id   bat_hand_cd pit_hand_cd                                           \n",
       "aardd001 R           R            0.000000  0.000000  0.000000  0.000000   \n",
       "abadf001 L           R            0.000000  0.000000  0.000000  0.000000   \n",
       "abrej003 R           L            0.300136  0.355311  0.529332  0.368305   \n",
       "                     R            0.287430  0.328199  0.503603  0.345790   \n",
       "ackld001 L           L            0.142857  0.238095  0.171429  0.195000   \n",
       "...                                    ...       ...       ...       ...   \n",
       "zobrb001 L           R            0.265499  0.355119  0.421833  0.335401   \n",
       "         R           L            0.287823  0.358400  0.418819  0.333565   \n",
       "                     R            0.000000  0.000000  0.000000  0.000000   \n",
       "zunim001 R           L            0.186695  0.264368  0.349785  0.266123   \n",
       "                     R            0.204526  0.272656  0.416884  0.292177   \n",
       "\n",
       "                                        k%       bb%       hr%  \n",
       "bat_id   bat_hand_cd pit_hand_cd                                \n",
       "aardd001 R           R            1.000000  0.000000  0.000000  \n",
       "abadf001 L           R            1.000000  0.000000  0.000000  \n",
       "abrej003 R           L            0.199023  0.067155  0.047619  \n",
       "                     R            0.198387  0.044371  0.045105  \n",
       "ackld001 L           L            0.285714  0.119048  0.000000  \n",
       "...                                    ...       ...       ...  \n",
       "zobrb001 L           R            0.121457  0.123771  0.026027  \n",
       "         R           L            0.132800  0.102400  0.012800  \n",
       "                     R            0.000000  0.000000  0.000000  \n",
       "zunim001 R           L            0.354406  0.091954  0.040230  \n",
       "                     R            0.360126  0.065406  0.047281  \n",
       "\n",
       "[3663 rows x 15 columns]"
      ]
     },
     "execution_count": 9,
     "metadata": {},
     "output_type": "execute_result"
    }
   ],
   "source": [
    "utils.summarize_events(pa, ['bat_id', 'bat_hand_cd', 'pit_hand_cd'])"
   ]
  },
  {
   "cell_type": "markdown",
   "id": "contained-salon",
   "metadata": {},
   "source": [
    "What to examine:\n",
    "* Platoon split (difference in wOBA vs LHP and vs RHP)\n",
    "* Look at LHB, RHB, SH separately\n",
    "* Predict later years from earlier\n",
    " * Start with basic split, e.g. X=2015-2017; Y=2018-20\n",
    " * Then move up to more complex (e.g., use consecutive years, or career going into each year)\n",
    "* Validate a simple heuristic: which is a better prediction: batter's existing split, or standard split?\n",
    "* Then attempt to predict future split.  How to work in playing time?  Regression?"
   ]
  },
  {
   "cell_type": "code",
   "execution_count": 10,
   "id": "opponent-treasury",
   "metadata": {
    "ExecuteTime": {
     "end_time": "2021-05-12T01:26:46.279256Z",
     "start_time": "2021-05-12T01:26:46.193035Z"
    }
   },
   "outputs": [
    {
     "data": {
      "text/plain": [
       "X    553503\n",
       "Y    438162\n",
       "Name: XY, dtype: int64"
      ]
     },
     "execution_count": 10,
     "metadata": {},
     "output_type": "execute_result"
    }
   ],
   "source": [
    "# Define X and Y\n",
    "\n",
    "pa['XY'] = np.where(pa['yr']>=2018, 'Y', 'X')\n",
    "pa['XY'].value_counts()"
   ]
  },
  {
   "cell_type": "code",
   "execution_count": 11,
   "id": "isolated-passport",
   "metadata": {
    "ExecuteTime": {
     "end_time": "2021-05-12T01:31:23.312584Z",
     "start_time": "2021-05-12T01:31:23.075930Z"
    }
   },
   "outputs": [],
   "source": [
    "\n",
    "pa_rhb = pa[pa['bat_hand_cd']=='R']\n",
    "pa_lhb = pa[pa['bat_hand_cd']=='L']\n"
   ]
  },
  {
   "cell_type": "code",
   "execution_count": 13,
   "id": "regular-thermal",
   "metadata": {
    "ExecuteTime": {
     "end_time": "2021-05-12T01:28:17.929262Z",
     "start_time": "2021-05-12T01:28:17.821534Z"
    }
   },
   "outputs": [
    {
     "data": {
      "text/html": [
       "<div>\n",
       "<style scoped>\n",
       "    .dataframe tbody tr th:only-of-type {\n",
       "        vertical-align: middle;\n",
       "    }\n",
       "\n",
       "    .dataframe tbody tr th {\n",
       "        vertical-align: top;\n",
       "    }\n",
       "\n",
       "    .dataframe thead th {\n",
       "        text-align: right;\n",
       "    }\n",
       "</style>\n",
       "<table border=\"1\" class=\"dataframe\">\n",
       "  <thead>\n",
       "    <tr style=\"text-align: right;\">\n",
       "      <th></th>\n",
       "      <th></th>\n",
       "      <th></th>\n",
       "      <th>pa</th>\n",
       "      <th>woba</th>\n",
       "    </tr>\n",
       "    <tr>\n",
       "      <th>bat_id</th>\n",
       "      <th>pit_hand_cd</th>\n",
       "      <th>XY</th>\n",
       "      <th></th>\n",
       "      <th></th>\n",
       "    </tr>\n",
       "  </thead>\n",
       "  <tbody>\n",
       "    <tr>\n",
       "      <th>abadf001</th>\n",
       "      <th>R</th>\n",
       "      <th>X</th>\n",
       "      <td>1</td>\n",
       "      <td>0.000000</td>\n",
       "    </tr>\n",
       "    <tr>\n",
       "      <th rowspan=\"2\" valign=\"top\">ackld001</th>\n",
       "      <th>L</th>\n",
       "      <th>X</th>\n",
       "      <td>42</td>\n",
       "      <td>0.195000</td>\n",
       "    </tr>\n",
       "    <tr>\n",
       "      <th>R</th>\n",
       "      <th>X</th>\n",
       "      <td>292</td>\n",
       "      <td>0.285349</td>\n",
       "    </tr>\n",
       "    <tr>\n",
       "      <th rowspan=\"2\" valign=\"top\">adamc001</th>\n",
       "      <th rowspan=\"2\" valign=\"top\">R</th>\n",
       "      <th>X</th>\n",
       "      <td>219</td>\n",
       "      <td>0.256338</td>\n",
       "    </tr>\n",
       "    <tr>\n",
       "      <th>Y</th>\n",
       "      <td>14</td>\n",
       "      <td>0.358000</td>\n",
       "    </tr>\n",
       "    <tr>\n",
       "      <th>...</th>\n",
       "      <th>...</th>\n",
       "      <th>...</th>\n",
       "      <td>...</td>\n",
       "      <td>...</td>\n",
       "    </tr>\n",
       "    <tr>\n",
       "      <th rowspan=\"3\" valign=\"top\">zimmb001</th>\n",
       "      <th>L</th>\n",
       "      <th>Y</th>\n",
       "      <td>45</td>\n",
       "      <td>0.257600</td>\n",
       "    </tr>\n",
       "    <tr>\n",
       "      <th rowspan=\"2\" valign=\"top\">R</th>\n",
       "      <th>X</th>\n",
       "      <td>252</td>\n",
       "      <td>0.303111</td>\n",
       "    </tr>\n",
       "    <tr>\n",
       "      <th>Y</th>\n",
       "      <td>133</td>\n",
       "      <td>0.257068</td>\n",
       "    </tr>\n",
       "    <tr>\n",
       "      <th rowspan=\"2\" valign=\"top\">zobrb001</th>\n",
       "      <th rowspan=\"2\" valign=\"top\">R</th>\n",
       "      <th>X</th>\n",
       "      <td>1196</td>\n",
       "      <td>0.333475</td>\n",
       "    </tr>\n",
       "    <tr>\n",
       "      <th>Y</th>\n",
       "      <td>533</td>\n",
       "      <td>0.339722</td>\n",
       "    </tr>\n",
       "  </tbody>\n",
       "</table>\n",
       "<p>1742 rows × 2 columns</p>\n",
       "</div>"
      ],
      "text/plain": [
       "                           pa      woba\n",
       "bat_id   pit_hand_cd XY                \n",
       "abadf001 R           X      1  0.000000\n",
       "ackld001 L           X     42  0.195000\n",
       "         R           X    292  0.285349\n",
       "adamc001 R           X    219  0.256338\n",
       "                     Y     14  0.358000\n",
       "...                       ...       ...\n",
       "zimmb001 L           Y     45  0.257600\n",
       "         R           X    252  0.303111\n",
       "                     Y    133  0.257068\n",
       "zobrb001 R           X   1196  0.333475\n",
       "                     Y    533  0.339722\n",
       "\n",
       "[1742 rows x 2 columns]"
      ]
     },
     "execution_count": 13,
     "metadata": {},
     "output_type": "execute_result"
    }
   ],
   "source": [
    "# Compute each player's platoon split in the X and Y samples\n",
    "bat_splits = utils.summarize_events(pa_lhb, ['bat_id', 'pit_hand_cd', 'XY'])[['pa', 'woba']]\n",
    "bat_splits"
   ]
  },
  {
   "cell_type": "code",
   "execution_count": 14,
   "id": "opposed-peeing",
   "metadata": {
    "ExecuteTime": {
     "end_time": "2021-05-12T01:28:34.205215Z",
     "start_time": "2021-05-12T01:28:34.195132Z"
    }
   },
   "outputs": [
    {
     "data": {
      "text/plain": [
       "71"
      ]
     },
     "execution_count": 14,
     "metadata": {},
     "output_type": "execute_result"
    }
   ],
   "source": [
    "# let's start with everyone with at least 10 PA against both hands and in both samples\n",
    "QUAL_PA = 100\n",
    "qual = (bat_splits['pa']>=QUAL_PA).groupby('bat_id').sum()>=4\n",
    "qual_bat = qual[qual==True].index\n",
    "len(qual_bat)"
   ]
  },
  {
   "cell_type": "code",
   "execution_count": 16,
   "id": "collect-password",
   "metadata": {
    "ExecuteTime": {
     "end_time": "2021-05-12T01:28:44.827798Z",
     "start_time": "2021-05-12T01:28:44.721721Z"
    }
   },
   "outputs": [
    {
     "data": {
      "text/html": [
       "<div>\n",
       "<style scoped>\n",
       "    .dataframe tbody tr th:only-of-type {\n",
       "        vertical-align: middle;\n",
       "    }\n",
       "\n",
       "    .dataframe tbody tr th {\n",
       "        vertical-align: top;\n",
       "    }\n",
       "\n",
       "    .dataframe thead th {\n",
       "        text-align: right;\n",
       "    }\n",
       "</style>\n",
       "<table border=\"1\" class=\"dataframe\">\n",
       "  <thead>\n",
       "    <tr style=\"text-align: right;\">\n",
       "      <th></th>\n",
       "      <th></th>\n",
       "      <th></th>\n",
       "      <th>pa</th>\n",
       "      <th>woba</th>\n",
       "    </tr>\n",
       "    <tr>\n",
       "      <th>bat_id</th>\n",
       "      <th>pit_hand_cd</th>\n",
       "      <th>XY</th>\n",
       "      <th></th>\n",
       "      <th></th>\n",
       "    </tr>\n",
       "  </thead>\n",
       "  <tbody>\n",
       "    <tr>\n",
       "      <th rowspan=\"4\" valign=\"top\">adamm002</th>\n",
       "      <th rowspan=\"2\" valign=\"top\">L</th>\n",
       "      <th>X</th>\n",
       "      <td>140</td>\n",
       "      <td>0.272071</td>\n",
       "    </tr>\n",
       "    <tr>\n",
       "      <th>Y</th>\n",
       "      <td>109</td>\n",
       "      <td>0.290587</td>\n",
       "    </tr>\n",
       "    <tr>\n",
       "      <th rowspan=\"2\" valign=\"top\">R</th>\n",
       "      <th>X</th>\n",
       "      <td>740</td>\n",
       "      <td>0.330211</td>\n",
       "    </tr>\n",
       "    <tr>\n",
       "      <th>Y</th>\n",
       "      <td>612</td>\n",
       "      <td>0.314546</td>\n",
       "    </tr>\n",
       "    <tr>\n",
       "      <th>alony001</th>\n",
       "      <th>L</th>\n",
       "      <th>X</th>\n",
       "      <td>240</td>\n",
       "      <td>0.285767</td>\n",
       "    </tr>\n",
       "    <tr>\n",
       "      <th>...</th>\n",
       "      <th>...</th>\n",
       "      <th>...</th>\n",
       "      <td>...</td>\n",
       "      <td>...</td>\n",
       "    </tr>\n",
       "    <tr>\n",
       "      <th>wongk001</th>\n",
       "      <th>R</th>\n",
       "      <th>Y</th>\n",
       "      <td>910</td>\n",
       "      <td>0.321479</td>\n",
       "    </tr>\n",
       "    <tr>\n",
       "      <th rowspan=\"4\" valign=\"top\">yelic001</th>\n",
       "      <th rowspan=\"2\" valign=\"top\">L</th>\n",
       "      <th>X</th>\n",
       "      <td>478</td>\n",
       "      <td>0.310209</td>\n",
       "    </tr>\n",
       "    <tr>\n",
       "      <th>Y</th>\n",
       "      <td>466</td>\n",
       "      <td>0.400017</td>\n",
       "    </tr>\n",
       "    <tr>\n",
       "      <th rowspan=\"2\" valign=\"top\">R</th>\n",
       "      <th>X</th>\n",
       "      <td>1401</td>\n",
       "      <td>0.360894</td>\n",
       "    </tr>\n",
       "    <tr>\n",
       "      <th>Y</th>\n",
       "      <td>1011</td>\n",
       "      <td>0.413897</td>\n",
       "    </tr>\n",
       "  </tbody>\n",
       "</table>\n",
       "<p>284 rows × 2 columns</p>\n",
       "</div>"
      ],
      "text/plain": [
       "                           pa      woba\n",
       "bat_id   pit_hand_cd XY                \n",
       "adamm002 L           X    140  0.272071\n",
       "                     Y    109  0.290587\n",
       "         R           X    740  0.330211\n",
       "                     Y    612  0.314546\n",
       "alony001 L           X    240  0.285767\n",
       "...                       ...       ...\n",
       "wongk001 R           Y    910  0.321479\n",
       "yelic001 L           X    478  0.310209\n",
       "                     Y    466  0.400017\n",
       "         R           X   1401  0.360894\n",
       "                     Y   1011  0.413897\n",
       "\n",
       "[284 rows x 2 columns]"
      ]
     },
     "execution_count": 16,
     "metadata": {},
     "output_type": "execute_result"
    }
   ],
   "source": [
    "pa_qual = pa[pa['bat_id'].isin(qual_bat)]\n",
    "splits_qual = utils.summarize_events(pa_qual, ['bat_id', 'pit_hand_cd', 'XY'])[['pa', 'woba']]\n",
    "splits_qual"
   ]
  },
  {
   "cell_type": "code",
   "execution_count": 17,
   "id": "small-serbia",
   "metadata": {
    "ExecuteTime": {
     "end_time": "2021-05-12T01:29:02.763394Z",
     "start_time": "2021-05-12T01:29:02.735454Z"
    }
   },
   "outputs": [
    {
     "data": {
      "text/html": [
       "<div>\n",
       "<style scoped>\n",
       "    .dataframe tbody tr th:only-of-type {\n",
       "        vertical-align: middle;\n",
       "    }\n",
       "\n",
       "    .dataframe tbody tr th {\n",
       "        vertical-align: top;\n",
       "    }\n",
       "\n",
       "    .dataframe thead tr th {\n",
       "        text-align: left;\n",
       "    }\n",
       "\n",
       "    .dataframe thead tr:last-of-type th {\n",
       "        text-align: right;\n",
       "    }\n",
       "</style>\n",
       "<table border=\"1\" class=\"dataframe\">\n",
       "  <thead>\n",
       "    <tr>\n",
       "      <th></th>\n",
       "      <th></th>\n",
       "      <th colspan=\"2\" halign=\"left\">pa</th>\n",
       "      <th colspan=\"2\" halign=\"left\">woba</th>\n",
       "    </tr>\n",
       "    <tr>\n",
       "      <th></th>\n",
       "      <th>pit_hand_cd</th>\n",
       "      <th>L</th>\n",
       "      <th>R</th>\n",
       "      <th>L</th>\n",
       "      <th>R</th>\n",
       "    </tr>\n",
       "    <tr>\n",
       "      <th>bat_id</th>\n",
       "      <th>XY</th>\n",
       "      <th></th>\n",
       "      <th></th>\n",
       "      <th></th>\n",
       "      <th></th>\n",
       "    </tr>\n",
       "  </thead>\n",
       "  <tbody>\n",
       "    <tr>\n",
       "      <th rowspan=\"2\" valign=\"top\">adamm002</th>\n",
       "      <th>X</th>\n",
       "      <td>140</td>\n",
       "      <td>740</td>\n",
       "      <td>0.272071</td>\n",
       "      <td>0.330211</td>\n",
       "    </tr>\n",
       "    <tr>\n",
       "      <th>Y</th>\n",
       "      <td>109</td>\n",
       "      <td>612</td>\n",
       "      <td>0.290587</td>\n",
       "      <td>0.314546</td>\n",
       "    </tr>\n",
       "    <tr>\n",
       "      <th rowspan=\"2\" valign=\"top\">alony001</th>\n",
       "      <th>X</th>\n",
       "      <td>240</td>\n",
       "      <td>1214</td>\n",
       "      <td>0.285767</td>\n",
       "      <td>0.333395</td>\n",
       "    </tr>\n",
       "    <tr>\n",
       "      <th>Y</th>\n",
       "      <td>209</td>\n",
       "      <td>700</td>\n",
       "      <td>0.299349</td>\n",
       "      <td>0.300400</td>\n",
       "    </tr>\n",
       "    <tr>\n",
       "      <th>bellc002</th>\n",
       "      <th>X</th>\n",
       "      <td>173</td>\n",
       "      <td>375</td>\n",
       "      <td>0.372578</td>\n",
       "      <td>0.368677</td>\n",
       "    </tr>\n",
       "    <tr>\n",
       "      <th>...</th>\n",
       "      <th>...</th>\n",
       "      <td>...</td>\n",
       "      <td>...</td>\n",
       "      <td>...</td>\n",
       "      <td>...</td>\n",
       "    </tr>\n",
       "    <tr>\n",
       "      <th>woltt001</th>\n",
       "      <th>Y</th>\n",
       "      <td>191</td>\n",
       "      <td>545</td>\n",
       "      <td>0.293916</td>\n",
       "      <td>0.262239</td>\n",
       "    </tr>\n",
       "    <tr>\n",
       "      <th rowspan=\"2\" valign=\"top\">wongk001</th>\n",
       "      <th>X</th>\n",
       "      <td>339</td>\n",
       "      <td>1046</td>\n",
       "      <td>0.266885</td>\n",
       "      <td>0.320511</td>\n",
       "    </tr>\n",
       "    <tr>\n",
       "      <th>Y</th>\n",
       "      <td>254</td>\n",
       "      <td>910</td>\n",
       "      <td>0.286528</td>\n",
       "      <td>0.321479</td>\n",
       "    </tr>\n",
       "    <tr>\n",
       "      <th rowspan=\"2\" valign=\"top\">yelic001</th>\n",
       "      <th>X</th>\n",
       "      <td>478</td>\n",
       "      <td>1401</td>\n",
       "      <td>0.310209</td>\n",
       "      <td>0.360894</td>\n",
       "    </tr>\n",
       "    <tr>\n",
       "      <th>Y</th>\n",
       "      <td>466</td>\n",
       "      <td>1011</td>\n",
       "      <td>0.400017</td>\n",
       "      <td>0.413897</td>\n",
       "    </tr>\n",
       "  </tbody>\n",
       "</table>\n",
       "<p>142 rows × 4 columns</p>\n",
       "</div>"
      ],
      "text/plain": [
       "              pa            woba          \n",
       "pit_hand_cd    L     R         L         R\n",
       "bat_id   XY                               \n",
       "adamm002 X   140   740  0.272071  0.330211\n",
       "         Y   109   612  0.290587  0.314546\n",
       "alony001 X   240  1214  0.285767  0.333395\n",
       "         Y   209   700  0.299349  0.300400\n",
       "bellc002 X   173   375  0.372578  0.368677\n",
       "...          ...   ...       ...       ...\n",
       "woltt001 Y   191   545  0.293916  0.262239\n",
       "wongk001 X   339  1046  0.266885  0.320511\n",
       "         Y   254   910  0.286528  0.321479\n",
       "yelic001 X   478  1401  0.310209  0.360894\n",
       "         Y   466  1011  0.400017  0.413897\n",
       "\n",
       "[142 rows x 4 columns]"
      ]
     },
     "execution_count": 17,
     "metadata": {},
     "output_type": "execute_result"
    }
   ],
   "source": [
    "bat_diff = splits_qual.unstack(level=1)\n",
    "bat_diff"
   ]
  },
  {
   "cell_type": "code",
   "execution_count": 18,
   "id": "short-jesus",
   "metadata": {
    "ExecuteTime": {
     "end_time": "2021-05-12T01:29:13.244919Z",
     "start_time": "2021-05-12T01:29:13.228543Z"
    }
   },
   "outputs": [
    {
     "data": {
      "text/plain": [
       "bat_id    XY\n",
       "adamm002  X    -0.058139\n",
       "          Y    -0.023959\n",
       "alony001  X    -0.047629\n",
       "          Y    -0.001051\n",
       "bellc002  X     0.003901\n",
       "                  ...   \n",
       "woltt001  Y     0.031678\n",
       "wongk001  X    -0.053626\n",
       "          Y    -0.034952\n",
       "yelic001  X    -0.050684\n",
       "          Y    -0.013880\n",
       "Length: 142, dtype: float64"
      ]
     },
     "execution_count": 18,
     "metadata": {},
     "output_type": "execute_result"
    }
   ],
   "source": [
    "pl_splt = bat_diff['woba']['L']- bat_diff['woba']['R']\n",
    "pl_splt"
   ]
  },
  {
   "cell_type": "code",
   "execution_count": 19,
   "id": "seeing-carrier",
   "metadata": {
    "ExecuteTime": {
     "end_time": "2021-05-12T01:29:34.841112Z",
     "start_time": "2021-05-12T01:29:34.531313Z"
    }
   },
   "outputs": [
    {
     "data": {
      "text/plain": [
       "<AxesSubplot:>"
      ]
     },
     "execution_count": 19,
     "metadata": {},
     "output_type": "execute_result"
    },
    {
     "data": {
      "image/png": "[encoded data removed]",
      "text/plain": [
       "<Figure size 432x288 with 1 Axes>"
      ]
     },
     "metadata": {
      "needs_background": "light"
     },
     "output_type": "display_data"
    }
   ],
   "source": [
    "pl_splt.hist()"
   ]
  },
  {
   "cell_type": "code",
   "execution_count": 20,
   "id": "forward-vanilla",
   "metadata": {
    "ExecuteTime": {
     "end_time": "2021-05-12T01:30:19.456455Z",
     "start_time": "2021-05-12T01:30:19.344129Z"
    }
   },
   "outputs": [],
   "source": [
    "import plotly.express as px"
   ]
  },
  {
   "cell_type": "code",
   "execution_count": 21,
   "id": "educated-archives",
   "metadata": {
    "ExecuteTime": {
     "end_time": "2021-05-12T01:30:21.824255Z",
     "start_time": "2021-05-12T01:30:20.013230Z"
    }
   },
   "outputs": [
    {
     "data": {
      "application/vnd.plotly.v1+json": {
       "config": {
        "plotlyServerURL": "https://plot.ly"
       },
       "data": [
        {
         "hovertemplate": "<b>%{hovertext}</b><br><br>2015-17=%{x}<br>2018-20=%{y}<extra></extra>",
         "hovertext": [
          "adamm002",
          "alony001",
          "bellc002",
          "beltb001",
          "benia002",
          "blacc001",
          "bourj002",
          "bradj001",
          "branm003",
          "brucj001",
          "calhk001",
          "canor001",
          "carpm002",
          "choos001",
          "confm001",
          "crawb001",
          "davic003",
          "dickc002",
          "dietd001",
          "dudal001",
          "dysoj001",
          "eatoa002",
          "freef001",
          "gallj002",
          "gameb001",
          "gardb001",
          "genns001",
          "gonzc001",
          "gorda001",
          "gordd002",
          "gregd001",
          "harpb003",
          "herro001",
          "heywj001",
          "holtb002",
          "hosme001",
          "incie001",
          "jay-j001",
          "keplm001",
          "kierk001",
          "kipnj001",
          "lambj001",
          "markn001",
          "martl004",
          "mauej001",
          "mazan001",
          "morem001",
          "mousm001",
          "murpd006",
          "odorr001",
          "panij002",
          "parrg001",
          "pedej001",
          "perad001",
          "polag001",
          "reddj001",
          "rizza001",
          "rosae001",
          "sches001",
          "schwk001",
          "seagc001",
          "seagk001",
          "shawt001",
          "smitm007",
          "sogae001",
          "spand001",
          "thame001",
          "vottj001",
          "woltt001",
          "wongk001",
          "yelic001"
         ],
         "legendgroup": "",
         "marker": {
          "color": "#636efa",
          "symbol": "circle"
         },
         "mode": "markers",
         "name": "",
         "orientation": "v",
         "showlegend": false,
         "type": "scatter",
         "x": [
          -0.05813938223938214,
          -0.04762872048325095,
          0.0039007013487475373,
          -0.014311394851550252,
          -0.08068970189701896,
          -0.0238207454006803,
          -0.061440407979005796,
          -0.01256491354256778,
          -0.03752873258965145,
          -0.048690437966483646,
          -0.01213524000347016,
          -0.06715743326829149,
          -0.05533782395053416,
          -0.017225437983264535,
          -0.12271231357686774,
          -0.020539155555555577,
          -0.0489397171870552,
          -0.03197317275747502,
          -0.049999052605335326,
          -0.03220948851573052,
          -0.044846637818896196,
          -0.05159206946071576,
          -0.039243996412627935,
          -0.02920190229139652,
          0.007930039767512997,
          -0.04481060688449956,
          -0.054697506338838575,
          -0.10777741081642522,
          0.01284895607594888,
          -0.01162671851734054,
          -0.018144993412384736,
          -0.045622234240539516,
          -0.028626811063214797,
          -0.02980350883404742,
          0.005891081274880694,
          -0.06448668054889073,
          -0.04001049454505179,
          0.011632797103881432,
          -0.10978907336343671,
          -0.026499411901280967,
          -0.05186280549177613,
          -0.09797277122072523,
          -0.04282275580018313,
          0.013496985251463423,
          -0.022208266954503675,
          -0.07513866748416104,
          -0.016714152393500215,
          -0.010467582598709058,
          -0.03979677549890326,
          -0.03438185964535467,
          -0.03599892307232083,
          -0.023517674783974873,
          -0.08719280253016853,
          -0.057739976478135335,
          -0.049794013397248704,
          -0.09093335018418924,
          -0.013635618579826425,
          -0.034770538186679245,
          -0.024322412414013783,
          -0.09842068714590152,
          -0.025352167278996585,
          -0.009497546364157783,
          -0.01887963974322121,
          -0.1280547103274559,
          -0.02337842409853086,
          -0.09342616155774058,
          -0.10003275257033806,
          -0.010059997037408397,
          -0.050684296277729024,
          -0.05362556050017764,
          -0.0506844423737976
         ],
         "xaxis": "x",
         "y": [
          -0.023958595670684202,
          -0.0010507177033492465,
          -0.04422574246191968,
          -0.06513563982128534,
          -0.028505540103050397,
          0.006840722512908071,
          -0.0586010101010101,
          -0.039793559746199025,
          -0.07693457437110518,
          -0.021410307366189762,
          -0.01636414680210302,
          -0.012284136855284011,
          -0.011148702667787835,
          -0.0823332484133873,
          -0.03211677585542466,
          0.00022573130518033224,
          -0.03484777705569786,
          -0.038043707958028694,
          -0.034727366732037745,
          -0.10525429362880884,
          0.06057478070175437,
          -0.06405771833883811,
          -0.05039643526200288,
          0.018168387946789044,
          0.03988790192717262,
          -0.06762316482494773,
          -0.0365688389750079,
          -0.04883684350839779,
          -0.0401402946352149,
          -0.016185070860843587,
          -0.02578163170163167,
          0.022695430280570472,
          0.00474599586053176,
          -0.07271884496159547,
          -0.027502474723973158,
          -0.09355024774488627,
          -0.005799824080302218,
          -0.019041788638581247,
          -0.0173900015358624,
          -0.001481538341035482,
          -0.042385287485907586,
          0.024774998936667902,
          -0.023537012606273833,
          -0.09415702821212873,
          0.01782965122405261,
          -0.03706705456204901,
          -0.06521070954907165,
          -0.010018621735533972,
          -0.019725338256101954,
          0.007682416301149408,
          -0.003484807785888,
          -0.06820857049926818,
          -0.13559568125888186,
          -0.07153899803899799,
          -0.017107252410166474,
          0.05402231899836696,
          -0.05512777571309119,
          -0.03695057858143136,
          0.017671680695085512,
          -0.04569361667480876,
          -0.06188721088435378,
          0.028917225811473435,
          -0.08644641277376194,
          0.021810230224416305,
          0.047341653470075185,
          0.03668936917597698,
          -0.04714275680819252,
          -0.04218856070369825,
          0.03167769825640038,
          -0.034951561824002775,
          -0.01387996417094356
         ],
         "yaxis": "y"
        },
        {
         "hovertemplate": "<b>OLS trendline</b><br>Y = -0.0765739 * X + -0.0297845<br>R<sup>2</sup>=0.003948<br><br>2015-17=%{x}<br>2018-20=%{y} <b>(trend)</b><extra></extra>",
         "legendgroup": "",
         "marker": {
          "color": "#636efa",
          "symbol": "circle"
         },
         "mode": "lines",
         "name": "",
         "showlegend": false,
         "type": "scatter",
         "x": [
          -0.1280547103274559,
          -0.12271231357686774,
          -0.10978907336343671,
          -0.10777741081642522,
          -0.10003275257033806,
          -0.09842068714590152,
          -0.09797277122072523,
          -0.09342616155774058,
          -0.09093335018418924,
          -0.08719280253016853,
          -0.08068970189701896,
          -0.07513866748416104,
          -0.06715743326829149,
          -0.06448668054889073,
          -0.061440407979005796,
          -0.05813938223938214,
          -0.057739976478135335,
          -0.05533782395053416,
          -0.054697506338838575,
          -0.05362556050017764,
          -0.05186280549177613,
          -0.05159206946071576,
          -0.0506844423737976,
          -0.050684296277729024,
          -0.049999052605335326,
          -0.049794013397248704,
          -0.0489397171870552,
          -0.048690437966483646,
          -0.04762872048325095,
          -0.045622234240539516,
          -0.044846637818896196,
          -0.04481060688449956,
          -0.04282275580018313,
          -0.04001049454505179,
          -0.03979677549890326,
          -0.039243996412627935,
          -0.03752873258965145,
          -0.03599892307232083,
          -0.034770538186679245,
          -0.03438185964535467,
          -0.03220948851573052,
          -0.03197317275747502,
          -0.02980350883404742,
          -0.02920190229139652,
          -0.028626811063214797,
          -0.026499411901280967,
          -0.025352167278996585,
          -0.024322412414013783,
          -0.0238207454006803,
          -0.023517674783974873,
          -0.02337842409853086,
          -0.022208266954503675,
          -0.020539155555555577,
          -0.01887963974322121,
          -0.018144993412384736,
          -0.017225437983264535,
          -0.016714152393500215,
          -0.014311394851550252,
          -0.013635618579826425,
          -0.01256491354256778,
          -0.01213524000347016,
          -0.01162671851734054,
          -0.010467582598709058,
          -0.010059997037408397,
          -0.009497546364157783,
          0.0039007013487475373,
          0.005891081274880694,
          0.007930039767512997,
          0.011632797103881432,
          0.01284895607594888,
          0.013496985251463423
         ],
         "xaxis": "x",
         "y": [
          -0.01997887762377517,
          -0.020387965695829534,
          -0.02137754840007662,
          -0.02153158921572557,
          -0.0221246277822197,
          -0.022248069893934005,
          -0.022282368556281133,
          -0.02263052011975484,
          -0.02282140437010353,
          -0.023107832634354467,
          -0.023605800311520667,
          -0.024030864579840584,
          -0.024642018687334552,
          -0.024846528597758804,
          -0.025079793521864097,
          -0.02533256588578031,
          -0.025363149936434706,
          -0.025547092086779244,
          -0.02559612369365909,
          -0.02567820675056351,
          -0.02581318774908477,
          -0.025833919058673476,
          -0.025903419590450866,
          -0.025903430777594355,
          -0.02595590254745984,
          -0.025971603196110183,
          -0.026037019975489763,
          -0.026056108253749065,
          -0.02613740808574568,
          -0.02629105253166671,
          -0.026350442962522935,
          -0.02635320199113402,
          -0.026505419470587346,
          -0.026720765239290914,
          -0.02673713053685901,
          -0.026779458978798753,
          -0.026910803392769654,
          -0.027027946850148834,
          -0.027122009052577455,
          -0.027151771678331875,
          -0.02731811857443364,
          -0.027336214190026055,
          -0.027502353784833043,
          -0.02754842113478066,
          -0.027592458104099035,
          -0.027755361321938433,
          -0.027843210299207558,
          -0.027922062629364062,
          -0.027960477221330722,
          -0.027983684515747915,
          -0.027994347481660034,
          -0.028083950959724074,
          -0.02821176130330525,
          -0.02833883687554478,
          -0.028395091598874832,
          -0.028465505530150995,
          -0.028504656653878906,
          -0.028688645132522346,
          -0.028740391946741856,
          -0.02882237999066293,
          -0.028855281762644364,
          -0.02889422122821964,
          -0.028982980768242517,
          -0.02901419117796196,
          -0.029057260210886265,
          -0.030083216084563328,
          -0.030235627207258003,
          -0.03039175817949588,
          -0.030675292692325416,
          -0.03076841870905937,
          -0.030818040820336866
         ],
         "yaxis": "y"
        }
       ],
       "layout": {
        "legend": {
         "tracegroupgap": 0
        },
        "margin": {
         "t": 60
        },
        "template": {
         "data": {
          "bar": [
           {
            "error_x": {
             "color": "#2a3f5f"
            },
            "error_y": {
             "color": "#2a3f5f"
            },
            "marker": {
             "line": {
              "color": "#E5ECF6",
              "width": 0.5
             }
            },
            "type": "bar"
           }
          ],
          "barpolar": [
           {
            "marker": {
             "line": {
              "color": "#E5ECF6",
              "width": 0.5
             }
            },
            "type": "barpolar"
           }
          ],
          "carpet": [
           {
            "aaxis": {
             "endlinecolor": "#2a3f5f",
             "gridcolor": "white",
             "linecolor": "white",
             "minorgridcolor": "white",
             "startlinecolor": "#2a3f5f"
            },
            "baxis": {
             "endlinecolor": "#2a3f5f",
             "gridcolor": "white",
             "linecolor": "white",
             "minorgridcolor": "white",
             "startlinecolor": "#2a3f5f"
            },
            "type": "carpet"
           }
          ],
          "choropleth": [
           {
            "colorbar": {
             "outlinewidth": 0,
             "ticks": ""
            },
            "type": "choropleth"
           }
          ],
          "contour": [
           {
            "colorbar": {
             "outlinewidth": 0,
             "ticks": ""
            },
            "colorscale": [
             [
              0,
              "#0d0887"
             ],
             [
              0.1111111111111111,
              "#46039f"
             ],
             [
              0.2222222222222222,
              "#7201a8"
             ],
             [
              0.3333333333333333,
              "#9c179e"
             ],
             [
              0.4444444444444444,
              "#bd3786"
             ],
             [
              0.5555555555555556,
              "#d8576b"
             ],
             [
              0.6666666666666666,
              "#ed7953"
             ],
             [
              0.7777777777777778,
              "#fb9f3a"
             ],
             [
              0.8888888888888888,
              "#fdca26"
             ],
             [
              1,
              "#f0f921"
             ]
            ],
            "type": "contour"
           }
          ],
          "contourcarpet": [
           {
            "colorbar": {
             "outlinewidth": 0,
             "ticks": ""
            },
            "type": "contourcarpet"
           }
          ],
          "heatmap": [
           {
            "colorbar": {
             "outlinewidth": 0,
             "ticks": ""
            },
            "colorscale": [
             [
              0,
              "#0d0887"
             ],
             [
              0.1111111111111111,
              "#46039f"
             ],
             [
              0.2222222222222222,
              "#7201a8"
             ],
             [
              0.3333333333333333,
              "#9c179e"
             ],
             [
              0.4444444444444444,
              "#bd3786"
             ],
             [
              0.5555555555555556,
              "#d8576b"
             ],
             [
              0.6666666666666666,
              "#ed7953"
             ],
             [
              0.7777777777777778,
              "#fb9f3a"
             ],
             [
              0.8888888888888888,
              "#fdca26"
             ],
             [
              1,
              "#f0f921"
             ]
            ],
            "type": "heatmap"
           }
          ],
          "heatmapgl": [
           {
            "colorbar": {
             "outlinewidth": 0,
             "ticks": ""
            },
            "colorscale": [
             [
              0,
              "#0d0887"
             ],
             [
              0.1111111111111111,
              "#46039f"
             ],
             [
              0.2222222222222222,
              "#7201a8"
             ],
             [
              0.3333333333333333,
              "#9c179e"
             ],
             [
              0.4444444444444444,
              "#bd3786"
             ],
             [
              0.5555555555555556,
              "#d8576b"
             ],
             [
              0.6666666666666666,
              "#ed7953"
             ],
             [
              0.7777777777777778,
              "#fb9f3a"
             ],
             [
              0.8888888888888888,
              "#fdca26"
             ],
             [
              1,
              "#f0f921"
             ]
            ],
            "type": "heatmapgl"
           }
          ],
          "histogram": [
           {
            "marker": {
             "colorbar": {
              "outlinewidth": 0,
              "ticks": ""
             }
            },
            "type": "histogram"
           }
          ],
          "histogram2d": [
           {
            "colorbar": {
             "outlinewidth": 0,
             "ticks": ""
            },
            "colorscale": [
             [
              0,
              "#0d0887"
             ],
             [
              0.1111111111111111,
              "#46039f"
             ],
             [
              0.2222222222222222,
              "#7201a8"
             ],
             [
              0.3333333333333333,
              "#9c179e"
             ],
             [
              0.4444444444444444,
              "#bd3786"
             ],
             [
              0.5555555555555556,
              "#d8576b"
             ],
             [
              0.6666666666666666,
              "#ed7953"
             ],
             [
              0.7777777777777778,
              "#fb9f3a"
             ],
             [
              0.8888888888888888,
              "#fdca26"
             ],
             [
              1,
              "#f0f921"
             ]
            ],
            "type": "histogram2d"
           }
          ],
          "histogram2dcontour": [
           {
            "colorbar": {
             "outlinewidth": 0,
             "ticks": ""
            },
            "colorscale": [
             [
              0,
              "#0d0887"
             ],
             [
              0.1111111111111111,
              "#46039f"
             ],
             [
              0.2222222222222222,
              "#7201a8"
             ],
             [
              0.3333333333333333,
              "#9c179e"
             ],
             [
              0.4444444444444444,
              "#bd3786"
             ],
             [
              0.5555555555555556,
              "#d8576b"
             ],
             [
              0.6666666666666666,
              "#ed7953"
             ],
             [
              0.7777777777777778,
              "#fb9f3a"
             ],
             [
              0.8888888888888888,
              "#fdca26"
             ],
             [
              1,
              "#f0f921"
             ]
            ],
            "type": "histogram2dcontour"
           }
          ],
          "mesh3d": [
           {
            "colorbar": {
             "outlinewidth": 0,
             "ticks": ""
            },
            "type": "mesh3d"
           }
          ],
          "parcoords": [
           {
            "line": {
             "colorbar": {
              "outlinewidth": 0,
              "ticks": ""
             }
            },
            "type": "parcoords"
           }
          ],
          "pie": [
           {
            "automargin": true,
            "type": "pie"
           }
          ],
          "scatter": [
           {
            "marker": {
             "colorbar": {
              "outlinewidth": 0,
              "ticks": ""
             }
            },
            "type": "scatter"
           }
          ],
          "scatter3d": [
           {
            "line": {
             "colorbar": {
              "outlinewidth": 0,
              "ticks": ""
             }
            },
            "marker": {
             "colorbar": {
              "outlinewidth": 0,
              "ticks": ""
             }
            },
            "type": "scatter3d"
           }
          ],
          "scattercarpet": [
           {
            "marker": {
             "colorbar": {
              "outlinewidth": 0,
              "ticks": ""
             }
            },
            "type": "scattercarpet"
           }
          ],
          "scattergeo": [
           {
            "marker": {
             "colorbar": {
              "outlinewidth": 0,
              "ticks": ""
             }
            },
            "type": "scattergeo"
           }
          ],
          "scattergl": [
           {
            "marker": {
             "colorbar": {
              "outlinewidth": 0,
              "ticks": ""
             }
            },
            "type": "scattergl"
           }
          ],
          "scattermapbox": [
           {
            "marker": {
             "colorbar": {
              "outlinewidth": 0,
              "ticks": ""
             }
            },
            "type": "scattermapbox"
           }
          ],
          "scatterpolar": [
           {
            "marker": {
             "colorbar": {
              "outlinewidth": 0,
              "ticks": ""
             }
            },
            "type": "scatterpolar"
           }
          ],
          "scatterpolargl": [
           {
            "marker": {
             "colorbar": {
              "outlinewidth": 0,
              "ticks": ""
             }
            },
            "type": "scatterpolargl"
           }
          ],
          "scatterternary": [
           {
            "marker": {
             "colorbar": {
              "outlinewidth": 0,
              "ticks": ""
             }
            },
            "type": "scatterternary"
           }
          ],
          "surface": [
           {
            "colorbar": {
             "outlinewidth": 0,
             "ticks": ""
            },
            "colorscale": [
             [
              0,
              "#0d0887"
             ],
             [
              0.1111111111111111,
              "#46039f"
             ],
             [
              0.2222222222222222,
              "#7201a8"
             ],
             [
              0.3333333333333333,
              "#9c179e"
             ],
             [
              0.4444444444444444,
              "#bd3786"
             ],
             [
              0.5555555555555556,
              "#d8576b"
             ],
             [
              0.6666666666666666,
              "#ed7953"
             ],
             [
              0.7777777777777778,
              "#fb9f3a"
             ],
             [
              0.8888888888888888,
              "#fdca26"
             ],
             [
              1,
              "#f0f921"
             ]
            ],
            "type": "surface"
           }
          ],
          "table": [
           {
            "cells": {
             "fill": {
              "color": "#EBF0F8"
             },
             "line": {
              "color": "white"
             }
            },
            "header": {
             "fill": {
              "color": "#C8D4E3"
             },
             "line": {
              "color": "white"
             }
            },
            "type": "table"
           }
          ]
         },
         "layout": {
          "annotationdefaults": {
           "arrowcolor": "#2a3f5f",
           "arrowhead": 0,
           "arrowwidth": 1
          },
          "autotypenumbers": "strict",
          "coloraxis": {
           "colorbar": {
            "outlinewidth": 0,
            "ticks": ""
           }
          },
          "colorscale": {
           "diverging": [
            [
             0,
             "#8e0152"
            ],
            [
             0.1,
             "#c51b7d"
            ],
            [
             0.2,
             "#de77ae"
            ],
            [
             0.3,
             "#f1b6da"
            ],
            [
             0.4,
             "#fde0ef"
            ],
            [
             0.5,
             "#f7f7f7"
            ],
            [
             0.6,
             "#e6f5d0"
            ],
            [
             0.7,
             "#b8e186"
            ],
            [
             0.8,
             "#7fbc41"
            ],
            [
             0.9,
             "#4d9221"
            ],
            [
             1,
             "#276419"
            ]
           ],
           "sequential": [
            [
             0,
             "#0d0887"
            ],
            [
             0.1111111111111111,
             "#46039f"
            ],
            [
             0.2222222222222222,
             "#7201a8"
            ],
            [
             0.3333333333333333,
             "#9c179e"
            ],
            [
             0.4444444444444444,
             "#bd3786"
            ],
            [
             0.5555555555555556,
             "#d8576b"
            ],
            [
             0.6666666666666666,
             "#ed7953"
            ],
            [
             0.7777777777777778,
             "#fb9f3a"
            ],
            [
             0.8888888888888888,
             "#fdca26"
            ],
            [
             1,
             "#f0f921"
            ]
           ],
           "sequentialminus": [
            [
             0,
             "#0d0887"
            ],
            [
             0.1111111111111111,
             "#46039f"
            ],
            [
             0.2222222222222222,
             "#7201a8"
            ],
            [
             0.3333333333333333,
             "#9c179e"
            ],
            [
             0.4444444444444444,
             "#bd3786"
            ],
            [
             0.5555555555555556,
             "#d8576b"
            ],
            [
             0.6666666666666666,
             "#ed7953"
            ],
            [
             0.7777777777777778,
             "#fb9f3a"
            ],
            [
             0.8888888888888888,
             "#fdca26"
            ],
            [
             1,
             "#f0f921"
            ]
           ]
          },
          "colorway": [
           "#636efa",
           "#EF553B",
           "#00cc96",
           "#ab63fa",
           "#FFA15A",
           "#19d3f3",
           "#FF6692",
           "#B6E880",
           "#FF97FF",
           "#FECB52"
          ],
          "font": {
           "color": "#2a3f5f"
          },
          "geo": {
           "bgcolor": "white",
           "lakecolor": "white",
           "landcolor": "#E5ECF6",
           "showlakes": true,
           "showland": true,
           "subunitcolor": "white"
          },
          "hoverlabel": {
           "align": "left"
          },
          "hovermode": "closest",
          "mapbox": {
           "style": "light"
          },
          "paper_bgcolor": "white",
          "plot_bgcolor": "#E5ECF6",
          "polar": {
           "angularaxis": {
            "gridcolor": "white",
            "linecolor": "white",
            "ticks": ""
           },
           "bgcolor": "#E5ECF6",
           "radialaxis": {
            "gridcolor": "white",
            "linecolor": "white",
            "ticks": ""
           }
          },
          "scene": {
           "xaxis": {
            "backgroundcolor": "#E5ECF6",
            "gridcolor": "white",
            "gridwidth": 2,
            "linecolor": "white",
            "showbackground": true,
            "ticks": "",
            "zerolinecolor": "white"
           },
           "yaxis": {
            "backgroundcolor": "#E5ECF6",
            "gridcolor": "white",
            "gridwidth": 2,
            "linecolor": "white",
            "showbackground": true,
            "ticks": "",
            "zerolinecolor": "white"
           },
           "zaxis": {
            "backgroundcolor": "#E5ECF6",
            "gridcolor": "white",
            "gridwidth": 2,
            "linecolor": "white",
            "showbackground": true,
            "ticks": "",
            "zerolinecolor": "white"
           }
          },
          "shapedefaults": {
           "line": {
            "color": "#2a3f5f"
           }
          },
          "ternary": {
           "aaxis": {
            "gridcolor": "white",
            "linecolor": "white",
            "ticks": ""
           },
           "baxis": {
            "gridcolor": "white",
            "linecolor": "white",
            "ticks": ""
           },
           "bgcolor": "#E5ECF6",
           "caxis": {
            "gridcolor": "white",
            "linecolor": "white",
            "ticks": ""
           }
          },
          "title": {
           "x": 0.05
          },
          "xaxis": {
           "automargin": true,
           "gridcolor": "white",
           "linecolor": "white",
           "ticks": "",
           "title": {
            "standoff": 15
           },
           "zerolinecolor": "white",
           "zerolinewidth": 2
          },
          "yaxis": {
           "automargin": true,
           "gridcolor": "white",
           "linecolor": "white",
           "ticks": "",
           "title": {
            "standoff": 15
           },
           "zerolinecolor": "white",
           "zerolinewidth": 2
          }
         }
        },
        "xaxis": {
         "anchor": "y",
         "domain": [
          0,
          1
         ],
         "title": {
          "text": "2015-17"
         }
        },
        "yaxis": {
         "anchor": "x",
         "domain": [
          0,
          1
         ],
         "title": {
          "text": "2018-20"
         }
        }
       }
      }
     },
     "metadata": {},
     "output_type": "display_data"
    }
   ],
   "source": [
    "fig = px.scatter(pl_splt.unstack().reset_index(), x='X', y='Y', trendline=\"ols\", hover_name=\"bat_id\"\n",
    "                 , labels={'X': '2015-17', 'Y': '2018-20'})\n",
    "fig.show()"
   ]
  },
  {
   "cell_type": "code",
   "execution_count": 22,
   "id": "based-heather",
   "metadata": {
    "ExecuteTime": {
     "end_time": "2021-05-12T01:31:39.771176Z",
     "start_time": "2021-05-12T01:31:39.516432Z"
    }
   },
   "outputs": [],
   "source": [
    "from sklearn.metrics import mean_squared_error"
   ]
  },
  {
   "cell_type": "code",
   "execution_count": 23,
   "id": "alternative-quantity",
   "metadata": {
    "ExecuteTime": {
     "end_time": "2021-05-12T01:31:40.496597Z",
     "start_time": "2021-05-12T01:31:40.481685Z"
    }
   },
   "outputs": [
    {
     "data": {
      "text/plain": [
       "count    71.000000\n",
       "mean     -0.026543\n",
       "std       0.039738\n",
       "min      -0.135596\n",
       "25%      -0.049617\n",
       "50%      -0.027502\n",
       "75%      -0.001266\n",
       "max       0.060575\n",
       "Name: Y, dtype: float64"
      ]
     },
     "execution_count": 23,
     "metadata": {},
     "output_type": "execute_result"
    }
   ],
   "source": [
    "pl_splt.unstack()['Y'].describe()"
   ]
  },
  {
   "cell_type": "code",
   "execution_count": 24,
   "id": "great-timeline",
   "metadata": {
    "ExecuteTime": {
     "end_time": "2021-05-12T01:31:43.760440Z",
     "start_time": "2021-05-12T01:31:43.738699Z"
    }
   },
   "outputs": [
    {
     "data": {
      "text/html": [
       "<div>\n",
       "<style scoped>\n",
       "    .dataframe tbody tr th:only-of-type {\n",
       "        vertical-align: middle;\n",
       "    }\n",
       "\n",
       "    .dataframe tbody tr th {\n",
       "        vertical-align: top;\n",
       "    }\n",
       "\n",
       "    .dataframe thead th {\n",
       "        text-align: right;\n",
       "    }\n",
       "</style>\n",
       "<table border=\"1\" class=\"dataframe\">\n",
       "  <thead>\n",
       "    <tr style=\"text-align: right;\">\n",
       "      <th>XY</th>\n",
       "      <th>X</th>\n",
       "      <th>Y</th>\n",
       "      <th>base_pred</th>\n",
       "    </tr>\n",
       "    <tr>\n",
       "      <th>bat_id</th>\n",
       "      <th></th>\n",
       "      <th></th>\n",
       "      <th></th>\n",
       "    </tr>\n",
       "  </thead>\n",
       "  <tbody>\n",
       "    <tr>\n",
       "      <th>adamm002</th>\n",
       "      <td>-0.058139</td>\n",
       "      <td>-0.023959</td>\n",
       "      <td>-0.026543</td>\n",
       "    </tr>\n",
       "    <tr>\n",
       "      <th>alony001</th>\n",
       "      <td>-0.047629</td>\n",
       "      <td>-0.001051</td>\n",
       "      <td>-0.026543</td>\n",
       "    </tr>\n",
       "    <tr>\n",
       "      <th>bellc002</th>\n",
       "      <td>0.003901</td>\n",
       "      <td>-0.044226</td>\n",
       "      <td>-0.026543</td>\n",
       "    </tr>\n",
       "    <tr>\n",
       "      <th>beltb001</th>\n",
       "      <td>-0.014311</td>\n",
       "      <td>-0.065136</td>\n",
       "      <td>-0.026543</td>\n",
       "    </tr>\n",
       "    <tr>\n",
       "      <th>benia002</th>\n",
       "      <td>-0.080690</td>\n",
       "      <td>-0.028506</td>\n",
       "      <td>-0.026543</td>\n",
       "    </tr>\n",
       "    <tr>\n",
       "      <th>...</th>\n",
       "      <td>...</td>\n",
       "      <td>...</td>\n",
       "      <td>...</td>\n",
       "    </tr>\n",
       "    <tr>\n",
       "      <th>thame001</th>\n",
       "      <td>-0.100033</td>\n",
       "      <td>-0.047143</td>\n",
       "      <td>-0.026543</td>\n",
       "    </tr>\n",
       "    <tr>\n",
       "      <th>vottj001</th>\n",
       "      <td>-0.010060</td>\n",
       "      <td>-0.042189</td>\n",
       "      <td>-0.026543</td>\n",
       "    </tr>\n",
       "    <tr>\n",
       "      <th>woltt001</th>\n",
       "      <td>-0.050684</td>\n",
       "      <td>0.031678</td>\n",
       "      <td>-0.026543</td>\n",
       "    </tr>\n",
       "    <tr>\n",
       "      <th>wongk001</th>\n",
       "      <td>-0.053626</td>\n",
       "      <td>-0.034952</td>\n",
       "      <td>-0.026543</td>\n",
       "    </tr>\n",
       "    <tr>\n",
       "      <th>yelic001</th>\n",
       "      <td>-0.050684</td>\n",
       "      <td>-0.013880</td>\n",
       "      <td>-0.026543</td>\n",
       "    </tr>\n",
       "  </tbody>\n",
       "</table>\n",
       "<p>71 rows × 3 columns</p>\n",
       "</div>"
      ],
      "text/plain": [
       "XY               X         Y  base_pred\n",
       "bat_id                                 \n",
       "adamm002 -0.058139 -0.023959  -0.026543\n",
       "alony001 -0.047629 -0.001051  -0.026543\n",
       "bellc002  0.003901 -0.044226  -0.026543\n",
       "beltb001 -0.014311 -0.065136  -0.026543\n",
       "benia002 -0.080690 -0.028506  -0.026543\n",
       "...            ...       ...        ...\n",
       "thame001 -0.100033 -0.047143  -0.026543\n",
       "vottj001 -0.010060 -0.042189  -0.026543\n",
       "woltt001 -0.050684  0.031678  -0.026543\n",
       "wongk001 -0.053626 -0.034952  -0.026543\n",
       "yelic001 -0.050684 -0.013880  -0.026543\n",
       "\n",
       "[71 rows x 3 columns]"
      ]
     },
     "execution_count": 24,
     "metadata": {},
     "output_type": "execute_result"
    }
   ],
   "source": [
    "outputs = pl_splt.unstack()\n",
    "outputs['base_pred'] = outputs['Y'].mean()\n",
    "\n",
    "outputs"
   ]
  },
  {
   "cell_type": "code",
   "execution_count": 25,
   "id": "conscious-maine",
   "metadata": {
    "ExecuteTime": {
     "end_time": "2021-05-12T01:31:54.200301Z",
     "start_time": "2021-05-12T01:31:54.190940Z"
    }
   },
   "outputs": [
    {
     "data": {
      "text/plain": [
       "0.0394568431012477"
      ]
     },
     "execution_count": 25,
     "metadata": {},
     "output_type": "execute_result"
    }
   ],
   "source": [
    "mean_squared_error(outputs['Y'], outputs['base_pred'], squared=False)"
   ]
  },
  {
   "cell_type": "code",
   "execution_count": 26,
   "id": "toxic-relationship",
   "metadata": {
    "ExecuteTime": {
     "end_time": "2021-05-12T01:32:00.112308Z",
     "start_time": "2021-05-12T01:32:00.106051Z"
    }
   },
   "outputs": [
    {
     "data": {
      "text/plain": [
       "0.05490746497950473"
      ]
     },
     "execution_count": 26,
     "metadata": {},
     "output_type": "execute_result"
    }
   ],
   "source": [
    "mean_squared_error(outputs['Y'], outputs['X'], squared=False)"
   ]
  },
  {
   "cell_type": "code",
   "execution_count": 27,
   "id": "excessive-marking",
   "metadata": {
    "ExecuteTime": {
     "end_time": "2021-05-12T01:32:10.277308Z",
     "start_time": "2021-05-12T01:32:10.165871Z"
    }
   },
   "outputs": [],
   "source": [
    "from sklearn.linear_model import LinearRegression"
   ]
  },
  {
   "cell_type": "code",
   "execution_count": 28,
   "id": "guided-hebrew",
   "metadata": {
    "ExecuteTime": {
     "end_time": "2021-05-12T01:32:11.790738Z",
     "start_time": "2021-05-12T01:32:11.773763Z"
    }
   },
   "outputs": [
    {
     "data": {
      "text/plain": [
       "LinearRegression()"
      ]
     },
     "execution_count": 28,
     "metadata": {},
     "output_type": "execute_result"
    }
   ],
   "source": [
    "reg = LinearRegression()\n",
    "reg.fit(outputs[['X']], outputs['Y'])"
   ]
  },
  {
   "cell_type": "code",
   "execution_count": 29,
   "id": "hybrid-macedonia",
   "metadata": {
    "ExecuteTime": {
     "end_time": "2021-05-12T01:32:13.103325Z",
     "start_time": "2021-05-12T01:32:13.081438Z"
    }
   },
   "outputs": [
    {
     "data": {
      "text/html": [
       "<div>\n",
       "<style scoped>\n",
       "    .dataframe tbody tr th:only-of-type {\n",
       "        vertical-align: middle;\n",
       "    }\n",
       "\n",
       "    .dataframe tbody tr th {\n",
       "        vertical-align: top;\n",
       "    }\n",
       "\n",
       "    .dataframe thead th {\n",
       "        text-align: right;\n",
       "    }\n",
       "</style>\n",
       "<table border=\"1\" class=\"dataframe\">\n",
       "  <thead>\n",
       "    <tr style=\"text-align: right;\">\n",
       "      <th>XY</th>\n",
       "      <th>X</th>\n",
       "      <th>Y</th>\n",
       "      <th>base_pred</th>\n",
       "      <th>lin_pred</th>\n",
       "    </tr>\n",
       "    <tr>\n",
       "      <th>bat_id</th>\n",
       "      <th></th>\n",
       "      <th></th>\n",
       "      <th></th>\n",
       "      <th></th>\n",
       "    </tr>\n",
       "  </thead>\n",
       "  <tbody>\n",
       "    <tr>\n",
       "      <th>adamm002</th>\n",
       "      <td>-0.058139</td>\n",
       "      <td>-0.023959</td>\n",
       "      <td>-0.026543</td>\n",
       "      <td>-0.025333</td>\n",
       "    </tr>\n",
       "    <tr>\n",
       "      <th>alony001</th>\n",
       "      <td>-0.047629</td>\n",
       "      <td>-0.001051</td>\n",
       "      <td>-0.026543</td>\n",
       "      <td>-0.026137</td>\n",
       "    </tr>\n",
       "    <tr>\n",
       "      <th>bellc002</th>\n",
       "      <td>0.003901</td>\n",
       "      <td>-0.044226</td>\n",
       "      <td>-0.026543</td>\n",
       "      <td>-0.030083</td>\n",
       "    </tr>\n",
       "    <tr>\n",
       "      <th>beltb001</th>\n",
       "      <td>-0.014311</td>\n",
       "      <td>-0.065136</td>\n",
       "      <td>-0.026543</td>\n",
       "      <td>-0.028689</td>\n",
       "    </tr>\n",
       "    <tr>\n",
       "      <th>benia002</th>\n",
       "      <td>-0.080690</td>\n",
       "      <td>-0.028506</td>\n",
       "      <td>-0.026543</td>\n",
       "      <td>-0.023606</td>\n",
       "    </tr>\n",
       "    <tr>\n",
       "      <th>...</th>\n",
       "      <td>...</td>\n",
       "      <td>...</td>\n",
       "      <td>...</td>\n",
       "      <td>...</td>\n",
       "    </tr>\n",
       "    <tr>\n",
       "      <th>thame001</th>\n",
       "      <td>-0.100033</td>\n",
       "      <td>-0.047143</td>\n",
       "      <td>-0.026543</td>\n",
       "      <td>-0.022125</td>\n",
       "    </tr>\n",
       "    <tr>\n",
       "      <th>vottj001</th>\n",
       "      <td>-0.010060</td>\n",
       "      <td>-0.042189</td>\n",
       "      <td>-0.026543</td>\n",
       "      <td>-0.029014</td>\n",
       "    </tr>\n",
       "    <tr>\n",
       "      <th>woltt001</th>\n",
       "      <td>-0.050684</td>\n",
       "      <td>0.031678</td>\n",
       "      <td>-0.026543</td>\n",
       "      <td>-0.025903</td>\n",
       "    </tr>\n",
       "    <tr>\n",
       "      <th>wongk001</th>\n",
       "      <td>-0.053626</td>\n",
       "      <td>-0.034952</td>\n",
       "      <td>-0.026543</td>\n",
       "      <td>-0.025678</td>\n",
       "    </tr>\n",
       "    <tr>\n",
       "      <th>yelic001</th>\n",
       "      <td>-0.050684</td>\n",
       "      <td>-0.013880</td>\n",
       "      <td>-0.026543</td>\n",
       "      <td>-0.025903</td>\n",
       "    </tr>\n",
       "  </tbody>\n",
       "</table>\n",
       "<p>71 rows × 4 columns</p>\n",
       "</div>"
      ],
      "text/plain": [
       "XY               X         Y  base_pred  lin_pred\n",
       "bat_id                                           \n",
       "adamm002 -0.058139 -0.023959  -0.026543 -0.025333\n",
       "alony001 -0.047629 -0.001051  -0.026543 -0.026137\n",
       "bellc002  0.003901 -0.044226  -0.026543 -0.030083\n",
       "beltb001 -0.014311 -0.065136  -0.026543 -0.028689\n",
       "benia002 -0.080690 -0.028506  -0.026543 -0.023606\n",
       "...            ...       ...        ...       ...\n",
       "thame001 -0.100033 -0.047143  -0.026543 -0.022125\n",
       "vottj001 -0.010060 -0.042189  -0.026543 -0.029014\n",
       "woltt001 -0.050684  0.031678  -0.026543 -0.025903\n",
       "wongk001 -0.053626 -0.034952  -0.026543 -0.025678\n",
       "yelic001 -0.050684 -0.013880  -0.026543 -0.025903\n",
       "\n",
       "[71 rows x 4 columns]"
      ]
     },
     "execution_count": 29,
     "metadata": {},
     "output_type": "execute_result"
    }
   ],
   "source": [
    "outputs['lin_pred'] = reg.predict(outputs[['X']])\n",
    "outputs"
   ]
  },
  {
   "cell_type": "code",
   "execution_count": 30,
   "id": "indian-symbol",
   "metadata": {
    "ExecuteTime": {
     "end_time": "2021-05-12T01:32:19.359178Z",
     "start_time": "2021-05-12T01:32:19.352122Z"
    }
   },
   "outputs": [
    {
     "data": {
      "text/plain": [
       "0.03937888091063136"
      ]
     },
     "execution_count": 30,
     "metadata": {},
     "output_type": "execute_result"
    }
   ],
   "source": [
    "mean_squared_error(outputs['Y'], outputs['lin_pred'], squared=False)"
   ]
  },
  {
   "cell_type": "code",
   "execution_count": 32,
   "id": "listed-breast",
   "metadata": {},
   "outputs": [
    {
     "data": {
      "text/plain": [
       "(array([-0.07657388]), -0.02978452422978049)"
      ]
     },
     "execution_count": 32,
     "metadata": {},
     "output_type": "execute_result"
    }
   ],
   "source": [
    "reg.coef_, reg.intercept_"
   ]
  },
  {
   "cell_type": "code",
   "execution_count": null,
   "id": "0955332d",
   "metadata": {},
   "outputs": [],
   "source": []
  }
 ],
 "metadata": {
  "kernelspec": {
   "display_name": "Python 3",
   "language": "python",
   "name": "python3"
  },
  "language_info": {
   "codemirror_mode": {
    "name": "ipython",
    "version": 3
   },
   "file_extension": ".py",
   "mimetype": "text/x-python",
   "name": "python",
   "nbconvert_exporter": "python",
   "pygments_lexer": "ipython3",
   "version": "3.8.8"
  }
 },
 "nbformat": 4,
 "nbformat_minor": 5
}
