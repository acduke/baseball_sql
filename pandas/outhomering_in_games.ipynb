{
 "cells": [
  {
   "cell_type": "markdown",
   "metadata": {},
   "source": [
    "## Out-homering your opponents\n",
    "\n",
    "How do teams do when out-homering their opponents?  What about other stats?"
   ]
  },
  {
   "cell_type": "code",
   "execution_count": 1,
   "metadata": {},
   "outputs": [],
   "source": [
    "import pandas as pd\n",
    "import numpy as np\n",
    "import boxball_loader as bbl\n",
    "import plotly.express as px"
   ]
  },
  {
   "cell_type": "code",
   "execution_count": 2,
   "metadata": {},
   "outputs": [
    {
     "data": {
      "text/html": [
       "<div>\n",
       "<style scoped>\n",
       "    .dataframe tbody tr th:only-of-type {\n",
       "        vertical-align: middle;\n",
       "    }\n",
       "\n",
       "    .dataframe tbody tr th {\n",
       "        vertical-align: top;\n",
       "    }\n",
       "\n",
       "    .dataframe thead th {\n",
       "        text-align: right;\n",
       "    }\n",
       "</style>\n",
       "<table border=\"1\" class=\"dataframe\">\n",
       "  <thead>\n",
       "    <tr style=\"text-align: right;\">\n",
       "      <th></th>\n",
       "      <th>date</th>\n",
       "      <th>double_header</th>\n",
       "      <th>day_of_week</th>\n",
       "      <th>visiting_team</th>\n",
       "      <th>visiting_team_league</th>\n",
       "      <th>visiting_team_game_number</th>\n",
       "      <th>home_team</th>\n",
       "      <th>home_team_league</th>\n",
       "      <th>home_team_game_number</th>\n",
       "      <th>visitor_runs_scored</th>\n",
       "      <th>...</th>\n",
       "      <th>home_batting_8_name</th>\n",
       "      <th>home_batting_8_position</th>\n",
       "      <th>home_batting_9_player_id</th>\n",
       "      <th>home_batting_9_name</th>\n",
       "      <th>home_batting_9_position</th>\n",
       "      <th>additional_info</th>\n",
       "      <th>acquisition_info</th>\n",
       "      <th>game_id</th>\n",
       "      <th>yr</th>\n",
       "      <th>game_type</th>\n",
       "    </tr>\n",
       "  </thead>\n",
       "  <tbody>\n",
       "    <tr>\n",
       "      <th>199513</th>\n",
       "      <td>2004-04-08</td>\n",
       "      <td>0</td>\n",
       "      <td>Thu</td>\n",
       "      <td>SFN</td>\n",
       "      <td>NL</td>\n",
       "      <td>4</td>\n",
       "      <td>SDN</td>\n",
       "      <td>NL</td>\n",
       "      <td>4</td>\n",
       "      <td>3</td>\n",
       "      <td>...</td>\n",
       "      <td>Khalil Greene</td>\n",
       "      <td>6.0</td>\n",
       "      <td>welld001</td>\n",
       "      <td>David Wells</td>\n",
       "      <td>1.0</td>\n",
       "      <td>None</td>\n",
       "      <td>Y</td>\n",
       "      <td>SDN200404080</td>\n",
       "      <td>2004</td>\n",
       "      <td>RS</td>\n",
       "    </tr>\n",
       "    <tr>\n",
       "      <th>117334</th>\n",
       "      <td>1971-08-08</td>\n",
       "      <td>0</td>\n",
       "      <td>Sun</td>\n",
       "      <td>CLE</td>\n",
       "      <td>AL</td>\n",
       "      <td>115</td>\n",
       "      <td>WS2</td>\n",
       "      <td>AL</td>\n",
       "      <td>111</td>\n",
       "      <td>6</td>\n",
       "      <td>...</td>\n",
       "      <td>Toby Harrah</td>\n",
       "      <td>6.0</td>\n",
       "      <td>mclad101</td>\n",
       "      <td>Denny McLain</td>\n",
       "      <td>1.0</td>\n",
       "      <td>None</td>\n",
       "      <td>Y</td>\n",
       "      <td>WS2197108080</td>\n",
       "      <td>1971</td>\n",
       "      <td>RS</td>\n",
       "    </tr>\n",
       "    <tr>\n",
       "      <th>141953</th>\n",
       "      <td>2018-05-27</td>\n",
       "      <td>0</td>\n",
       "      <td>Sun</td>\n",
       "      <td>TOR</td>\n",
       "      <td>AL</td>\n",
       "      <td>53</td>\n",
       "      <td>PHI</td>\n",
       "      <td>NL</td>\n",
       "      <td>50</td>\n",
       "      <td>5</td>\n",
       "      <td>...</td>\n",
       "      <td>Andrew Knapp</td>\n",
       "      <td>2.0</td>\n",
       "      <td>piven001</td>\n",
       "      <td>Nick Pivetta</td>\n",
       "      <td>1.0</td>\n",
       "      <td>None</td>\n",
       "      <td>Y</td>\n",
       "      <td>PHI201805270</td>\n",
       "      <td>2018</td>\n",
       "      <td>RS</td>\n",
       "    </tr>\n",
       "    <tr>\n",
       "      <th>103825</th>\n",
       "      <td>1962-09-26</td>\n",
       "      <td>0</td>\n",
       "      <td>Wed</td>\n",
       "      <td>HOU</td>\n",
       "      <td>NL</td>\n",
       "      <td>158</td>\n",
       "      <td>LAN</td>\n",
       "      <td>NL</td>\n",
       "      <td>158</td>\n",
       "      <td>1</td>\n",
       "      <td>...</td>\n",
       "      <td>Andy Carey</td>\n",
       "      <td>5.0</td>\n",
       "      <td>podrj101</td>\n",
       "      <td>Johnny Podres</td>\n",
       "      <td>1.0</td>\n",
       "      <td>None</td>\n",
       "      <td>Y</td>\n",
       "      <td>LAN196209260</td>\n",
       "      <td>1962</td>\n",
       "      <td>RS</td>\n",
       "    </tr>\n",
       "    <tr>\n",
       "      <th>64374</th>\n",
       "      <td>1979-08-19</td>\n",
       "      <td>0</td>\n",
       "      <td>Sun</td>\n",
       "      <td>TEX</td>\n",
       "      <td>AL</td>\n",
       "      <td>124</td>\n",
       "      <td>MIL</td>\n",
       "      <td>AL</td>\n",
       "      <td>124</td>\n",
       "      <td>3</td>\n",
       "      <td>...</td>\n",
       "      <td>Jim Gantner</td>\n",
       "      <td>4.0</td>\n",
       "      <td>moorc001</td>\n",
       "      <td>Charlie Moore</td>\n",
       "      <td>2.0</td>\n",
       "      <td>None</td>\n",
       "      <td>Y</td>\n",
       "      <td>MIL197908190</td>\n",
       "      <td>1979</td>\n",
       "      <td>RS</td>\n",
       "    </tr>\n",
       "    <tr>\n",
       "      <th>184066</th>\n",
       "      <td>1964-09-30</td>\n",
       "      <td>2</td>\n",
       "      <td>Wed</td>\n",
       "      <td>DET</td>\n",
       "      <td>AL</td>\n",
       "      <td>159</td>\n",
       "      <td>NYA</td>\n",
       "      <td>AL</td>\n",
       "      <td>159</td>\n",
       "      <td>8</td>\n",
       "      <td>...</td>\n",
       "      <td>Clete Boyer</td>\n",
       "      <td>5.0</td>\n",
       "      <td>boutj101</td>\n",
       "      <td>Jim Bouton</td>\n",
       "      <td>1.0</td>\n",
       "      <td>None</td>\n",
       "      <td>Y</td>\n",
       "      <td>NYA196409302</td>\n",
       "      <td>1964</td>\n",
       "      <td>RS</td>\n",
       "    </tr>\n",
       "    <tr>\n",
       "      <th>30350</th>\n",
       "      <td>2014-05-13</td>\n",
       "      <td>0</td>\n",
       "      <td>Tue</td>\n",
       "      <td>TEX</td>\n",
       "      <td>AL</td>\n",
       "      <td>40</td>\n",
       "      <td>HOU</td>\n",
       "      <td>AL</td>\n",
       "      <td>40</td>\n",
       "      <td>0</td>\n",
       "      <td>...</td>\n",
       "      <td>Carlos Corporan</td>\n",
       "      <td>2.0</td>\n",
       "      <td>villj001</td>\n",
       "      <td>Jonathan Villar</td>\n",
       "      <td>6.0</td>\n",
       "      <td>None</td>\n",
       "      <td>Y</td>\n",
       "      <td>HOU201405130</td>\n",
       "      <td>2014</td>\n",
       "      <td>RS</td>\n",
       "    </tr>\n",
       "    <tr>\n",
       "      <th>137692</th>\n",
       "      <td>1965-06-17</td>\n",
       "      <td>0</td>\n",
       "      <td>Thu</td>\n",
       "      <td>PHI</td>\n",
       "      <td>NL</td>\n",
       "      <td>59</td>\n",
       "      <td>MLN</td>\n",
       "      <td>NL</td>\n",
       "      <td>56</td>\n",
       "      <td>2</td>\n",
       "      <td>...</td>\n",
       "      <td>Sandy Alomar</td>\n",
       "      <td>6.0</td>\n",
       "      <td>johnk102</td>\n",
       "      <td>Ken Johnson</td>\n",
       "      <td>1.0</td>\n",
       "      <td>None</td>\n",
       "      <td>Y</td>\n",
       "      <td>MLN196506170</td>\n",
       "      <td>1965</td>\n",
       "      <td>RS</td>\n",
       "    </tr>\n",
       "    <tr>\n",
       "      <th>34790</th>\n",
       "      <td>1981-10-01</td>\n",
       "      <td>0</td>\n",
       "      <td>Thu</td>\n",
       "      <td>SLN</td>\n",
       "      <td>NL</td>\n",
       "      <td>100</td>\n",
       "      <td>PHI</td>\n",
       "      <td>NL</td>\n",
       "      <td>104</td>\n",
       "      <td>3</td>\n",
       "      <td>...</td>\n",
       "      <td>Bob Boone</td>\n",
       "      <td>2.0</td>\n",
       "      <td>prolm101</td>\n",
       "      <td>Mike Proly</td>\n",
       "      <td>1.0</td>\n",
       "      <td>None</td>\n",
       "      <td>Y</td>\n",
       "      <td>PHI198110010</td>\n",
       "      <td>1981</td>\n",
       "      <td>RS</td>\n",
       "    </tr>\n",
       "    <tr>\n",
       "      <th>164600</th>\n",
       "      <td>1980-07-05</td>\n",
       "      <td>0</td>\n",
       "      <td>Sat</td>\n",
       "      <td>PHI</td>\n",
       "      <td>NL</td>\n",
       "      <td>75</td>\n",
       "      <td>SLN</td>\n",
       "      <td>NL</td>\n",
       "      <td>79</td>\n",
       "      <td>1</td>\n",
       "      <td>...</td>\n",
       "      <td>Ken Oberkfell</td>\n",
       "      <td>4.0</td>\n",
       "      <td>kaatj101</td>\n",
       "      <td>Jim Kaat</td>\n",
       "      <td>1.0</td>\n",
       "      <td>None</td>\n",
       "      <td>Y</td>\n",
       "      <td>SLN198007050</td>\n",
       "      <td>1980</td>\n",
       "      <td>RS</td>\n",
       "    </tr>\n",
       "  </tbody>\n",
       "</table>\n",
       "<p>10 rows × 164 columns</p>\n",
       "</div>"
      ],
      "text/plain": [
       "             date double_header day_of_week visiting_team  \\\n",
       "199513 2004-04-08             0         Thu           SFN   \n",
       "117334 1971-08-08             0         Sun           CLE   \n",
       "141953 2018-05-27             0         Sun           TOR   \n",
       "103825 1962-09-26             0         Wed           HOU   \n",
       "64374  1979-08-19             0         Sun           TEX   \n",
       "184066 1964-09-30             2         Wed           DET   \n",
       "30350  2014-05-13             0         Tue           TEX   \n",
       "137692 1965-06-17             0         Thu           PHI   \n",
       "34790  1981-10-01             0         Thu           SLN   \n",
       "164600 1980-07-05             0         Sat           PHI   \n",
       "\n",
       "       visiting_team_league  visiting_team_game_number home_team  \\\n",
       "199513                   NL                          4       SDN   \n",
       "117334                   AL                        115       WS2   \n",
       "141953                   AL                         53       PHI   \n",
       "103825                   NL                        158       LAN   \n",
       "64374                    AL                        124       MIL   \n",
       "184066                   AL                        159       NYA   \n",
       "30350                    AL                         40       HOU   \n",
       "137692                   NL                         59       MLN   \n",
       "34790                    NL                        100       PHI   \n",
       "164600                   NL                         75       SLN   \n",
       "\n",
       "       home_team_league  home_team_game_number  visitor_runs_scored  ...  \\\n",
       "199513               NL                      4                    3  ...   \n",
       "117334               AL                    111                    6  ...   \n",
       "141953               NL                     50                    5  ...   \n",
       "103825               NL                    158                    1  ...   \n",
       "64374                AL                    124                    3  ...   \n",
       "184066               AL                    159                    8  ...   \n",
       "30350                AL                     40                    0  ...   \n",
       "137692               NL                     56                    2  ...   \n",
       "34790                NL                    104                    3  ...   \n",
       "164600               NL                     79                    1  ...   \n",
       "\n",
       "        home_batting_8_name  home_batting_8_position home_batting_9_player_id  \\\n",
       "199513        Khalil Greene                      6.0                 welld001   \n",
       "117334          Toby Harrah                      6.0                 mclad101   \n",
       "141953         Andrew Knapp                      2.0                 piven001   \n",
       "103825           Andy Carey                      5.0                 podrj101   \n",
       "64374           Jim Gantner                      4.0                 moorc001   \n",
       "184066          Clete Boyer                      5.0                 boutj101   \n",
       "30350       Carlos Corporan                      2.0                 villj001   \n",
       "137692         Sandy Alomar                      6.0                 johnk102   \n",
       "34790             Bob Boone                      2.0                 prolm101   \n",
       "164600        Ken Oberkfell                      4.0                 kaatj101   \n",
       "\n",
       "       home_batting_9_name home_batting_9_position additional_info  \\\n",
       "199513         David Wells                     1.0            None   \n",
       "117334        Denny McLain                     1.0            None   \n",
       "141953        Nick Pivetta                     1.0            None   \n",
       "103825       Johnny Podres                     1.0            None   \n",
       "64374        Charlie Moore                     2.0            None   \n",
       "184066          Jim Bouton                     1.0            None   \n",
       "30350      Jonathan Villar                     6.0            None   \n",
       "137692         Ken Johnson                     1.0            None   \n",
       "34790           Mike Proly                     1.0            None   \n",
       "164600            Jim Kaat                     1.0            None   \n",
       "\n",
       "       acquisition_info       game_id    yr game_type  \n",
       "199513                Y  SDN200404080  2004        RS  \n",
       "117334                Y  WS2197108080  1971        RS  \n",
       "141953                Y  PHI201805270  2018        RS  \n",
       "103825                Y  LAN196209260  1962        RS  \n",
       "64374                 Y  MIL197908190  1979        RS  \n",
       "184066                Y  NYA196409302  1964        RS  \n",
       "30350                 Y  HOU201405130  2014        RS  \n",
       "137692                Y  MLN196506170  1965        RS  \n",
       "34790                 Y  PHI198110010  1981        RS  \n",
       "164600                Y  SLN198007050  1980        RS  \n",
       "\n",
       "[10 rows x 164 columns]"
      ]
     },
     "execution_count": 2,
     "metadata": {},
     "output_type": "execute_result"
    }
   ],
   "source": [
    "gl = bbl.load_gamelogs(bbl.GameType.RS, range(1947,3000))\n",
    "gl.sample(10)"
   ]
  },
  {
   "cell_type": "code",
   "execution_count": 3,
   "metadata": {},
   "outputs": [
    {
     "data": {
      "text/plain": [
       "array(['date', 'double_header', 'day_of_week', 'visiting_team',\n",
       "       'visiting_team_league', 'visiting_team_game_number', 'home_team',\n",
       "       'home_team_league', 'home_team_game_number', 'visitor_runs_scored',\n",
       "       'home_runs_scored', 'length_in_outs', 'day_night',\n",
       "       'completion_info', 'forfeit_info', 'protest_info', 'park_id',\n",
       "       'attendance', 'duration', 'visitor_line_score', 'home_line_score',\n",
       "       'visitor_ab', 'visitor_h', 'visitor_d', 'visitor_t', 'visitor_hr',\n",
       "       'visitor_rbi', 'visitor_sh', 'visitor_sf', 'visitor_hbp',\n",
       "       'visitor_bb', 'visitor_ibb', 'visitor_k', 'visitor_sb',\n",
       "       'visitor_cs', 'visitor_gdp', 'visitor_ci', 'visitor_lob',\n",
       "       'visitor_pitchers', 'visitor_er', 'visitor_ter', 'visitor_wp',\n",
       "       'visitor_balks', 'visitor_po', 'visitor_a', 'visitor_e',\n",
       "       'visitor_passed', 'visitor_db', 'visitor_tp', 'home_ab', 'home_h',\n",
       "       'home_d', 'home_t', 'home_hr', 'home_rbi', 'home_sh', 'home_sf',\n",
       "       'home_hbp', 'home_bb', 'home_ibb', 'home_k', 'home_sb', 'home_cs',\n",
       "       'home_gdp', 'home_ci', 'home_lob', 'home_pitchers', 'home_er',\n",
       "       'home_ter', 'home_wp', 'home_balks', 'home_po', 'home_a', 'home_e',\n",
       "       'home_passed', 'home_db', 'home_tp', 'umpire_h_id',\n",
       "       'umpire_h_name', 'umpire_1b_id', 'umpire_1b_name', 'umpire_2b_id',\n",
       "       'umpire_2b_name', 'umpire_3b_id', 'umpire_3b_name', 'umpire_lf_id',\n",
       "       'umpire_lf_name', 'umpire_rf_id', 'umpire_rf_name',\n",
       "       'visitor_manager_id', 'visitor_manager_name', 'home_manager_id',\n",
       "       'home_manager_name', 'winning_pitcher_id', 'winning_pitcher_name',\n",
       "       'losing_pitcher_id', 'losing_pitcher_name', 'saving_pitcher_id',\n",
       "       'saving_pitcher_name', 'game_winning_rbi_id',\n",
       "       'game_winning_rbi_name', 'visitor_starting_pitcher_id',\n",
       "       'visitor_starting_pitcher_name', 'home_starting_pitcher_id',\n",
       "       'home_starting_pitcher_name', 'visitor_batting_1_player_id',\n",
       "       'visitor_batting_1_name', 'visitor_batting_1_position',\n",
       "       'visitor_batting_2_player_id', 'visitor_batting_2_name',\n",
       "       'visitor_batting_2_position', 'visitor_batting_3_player_id',\n",
       "       'visitor_batting_3_name', 'visitor_batting_3_position',\n",
       "       'visitor_batting_4_player_id', 'visitor_batting_4_name',\n",
       "       'visitor_batting_4_position', 'visitor_batting_5_player_id',\n",
       "       'visitor_batting_5_name', 'visitor_batting_5_position',\n",
       "       'visitor_batting_6_player_id', 'visitor_batting_6_name',\n",
       "       'visitor_batting_6_position', 'visitor_batting_7_player_id',\n",
       "       'visitor_batting_7_name', 'visitor_batting_7_position',\n",
       "       'visitor_batting_8_player_id', 'visitor_batting_8_name',\n",
       "       'visitor_batting_8_position', 'visitor_batting_9_player_id',\n",
       "       'visitor_batting_9_name', 'visitor_batting_9_position',\n",
       "       'home_batting_1_player_id', 'home_batting_1_name',\n",
       "       'home_batting_1_position', 'home_batting_2_player_id',\n",
       "       'home_batting_2_name', 'home_batting_2_position',\n",
       "       'home_batting_3_player_id', 'home_batting_3_name',\n",
       "       'home_batting_3_position', 'home_batting_4_player_id',\n",
       "       'home_batting_4_name', 'home_batting_4_position',\n",
       "       'home_batting_5_player_id', 'home_batting_5_name',\n",
       "       'home_batting_5_position', 'home_batting_6_player_id',\n",
       "       'home_batting_6_name', 'home_batting_6_position',\n",
       "       'home_batting_7_player_id', 'home_batting_7_name',\n",
       "       'home_batting_7_position', 'home_batting_8_player_id',\n",
       "       'home_batting_8_name', 'home_batting_8_position',\n",
       "       'home_batting_9_player_id', 'home_batting_9_name',\n",
       "       'home_batting_9_position', 'additional_info', 'acquisition_info',\n",
       "       'game_id', 'yr', 'game_type'], dtype=object)"
      ]
     },
     "execution_count": 3,
     "metadata": {},
     "output_type": "execute_result"
    }
   ],
   "source": [
    "gl.columns.values"
   ]
  },
  {
   "cell_type": "code",
   "execution_count": 4,
   "metadata": {},
   "outputs": [
    {
     "data": {
      "text/html": [
       "<div>\n",
       "<style scoped>\n",
       "    .dataframe tbody tr th:only-of-type {\n",
       "        vertical-align: middle;\n",
       "    }\n",
       "\n",
       "    .dataframe tbody tr th {\n",
       "        vertical-align: top;\n",
       "    }\n",
       "\n",
       "    .dataframe thead th {\n",
       "        text-align: right;\n",
       "    }\n",
       "</style>\n",
       "<table border=\"1\" class=\"dataframe\">\n",
       "  <thead>\n",
       "    <tr style=\"text-align: right;\">\n",
       "      <th></th>\n",
       "      <th>visitor_runs_scored</th>\n",
       "      <th>visitor_hr</th>\n",
       "      <th>home_runs_scored</th>\n",
       "      <th>home_hr</th>\n",
       "    </tr>\n",
       "  </thead>\n",
       "  <tbody>\n",
       "    <tr>\n",
       "      <th>214496</th>\n",
       "      <td>2</td>\n",
       "      <td>0.0</td>\n",
       "      <td>0</td>\n",
       "      <td>0.0</td>\n",
       "    </tr>\n",
       "    <tr>\n",
       "      <th>64395</th>\n",
       "      <td>5</td>\n",
       "      <td>1.0</td>\n",
       "      <td>6</td>\n",
       "      <td>1.0</td>\n",
       "    </tr>\n",
       "    <tr>\n",
       "      <th>70533</th>\n",
       "      <td>2</td>\n",
       "      <td>0.0</td>\n",
       "      <td>10</td>\n",
       "      <td>3.0</td>\n",
       "    </tr>\n",
       "    <tr>\n",
       "      <th>220513</th>\n",
       "      <td>4</td>\n",
       "      <td>1.0</td>\n",
       "      <td>7</td>\n",
       "      <td>2.0</td>\n",
       "    </tr>\n",
       "    <tr>\n",
       "      <th>191119</th>\n",
       "      <td>5</td>\n",
       "      <td>1.0</td>\n",
       "      <td>3</td>\n",
       "      <td>1.0</td>\n",
       "    </tr>\n",
       "    <tr>\n",
       "      <th>169873</th>\n",
       "      <td>2</td>\n",
       "      <td>0.0</td>\n",
       "      <td>7</td>\n",
       "      <td>1.0</td>\n",
       "    </tr>\n",
       "    <tr>\n",
       "      <th>179257</th>\n",
       "      <td>0</td>\n",
       "      <td>0.0</td>\n",
       "      <td>4</td>\n",
       "      <td>0.0</td>\n",
       "    </tr>\n",
       "    <tr>\n",
       "      <th>4605</th>\n",
       "      <td>2</td>\n",
       "      <td>0.0</td>\n",
       "      <td>5</td>\n",
       "      <td>1.0</td>\n",
       "    </tr>\n",
       "    <tr>\n",
       "      <th>32182</th>\n",
       "      <td>2</td>\n",
       "      <td>0.0</td>\n",
       "      <td>0</td>\n",
       "      <td>0.0</td>\n",
       "    </tr>\n",
       "    <tr>\n",
       "      <th>151673</th>\n",
       "      <td>7</td>\n",
       "      <td>0.0</td>\n",
       "      <td>5</td>\n",
       "      <td>0.0</td>\n",
       "    </tr>\n",
       "  </tbody>\n",
       "</table>\n",
       "</div>"
      ],
      "text/plain": [
       "        visitor_runs_scored  visitor_hr  home_runs_scored  home_hr\n",
       "214496                    2         0.0                 0      0.0\n",
       "64395                     5         1.0                 6      1.0\n",
       "70533                     2         0.0                10      3.0\n",
       "220513                    4         1.0                 7      2.0\n",
       "191119                    5         1.0                 3      1.0\n",
       "169873                    2         0.0                 7      1.0\n",
       "179257                    0         0.0                 4      0.0\n",
       "4605                      2         0.0                 5      1.0\n",
       "32182                     2         0.0                 0      0.0\n",
       "151673                    7         0.0                 5      0.0"
      ]
     },
     "execution_count": 4,
     "metadata": {},
     "output_type": "execute_result"
    }
   ],
   "source": [
    "gl.sample(10)[['visitor_runs_scored', 'visitor_hr', 'home_runs_scored', 'home_hr']]"
   ]
  },
  {
   "cell_type": "code",
   "execution_count": 5,
   "metadata": {},
   "outputs": [
    {
     "data": {
      "text/plain": [
       "False    93580\n",
       "True     49698\n",
       "Name: tied, dtype: int64"
      ]
     },
     "execution_count": 5,
     "metadata": {},
     "output_type": "execute_result"
    }
   ],
   "source": [
    "stat = 'hr'\n",
    "gl['tied'] = np.where(gl[f'visitor_{stat}'] == gl[f'home_{stat}'], True, False)\n",
    "\n",
    "gl['tied'].value_counts()\n"
   ]
  },
  {
   "cell_type": "code",
   "execution_count": 6,
   "metadata": {},
   "outputs": [
    {
     "data": {
      "text/html": [
       "<div>\n",
       "<style scoped>\n",
       "    .dataframe tbody tr th:only-of-type {\n",
       "        vertical-align: middle;\n",
       "    }\n",
       "\n",
       "    .dataframe tbody tr th {\n",
       "        vertical-align: top;\n",
       "    }\n",
       "\n",
       "    .dataframe thead th {\n",
       "        text-align: right;\n",
       "    }\n",
       "</style>\n",
       "<table border=\"1\" class=\"dataframe\">\n",
       "  <thead>\n",
       "    <tr style=\"text-align: right;\">\n",
       "      <th></th>\n",
       "      <th>date</th>\n",
       "      <th>double_header</th>\n",
       "      <th>day_of_week</th>\n",
       "      <th>visiting_team</th>\n",
       "      <th>visiting_team_league</th>\n",
       "      <th>visiting_team_game_number</th>\n",
       "      <th>home_team</th>\n",
       "      <th>home_team_league</th>\n",
       "      <th>home_team_game_number</th>\n",
       "      <th>visitor_runs_scored</th>\n",
       "      <th>...</th>\n",
       "      <th>home_batting_9_player_id</th>\n",
       "      <th>home_batting_9_name</th>\n",
       "      <th>home_batting_9_position</th>\n",
       "      <th>additional_info</th>\n",
       "      <th>acquisition_info</th>\n",
       "      <th>game_id</th>\n",
       "      <th>yr</th>\n",
       "      <th>game_type</th>\n",
       "      <th>tied</th>\n",
       "      <th>outhome_wins</th>\n",
       "    </tr>\n",
       "  </thead>\n",
       "  <tbody>\n",
       "    <tr>\n",
       "      <th>53505</th>\n",
       "      <td>1955-05-14</td>\n",
       "      <td>0</td>\n",
       "      <td>Sat</td>\n",
       "      <td>DET</td>\n",
       "      <td>AL</td>\n",
       "      <td>28</td>\n",
       "      <td>NYA</td>\n",
       "      <td>AL</td>\n",
       "      <td>26</td>\n",
       "      <td>6</td>\n",
       "      <td>...</td>\n",
       "      <td>grimb102</td>\n",
       "      <td>Bob Grim</td>\n",
       "      <td>1.0</td>\n",
       "      <td>None</td>\n",
       "      <td>Y</td>\n",
       "      <td>NYA195505140</td>\n",
       "      <td>1955</td>\n",
       "      <td>RS</td>\n",
       "      <td>False</td>\n",
       "      <td>1</td>\n",
       "    </tr>\n",
       "    <tr>\n",
       "      <th>151052</th>\n",
       "      <td>1961-08-29</td>\n",
       "      <td>0</td>\n",
       "      <td>Tue</td>\n",
       "      <td>SFN</td>\n",
       "      <td>NL</td>\n",
       "      <td>125</td>\n",
       "      <td>MLN</td>\n",
       "      <td>NL</td>\n",
       "      <td>126</td>\n",
       "      <td>6</td>\n",
       "      <td>...</td>\n",
       "      <td>burdl101</td>\n",
       "      <td>Lew Burdette</td>\n",
       "      <td>1.0</td>\n",
       "      <td>None</td>\n",
       "      <td>Y</td>\n",
       "      <td>MLN196108290</td>\n",
       "      <td>1961</td>\n",
       "      <td>RS</td>\n",
       "      <td>False</td>\n",
       "      <td>1</td>\n",
       "    </tr>\n",
       "    <tr>\n",
       "      <th>75186</th>\n",
       "      <td>2013-05-25</td>\n",
       "      <td>0</td>\n",
       "      <td>Sat</td>\n",
       "      <td>SDN</td>\n",
       "      <td>NL</td>\n",
       "      <td>48</td>\n",
       "      <td>ARI</td>\n",
       "      <td>NL</td>\n",
       "      <td>49</td>\n",
       "      <td>10</td>\n",
       "      <td>...</td>\n",
       "      <td>milew001</td>\n",
       "      <td>Wade Miley</td>\n",
       "      <td>1.0</td>\n",
       "      <td>None</td>\n",
       "      <td>Y</td>\n",
       "      <td>ARI201305250</td>\n",
       "      <td>2013</td>\n",
       "      <td>RS</td>\n",
       "      <td>True</td>\n",
       "      <td>0</td>\n",
       "    </tr>\n",
       "    <tr>\n",
       "      <th>168695</th>\n",
       "      <td>2017-04-26</td>\n",
       "      <td>0</td>\n",
       "      <td>Wed</td>\n",
       "      <td>MIA</td>\n",
       "      <td>NL</td>\n",
       "      <td>19</td>\n",
       "      <td>PHI</td>\n",
       "      <td>NL</td>\n",
       "      <td>19</td>\n",
       "      <td>4</td>\n",
       "      <td>...</td>\n",
       "      <td>velav001</td>\n",
       "      <td>Vincent Velasquez</td>\n",
       "      <td>1.0</td>\n",
       "      <td>None</td>\n",
       "      <td>Y</td>\n",
       "      <td>PHI201704260</td>\n",
       "      <td>2017</td>\n",
       "      <td>RS</td>\n",
       "      <td>False</td>\n",
       "      <td>1</td>\n",
       "    </tr>\n",
       "    <tr>\n",
       "      <th>11102</th>\n",
       "      <td>2000-07-18</td>\n",
       "      <td>0</td>\n",
       "      <td>Tue</td>\n",
       "      <td>FLO</td>\n",
       "      <td>NL</td>\n",
       "      <td>93</td>\n",
       "      <td>BAL</td>\n",
       "      <td>AL</td>\n",
       "      <td>92</td>\n",
       "      <td>7</td>\n",
       "      <td>...</td>\n",
       "      <td>matol001</td>\n",
       "      <td>Luis Matos</td>\n",
       "      <td>8.0</td>\n",
       "      <td>None</td>\n",
       "      <td>Y</td>\n",
       "      <td>BAL200007180</td>\n",
       "      <td>2000</td>\n",
       "      <td>RS</td>\n",
       "      <td>False</td>\n",
       "      <td>1</td>\n",
       "    </tr>\n",
       "    <tr>\n",
       "      <th>143409</th>\n",
       "      <td>2018-09-16</td>\n",
       "      <td>0</td>\n",
       "      <td>Sun</td>\n",
       "      <td>CIN</td>\n",
       "      <td>NL</td>\n",
       "      <td>150</td>\n",
       "      <td>CHN</td>\n",
       "      <td>NL</td>\n",
       "      <td>149</td>\n",
       "      <td>2</td>\n",
       "      <td>...</td>\n",
       "      <td>almoa002</td>\n",
       "      <td>Albert Almora</td>\n",
       "      <td>8.0</td>\n",
       "      <td>None</td>\n",
       "      <td>Y</td>\n",
       "      <td>CHN201809160</td>\n",
       "      <td>2018</td>\n",
       "      <td>RS</td>\n",
       "      <td>False</td>\n",
       "      <td>1</td>\n",
       "    </tr>\n",
       "    <tr>\n",
       "      <th>186794</th>\n",
       "      <td>1953-05-19</td>\n",
       "      <td>0</td>\n",
       "      <td>Tue</td>\n",
       "      <td>PHI</td>\n",
       "      <td>NL</td>\n",
       "      <td>26</td>\n",
       "      <td>CIN</td>\n",
       "      <td>NL</td>\n",
       "      <td>22</td>\n",
       "      <td>6</td>\n",
       "      <td>...</td>\n",
       "      <td>perkh101</td>\n",
       "      <td>Harry Perkowski</td>\n",
       "      <td>1.0</td>\n",
       "      <td>None</td>\n",
       "      <td>Y</td>\n",
       "      <td>CIN195305190</td>\n",
       "      <td>1953</td>\n",
       "      <td>RS</td>\n",
       "      <td>True</td>\n",
       "      <td>0</td>\n",
       "    </tr>\n",
       "    <tr>\n",
       "      <th>171927</th>\n",
       "      <td>2002-06-18</td>\n",
       "      <td>0</td>\n",
       "      <td>Tue</td>\n",
       "      <td>TEX</td>\n",
       "      <td>AL</td>\n",
       "      <td>68</td>\n",
       "      <td>CHN</td>\n",
       "      <td>NL</td>\n",
       "      <td>68</td>\n",
       "      <td>3</td>\n",
       "      <td>...</td>\n",
       "      <td>berej002</td>\n",
       "      <td>Jason Bere</td>\n",
       "      <td>1.0</td>\n",
       "      <td>None</td>\n",
       "      <td>Y</td>\n",
       "      <td>CHN200206180</td>\n",
       "      <td>2002</td>\n",
       "      <td>RS</td>\n",
       "      <td>False</td>\n",
       "      <td>1</td>\n",
       "    </tr>\n",
       "    <tr>\n",
       "      <th>166204</th>\n",
       "      <td>2010-04-23</td>\n",
       "      <td>0</td>\n",
       "      <td>Fri</td>\n",
       "      <td>CHN</td>\n",
       "      <td>NL</td>\n",
       "      <td>17</td>\n",
       "      <td>MIL</td>\n",
       "      <td>NL</td>\n",
       "      <td>16</td>\n",
       "      <td>8</td>\n",
       "      <td>...</td>\n",
       "      <td>suppj001</td>\n",
       "      <td>Jeff Suppan</td>\n",
       "      <td>1.0</td>\n",
       "      <td>None</td>\n",
       "      <td>Y</td>\n",
       "      <td>MIL201004230</td>\n",
       "      <td>2010</td>\n",
       "      <td>RS</td>\n",
       "      <td>False</td>\n",
       "      <td>1</td>\n",
       "    </tr>\n",
       "    <tr>\n",
       "      <th>122015</th>\n",
       "      <td>1988-07-23</td>\n",
       "      <td>0</td>\n",
       "      <td>Sat</td>\n",
       "      <td>MON</td>\n",
       "      <td>NL</td>\n",
       "      <td>97</td>\n",
       "      <td>CIN</td>\n",
       "      <td>NL</td>\n",
       "      <td>96</td>\n",
       "      <td>1</td>\n",
       "      <td>...</td>\n",
       "      <td>rijoj001</td>\n",
       "      <td>Jose Rijo</td>\n",
       "      <td>1.0</td>\n",
       "      <td>None</td>\n",
       "      <td>Y</td>\n",
       "      <td>CIN198807230</td>\n",
       "      <td>1988</td>\n",
       "      <td>RS</td>\n",
       "      <td>True</td>\n",
       "      <td>0</td>\n",
       "    </tr>\n",
       "  </tbody>\n",
       "</table>\n",
       "<p>10 rows × 166 columns</p>\n",
       "</div>"
      ],
      "text/plain": [
       "             date double_header day_of_week visiting_team  \\\n",
       "53505  1955-05-14             0         Sat           DET   \n",
       "151052 1961-08-29             0         Tue           SFN   \n",
       "75186  2013-05-25             0         Sat           SDN   \n",
       "168695 2017-04-26             0         Wed           MIA   \n",
       "11102  2000-07-18             0         Tue           FLO   \n",
       "143409 2018-09-16             0         Sun           CIN   \n",
       "186794 1953-05-19             0         Tue           PHI   \n",
       "171927 2002-06-18             0         Tue           TEX   \n",
       "166204 2010-04-23             0         Fri           CHN   \n",
       "122015 1988-07-23             0         Sat           MON   \n",
       "\n",
       "       visiting_team_league  visiting_team_game_number home_team  \\\n",
       "53505                    AL                         28       NYA   \n",
       "151052                   NL                        125       MLN   \n",
       "75186                    NL                         48       ARI   \n",
       "168695                   NL                         19       PHI   \n",
       "11102                    NL                         93       BAL   \n",
       "143409                   NL                        150       CHN   \n",
       "186794                   NL                         26       CIN   \n",
       "171927                   AL                         68       CHN   \n",
       "166204                   NL                         17       MIL   \n",
       "122015                   NL                         97       CIN   \n",
       "\n",
       "       home_team_league  home_team_game_number  visitor_runs_scored  ...  \\\n",
       "53505                AL                     26                    6  ...   \n",
       "151052               NL                    126                    6  ...   \n",
       "75186                NL                     49                   10  ...   \n",
       "168695               NL                     19                    4  ...   \n",
       "11102                AL                     92                    7  ...   \n",
       "143409               NL                    149                    2  ...   \n",
       "186794               NL                     22                    6  ...   \n",
       "171927               NL                     68                    3  ...   \n",
       "166204               NL                     16                    8  ...   \n",
       "122015               NL                     96                    1  ...   \n",
       "\n",
       "        home_batting_9_player_id  home_batting_9_name home_batting_9_position  \\\n",
       "53505                   grimb102             Bob Grim                     1.0   \n",
       "151052                  burdl101         Lew Burdette                     1.0   \n",
       "75186                   milew001           Wade Miley                     1.0   \n",
       "168695                  velav001    Vincent Velasquez                     1.0   \n",
       "11102                   matol001           Luis Matos                     8.0   \n",
       "143409                  almoa002        Albert Almora                     8.0   \n",
       "186794                  perkh101      Harry Perkowski                     1.0   \n",
       "171927                  berej002           Jason Bere                     1.0   \n",
       "166204                  suppj001          Jeff Suppan                     1.0   \n",
       "122015                  rijoj001            Jose Rijo                     1.0   \n",
       "\n",
       "       additional_info acquisition_info       game_id    yr  game_type   tied  \\\n",
       "53505             None                Y  NYA195505140  1955         RS  False   \n",
       "151052            None                Y  MLN196108290  1961         RS  False   \n",
       "75186             None                Y  ARI201305250  2013         RS   True   \n",
       "168695            None                Y  PHI201704260  2017         RS  False   \n",
       "11102             None                Y  BAL200007180  2000         RS  False   \n",
       "143409            None                Y  CHN201809160  2018         RS  False   \n",
       "186794            None                Y  CIN195305190  1953         RS   True   \n",
       "171927            None                Y  CHN200206180  2002         RS  False   \n",
       "166204            None                Y  MIL201004230  2010         RS  False   \n",
       "122015            None                Y  CIN198807230  1988         RS   True   \n",
       "\n",
       "       outhome_wins  \n",
       "53505             1  \n",
       "151052            1  \n",
       "75186             0  \n",
       "168695            1  \n",
       "11102             1  \n",
       "143409            1  \n",
       "186794            0  \n",
       "171927            1  \n",
       "166204            1  \n",
       "122015            0  \n",
       "\n",
       "[10 rows x 166 columns]"
      ]
     },
     "execution_count": 6,
     "metadata": {},
     "output_type": "execute_result"
    }
   ],
   "source": [
    "same = (gl['visitor_runs_scored']-gl['home_runs_scored']) * (gl[f'visitor_{stat}']-gl[f'home_{stat}'])\n",
    "gl['outhome_wins'] = np.where(same>0, 1, 0)\n",
    "gl.sample(10)\n"
   ]
  },
  {
   "cell_type": "code",
   "execution_count": 7,
   "metadata": {},
   "outputs": [
    {
     "data": {
      "text/html": [
       "<div>\n",
       "<style scoped>\n",
       "    .dataframe tbody tr th:only-of-type {\n",
       "        vertical-align: middle;\n",
       "    }\n",
       "\n",
       "    .dataframe tbody tr th {\n",
       "        vertical-align: top;\n",
       "    }\n",
       "\n",
       "    .dataframe thead th {\n",
       "        text-align: right;\n",
       "    }\n",
       "</style>\n",
       "<table border=\"1\" class=\"dataframe\">\n",
       "  <thead>\n",
       "    <tr style=\"text-align: right;\">\n",
       "      <th></th>\n",
       "      <th>game_id</th>\n",
       "      <th>outhome_wins</th>\n",
       "      <th>tied</th>\n",
       "    </tr>\n",
       "    <tr>\n",
       "      <th>yr</th>\n",
       "      <th></th>\n",
       "      <th></th>\n",
       "      <th></th>\n",
       "    </tr>\n",
       "  </thead>\n",
       "  <tbody>\n",
       "    <tr>\n",
       "      <th>1947</th>\n",
       "      <td>1243</td>\n",
       "      <td>468</td>\n",
       "      <td>579</td>\n",
       "    </tr>\n",
       "    <tr>\n",
       "      <th>1948</th>\n",
       "      <td>1237</td>\n",
       "      <td>495</td>\n",
       "      <td>537</td>\n",
       "    </tr>\n",
       "    <tr>\n",
       "      <th>1949</th>\n",
       "      <td>1240</td>\n",
       "      <td>523</td>\n",
       "      <td>535</td>\n",
       "    </tr>\n",
       "    <tr>\n",
       "      <th>1950</th>\n",
       "      <td>1238</td>\n",
       "      <td>540</td>\n",
       "      <td>489</td>\n",
       "    </tr>\n",
       "    <tr>\n",
       "      <th>1951</th>\n",
       "      <td>1239</td>\n",
       "      <td>541</td>\n",
       "      <td>478</td>\n",
       "    </tr>\n",
       "    <tr>\n",
       "      <th>...</th>\n",
       "      <td>...</td>\n",
       "      <td>...</td>\n",
       "      <td>...</td>\n",
       "    </tr>\n",
       "    <tr>\n",
       "      <th>2016</th>\n",
       "      <td>2428</td>\n",
       "      <td>1327</td>\n",
       "      <td>682</td>\n",
       "    </tr>\n",
       "    <tr>\n",
       "      <th>2017</th>\n",
       "      <td>2430</td>\n",
       "      <td>1393</td>\n",
       "      <td>632</td>\n",
       "    </tr>\n",
       "    <tr>\n",
       "      <th>2018</th>\n",
       "      <td>2431</td>\n",
       "      <td>1342</td>\n",
       "      <td>698</td>\n",
       "    </tr>\n",
       "    <tr>\n",
       "      <th>2019</th>\n",
       "      <td>2429</td>\n",
       "      <td>1440</td>\n",
       "      <td>595</td>\n",
       "    </tr>\n",
       "    <tr>\n",
       "      <th>2020</th>\n",
       "      <td>898</td>\n",
       "      <td>514</td>\n",
       "      <td>216</td>\n",
       "    </tr>\n",
       "  </tbody>\n",
       "</table>\n",
       "<p>74 rows × 3 columns</p>\n",
       "</div>"
      ],
      "text/plain": [
       "      game_id  outhome_wins  tied\n",
       "yr                               \n",
       "1947     1243           468   579\n",
       "1948     1237           495   537\n",
       "1949     1240           523   535\n",
       "1950     1238           540   489\n",
       "1951     1239           541   478\n",
       "...       ...           ...   ...\n",
       "2016     2428          1327   682\n",
       "2017     2430          1393   632\n",
       "2018     2431          1342   698\n",
       "2019     2429          1440   595\n",
       "2020      898           514   216\n",
       "\n",
       "[74 rows x 3 columns]"
      ]
     },
     "execution_count": 7,
     "metadata": {},
     "output_type": "execute_result"
    }
   ],
   "source": [
    "yrs = gl.groupby('yr').agg({'game_id': len, 'outhome_wins': sum, 'tied': sum })\n",
    "yrs"
   ]
  },
  {
   "cell_type": "code",
   "execution_count": 8,
   "metadata": {},
   "outputs": [
    {
     "data": {
      "text/html": [
       "<div>\n",
       "<style scoped>\n",
       "    .dataframe tbody tr th:only-of-type {\n",
       "        vertical-align: middle;\n",
       "    }\n",
       "\n",
       "    .dataframe tbody tr th {\n",
       "        vertical-align: top;\n",
       "    }\n",
       "\n",
       "    .dataframe thead th {\n",
       "        text-align: right;\n",
       "    }\n",
       "</style>\n",
       "<table border=\"1\" class=\"dataframe\">\n",
       "  <thead>\n",
       "    <tr style=\"text-align: right;\">\n",
       "      <th></th>\n",
       "      <th>game_id</th>\n",
       "      <th>outhome_wins</th>\n",
       "      <th>tied</th>\n",
       "      <th>outhome_loses</th>\n",
       "      <th>pct_tied</th>\n",
       "      <th>pct_w</th>\n",
       "      <th>pct_l</th>\n",
       "      <th>pct_lead_w</th>\n",
       "    </tr>\n",
       "    <tr>\n",
       "      <th>yr</th>\n",
       "      <th></th>\n",
       "      <th></th>\n",
       "      <th></th>\n",
       "      <th></th>\n",
       "      <th></th>\n",
       "      <th></th>\n",
       "      <th></th>\n",
       "      <th></th>\n",
       "    </tr>\n",
       "  </thead>\n",
       "  <tbody>\n",
       "    <tr>\n",
       "      <th>1947</th>\n",
       "      <td>1243</td>\n",
       "      <td>468</td>\n",
       "      <td>579</td>\n",
       "      <td>196</td>\n",
       "      <td>0.465809</td>\n",
       "      <td>0.376508</td>\n",
       "      <td>0.157683</td>\n",
       "      <td>0.704819</td>\n",
       "    </tr>\n",
       "    <tr>\n",
       "      <th>1948</th>\n",
       "      <td>1237</td>\n",
       "      <td>495</td>\n",
       "      <td>537</td>\n",
       "      <td>205</td>\n",
       "      <td>0.434115</td>\n",
       "      <td>0.400162</td>\n",
       "      <td>0.165724</td>\n",
       "      <td>0.707143</td>\n",
       "    </tr>\n",
       "    <tr>\n",
       "      <th>1949</th>\n",
       "      <td>1240</td>\n",
       "      <td>523</td>\n",
       "      <td>535</td>\n",
       "      <td>182</td>\n",
       "      <td>0.431452</td>\n",
       "      <td>0.421774</td>\n",
       "      <td>0.146774</td>\n",
       "      <td>0.741844</td>\n",
       "    </tr>\n",
       "    <tr>\n",
       "      <th>1950</th>\n",
       "      <td>1238</td>\n",
       "      <td>540</td>\n",
       "      <td>489</td>\n",
       "      <td>209</td>\n",
       "      <td>0.394992</td>\n",
       "      <td>0.436187</td>\n",
       "      <td>0.168821</td>\n",
       "      <td>0.720961</td>\n",
       "    </tr>\n",
       "    <tr>\n",
       "      <th>1951</th>\n",
       "      <td>1239</td>\n",
       "      <td>541</td>\n",
       "      <td>478</td>\n",
       "      <td>220</td>\n",
       "      <td>0.385795</td>\n",
       "      <td>0.436642</td>\n",
       "      <td>0.177563</td>\n",
       "      <td>0.710907</td>\n",
       "    </tr>\n",
       "    <tr>\n",
       "      <th>...</th>\n",
       "      <td>...</td>\n",
       "      <td>...</td>\n",
       "      <td>...</td>\n",
       "      <td>...</td>\n",
       "      <td>...</td>\n",
       "      <td>...</td>\n",
       "      <td>...</td>\n",
       "      <td>...</td>\n",
       "    </tr>\n",
       "    <tr>\n",
       "      <th>2016</th>\n",
       "      <td>2428</td>\n",
       "      <td>1327</td>\n",
       "      <td>682</td>\n",
       "      <td>419</td>\n",
       "      <td>0.280890</td>\n",
       "      <td>0.546540</td>\n",
       "      <td>0.172570</td>\n",
       "      <td>0.760023</td>\n",
       "    </tr>\n",
       "    <tr>\n",
       "      <th>2017</th>\n",
       "      <td>2430</td>\n",
       "      <td>1393</td>\n",
       "      <td>632</td>\n",
       "      <td>405</td>\n",
       "      <td>0.260082</td>\n",
       "      <td>0.573251</td>\n",
       "      <td>0.166667</td>\n",
       "      <td>0.774750</td>\n",
       "    </tr>\n",
       "    <tr>\n",
       "      <th>2018</th>\n",
       "      <td>2431</td>\n",
       "      <td>1342</td>\n",
       "      <td>698</td>\n",
       "      <td>391</td>\n",
       "      <td>0.287125</td>\n",
       "      <td>0.552036</td>\n",
       "      <td>0.160839</td>\n",
       "      <td>0.774380</td>\n",
       "    </tr>\n",
       "    <tr>\n",
       "      <th>2019</th>\n",
       "      <td>2429</td>\n",
       "      <td>1440</td>\n",
       "      <td>595</td>\n",
       "      <td>394</td>\n",
       "      <td>0.244957</td>\n",
       "      <td>0.592837</td>\n",
       "      <td>0.162207</td>\n",
       "      <td>0.785169</td>\n",
       "    </tr>\n",
       "    <tr>\n",
       "      <th>2020</th>\n",
       "      <td>898</td>\n",
       "      <td>514</td>\n",
       "      <td>216</td>\n",
       "      <td>168</td>\n",
       "      <td>0.240535</td>\n",
       "      <td>0.572383</td>\n",
       "      <td>0.187082</td>\n",
       "      <td>0.753666</td>\n",
       "    </tr>\n",
       "  </tbody>\n",
       "</table>\n",
       "<p>74 rows × 8 columns</p>\n",
       "</div>"
      ],
      "text/plain": [
       "      game_id  outhome_wins  tied  outhome_loses  pct_tied     pct_w  \\\n",
       "yr                                                                     \n",
       "1947     1243           468   579            196  0.465809  0.376508   \n",
       "1948     1237           495   537            205  0.434115  0.400162   \n",
       "1949     1240           523   535            182  0.431452  0.421774   \n",
       "1950     1238           540   489            209  0.394992  0.436187   \n",
       "1951     1239           541   478            220  0.385795  0.436642   \n",
       "...       ...           ...   ...            ...       ...       ...   \n",
       "2016     2428          1327   682            419  0.280890  0.546540   \n",
       "2017     2430          1393   632            405  0.260082  0.573251   \n",
       "2018     2431          1342   698            391  0.287125  0.552036   \n",
       "2019     2429          1440   595            394  0.244957  0.592837   \n",
       "2020      898           514   216            168  0.240535  0.572383   \n",
       "\n",
       "         pct_l  pct_lead_w  \n",
       "yr                          \n",
       "1947  0.157683    0.704819  \n",
       "1948  0.165724    0.707143  \n",
       "1949  0.146774    0.741844  \n",
       "1950  0.168821    0.720961  \n",
       "1951  0.177563    0.710907  \n",
       "...        ...         ...  \n",
       "2016  0.172570    0.760023  \n",
       "2017  0.166667    0.774750  \n",
       "2018  0.160839    0.774380  \n",
       "2019  0.162207    0.785169  \n",
       "2020  0.187082    0.753666  \n",
       "\n",
       "[74 rows x 8 columns]"
      ]
     },
     "execution_count": 8,
     "metadata": {},
     "output_type": "execute_result"
    }
   ],
   "source": [
    "yrs['outhome_loses'] = yrs['game_id']-yrs['outhome_wins']-yrs['tied']\n",
    "yrs['pct_tied'] = yrs['tied']/yrs['game_id']\n",
    "yrs['pct_w'] = yrs['outhome_wins']/yrs['game_id']\n",
    "yrs['pct_l'] = yrs['outhome_loses']/yrs['game_id']\n",
    "yrs['pct_lead_w'] = yrs['outhome_wins'] / (yrs['outhome_wins'] + yrs['outhome_loses'])\n",
    "yrs"
   ]
  },
  {
   "cell_type": "code",
   "execution_count": 9,
   "metadata": {},
   "outputs": [
    {
     "data": {
      "application/vnd.plotly.v1+json": {
       "config": {
        "plotlyServerURL": "https://plot.ly"
       },
       "data": [
        {
         "hovertemplate": "variable=pct_w<br>yr=%{x}<br>value=%{y}<extra></extra>",
         "legendgroup": "pct_w",
         "line": {
          "color": "blue"
         },
         "mode": "lines",
         "name": "pct_w",
         "orientation": "v",
         "showlegend": true,
         "stackgroup": "1",
         "type": "scatter",
         "x": [
          1947,
          1948,
          1949,
          1950,
          1951,
          1952,
          1953,
          1954,
          1955,
          1956,
          1957,
          1958,
          1959,
          1960,
          1961,
          1962,
          1963,
          1964,
          1965,
          1966,
          1967,
          1968,
          1969,
          1970,
          1971,
          1972,
          1973,
          1974,
          1975,
          1976,
          1977,
          1978,
          1979,
          1980,
          1981,
          1982,
          1983,
          1984,
          1985,
          1986,
          1987,
          1988,
          1989,
          1990,
          1991,
          1992,
          1993,
          1994,
          1995,
          1996,
          1997,
          1998,
          1999,
          2000,
          2001,
          2002,
          2003,
          2004,
          2005,
          2006,
          2007,
          2008,
          2009,
          2010,
          2011,
          2012,
          2013,
          2014,
          2015,
          2016,
          2017,
          2018,
          2019,
          2020
         ],
         "xaxis": "x",
         "y": [
          0.37650844730490746,
          0.40016168148746967,
          0.4217741935483871,
          0.43618739903069464,
          0.43664245359160614,
          0.4245359160613398,
          0.49274193548387096,
          0.4381568310428456,
          0.46353322528363045,
          0.46811945117029863,
          0.4785425101214575,
          0.46963562753036436,
          0.48303715670436187,
          0.4546925566343042,
          0.46293706293706294,
          0.4743985194324491,
          0.4823965410747375,
          0.45018450184501846,
          0.45040049291435613,
          0.45139318885448915,
          0.43209876543209874,
          0.4043076923076923,
          0.4552929085303186,
          0.4660493827160494,
          0.434468524251806,
          0.4373318988703604,
          0.4482758620689655,
          0.42159383033419023,
          0.43381592554291626,
          0.3929860752965446,
          0.46695197337137423,
          0.4319695528068506,
          0.45878989995235825,
          0.42660332541567697,
          0.41893830703012913,
          0.44803037494067394,
          0.4490279753437648,
          0.4532066508313539,
          0.466000951022349,
          0.4902520209224917,
          0.5121140142517815,
          0.44571428571428573,
          0.4358974358974359,
          0.44655581947743467,
          0.4405893536121673,
          0.4544159544159544,
          0.46892904363155574,
          0.495625,
          0.49380267724343085,
          0.49316277018085575,
          0.5057369814651368,
          0.5008223684210527,
          0.5168863261943987,
          0.5187319884726225,
          0.5150267599835323,
          0.5201978565539983,
          0.5131687242798354,
          0.5308896210873146,
          0.513780337309749,
          0.5129682997118156,
          0.49238996297819826,
          0.528830313014827,
          0.51440329218107,
          0.5160493827160494,
          0.5039110745162618,
          0.5358024691358024,
          0.5158371040723982,
          0.4810699588477366,
          0.5286125977768629,
          0.5465403624382208,
          0.5732510288065844,
          0.5520361990950227,
          0.5928365582544257,
          0.5723830734966593
         ],
         "yaxis": "y"
        },
        {
         "hovertemplate": "variable=pct_tied<br>yr=%{x}<br>value=%{y}<extra></extra>",
         "legendgroup": "pct_tied",
         "line": {
          "color": "darkgrey"
         },
         "mode": "lines",
         "name": "pct_tied",
         "orientation": "v",
         "showlegend": true,
         "stackgroup": "1",
         "type": "scatter",
         "x": [
          1947,
          1948,
          1949,
          1950,
          1951,
          1952,
          1953,
          1954,
          1955,
          1956,
          1957,
          1958,
          1959,
          1960,
          1961,
          1962,
          1963,
          1964,
          1965,
          1966,
          1967,
          1968,
          1969,
          1970,
          1971,
          1972,
          1973,
          1974,
          1975,
          1976,
          1977,
          1978,
          1979,
          1980,
          1981,
          1982,
          1983,
          1984,
          1985,
          1986,
          1987,
          1988,
          1989,
          1990,
          1991,
          1992,
          1993,
          1994,
          1995,
          1996,
          1997,
          1998,
          1999,
          2000,
          2001,
          2002,
          2003,
          2004,
          2005,
          2006,
          2007,
          2008,
          2009,
          2010,
          2011,
          2012,
          2013,
          2014,
          2015,
          2016,
          2017,
          2018,
          2019,
          2020
         ],
         "xaxis": "x",
         "y": [
          0.4658085277554304,
          0.43411479385610346,
          0.4314516129032258,
          0.3949919224555735,
          0.38579499596448746,
          0.4317998385794996,
          0.3338709677419355,
          0.40016168148746967,
          0.3711507293354943,
          0.3446327683615819,
          0.345748987854251,
          0.3684210526315789,
          0.3465266558966074,
          0.3656957928802589,
          0.35384615384615387,
          0.3392967304133251,
          0.35392217418159355,
          0.3948339483394834,
          0.381392483056069,
          0.3653250773993808,
          0.4154320987654321,
          0.43138461538461537,
          0.3751284686536485,
          0.35699588477366256,
          0.4040247678018576,
          0.41581495427649273,
          0.37828100874935666,
          0.4221079691516709,
          0.3893485005170631,
          0.4486848891181021,
          0.3585354255825012,
          0.3939105613701237,
          0.37208194378275367,
          0.40950118764845606,
          0.415351506456241,
          0.36260085429520644,
          0.36936936936936937,
          0.3681710213776722,
          0.34997622444127435,
          0.3333333333333333,
          0.298812351543943,
          0.37952380952380954,
          0.3950617283950617,
          0.3695961995249406,
          0.3745247148288973,
          0.3812915479582146,
          0.3481710004407228,
          0.323125,
          0.3232523549826475,
          0.32774591971768857,
          0.3124448367166814,
          0.30838815789473684,
          0.3088962108731466,
          0.30135858377933306,
          0.2984767393989296,
          0.2930750206100577,
          0.31234567901234567,
          0.29200988467874794,
          0.3113944878650761,
          0.2980650473445863,
          0.31879884821061294,
          0.29942339373970345,
          0.31522633744855966,
          0.32551440329218106,
          0.3215314944421573,
          0.3069958847736626,
          0.30645824763471824,
          0.3497942386831276,
          0.3120625771922602,
          0.2808896210873147,
          0.26008230452674896,
          0.28712464006581656,
          0.24495677233429394,
          0.24053452115812918
         ],
         "yaxis": "y"
        },
        {
         "hovertemplate": "variable=pct_l<br>yr=%{x}<br>value=%{y}<extra></extra>",
         "legendgroup": "pct_l",
         "line": {
          "color": "red"
         },
         "mode": "lines",
         "name": "pct_l",
         "orientation": "v",
         "showlegend": true,
         "stackgroup": "1",
         "type": "scatter",
         "x": [
          1947,
          1948,
          1949,
          1950,
          1951,
          1952,
          1953,
          1954,
          1955,
          1956,
          1957,
          1958,
          1959,
          1960,
          1961,
          1962,
          1963,
          1964,
          1965,
          1966,
          1967,
          1968,
          1969,
          1970,
          1971,
          1972,
          1973,
          1974,
          1975,
          1976,
          1977,
          1978,
          1979,
          1980,
          1981,
          1982,
          1983,
          1984,
          1985,
          1986,
          1987,
          1988,
          1989,
          1990,
          1991,
          1992,
          1993,
          1994,
          1995,
          1996,
          1997,
          1998,
          1999,
          2000,
          2001,
          2002,
          2003,
          2004,
          2005,
          2006,
          2007,
          2008,
          2009,
          2010,
          2011,
          2012,
          2013,
          2014,
          2015,
          2016,
          2017,
          2018,
          2019,
          2020
         ],
         "xaxis": "x",
         "y": [
          0.1576830249396621,
          0.16572352465642684,
          0.14677419354838708,
          0.16882067851373184,
          0.17756255044390637,
          0.14366424535916061,
          0.17338709677419356,
          0.16168148746968472,
          0.16531604538087522,
          0.18724778046811946,
          0.1757085020242915,
          0.16194331983805668,
          0.1704361873990307,
          0.1796116504854369,
          0.18321678321678322,
          0.1863047501542258,
          0.16368128474366894,
          0.15498154981549817,
          0.16820702402957485,
          0.18328173374613002,
          0.15246913580246912,
          0.16430769230769232,
          0.1695786228160329,
          0.17695473251028807,
          0.16150670794633643,
          0.14685314685314685,
          0.1734431291816778,
          0.1562982005141388,
          0.1768355739400207,
          0.15832903558535327,
          0.1745126010461246,
          0.17411988582302568,
          0.16912815626488803,
          0.16389548693586697,
          0.16571018651362984,
          0.1893687707641196,
          0.1816026552868658,
          0.17862232779097387,
          0.1840228245363766,
          0.17641464574417498,
          0.18907363420427553,
          0.17476190476190476,
          0.16904083570750236,
          0.1838479809976247,
          0.18488593155893537,
          0.16429249762583095,
          0.18289995592772146,
          0.18125,
          0.18294496777392166,
          0.17909131010145568,
          0.18181818181818182,
          0.19078947368421054,
          0.1742174629324547,
          0.17990942774804447,
          0.18649650061753809,
          0.18672712283594395,
          0.17448559670781894,
          0.1771004942339374,
          0.17482517482517482,
          0.18896665294359818,
          0.1888111888111888,
          0.17174629324546953,
          0.17037037037037037,
          0.15843621399176955,
          0.1745574310415809,
          0.15720164609053497,
          0.1777046482928836,
          0.16913580246913582,
          0.15932482503087692,
          0.17257001647446457,
          0.16666666666666666,
          0.16083916083916083,
          0.16220666941128037,
          0.1870824053452116
         ],
         "yaxis": "y"
        }
       ],
       "layout": {
        "legend": {
         "title": {
          "text": "variable"
         },
         "tracegroupgap": 0
        },
        "margin": {
         "t": 60
        },
        "template": {
         "data": {
          "bar": [
           {
            "error_x": {
             "color": "#2a3f5f"
            },
            "error_y": {
             "color": "#2a3f5f"
            },
            "marker": {
             "line": {
              "color": "#E5ECF6",
              "width": 0.5
             }
            },
            "type": "bar"
           }
          ],
          "barpolar": [
           {
            "marker": {
             "line": {
              "color": "#E5ECF6",
              "width": 0.5
             }
            },
            "type": "barpolar"
           }
          ],
          "carpet": [
           {
            "aaxis": {
             "endlinecolor": "#2a3f5f",
             "gridcolor": "white",
             "linecolor": "white",
             "minorgridcolor": "white",
             "startlinecolor": "#2a3f5f"
            },
            "baxis": {
             "endlinecolor": "#2a3f5f",
             "gridcolor": "white",
             "linecolor": "white",
             "minorgridcolor": "white",
             "startlinecolor": "#2a3f5f"
            },
            "type": "carpet"
           }
          ],
          "choropleth": [
           {
            "colorbar": {
             "outlinewidth": 0,
             "ticks": ""
            },
            "type": "choropleth"
           }
          ],
          "contour": [
           {
            "colorbar": {
             "outlinewidth": 0,
             "ticks": ""
            },
            "colorscale": [
             [
              0,
              "#0d0887"
             ],
             [
              0.1111111111111111,
              "#46039f"
             ],
             [
              0.2222222222222222,
              "#7201a8"
             ],
             [
              0.3333333333333333,
              "#9c179e"
             ],
             [
              0.4444444444444444,
              "#bd3786"
             ],
             [
              0.5555555555555556,
              "#d8576b"
             ],
             [
              0.6666666666666666,
              "#ed7953"
             ],
             [
              0.7777777777777778,
              "#fb9f3a"
             ],
             [
              0.8888888888888888,
              "#fdca26"
             ],
             [
              1,
              "#f0f921"
             ]
            ],
            "type": "contour"
           }
          ],
          "contourcarpet": [
           {
            "colorbar": {
             "outlinewidth": 0,
             "ticks": ""
            },
            "type": "contourcarpet"
           }
          ],
          "heatmap": [
           {
            "colorbar": {
             "outlinewidth": 0,
             "ticks": ""
            },
            "colorscale": [
             [
              0,
              "#0d0887"
             ],
             [
              0.1111111111111111,
              "#46039f"
             ],
             [
              0.2222222222222222,
              "#7201a8"
             ],
             [
              0.3333333333333333,
              "#9c179e"
             ],
             [
              0.4444444444444444,
              "#bd3786"
             ],
             [
              0.5555555555555556,
              "#d8576b"
             ],
             [
              0.6666666666666666,
              "#ed7953"
             ],
             [
              0.7777777777777778,
              "#fb9f3a"
             ],
             [
              0.8888888888888888,
              "#fdca26"
             ],
             [
              1,
              "#f0f921"
             ]
            ],
            "type": "heatmap"
           }
          ],
          "heatmapgl": [
           {
            "colorbar": {
             "outlinewidth": 0,
             "ticks": ""
            },
            "colorscale": [
             [
              0,
              "#0d0887"
             ],
             [
              0.1111111111111111,
              "#46039f"
             ],
             [
              0.2222222222222222,
              "#7201a8"
             ],
             [
              0.3333333333333333,
              "#9c179e"
             ],
             [
              0.4444444444444444,
              "#bd3786"
             ],
             [
              0.5555555555555556,
              "#d8576b"
             ],
             [
              0.6666666666666666,
              "#ed7953"
             ],
             [
              0.7777777777777778,
              "#fb9f3a"
             ],
             [
              0.8888888888888888,
              "#fdca26"
             ],
             [
              1,
              "#f0f921"
             ]
            ],
            "type": "heatmapgl"
           }
          ],
          "histogram": [
           {
            "marker": {
             "colorbar": {
              "outlinewidth": 0,
              "ticks": ""
             }
            },
            "type": "histogram"
           }
          ],
          "histogram2d": [
           {
            "colorbar": {
             "outlinewidth": 0,
             "ticks": ""
            },
            "colorscale": [
             [
              0,
              "#0d0887"
             ],
             [
              0.1111111111111111,
              "#46039f"
             ],
             [
              0.2222222222222222,
              "#7201a8"
             ],
             [
              0.3333333333333333,
              "#9c179e"
             ],
             [
              0.4444444444444444,
              "#bd3786"
             ],
             [
              0.5555555555555556,
              "#d8576b"
             ],
             [
              0.6666666666666666,
              "#ed7953"
             ],
             [
              0.7777777777777778,
              "#fb9f3a"
             ],
             [
              0.8888888888888888,
              "#fdca26"
             ],
             [
              1,
              "#f0f921"
             ]
            ],
            "type": "histogram2d"
           }
          ],
          "histogram2dcontour": [
           {
            "colorbar": {
             "outlinewidth": 0,
             "ticks": ""
            },
            "colorscale": [
             [
              0,
              "#0d0887"
             ],
             [
              0.1111111111111111,
              "#46039f"
             ],
             [
              0.2222222222222222,
              "#7201a8"
             ],
             [
              0.3333333333333333,
              "#9c179e"
             ],
             [
              0.4444444444444444,
              "#bd3786"
             ],
             [
              0.5555555555555556,
              "#d8576b"
             ],
             [
              0.6666666666666666,
              "#ed7953"
             ],
             [
              0.7777777777777778,
              "#fb9f3a"
             ],
             [
              0.8888888888888888,
              "#fdca26"
             ],
             [
              1,
              "#f0f921"
             ]
            ],
            "type": "histogram2dcontour"
           }
          ],
          "mesh3d": [
           {
            "colorbar": {
             "outlinewidth": 0,
             "ticks": ""
            },
            "type": "mesh3d"
           }
          ],
          "parcoords": [
           {
            "line": {
             "colorbar": {
              "outlinewidth": 0,
              "ticks": ""
             }
            },
            "type": "parcoords"
           }
          ],
          "pie": [
           {
            "automargin": true,
            "type": "pie"
           }
          ],
          "scatter": [
           {
            "marker": {
             "colorbar": {
              "outlinewidth": 0,
              "ticks": ""
             }
            },
            "type": "scatter"
           }
          ],
          "scatter3d": [
           {
            "line": {
             "colorbar": {
              "outlinewidth": 0,
              "ticks": ""
             }
            },
            "marker": {
             "colorbar": {
              "outlinewidth": 0,
              "ticks": ""
             }
            },
            "type": "scatter3d"
           }
          ],
          "scattercarpet": [
           {
            "marker": {
             "colorbar": {
              "outlinewidth": 0,
              "ticks": ""
             }
            },
            "type": "scattercarpet"
           }
          ],
          "scattergeo": [
           {
            "marker": {
             "colorbar": {
              "outlinewidth": 0,
              "ticks": ""
             }
            },
            "type": "scattergeo"
           }
          ],
          "scattergl": [
           {
            "marker": {
             "colorbar": {
              "outlinewidth": 0,
              "ticks": ""
             }
            },
            "type": "scattergl"
           }
          ],
          "scattermapbox": [
           {
            "marker": {
             "colorbar": {
              "outlinewidth": 0,
              "ticks": ""
             }
            },
            "type": "scattermapbox"
           }
          ],
          "scatterpolar": [
           {
            "marker": {
             "colorbar": {
              "outlinewidth": 0,
              "ticks": ""
             }
            },
            "type": "scatterpolar"
           }
          ],
          "scatterpolargl": [
           {
            "marker": {
             "colorbar": {
              "outlinewidth": 0,
              "ticks": ""
             }
            },
            "type": "scatterpolargl"
           }
          ],
          "scatterternary": [
           {
            "marker": {
             "colorbar": {
              "outlinewidth": 0,
              "ticks": ""
             }
            },
            "type": "scatterternary"
           }
          ],
          "surface": [
           {
            "colorbar": {
             "outlinewidth": 0,
             "ticks": ""
            },
            "colorscale": [
             [
              0,
              "#0d0887"
             ],
             [
              0.1111111111111111,
              "#46039f"
             ],
             [
              0.2222222222222222,
              "#7201a8"
             ],
             [
              0.3333333333333333,
              "#9c179e"
             ],
             [
              0.4444444444444444,
              "#bd3786"
             ],
             [
              0.5555555555555556,
              "#d8576b"
             ],
             [
              0.6666666666666666,
              "#ed7953"
             ],
             [
              0.7777777777777778,
              "#fb9f3a"
             ],
             [
              0.8888888888888888,
              "#fdca26"
             ],
             [
              1,
              "#f0f921"
             ]
            ],
            "type": "surface"
           }
          ],
          "table": [
           {
            "cells": {
             "fill": {
              "color": "#EBF0F8"
             },
             "line": {
              "color": "white"
             }
            },
            "header": {
             "fill": {
              "color": "#C8D4E3"
             },
             "line": {
              "color": "white"
             }
            },
            "type": "table"
           }
          ]
         },
         "layout": {
          "annotationdefaults": {
           "arrowcolor": "#2a3f5f",
           "arrowhead": 0,
           "arrowwidth": 1
          },
          "autotypenumbers": "strict",
          "coloraxis": {
           "colorbar": {
            "outlinewidth": 0,
            "ticks": ""
           }
          },
          "colorscale": {
           "diverging": [
            [
             0,
             "#8e0152"
            ],
            [
             0.1,
             "#c51b7d"
            ],
            [
             0.2,
             "#de77ae"
            ],
            [
             0.3,
             "#f1b6da"
            ],
            [
             0.4,
             "#fde0ef"
            ],
            [
             0.5,
             "#f7f7f7"
            ],
            [
             0.6,
             "#e6f5d0"
            ],
            [
             0.7,
             "#b8e186"
            ],
            [
             0.8,
             "#7fbc41"
            ],
            [
             0.9,
             "#4d9221"
            ],
            [
             1,
             "#276419"
            ]
           ],
           "sequential": [
            [
             0,
             "#0d0887"
            ],
            [
             0.1111111111111111,
             "#46039f"
            ],
            [
             0.2222222222222222,
             "#7201a8"
            ],
            [
             0.3333333333333333,
             "#9c179e"
            ],
            [
             0.4444444444444444,
             "#bd3786"
            ],
            [
             0.5555555555555556,
             "#d8576b"
            ],
            [
             0.6666666666666666,
             "#ed7953"
            ],
            [
             0.7777777777777778,
             "#fb9f3a"
            ],
            [
             0.8888888888888888,
             "#fdca26"
            ],
            [
             1,
             "#f0f921"
            ]
           ],
           "sequentialminus": [
            [
             0,
             "#0d0887"
            ],
            [
             0.1111111111111111,
             "#46039f"
            ],
            [
             0.2222222222222222,
             "#7201a8"
            ],
            [
             0.3333333333333333,
             "#9c179e"
            ],
            [
             0.4444444444444444,
             "#bd3786"
            ],
            [
             0.5555555555555556,
             "#d8576b"
            ],
            [
             0.6666666666666666,
             "#ed7953"
            ],
            [
             0.7777777777777778,
             "#fb9f3a"
            ],
            [
             0.8888888888888888,
             "#fdca26"
            ],
            [
             1,
             "#f0f921"
            ]
           ]
          },
          "colorway": [
           "#636efa",
           "#EF553B",
           "#00cc96",
           "#ab63fa",
           "#FFA15A",
           "#19d3f3",
           "#FF6692",
           "#B6E880",
           "#FF97FF",
           "#FECB52"
          ],
          "font": {
           "color": "#2a3f5f"
          },
          "geo": {
           "bgcolor": "white",
           "lakecolor": "white",
           "landcolor": "#E5ECF6",
           "showlakes": true,
           "showland": true,
           "subunitcolor": "white"
          },
          "hoverlabel": {
           "align": "left"
          },
          "hovermode": "closest",
          "mapbox": {
           "style": "light"
          },
          "paper_bgcolor": "white",
          "plot_bgcolor": "#E5ECF6",
          "polar": {
           "angularaxis": {
            "gridcolor": "white",
            "linecolor": "white",
            "ticks": ""
           },
           "bgcolor": "#E5ECF6",
           "radialaxis": {
            "gridcolor": "white",
            "linecolor": "white",
            "ticks": ""
           }
          },
          "scene": {
           "xaxis": {
            "backgroundcolor": "#E5ECF6",
            "gridcolor": "white",
            "gridwidth": 2,
            "linecolor": "white",
            "showbackground": true,
            "ticks": "",
            "zerolinecolor": "white"
           },
           "yaxis": {
            "backgroundcolor": "#E5ECF6",
            "gridcolor": "white",
            "gridwidth": 2,
            "linecolor": "white",
            "showbackground": true,
            "ticks": "",
            "zerolinecolor": "white"
           },
           "zaxis": {
            "backgroundcolor": "#E5ECF6",
            "gridcolor": "white",
            "gridwidth": 2,
            "linecolor": "white",
            "showbackground": true,
            "ticks": "",
            "zerolinecolor": "white"
           }
          },
          "shapedefaults": {
           "line": {
            "color": "#2a3f5f"
           }
          },
          "ternary": {
           "aaxis": {
            "gridcolor": "white",
            "linecolor": "white",
            "ticks": ""
           },
           "baxis": {
            "gridcolor": "white",
            "linecolor": "white",
            "ticks": ""
           },
           "bgcolor": "#E5ECF6",
           "caxis": {
            "gridcolor": "white",
            "linecolor": "white",
            "ticks": ""
           }
          },
          "title": {
           "x": 0.05
          },
          "xaxis": {
           "automargin": true,
           "gridcolor": "white",
           "linecolor": "white",
           "ticks": "",
           "title": {
            "standoff": 15
           },
           "zerolinecolor": "white",
           "zerolinewidth": 2
          },
          "yaxis": {
           "automargin": true,
           "gridcolor": "white",
           "linecolor": "white",
           "ticks": "",
           "title": {
            "standoff": 15
           },
           "zerolinecolor": "white",
           "zerolinewidth": 2
          }
         }
        },
        "xaxis": {
         "anchor": "y",
         "domain": [
          0,
          1
         ],
         "title": {
          "text": "yr"
         }
        },
        "yaxis": {
         "anchor": "x",
         "domain": [
          0,
          1
         ],
         "title": {
          "text": "value"
         }
        }
       }
      }
     },
     "metadata": {},
     "output_type": "display_data"
    }
   ],
   "source": [
    "px.area(yrs[['pct_w', 'pct_tied', 'pct_l']], color_discrete_sequence=[\"blue\", \"darkgrey\", \"red\"])"
   ]
  },
  {
   "cell_type": "code",
   "execution_count": 10,
   "metadata": {},
   "outputs": [
    {
     "data": {
      "application/vnd.plotly.v1+json": {
       "config": {
        "plotlyServerURL": "https://plot.ly"
       },
       "data": [
        {
         "hovertemplate": "variable=pct_w<br>yr=%{x}<br>value=%{y}<extra></extra>",
         "legendgroup": "pct_w",
         "line": {
          "color": "blue"
         },
         "mode": "lines",
         "name": "pct_w",
         "orientation": "v",
         "showlegend": true,
         "stackgroup": "1",
         "type": "scatter",
         "x": [
          1951,
          1952,
          1953,
          1954,
          1955,
          1956,
          1957,
          1958,
          1959,
          1960,
          1961,
          1962,
          1963,
          1964,
          1965,
          1966,
          1967,
          1968,
          1969,
          1970,
          1971,
          1972,
          1973,
          1974,
          1975,
          1976,
          1977,
          1978,
          1979,
          1980,
          1981,
          1982,
          1983,
          1984,
          1985,
          1986,
          1987,
          1988,
          1989,
          1990,
          1991,
          1992,
          1993,
          1994,
          1995,
          1996,
          1997,
          1998,
          1999,
          2000,
          2001,
          2002,
          2003,
          2004,
          2005,
          2006,
          2007,
          2008,
          2009,
          2010,
          2011,
          2012,
          2013,
          2014,
          2015,
          2016,
          2017,
          2018,
          2019,
          2020
         ],
         "xaxis": "x",
         "y": [
          0.41425483499261306,
          0.42386032874389945,
          0.4423763795431797,
          0.44565290704207144,
          0.4511220722926586,
          0.4574174718083971,
          0.4682187906204206,
          0.4635975290297193,
          0.47257359416202255,
          0.4708054604321573,
          0.4697689827855102,
          0.4689401846477085,
          0.4714923673565831,
          0.46492183638471446,
          0.4640634236407249,
          0.4617546488242101,
          0.45329469802414,
          0.43767692827073096,
          0.43869860960779106,
          0.4418283875681297,
          0.438443454647593,
          0.43949008133524536,
          0.4482837152875,
          0.44154389964827434,
          0.43509720821364767,
          0.4268007184225954,
          0.4327247333227982,
          0.4294634714703752,
          0.4369026853940087,
          0.4354601653685609,
          0.44065061171527786,
          0.4368662920291378,
          0.4402779765365207,
          0.4391613267123198,
          0.44704085183365416,
          0.46130359461212667,
          0.4741203224743481,
          0.4734575845484524,
          0.46999574156166873,
          0.4661067152526859,
          0.45617418179062097,
          0.44463456982345556,
          0.4492775214069096,
          0.46122303422742245,
          0.47067240578062164,
          0.48118708909435937,
          0.4914512945041958,
          0.49782995946209513,
          0.502082224700975,
          0.5070680869468133,
          0.5114408849073485,
          0.5143330599251208,
          0.5168023310968775,
          0.5196029900754606,
          0.518612659842886,
          0.5182009677885426,
          0.5126393890733826,
          0.5157717068203809,
          0.5124744410391319,
          0.5129282501203921,
          0.5111168050812813,
          0.5197993063128021,
          0.5172006645243163,
          0.5105339978576497,
          0.5130466408698123,
          0.5215724984542043,
          0.5290622103883605,
          0.5363020293928855,
          0.5586553492742232,
          0.5674094444181825
         ],
         "yaxis": "y"
        },
        {
         "hovertemplate": "variable=pct_tied<br>yr=%{x}<br>value=%{y}<extra></extra>",
         "legendgroup": "pct_tied",
         "line": {
          "color": "darkgrey"
         },
         "mode": "lines",
         "name": "pct_tied",
         "orientation": "v",
         "showlegend": true,
         "stackgroup": "1",
         "type": "scatter",
         "x": [
          1951,
          1952,
          1953,
          1954,
          1955,
          1956,
          1957,
          1958,
          1959,
          1960,
          1961,
          1962,
          1963,
          1964,
          1965,
          1966,
          1967,
          1968,
          1969,
          1970,
          1971,
          1972,
          1973,
          1974,
          1975,
          1976,
          1977,
          1978,
          1979,
          1980,
          1981,
          1982,
          1983,
          1984,
          1985,
          1986,
          1987,
          1988,
          1989,
          1990,
          1991,
          1992,
          1993,
          1994,
          1995,
          1996,
          1997,
          1998,
          1999,
          2000,
          2001,
          2002,
          2003,
          2004,
          2005,
          2006,
          2007,
          2008,
          2009,
          2010,
          2011,
          2012,
          2013,
          2014,
          2015,
          2016,
          2017,
          2018,
          2019,
          2020
         ],
         "xaxis": "x",
         "y": [
          0.4224323705869641,
          0.415630632751778,
          0.39558186752894436,
          0.38932388124579315,
          0.3845556426217773,
          0.37632319710119616,
          0.3591130269561465,
          0.36602304393407514,
          0.35529603881590266,
          0.35420505152485565,
          0.35604772862177003,
          0.35475727713358485,
          0.35185750144358774,
          0.361518959932163,
          0.36465829796732496,
          0.36695408267797036,
          0.3821811563483918,
          0.3976736445889961,
          0.39373254865182916,
          0.38885322899534785,
          0.39659316707584324,
          0.39666973817805534,
          0.3860490168510036,
          0.3954449169506081,
          0.4019154400992882,
          0.4108474643625371,
          0.39939155862373876,
          0.4025174691478922,
          0.3925122640741088,
          0.39654280150038734,
          0.3898761249680151,
          0.3906892107105562,
          0.3857809723104053,
          0.38499878782938907,
          0.37309379518795266,
          0.3566901605633711,
          0.3439324600131185,
          0.34596334804400647,
          0.35134148944748433,
          0.35526548446421763,
          0.3635037607633304,
          0.37999960004618477,
          0.3737290382295674,
          0.3593416925505551,
          0.3500729236420964,
          0.3407171646198547,
          0.326947822371548,
          0.31899125386235083,
          0.31614549603698017,
          0.31176674179631725,
          0.30591290573256547,
          0.30203894251124075,
          0.3028304467347625,
          0.2994531814958828,
          0.3014603623130314,
          0.30137802390216273,
          0.3065227894222738,
          0.30393833236774537,
          0.30858162292170765,
          0.3114056060071287,
          0.31609889542664293,
          0.3137383027392528,
          0.3151452735182557,
          0.32205885376516935,
          0.3193684885451852,
          0.31124011387421663,
          0.3018573978248339,
          0.29799067631105364,
          0.27702318304128687,
          0.26271757183446065
         ],
         "yaxis": "y"
        },
        {
         "hovertemplate": "variable=pct_l<br>yr=%{x}<br>value=%{y}<extra></extra>",
         "legendgroup": "pct_l",
         "line": {
          "color": "red"
         },
         "mode": "lines",
         "name": "pct_l",
         "orientation": "v",
         "showlegend": true,
         "stackgroup": "1",
         "type": "scatter",
         "x": [
          1951,
          1952,
          1953,
          1954,
          1955,
          1956,
          1957,
          1958,
          1959,
          1960,
          1961,
          1962,
          1963,
          1964,
          1965,
          1966,
          1967,
          1968,
          1969,
          1970,
          1971,
          1972,
          1973,
          1974,
          1975,
          1976,
          1977,
          1978,
          1979,
          1980,
          1981,
          1982,
          1983,
          1984,
          1985,
          1986,
          1987,
          1988,
          1989,
          1990,
          1991,
          1992,
          1993,
          1994,
          1995,
          1996,
          1997,
          1998,
          1999,
          2000,
          2001,
          2002,
          2003,
          2004,
          2005,
          2006,
          2007,
          2008,
          2009,
          2010,
          2011,
          2012,
          2013,
          2014,
          2015,
          2016,
          2017,
          2018,
          2019,
          2020
         ],
         "xaxis": "x",
         "y": [
          0.16331279442042285,
          0.16050903850432255,
          0.16204175292787587,
          0.16502321171213544,
          0.1643222850855641,
          0.16625933109040672,
          0.1726681824234329,
          0.1703794270362055,
          0.1721303670220747,
          0.17498948804298703,
          0.17418328859271978,
          0.17630253821870664,
          0.1766501311998291,
          0.17355920368312258,
          0.1712782783919502,
          0.17129126849781956,
          0.16452414562746823,
          0.16464942714027292,
          0.16756884174037984,
          0.16931838343652247,
          0.16496337827656377,
          0.1638401804866993,
          0.1656672678614964,
          0.1630111834011176,
          0.16298735168706413,
          0.1623518172148675,
          0.16788370805346303,
          0.16801905938173262,
          0.17058505053188244,
          0.1679970331310517,
          0.16947326331670703,
          0.17244449726030603,
          0.17394105115307404,
          0.1758398854582912,
          0.17986535297839315,
          0.18200624482450217,
          0.18194721751253334,
          0.18057906740754115,
          0.17866276899084682,
          0.17862780028309647,
          0.18032205744604854,
          0.1753658301303596,
          0.17699344036352296,
          0.17943527322202252,
          0.1792546705772819,
          0.17809574628578595,
          0.18160088312425612,
          0.18317878667555393,
          0.18177227926204487,
          0.18116517125686943,
          0.18264620936008594,
          0.18362799756363835,
          0.18036722216836004,
          0.18094382842865658,
          0.17992697784408263,
          0.18042100830929467,
          0.18083782150434363,
          0.18028996081187373,
          0.17894393603916034,
          0.1756661438724793,
          0.17278429949207583,
          0.16646239094794507,
          0.16765406195742788,
          0.16740714837718096,
          0.16758487058500243,
          0.16718738767157917,
          0.1690803917868055,
          0.16570729429606096,
          0.16432146768448988,
          0.1698729837473568
         ],
         "yaxis": "y"
        }
       ],
       "layout": {
        "legend": {
         "title": {
          "text": "variable"
         },
         "tracegroupgap": 0
        },
        "margin": {
         "t": 60
        },
        "template": {
         "data": {
          "bar": [
           {
            "error_x": {
             "color": "#2a3f5f"
            },
            "error_y": {
             "color": "#2a3f5f"
            },
            "marker": {
             "line": {
              "color": "#E5ECF6",
              "width": 0.5
             }
            },
            "type": "bar"
           }
          ],
          "barpolar": [
           {
            "marker": {
             "line": {
              "color": "#E5ECF6",
              "width": 0.5
             }
            },
            "type": "barpolar"
           }
          ],
          "carpet": [
           {
            "aaxis": {
             "endlinecolor": "#2a3f5f",
             "gridcolor": "white",
             "linecolor": "white",
             "minorgridcolor": "white",
             "startlinecolor": "#2a3f5f"
            },
            "baxis": {
             "endlinecolor": "#2a3f5f",
             "gridcolor": "white",
             "linecolor": "white",
             "minorgridcolor": "white",
             "startlinecolor": "#2a3f5f"
            },
            "type": "carpet"
           }
          ],
          "choropleth": [
           {
            "colorbar": {
             "outlinewidth": 0,
             "ticks": ""
            },
            "type": "choropleth"
           }
          ],
          "contour": [
           {
            "colorbar": {
             "outlinewidth": 0,
             "ticks": ""
            },
            "colorscale": [
             [
              0,
              "#0d0887"
             ],
             [
              0.1111111111111111,
              "#46039f"
             ],
             [
              0.2222222222222222,
              "#7201a8"
             ],
             [
              0.3333333333333333,
              "#9c179e"
             ],
             [
              0.4444444444444444,
              "#bd3786"
             ],
             [
              0.5555555555555556,
              "#d8576b"
             ],
             [
              0.6666666666666666,
              "#ed7953"
             ],
             [
              0.7777777777777778,
              "#fb9f3a"
             ],
             [
              0.8888888888888888,
              "#fdca26"
             ],
             [
              1,
              "#f0f921"
             ]
            ],
            "type": "contour"
           }
          ],
          "contourcarpet": [
           {
            "colorbar": {
             "outlinewidth": 0,
             "ticks": ""
            },
            "type": "contourcarpet"
           }
          ],
          "heatmap": [
           {
            "colorbar": {
             "outlinewidth": 0,
             "ticks": ""
            },
            "colorscale": [
             [
              0,
              "#0d0887"
             ],
             [
              0.1111111111111111,
              "#46039f"
             ],
             [
              0.2222222222222222,
              "#7201a8"
             ],
             [
              0.3333333333333333,
              "#9c179e"
             ],
             [
              0.4444444444444444,
              "#bd3786"
             ],
             [
              0.5555555555555556,
              "#d8576b"
             ],
             [
              0.6666666666666666,
              "#ed7953"
             ],
             [
              0.7777777777777778,
              "#fb9f3a"
             ],
             [
              0.8888888888888888,
              "#fdca26"
             ],
             [
              1,
              "#f0f921"
             ]
            ],
            "type": "heatmap"
           }
          ],
          "heatmapgl": [
           {
            "colorbar": {
             "outlinewidth": 0,
             "ticks": ""
            },
            "colorscale": [
             [
              0,
              "#0d0887"
             ],
             [
              0.1111111111111111,
              "#46039f"
             ],
             [
              0.2222222222222222,
              "#7201a8"
             ],
             [
              0.3333333333333333,
              "#9c179e"
             ],
             [
              0.4444444444444444,
              "#bd3786"
             ],
             [
              0.5555555555555556,
              "#d8576b"
             ],
             [
              0.6666666666666666,
              "#ed7953"
             ],
             [
              0.7777777777777778,
              "#fb9f3a"
             ],
             [
              0.8888888888888888,
              "#fdca26"
             ],
             [
              1,
              "#f0f921"
             ]
            ],
            "type": "heatmapgl"
           }
          ],
          "histogram": [
           {
            "marker": {
             "colorbar": {
              "outlinewidth": 0,
              "ticks": ""
             }
            },
            "type": "histogram"
           }
          ],
          "histogram2d": [
           {
            "colorbar": {
             "outlinewidth": 0,
             "ticks": ""
            },
            "colorscale": [
             [
              0,
              "#0d0887"
             ],
             [
              0.1111111111111111,
              "#46039f"
             ],
             [
              0.2222222222222222,
              "#7201a8"
             ],
             [
              0.3333333333333333,
              "#9c179e"
             ],
             [
              0.4444444444444444,
              "#bd3786"
             ],
             [
              0.5555555555555556,
              "#d8576b"
             ],
             [
              0.6666666666666666,
              "#ed7953"
             ],
             [
              0.7777777777777778,
              "#fb9f3a"
             ],
             [
              0.8888888888888888,
              "#fdca26"
             ],
             [
              1,
              "#f0f921"
             ]
            ],
            "type": "histogram2d"
           }
          ],
          "histogram2dcontour": [
           {
            "colorbar": {
             "outlinewidth": 0,
             "ticks": ""
            },
            "colorscale": [
             [
              0,
              "#0d0887"
             ],
             [
              0.1111111111111111,
              "#46039f"
             ],
             [
              0.2222222222222222,
              "#7201a8"
             ],
             [
              0.3333333333333333,
              "#9c179e"
             ],
             [
              0.4444444444444444,
              "#bd3786"
             ],
             [
              0.5555555555555556,
              "#d8576b"
             ],
             [
              0.6666666666666666,
              "#ed7953"
             ],
             [
              0.7777777777777778,
              "#fb9f3a"
             ],
             [
              0.8888888888888888,
              "#fdca26"
             ],
             [
              1,
              "#f0f921"
             ]
            ],
            "type": "histogram2dcontour"
           }
          ],
          "mesh3d": [
           {
            "colorbar": {
             "outlinewidth": 0,
             "ticks": ""
            },
            "type": "mesh3d"
           }
          ],
          "parcoords": [
           {
            "line": {
             "colorbar": {
              "outlinewidth": 0,
              "ticks": ""
             }
            },
            "type": "parcoords"
           }
          ],
          "pie": [
           {
            "automargin": true,
            "type": "pie"
           }
          ],
          "scatter": [
           {
            "marker": {
             "colorbar": {
              "outlinewidth": 0,
              "ticks": ""
             }
            },
            "type": "scatter"
           }
          ],
          "scatter3d": [
           {
            "line": {
             "colorbar": {
              "outlinewidth": 0,
              "ticks": ""
             }
            },
            "marker": {
             "colorbar": {
              "outlinewidth": 0,
              "ticks": ""
             }
            },
            "type": "scatter3d"
           }
          ],
          "scattercarpet": [
           {
            "marker": {
             "colorbar": {
              "outlinewidth": 0,
              "ticks": ""
             }
            },
            "type": "scattercarpet"
           }
          ],
          "scattergeo": [
           {
            "marker": {
             "colorbar": {
              "outlinewidth": 0,
              "ticks": ""
             }
            },
            "type": "scattergeo"
           }
          ],
          "scattergl": [
           {
            "marker": {
             "colorbar": {
              "outlinewidth": 0,
              "ticks": ""
             }
            },
            "type": "scattergl"
           }
          ],
          "scattermapbox": [
           {
            "marker": {
             "colorbar": {
              "outlinewidth": 0,
              "ticks": ""
             }
            },
            "type": "scattermapbox"
           }
          ],
          "scatterpolar": [
           {
            "marker": {
             "colorbar": {
              "outlinewidth": 0,
              "ticks": ""
             }
            },
            "type": "scatterpolar"
           }
          ],
          "scatterpolargl": [
           {
            "marker": {
             "colorbar": {
              "outlinewidth": 0,
              "ticks": ""
             }
            },
            "type": "scatterpolargl"
           }
          ],
          "scatterternary": [
           {
            "marker": {
             "colorbar": {
              "outlinewidth": 0,
              "ticks": ""
             }
            },
            "type": "scatterternary"
           }
          ],
          "surface": [
           {
            "colorbar": {
             "outlinewidth": 0,
             "ticks": ""
            },
            "colorscale": [
             [
              0,
              "#0d0887"
             ],
             [
              0.1111111111111111,
              "#46039f"
             ],
             [
              0.2222222222222222,
              "#7201a8"
             ],
             [
              0.3333333333333333,
              "#9c179e"
             ],
             [
              0.4444444444444444,
              "#bd3786"
             ],
             [
              0.5555555555555556,
              "#d8576b"
             ],
             [
              0.6666666666666666,
              "#ed7953"
             ],
             [
              0.7777777777777778,
              "#fb9f3a"
             ],
             [
              0.8888888888888888,
              "#fdca26"
             ],
             [
              1,
              "#f0f921"
             ]
            ],
            "type": "surface"
           }
          ],
          "table": [
           {
            "cells": {
             "fill": {
              "color": "#EBF0F8"
             },
             "line": {
              "color": "white"
             }
            },
            "header": {
             "fill": {
              "color": "#C8D4E3"
             },
             "line": {
              "color": "white"
             }
            },
            "type": "table"
           }
          ]
         },
         "layout": {
          "annotationdefaults": {
           "arrowcolor": "#2a3f5f",
           "arrowhead": 0,
           "arrowwidth": 1
          },
          "autotypenumbers": "strict",
          "coloraxis": {
           "colorbar": {
            "outlinewidth": 0,
            "ticks": ""
           }
          },
          "colorscale": {
           "diverging": [
            [
             0,
             "#8e0152"
            ],
            [
             0.1,
             "#c51b7d"
            ],
            [
             0.2,
             "#de77ae"
            ],
            [
             0.3,
             "#f1b6da"
            ],
            [
             0.4,
             "#fde0ef"
            ],
            [
             0.5,
             "#f7f7f7"
            ],
            [
             0.6,
             "#e6f5d0"
            ],
            [
             0.7,
             "#b8e186"
            ],
            [
             0.8,
             "#7fbc41"
            ],
            [
             0.9,
             "#4d9221"
            ],
            [
             1,
             "#276419"
            ]
           ],
           "sequential": [
            [
             0,
             "#0d0887"
            ],
            [
             0.1111111111111111,
             "#46039f"
            ],
            [
             0.2222222222222222,
             "#7201a8"
            ],
            [
             0.3333333333333333,
             "#9c179e"
            ],
            [
             0.4444444444444444,
             "#bd3786"
            ],
            [
             0.5555555555555556,
             "#d8576b"
            ],
            [
             0.6666666666666666,
             "#ed7953"
            ],
            [
             0.7777777777777778,
             "#fb9f3a"
            ],
            [
             0.8888888888888888,
             "#fdca26"
            ],
            [
             1,
             "#f0f921"
            ]
           ],
           "sequentialminus": [
            [
             0,
             "#0d0887"
            ],
            [
             0.1111111111111111,
             "#46039f"
            ],
            [
             0.2222222222222222,
             "#7201a8"
            ],
            [
             0.3333333333333333,
             "#9c179e"
            ],
            [
             0.4444444444444444,
             "#bd3786"
            ],
            [
             0.5555555555555556,
             "#d8576b"
            ],
            [
             0.6666666666666666,
             "#ed7953"
            ],
            [
             0.7777777777777778,
             "#fb9f3a"
            ],
            [
             0.8888888888888888,
             "#fdca26"
            ],
            [
             1,
             "#f0f921"
            ]
           ]
          },
          "colorway": [
           "#636efa",
           "#EF553B",
           "#00cc96",
           "#ab63fa",
           "#FFA15A",
           "#19d3f3",
           "#FF6692",
           "#B6E880",
           "#FF97FF",
           "#FECB52"
          ],
          "font": {
           "color": "#2a3f5f"
          },
          "geo": {
           "bgcolor": "white",
           "lakecolor": "white",
           "landcolor": "#E5ECF6",
           "showlakes": true,
           "showland": true,
           "subunitcolor": "white"
          },
          "hoverlabel": {
           "align": "left"
          },
          "hovermode": "closest",
          "mapbox": {
           "style": "light"
          },
          "paper_bgcolor": "white",
          "plot_bgcolor": "#E5ECF6",
          "polar": {
           "angularaxis": {
            "gridcolor": "white",
            "linecolor": "white",
            "ticks": ""
           },
           "bgcolor": "#E5ECF6",
           "radialaxis": {
            "gridcolor": "white",
            "linecolor": "white",
            "ticks": ""
           }
          },
          "scene": {
           "xaxis": {
            "backgroundcolor": "#E5ECF6",
            "gridcolor": "white",
            "gridwidth": 2,
            "linecolor": "white",
            "showbackground": true,
            "ticks": "",
            "zerolinecolor": "white"
           },
           "yaxis": {
            "backgroundcolor": "#E5ECF6",
            "gridcolor": "white",
            "gridwidth": 2,
            "linecolor": "white",
            "showbackground": true,
            "ticks": "",
            "zerolinecolor": "white"
           },
           "zaxis": {
            "backgroundcolor": "#E5ECF6",
            "gridcolor": "white",
            "gridwidth": 2,
            "linecolor": "white",
            "showbackground": true,
            "ticks": "",
            "zerolinecolor": "white"
           }
          },
          "shapedefaults": {
           "line": {
            "color": "#2a3f5f"
           }
          },
          "ternary": {
           "aaxis": {
            "gridcolor": "white",
            "linecolor": "white",
            "ticks": ""
           },
           "baxis": {
            "gridcolor": "white",
            "linecolor": "white",
            "ticks": ""
           },
           "bgcolor": "#E5ECF6",
           "caxis": {
            "gridcolor": "white",
            "linecolor": "white",
            "ticks": ""
           }
          },
          "title": {
           "x": 0.05
          },
          "xaxis": {
           "automargin": true,
           "gridcolor": "white",
           "linecolor": "white",
           "ticks": "",
           "title": {
            "standoff": 15
           },
           "zerolinecolor": "white",
           "zerolinewidth": 2
          },
          "yaxis": {
           "automargin": true,
           "gridcolor": "white",
           "linecolor": "white",
           "ticks": "",
           "title": {
            "standoff": 15
           },
           "zerolinecolor": "white",
           "zerolinewidth": 2
          }
         }
        },
        "xaxis": {
         "anchor": "y",
         "domain": [
          0,
          1
         ],
         "title": {
          "text": "yr"
         }
        },
        "yaxis": {
         "anchor": "x",
         "domain": [
          0,
          1
         ],
         "title": {
          "text": "value"
         }
        }
       }
      }
     },
     "metadata": {},
     "output_type": "display_data"
    }
   ],
   "source": [
    "px.area(yrs[['pct_w', 'pct_tied', 'pct_l']].rolling(5).mean().dropna(), color_discrete_sequence=[\"blue\", \"darkgrey\", \"red\"])"
   ]
  },
  {
   "cell_type": "code",
   "execution_count": 11,
   "metadata": {},
   "outputs": [
    {
     "data": {
      "application/vnd.plotly.v1+json": {
       "config": {
        "plotlyServerURL": "https://plot.ly"
       },
       "data": [
        {
         "hovertemplate": "variable=pct_lead_w<br>yr=%{x}<br>value=%{y}<extra></extra>",
         "legendgroup": "pct_lead_w",
         "line": {
          "color": "#636efa",
          "dash": "solid"
         },
         "mode": "lines",
         "name": "pct_lead_w",
         "orientation": "v",
         "showlegend": true,
         "type": "scatter",
         "x": [
          1947,
          1948,
          1949,
          1950,
          1951,
          1952,
          1953,
          1954,
          1955,
          1956,
          1957,
          1958,
          1959,
          1960,
          1961,
          1962,
          1963,
          1964,
          1965,
          1966,
          1967,
          1968,
          1969,
          1970,
          1971,
          1972,
          1973,
          1974,
          1975,
          1976,
          1977,
          1978,
          1979,
          1980,
          1981,
          1982,
          1983,
          1984,
          1985,
          1986,
          1987,
          1988,
          1989,
          1990,
          1991,
          1992,
          1993,
          1994,
          1995,
          1996,
          1997,
          1998,
          1999,
          2000,
          2001,
          2002,
          2003,
          2004,
          2005,
          2006,
          2007,
          2008,
          2009,
          2010,
          2011,
          2012,
          2013,
          2014,
          2015,
          2016,
          2017,
          2018,
          2019,
          2020
         ],
         "xaxis": "x",
         "y": [
          0.7048192771084337,
          0.7071428571428572,
          0.7418439716312056,
          0.7209612817089452,
          0.7109067017082786,
          0.7471590909090909,
          0.7397094430992736,
          0.7304582210242587,
          0.7371134020618557,
          0.7142857142857143,
          0.7314356435643564,
          0.7435897435897436,
          0.7391841779975278,
          0.7168367346938775,
          0.7164502164502164,
          0.7180205415499533,
          0.7466539196940727,
          0.7439024390243902,
          0.7280876494023905,
          0.7112195121951219,
          0.7391763463569165,
          0.711038961038961,
          0.7286184210526315,
          0.7248,
          0.729004329004329,
          0.7486187845303868,
          0.7210264900662252,
          0.7295373665480427,
          0.7104149026248942,
          0.7128157156220767,
          0.7279466271312083,
          0.7127158555729984,
          0.7306525037936267,
          0.7224456958970233,
          0.7165644171779141,
          0.702903946388682,
          0.7120300751879699,
          0.7172932330827068,
          0.7168983174835406,
          0.7353780313837375,
          0.7303523035230353,
          0.718342287029931,
          0.7205651491365777,
          0.7083647324792766,
          0.7044072948328267,
          0.7344589409056025,
          0.7194050033806626,
          0.7322253000923361,
          0.7296703296703296,
          0.7335958005249343,
          0.7355584082156611,
          0.7241379310344828,
          0.7479141835518475,
          0.7424867413081909,
          0.7341549295774648,
          0.7358600583090379,
          0.7462597247157391,
          0.7498545666084933,
          0.7461170848267622,
          0.730791788856305,
          0.7228260869565217,
          0.7548500881834215,
          0.7512019230769231,
          0.7651006711409396,
          0.7427184466019418,
          0.7731591448931117,
          0.7437722419928826,
          0.7398734177215189,
          0.7684021543985637,
          0.7600229095074456,
          0.7747497219132369,
          0.7743796884016156,
          0.7851690294438386,
          0.7536656891495601
         ],
         "yaxis": "y"
        }
       ],
       "layout": {
        "legend": {
         "title": {
          "text": "variable"
         },
         "tracegroupgap": 0
        },
        "margin": {
         "t": 60
        },
        "template": {
         "data": {
          "bar": [
           {
            "error_x": {
             "color": "#2a3f5f"
            },
            "error_y": {
             "color": "#2a3f5f"
            },
            "marker": {
             "line": {
              "color": "#E5ECF6",
              "width": 0.5
             }
            },
            "type": "bar"
           }
          ],
          "barpolar": [
           {
            "marker": {
             "line": {
              "color": "#E5ECF6",
              "width": 0.5
             }
            },
            "type": "barpolar"
           }
          ],
          "carpet": [
           {
            "aaxis": {
             "endlinecolor": "#2a3f5f",
             "gridcolor": "white",
             "linecolor": "white",
             "minorgridcolor": "white",
             "startlinecolor": "#2a3f5f"
            },
            "baxis": {
             "endlinecolor": "#2a3f5f",
             "gridcolor": "white",
             "linecolor": "white",
             "minorgridcolor": "white",
             "startlinecolor": "#2a3f5f"
            },
            "type": "carpet"
           }
          ],
          "choropleth": [
           {
            "colorbar": {
             "outlinewidth": 0,
             "ticks": ""
            },
            "type": "choropleth"
           }
          ],
          "contour": [
           {
            "colorbar": {
             "outlinewidth": 0,
             "ticks": ""
            },
            "colorscale": [
             [
              0,
              "#0d0887"
             ],
             [
              0.1111111111111111,
              "#46039f"
             ],
             [
              0.2222222222222222,
              "#7201a8"
             ],
             [
              0.3333333333333333,
              "#9c179e"
             ],
             [
              0.4444444444444444,
              "#bd3786"
             ],
             [
              0.5555555555555556,
              "#d8576b"
             ],
             [
              0.6666666666666666,
              "#ed7953"
             ],
             [
              0.7777777777777778,
              "#fb9f3a"
             ],
             [
              0.8888888888888888,
              "#fdca26"
             ],
             [
              1,
              "#f0f921"
             ]
            ],
            "type": "contour"
           }
          ],
          "contourcarpet": [
           {
            "colorbar": {
             "outlinewidth": 0,
             "ticks": ""
            },
            "type": "contourcarpet"
           }
          ],
          "heatmap": [
           {
            "colorbar": {
             "outlinewidth": 0,
             "ticks": ""
            },
            "colorscale": [
             [
              0,
              "#0d0887"
             ],
             [
              0.1111111111111111,
              "#46039f"
             ],
             [
              0.2222222222222222,
              "#7201a8"
             ],
             [
              0.3333333333333333,
              "#9c179e"
             ],
             [
              0.4444444444444444,
              "#bd3786"
             ],
             [
              0.5555555555555556,
              "#d8576b"
             ],
             [
              0.6666666666666666,
              "#ed7953"
             ],
             [
              0.7777777777777778,
              "#fb9f3a"
             ],
             [
              0.8888888888888888,
              "#fdca26"
             ],
             [
              1,
              "#f0f921"
             ]
            ],
            "type": "heatmap"
           }
          ],
          "heatmapgl": [
           {
            "colorbar": {
             "outlinewidth": 0,
             "ticks": ""
            },
            "colorscale": [
             [
              0,
              "#0d0887"
             ],
             [
              0.1111111111111111,
              "#46039f"
             ],
             [
              0.2222222222222222,
              "#7201a8"
             ],
             [
              0.3333333333333333,
              "#9c179e"
             ],
             [
              0.4444444444444444,
              "#bd3786"
             ],
             [
              0.5555555555555556,
              "#d8576b"
             ],
             [
              0.6666666666666666,
              "#ed7953"
             ],
             [
              0.7777777777777778,
              "#fb9f3a"
             ],
             [
              0.8888888888888888,
              "#fdca26"
             ],
             [
              1,
              "#f0f921"
             ]
            ],
            "type": "heatmapgl"
           }
          ],
          "histogram": [
           {
            "marker": {
             "colorbar": {
              "outlinewidth": 0,
              "ticks": ""
             }
            },
            "type": "histogram"
           }
          ],
          "histogram2d": [
           {
            "colorbar": {
             "outlinewidth": 0,
             "ticks": ""
            },
            "colorscale": [
             [
              0,
              "#0d0887"
             ],
             [
              0.1111111111111111,
              "#46039f"
             ],
             [
              0.2222222222222222,
              "#7201a8"
             ],
             [
              0.3333333333333333,
              "#9c179e"
             ],
             [
              0.4444444444444444,
              "#bd3786"
             ],
             [
              0.5555555555555556,
              "#d8576b"
             ],
             [
              0.6666666666666666,
              "#ed7953"
             ],
             [
              0.7777777777777778,
              "#fb9f3a"
             ],
             [
              0.8888888888888888,
              "#fdca26"
             ],
             [
              1,
              "#f0f921"
             ]
            ],
            "type": "histogram2d"
           }
          ],
          "histogram2dcontour": [
           {
            "colorbar": {
             "outlinewidth": 0,
             "ticks": ""
            },
            "colorscale": [
             [
              0,
              "#0d0887"
             ],
             [
              0.1111111111111111,
              "#46039f"
             ],
             [
              0.2222222222222222,
              "#7201a8"
             ],
             [
              0.3333333333333333,
              "#9c179e"
             ],
             [
              0.4444444444444444,
              "#bd3786"
             ],
             [
              0.5555555555555556,
              "#d8576b"
             ],
             [
              0.6666666666666666,
              "#ed7953"
             ],
             [
              0.7777777777777778,
              "#fb9f3a"
             ],
             [
              0.8888888888888888,
              "#fdca26"
             ],
             [
              1,
              "#f0f921"
             ]
            ],
            "type": "histogram2dcontour"
           }
          ],
          "mesh3d": [
           {
            "colorbar": {
             "outlinewidth": 0,
             "ticks": ""
            },
            "type": "mesh3d"
           }
          ],
          "parcoords": [
           {
            "line": {
             "colorbar": {
              "outlinewidth": 0,
              "ticks": ""
             }
            },
            "type": "parcoords"
           }
          ],
          "pie": [
           {
            "automargin": true,
            "type": "pie"
           }
          ],
          "scatter": [
           {
            "marker": {
             "colorbar": {
              "outlinewidth": 0,
              "ticks": ""
             }
            },
            "type": "scatter"
           }
          ],
          "scatter3d": [
           {
            "line": {
             "colorbar": {
              "outlinewidth": 0,
              "ticks": ""
             }
            },
            "marker": {
             "colorbar": {
              "outlinewidth": 0,
              "ticks": ""
             }
            },
            "type": "scatter3d"
           }
          ],
          "scattercarpet": [
           {
            "marker": {
             "colorbar": {
              "outlinewidth": 0,
              "ticks": ""
             }
            },
            "type": "scattercarpet"
           }
          ],
          "scattergeo": [
           {
            "marker": {
             "colorbar": {
              "outlinewidth": 0,
              "ticks": ""
             }
            },
            "type": "scattergeo"
           }
          ],
          "scattergl": [
           {
            "marker": {
             "colorbar": {
              "outlinewidth": 0,
              "ticks": ""
             }
            },
            "type": "scattergl"
           }
          ],
          "scattermapbox": [
           {
            "marker": {
             "colorbar": {
              "outlinewidth": 0,
              "ticks": ""
             }
            },
            "type": "scattermapbox"
           }
          ],
          "scatterpolar": [
           {
            "marker": {
             "colorbar": {
              "outlinewidth": 0,
              "ticks": ""
             }
            },
            "type": "scatterpolar"
           }
          ],
          "scatterpolargl": [
           {
            "marker": {
             "colorbar": {
              "outlinewidth": 0,
              "ticks": ""
             }
            },
            "type": "scatterpolargl"
           }
          ],
          "scatterternary": [
           {
            "marker": {
             "colorbar": {
              "outlinewidth": 0,
              "ticks": ""
             }
            },
            "type": "scatterternary"
           }
          ],
          "surface": [
           {
            "colorbar": {
             "outlinewidth": 0,
             "ticks": ""
            },
            "colorscale": [
             [
              0,
              "#0d0887"
             ],
             [
              0.1111111111111111,
              "#46039f"
             ],
             [
              0.2222222222222222,
              "#7201a8"
             ],
             [
              0.3333333333333333,
              "#9c179e"
             ],
             [
              0.4444444444444444,
              "#bd3786"
             ],
             [
              0.5555555555555556,
              "#d8576b"
             ],
             [
              0.6666666666666666,
              "#ed7953"
             ],
             [
              0.7777777777777778,
              "#fb9f3a"
             ],
             [
              0.8888888888888888,
              "#fdca26"
             ],
             [
              1,
              "#f0f921"
             ]
            ],
            "type": "surface"
           }
          ],
          "table": [
           {
            "cells": {
             "fill": {
              "color": "#EBF0F8"
             },
             "line": {
              "color": "white"
             }
            },
            "header": {
             "fill": {
              "color": "#C8D4E3"
             },
             "line": {
              "color": "white"
             }
            },
            "type": "table"
           }
          ]
         },
         "layout": {
          "annotationdefaults": {
           "arrowcolor": "#2a3f5f",
           "arrowhead": 0,
           "arrowwidth": 1
          },
          "autotypenumbers": "strict",
          "coloraxis": {
           "colorbar": {
            "outlinewidth": 0,
            "ticks": ""
           }
          },
          "colorscale": {
           "diverging": [
            [
             0,
             "#8e0152"
            ],
            [
             0.1,
             "#c51b7d"
            ],
            [
             0.2,
             "#de77ae"
            ],
            [
             0.3,
             "#f1b6da"
            ],
            [
             0.4,
             "#fde0ef"
            ],
            [
             0.5,
             "#f7f7f7"
            ],
            [
             0.6,
             "#e6f5d0"
            ],
            [
             0.7,
             "#b8e186"
            ],
            [
             0.8,
             "#7fbc41"
            ],
            [
             0.9,
             "#4d9221"
            ],
            [
             1,
             "#276419"
            ]
           ],
           "sequential": [
            [
             0,
             "#0d0887"
            ],
            [
             0.1111111111111111,
             "#46039f"
            ],
            [
             0.2222222222222222,
             "#7201a8"
            ],
            [
             0.3333333333333333,
             "#9c179e"
            ],
            [
             0.4444444444444444,
             "#bd3786"
            ],
            [
             0.5555555555555556,
             "#d8576b"
            ],
            [
             0.6666666666666666,
             "#ed7953"
            ],
            [
             0.7777777777777778,
             "#fb9f3a"
            ],
            [
             0.8888888888888888,
             "#fdca26"
            ],
            [
             1,
             "#f0f921"
            ]
           ],
           "sequentialminus": [
            [
             0,
             "#0d0887"
            ],
            [
             0.1111111111111111,
             "#46039f"
            ],
            [
             0.2222222222222222,
             "#7201a8"
            ],
            [
             0.3333333333333333,
             "#9c179e"
            ],
            [
             0.4444444444444444,
             "#bd3786"
            ],
            [
             0.5555555555555556,
             "#d8576b"
            ],
            [
             0.6666666666666666,
             "#ed7953"
            ],
            [
             0.7777777777777778,
             "#fb9f3a"
            ],
            [
             0.8888888888888888,
             "#fdca26"
            ],
            [
             1,
             "#f0f921"
            ]
           ]
          },
          "colorway": [
           "#636efa",
           "#EF553B",
           "#00cc96",
           "#ab63fa",
           "#FFA15A",
           "#19d3f3",
           "#FF6692",
           "#B6E880",
           "#FF97FF",
           "#FECB52"
          ],
          "font": {
           "color": "#2a3f5f"
          },
          "geo": {
           "bgcolor": "white",
           "lakecolor": "white",
           "landcolor": "#E5ECF6",
           "showlakes": true,
           "showland": true,
           "subunitcolor": "white"
          },
          "hoverlabel": {
           "align": "left"
          },
          "hovermode": "closest",
          "mapbox": {
           "style": "light"
          },
          "paper_bgcolor": "white",
          "plot_bgcolor": "#E5ECF6",
          "polar": {
           "angularaxis": {
            "gridcolor": "white",
            "linecolor": "white",
            "ticks": ""
           },
           "bgcolor": "#E5ECF6",
           "radialaxis": {
            "gridcolor": "white",
            "linecolor": "white",
            "ticks": ""
           }
          },
          "scene": {
           "xaxis": {
            "backgroundcolor": "#E5ECF6",
            "gridcolor": "white",
            "gridwidth": 2,
            "linecolor": "white",
            "showbackground": true,
            "ticks": "",
            "zerolinecolor": "white"
           },
           "yaxis": {
            "backgroundcolor": "#E5ECF6",
            "gridcolor": "white",
            "gridwidth": 2,
            "linecolor": "white",
            "showbackground": true,
            "ticks": "",
            "zerolinecolor": "white"
           },
           "zaxis": {
            "backgroundcolor": "#E5ECF6",
            "gridcolor": "white",
            "gridwidth": 2,
            "linecolor": "white",
            "showbackground": true,
            "ticks": "",
            "zerolinecolor": "white"
           }
          },
          "shapedefaults": {
           "line": {
            "color": "#2a3f5f"
           }
          },
          "ternary": {
           "aaxis": {
            "gridcolor": "white",
            "linecolor": "white",
            "ticks": ""
           },
           "baxis": {
            "gridcolor": "white",
            "linecolor": "white",
            "ticks": ""
           },
           "bgcolor": "#E5ECF6",
           "caxis": {
            "gridcolor": "white",
            "linecolor": "white",
            "ticks": ""
           }
          },
          "title": {
           "x": 0.05
          },
          "xaxis": {
           "automargin": true,
           "gridcolor": "white",
           "linecolor": "white",
           "ticks": "",
           "title": {
            "standoff": 15
           },
           "zerolinecolor": "white",
           "zerolinewidth": 2
          },
          "yaxis": {
           "automargin": true,
           "gridcolor": "white",
           "linecolor": "white",
           "ticks": "",
           "title": {
            "standoff": 15
           },
           "zerolinecolor": "white",
           "zerolinewidth": 2
          }
         }
        },
        "xaxis": {
         "anchor": "y",
         "domain": [
          0,
          1
         ],
         "title": {
          "text": "yr"
         }
        },
        "yaxis": {
         "anchor": "x",
         "domain": [
          0,
          1
         ],
         "title": {
          "text": "value"
         }
        }
       }
      }
     },
     "metadata": {},
     "output_type": "display_data"
    }
   ],
   "source": [
    "px.line(yrs[['pct_lead_w']])"
   ]
  },
  {
   "cell_type": "code",
   "execution_count": null,
   "metadata": {},
   "outputs": [],
   "source": []
  }
 ],
 "metadata": {
  "interpreter": {
   "hash": "cd78fef2128015050713e82ca51c6520b11aee7c9ee8df750520bbbc7384cbaa"
  },
  "kernelspec": {
   "display_name": "Python 3.8.8 64-bit ('base': conda)",
   "language": "python",
   "name": "python3"
  },
  "language_info": {
   "codemirror_mode": {
    "name": "ipython",
    "version": 3
   },
   "file_extension": ".py",
   "mimetype": "text/x-python",
   "name": "python",
   "nbconvert_exporter": "python",
   "pygments_lexer": "ipython3",
   "version": "3.8.8"
  },
  "orig_nbformat": 4
 },
 "nbformat": 4,
 "nbformat_minor": 2
}
