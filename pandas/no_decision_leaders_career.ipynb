{
 "cells": [
  {
   "cell_type": "code",
   "execution_count": 1,
   "metadata": {},
   "outputs": [],
   "source": [
    "import boxball_loader as bbl\n",
    "import baseball_stats_utils as bsu"
   ]
  },
  {
   "cell_type": "code",
   "execution_count": 2,
   "metadata": {},
   "outputs": [
    {
     "data": {
      "text/plain": [
       "array(['game_id', 'game_dt', 'game_ct', 'appearance_dt', 'team_id',\n",
       "       'player_id', 'slot_ct', 'seq_ct', 'home_fl', 'opponent_id',\n",
       "       'park_id', 'yr', 'game_type', 'team_game_number', 'p_g', 'p_gs',\n",
       "       'p_cg', 'p_sho', 'p_gf', 'p_w', 'p_l', 'p_sv', 'p_out', 'p_tbf',\n",
       "       'p_ab', 'p_r', 'p_er', 'p_h', 'p_tb', 'p_2b', 'p_3b', 'p_hr',\n",
       "       'p_hr4', 'p_bb', 'p_ibb', 'p_so', 'p_gdp', 'p_hp', 'p_sh', 'p_sf',\n",
       "       'p_xi', 'p_wp', 'p_bk', 'p_ir', 'p_irs', 'p_go', 'p_ao', 'p_pitch',\n",
       "       'p_strike'], dtype=object)"
      ]
     },
     "execution_count": 2,
     "metadata": {},
     "output_type": "execute_result"
    }
   ],
   "source": [
    "pit = bbl.load_dailies_pit(bbl.GameType.ALL)\n",
    "pit.columns.values"
   ]
  },
  {
   "cell_type": "code",
   "execution_count": 3,
   "metadata": {},
   "outputs": [
    {
     "data": {
      "text/plain": [
       "((405888, 49), (1103639, 49))"
      ]
     },
     "execution_count": 3,
     "metadata": {},
     "output_type": "execute_result"
    }
   ],
   "source": [
    "gs = pit.query('p_gs > 0')\n",
    "gs.shape, pit.shape"
   ]
  },
  {
   "cell_type": "code",
   "execution_count": 4,
   "metadata": {},
   "outputs": [
    {
     "name": "stdout",
     "output_type": "stream",
     "text": [
      "| name            |   nd |\n",
      "|:----------------|-----:|\n",
      "| Tommy John      |  192 |\n",
      "| Don Sutton      |  186 |\n",
      "| Roger Clemens   |  185 |\n",
      "| Tom Glavine     |  180 |\n",
      "| Jamie Moyer     |  172 |\n",
      "| Nolan Ryan      |  169 |\n",
      "| Greg Maddux     |  167 |\n",
      "| Dennis Martinez |  154 |\n",
      "| CC Sabathia     |  154 |\n",
      "| Jerry Reuss     |  153 |\n"
     ]
    }
   ],
   "source": [
    "totals = gs.groupby(['player_id'])[['p_gs', 'p_w', 'p_l']].sum()\n",
    "totals['nd'] = totals['p_gs']-totals['p_w']-totals['p_l']\n",
    "totals['name'] = bsu.get_player_names_df(totals, 'retro_id')\n",
    "\n",
    "print(totals.sort_values('nd', ascending=False).head(10)[['name', 'nd']].to_markdown(index=False))"
   ]
  }
 ],
 "metadata": {
  "interpreter": {
   "hash": "cd78fef2128015050713e82ca51c6520b11aee7c9ee8df750520bbbc7384cbaa"
  },
  "kernelspec": {
   "display_name": "Python 3.8.8 ('base')",
   "language": "python",
   "name": "python3"
  },
  "language_info": {
   "codemirror_mode": {
    "name": "ipython",
    "version": 3
   },
   "file_extension": ".py",
   "mimetype": "text/x-python",
   "name": "python",
   "nbconvert_exporter": "python",
   "pygments_lexer": "ipython3",
   "version": "3.8.8"
  },
  "orig_nbformat": 4
 },
 "nbformat": 4,
 "nbformat_minor": 2
}
