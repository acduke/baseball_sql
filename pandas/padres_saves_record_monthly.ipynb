{
 "cells": [
  {
   "cell_type": "code",
   "execution_count": 1,
   "id": "august-husband",
   "metadata": {
    "ExecuteTime": {
     "end_time": "2021-05-02T02:09:49.108057Z",
     "start_time": "2021-05-02T02:09:48.736033Z"
    }
   },
   "outputs": [],
   "source": [
    "import pandas as pd\n",
    "import boxball_loader as bbl"
   ]
  },
  {
   "cell_type": "code",
   "execution_count": 2,
   "id": "unusual-record",
   "metadata": {
    "ExecuteTime": {
     "end_time": "2021-05-02T02:10:28.705212Z",
     "start_time": "2021-05-02T02:10:27.728739Z"
    }
   },
   "outputs": [
    {
     "data": {
      "text/plain": [
       "array(['SDN196904080', 'SDN196904090', 'SDN196904100', ...,\n",
       "       'SDN202009252', 'SFN202009260', 'SFN202009270'], dtype=object)"
      ]
     },
     "execution_count": 2,
     "metadata": {},
     "output_type": "execute_result"
    }
   ],
   "source": [
    "padre_wins = bbl.load_gamelog_teams(game_types=bbl.GameType.RS, years=range(1969, 3000)).query('team==\"SDN\" and W')['game_id'].values\n",
    "padre_wins"
   ]
  },
  {
   "cell_type": "code",
   "execution_count": 3,
   "id": "outdoor-instrument",
   "metadata": {
    "ExecuteTime": {
     "end_time": "2021-05-02T02:22:53.203628Z",
     "start_time": "2021-05-02T02:22:51.981864Z"
    }
   },
   "outputs": [
    {
     "data": {
      "text/html": [
       "<div>\n",
       "<style scoped>\n",
       "    .dataframe tbody tr th:only-of-type {\n",
       "        vertical-align: middle;\n",
       "    }\n",
       "\n",
       "    .dataframe tbody tr th {\n",
       "        vertical-align: top;\n",
       "    }\n",
       "\n",
       "    .dataframe thead th {\n",
       "        text-align: right;\n",
       "    }\n",
       "</style>\n",
       "<table border=\"1\" class=\"dataframe\">\n",
       "  <thead>\n",
       "    <tr style=\"text-align: right;\">\n",
       "      <th></th>\n",
       "      <th>date</th>\n",
       "      <th>saving_pitcher_id</th>\n",
       "      <th>yr</th>\n",
       "      <th>mo</th>\n",
       "    </tr>\n",
       "  </thead>\n",
       "  <tbody>\n",
       "    <tr>\n",
       "      <th>70071</th>\n",
       "      <td>1969-04-09</td>\n",
       "      <td>siskt101</td>\n",
       "      <td>1969</td>\n",
       "      <td>4</td>\n",
       "    </tr>\n",
       "    <tr>\n",
       "      <th>70078</th>\n",
       "      <td>1969-04-10</td>\n",
       "      <td>mccob105</td>\n",
       "      <td>1969</td>\n",
       "      <td>4</td>\n",
       "    </tr>\n",
       "    <tr>\n",
       "      <th>70158</th>\n",
       "      <td>1969-04-18</td>\n",
       "      <td>rebef101</td>\n",
       "      <td>1969</td>\n",
       "      <td>4</td>\n",
       "    </tr>\n",
       "    <tr>\n",
       "      <th>70259</th>\n",
       "      <td>1969-04-27</td>\n",
       "      <td>rebef101</td>\n",
       "      <td>1969</td>\n",
       "      <td>4</td>\n",
       "    </tr>\n",
       "    <tr>\n",
       "      <th>70312</th>\n",
       "      <td>1969-05-02</td>\n",
       "      <td>rebef101</td>\n",
       "      <td>1969</td>\n",
       "      <td>5</td>\n",
       "    </tr>\n",
       "    <tr>\n",
       "      <th>...</th>\n",
       "      <td>...</td>\n",
       "      <td>...</td>\n",
       "      <td>...</td>\n",
       "      <td>...</td>\n",
       "    </tr>\n",
       "    <tr>\n",
       "      <th>161061</th>\n",
       "      <td>2020-08-23</td>\n",
       "      <td>pagae001</td>\n",
       "      <td>2020</td>\n",
       "      <td>8</td>\n",
       "    </tr>\n",
       "    <tr>\n",
       "      <th>161258</th>\n",
       "      <td>2020-09-06</td>\n",
       "      <td>roset001</td>\n",
       "      <td>2020</td>\n",
       "      <td>9</td>\n",
       "    </tr>\n",
       "    <tr>\n",
       "      <th>161295</th>\n",
       "      <td>2020-09-09</td>\n",
       "      <td>roset001</td>\n",
       "      <td>2020</td>\n",
       "      <td>9</td>\n",
       "    </tr>\n",
       "    <tr>\n",
       "      <th>161350</th>\n",
       "      <td>2020-09-13</td>\n",
       "      <td>roset001</td>\n",
       "      <td>2020</td>\n",
       "      <td>9</td>\n",
       "    </tr>\n",
       "    <tr>\n",
       "      <th>161551</th>\n",
       "      <td>2020-09-27</td>\n",
       "      <td>roset001</td>\n",
       "      <td>2020</td>\n",
       "      <td>9</td>\n",
       "    </tr>\n",
       "  </tbody>\n",
       "</table>\n",
       "<p>1958 rows × 4 columns</p>\n",
       "</div>"
      ],
      "text/plain": [
       "             date saving_pitcher_id    yr  mo\n",
       "70071  1969-04-09          siskt101  1969   4\n",
       "70078  1969-04-10          mccob105  1969   4\n",
       "70158  1969-04-18          rebef101  1969   4\n",
       "70259  1969-04-27          rebef101  1969   4\n",
       "70312  1969-05-02          rebef101  1969   5\n",
       "...           ...               ...   ...  ..\n",
       "161061 2020-08-23          pagae001  2020   8\n",
       "161258 2020-09-06          roset001  2020   9\n",
       "161295 2020-09-09          roset001  2020   9\n",
       "161350 2020-09-13          roset001  2020   9\n",
       "161551 2020-09-27          roset001  2020   9\n",
       "\n",
       "[1958 rows x 4 columns]"
      ]
     },
     "execution_count": 3,
     "metadata": {},
     "output_type": "execute_result"
    }
   ],
   "source": [
    "padre_svs = bbl.load_gamelogs(game_types=bbl.GameType.RS, years=range(1969,2021)).query('game_id in @padre_wins')[['date', 'saving_pitcher_id', 'yr']].dropna()\n",
    "padre_svs['mo'] = padre_svs['date'].dt.month\n",
    "padre_svs"
   ]
  },
  {
   "cell_type": "code",
   "execution_count": 4,
   "id": "61881160",
   "metadata": {},
   "outputs": [
    {
     "data": {
      "text/plain": [
       "yr    mo  saving_pitcher_id\n",
       "2005  5   hofft001             12\n",
       "2019  4   yatek001             11\n",
       "1989  4   davim001             11\n",
       "      9   davim001             11\n",
       "2018  5   handb001             11\n",
       "2015  7   kimbc001             11\n",
       "2007  5   hofft001             11\n",
       "1998  7   hofft001             11\n",
       "2004  7   hofft001             11\n",
       "2006  9   hofft001             10\n",
       "2003  7   beckr001             10\n",
       "2001  8   hofft001             10\n",
       "1977  5   fingr001             10\n",
       "2000  8   hofft001             10\n",
       "1999  6   hofft001             10\n",
       "1997  7   hofft001             10\n",
       "1998  9   hofft001              9\n",
       "      8   hofft001              9\n",
       "      6   hofft001              9\n",
       "2006  7   hofft001              9\n",
       "1996  9   hofft001              9\n",
       "2009  9   bellh001              9\n",
       "2011  6   bellh001              9\n",
       "2014  4   streh001              9\n",
       "1996  8   hofft001              9\n",
       "1992  8   myerr001              9\n",
       "2001  5   hofft001              9\n",
       "Name: saves, dtype: int64"
      ]
     },
     "execution_count": 4,
     "metadata": {},
     "output_type": "execute_result"
    }
   ],
   "source": [
    "monthlies = padre_svs.groupby(['yr', 'mo', 'saving_pitcher_id']).agg(saves=('date', len))\n",
    "monthlies.query('saves>=9')['saves'].sort_values(ascending=False)"
   ]
  }
 ],
 "metadata": {
  "kernelspec": {
   "display_name": "Python 3",
   "language": "python",
   "name": "python3"
  },
  "language_info": {
   "codemirror_mode": {
    "name": "ipython",
    "version": 3
   },
   "file_extension": ".py",
   "mimetype": "text/x-python",
   "name": "python",
   "nbconvert_exporter": "python",
   "pygments_lexer": "ipython3",
   "version": "3.8.8"
  }
 },
 "nbformat": 4,
 "nbformat_minor": 5
}
