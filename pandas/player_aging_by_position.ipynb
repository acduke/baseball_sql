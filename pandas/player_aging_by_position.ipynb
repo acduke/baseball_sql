{
 "cells": [
  {
   "cell_type": "markdown",
   "metadata": {},
   "source": [
    "# Age Distributions by Position"
   ]
  },
  {
   "cell_type": "code",
   "execution_count": 1,
   "metadata": {},
   "outputs": [],
   "source": [
    "import pandas as pd\n",
    "import numpy as np\n",
    "import plotly.express as px\n",
    "\n",
    "import boxball_loader as bbl\n"
   ]
  },
  {
   "cell_type": "code",
   "execution_count": 2,
   "metadata": {},
   "outputs": [
    {
     "data": {
      "text/plain": [
       "Index(['year_id', 'team_id', 'lg_id', 'player_id', 'g_all', 'gs', 'g_batting',\n",
       "       'g_defense', 'g_p', 'g_c', 'g_1b', 'g_2b', 'g_3b', 'g_ss', 'g_lf',\n",
       "       'g_cf', 'g_rf', 'g_of', 'g_dh', 'g_ph', 'g_pr'],\n",
       "      dtype='object')"
      ]
     },
     "execution_count": 2,
     "metadata": {},
     "output_type": "execute_result"
    }
   ],
   "source": [
    "apps = bbl.load_appearances()\n",
    "apps.columns"
   ]
  },
  {
   "cell_type": "code",
   "execution_count": 3,
   "metadata": {},
   "outputs": [],
   "source": [
    "def compute_baseball_age(yr, bd):\n",
    "    age = yr - bd.year - np.where(bd.month>=7, 1, 0)\n",
    "    return age\n",
    "    "
   ]
  },
  {
   "cell_type": "code",
   "execution_count": 4,
   "metadata": {},
   "outputs": [
    {
     "data": {
      "text/plain": [
       "player_id\n",
       "aardsda01   1981-12-27\n",
       "aaronha01   1934-02-05\n",
       "aaronto01   1939-08-05\n",
       "aasedo01    1954-09-08\n",
       "abadan01    1972-08-25\n",
       "               ...    \n",
       "zupofr01    1939-08-29\n",
       "zuvelpa01   1958-10-31\n",
       "zuverge01   1924-08-20\n",
       "zwilldu01   1888-11-02\n",
       "zychto01    1990-08-07\n",
       "Name: birthdate, Length: 19670, dtype: datetime64[ns]"
      ]
     },
     "execution_count": 4,
     "metadata": {},
     "output_type": "execute_result"
    }
   ],
   "source": [
    "birthdates = bbl.load_birthdates()\n",
    "birthdates"
   ]
  },
  {
   "cell_type": "code",
   "execution_count": 5,
   "metadata": {},
   "outputs": [
    {
     "data": {
      "text/html": [
       "<div>\n",
       "<style scoped>\n",
       "    .dataframe tbody tr th:only-of-type {\n",
       "        vertical-align: middle;\n",
       "    }\n",
       "\n",
       "    .dataframe tbody tr th {\n",
       "        vertical-align: top;\n",
       "    }\n",
       "\n",
       "    .dataframe thead th {\n",
       "        text-align: right;\n",
       "    }\n",
       "</style>\n",
       "<table border=\"1\" class=\"dataframe\">\n",
       "  <thead>\n",
       "    <tr style=\"text-align: right;\">\n",
       "      <th></th>\n",
       "      <th>player_id</th>\n",
       "      <th>year_id</th>\n",
       "      <th>team_id</th>\n",
       "      <th>lg_id</th>\n",
       "      <th>g_all</th>\n",
       "      <th>gs</th>\n",
       "      <th>g_batting</th>\n",
       "      <th>g_defense</th>\n",
       "      <th>g_p</th>\n",
       "      <th>g_c</th>\n",
       "      <th>...</th>\n",
       "      <th>g_ss</th>\n",
       "      <th>g_lf</th>\n",
       "      <th>g_cf</th>\n",
       "      <th>g_rf</th>\n",
       "      <th>g_of</th>\n",
       "      <th>g_dh</th>\n",
       "      <th>g_ph</th>\n",
       "      <th>g_pr</th>\n",
       "      <th>birthdate</th>\n",
       "      <th>baseball_age</th>\n",
       "    </tr>\n",
       "  </thead>\n",
       "  <tbody>\n",
       "    <tr>\n",
       "      <th>8202</th>\n",
       "      <td>dawlebi01</td>\n",
       "      <td>1988</td>\n",
       "      <td>PHI</td>\n",
       "      <td>NL</td>\n",
       "      <td>8</td>\n",
       "      <td>0.0</td>\n",
       "      <td>8</td>\n",
       "      <td>8.0</td>\n",
       "      <td>8</td>\n",
       "      <td>0</td>\n",
       "      <td>...</td>\n",
       "      <td>0</td>\n",
       "      <td>0</td>\n",
       "      <td>0</td>\n",
       "      <td>0</td>\n",
       "      <td>0</td>\n",
       "      <td>0.0</td>\n",
       "      <td>0.0</td>\n",
       "      <td>0.0</td>\n",
       "      <td>1958-02-06</td>\n",
       "      <td>30</td>\n",
       "    </tr>\n",
       "    <tr>\n",
       "      <th>48782</th>\n",
       "      <td>kuhlch01</td>\n",
       "      <td>2017</td>\n",
       "      <td>PIT</td>\n",
       "      <td>NL</td>\n",
       "      <td>33</td>\n",
       "      <td>31.0</td>\n",
       "      <td>30</td>\n",
       "      <td>31.0</td>\n",
       "      <td>31</td>\n",
       "      <td>0</td>\n",
       "      <td>...</td>\n",
       "      <td>0</td>\n",
       "      <td>0</td>\n",
       "      <td>0</td>\n",
       "      <td>0</td>\n",
       "      <td>0</td>\n",
       "      <td>0.0</td>\n",
       "      <td>2.0</td>\n",
       "      <td>0.0</td>\n",
       "      <td>1992-09-10</td>\n",
       "      <td>24</td>\n",
       "    </tr>\n",
       "    <tr>\n",
       "      <th>48929</th>\n",
       "      <td>musgrjo01</td>\n",
       "      <td>2017</td>\n",
       "      <td>HOU</td>\n",
       "      <td>AL</td>\n",
       "      <td>38</td>\n",
       "      <td>15.0</td>\n",
       "      <td>4</td>\n",
       "      <td>38.0</td>\n",
       "      <td>38</td>\n",
       "      <td>0</td>\n",
       "      <td>...</td>\n",
       "      <td>0</td>\n",
       "      <td>0</td>\n",
       "      <td>0</td>\n",
       "      <td>0</td>\n",
       "      <td>0</td>\n",
       "      <td>0.0</td>\n",
       "      <td>0.0</td>\n",
       "      <td>0.0</td>\n",
       "      <td>1992-12-04</td>\n",
       "      <td>24</td>\n",
       "    </tr>\n",
       "    <tr>\n",
       "      <th>20250</th>\n",
       "      <td>mccarda01</td>\n",
       "      <td>2003</td>\n",
       "      <td>OAK</td>\n",
       "      <td>AL</td>\n",
       "      <td>8</td>\n",
       "      <td>7.0</td>\n",
       "      <td>8</td>\n",
       "      <td>8.0</td>\n",
       "      <td>0</td>\n",
       "      <td>0</td>\n",
       "      <td>...</td>\n",
       "      <td>0</td>\n",
       "      <td>5</td>\n",
       "      <td>0</td>\n",
       "      <td>0</td>\n",
       "      <td>5</td>\n",
       "      <td>0.0</td>\n",
       "      <td>0.0</td>\n",
       "      <td>0.0</td>\n",
       "      <td>1969-11-23</td>\n",
       "      <td>33</td>\n",
       "    </tr>\n",
       "    <tr>\n",
       "      <th>45918</th>\n",
       "      <td>puigya01</td>\n",
       "      <td>2013</td>\n",
       "      <td>LAN</td>\n",
       "      <td>NL</td>\n",
       "      <td>104</td>\n",
       "      <td>96.0</td>\n",
       "      <td>104</td>\n",
       "      <td>100.0</td>\n",
       "      <td>0</td>\n",
       "      <td>0</td>\n",
       "      <td>...</td>\n",
       "      <td>0</td>\n",
       "      <td>2</td>\n",
       "      <td>10</td>\n",
       "      <td>93</td>\n",
       "      <td>100</td>\n",
       "      <td>0.0</td>\n",
       "      <td>5.0</td>\n",
       "      <td>0.0</td>\n",
       "      <td>1990-12-07</td>\n",
       "      <td>22</td>\n",
       "    </tr>\n",
       "    <tr>\n",
       "      <th>14391</th>\n",
       "      <td>schilcu01</td>\n",
       "      <td>1996</td>\n",
       "      <td>PHI</td>\n",
       "      <td>NL</td>\n",
       "      <td>28</td>\n",
       "      <td>26.0</td>\n",
       "      <td>28</td>\n",
       "      <td>26.0</td>\n",
       "      <td>26</td>\n",
       "      <td>0</td>\n",
       "      <td>...</td>\n",
       "      <td>0</td>\n",
       "      <td>0</td>\n",
       "      <td>0</td>\n",
       "      <td>0</td>\n",
       "      <td>0</td>\n",
       "      <td>0.0</td>\n",
       "      <td>2.0</td>\n",
       "      <td>0.0</td>\n",
       "      <td>1966-11-14</td>\n",
       "      <td>29</td>\n",
       "    </tr>\n",
       "    <tr>\n",
       "      <th>31483</th>\n",
       "      <td>figgich01</td>\n",
       "      <td>2005</td>\n",
       "      <td>LAA</td>\n",
       "      <td>AL</td>\n",
       "      <td>158</td>\n",
       "      <td>157.0</td>\n",
       "      <td>158</td>\n",
       "      <td>151.0</td>\n",
       "      <td>0</td>\n",
       "      <td>0</td>\n",
       "      <td>...</td>\n",
       "      <td>4</td>\n",
       "      <td>15</td>\n",
       "      <td>50</td>\n",
       "      <td>8</td>\n",
       "      <td>72</td>\n",
       "      <td>7.0</td>\n",
       "      <td>1.0</td>\n",
       "      <td>0.0</td>\n",
       "      <td>1978-01-22</td>\n",
       "      <td>27</td>\n",
       "    </tr>\n",
       "    <tr>\n",
       "      <th>15727</th>\n",
       "      <td>aldresc01</td>\n",
       "      <td>1991</td>\n",
       "      <td>DET</td>\n",
       "      <td>AL</td>\n",
       "      <td>11</td>\n",
       "      <td>11.0</td>\n",
       "      <td>0</td>\n",
       "      <td>11.0</td>\n",
       "      <td>11</td>\n",
       "      <td>0</td>\n",
       "      <td>...</td>\n",
       "      <td>0</td>\n",
       "      <td>0</td>\n",
       "      <td>0</td>\n",
       "      <td>0</td>\n",
       "      <td>0</td>\n",
       "      <td>0.0</td>\n",
       "      <td>0.0</td>\n",
       "      <td>0.0</td>\n",
       "      <td>1968-06-12</td>\n",
       "      <td>23</td>\n",
       "    </tr>\n",
       "    <tr>\n",
       "      <th>40186</th>\n",
       "      <td>avilaal01</td>\n",
       "      <td>2011</td>\n",
       "      <td>DET</td>\n",
       "      <td>AL</td>\n",
       "      <td>141</td>\n",
       "      <td>135.0</td>\n",
       "      <td>141</td>\n",
       "      <td>134.0</td>\n",
       "      <td>0</td>\n",
       "      <td>133</td>\n",
       "      <td>...</td>\n",
       "      <td>0</td>\n",
       "      <td>0</td>\n",
       "      <td>0</td>\n",
       "      <td>0</td>\n",
       "      <td>0</td>\n",
       "      <td>4.0</td>\n",
       "      <td>4.0</td>\n",
       "      <td>0.0</td>\n",
       "      <td>1987-01-29</td>\n",
       "      <td>24</td>\n",
       "    </tr>\n",
       "    <tr>\n",
       "      <th>28638</th>\n",
       "      <td>willisc01</td>\n",
       "      <td>2000</td>\n",
       "      <td>CIN</td>\n",
       "      <td>NL</td>\n",
       "      <td>48</td>\n",
       "      <td>10.0</td>\n",
       "      <td>47</td>\n",
       "      <td>48.0</td>\n",
       "      <td>48</td>\n",
       "      <td>0</td>\n",
       "      <td>...</td>\n",
       "      <td>0</td>\n",
       "      <td>0</td>\n",
       "      <td>0</td>\n",
       "      <td>0</td>\n",
       "      <td>0</td>\n",
       "      <td>0.0</td>\n",
       "      <td>0.0</td>\n",
       "      <td>0.0</td>\n",
       "      <td>1976-02-17</td>\n",
       "      <td>24</td>\n",
       "    </tr>\n",
       "  </tbody>\n",
       "</table>\n",
       "<p>10 rows × 23 columns</p>\n",
       "</div>"
      ],
      "text/plain": [
       "       player_id  year_id team_id lg_id  g_all     gs  g_batting  g_defense  \\\n",
       "8202   dawlebi01     1988     PHI    NL      8    0.0          8        8.0   \n",
       "48782   kuhlch01     2017     PIT    NL     33   31.0         30       31.0   \n",
       "48929  musgrjo01     2017     HOU    AL     38   15.0          4       38.0   \n",
       "20250  mccarda01     2003     OAK    AL      8    7.0          8        8.0   \n",
       "45918   puigya01     2013     LAN    NL    104   96.0        104      100.0   \n",
       "14391  schilcu01     1996     PHI    NL     28   26.0         28       26.0   \n",
       "31483  figgich01     2005     LAA    AL    158  157.0        158      151.0   \n",
       "15727  aldresc01     1991     DET    AL     11   11.0          0       11.0   \n",
       "40186  avilaal01     2011     DET    AL    141  135.0        141      134.0   \n",
       "28638  willisc01     2000     CIN    NL     48   10.0         47       48.0   \n",
       "\n",
       "       g_p  g_c  ...  g_ss  g_lf  g_cf  g_rf  g_of  g_dh  g_ph  g_pr  \\\n",
       "8202     8    0  ...     0     0     0     0     0   0.0   0.0   0.0   \n",
       "48782   31    0  ...     0     0     0     0     0   0.0   2.0   0.0   \n",
       "48929   38    0  ...     0     0     0     0     0   0.0   0.0   0.0   \n",
       "20250    0    0  ...     0     5     0     0     5   0.0   0.0   0.0   \n",
       "45918    0    0  ...     0     2    10    93   100   0.0   5.0   0.0   \n",
       "14391   26    0  ...     0     0     0     0     0   0.0   2.0   0.0   \n",
       "31483    0    0  ...     4    15    50     8    72   7.0   1.0   0.0   \n",
       "15727   11    0  ...     0     0     0     0     0   0.0   0.0   0.0   \n",
       "40186    0  133  ...     0     0     0     0     0   4.0   4.0   0.0   \n",
       "28638   48    0  ...     0     0     0     0     0   0.0   0.0   0.0   \n",
       "\n",
       "       birthdate  baseball_age  \n",
       "8202  1958-02-06            30  \n",
       "48782 1992-09-10            24  \n",
       "48929 1992-12-04            24  \n",
       "20250 1969-11-23            33  \n",
       "45918 1990-12-07            22  \n",
       "14391 1966-11-14            29  \n",
       "31483 1978-01-22            27  \n",
       "15727 1968-06-12            23  \n",
       "40186 1987-01-29            24  \n",
       "28638 1976-02-17            24  \n",
       "\n",
       "[10 rows x 23 columns]"
      ]
     },
     "execution_count": 5,
     "metadata": {},
     "output_type": "execute_result"
    }
   ],
   "source": [
    "df = pd.merge(left=apps.query('year_id >= 1980').set_index('player_id'), right=birthdates, on='player_id').reset_index()\n",
    "df['baseball_age'] = compute_baseball_age(df['year_id'], df['birthdate'].dt)\n",
    "\n",
    "yrly_games = df\n",
    "yrly_games.sample(10)"
   ]
  },
  {
   "cell_type": "code",
   "execution_count": 6,
   "metadata": {},
   "outputs": [
    {
     "data": {
      "text/html": [
       "<div>\n",
       "<style scoped>\n",
       "    .dataframe tbody tr th:only-of-type {\n",
       "        vertical-align: middle;\n",
       "    }\n",
       "\n",
       "    .dataframe tbody tr th {\n",
       "        vertical-align: top;\n",
       "    }\n",
       "\n",
       "    .dataframe thead th {\n",
       "        text-align: right;\n",
       "    }\n",
       "</style>\n",
       "<table border=\"1\" class=\"dataframe\">\n",
       "  <thead>\n",
       "    <tr style=\"text-align: right;\">\n",
       "      <th></th>\n",
       "      <th>player_id</th>\n",
       "      <th>year_id</th>\n",
       "      <th>team_id</th>\n",
       "      <th>lg_id</th>\n",
       "      <th>g_all</th>\n",
       "      <th>gs</th>\n",
       "      <th>g_batting</th>\n",
       "      <th>g_defense</th>\n",
       "      <th>g_p</th>\n",
       "      <th>g_c</th>\n",
       "      <th>...</th>\n",
       "      <th>g_lf</th>\n",
       "      <th>g_cf</th>\n",
       "      <th>g_rf</th>\n",
       "      <th>g_of</th>\n",
       "      <th>g_dh</th>\n",
       "      <th>g_ph</th>\n",
       "      <th>g_pr</th>\n",
       "      <th>birthdate</th>\n",
       "      <th>baseball_age</th>\n",
       "      <th>primary</th>\n",
       "    </tr>\n",
       "  </thead>\n",
       "  <tbody>\n",
       "    <tr>\n",
       "      <th>14122</th>\n",
       "      <td>jordari02</td>\n",
       "      <td>1990</td>\n",
       "      <td>PHI</td>\n",
       "      <td>NL</td>\n",
       "      <td>92</td>\n",
       "      <td>81.0</td>\n",
       "      <td>92</td>\n",
       "      <td>84.0</td>\n",
       "      <td>0</td>\n",
       "      <td>0</td>\n",
       "      <td>...</td>\n",
       "      <td>0</td>\n",
       "      <td>0</td>\n",
       "      <td>0</td>\n",
       "      <td>0</td>\n",
       "      <td>0.0</td>\n",
       "      <td>8.0</td>\n",
       "      <td>0.0</td>\n",
       "      <td>1965-05-26</td>\n",
       "      <td>25</td>\n",
       "      <td>1b</td>\n",
       "    </tr>\n",
       "    <tr>\n",
       "      <th>10398</th>\n",
       "      <td>greenmi01</td>\n",
       "      <td>1987</td>\n",
       "      <td>BOS</td>\n",
       "      <td>AL</td>\n",
       "      <td>125</td>\n",
       "      <td>103.0</td>\n",
       "      <td>125</td>\n",
       "      <td>92.0</td>\n",
       "      <td>0</td>\n",
       "      <td>1</td>\n",
       "      <td>...</td>\n",
       "      <td>64</td>\n",
       "      <td>0</td>\n",
       "      <td>28</td>\n",
       "      <td>91</td>\n",
       "      <td>15.0</td>\n",
       "      <td>20.0</td>\n",
       "      <td>1.0</td>\n",
       "      <td>1963-07-18</td>\n",
       "      <td>23</td>\n",
       "      <td>lf</td>\n",
       "    </tr>\n",
       "    <tr>\n",
       "      <th>8004</th>\n",
       "      <td>bilarda01</td>\n",
       "      <td>1991</td>\n",
       "      <td>SDN</td>\n",
       "      <td>NL</td>\n",
       "      <td>15</td>\n",
       "      <td>6.0</td>\n",
       "      <td>15</td>\n",
       "      <td>13.0</td>\n",
       "      <td>0</td>\n",
       "      <td>13</td>\n",
       "      <td>...</td>\n",
       "      <td>0</td>\n",
       "      <td>0</td>\n",
       "      <td>0</td>\n",
       "      <td>0</td>\n",
       "      <td>0.0</td>\n",
       "      <td>2.0</td>\n",
       "      <td>0.0</td>\n",
       "      <td>1959-05-26</td>\n",
       "      <td>32</td>\n",
       "      <td>c</td>\n",
       "    </tr>\n",
       "    <tr>\n",
       "      <th>29117</th>\n",
       "      <td>harpetr01</td>\n",
       "      <td>2002</td>\n",
       "      <td>TBA</td>\n",
       "      <td>AL</td>\n",
       "      <td>37</td>\n",
       "      <td>7.0</td>\n",
       "      <td>3</td>\n",
       "      <td>37.0</td>\n",
       "      <td>37</td>\n",
       "      <td>0</td>\n",
       "      <td>...</td>\n",
       "      <td>0</td>\n",
       "      <td>0</td>\n",
       "      <td>0</td>\n",
       "      <td>0</td>\n",
       "      <td>0.0</td>\n",
       "      <td>0.0</td>\n",
       "      <td>0.0</td>\n",
       "      <td>1976-05-21</td>\n",
       "      <td>26</td>\n",
       "      <td>c</td>\n",
       "    </tr>\n",
       "    <tr>\n",
       "      <th>13839</th>\n",
       "      <td>dejesjo01</td>\n",
       "      <td>1989</td>\n",
       "      <td>KCA</td>\n",
       "      <td>AL</td>\n",
       "      <td>3</td>\n",
       "      <td>1.0</td>\n",
       "      <td>0</td>\n",
       "      <td>3.0</td>\n",
       "      <td>3</td>\n",
       "      <td>0</td>\n",
       "      <td>...</td>\n",
       "      <td>0</td>\n",
       "      <td>0</td>\n",
       "      <td>0</td>\n",
       "      <td>0</td>\n",
       "      <td>0.0</td>\n",
       "      <td>0.0</td>\n",
       "      <td>0.0</td>\n",
       "      <td>1965-01-06</td>\n",
       "      <td>24</td>\n",
       "      <td>c</td>\n",
       "    </tr>\n",
       "    <tr>\n",
       "      <th>23784</th>\n",
       "      <td>erstada01</td>\n",
       "      <td>2005</td>\n",
       "      <td>LAA</td>\n",
       "      <td>AL</td>\n",
       "      <td>153</td>\n",
       "      <td>149.0</td>\n",
       "      <td>153</td>\n",
       "      <td>147.0</td>\n",
       "      <td>0</td>\n",
       "      <td>0</td>\n",
       "      <td>...</td>\n",
       "      <td>0</td>\n",
       "      <td>0</td>\n",
       "      <td>0</td>\n",
       "      <td>0</td>\n",
       "      <td>5.0</td>\n",
       "      <td>0.0</td>\n",
       "      <td>1.0</td>\n",
       "      <td>1974-06-04</td>\n",
       "      <td>31</td>\n",
       "      <td>1b</td>\n",
       "    </tr>\n",
       "    <tr>\n",
       "      <th>35122</th>\n",
       "      <td>doumiry01</td>\n",
       "      <td>2013</td>\n",
       "      <td>MIN</td>\n",
       "      <td>AL</td>\n",
       "      <td>135</td>\n",
       "      <td>119.0</td>\n",
       "      <td>135</td>\n",
       "      <td>76.0</td>\n",
       "      <td>0</td>\n",
       "      <td>43</td>\n",
       "      <td>...</td>\n",
       "      <td>1</td>\n",
       "      <td>0</td>\n",
       "      <td>32</td>\n",
       "      <td>33</td>\n",
       "      <td>49.0</td>\n",
       "      <td>16.0</td>\n",
       "      <td>0.0</td>\n",
       "      <td>1981-04-03</td>\n",
       "      <td>32</td>\n",
       "      <td>dh</td>\n",
       "    </tr>\n",
       "    <tr>\n",
       "      <th>3283</th>\n",
       "      <td>molinbo01</td>\n",
       "      <td>1980</td>\n",
       "      <td>CHA</td>\n",
       "      <td>AL</td>\n",
       "      <td>119</td>\n",
       "      <td>91.0</td>\n",
       "      <td>119</td>\n",
       "      <td>49.0</td>\n",
       "      <td>0</td>\n",
       "      <td>0</td>\n",
       "      <td>...</td>\n",
       "      <td>49</td>\n",
       "      <td>0</td>\n",
       "      <td>0</td>\n",
       "      <td>49</td>\n",
       "      <td>48.0</td>\n",
       "      <td>26.0</td>\n",
       "      <td>2.0</td>\n",
       "      <td>1950-05-21</td>\n",
       "      <td>30</td>\n",
       "      <td>lf</td>\n",
       "    </tr>\n",
       "    <tr>\n",
       "      <th>5306</th>\n",
       "      <td>walkech01</td>\n",
       "      <td>1987</td>\n",
       "      <td>CHN</td>\n",
       "      <td>NL</td>\n",
       "      <td>47</td>\n",
       "      <td>23.0</td>\n",
       "      <td>47</td>\n",
       "      <td>35.0</td>\n",
       "      <td>0</td>\n",
       "      <td>0</td>\n",
       "      <td>...</td>\n",
       "      <td>25</td>\n",
       "      <td>3</td>\n",
       "      <td>5</td>\n",
       "      <td>33</td>\n",
       "      <td>0.0</td>\n",
       "      <td>7.0</td>\n",
       "      <td>10.0</td>\n",
       "      <td>1957-11-25</td>\n",
       "      <td>29</td>\n",
       "      <td>lf</td>\n",
       "    </tr>\n",
       "    <tr>\n",
       "      <th>22709</th>\n",
       "      <td>myersmi01</td>\n",
       "      <td>2007</td>\n",
       "      <td>NYA</td>\n",
       "      <td>AL</td>\n",
       "      <td>55</td>\n",
       "      <td>0.0</td>\n",
       "      <td>6</td>\n",
       "      <td>55.0</td>\n",
       "      <td>55</td>\n",
       "      <td>0</td>\n",
       "      <td>...</td>\n",
       "      <td>0</td>\n",
       "      <td>0</td>\n",
       "      <td>0</td>\n",
       "      <td>0</td>\n",
       "      <td>0.0</td>\n",
       "      <td>0.0</td>\n",
       "      <td>0.0</td>\n",
       "      <td>1969-06-26</td>\n",
       "      <td>38</td>\n",
       "      <td>c</td>\n",
       "    </tr>\n",
       "  </tbody>\n",
       "</table>\n",
       "<p>10 rows × 24 columns</p>\n",
       "</div>"
      ],
      "text/plain": [
       "       player_id  year_id team_id lg_id  g_all     gs  g_batting  g_defense  \\\n",
       "14122  jordari02     1990     PHI    NL     92   81.0         92       84.0   \n",
       "10398  greenmi01     1987     BOS    AL    125  103.0        125       92.0   \n",
       "8004   bilarda01     1991     SDN    NL     15    6.0         15       13.0   \n",
       "29117  harpetr01     2002     TBA    AL     37    7.0          3       37.0   \n",
       "13839  dejesjo01     1989     KCA    AL      3    1.0          0        3.0   \n",
       "23784  erstada01     2005     LAA    AL    153  149.0        153      147.0   \n",
       "35122  doumiry01     2013     MIN    AL    135  119.0        135       76.0   \n",
       "3283   molinbo01     1980     CHA    AL    119   91.0        119       49.0   \n",
       "5306   walkech01     1987     CHN    NL     47   23.0         47       35.0   \n",
       "22709  myersmi01     2007     NYA    AL     55    0.0          6       55.0   \n",
       "\n",
       "       g_p  g_c  ...  g_lf  g_cf  g_rf  g_of  g_dh  g_ph  g_pr  birthdate  \\\n",
       "14122    0    0  ...     0     0     0     0   0.0   8.0   0.0 1965-05-26   \n",
       "10398    0    1  ...    64     0    28    91  15.0  20.0   1.0 1963-07-18   \n",
       "8004     0   13  ...     0     0     0     0   0.0   2.0   0.0 1959-05-26   \n",
       "29117   37    0  ...     0     0     0     0   0.0   0.0   0.0 1976-05-21   \n",
       "13839    3    0  ...     0     0     0     0   0.0   0.0   0.0 1965-01-06   \n",
       "23784    0    0  ...     0     0     0     0   5.0   0.0   1.0 1974-06-04   \n",
       "35122    0   43  ...     1     0    32    33  49.0  16.0   0.0 1981-04-03   \n",
       "3283     0    0  ...    49     0     0    49  48.0  26.0   2.0 1950-05-21   \n",
       "5306     0    0  ...    25     3     5    33   0.0   7.0  10.0 1957-11-25   \n",
       "22709   55    0  ...     0     0     0     0   0.0   0.0   0.0 1969-06-26   \n",
       "\n",
       "       baseball_age  primary  \n",
       "14122            25       1b  \n",
       "10398            23       lf  \n",
       "8004             32        c  \n",
       "29117            26        c  \n",
       "13839            24        c  \n",
       "23784            31       1b  \n",
       "35122            32       dh  \n",
       "3283             30       lf  \n",
       "5306             29       lf  \n",
       "22709            38        c  \n",
       "\n",
       "[10 rows x 24 columns]"
      ]
     },
     "execution_count": 6,
     "metadata": {},
     "output_type": "execute_result"
    }
   ],
   "source": [
    "posns = ['c', '1b', '2b', '3b', 'ss', 'lf', 'cf', 'rf', 'dh']\n",
    "pos_cols = [f'g_{pos}' for pos in posns]\n",
    "pos_all_cols =  [f'g_{pos}' for pos in (posns+['defense', 'all'])]\n",
    "position_colors = {'c': 'black', '1b': 'darkkhaki', '2b': 'khaki', '3b': 'brown', 'ss': 'tan', 'lf': 'green', 'cf': 'green', 'rf': 'green', 'dh': 'grey'}\n",
    "for pos in posns:\n",
    "    position_colors[f'g_{pos}'] = position_colors[pos]\n",
    "\n",
    "yrly_games['primary'] = yrly_games[pos_cols].idxmax(axis=1).str[2:]\n",
    "yrly_games.sample(10)\n"
   ]
  },
  {
   "cell_type": "code",
   "execution_count": 7,
   "metadata": {},
   "outputs": [
    {
     "data": {
      "application/vnd.plotly.v1+json": {
       "config": {
        "plotlyServerURL": "https://plot.ly"
       },
       "data": [
        {
         "hovertemplate": "variable=g_c<br>baseball_age=%{x}<br>value=%{y}<extra></extra>",
         "legendgroup": "g_c",
         "line": {
          "color": "black",
          "dash": "solid"
         },
         "mode": "lines",
         "name": "g_c",
         "orientation": "v",
         "showlegend": true,
         "type": "scatter",
         "x": [
          19,
          20,
          21,
          22,
          23,
          24,
          25,
          26,
          27,
          28,
          29,
          30,
          31,
          32,
          33,
          34,
          35,
          36,
          37,
          38,
          39,
          40,
          41,
          42,
          43,
          44,
          45,
          47,
          49
         ],
         "xaxis": "x",
         "y": [
          0,
          0,
          0.08765432098765431,
          0.3382716049382716,
          1.0648148148148149,
          1.9728395061728397,
          2.6444444444444444,
          3.282716049382716,
          4.077160493827161,
          3.3796296296296298,
          3.0950617283950614,
          3.1462962962962964,
          2.8376543209876544,
          2.15679012345679,
          1.560493827160494,
          1.1876543209876544,
          1.060493827160494,
          0.6604938271604939,
          0.22962962962962966,
          0.34444444444444444,
          0.30493827160493825,
          0.013580246913580249,
          0.04197530864197531,
          0,
          0,
          0,
          0,
          0,
          0
         ],
         "yaxis": "y"
        },
        {
         "hovertemplate": "variable=g_1b<br>baseball_age=%{x}<br>value=%{y}<extra></extra>",
         "legendgroup": "g_1b",
         "line": {
          "color": "darkkhaki",
          "dash": "solid"
         },
         "mode": "lines",
         "name": "g_1b",
         "orientation": "v",
         "showlegend": true,
         "type": "scatter",
         "x": [
          19,
          20,
          21,
          22,
          23,
          24,
          25,
          26,
          27,
          28,
          29,
          30,
          31,
          32,
          33,
          34,
          35,
          36,
          37,
          38,
          39,
          40,
          41,
          42,
          43,
          44,
          45,
          47,
          49
         ],
         "xaxis": "x",
         "y": [
          0,
          0.007407407407407407,
          0.26728395061728394,
          0.512962962962963,
          0.9888888888888888,
          1.8166666666666667,
          2.556172839506173,
          3.224074074074074,
          3.253086419753086,
          3.6141975308641974,
          3.1796296296296296,
          2.7907407407407407,
          2.859259259259259,
          2.873456790123457,
          2.1432098765432097,
          1.871604938271605,
          1.1333333333333333,
          0.7611111111111111,
          0.2358024691358025,
          0.15555555555555556,
          0.16234567901234567,
          0.027160493827160497,
          0.010493827160493827,
          0.006790123456790124,
          0.0024691358024691358,
          0.0006172839506172839,
          0.0012345679012345679,
          0,
          0
         ],
         "yaxis": "y"
        },
        {
         "hovertemplate": "variable=g_2b<br>baseball_age=%{x}<br>value=%{y}<extra></extra>",
         "legendgroup": "g_2b",
         "line": {
          "color": "khaki",
          "dash": "solid"
         },
         "mode": "lines",
         "name": "g_2b",
         "orientation": "v",
         "showlegend": true,
         "type": "scatter",
         "x": [
          19,
          20,
          21,
          22,
          23,
          24,
          25,
          26,
          27,
          28,
          29,
          30,
          31,
          32,
          33,
          34,
          35,
          36,
          37,
          38,
          39,
          40,
          41,
          42,
          43,
          44,
          45,
          47,
          49
         ],
         "xaxis": "x",
         "y": [
          0.0030864197530864196,
          0.19320987654320987,
          0.46851851851851856,
          0.9901234567901235,
          1.612962962962963,
          2.7574074074074075,
          3.1530864197530866,
          3.473456790123457,
          3.7160493827160495,
          3.432098765432099,
          2.811111111111111,
          2.5290123456790123,
          2.200617283950617,
          2.1919753086419753,
          1.5012345679012344,
          1.1666666666666667,
          0.782716049382716,
          0.7129629629629629,
          0.3493827160493827,
          0.1574074074074074,
          0.06358024691358025,
          0.03271604938271605,
          0,
          0,
          0.011728395061728394,
          0.009876543209876543,
          0.014814814814814814,
          0,
          0
         ],
         "yaxis": "y"
        },
        {
         "hovertemplate": "variable=g_3b<br>baseball_age=%{x}<br>value=%{y}<extra></extra>",
         "legendgroup": "g_3b",
         "line": {
          "color": "brown",
          "dash": "solid"
         },
         "mode": "lines",
         "name": "g_3b",
         "orientation": "v",
         "showlegend": true,
         "type": "scatter",
         "x": [
          19,
          20,
          21,
          22,
          23,
          24,
          25,
          26,
          27,
          28,
          29,
          30,
          31,
          32,
          33,
          34,
          35,
          36,
          37,
          38,
          39,
          40,
          41,
          42,
          43,
          44,
          45,
          47,
          49
         ],
         "xaxis": "x",
         "y": [
          0.03148148148148148,
          0.20308641975308642,
          0.245679012345679,
          0.8444444444444446,
          2.028395061728395,
          3.0179012345679013,
          3.278395061728395,
          3.8203703703703704,
          3.607407407407407,
          3.124691358024691,
          2.725925925925926,
          2.197530864197531,
          1.8753086419753087,
          1.6691358024691356,
          1.641358024691358,
          1.2685185185185186,
          0.8604938271604938,
          0.7709876543209877,
          0.5185185185185185,
          0.20987654320987653,
          0.24135802469135803,
          0.0728395061728395,
          0,
          0,
          0.051234567901234575,
          0.017901234567901235,
          0.011111111111111112,
          0,
          0
         ],
         "yaxis": "y"
        },
        {
         "hovertemplate": "variable=g_ss<br>baseball_age=%{x}<br>value=%{y}<extra></extra>",
         "legendgroup": "g_ss",
         "line": {
          "color": "tan",
          "dash": "solid"
         },
         "mode": "lines",
         "name": "g_ss",
         "orientation": "v",
         "showlegend": true,
         "type": "scatter",
         "x": [
          19,
          20,
          21,
          22,
          23,
          24,
          25,
          26,
          27,
          28,
          29,
          30,
          31,
          32,
          33,
          34,
          35,
          36,
          37,
          38,
          39,
          40,
          41,
          42,
          43,
          44,
          45,
          47,
          49
         ],
         "xaxis": "x",
         "y": [
          0.0018518518518518517,
          0.22962962962962966,
          0.7407407407407407,
          1.672222222222222,
          2.5512345679012345,
          3.0407407407407407,
          3.9339506172839505,
          3.180864197530864,
          3.192592592592593,
          3.200617283950617,
          2.8518518518518516,
          2.151851851851852,
          1.7438271604938271,
          1.2259259259259259,
          0.9438271604938272,
          0.9006172839506174,
          0.35246913580246914,
          0.44197530864197526,
          0.2191358024691358,
          0.1388888888888889,
          0.04567901234567901,
          0.09444444444444444,
          0,
          0,
          0.005555555555555556,
          0.005555555555555556,
          0.006172839506172839,
          0,
          0
         ],
         "yaxis": "y"
        },
        {
         "hovertemplate": "variable=g_lf<br>baseball_age=%{x}<br>value=%{y}<extra></extra>",
         "legendgroup": "g_lf",
         "line": {
          "color": "green",
          "dash": "solid"
         },
         "mode": "lines",
         "name": "g_lf",
         "orientation": "v",
         "showlegend": true,
         "type": "scatter",
         "x": [
          19,
          20,
          21,
          22,
          23,
          24,
          25,
          26,
          27,
          28,
          29,
          30,
          31,
          32,
          33,
          34,
          35,
          36,
          37,
          38,
          39,
          40,
          41,
          42,
          43,
          44,
          45,
          47,
          49
         ],
         "xaxis": "x",
         "y": [
          0.0808641975308642,
          0.2598765432098766,
          0.35617283950617284,
          0.7740740740740741,
          1.4944444444444445,
          2.787037037037037,
          3.2339506172839503,
          4.147530864197531,
          3.4882716049382716,
          3.412345679012345,
          3.2148148148148143,
          2.880864197530864,
          2.672222222222222,
          2.4611111111111112,
          2.060493827160494,
          1.6845679012345678,
          0.9771604938271605,
          0.5172839506172839,
          0.3925925925925926,
          0.35432098765432096,
          0.0882716049382716,
          0.06728395061728396,
          0.07962962962962963,
          0.030246913580246917,
          0.005555555555555556,
          0.006790123456790124,
          0.0006172839506172839,
          0,
          0
         ],
         "yaxis": "y"
        },
        {
         "hovertemplate": "variable=g_cf<br>baseball_age=%{x}<br>value=%{y}<extra></extra>",
         "legendgroup": "g_cf",
         "line": {
          "color": "green",
          "dash": "solid"
         },
         "mode": "lines",
         "name": "g_cf",
         "orientation": "v",
         "showlegend": true,
         "type": "scatter",
         "x": [
          19,
          20,
          21,
          22,
          23,
          24,
          25,
          26,
          27,
          28,
          29,
          30,
          31,
          32,
          33,
          34,
          35,
          36,
          37,
          38,
          39,
          40,
          41,
          42,
          43,
          44,
          45,
          47,
          49
         ],
         "xaxis": "x",
         "y": [
          0.06481481481481481,
          0.08333333333333333,
          0.2506172839506173,
          0.9055555555555554,
          2.074074074074074,
          3.271604938271605,
          4.279629629629629,
          4.26358024691358,
          4.102469135802469,
          3.4271604938271607,
          3.3987654320987657,
          2.7666666666666666,
          1.9203703703703705,
          1.2740740740740741,
          1.1734567901234567,
          0.49753086419753084,
          0.23703703703703702,
          0.14876543209876544,
          0.062345679012345674,
          0.030246913580246917,
          0.008024691358024692,
          0.03518518518518519,
          0.004320987654320987,
          0.008641975308641974,
          0.006172839506172839,
          0,
          0,
          0,
          0
         ],
         "yaxis": "y"
        },
        {
         "hovertemplate": "variable=g_rf<br>baseball_age=%{x}<br>value=%{y}<extra></extra>",
         "legendgroup": "g_rf",
         "line": {
          "color": "green",
          "dash": "solid"
         },
         "mode": "lines",
         "name": "g_rf",
         "orientation": "v",
         "showlegend": true,
         "type": "scatter",
         "x": [
          19,
          20,
          21,
          22,
          23,
          24,
          25,
          26,
          27,
          28,
          29,
          30,
          31,
          32,
          33,
          34,
          35,
          36,
          37,
          38,
          39,
          40,
          41,
          42,
          43,
          44,
          45,
          47,
          49
         ],
         "xaxis": "x",
         "y": [
          0.04814814814814815,
          0.1648148148148148,
          0.32222222222222224,
          0.9296296296296296,
          1.7981481481481483,
          2.4611111111111112,
          3.0555555555555554,
          3.7746913580246915,
          3.8641975308641974,
          3.0617283950617282,
          2.7962962962962963,
          2.519135802469136,
          2.7203703703703703,
          2.2981481481481483,
          1.5666666666666667,
          1.4228395061728396,
          0.9222222222222223,
          0.7246913580246914,
          0.40370370370370373,
          0.3148148148148148,
          0.19753086419753085,
          0.10679012345679013,
          0.04567901234567901,
          0.037037037037037035,
          0.009876543209876543,
          0.0006172839506172839,
          0.0012345679012345679,
          0,
          0
         ],
         "yaxis": "y"
        },
        {
         "hovertemplate": "variable=g_dh<br>baseball_age=%{x}<br>value=%{y}<extra></extra>",
         "legendgroup": "g_dh",
         "line": {
          "color": "grey",
          "dash": "solid"
         },
         "mode": "lines",
         "name": "g_dh",
         "orientation": "v",
         "showlegend": true,
         "type": "scatter",
         "x": [
          19,
          20,
          21,
          22,
          23,
          24,
          25,
          26,
          27,
          28,
          29,
          30,
          31,
          32,
          33,
          34,
          35,
          36,
          37,
          38,
          39,
          40,
          41,
          42,
          43,
          44,
          45,
          47,
          49
         ],
         "xaxis": "x",
         "y": [
          0.0006172839506172839,
          0.030246913580246917,
          0.03888888888888889,
          0.24691358024691357,
          0.3753086419753086,
          0.6327160493827161,
          0.8580246913580247,
          1.1783950617283951,
          1.151851851851852,
          1.1413580246913582,
          1.1080246913580247,
          1.056172839506173,
          1.252469135802469,
          1.212962962962963,
          1.0061728395061729,
          1.2185185185185186,
          1.0345679012345679,
          0.9055555555555554,
          0.825925925925926,
          0.3753086419753086,
          0.42592592592592593,
          0.3419753086419753,
          0.04074074074074074,
          0.06481481481481481,
          0.016666666666666666,
          0.0030864197530864196,
          0.0006172839506172839,
          0,
          0
         ],
         "yaxis": "y"
        }
       ],
       "layout": {
        "legend": {
         "title": {
          "text": "variable"
         },
         "tracegroupgap": 0
        },
        "margin": {
         "t": 60
        },
        "template": {
         "data": {
          "bar": [
           {
            "error_x": {
             "color": "#2a3f5f"
            },
            "error_y": {
             "color": "#2a3f5f"
            },
            "marker": {
             "line": {
              "color": "#E5ECF6",
              "width": 0.5
             }
            },
            "type": "bar"
           }
          ],
          "barpolar": [
           {
            "marker": {
             "line": {
              "color": "#E5ECF6",
              "width": 0.5
             }
            },
            "type": "barpolar"
           }
          ],
          "carpet": [
           {
            "aaxis": {
             "endlinecolor": "#2a3f5f",
             "gridcolor": "white",
             "linecolor": "white",
             "minorgridcolor": "white",
             "startlinecolor": "#2a3f5f"
            },
            "baxis": {
             "endlinecolor": "#2a3f5f",
             "gridcolor": "white",
             "linecolor": "white",
             "minorgridcolor": "white",
             "startlinecolor": "#2a3f5f"
            },
            "type": "carpet"
           }
          ],
          "choropleth": [
           {
            "colorbar": {
             "outlinewidth": 0,
             "ticks": ""
            },
            "type": "choropleth"
           }
          ],
          "contour": [
           {
            "colorbar": {
             "outlinewidth": 0,
             "ticks": ""
            },
            "colorscale": [
             [
              0,
              "#0d0887"
             ],
             [
              0.1111111111111111,
              "#46039f"
             ],
             [
              0.2222222222222222,
              "#7201a8"
             ],
             [
              0.3333333333333333,
              "#9c179e"
             ],
             [
              0.4444444444444444,
              "#bd3786"
             ],
             [
              0.5555555555555556,
              "#d8576b"
             ],
             [
              0.6666666666666666,
              "#ed7953"
             ],
             [
              0.7777777777777778,
              "#fb9f3a"
             ],
             [
              0.8888888888888888,
              "#fdca26"
             ],
             [
              1,
              "#f0f921"
             ]
            ],
            "type": "contour"
           }
          ],
          "contourcarpet": [
           {
            "colorbar": {
             "outlinewidth": 0,
             "ticks": ""
            },
            "type": "contourcarpet"
           }
          ],
          "heatmap": [
           {
            "colorbar": {
             "outlinewidth": 0,
             "ticks": ""
            },
            "colorscale": [
             [
              0,
              "#0d0887"
             ],
             [
              0.1111111111111111,
              "#46039f"
             ],
             [
              0.2222222222222222,
              "#7201a8"
             ],
             [
              0.3333333333333333,
              "#9c179e"
             ],
             [
              0.4444444444444444,
              "#bd3786"
             ],
             [
              0.5555555555555556,
              "#d8576b"
             ],
             [
              0.6666666666666666,
              "#ed7953"
             ],
             [
              0.7777777777777778,
              "#fb9f3a"
             ],
             [
              0.8888888888888888,
              "#fdca26"
             ],
             [
              1,
              "#f0f921"
             ]
            ],
            "type": "heatmap"
           }
          ],
          "heatmapgl": [
           {
            "colorbar": {
             "outlinewidth": 0,
             "ticks": ""
            },
            "colorscale": [
             [
              0,
              "#0d0887"
             ],
             [
              0.1111111111111111,
              "#46039f"
             ],
             [
              0.2222222222222222,
              "#7201a8"
             ],
             [
              0.3333333333333333,
              "#9c179e"
             ],
             [
              0.4444444444444444,
              "#bd3786"
             ],
             [
              0.5555555555555556,
              "#d8576b"
             ],
             [
              0.6666666666666666,
              "#ed7953"
             ],
             [
              0.7777777777777778,
              "#fb9f3a"
             ],
             [
              0.8888888888888888,
              "#fdca26"
             ],
             [
              1,
              "#f0f921"
             ]
            ],
            "type": "heatmapgl"
           }
          ],
          "histogram": [
           {
            "marker": {
             "colorbar": {
              "outlinewidth": 0,
              "ticks": ""
             }
            },
            "type": "histogram"
           }
          ],
          "histogram2d": [
           {
            "colorbar": {
             "outlinewidth": 0,
             "ticks": ""
            },
            "colorscale": [
             [
              0,
              "#0d0887"
             ],
             [
              0.1111111111111111,
              "#46039f"
             ],
             [
              0.2222222222222222,
              "#7201a8"
             ],
             [
              0.3333333333333333,
              "#9c179e"
             ],
             [
              0.4444444444444444,
              "#bd3786"
             ],
             [
              0.5555555555555556,
              "#d8576b"
             ],
             [
              0.6666666666666666,
              "#ed7953"
             ],
             [
              0.7777777777777778,
              "#fb9f3a"
             ],
             [
              0.8888888888888888,
              "#fdca26"
             ],
             [
              1,
              "#f0f921"
             ]
            ],
            "type": "histogram2d"
           }
          ],
          "histogram2dcontour": [
           {
            "colorbar": {
             "outlinewidth": 0,
             "ticks": ""
            },
            "colorscale": [
             [
              0,
              "#0d0887"
             ],
             [
              0.1111111111111111,
              "#46039f"
             ],
             [
              0.2222222222222222,
              "#7201a8"
             ],
             [
              0.3333333333333333,
              "#9c179e"
             ],
             [
              0.4444444444444444,
              "#bd3786"
             ],
             [
              0.5555555555555556,
              "#d8576b"
             ],
             [
              0.6666666666666666,
              "#ed7953"
             ],
             [
              0.7777777777777778,
              "#fb9f3a"
             ],
             [
              0.8888888888888888,
              "#fdca26"
             ],
             [
              1,
              "#f0f921"
             ]
            ],
            "type": "histogram2dcontour"
           }
          ],
          "mesh3d": [
           {
            "colorbar": {
             "outlinewidth": 0,
             "ticks": ""
            },
            "type": "mesh3d"
           }
          ],
          "parcoords": [
           {
            "line": {
             "colorbar": {
              "outlinewidth": 0,
              "ticks": ""
             }
            },
            "type": "parcoords"
           }
          ],
          "pie": [
           {
            "automargin": true,
            "type": "pie"
           }
          ],
          "scatter": [
           {
            "marker": {
             "colorbar": {
              "outlinewidth": 0,
              "ticks": ""
             }
            },
            "type": "scatter"
           }
          ],
          "scatter3d": [
           {
            "line": {
             "colorbar": {
              "outlinewidth": 0,
              "ticks": ""
             }
            },
            "marker": {
             "colorbar": {
              "outlinewidth": 0,
              "ticks": ""
             }
            },
            "type": "scatter3d"
           }
          ],
          "scattercarpet": [
           {
            "marker": {
             "colorbar": {
              "outlinewidth": 0,
              "ticks": ""
             }
            },
            "type": "scattercarpet"
           }
          ],
          "scattergeo": [
           {
            "marker": {
             "colorbar": {
              "outlinewidth": 0,
              "ticks": ""
             }
            },
            "type": "scattergeo"
           }
          ],
          "scattergl": [
           {
            "marker": {
             "colorbar": {
              "outlinewidth": 0,
              "ticks": ""
             }
            },
            "type": "scattergl"
           }
          ],
          "scattermapbox": [
           {
            "marker": {
             "colorbar": {
              "outlinewidth": 0,
              "ticks": ""
             }
            },
            "type": "scattermapbox"
           }
          ],
          "scatterpolar": [
           {
            "marker": {
             "colorbar": {
              "outlinewidth": 0,
              "ticks": ""
             }
            },
            "type": "scatterpolar"
           }
          ],
          "scatterpolargl": [
           {
            "marker": {
             "colorbar": {
              "outlinewidth": 0,
              "ticks": ""
             }
            },
            "type": "scatterpolargl"
           }
          ],
          "scatterternary": [
           {
            "marker": {
             "colorbar": {
              "outlinewidth": 0,
              "ticks": ""
             }
            },
            "type": "scatterternary"
           }
          ],
          "surface": [
           {
            "colorbar": {
             "outlinewidth": 0,
             "ticks": ""
            },
            "colorscale": [
             [
              0,
              "#0d0887"
             ],
             [
              0.1111111111111111,
              "#46039f"
             ],
             [
              0.2222222222222222,
              "#7201a8"
             ],
             [
              0.3333333333333333,
              "#9c179e"
             ],
             [
              0.4444444444444444,
              "#bd3786"
             ],
             [
              0.5555555555555556,
              "#d8576b"
             ],
             [
              0.6666666666666666,
              "#ed7953"
             ],
             [
              0.7777777777777778,
              "#fb9f3a"
             ],
             [
              0.8888888888888888,
              "#fdca26"
             ],
             [
              1,
              "#f0f921"
             ]
            ],
            "type": "surface"
           }
          ],
          "table": [
           {
            "cells": {
             "fill": {
              "color": "#EBF0F8"
             },
             "line": {
              "color": "white"
             }
            },
            "header": {
             "fill": {
              "color": "#C8D4E3"
             },
             "line": {
              "color": "white"
             }
            },
            "type": "table"
           }
          ]
         },
         "layout": {
          "annotationdefaults": {
           "arrowcolor": "#2a3f5f",
           "arrowhead": 0,
           "arrowwidth": 1
          },
          "autotypenumbers": "strict",
          "coloraxis": {
           "colorbar": {
            "outlinewidth": 0,
            "ticks": ""
           }
          },
          "colorscale": {
           "diverging": [
            [
             0,
             "#8e0152"
            ],
            [
             0.1,
             "#c51b7d"
            ],
            [
             0.2,
             "#de77ae"
            ],
            [
             0.3,
             "#f1b6da"
            ],
            [
             0.4,
             "#fde0ef"
            ],
            [
             0.5,
             "#f7f7f7"
            ],
            [
             0.6,
             "#e6f5d0"
            ],
            [
             0.7,
             "#b8e186"
            ],
            [
             0.8,
             "#7fbc41"
            ],
            [
             0.9,
             "#4d9221"
            ],
            [
             1,
             "#276419"
            ]
           ],
           "sequential": [
            [
             0,
             "#0d0887"
            ],
            [
             0.1111111111111111,
             "#46039f"
            ],
            [
             0.2222222222222222,
             "#7201a8"
            ],
            [
             0.3333333333333333,
             "#9c179e"
            ],
            [
             0.4444444444444444,
             "#bd3786"
            ],
            [
             0.5555555555555556,
             "#d8576b"
            ],
            [
             0.6666666666666666,
             "#ed7953"
            ],
            [
             0.7777777777777778,
             "#fb9f3a"
            ],
            [
             0.8888888888888888,
             "#fdca26"
            ],
            [
             1,
             "#f0f921"
            ]
           ],
           "sequentialminus": [
            [
             0,
             "#0d0887"
            ],
            [
             0.1111111111111111,
             "#46039f"
            ],
            [
             0.2222222222222222,
             "#7201a8"
            ],
            [
             0.3333333333333333,
             "#9c179e"
            ],
            [
             0.4444444444444444,
             "#bd3786"
            ],
            [
             0.5555555555555556,
             "#d8576b"
            ],
            [
             0.6666666666666666,
             "#ed7953"
            ],
            [
             0.7777777777777778,
             "#fb9f3a"
            ],
            [
             0.8888888888888888,
             "#fdca26"
            ],
            [
             1,
             "#f0f921"
            ]
           ]
          },
          "colorway": [
           "#636efa",
           "#EF553B",
           "#00cc96",
           "#ab63fa",
           "#FFA15A",
           "#19d3f3",
           "#FF6692",
           "#B6E880",
           "#FF97FF",
           "#FECB52"
          ],
          "font": {
           "color": "#2a3f5f"
          },
          "geo": {
           "bgcolor": "white",
           "lakecolor": "white",
           "landcolor": "#E5ECF6",
           "showlakes": true,
           "showland": true,
           "subunitcolor": "white"
          },
          "hoverlabel": {
           "align": "left"
          },
          "hovermode": "closest",
          "mapbox": {
           "style": "light"
          },
          "paper_bgcolor": "white",
          "plot_bgcolor": "#E5ECF6",
          "polar": {
           "angularaxis": {
            "gridcolor": "white",
            "linecolor": "white",
            "ticks": ""
           },
           "bgcolor": "#E5ECF6",
           "radialaxis": {
            "gridcolor": "white",
            "linecolor": "white",
            "ticks": ""
           }
          },
          "scene": {
           "xaxis": {
            "backgroundcolor": "#E5ECF6",
            "gridcolor": "white",
            "gridwidth": 2,
            "linecolor": "white",
            "showbackground": true,
            "ticks": "",
            "zerolinecolor": "white"
           },
           "yaxis": {
            "backgroundcolor": "#E5ECF6",
            "gridcolor": "white",
            "gridwidth": 2,
            "linecolor": "white",
            "showbackground": true,
            "ticks": "",
            "zerolinecolor": "white"
           },
           "zaxis": {
            "backgroundcolor": "#E5ECF6",
            "gridcolor": "white",
            "gridwidth": 2,
            "linecolor": "white",
            "showbackground": true,
            "ticks": "",
            "zerolinecolor": "white"
           }
          },
          "shapedefaults": {
           "line": {
            "color": "#2a3f5f"
           }
          },
          "ternary": {
           "aaxis": {
            "gridcolor": "white",
            "linecolor": "white",
            "ticks": ""
           },
           "baxis": {
            "gridcolor": "white",
            "linecolor": "white",
            "ticks": ""
           },
           "bgcolor": "#E5ECF6",
           "caxis": {
            "gridcolor": "white",
            "linecolor": "white",
            "ticks": ""
           }
          },
          "title": {
           "x": 0.05
          },
          "xaxis": {
           "automargin": true,
           "gridcolor": "white",
           "linecolor": "white",
           "ticks": "",
           "title": {
            "standoff": 15
           },
           "zerolinecolor": "white",
           "zerolinewidth": 2
          },
          "yaxis": {
           "automargin": true,
           "gridcolor": "white",
           "linecolor": "white",
           "ticks": "",
           "title": {
            "standoff": 15
           },
           "zerolinecolor": "white",
           "zerolinewidth": 2
          }
         }
        },
        "xaxis": {
         "anchor": "y",
         "domain": [
          0,
          1
         ],
         "title": {
          "text": "baseball_age"
         }
        },
        "yaxis": {
         "anchor": "x",
         "domain": [
          0,
          1
         ],
         "title": {
          "text": "value"
         }
        }
       }
      }
     },
     "metadata": {},
     "output_type": "display_data"
    }
   ],
   "source": [
    "# Let's look at playing time by age\n",
    "\n",
    "pt_by_age = yrly_games.query('2010<=year_id<2020').groupby('baseball_age')[pos_cols].sum()/10/162\n",
    "px.line(pt_by_age,color_discrete_map=position_colors)"
   ]
  },
  {
   "cell_type": "code",
   "execution_count": 8,
   "metadata": {},
   "outputs": [
    {
     "data": {
      "text/plain": [
       "g_c           0.000000\n",
       "g_1b          2.655556\n",
       "g_2b         49.255556\n",
       "g_3b          4.033333\n",
       "g_ss          4.944444\n",
       "g_lf          5.444444\n",
       "g_cf          0.433333\n",
       "g_rf          2.233333\n",
       "g_dh          3.177778\n",
       "g_defense    66.644444\n",
       "g_all        75.122222\n",
       "n            90.000000\n",
       "Name: 2b, dtype: float64"
      ]
     },
     "execution_count": 8,
     "metadata": {},
     "output_type": "execute_result"
    }
   ],
   "source": [
    "# Let's look at 28yo second basemen.  What were they doing 5 years later?\n",
    "\n",
    "def get_future_pt(gms: pd.DataFrame, pos: str, start_age: int = 28, comp_age: int = 33, gm_threshold: int = 100) -> pd.Series:\n",
    "    max_year = 2019-(comp_age-start_age)\n",
    "\n",
    "    prime_regulars = gms.query(f'baseball_age==@start_age and g_all>=@gm_threshold and primary==@pos and year_id<=@max_year')['player_id']\n",
    "    avg_gms = gms.query('player_id in @prime_regulars and baseball_age==@comp_age')[pos_all_cols].sum()/len(prime_regulars)\n",
    "    avg_gms['n'] = len(prime_regulars)\n",
    "    return avg_gms.rename(pos)\n",
    "\n",
    "get_future_pt(yrly_games, '2b')"
   ]
  },
  {
   "cell_type": "code",
   "execution_count": 9,
   "metadata": {},
   "outputs": [
    {
     "data": {
      "text/html": [
       "<div>\n",
       "<style scoped>\n",
       "    .dataframe tbody tr th:only-of-type {\n",
       "        vertical-align: middle;\n",
       "    }\n",
       "\n",
       "    .dataframe tbody tr th {\n",
       "        vertical-align: top;\n",
       "    }\n",
       "\n",
       "    .dataframe thead th {\n",
       "        text-align: right;\n",
       "    }\n",
       "</style>\n",
       "<table border=\"1\" class=\"dataframe\">\n",
       "  <thead>\n",
       "    <tr style=\"text-align: right;\">\n",
       "      <th></th>\n",
       "      <th>g_c</th>\n",
       "      <th>g_1b</th>\n",
       "      <th>g_2b</th>\n",
       "      <th>g_3b</th>\n",
       "      <th>g_ss</th>\n",
       "      <th>g_lf</th>\n",
       "      <th>g_cf</th>\n",
       "      <th>g_rf</th>\n",
       "      <th>g_dh</th>\n",
       "      <th>g_defense</th>\n",
       "      <th>g_all</th>\n",
       "      <th>n</th>\n",
       "    </tr>\n",
       "  </thead>\n",
       "  <tbody>\n",
       "    <tr>\n",
       "      <th>c</th>\n",
       "      <td>63.611111</td>\n",
       "      <td>3.125000</td>\n",
       "      <td>0.027778</td>\n",
       "      <td>0.069444</td>\n",
       "      <td>0.000000</td>\n",
       "      <td>0.041667</td>\n",
       "      <td>0.000000</td>\n",
       "      <td>0.250000</td>\n",
       "      <td>1.208333</td>\n",
       "      <td>66.611111</td>\n",
       "      <td>70.875000</td>\n",
       "      <td>72.0</td>\n",
       "    </tr>\n",
       "    <tr>\n",
       "      <th>1b</th>\n",
       "      <td>0.000000</td>\n",
       "      <td>61.847059</td>\n",
       "      <td>0.094118</td>\n",
       "      <td>3.188235</td>\n",
       "      <td>0.000000</td>\n",
       "      <td>3.035294</td>\n",
       "      <td>0.000000</td>\n",
       "      <td>1.447059</td>\n",
       "      <td>6.894118</td>\n",
       "      <td>68.576471</td>\n",
       "      <td>79.505882</td>\n",
       "      <td>85.0</td>\n",
       "    </tr>\n",
       "    <tr>\n",
       "      <th>2b</th>\n",
       "      <td>0.000000</td>\n",
       "      <td>2.655556</td>\n",
       "      <td>49.255556</td>\n",
       "      <td>4.033333</td>\n",
       "      <td>4.944444</td>\n",
       "      <td>5.444444</td>\n",
       "      <td>0.433333</td>\n",
       "      <td>2.233333</td>\n",
       "      <td>3.177778</td>\n",
       "      <td>66.644444</td>\n",
       "      <td>75.122222</td>\n",
       "      <td>90.0</td>\n",
       "    </tr>\n",
       "    <tr>\n",
       "      <th>3b</th>\n",
       "      <td>0.031579</td>\n",
       "      <td>11.178947</td>\n",
       "      <td>3.031579</td>\n",
       "      <td>50.063158</td>\n",
       "      <td>1.926316</td>\n",
       "      <td>2.736842</td>\n",
       "      <td>0.136842</td>\n",
       "      <td>0.715789</td>\n",
       "      <td>4.263158</td>\n",
       "      <td>68.905263</td>\n",
       "      <td>79.294737</td>\n",
       "      <td>95.0</td>\n",
       "    </tr>\n",
       "    <tr>\n",
       "      <th>ss</th>\n",
       "      <td>0.000000</td>\n",
       "      <td>1.313953</td>\n",
       "      <td>10.755814</td>\n",
       "      <td>8.290698</td>\n",
       "      <td>40.500000</td>\n",
       "      <td>2.058140</td>\n",
       "      <td>2.534884</td>\n",
       "      <td>1.813953</td>\n",
       "      <td>1.546512</td>\n",
       "      <td>66.174419</td>\n",
       "      <td>70.558140</td>\n",
       "      <td>86.0</td>\n",
       "    </tr>\n",
       "    <tr>\n",
       "      <th>lf</th>\n",
       "      <td>0.000000</td>\n",
       "      <td>3.040816</td>\n",
       "      <td>0.438776</td>\n",
       "      <td>2.704082</td>\n",
       "      <td>0.214286</td>\n",
       "      <td>30.520408</td>\n",
       "      <td>5.193878</td>\n",
       "      <td>7.602041</td>\n",
       "      <td>7.418367</td>\n",
       "      <td>48.632653</td>\n",
       "      <td>61.142857</td>\n",
       "      <td>98.0</td>\n",
       "    </tr>\n",
       "    <tr>\n",
       "      <th>cf</th>\n",
       "      <td>0.000000</td>\n",
       "      <td>0.825243</td>\n",
       "      <td>0.786408</td>\n",
       "      <td>0.834951</td>\n",
       "      <td>0.592233</td>\n",
       "      <td>16.271845</td>\n",
       "      <td>35.116505</td>\n",
       "      <td>19.000000</td>\n",
       "      <td>3.009709</td>\n",
       "      <td>70.398058</td>\n",
       "      <td>79.572816</td>\n",
       "      <td>103.0</td>\n",
       "    </tr>\n",
       "    <tr>\n",
       "      <th>rf</th>\n",
       "      <td>0.000000</td>\n",
       "      <td>4.297297</td>\n",
       "      <td>1.099099</td>\n",
       "      <td>0.324324</td>\n",
       "      <td>0.000000</td>\n",
       "      <td>9.864865</td>\n",
       "      <td>7.054054</td>\n",
       "      <td>37.126126</td>\n",
       "      <td>6.927928</td>\n",
       "      <td>58.162162</td>\n",
       "      <td>70.477477</td>\n",
       "      <td>111.0</td>\n",
       "    </tr>\n",
       "    <tr>\n",
       "      <th>dh</th>\n",
       "      <td>0.000000</td>\n",
       "      <td>8.461538</td>\n",
       "      <td>0.000000</td>\n",
       "      <td>0.000000</td>\n",
       "      <td>0.000000</td>\n",
       "      <td>1.769231</td>\n",
       "      <td>0.000000</td>\n",
       "      <td>4.923077</td>\n",
       "      <td>35.000000</td>\n",
       "      <td>14.384615</td>\n",
       "      <td>54.230769</td>\n",
       "      <td>13.0</td>\n",
       "    </tr>\n",
       "  </tbody>\n",
       "</table>\n",
       "</div>"
      ],
      "text/plain": [
       "          g_c       g_1b       g_2b       g_3b       g_ss       g_lf  \\\n",
       "c   63.611111   3.125000   0.027778   0.069444   0.000000   0.041667   \n",
       "1b   0.000000  61.847059   0.094118   3.188235   0.000000   3.035294   \n",
       "2b   0.000000   2.655556  49.255556   4.033333   4.944444   5.444444   \n",
       "3b   0.031579  11.178947   3.031579  50.063158   1.926316   2.736842   \n",
       "ss   0.000000   1.313953  10.755814   8.290698  40.500000   2.058140   \n",
       "lf   0.000000   3.040816   0.438776   2.704082   0.214286  30.520408   \n",
       "cf   0.000000   0.825243   0.786408   0.834951   0.592233  16.271845   \n",
       "rf   0.000000   4.297297   1.099099   0.324324   0.000000   9.864865   \n",
       "dh   0.000000   8.461538   0.000000   0.000000   0.000000   1.769231   \n",
       "\n",
       "         g_cf       g_rf       g_dh  g_defense      g_all      n  \n",
       "c    0.000000   0.250000   1.208333  66.611111  70.875000   72.0  \n",
       "1b   0.000000   1.447059   6.894118  68.576471  79.505882   85.0  \n",
       "2b   0.433333   2.233333   3.177778  66.644444  75.122222   90.0  \n",
       "3b   0.136842   0.715789   4.263158  68.905263  79.294737   95.0  \n",
       "ss   2.534884   1.813953   1.546512  66.174419  70.558140   86.0  \n",
       "lf   5.193878   7.602041   7.418367  48.632653  61.142857   98.0  \n",
       "cf  35.116505  19.000000   3.009709  70.398058  79.572816  103.0  \n",
       "rf   7.054054  37.126126   6.927928  58.162162  70.477477  111.0  \n",
       "dh   0.000000   4.923077  35.000000  14.384615  54.230769   13.0  "
      ]
     },
     "execution_count": 9,
     "metadata": {},
     "output_type": "execute_result"
    }
   ],
   "source": [
    "future = pd.concat([get_future_pt(yrly_games, pos) for pos in posns], axis=1).T\n",
    "future"
   ]
  },
  {
   "cell_type": "code",
   "execution_count": 10,
   "metadata": {},
   "outputs": [
    {
     "data": {
      "text/html": [
       "<div>\n",
       "<style scoped>\n",
       "    .dataframe tbody tr th:only-of-type {\n",
       "        vertical-align: middle;\n",
       "    }\n",
       "\n",
       "    .dataframe tbody tr th {\n",
       "        vertical-align: top;\n",
       "    }\n",
       "\n",
       "    .dataframe thead th {\n",
       "        text-align: right;\n",
       "    }\n",
       "</style>\n",
       "<table border=\"1\" class=\"dataframe\">\n",
       "  <thead>\n",
       "    <tr style=\"text-align: right;\">\n",
       "      <th></th>\n",
       "      <th>g_c</th>\n",
       "      <th>g_1b</th>\n",
       "      <th>g_2b</th>\n",
       "      <th>g_3b</th>\n",
       "      <th>g_ss</th>\n",
       "      <th>g_lf</th>\n",
       "      <th>g_cf</th>\n",
       "      <th>g_rf</th>\n",
       "      <th>g_dh</th>\n",
       "      <th>g_defense</th>\n",
       "      <th>g_all</th>\n",
       "      <th>n</th>\n",
       "    </tr>\n",
       "  </thead>\n",
       "  <tbody>\n",
       "    <tr>\n",
       "      <th>c</th>\n",
       "      <td>105.0</td>\n",
       "      <td>1.3</td>\n",
       "      <td>0.0</td>\n",
       "      <td>0.0</td>\n",
       "      <td>0.0</td>\n",
       "      <td>0.0</td>\n",
       "      <td>0.0</td>\n",
       "      <td>0.0</td>\n",
       "      <td>2.6</td>\n",
       "      <td>105.4</td>\n",
       "      <td>110.8</td>\n",
       "      <td>20.0</td>\n",
       "    </tr>\n",
       "    <tr>\n",
       "      <th>1b</th>\n",
       "      <td>0.0</td>\n",
       "      <td>101.1</td>\n",
       "      <td>5.9</td>\n",
       "      <td>0.7</td>\n",
       "      <td>0.0</td>\n",
       "      <td>1.5</td>\n",
       "      <td>0.0</td>\n",
       "      <td>0.1</td>\n",
       "      <td>7.7</td>\n",
       "      <td>108.2</td>\n",
       "      <td>120.4</td>\n",
       "      <td>25.0</td>\n",
       "    </tr>\n",
       "    <tr>\n",
       "      <th>2b</th>\n",
       "      <td>0.0</td>\n",
       "      <td>4.0</td>\n",
       "      <td>72.8</td>\n",
       "      <td>11.8</td>\n",
       "      <td>6.7</td>\n",
       "      <td>5.1</td>\n",
       "      <td>4.5</td>\n",
       "      <td>0.6</td>\n",
       "      <td>1.2</td>\n",
       "      <td>103.0</td>\n",
       "      <td>109.9</td>\n",
       "      <td>34.0</td>\n",
       "    </tr>\n",
       "    <tr>\n",
       "      <th>3b</th>\n",
       "      <td>0.0</td>\n",
       "      <td>12.0</td>\n",
       "      <td>2.9</td>\n",
       "      <td>70.9</td>\n",
       "      <td>0.6</td>\n",
       "      <td>5.4</td>\n",
       "      <td>1.4</td>\n",
       "      <td>5.5</td>\n",
       "      <td>5.2</td>\n",
       "      <td>96.2</td>\n",
       "      <td>105.2</td>\n",
       "      <td>36.0</td>\n",
       "    </tr>\n",
       "    <tr>\n",
       "      <th>ss</th>\n",
       "      <td>0.0</td>\n",
       "      <td>0.0</td>\n",
       "      <td>12.0</td>\n",
       "      <td>4.9</td>\n",
       "      <td>100.5</td>\n",
       "      <td>0.5</td>\n",
       "      <td>0.2</td>\n",
       "      <td>0.2</td>\n",
       "      <td>1.2</td>\n",
       "      <td>117.5</td>\n",
       "      <td>120.6</td>\n",
       "      <td>34.0</td>\n",
       "    </tr>\n",
       "    <tr>\n",
       "      <th>lf</th>\n",
       "      <td>0.0</td>\n",
       "      <td>0.1</td>\n",
       "      <td>3.4</td>\n",
       "      <td>0.0</td>\n",
       "      <td>0.4</td>\n",
       "      <td>52.0</td>\n",
       "      <td>9.8</td>\n",
       "      <td>26.9</td>\n",
       "      <td>6.2</td>\n",
       "      <td>90.6</td>\n",
       "      <td>100.4</td>\n",
       "      <td>25.0</td>\n",
       "    </tr>\n",
       "    <tr>\n",
       "      <th>cf</th>\n",
       "      <td>0.0</td>\n",
       "      <td>0.5</td>\n",
       "      <td>0.7</td>\n",
       "      <td>0.1</td>\n",
       "      <td>0.3</td>\n",
       "      <td>12.4</td>\n",
       "      <td>85.0</td>\n",
       "      <td>15.2</td>\n",
       "      <td>1.2</td>\n",
       "      <td>112.8</td>\n",
       "      <td>118.9</td>\n",
       "      <td>42.0</td>\n",
       "    </tr>\n",
       "    <tr>\n",
       "      <th>rf</th>\n",
       "      <td>0.0</td>\n",
       "      <td>4.3</td>\n",
       "      <td>0.0</td>\n",
       "      <td>0.0</td>\n",
       "      <td>0.0</td>\n",
       "      <td>22.6</td>\n",
       "      <td>30.0</td>\n",
       "      <td>50.5</td>\n",
       "      <td>0.9</td>\n",
       "      <td>103.3</td>\n",
       "      <td>107.8</td>\n",
       "      <td>26.0</td>\n",
       "    </tr>\n",
       "    <tr>\n",
       "      <th>dh</th>\n",
       "      <td>0.0</td>\n",
       "      <td>22.5</td>\n",
       "      <td>0.0</td>\n",
       "      <td>0.0</td>\n",
       "      <td>0.0</td>\n",
       "      <td>4.5</td>\n",
       "      <td>0.0</td>\n",
       "      <td>10.5</td>\n",
       "      <td>56.0</td>\n",
       "      <td>37.5</td>\n",
       "      <td>102.5</td>\n",
       "      <td>2.0</td>\n",
       "    </tr>\n",
       "  </tbody>\n",
       "</table>\n",
       "</div>"
      ],
      "text/plain": [
       "      g_c   g_1b  g_2b  g_3b   g_ss  g_lf  g_cf  g_rf  g_dh  g_defense  g_all  \\\n",
       "c   105.0    1.3   0.0   0.0    0.0   0.0   0.0   0.0   2.6      105.4  110.8   \n",
       "1b    0.0  101.1   5.9   0.7    0.0   1.5   0.0   0.1   7.7      108.2  120.4   \n",
       "2b    0.0    4.0  72.8  11.8    6.7   5.1   4.5   0.6   1.2      103.0  109.9   \n",
       "3b    0.0   12.0   2.9  70.9    0.6   5.4   1.4   5.5   5.2       96.2  105.2   \n",
       "ss    0.0    0.0  12.0   4.9  100.5   0.5   0.2   0.2   1.2      117.5  120.6   \n",
       "lf    0.0    0.1   3.4   0.0    0.4  52.0   9.8  26.9   6.2       90.6  100.4   \n",
       "cf    0.0    0.5   0.7   0.1    0.3  12.4  85.0  15.2   1.2      112.8  118.9   \n",
       "rf    0.0    4.3   0.0   0.0    0.0  22.6  30.0  50.5   0.9      103.3  107.8   \n",
       "dh    0.0   22.5   0.0   0.0    0.0   4.5   0.0  10.5  56.0       37.5  102.5   \n",
       "\n",
       "       n  \n",
       "c   20.0  \n",
       "1b  25.0  \n",
       "2b  34.0  \n",
       "3b  36.0  \n",
       "ss  34.0  \n",
       "lf  25.0  \n",
       "cf  42.0  \n",
       "rf  26.0  \n",
       "dh   2.0  "
      ]
     },
     "execution_count": 10,
     "metadata": {},
     "output_type": "execute_result"
    }
   ],
   "source": [
    "# try it again for 2000-current\n",
    "def get_pt_matrix(start_age=24, comp_age=27):\n",
    "    future = pd.concat([get_future_pt(yrly_games.query('year_id>=2000'), pos, start_age=start_age, comp_age=comp_age) for pos in posns], axis=1).T\n",
    "    return future.apply(lambda x: round(x, 1))\n",
    "\n",
    "get_pt_matrix(24, 27)"
   ]
  },
  {
   "cell_type": "code",
   "execution_count": 11,
   "metadata": {},
   "outputs": [
    {
     "data": {
      "text/html": [
       "<div>\n",
       "<style scoped>\n",
       "    .dataframe tbody tr th:only-of-type {\n",
       "        vertical-align: middle;\n",
       "    }\n",
       "\n",
       "    .dataframe tbody tr th {\n",
       "        vertical-align: top;\n",
       "    }\n",
       "\n",
       "    .dataframe thead th {\n",
       "        text-align: right;\n",
       "    }\n",
       "</style>\n",
       "<table border=\"1\" class=\"dataframe\">\n",
       "  <thead>\n",
       "    <tr style=\"text-align: right;\">\n",
       "      <th></th>\n",
       "      <th>g_c</th>\n",
       "      <th>g_1b</th>\n",
       "      <th>g_2b</th>\n",
       "      <th>g_3b</th>\n",
       "      <th>g_ss</th>\n",
       "      <th>g_lf</th>\n",
       "      <th>g_cf</th>\n",
       "      <th>g_rf</th>\n",
       "      <th>g_dh</th>\n",
       "      <th>g_defense</th>\n",
       "      <th>g_all</th>\n",
       "      <th>n</th>\n",
       "    </tr>\n",
       "  </thead>\n",
       "  <tbody>\n",
       "    <tr>\n",
       "      <th>c</th>\n",
       "      <td>84.2</td>\n",
       "      <td>8.0</td>\n",
       "      <td>0.0</td>\n",
       "      <td>0.1</td>\n",
       "      <td>0.0</td>\n",
       "      <td>0.4</td>\n",
       "      <td>0.0</td>\n",
       "      <td>0.2</td>\n",
       "      <td>7.6</td>\n",
       "      <td>91.5</td>\n",
       "      <td>104.2</td>\n",
       "      <td>37.0</td>\n",
       "    </tr>\n",
       "    <tr>\n",
       "      <th>1b</th>\n",
       "      <td>0.0</td>\n",
       "      <td>76.1</td>\n",
       "      <td>0.1</td>\n",
       "      <td>5.8</td>\n",
       "      <td>0.0</td>\n",
       "      <td>2.8</td>\n",
       "      <td>0.0</td>\n",
       "      <td>8.7</td>\n",
       "      <td>7.0</td>\n",
       "      <td>92.0</td>\n",
       "      <td>103.2</td>\n",
       "      <td>45.0</td>\n",
       "    </tr>\n",
       "    <tr>\n",
       "      <th>2b</th>\n",
       "      <td>0.0</td>\n",
       "      <td>2.8</td>\n",
       "      <td>62.7</td>\n",
       "      <td>9.7</td>\n",
       "      <td>6.6</td>\n",
       "      <td>4.5</td>\n",
       "      <td>1.2</td>\n",
       "      <td>0.8</td>\n",
       "      <td>0.8</td>\n",
       "      <td>86.0</td>\n",
       "      <td>92.4</td>\n",
       "      <td>59.0</td>\n",
       "    </tr>\n",
       "    <tr>\n",
       "      <th>3b</th>\n",
       "      <td>0.0</td>\n",
       "      <td>12.2</td>\n",
       "      <td>7.4</td>\n",
       "      <td>62.4</td>\n",
       "      <td>4.4</td>\n",
       "      <td>0.5</td>\n",
       "      <td>0.0</td>\n",
       "      <td>3.2</td>\n",
       "      <td>4.1</td>\n",
       "      <td>88.1</td>\n",
       "      <td>96.0</td>\n",
       "      <td>42.0</td>\n",
       "    </tr>\n",
       "    <tr>\n",
       "      <th>ss</th>\n",
       "      <td>0.0</td>\n",
       "      <td>0.4</td>\n",
       "      <td>12.5</td>\n",
       "      <td>10.6</td>\n",
       "      <td>89.0</td>\n",
       "      <td>0.8</td>\n",
       "      <td>2.8</td>\n",
       "      <td>0.2</td>\n",
       "      <td>0.8</td>\n",
       "      <td>114.2</td>\n",
       "      <td>118.7</td>\n",
       "      <td>47.0</td>\n",
       "    </tr>\n",
       "    <tr>\n",
       "      <th>lf</th>\n",
       "      <td>0.0</td>\n",
       "      <td>9.4</td>\n",
       "      <td>0.4</td>\n",
       "      <td>2.3</td>\n",
       "      <td>0.0</td>\n",
       "      <td>54.7</td>\n",
       "      <td>6.5</td>\n",
       "      <td>13.2</td>\n",
       "      <td>8.9</td>\n",
       "      <td>84.6</td>\n",
       "      <td>99.8</td>\n",
       "      <td>48.0</td>\n",
       "    </tr>\n",
       "    <tr>\n",
       "      <th>cf</th>\n",
       "      <td>0.0</td>\n",
       "      <td>2.6</td>\n",
       "      <td>0.9</td>\n",
       "      <td>0.1</td>\n",
       "      <td>0.1</td>\n",
       "      <td>18.8</td>\n",
       "      <td>58.8</td>\n",
       "      <td>11.5</td>\n",
       "      <td>1.7</td>\n",
       "      <td>90.1</td>\n",
       "      <td>96.2</td>\n",
       "      <td>58.0</td>\n",
       "    </tr>\n",
       "    <tr>\n",
       "      <th>rf</th>\n",
       "      <td>0.0</td>\n",
       "      <td>4.4</td>\n",
       "      <td>1.4</td>\n",
       "      <td>0.1</td>\n",
       "      <td>0.2</td>\n",
       "      <td>13.7</td>\n",
       "      <td>21.0</td>\n",
       "      <td>62.2</td>\n",
       "      <td>4.6</td>\n",
       "      <td>98.8</td>\n",
       "      <td>107.4</td>\n",
       "      <td>42.0</td>\n",
       "    </tr>\n",
       "    <tr>\n",
       "      <th>dh</th>\n",
       "      <td>1.3</td>\n",
       "      <td>22.2</td>\n",
       "      <td>0.0</td>\n",
       "      <td>5.2</td>\n",
       "      <td>0.0</td>\n",
       "      <td>12.7</td>\n",
       "      <td>0.0</td>\n",
       "      <td>1.1</td>\n",
       "      <td>34.0</td>\n",
       "      <td>40.2</td>\n",
       "      <td>80.0</td>\n",
       "      <td>10.0</td>\n",
       "    </tr>\n",
       "  </tbody>\n",
       "</table>\n",
       "</div>"
      ],
      "text/plain": [
       "     g_c  g_1b  g_2b  g_3b  g_ss  g_lf  g_cf  g_rf  g_dh  g_defense  g_all  \\\n",
       "c   84.2   8.0   0.0   0.1   0.0   0.4   0.0   0.2   7.6       91.5  104.2   \n",
       "1b   0.0  76.1   0.1   5.8   0.0   2.8   0.0   8.7   7.0       92.0  103.2   \n",
       "2b   0.0   2.8  62.7   9.7   6.6   4.5   1.2   0.8   0.8       86.0   92.4   \n",
       "3b   0.0  12.2   7.4  62.4   4.4   0.5   0.0   3.2   4.1       88.1   96.0   \n",
       "ss   0.0   0.4  12.5  10.6  89.0   0.8   2.8   0.2   0.8      114.2  118.7   \n",
       "lf   0.0   9.4   0.4   2.3   0.0  54.7   6.5  13.2   8.9       84.6   99.8   \n",
       "cf   0.0   2.6   0.9   0.1   0.1  18.8  58.8  11.5   1.7       90.1   96.2   \n",
       "rf   0.0   4.4   1.4   0.1   0.2  13.7  21.0  62.2   4.6       98.8  107.4   \n",
       "dh   1.3  22.2   0.0   5.2   0.0  12.7   0.0   1.1  34.0       40.2   80.0   \n",
       "\n",
       "       n  \n",
       "c   37.0  \n",
       "1b  45.0  \n",
       "2b  59.0  \n",
       "3b  42.0  \n",
       "ss  47.0  \n",
       "lf  48.0  \n",
       "cf  58.0  \n",
       "rf  42.0  \n",
       "dh  10.0  "
      ]
     },
     "execution_count": 11,
     "metadata": {},
     "output_type": "execute_result"
    }
   ],
   "source": [
    "get_pt_matrix(27, 30)"
   ]
  },
  {
   "cell_type": "code",
   "execution_count": 12,
   "metadata": {},
   "outputs": [
    {
     "name": "stdout",
     "output_type": "stream",
     "text": [
      "       g_c  g_1b  g_2b  g_3b  g_ss  g_lf  g_cf  g_rf   g_dh\n",
      "25306    0   119     0     0     0     0     0     0   14.0\n",
      "43268    0   157     0     0     0     0     0     0    5.0\n",
      "43163    0   157     0     0     0     0     0     0    2.0\n",
      "42704    0   120     0     0     0    14     0     0    0.0\n",
      "42415    0    79     0     0     0     0     0     0    0.0\n",
      "41792    0   105     0    16     0     0     0     0    0.0\n",
      "38941    0     1     0     0     0     0     0     1    0.0\n",
      "38940    0     1     0     0     0     0     0     1    0.0\n",
      "38778    0   160     0     0     0     0     0     0    0.0\n",
      "37779    0     7     0     0     0     0     0     0  150.0\n",
      "36814    0   150     0     0     0     0     0     0    1.0\n",
      "37666    0    36     0     0     0     0     0     0    0.0\n",
      "35207    0   159     0     0     0     0     0     0    3.0\n",
      "34228    0   151     0     0     0     0     0     0    0.0\n",
      "34206    0   116     0     0     0     0     0     0    3.0\n",
      "33929    0   156     0     0     0     0     0     0    2.0\n",
      "33286    0    74     0     0     0     0     0     0    4.0\n",
      "33285    0    54     0     0     0     0     0     0    0.0\n",
      "33072    0   155     0     0     0     0     0     0    8.0\n",
      "30731    0   154     0     0     0     0     0     0    0.0\n",
      "25350    0   155     0     0     0     0     0     0    0.0\n",
      "35426    0     6     0     0     0    23     0     0    0.0\n",
      "43988    0    86     0     0     0     0     0     0    0.0\n",
      "43728    0   157    10     1     0     1     0     0    0.0\n",
      "39642    0    12   138     0     0     0     0     0    0.0\n"
     ]
    }
   ],
   "source": [
    "# as an aside\n",
    "# Wait, how do we get 1b->2b move of 5.9 games at age 24->27?  Did someone move from 1B to 2B?  Let's find out.\n",
    "\n",
    "def temp_get_future_pt(gms: pd.DataFrame, pos: str, start_age: int = 28, comp_age: int = 33, gm_threshold: int = 100) -> pd.Series:\n",
    "    max_year = 2019-(comp_age-start_age)\n",
    "\n",
    "    prime_regulars = gms.query(f'baseball_age==@start_age and g_all>=@gm_threshold and primary==@pos and year_id<=@max_year')['player_id']\n",
    "    print(gms.query('player_id in @prime_regulars and baseball_age==@comp_age')[[f'g_{pos}' for pos in posns]].sort_values('g_2b'))\n",
    "\n",
    "temp_get_future_pt(yrly_games.query('year_id>=2000'), '1b', start_age=24, comp_age=27)"
   ]
  },
  {
   "cell_type": "code",
   "execution_count": 13,
   "metadata": {},
   "outputs": [
    {
     "data": {
      "text/plain": [
       "player_id                 murphda08\n",
       "year_id                        2012\n",
       "team_id                         NYN\n",
       "lg_id                            NL\n",
       "g_all                           156\n",
       "gs                            136.0\n",
       "g_batting                       156\n",
       "g_defense                     144.0\n",
       "g_p                               0\n",
       "g_c                               0\n",
       "g_1b                             12\n",
       "g_2b                            138\n",
       "g_3b                              0\n",
       "g_ss                              0\n",
       "g_lf                              0\n",
       "g_cf                              0\n",
       "g_rf                              0\n",
       "g_of                              0\n",
       "g_dh                            0.0\n",
       "g_ph                           18.0\n",
       "g_pr                            0.0\n",
       "birthdate       1985-04-01 00:00:00\n",
       "baseball_age                     27\n",
       "primary                          2b\n",
       "Name: 39642, dtype: object"
      ]
     },
     "execution_count": 13,
     "metadata": {},
     "output_type": "execute_result"
    }
   ],
   "source": [
    "yrly_games.loc[39642]"
   ]
  },
  {
   "cell_type": "code",
   "execution_count": 14,
   "metadata": {},
   "outputs": [
    {
     "data": {
      "text/html": [
       "<div>\n",
       "<style scoped>\n",
       "    .dataframe tbody tr th:only-of-type {\n",
       "        vertical-align: middle;\n",
       "    }\n",
       "\n",
       "    .dataframe tbody tr th {\n",
       "        vertical-align: top;\n",
       "    }\n",
       "\n",
       "    .dataframe thead th {\n",
       "        text-align: right;\n",
       "    }\n",
       "</style>\n",
       "<table border=\"1\" class=\"dataframe\">\n",
       "  <thead>\n",
       "    <tr style=\"text-align: right;\">\n",
       "      <th></th>\n",
       "      <th>24-&gt;27</th>\n",
       "      <th>25-&gt;28</th>\n",
       "      <th>26-&gt;29</th>\n",
       "      <th>27-&gt;30</th>\n",
       "      <th>28-&gt;31</th>\n",
       "      <th>29-&gt;32</th>\n",
       "      <th>30-&gt;33</th>\n",
       "      <th>31-&gt;34</th>\n",
       "      <th>32-&gt;35</th>\n",
       "      <th>33-&gt;36</th>\n",
       "      <th>34-&gt;37</th>\n",
       "      <th>35-&gt;38</th>\n",
       "    </tr>\n",
       "  </thead>\n",
       "  <tbody>\n",
       "    <tr>\n",
       "      <th>c</th>\n",
       "      <td>110.8</td>\n",
       "      <td>98.6</td>\n",
       "      <td>97.9</td>\n",
       "      <td>104.2</td>\n",
       "      <td>94.4</td>\n",
       "      <td>96.9</td>\n",
       "      <td>91.0</td>\n",
       "      <td>80.9</td>\n",
       "      <td>81.8</td>\n",
       "      <td>68.2</td>\n",
       "      <td>47.6</td>\n",
       "      <td>43.2</td>\n",
       "    </tr>\n",
       "    <tr>\n",
       "      <th>1b</th>\n",
       "      <td>120.4</td>\n",
       "      <td>113.3</td>\n",
       "      <td>100.8</td>\n",
       "      <td>103.2</td>\n",
       "      <td>111.2</td>\n",
       "      <td>99.0</td>\n",
       "      <td>90.8</td>\n",
       "      <td>88.5</td>\n",
       "      <td>77.8</td>\n",
       "      <td>56.9</td>\n",
       "      <td>40.3</td>\n",
       "      <td>43.7</td>\n",
       "    </tr>\n",
       "    <tr>\n",
       "      <th>2b</th>\n",
       "      <td>109.9</td>\n",
       "      <td>111.4</td>\n",
       "      <td>105.7</td>\n",
       "      <td>92.4</td>\n",
       "      <td>102.5</td>\n",
       "      <td>98.7</td>\n",
       "      <td>88.2</td>\n",
       "      <td>77.8</td>\n",
       "      <td>72.9</td>\n",
       "      <td>70.4</td>\n",
       "      <td>54.1</td>\n",
       "      <td>50.6</td>\n",
       "    </tr>\n",
       "    <tr>\n",
       "      <th>3b</th>\n",
       "      <td>105.2</td>\n",
       "      <td>109.1</td>\n",
       "      <td>96.7</td>\n",
       "      <td>96.0</td>\n",
       "      <td>92.5</td>\n",
       "      <td>87.6</td>\n",
       "      <td>85.0</td>\n",
       "      <td>59.3</td>\n",
       "      <td>70.5</td>\n",
       "      <td>58.4</td>\n",
       "      <td>54.5</td>\n",
       "      <td>34.3</td>\n",
       "    </tr>\n",
       "    <tr>\n",
       "      <th>ss</th>\n",
       "      <td>120.6</td>\n",
       "      <td>123.0</td>\n",
       "      <td>106.3</td>\n",
       "      <td>118.7</td>\n",
       "      <td>100.1</td>\n",
       "      <td>100.3</td>\n",
       "      <td>94.5</td>\n",
       "      <td>81.5</td>\n",
       "      <td>65.2</td>\n",
       "      <td>91.7</td>\n",
       "      <td>64.7</td>\n",
       "      <td>40.5</td>\n",
       "    </tr>\n",
       "    <tr>\n",
       "      <th>lf</th>\n",
       "      <td>100.4</td>\n",
       "      <td>91.2</td>\n",
       "      <td>94.1</td>\n",
       "      <td>99.8</td>\n",
       "      <td>83.0</td>\n",
       "      <td>81.8</td>\n",
       "      <td>95.0</td>\n",
       "      <td>77.0</td>\n",
       "      <td>67.0</td>\n",
       "      <td>50.8</td>\n",
       "      <td>50.3</td>\n",
       "      <td>51.5</td>\n",
       "    </tr>\n",
       "    <tr>\n",
       "      <th>cf</th>\n",
       "      <td>118.9</td>\n",
       "      <td>101.7</td>\n",
       "      <td>97.6</td>\n",
       "      <td>96.2</td>\n",
       "      <td>103.1</td>\n",
       "      <td>90.7</td>\n",
       "      <td>85.8</td>\n",
       "      <td>71.4</td>\n",
       "      <td>60.9</td>\n",
       "      <td>93.2</td>\n",
       "      <td>69.9</td>\n",
       "      <td>69.0</td>\n",
       "    </tr>\n",
       "    <tr>\n",
       "      <th>rf</th>\n",
       "      <td>107.8</td>\n",
       "      <td>83.0</td>\n",
       "      <td>105.3</td>\n",
       "      <td>107.4</td>\n",
       "      <td>90.2</td>\n",
       "      <td>92.5</td>\n",
       "      <td>90.4</td>\n",
       "      <td>94.1</td>\n",
       "      <td>68.0</td>\n",
       "      <td>61.4</td>\n",
       "      <td>74.0</td>\n",
       "      <td>64.0</td>\n",
       "    </tr>\n",
       "    <tr>\n",
       "      <th>dh</th>\n",
       "      <td>102.5</td>\n",
       "      <td>97.7</td>\n",
       "      <td>98.8</td>\n",
       "      <td>80.0</td>\n",
       "      <td>82.1</td>\n",
       "      <td>68.5</td>\n",
       "      <td>101.4</td>\n",
       "      <td>72.7</td>\n",
       "      <td>82.7</td>\n",
       "      <td>93.0</td>\n",
       "      <td>47.7</td>\n",
       "      <td>57.1</td>\n",
       "    </tr>\n",
       "  </tbody>\n",
       "</table>\n",
       "</div>"
      ],
      "text/plain": [
       "    24->27  25->28  26->29  27->30  28->31  29->32  30->33  31->34  32->35  \\\n",
       "c    110.8    98.6    97.9   104.2    94.4    96.9    91.0    80.9    81.8   \n",
       "1b   120.4   113.3   100.8   103.2   111.2    99.0    90.8    88.5    77.8   \n",
       "2b   109.9   111.4   105.7    92.4   102.5    98.7    88.2    77.8    72.9   \n",
       "3b   105.2   109.1    96.7    96.0    92.5    87.6    85.0    59.3    70.5   \n",
       "ss   120.6   123.0   106.3   118.7   100.1   100.3    94.5    81.5    65.2   \n",
       "lf   100.4    91.2    94.1    99.8    83.0    81.8    95.0    77.0    67.0   \n",
       "cf   118.9   101.7    97.6    96.2   103.1    90.7    85.8    71.4    60.9   \n",
       "rf   107.8    83.0   105.3   107.4    90.2    92.5    90.4    94.1    68.0   \n",
       "dh   102.5    97.7    98.8    80.0    82.1    68.5   101.4    72.7    82.7   \n",
       "\n",
       "    33->36  34->37  35->38  \n",
       "c     68.2    47.6    43.2  \n",
       "1b    56.9    40.3    43.7  \n",
       "2b    70.4    54.1    50.6  \n",
       "3b    58.4    54.5    34.3  \n",
       "ss    91.7    64.7    40.5  \n",
       "lf    50.8    50.3    51.5  \n",
       "cf    93.2    69.9    69.0  \n",
       "rf    61.4    74.0    64.0  \n",
       "dh    93.0    47.7    57.1  "
      ]
     },
     "execution_count": 14,
     "metadata": {},
     "output_type": "execute_result"
    }
   ],
   "source": [
    "# OK, let's do these 3-year diffs for each start_age, and for now look at g_all as the output variable\n",
    "\n",
    "trends = pd.concat((get_pt_matrix(start_age, start_age+3)['g_all'].rename(f'{start_age}->{start_age+3}') for start_age in range(24, 36)), axis=1)\n",
    "trends\n"
   ]
  },
  {
   "cell_type": "code",
   "execution_count": 15,
   "metadata": {},
   "outputs": [
    {
     "data": {
      "application/vnd.plotly.v1+json": {
       "config": {
        "plotlyServerURL": "https://plot.ly"
       },
       "data": [
        {
         "hovertemplate": "variable=c<br>index=%{x}<br>value=%{y}<extra></extra>",
         "legendgroup": "c",
         "line": {
          "color": "black",
          "dash": "solid"
         },
         "mode": "lines",
         "name": "c",
         "orientation": "v",
         "showlegend": true,
         "type": "scatter",
         "x": [
          "26->29",
          "27->30",
          "28->31",
          "29->32",
          "30->33",
          "31->34",
          "32->35",
          "33->36"
         ],
         "xaxis": "x",
         "y": [
          101.17999999999999,
          98.4,
          96.88000000000001,
          93.47999999999999,
          89,
          83.76000000000002,
          73.9,
          64.34
         ],
         "yaxis": "y"
        },
        {
         "hovertemplate": "variable=1b<br>index=%{x}<br>value=%{y}<extra></extra>",
         "legendgroup": "1b",
         "line": {
          "color": "darkkhaki",
          "dash": "solid"
         },
         "mode": "lines",
         "name": "1b",
         "orientation": "v",
         "showlegend": true,
         "type": "scatter",
         "x": [
          "26->29",
          "27->30",
          "28->31",
          "29->32",
          "30->33",
          "31->34",
          "32->35",
          "33->36"
         ],
         "xaxis": "x",
         "y": [
          109.78,
          105.5,
          101,
          98.53999999999999,
          93.46000000000001,
          82.6,
          70.86,
          61.44
         ],
         "yaxis": "y"
        },
        {
         "hovertemplate": "variable=2b<br>index=%{x}<br>value=%{y}<extra></extra>",
         "legendgroup": "2b",
         "line": {
          "color": "khaki",
          "dash": "solid"
         },
         "mode": "lines",
         "name": "2b",
         "orientation": "v",
         "showlegend": true,
         "type": "scatter",
         "x": [
          "26->29",
          "27->30",
          "28->31",
          "29->32",
          "30->33",
          "31->34",
          "32->35",
          "33->36"
         ],
         "xaxis": "x",
         "y": [
          104.38,
          102.14000000000001,
          97.5,
          91.92,
          88.02000000000001,
          81.6,
          72.68,
          65.16
         ],
         "yaxis": "y"
        },
        {
         "hovertemplate": "variable=3b<br>index=%{x}<br>value=%{y}<extra></extra>",
         "legendgroup": "3b",
         "line": {
          "color": "brown",
          "dash": "solid"
         },
         "mode": "lines",
         "name": "3b",
         "orientation": "v",
         "showlegend": true,
         "type": "scatter",
         "x": [
          "26->29",
          "27->30",
          "28->31",
          "29->32",
          "30->33",
          "31->34",
          "32->35",
          "33->36"
         ],
         "xaxis": "x",
         "y": [
          99.9,
          96.38,
          91.55999999999999,
          84.08,
          78.97999999999999,
          72.16,
          65.54,
          55.4
         ],
         "yaxis": "y"
        },
        {
         "hovertemplate": "variable=ss<br>index=%{x}<br>value=%{y}<extra></extra>",
         "legendgroup": "ss",
         "line": {
          "color": "tan",
          "dash": "solid"
         },
         "mode": "lines",
         "name": "ss",
         "orientation": "v",
         "showlegend": true,
         "type": "scatter",
         "x": [
          "26->29",
          "27->30",
          "28->31",
          "29->32",
          "30->33",
          "31->34",
          "32->35",
          "33->36"
         ],
         "xaxis": "x",
         "y": [
          113.74000000000001,
          109.67999999999999,
          103.97999999999999,
          99.02000000000001,
          88.32,
          86.64,
          79.52000000000001,
          68.72
         ],
         "yaxis": "y"
        },
        {
         "hovertemplate": "variable=lf<br>index=%{x}<br>value=%{y}<extra></extra>",
         "legendgroup": "lf",
         "line": {
          "color": "green",
          "dash": "solid"
         },
         "mode": "lines",
         "name": "lf",
         "orientation": "v",
         "showlegend": true,
         "type": "scatter",
         "x": [
          "26->29",
          "27->30",
          "28->31",
          "29->32",
          "30->33",
          "31->34",
          "32->35",
          "33->36"
         ],
         "xaxis": "x",
         "y": [
          93.7,
          89.98,
          90.74,
          87.32000000000001,
          80.76,
          74.32000000000001,
          68.02,
          59.31999999999999
         ],
         "yaxis": "y"
        },
        {
         "hovertemplate": "variable=cf<br>index=%{x}<br>value=%{y}<extra></extra>",
         "legendgroup": "cf",
         "line": {
          "color": "green",
          "dash": "solid"
         },
         "mode": "lines",
         "name": "cf",
         "orientation": "v",
         "showlegend": true,
         "type": "scatter",
         "x": [
          "26->29",
          "27->30",
          "28->31",
          "29->32",
          "30->33",
          "31->34",
          "32->35",
          "33->36"
         ],
         "xaxis": "x",
         "y": [
          103.5,
          97.86,
          94.67999999999999,
          89.44000000000001,
          82.38,
          80.4,
          76.24000000000001,
          72.88
         ],
         "yaxis": "y"
        },
        {
         "hovertemplate": "variable=rf<br>index=%{x}<br>value=%{y}<extra></extra>",
         "legendgroup": "rf",
         "line": {
          "color": "green",
          "dash": "solid"
         },
         "mode": "lines",
         "name": "rf",
         "orientation": "v",
         "showlegend": true,
         "type": "scatter",
         "x": [
          "26->29",
          "27->30",
          "28->31",
          "29->32",
          "30->33",
          "31->34",
          "32->35",
          "33->36"
         ],
         "xaxis": "x",
         "y": [
          98.74,
          95.67999999999999,
          97.16,
          94.91999999999999,
          87.03999999999999,
          81.28,
          77.58,
          72.3
         ],
         "yaxis": "y"
        },
        {
         "hovertemplate": "variable=dh<br>index=%{x}<br>value=%{y}<extra></extra>",
         "legendgroup": "dh",
         "line": {
          "color": "grey",
          "dash": "solid"
         },
         "mode": "lines",
         "name": "dh",
         "orientation": "v",
         "showlegend": true,
         "type": "scatter",
         "x": [
          "26->29",
          "27->30",
          "28->31",
          "29->32",
          "30->33",
          "31->34",
          "32->35",
          "33->36"
         ],
         "xaxis": "x",
         "y": [
          92.22,
          85.42,
          86.16,
          80.94,
          81.47999999999999,
          83.66,
          79.5,
          70.64
         ],
         "yaxis": "y"
        }
       ],
       "layout": {
        "legend": {
         "title": {
          "text": "variable"
         },
         "tracegroupgap": 0
        },
        "margin": {
         "t": 60
        },
        "template": {
         "data": {
          "bar": [
           {
            "error_x": {
             "color": "#2a3f5f"
            },
            "error_y": {
             "color": "#2a3f5f"
            },
            "marker": {
             "line": {
              "color": "#E5ECF6",
              "width": 0.5
             }
            },
            "type": "bar"
           }
          ],
          "barpolar": [
           {
            "marker": {
             "line": {
              "color": "#E5ECF6",
              "width": 0.5
             }
            },
            "type": "barpolar"
           }
          ],
          "carpet": [
           {
            "aaxis": {
             "endlinecolor": "#2a3f5f",
             "gridcolor": "white",
             "linecolor": "white",
             "minorgridcolor": "white",
             "startlinecolor": "#2a3f5f"
            },
            "baxis": {
             "endlinecolor": "#2a3f5f",
             "gridcolor": "white",
             "linecolor": "white",
             "minorgridcolor": "white",
             "startlinecolor": "#2a3f5f"
            },
            "type": "carpet"
           }
          ],
          "choropleth": [
           {
            "colorbar": {
             "outlinewidth": 0,
             "ticks": ""
            },
            "type": "choropleth"
           }
          ],
          "contour": [
           {
            "colorbar": {
             "outlinewidth": 0,
             "ticks": ""
            },
            "colorscale": [
             [
              0,
              "#0d0887"
             ],
             [
              0.1111111111111111,
              "#46039f"
             ],
             [
              0.2222222222222222,
              "#7201a8"
             ],
             [
              0.3333333333333333,
              "#9c179e"
             ],
             [
              0.4444444444444444,
              "#bd3786"
             ],
             [
              0.5555555555555556,
              "#d8576b"
             ],
             [
              0.6666666666666666,
              "#ed7953"
             ],
             [
              0.7777777777777778,
              "#fb9f3a"
             ],
             [
              0.8888888888888888,
              "#fdca26"
             ],
             [
              1,
              "#f0f921"
             ]
            ],
            "type": "contour"
           }
          ],
          "contourcarpet": [
           {
            "colorbar": {
             "outlinewidth": 0,
             "ticks": ""
            },
            "type": "contourcarpet"
           }
          ],
          "heatmap": [
           {
            "colorbar": {
             "outlinewidth": 0,
             "ticks": ""
            },
            "colorscale": [
             [
              0,
              "#0d0887"
             ],
             [
              0.1111111111111111,
              "#46039f"
             ],
             [
              0.2222222222222222,
              "#7201a8"
             ],
             [
              0.3333333333333333,
              "#9c179e"
             ],
             [
              0.4444444444444444,
              "#bd3786"
             ],
             [
              0.5555555555555556,
              "#d8576b"
             ],
             [
              0.6666666666666666,
              "#ed7953"
             ],
             [
              0.7777777777777778,
              "#fb9f3a"
             ],
             [
              0.8888888888888888,
              "#fdca26"
             ],
             [
              1,
              "#f0f921"
             ]
            ],
            "type": "heatmap"
           }
          ],
          "heatmapgl": [
           {
            "colorbar": {
             "outlinewidth": 0,
             "ticks": ""
            },
            "colorscale": [
             [
              0,
              "#0d0887"
             ],
             [
              0.1111111111111111,
              "#46039f"
             ],
             [
              0.2222222222222222,
              "#7201a8"
             ],
             [
              0.3333333333333333,
              "#9c179e"
             ],
             [
              0.4444444444444444,
              "#bd3786"
             ],
             [
              0.5555555555555556,
              "#d8576b"
             ],
             [
              0.6666666666666666,
              "#ed7953"
             ],
             [
              0.7777777777777778,
              "#fb9f3a"
             ],
             [
              0.8888888888888888,
              "#fdca26"
             ],
             [
              1,
              "#f0f921"
             ]
            ],
            "type": "heatmapgl"
           }
          ],
          "histogram": [
           {
            "marker": {
             "colorbar": {
              "outlinewidth": 0,
              "ticks": ""
             }
            },
            "type": "histogram"
           }
          ],
          "histogram2d": [
           {
            "colorbar": {
             "outlinewidth": 0,
             "ticks": ""
            },
            "colorscale": [
             [
              0,
              "#0d0887"
             ],
             [
              0.1111111111111111,
              "#46039f"
             ],
             [
              0.2222222222222222,
              "#7201a8"
             ],
             [
              0.3333333333333333,
              "#9c179e"
             ],
             [
              0.4444444444444444,
              "#bd3786"
             ],
             [
              0.5555555555555556,
              "#d8576b"
             ],
             [
              0.6666666666666666,
              "#ed7953"
             ],
             [
              0.7777777777777778,
              "#fb9f3a"
             ],
             [
              0.8888888888888888,
              "#fdca26"
             ],
             [
              1,
              "#f0f921"
             ]
            ],
            "type": "histogram2d"
           }
          ],
          "histogram2dcontour": [
           {
            "colorbar": {
             "outlinewidth": 0,
             "ticks": ""
            },
            "colorscale": [
             [
              0,
              "#0d0887"
             ],
             [
              0.1111111111111111,
              "#46039f"
             ],
             [
              0.2222222222222222,
              "#7201a8"
             ],
             [
              0.3333333333333333,
              "#9c179e"
             ],
             [
              0.4444444444444444,
              "#bd3786"
             ],
             [
              0.5555555555555556,
              "#d8576b"
             ],
             [
              0.6666666666666666,
              "#ed7953"
             ],
             [
              0.7777777777777778,
              "#fb9f3a"
             ],
             [
              0.8888888888888888,
              "#fdca26"
             ],
             [
              1,
              "#f0f921"
             ]
            ],
            "type": "histogram2dcontour"
           }
          ],
          "mesh3d": [
           {
            "colorbar": {
             "outlinewidth": 0,
             "ticks": ""
            },
            "type": "mesh3d"
           }
          ],
          "parcoords": [
           {
            "line": {
             "colorbar": {
              "outlinewidth": 0,
              "ticks": ""
             }
            },
            "type": "parcoords"
           }
          ],
          "pie": [
           {
            "automargin": true,
            "type": "pie"
           }
          ],
          "scatter": [
           {
            "marker": {
             "colorbar": {
              "outlinewidth": 0,
              "ticks": ""
             }
            },
            "type": "scatter"
           }
          ],
          "scatter3d": [
           {
            "line": {
             "colorbar": {
              "outlinewidth": 0,
              "ticks": ""
             }
            },
            "marker": {
             "colorbar": {
              "outlinewidth": 0,
              "ticks": ""
             }
            },
            "type": "scatter3d"
           }
          ],
          "scattercarpet": [
           {
            "marker": {
             "colorbar": {
              "outlinewidth": 0,
              "ticks": ""
             }
            },
            "type": "scattercarpet"
           }
          ],
          "scattergeo": [
           {
            "marker": {
             "colorbar": {
              "outlinewidth": 0,
              "ticks": ""
             }
            },
            "type": "scattergeo"
           }
          ],
          "scattergl": [
           {
            "marker": {
             "colorbar": {
              "outlinewidth": 0,
              "ticks": ""
             }
            },
            "type": "scattergl"
           }
          ],
          "scattermapbox": [
           {
            "marker": {
             "colorbar": {
              "outlinewidth": 0,
              "ticks": ""
             }
            },
            "type": "scattermapbox"
           }
          ],
          "scatterpolar": [
           {
            "marker": {
             "colorbar": {
              "outlinewidth": 0,
              "ticks": ""
             }
            },
            "type": "scatterpolar"
           }
          ],
          "scatterpolargl": [
           {
            "marker": {
             "colorbar": {
              "outlinewidth": 0,
              "ticks": ""
             }
            },
            "type": "scatterpolargl"
           }
          ],
          "scatterternary": [
           {
            "marker": {
             "colorbar": {
              "outlinewidth": 0,
              "ticks": ""
             }
            },
            "type": "scatterternary"
           }
          ],
          "surface": [
           {
            "colorbar": {
             "outlinewidth": 0,
             "ticks": ""
            },
            "colorscale": [
             [
              0,
              "#0d0887"
             ],
             [
              0.1111111111111111,
              "#46039f"
             ],
             [
              0.2222222222222222,
              "#7201a8"
             ],
             [
              0.3333333333333333,
              "#9c179e"
             ],
             [
              0.4444444444444444,
              "#bd3786"
             ],
             [
              0.5555555555555556,
              "#d8576b"
             ],
             [
              0.6666666666666666,
              "#ed7953"
             ],
             [
              0.7777777777777778,
              "#fb9f3a"
             ],
             [
              0.8888888888888888,
              "#fdca26"
             ],
             [
              1,
              "#f0f921"
             ]
            ],
            "type": "surface"
           }
          ],
          "table": [
           {
            "cells": {
             "fill": {
              "color": "#EBF0F8"
             },
             "line": {
              "color": "white"
             }
            },
            "header": {
             "fill": {
              "color": "#C8D4E3"
             },
             "line": {
              "color": "white"
             }
            },
            "type": "table"
           }
          ]
         },
         "layout": {
          "annotationdefaults": {
           "arrowcolor": "#2a3f5f",
           "arrowhead": 0,
           "arrowwidth": 1
          },
          "autotypenumbers": "strict",
          "coloraxis": {
           "colorbar": {
            "outlinewidth": 0,
            "ticks": ""
           }
          },
          "colorscale": {
           "diverging": [
            [
             0,
             "#8e0152"
            ],
            [
             0.1,
             "#c51b7d"
            ],
            [
             0.2,
             "#de77ae"
            ],
            [
             0.3,
             "#f1b6da"
            ],
            [
             0.4,
             "#fde0ef"
            ],
            [
             0.5,
             "#f7f7f7"
            ],
            [
             0.6,
             "#e6f5d0"
            ],
            [
             0.7,
             "#b8e186"
            ],
            [
             0.8,
             "#7fbc41"
            ],
            [
             0.9,
             "#4d9221"
            ],
            [
             1,
             "#276419"
            ]
           ],
           "sequential": [
            [
             0,
             "#0d0887"
            ],
            [
             0.1111111111111111,
             "#46039f"
            ],
            [
             0.2222222222222222,
             "#7201a8"
            ],
            [
             0.3333333333333333,
             "#9c179e"
            ],
            [
             0.4444444444444444,
             "#bd3786"
            ],
            [
             0.5555555555555556,
             "#d8576b"
            ],
            [
             0.6666666666666666,
             "#ed7953"
            ],
            [
             0.7777777777777778,
             "#fb9f3a"
            ],
            [
             0.8888888888888888,
             "#fdca26"
            ],
            [
             1,
             "#f0f921"
            ]
           ],
           "sequentialminus": [
            [
             0,
             "#0d0887"
            ],
            [
             0.1111111111111111,
             "#46039f"
            ],
            [
             0.2222222222222222,
             "#7201a8"
            ],
            [
             0.3333333333333333,
             "#9c179e"
            ],
            [
             0.4444444444444444,
             "#bd3786"
            ],
            [
             0.5555555555555556,
             "#d8576b"
            ],
            [
             0.6666666666666666,
             "#ed7953"
            ],
            [
             0.7777777777777778,
             "#fb9f3a"
            ],
            [
             0.8888888888888888,
             "#fdca26"
            ],
            [
             1,
             "#f0f921"
            ]
           ]
          },
          "colorway": [
           "#636efa",
           "#EF553B",
           "#00cc96",
           "#ab63fa",
           "#FFA15A",
           "#19d3f3",
           "#FF6692",
           "#B6E880",
           "#FF97FF",
           "#FECB52"
          ],
          "font": {
           "color": "#2a3f5f"
          },
          "geo": {
           "bgcolor": "white",
           "lakecolor": "white",
           "landcolor": "#E5ECF6",
           "showlakes": true,
           "showland": true,
           "subunitcolor": "white"
          },
          "hoverlabel": {
           "align": "left"
          },
          "hovermode": "closest",
          "mapbox": {
           "style": "light"
          },
          "paper_bgcolor": "white",
          "plot_bgcolor": "#E5ECF6",
          "polar": {
           "angularaxis": {
            "gridcolor": "white",
            "linecolor": "white",
            "ticks": ""
           },
           "bgcolor": "#E5ECF6",
           "radialaxis": {
            "gridcolor": "white",
            "linecolor": "white",
            "ticks": ""
           }
          },
          "scene": {
           "xaxis": {
            "backgroundcolor": "#E5ECF6",
            "gridcolor": "white",
            "gridwidth": 2,
            "linecolor": "white",
            "showbackground": true,
            "ticks": "",
            "zerolinecolor": "white"
           },
           "yaxis": {
            "backgroundcolor": "#E5ECF6",
            "gridcolor": "white",
            "gridwidth": 2,
            "linecolor": "white",
            "showbackground": true,
            "ticks": "",
            "zerolinecolor": "white"
           },
           "zaxis": {
            "backgroundcolor": "#E5ECF6",
            "gridcolor": "white",
            "gridwidth": 2,
            "linecolor": "white",
            "showbackground": true,
            "ticks": "",
            "zerolinecolor": "white"
           }
          },
          "shapedefaults": {
           "line": {
            "color": "#2a3f5f"
           }
          },
          "ternary": {
           "aaxis": {
            "gridcolor": "white",
            "linecolor": "white",
            "ticks": ""
           },
           "baxis": {
            "gridcolor": "white",
            "linecolor": "white",
            "ticks": ""
           },
           "bgcolor": "#E5ECF6",
           "caxis": {
            "gridcolor": "white",
            "linecolor": "white",
            "ticks": ""
           }
          },
          "title": {
           "x": 0.05
          },
          "xaxis": {
           "automargin": true,
           "gridcolor": "white",
           "linecolor": "white",
           "ticks": "",
           "title": {
            "standoff": 15
           },
           "zerolinecolor": "white",
           "zerolinewidth": 2
          },
          "yaxis": {
           "automargin": true,
           "gridcolor": "white",
           "linecolor": "white",
           "ticks": "",
           "title": {
            "standoff": 15
           },
           "zerolinecolor": "white",
           "zerolinewidth": 2
          }
         }
        },
        "xaxis": {
         "anchor": "y",
         "domain": [
          0,
          1
         ],
         "title": {
          "text": "index"
         }
        },
        "yaxis": {
         "anchor": "x",
         "domain": [
          0,
          1
         ],
         "title": {
          "text": "value"
         }
        }
       }
      }
     },
     "metadata": {},
     "output_type": "display_data"
    }
   ],
   "source": [
    "px.line(trends.T.rolling(5, center=True).mean().dropna(), color_discrete_map=position_colors)"
   ]
  },
  {
   "cell_type": "code",
   "execution_count": null,
   "metadata": {},
   "outputs": [],
   "source": []
  }
 ],
 "metadata": {
  "interpreter": {
   "hash": "cd78fef2128015050713e82ca51c6520b11aee7c9ee8df750520bbbc7384cbaa"
  },
  "kernelspec": {
   "display_name": "Python 3.8.8 ('base')",
   "language": "python",
   "name": "python3"
  },
  "language_info": {
   "codemirror_mode": {
    "name": "ipython",
    "version": 3
   },
   "file_extension": ".py",
   "mimetype": "text/x-python",
   "name": "python",
   "nbconvert_exporter": "python",
   "pygments_lexer": "ipython3",
   "version": "3.8.8"
  }
 },
 "nbformat": 4,
 "nbformat_minor": 4
}
