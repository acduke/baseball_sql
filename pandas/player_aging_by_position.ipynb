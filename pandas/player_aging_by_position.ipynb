{
 "cells": [
  {
   "cell_type": "markdown",
   "metadata": {},
   "source": [
    "# Age Distributions by Position"
   ]
  },
  {
   "cell_type": "code",
   "execution_count": 1,
   "metadata": {},
   "outputs": [],
   "source": [
    "import pandas as pd\n",
    "import plotly.express as px\n",
    "import datetime\n",
    "\n",
    "import boxball_loader as bbl\n"
   ]
  },
  {
   "cell_type": "code",
   "execution_count": 2,
   "metadata": {},
   "outputs": [
    {
     "data": {
      "text/plain": [
       "Index(['year_id', 'team_id', 'lg_id', 'player_id', 'g_all', 'gs', 'g_batting',\n",
       "       'g_defense', 'g_p', 'g_c', 'g_1b', 'g_2b', 'g_3b', 'g_ss', 'g_lf',\n",
       "       'g_cf', 'g_rf', 'g_of', 'g_dh', 'g_ph', 'g_pr'],\n",
       "      dtype='object')"
      ]
     },
     "execution_count": 2,
     "metadata": {},
     "output_type": "execute_result"
    }
   ],
   "source": [
    "apps = bbl.load_appearances()\n",
    "apps.columns"
   ]
  },
  {
   "cell_type": "code",
   "execution_count": 3,
   "metadata": {},
   "outputs": [
    {
     "data": {
      "text/plain": [
       "player_id\n",
       "burdabo01    1938-07-16\n",
       "reyesfr01    1995-07-07\n",
       "thomaer01    1948-08-13\n",
       "whitele01    1957-09-10\n",
       "deshaji01    1960-06-23\n",
       "carloci01    1940-09-17\n",
       "burgobi01    1919-11-15\n",
       "graboal01    1901-09-04\n",
       "jimence01    1984-11-12\n",
       "brenzbi01    1910-03-03\n",
       "Name: birthdate, dtype: object"
      ]
     },
     "execution_count": 3,
     "metadata": {},
     "output_type": "execute_result"
    }
   ],
   "source": [
    "birthdates = bbl.load_birthdates()\n",
    "birthdates.sample(10)\n"
   ]
  },
  {
   "cell_type": "code",
   "execution_count": 4,
   "metadata": {},
   "outputs": [
    {
     "data": {
      "text/html": [
       "<div>\n",
       "<style scoped>\n",
       "    .dataframe tbody tr th:only-of-type {\n",
       "        vertical-align: middle;\n",
       "    }\n",
       "\n",
       "    .dataframe tbody tr th {\n",
       "        vertical-align: top;\n",
       "    }\n",
       "\n",
       "    .dataframe thead th {\n",
       "        text-align: right;\n",
       "    }\n",
       "</style>\n",
       "<table border=\"1\" class=\"dataframe\">\n",
       "  <thead>\n",
       "    <tr style=\"text-align: right;\">\n",
       "      <th></th>\n",
       "      <th>player_id</th>\n",
       "      <th>year_id</th>\n",
       "      <th>team_id</th>\n",
       "      <th>lg_id</th>\n",
       "      <th>g_all</th>\n",
       "      <th>gs</th>\n",
       "      <th>g_batting</th>\n",
       "      <th>g_defense</th>\n",
       "      <th>g_p</th>\n",
       "      <th>g_c</th>\n",
       "      <th>...</th>\n",
       "      <th>g_lf</th>\n",
       "      <th>g_cf</th>\n",
       "      <th>g_rf</th>\n",
       "      <th>g_of</th>\n",
       "      <th>g_dh</th>\n",
       "      <th>g_ph</th>\n",
       "      <th>g_pr</th>\n",
       "      <th>birthdate</th>\n",
       "      <th>age</th>\n",
       "      <th>age_int</th>\n",
       "    </tr>\n",
       "  </thead>\n",
       "  <tbody>\n",
       "    <tr>\n",
       "      <th>5222</th>\n",
       "      <td>valenfe01</td>\n",
       "      <td>1997</td>\n",
       "      <td>SLN</td>\n",
       "      <td>NL</td>\n",
       "      <td>5</td>\n",
       "      <td>5.0</td>\n",
       "      <td>4</td>\n",
       "      <td>5.0</td>\n",
       "      <td>5</td>\n",
       "      <td>0</td>\n",
       "      <td>...</td>\n",
       "      <td>0</td>\n",
       "      <td>0</td>\n",
       "      <td>0</td>\n",
       "      <td>0</td>\n",
       "      <td>0.0</td>\n",
       "      <td>0.0</td>\n",
       "      <td>0.0</td>\n",
       "      <td>1960-11-01</td>\n",
       "      <td>36.663564</td>\n",
       "      <td>36</td>\n",
       "    </tr>\n",
       "    <tr>\n",
       "      <th>14976</th>\n",
       "      <td>halech01</td>\n",
       "      <td>1994</td>\n",
       "      <td>MIN</td>\n",
       "      <td>AL</td>\n",
       "      <td>67</td>\n",
       "      <td>25.0</td>\n",
       "      <td>67</td>\n",
       "      <td>32.0</td>\n",
       "      <td>0</td>\n",
       "      <td>0</td>\n",
       "      <td>...</td>\n",
       "      <td>0</td>\n",
       "      <td>0</td>\n",
       "      <td>1</td>\n",
       "      <td>1</td>\n",
       "      <td>10.0</td>\n",
       "      <td>34.0</td>\n",
       "      <td>1.0</td>\n",
       "      <td>1964-12-02</td>\n",
       "      <td>29.577812</td>\n",
       "      <td>29</td>\n",
       "    </tr>\n",
       "    <tr>\n",
       "      <th>49457</th>\n",
       "      <td>deverra01</td>\n",
       "      <td>2019</td>\n",
       "      <td>BOS</td>\n",
       "      <td>AL</td>\n",
       "      <td>156</td>\n",
       "      <td>152.0</td>\n",
       "      <td>156</td>\n",
       "      <td>152.0</td>\n",
       "      <td>0</td>\n",
       "      <td>0</td>\n",
       "      <td>...</td>\n",
       "      <td>0</td>\n",
       "      <td>0</td>\n",
       "      <td>0</td>\n",
       "      <td>0</td>\n",
       "      <td>1.0</td>\n",
       "      <td>4.0</td>\n",
       "      <td>0.0</td>\n",
       "      <td>1996-10-24</td>\n",
       "      <td>22.683715</td>\n",
       "      <td>22</td>\n",
       "    </tr>\n",
       "    <tr>\n",
       "      <th>22251</th>\n",
       "      <td>gilesbr02</td>\n",
       "      <td>2008</td>\n",
       "      <td>SDN</td>\n",
       "      <td>NL</td>\n",
       "      <td>147</td>\n",
       "      <td>142.0</td>\n",
       "      <td>147</td>\n",
       "      <td>144.0</td>\n",
       "      <td>0</td>\n",
       "      <td>0</td>\n",
       "      <td>...</td>\n",
       "      <td>0</td>\n",
       "      <td>2</td>\n",
       "      <td>144</td>\n",
       "      <td>144</td>\n",
       "      <td>0.0</td>\n",
       "      <td>5.0</td>\n",
       "      <td>0.0</td>\n",
       "      <td>1971-01-20</td>\n",
       "      <td>37.446610</td>\n",
       "      <td>37</td>\n",
       "    </tr>\n",
       "    <tr>\n",
       "      <th>49967</th>\n",
       "      <td>tauchmi01</td>\n",
       "      <td>2018</td>\n",
       "      <td>COL</td>\n",
       "      <td>NL</td>\n",
       "      <td>21</td>\n",
       "      <td>6.0</td>\n",
       "      <td>21</td>\n",
       "      <td>9.0</td>\n",
       "      <td>0</td>\n",
       "      <td>0</td>\n",
       "      <td>...</td>\n",
       "      <td>3</td>\n",
       "      <td>5</td>\n",
       "      <td>1</td>\n",
       "      <td>9</td>\n",
       "      <td>0.0</td>\n",
       "      <td>12.0</td>\n",
       "      <td>0.0</td>\n",
       "      <td>1990-12-03</td>\n",
       "      <td>27.576388</td>\n",
       "      <td>27</td>\n",
       "    </tr>\n",
       "    <tr>\n",
       "      <th>33004</th>\n",
       "      <td>madsory01</td>\n",
       "      <td>2005</td>\n",
       "      <td>PHI</td>\n",
       "      <td>NL</td>\n",
       "      <td>78</td>\n",
       "      <td>0.0</td>\n",
       "      <td>75</td>\n",
       "      <td>78.0</td>\n",
       "      <td>78</td>\n",
       "      <td>0</td>\n",
       "      <td>...</td>\n",
       "      <td>0</td>\n",
       "      <td>0</td>\n",
       "      <td>0</td>\n",
       "      <td>0</td>\n",
       "      <td>0.0</td>\n",
       "      <td>0.0</td>\n",
       "      <td>0.0</td>\n",
       "      <td>1980-08-28</td>\n",
       "      <td>24.841200</td>\n",
       "      <td>24</td>\n",
       "    </tr>\n",
       "    <tr>\n",
       "      <th>30408</th>\n",
       "      <td>kennejo04</td>\n",
       "      <td>2004</td>\n",
       "      <td>COL</td>\n",
       "      <td>NL</td>\n",
       "      <td>27</td>\n",
       "      <td>27.0</td>\n",
       "      <td>25</td>\n",
       "      <td>27.0</td>\n",
       "      <td>27</td>\n",
       "      <td>0</td>\n",
       "      <td>...</td>\n",
       "      <td>0</td>\n",
       "      <td>0</td>\n",
       "      <td>0</td>\n",
       "      <td>0</td>\n",
       "      <td>0.0</td>\n",
       "      <td>0.0</td>\n",
       "      <td>0.0</td>\n",
       "      <td>1979-05-24</td>\n",
       "      <td>25.106779</td>\n",
       "      <td>25</td>\n",
       "    </tr>\n",
       "    <tr>\n",
       "      <th>230</th>\n",
       "      <td>bairdo01</td>\n",
       "      <td>1989</td>\n",
       "      <td>PIT</td>\n",
       "      <td>NL</td>\n",
       "      <td>44</td>\n",
       "      <td>0.0</td>\n",
       "      <td>44</td>\n",
       "      <td>44.0</td>\n",
       "      <td>44</td>\n",
       "      <td>0</td>\n",
       "      <td>...</td>\n",
       "      <td>0</td>\n",
       "      <td>0</td>\n",
       "      <td>0</td>\n",
       "      <td>0</td>\n",
       "      <td>0.0</td>\n",
       "      <td>0.0</td>\n",
       "      <td>0.0</td>\n",
       "      <td>1949-08-22</td>\n",
       "      <td>39.858723</td>\n",
       "      <td>39</td>\n",
       "    </tr>\n",
       "    <tr>\n",
       "      <th>16435</th>\n",
       "      <td>martiti02</td>\n",
       "      <td>1996</td>\n",
       "      <td>NYA</td>\n",
       "      <td>AL</td>\n",
       "      <td>155</td>\n",
       "      <td>152.0</td>\n",
       "      <td>155</td>\n",
       "      <td>151.0</td>\n",
       "      <td>0</td>\n",
       "      <td>0</td>\n",
       "      <td>...</td>\n",
       "      <td>0</td>\n",
       "      <td>0</td>\n",
       "      <td>0</td>\n",
       "      <td>0</td>\n",
       "      <td>3.0</td>\n",
       "      <td>3.0</td>\n",
       "      <td>0.0</td>\n",
       "      <td>1967-12-07</td>\n",
       "      <td>28.567517</td>\n",
       "      <td>28</td>\n",
       "    </tr>\n",
       "    <tr>\n",
       "      <th>48181</th>\n",
       "      <td>solissa01</td>\n",
       "      <td>2018</td>\n",
       "      <td>WAS</td>\n",
       "      <td>NL</td>\n",
       "      <td>56</td>\n",
       "      <td>0.0</td>\n",
       "      <td>54</td>\n",
       "      <td>56.0</td>\n",
       "      <td>56</td>\n",
       "      <td>0</td>\n",
       "      <td>...</td>\n",
       "      <td>0</td>\n",
       "      <td>0</td>\n",
       "      <td>0</td>\n",
       "      <td>0</td>\n",
       "      <td>0.0</td>\n",
       "      <td>0.0</td>\n",
       "      <td>0.0</td>\n",
       "      <td>1988-08-10</td>\n",
       "      <td>29.889935</td>\n",
       "      <td>29</td>\n",
       "    </tr>\n",
       "  </tbody>\n",
       "</table>\n",
       "<p>10 rows × 24 columns</p>\n",
       "</div>"
      ],
      "text/plain": [
       "       player_id  year_id team_id lg_id  g_all     gs  g_batting  g_defense  \\\n",
       "5222   valenfe01     1997     SLN    NL      5    5.0          4        5.0   \n",
       "14976   halech01     1994     MIN    AL     67   25.0         67       32.0   \n",
       "49457  deverra01     2019     BOS    AL    156  152.0        156      152.0   \n",
       "22251  gilesbr02     2008     SDN    NL    147  142.0        147      144.0   \n",
       "49967  tauchmi01     2018     COL    NL     21    6.0         21        9.0   \n",
       "33004  madsory01     2005     PHI    NL     78    0.0         75       78.0   \n",
       "30408  kennejo04     2004     COL    NL     27   27.0         25       27.0   \n",
       "230     bairdo01     1989     PIT    NL     44    0.0         44       44.0   \n",
       "16435  martiti02     1996     NYA    AL    155  152.0        155      151.0   \n",
       "48181  solissa01     2018     WAS    NL     56    0.0         54       56.0   \n",
       "\n",
       "       g_p  g_c  ...  g_lf  g_cf  g_rf  g_of  g_dh  g_ph  g_pr   birthdate  \\\n",
       "5222     5    0  ...     0     0     0     0   0.0   0.0   0.0  1960-11-01   \n",
       "14976    0    0  ...     0     0     1     1  10.0  34.0   1.0  1964-12-02   \n",
       "49457    0    0  ...     0     0     0     0   1.0   4.0   0.0  1996-10-24   \n",
       "22251    0    0  ...     0     2   144   144   0.0   5.0   0.0  1971-01-20   \n",
       "49967    0    0  ...     3     5     1     9   0.0  12.0   0.0  1990-12-03   \n",
       "33004   78    0  ...     0     0     0     0   0.0   0.0   0.0  1980-08-28   \n",
       "30408   27    0  ...     0     0     0     0   0.0   0.0   0.0  1979-05-24   \n",
       "230     44    0  ...     0     0     0     0   0.0   0.0   0.0  1949-08-22   \n",
       "16435    0    0  ...     0     0     0     0   3.0   3.0   0.0  1967-12-07   \n",
       "48181   56    0  ...     0     0     0     0   0.0   0.0   0.0  1988-08-10   \n",
       "\n",
       "             age  age_int  \n",
       "5222   36.663564       36  \n",
       "14976  29.577812       29  \n",
       "49457  22.683715       22  \n",
       "22251  37.446610       37  \n",
       "49967  27.576388       27  \n",
       "33004  24.841200       24  \n",
       "30408  25.106779       25  \n",
       "230    39.858723       39  \n",
       "16435  28.567517       28  \n",
       "48181  29.889935       29  \n",
       "\n",
       "[10 rows x 24 columns]"
      ]
     },
     "execution_count": 4,
     "metadata": {},
     "output_type": "execute_result"
    }
   ],
   "source": [
    "\n",
    "def compute_age(b):\n",
    "    return (datetime.datetime(b['year_id'],7,1).date()-b['birthdate']).days/365.24\n",
    "    \n",
    "df = pd.merge(left=apps.query('year_id >= 1980').set_index('player_id'), right=birthdates, on='player_id').reset_index()\n",
    "df['age'] = df.apply(compute_age, axis=1)\n",
    "df['age_int'] = df['age'].astype(int)\n",
    "\n",
    "yrly_games = df\n",
    "yrly_games.sample(10)\n"
   ]
  },
  {
   "cell_type": "code",
   "execution_count": 5,
   "metadata": {},
   "outputs": [
    {
     "data": {
      "text/html": [
       "<div>\n",
       "<style scoped>\n",
       "    .dataframe tbody tr th:only-of-type {\n",
       "        vertical-align: middle;\n",
       "    }\n",
       "\n",
       "    .dataframe tbody tr th {\n",
       "        vertical-align: top;\n",
       "    }\n",
       "\n",
       "    .dataframe thead th {\n",
       "        text-align: right;\n",
       "    }\n",
       "</style>\n",
       "<table border=\"1\" class=\"dataframe\">\n",
       "  <thead>\n",
       "    <tr style=\"text-align: right;\">\n",
       "      <th></th>\n",
       "      <th>player_id</th>\n",
       "      <th>year_id</th>\n",
       "      <th>team_id</th>\n",
       "      <th>lg_id</th>\n",
       "      <th>g_all</th>\n",
       "      <th>gs</th>\n",
       "      <th>g_batting</th>\n",
       "      <th>g_defense</th>\n",
       "      <th>g_p</th>\n",
       "      <th>g_c</th>\n",
       "      <th>...</th>\n",
       "      <th>g_cf</th>\n",
       "      <th>g_rf</th>\n",
       "      <th>g_of</th>\n",
       "      <th>g_dh</th>\n",
       "      <th>g_ph</th>\n",
       "      <th>g_pr</th>\n",
       "      <th>birthdate</th>\n",
       "      <th>age</th>\n",
       "      <th>age_int</th>\n",
       "      <th>primary</th>\n",
       "    </tr>\n",
       "  </thead>\n",
       "  <tbody>\n",
       "    <tr>\n",
       "      <th>29420</th>\n",
       "      <td>parrijo01</td>\n",
       "      <td>2007</td>\n",
       "      <td>BAL</td>\n",
       "      <td>AL</td>\n",
       "      <td>45</td>\n",
       "      <td>0.0</td>\n",
       "      <td>5</td>\n",
       "      <td>45.0</td>\n",
       "      <td>45</td>\n",
       "      <td>0</td>\n",
       "      <td>...</td>\n",
       "      <td>0</td>\n",
       "      <td>0</td>\n",
       "      <td>0</td>\n",
       "      <td>0.0</td>\n",
       "      <td>0.0</td>\n",
       "      <td>0.0</td>\n",
       "      <td>1977-11-26</td>\n",
       "      <td>29.594239</td>\n",
       "      <td>29</td>\n",
       "      <td>c</td>\n",
       "    </tr>\n",
       "    <tr>\n",
       "      <th>9945</th>\n",
       "      <td>tartada01</td>\n",
       "      <td>1984</td>\n",
       "      <td>SEA</td>\n",
       "      <td>AL</td>\n",
       "      <td>10</td>\n",
       "      <td>5.0</td>\n",
       "      <td>10</td>\n",
       "      <td>9.0</td>\n",
       "      <td>0</td>\n",
       "      <td>0</td>\n",
       "      <td>...</td>\n",
       "      <td>0</td>\n",
       "      <td>0</td>\n",
       "      <td>0</td>\n",
       "      <td>0.0</td>\n",
       "      <td>1.0</td>\n",
       "      <td>2.0</td>\n",
       "      <td>1962-10-30</td>\n",
       "      <td>21.670682</td>\n",
       "      <td>21</td>\n",
       "      <td>ss</td>\n",
       "    </tr>\n",
       "    <tr>\n",
       "      <th>41483</th>\n",
       "      <td>bogusbr01</td>\n",
       "      <td>2010</td>\n",
       "      <td>HOU</td>\n",
       "      <td>NL</td>\n",
       "      <td>19</td>\n",
       "      <td>5.0</td>\n",
       "      <td>19</td>\n",
       "      <td>11.0</td>\n",
       "      <td>0</td>\n",
       "      <td>0</td>\n",
       "      <td>...</td>\n",
       "      <td>3</td>\n",
       "      <td>2</td>\n",
       "      <td>11</td>\n",
       "      <td>0.0</td>\n",
       "      <td>11.0</td>\n",
       "      <td>0.0</td>\n",
       "      <td>1984-02-18</td>\n",
       "      <td>26.366225</td>\n",
       "      <td>26</td>\n",
       "      <td>lf</td>\n",
       "    </tr>\n",
       "    <tr>\n",
       "      <th>43099</th>\n",
       "      <td>forsylo01</td>\n",
       "      <td>2012</td>\n",
       "      <td>SDN</td>\n",
       "      <td>NL</td>\n",
       "      <td>91</td>\n",
       "      <td>76.0</td>\n",
       "      <td>91</td>\n",
       "      <td>86.0</td>\n",
       "      <td>0</td>\n",
       "      <td>0</td>\n",
       "      <td>...</td>\n",
       "      <td>0</td>\n",
       "      <td>0</td>\n",
       "      <td>0</td>\n",
       "      <td>2.0</td>\n",
       "      <td>8.0</td>\n",
       "      <td>2.0</td>\n",
       "      <td>1987-01-14</td>\n",
       "      <td>25.462709</td>\n",
       "      <td>25</td>\n",
       "      <td>2b</td>\n",
       "    </tr>\n",
       "    <tr>\n",
       "      <th>42894</th>\n",
       "      <td>collmjo01</td>\n",
       "      <td>2016</td>\n",
       "      <td>ATL</td>\n",
       "      <td>NL</td>\n",
       "      <td>3</td>\n",
       "      <td>3.0</td>\n",
       "      <td>3</td>\n",
       "      <td>3.0</td>\n",
       "      <td>3</td>\n",
       "      <td>0</td>\n",
       "      <td>...</td>\n",
       "      <td>0</td>\n",
       "      <td>0</td>\n",
       "      <td>0</td>\n",
       "      <td>0.0</td>\n",
       "      <td>0.0</td>\n",
       "      <td>0.0</td>\n",
       "      <td>1986-02-07</td>\n",
       "      <td>30.396452</td>\n",
       "      <td>30</td>\n",
       "      <td>c</td>\n",
       "    </tr>\n",
       "    <tr>\n",
       "      <th>13739</th>\n",
       "      <td>carpecr01</td>\n",
       "      <td>1993</td>\n",
       "      <td>FLO</td>\n",
       "      <td>NL</td>\n",
       "      <td>29</td>\n",
       "      <td>0.0</td>\n",
       "      <td>29</td>\n",
       "      <td>29.0</td>\n",
       "      <td>29</td>\n",
       "      <td>0</td>\n",
       "      <td>...</td>\n",
       "      <td>0</td>\n",
       "      <td>0</td>\n",
       "      <td>0</td>\n",
       "      <td>0.0</td>\n",
       "      <td>0.0</td>\n",
       "      <td>0.0</td>\n",
       "      <td>1965-04-05</td>\n",
       "      <td>28.238966</td>\n",
       "      <td>28</td>\n",
       "      <td>c</td>\n",
       "    </tr>\n",
       "    <tr>\n",
       "      <th>30758</th>\n",
       "      <td>puntoni01</td>\n",
       "      <td>2013</td>\n",
       "      <td>LAN</td>\n",
       "      <td>NL</td>\n",
       "      <td>116</td>\n",
       "      <td>71.0</td>\n",
       "      <td>116</td>\n",
       "      <td>105.0</td>\n",
       "      <td>0</td>\n",
       "      <td>0</td>\n",
       "      <td>...</td>\n",
       "      <td>0</td>\n",
       "      <td>0</td>\n",
       "      <td>0</td>\n",
       "      <td>0.0</td>\n",
       "      <td>20.0</td>\n",
       "      <td>3.0</td>\n",
       "      <td>1977-11-08</td>\n",
       "      <td>35.645055</td>\n",
       "      <td>35</td>\n",
       "      <td>ss</td>\n",
       "    </tr>\n",
       "    <tr>\n",
       "      <th>36761</th>\n",
       "      <td>lestejo01</td>\n",
       "      <td>2016</td>\n",
       "      <td>CHN</td>\n",
       "      <td>NL</td>\n",
       "      <td>33</td>\n",
       "      <td>32.0</td>\n",
       "      <td>30</td>\n",
       "      <td>32.0</td>\n",
       "      <td>32</td>\n",
       "      <td>0</td>\n",
       "      <td>...</td>\n",
       "      <td>0</td>\n",
       "      <td>0</td>\n",
       "      <td>0</td>\n",
       "      <td>0.0</td>\n",
       "      <td>1.0</td>\n",
       "      <td>0.0</td>\n",
       "      <td>1984-01-07</td>\n",
       "      <td>32.482751</td>\n",
       "      <td>32</td>\n",
       "      <td>c</td>\n",
       "    </tr>\n",
       "    <tr>\n",
       "      <th>28181</th>\n",
       "      <td>molinjo01</td>\n",
       "      <td>2012</td>\n",
       "      <td>TBA</td>\n",
       "      <td>AL</td>\n",
       "      <td>102</td>\n",
       "      <td>80.0</td>\n",
       "      <td>102</td>\n",
       "      <td>102.0</td>\n",
       "      <td>0</td>\n",
       "      <td>102</td>\n",
       "      <td>...</td>\n",
       "      <td>0</td>\n",
       "      <td>0</td>\n",
       "      <td>0</td>\n",
       "      <td>0.0</td>\n",
       "      <td>1.0</td>\n",
       "      <td>0.0</td>\n",
       "      <td>1975-06-03</td>\n",
       "      <td>37.079728</td>\n",
       "      <td>37</td>\n",
       "      <td>c</td>\n",
       "    </tr>\n",
       "    <tr>\n",
       "      <th>13436</th>\n",
       "      <td>velarra01</td>\n",
       "      <td>1994</td>\n",
       "      <td>NYA</td>\n",
       "      <td>AL</td>\n",
       "      <td>77</td>\n",
       "      <td>69.0</td>\n",
       "      <td>77</td>\n",
       "      <td>77.0</td>\n",
       "      <td>0</td>\n",
       "      <td>0</td>\n",
       "      <td>...</td>\n",
       "      <td>0</td>\n",
       "      <td>1</td>\n",
       "      <td>7</td>\n",
       "      <td>0.0</td>\n",
       "      <td>0.0</td>\n",
       "      <td>2.0</td>\n",
       "      <td>1962-11-24</td>\n",
       "      <td>31.601139</td>\n",
       "      <td>31</td>\n",
       "      <td>ss</td>\n",
       "    </tr>\n",
       "  </tbody>\n",
       "</table>\n",
       "<p>10 rows × 25 columns</p>\n",
       "</div>"
      ],
      "text/plain": [
       "       player_id  year_id team_id lg_id  g_all    gs  g_batting  g_defense  \\\n",
       "29420  parrijo01     2007     BAL    AL     45   0.0          5       45.0   \n",
       "9945   tartada01     1984     SEA    AL     10   5.0         10        9.0   \n",
       "41483  bogusbr01     2010     HOU    NL     19   5.0         19       11.0   \n",
       "43099  forsylo01     2012     SDN    NL     91  76.0         91       86.0   \n",
       "42894  collmjo01     2016     ATL    NL      3   3.0          3        3.0   \n",
       "13739  carpecr01     1993     FLO    NL     29   0.0         29       29.0   \n",
       "30758  puntoni01     2013     LAN    NL    116  71.0        116      105.0   \n",
       "36761  lestejo01     2016     CHN    NL     33  32.0         30       32.0   \n",
       "28181  molinjo01     2012     TBA    AL    102  80.0        102      102.0   \n",
       "13436  velarra01     1994     NYA    AL     77  69.0         77       77.0   \n",
       "\n",
       "       g_p  g_c  ...  g_cf  g_rf  g_of  g_dh  g_ph  g_pr   birthdate  \\\n",
       "29420   45    0  ...     0     0     0   0.0   0.0   0.0  1977-11-26   \n",
       "9945     0    0  ...     0     0     0   0.0   1.0   2.0  1962-10-30   \n",
       "41483    0    0  ...     3     2    11   0.0  11.0   0.0  1984-02-18   \n",
       "43099    0    0  ...     0     0     0   2.0   8.0   2.0  1987-01-14   \n",
       "42894    3    0  ...     0     0     0   0.0   0.0   0.0  1986-02-07   \n",
       "13739   29    0  ...     0     0     0   0.0   0.0   0.0  1965-04-05   \n",
       "30758    0    0  ...     0     0     0   0.0  20.0   3.0  1977-11-08   \n",
       "36761   32    0  ...     0     0     0   0.0   1.0   0.0  1984-01-07   \n",
       "28181    0  102  ...     0     0     0   0.0   1.0   0.0  1975-06-03   \n",
       "13436    0    0  ...     0     1     7   0.0   0.0   2.0  1962-11-24   \n",
       "\n",
       "             age  age_int  primary  \n",
       "29420  29.594239       29        c  \n",
       "9945   21.670682       21       ss  \n",
       "41483  26.366225       26       lf  \n",
       "43099  25.462709       25       2b  \n",
       "42894  30.396452       30        c  \n",
       "13739  28.238966       28        c  \n",
       "30758  35.645055       35       ss  \n",
       "36761  32.482751       32        c  \n",
       "28181  37.079728       37        c  \n",
       "13436  31.601139       31       ss  \n",
       "\n",
       "[10 rows x 25 columns]"
      ]
     },
     "execution_count": 5,
     "metadata": {},
     "output_type": "execute_result"
    }
   ],
   "source": [
    "posns = ['c', '1b', '2b', '3b', 'ss', 'lf', 'cf', 'rf', 'dh']\n",
    "pos_cols = [f'g_{pos}' for pos in posns]\n",
    "pos_all_cols =  [f'g_{pos}' for pos in (posns+['defense', 'all'])]\n",
    "\n",
    "yrly_games['primary'] = yrly_games[pos_cols].idxmax(axis=1).str[2:]\n",
    "yrly_games.sample(10)\n"
   ]
  },
  {
   "cell_type": "code",
   "execution_count": 6,
   "metadata": {},
   "outputs": [
    {
     "data": {
      "application/vnd.plotly.v1+json": {
       "config": {
        "plotlyServerURL": "https://plot.ly"
       },
       "data": [
        {
         "hovertemplate": "variable=g_c<br>age_int=%{x}<br>value=%{y}<extra></extra>",
         "legendgroup": "g_c",
         "line": {
          "color": "black",
          "dash": "solid"
         },
         "mode": "lines",
         "name": "g_c",
         "orientation": "v",
         "showlegend": true,
         "type": "scatter",
         "x": [
          19,
          20,
          21,
          22,
          23,
          24,
          25,
          26,
          27,
          28,
          29,
          30,
          31,
          32,
          33,
          34,
          35,
          36,
          37,
          38,
          39,
          40,
          41,
          42,
          43,
          44,
          45,
          47,
          49
         ],
         "xaxis": "x",
         "y": [
          0,
          0,
          0.08765432098765431,
          0.3382716049382716,
          1.0648148148148149,
          1.9728395061728397,
          2.6444444444444444,
          3.282716049382716,
          4.077160493827161,
          3.3796296296296298,
          3.0950617283950614,
          3.1462962962962964,
          2.8376543209876544,
          2.15679012345679,
          1.560493827160494,
          1.1876543209876544,
          1.060493827160494,
          0.6604938271604939,
          0.22962962962962966,
          0.34444444444444444,
          0.30493827160493825,
          0.013580246913580249,
          0.04197530864197531,
          0,
          0,
          0,
          0,
          0,
          0
         ],
         "yaxis": "y"
        },
        {
         "hovertemplate": "variable=g_1b<br>age_int=%{x}<br>value=%{y}<extra></extra>",
         "legendgroup": "g_1b",
         "line": {
          "color": "darkkhaki",
          "dash": "solid"
         },
         "mode": "lines",
         "name": "g_1b",
         "orientation": "v",
         "showlegend": true,
         "type": "scatter",
         "x": [
          19,
          20,
          21,
          22,
          23,
          24,
          25,
          26,
          27,
          28,
          29,
          30,
          31,
          32,
          33,
          34,
          35,
          36,
          37,
          38,
          39,
          40,
          41,
          42,
          43,
          44,
          45,
          47,
          49
         ],
         "xaxis": "x",
         "y": [
          0,
          0.007407407407407407,
          0.26728395061728394,
          0.512962962962963,
          0.9888888888888888,
          1.8166666666666667,
          2.556172839506173,
          3.224074074074074,
          3.253086419753086,
          3.6141975308641974,
          3.1796296296296296,
          2.7907407407407407,
          2.859259259259259,
          2.873456790123457,
          2.1432098765432097,
          1.871604938271605,
          1.1333333333333333,
          0.7611111111111111,
          0.2358024691358025,
          0.15555555555555556,
          0.16234567901234567,
          0.027160493827160497,
          0.010493827160493827,
          0.006790123456790124,
          0.0024691358024691358,
          0.0006172839506172839,
          0.0012345679012345679,
          0,
          0
         ],
         "yaxis": "y"
        },
        {
         "hovertemplate": "variable=g_2b<br>age_int=%{x}<br>value=%{y}<extra></extra>",
         "legendgroup": "g_2b",
         "line": {
          "color": "khaki",
          "dash": "solid"
         },
         "mode": "lines",
         "name": "g_2b",
         "orientation": "v",
         "showlegend": true,
         "type": "scatter",
         "x": [
          19,
          20,
          21,
          22,
          23,
          24,
          25,
          26,
          27,
          28,
          29,
          30,
          31,
          32,
          33,
          34,
          35,
          36,
          37,
          38,
          39,
          40,
          41,
          42,
          43,
          44,
          45,
          47,
          49
         ],
         "xaxis": "x",
         "y": [
          0.0030864197530864196,
          0.19320987654320987,
          0.46851851851851856,
          0.9901234567901235,
          1.612962962962963,
          2.7574074074074075,
          3.1512345679012346,
          3.4753086419753085,
          3.7160493827160495,
          3.432098765432099,
          2.811111111111111,
          2.5290123456790123,
          2.200617283950617,
          2.1919753086419753,
          1.5012345679012344,
          1.1666666666666667,
          0.782716049382716,
          0.7129629629629629,
          0.3493827160493827,
          0.1574074074074074,
          0.06358024691358025,
          0.03271604938271605,
          0,
          0,
          0.011728395061728394,
          0.009876543209876543,
          0.014814814814814814,
          0,
          0
         ],
         "yaxis": "y"
        },
        {
         "hovertemplate": "variable=g_3b<br>age_int=%{x}<br>value=%{y}<extra></extra>",
         "legendgroup": "g_3b",
         "line": {
          "color": "brown",
          "dash": "solid"
         },
         "mode": "lines",
         "name": "g_3b",
         "orientation": "v",
         "showlegend": true,
         "type": "scatter",
         "x": [
          19,
          20,
          21,
          22,
          23,
          24,
          25,
          26,
          27,
          28,
          29,
          30,
          31,
          32,
          33,
          34,
          35,
          36,
          37,
          38,
          39,
          40,
          41,
          42,
          43,
          44,
          45,
          47,
          49
         ],
         "xaxis": "x",
         "y": [
          0.03148148148148148,
          0.20308641975308642,
          0.245679012345679,
          0.8444444444444446,
          2.028395061728395,
          3.0179012345679013,
          3.278395061728395,
          3.8203703703703704,
          3.607407407407407,
          3.124691358024691,
          2.725925925925926,
          2.197530864197531,
          1.8753086419753087,
          1.6691358024691356,
          1.641358024691358,
          1.2685185185185186,
          0.8604938271604938,
          0.7709876543209877,
          0.5185185185185185,
          0.20987654320987653,
          0.24135802469135803,
          0.0728395061728395,
          0,
          0,
          0.051234567901234575,
          0.017901234567901235,
          0.011111111111111112,
          0,
          0
         ],
         "yaxis": "y"
        },
        {
         "hovertemplate": "variable=g_ss<br>age_int=%{x}<br>value=%{y}<extra></extra>",
         "legendgroup": "g_ss",
         "line": {
          "color": "tan",
          "dash": "solid"
         },
         "mode": "lines",
         "name": "g_ss",
         "orientation": "v",
         "showlegend": true,
         "type": "scatter",
         "x": [
          19,
          20,
          21,
          22,
          23,
          24,
          25,
          26,
          27,
          28,
          29,
          30,
          31,
          32,
          33,
          34,
          35,
          36,
          37,
          38,
          39,
          40,
          41,
          42,
          43,
          44,
          45,
          47,
          49
         ],
         "xaxis": "x",
         "y": [
          0.0018518518518518517,
          0.22962962962962966,
          0.7407407407407407,
          1.672222222222222,
          2.5512345679012345,
          3.0407407407407407,
          3.9302469135802474,
          3.184567901234568,
          3.192592592592593,
          3.200617283950617,
          2.8518518518518516,
          2.151851851851852,
          1.7438271604938271,
          1.2259259259259259,
          0.9438271604938272,
          0.9006172839506174,
          0.35246913580246914,
          0.44197530864197526,
          0.2191358024691358,
          0.1388888888888889,
          0.04567901234567901,
          0.09444444444444444,
          0,
          0,
          0.005555555555555556,
          0.005555555555555556,
          0.006172839506172839,
          0,
          0
         ],
         "yaxis": "y"
        },
        {
         "hovertemplate": "variable=g_lf<br>age_int=%{x}<br>value=%{y}<extra></extra>",
         "legendgroup": "g_lf",
         "line": {
          "color": "green",
          "dash": "solid"
         },
         "mode": "lines",
         "name": "g_lf",
         "orientation": "v",
         "showlegend": true,
         "type": "scatter",
         "x": [
          19,
          20,
          21,
          22,
          23,
          24,
          25,
          26,
          27,
          28,
          29,
          30,
          31,
          32,
          33,
          34,
          35,
          36,
          37,
          38,
          39,
          40,
          41,
          42,
          43,
          44,
          45,
          47,
          49
         ],
         "xaxis": "x",
         "y": [
          0.0808641975308642,
          0.2598765432098766,
          0.35617283950617284,
          0.7740740740740741,
          1.4944444444444445,
          2.771604938271605,
          3.240123456790123,
          4.146296296296296,
          3.4851851851851854,
          3.4135802469135803,
          3.22716049382716,
          2.871604938271605,
          2.6753086419753087,
          2.4672839506172837,
          2.060493827160494,
          1.6845679012345678,
          0.9771604938271605,
          0.5172839506172839,
          0.3925925925925926,
          0.35432098765432096,
          0.0882716049382716,
          0.06728395061728396,
          0.07962962962962963,
          0.030246913580246917,
          0.005555555555555556,
          0.006790123456790124,
          0.0006172839506172839,
          0,
          0
         ],
         "yaxis": "y"
        },
        {
         "hovertemplate": "variable=g_cf<br>age_int=%{x}<br>value=%{y}<extra></extra>",
         "legendgroup": "g_cf",
         "line": {
          "color": "green",
          "dash": "solid"
         },
         "mode": "lines",
         "name": "g_cf",
         "orientation": "v",
         "showlegend": true,
         "type": "scatter",
         "x": [
          19,
          20,
          21,
          22,
          23,
          24,
          25,
          26,
          27,
          28,
          29,
          30,
          31,
          32,
          33,
          34,
          35,
          36,
          37,
          38,
          39,
          40,
          41,
          42,
          43,
          44,
          45,
          47,
          49
         ],
         "xaxis": "x",
         "y": [
          0.06481481481481481,
          0.08333333333333333,
          0.2506172839506173,
          0.9055555555555554,
          2.074074074074074,
          3.27037037037037,
          4.280246913580247,
          4.248765432098765,
          4.075308641975309,
          3.3771604938271604,
          3.406172839506173,
          2.754320987654321,
          1.9246913580246914,
          1.367283950617284,
          1.1734567901234567,
          0.49753086419753084,
          0.23703703703703702,
          0.14876543209876544,
          0.062345679012345674,
          0.030246913580246917,
          0.008024691358024692,
          0.03518518518518519,
          0.004320987654320987,
          0.008641975308641974,
          0.006172839506172839,
          0,
          0,
          0,
          0
         ],
         "yaxis": "y"
        },
        {
         "hovertemplate": "variable=g_rf<br>age_int=%{x}<br>value=%{y}<extra></extra>",
         "legendgroup": "g_rf",
         "line": {
          "color": "green",
          "dash": "solid"
         },
         "mode": "lines",
         "name": "g_rf",
         "orientation": "v",
         "showlegend": true,
         "type": "scatter",
         "x": [
          19,
          20,
          21,
          22,
          23,
          24,
          25,
          26,
          27,
          28,
          29,
          30,
          31,
          32,
          33,
          34,
          35,
          36,
          37,
          38,
          39,
          40,
          41,
          42,
          43,
          44,
          45,
          47,
          49
         ],
         "xaxis": "x",
         "y": [
          0.04814814814814815,
          0.1648148148148148,
          0.32222222222222224,
          0.9296296296296296,
          1.7981481481481483,
          2.4518518518518517,
          3.054320987654321,
          3.7641975308641973,
          3.8401234567901237,
          3.087037037037037,
          2.816049382716049,
          2.5135802469135804,
          2.6240740740740742,
          2.253703703703704,
          1.712962962962963,
          1.4228395061728396,
          0.8925925925925926,
          0.7512345679012346,
          0.40679012345679016,
          0.3148148148148148,
          0.19753086419753085,
          0.10679012345679013,
          0.04567901234567901,
          0.037037037037037035,
          0.009876543209876543,
          0.0006172839506172839,
          0.0012345679012345679,
          0,
          0
         ],
         "yaxis": "y"
        },
        {
         "hovertemplate": "variable=g_dh<br>age_int=%{x}<br>value=%{y}<extra></extra>",
         "legendgroup": "g_dh",
         "line": {
          "color": "grey",
          "dash": "solid"
         },
         "mode": "lines",
         "name": "g_dh",
         "orientation": "v",
         "showlegend": true,
         "type": "scatter",
         "x": [
          19,
          20,
          21,
          22,
          23,
          24,
          25,
          26,
          27,
          28,
          29,
          30,
          31,
          32,
          33,
          34,
          35,
          36,
          37,
          38,
          39,
          40,
          41,
          42,
          43,
          44,
          45,
          47,
          49
         ],
         "xaxis": "x",
         "y": [
          0.0006172839506172839,
          0.030246913580246917,
          0.03888888888888889,
          0.24691358024691357,
          0.3753086419753086,
          0.6320987654320988,
          0.8580246913580247,
          1.1790123456790123,
          1.151851851851852,
          1.1407407407407408,
          1.1086419753086418,
          1.0549382716049382,
          1.248148148148148,
          1.212962962962963,
          1.0117283950617284,
          1.2185185185185186,
          0.9685185185185186,
          0.8808641975308641,
          0.9166666666666666,
          0.3753086419753086,
          0.42592592592592593,
          0.3419753086419753,
          0.04074074074074074,
          0.06481481481481481,
          0.016666666666666666,
          0.0030864197530864196,
          0.0006172839506172839,
          0,
          0
         ],
         "yaxis": "y"
        }
       ],
       "layout": {
        "legend": {
         "title": {
          "text": "variable"
         },
         "tracegroupgap": 0
        },
        "margin": {
         "t": 60
        },
        "template": {
         "data": {
          "bar": [
           {
            "error_x": {
             "color": "#2a3f5f"
            },
            "error_y": {
             "color": "#2a3f5f"
            },
            "marker": {
             "line": {
              "color": "#E5ECF6",
              "width": 0.5
             }
            },
            "type": "bar"
           }
          ],
          "barpolar": [
           {
            "marker": {
             "line": {
              "color": "#E5ECF6",
              "width": 0.5
             }
            },
            "type": "barpolar"
           }
          ],
          "carpet": [
           {
            "aaxis": {
             "endlinecolor": "#2a3f5f",
             "gridcolor": "white",
             "linecolor": "white",
             "minorgridcolor": "white",
             "startlinecolor": "#2a3f5f"
            },
            "baxis": {
             "endlinecolor": "#2a3f5f",
             "gridcolor": "white",
             "linecolor": "white",
             "minorgridcolor": "white",
             "startlinecolor": "#2a3f5f"
            },
            "type": "carpet"
           }
          ],
          "choropleth": [
           {
            "colorbar": {
             "outlinewidth": 0,
             "ticks": ""
            },
            "type": "choropleth"
           }
          ],
          "contour": [
           {
            "colorbar": {
             "outlinewidth": 0,
             "ticks": ""
            },
            "colorscale": [
             [
              0,
              "#0d0887"
             ],
             [
              0.1111111111111111,
              "#46039f"
             ],
             [
              0.2222222222222222,
              "#7201a8"
             ],
             [
              0.3333333333333333,
              "#9c179e"
             ],
             [
              0.4444444444444444,
              "#bd3786"
             ],
             [
              0.5555555555555556,
              "#d8576b"
             ],
             [
              0.6666666666666666,
              "#ed7953"
             ],
             [
              0.7777777777777778,
              "#fb9f3a"
             ],
             [
              0.8888888888888888,
              "#fdca26"
             ],
             [
              1,
              "#f0f921"
             ]
            ],
            "type": "contour"
           }
          ],
          "contourcarpet": [
           {
            "colorbar": {
             "outlinewidth": 0,
             "ticks": ""
            },
            "type": "contourcarpet"
           }
          ],
          "heatmap": [
           {
            "colorbar": {
             "outlinewidth": 0,
             "ticks": ""
            },
            "colorscale": [
             [
              0,
              "#0d0887"
             ],
             [
              0.1111111111111111,
              "#46039f"
             ],
             [
              0.2222222222222222,
              "#7201a8"
             ],
             [
              0.3333333333333333,
              "#9c179e"
             ],
             [
              0.4444444444444444,
              "#bd3786"
             ],
             [
              0.5555555555555556,
              "#d8576b"
             ],
             [
              0.6666666666666666,
              "#ed7953"
             ],
             [
              0.7777777777777778,
              "#fb9f3a"
             ],
             [
              0.8888888888888888,
              "#fdca26"
             ],
             [
              1,
              "#f0f921"
             ]
            ],
            "type": "heatmap"
           }
          ],
          "heatmapgl": [
           {
            "colorbar": {
             "outlinewidth": 0,
             "ticks": ""
            },
            "colorscale": [
             [
              0,
              "#0d0887"
             ],
             [
              0.1111111111111111,
              "#46039f"
             ],
             [
              0.2222222222222222,
              "#7201a8"
             ],
             [
              0.3333333333333333,
              "#9c179e"
             ],
             [
              0.4444444444444444,
              "#bd3786"
             ],
             [
              0.5555555555555556,
              "#d8576b"
             ],
             [
              0.6666666666666666,
              "#ed7953"
             ],
             [
              0.7777777777777778,
              "#fb9f3a"
             ],
             [
              0.8888888888888888,
              "#fdca26"
             ],
             [
              1,
              "#f0f921"
             ]
            ],
            "type": "heatmapgl"
           }
          ],
          "histogram": [
           {
            "marker": {
             "colorbar": {
              "outlinewidth": 0,
              "ticks": ""
             }
            },
            "type": "histogram"
           }
          ],
          "histogram2d": [
           {
            "colorbar": {
             "outlinewidth": 0,
             "ticks": ""
            },
            "colorscale": [
             [
              0,
              "#0d0887"
             ],
             [
              0.1111111111111111,
              "#46039f"
             ],
             [
              0.2222222222222222,
              "#7201a8"
             ],
             [
              0.3333333333333333,
              "#9c179e"
             ],
             [
              0.4444444444444444,
              "#bd3786"
             ],
             [
              0.5555555555555556,
              "#d8576b"
             ],
             [
              0.6666666666666666,
              "#ed7953"
             ],
             [
              0.7777777777777778,
              "#fb9f3a"
             ],
             [
              0.8888888888888888,
              "#fdca26"
             ],
             [
              1,
              "#f0f921"
             ]
            ],
            "type": "histogram2d"
           }
          ],
          "histogram2dcontour": [
           {
            "colorbar": {
             "outlinewidth": 0,
             "ticks": ""
            },
            "colorscale": [
             [
              0,
              "#0d0887"
             ],
             [
              0.1111111111111111,
              "#46039f"
             ],
             [
              0.2222222222222222,
              "#7201a8"
             ],
             [
              0.3333333333333333,
              "#9c179e"
             ],
             [
              0.4444444444444444,
              "#bd3786"
             ],
             [
              0.5555555555555556,
              "#d8576b"
             ],
             [
              0.6666666666666666,
              "#ed7953"
             ],
             [
              0.7777777777777778,
              "#fb9f3a"
             ],
             [
              0.8888888888888888,
              "#fdca26"
             ],
             [
              1,
              "#f0f921"
             ]
            ],
            "type": "histogram2dcontour"
           }
          ],
          "mesh3d": [
           {
            "colorbar": {
             "outlinewidth": 0,
             "ticks": ""
            },
            "type": "mesh3d"
           }
          ],
          "parcoords": [
           {
            "line": {
             "colorbar": {
              "outlinewidth": 0,
              "ticks": ""
             }
            },
            "type": "parcoords"
           }
          ],
          "pie": [
           {
            "automargin": true,
            "type": "pie"
           }
          ],
          "scatter": [
           {
            "marker": {
             "colorbar": {
              "outlinewidth": 0,
              "ticks": ""
             }
            },
            "type": "scatter"
           }
          ],
          "scatter3d": [
           {
            "line": {
             "colorbar": {
              "outlinewidth": 0,
              "ticks": ""
             }
            },
            "marker": {
             "colorbar": {
              "outlinewidth": 0,
              "ticks": ""
             }
            },
            "type": "scatter3d"
           }
          ],
          "scattercarpet": [
           {
            "marker": {
             "colorbar": {
              "outlinewidth": 0,
              "ticks": ""
             }
            },
            "type": "scattercarpet"
           }
          ],
          "scattergeo": [
           {
            "marker": {
             "colorbar": {
              "outlinewidth": 0,
              "ticks": ""
             }
            },
            "type": "scattergeo"
           }
          ],
          "scattergl": [
           {
            "marker": {
             "colorbar": {
              "outlinewidth": 0,
              "ticks": ""
             }
            },
            "type": "scattergl"
           }
          ],
          "scattermapbox": [
           {
            "marker": {
             "colorbar": {
              "outlinewidth": 0,
              "ticks": ""
             }
            },
            "type": "scattermapbox"
           }
          ],
          "scatterpolar": [
           {
            "marker": {
             "colorbar": {
              "outlinewidth": 0,
              "ticks": ""
             }
            },
            "type": "scatterpolar"
           }
          ],
          "scatterpolargl": [
           {
            "marker": {
             "colorbar": {
              "outlinewidth": 0,
              "ticks": ""
             }
            },
            "type": "scatterpolargl"
           }
          ],
          "scatterternary": [
           {
            "marker": {
             "colorbar": {
              "outlinewidth": 0,
              "ticks": ""
             }
            },
            "type": "scatterternary"
           }
          ],
          "surface": [
           {
            "colorbar": {
             "outlinewidth": 0,
             "ticks": ""
            },
            "colorscale": [
             [
              0,
              "#0d0887"
             ],
             [
              0.1111111111111111,
              "#46039f"
             ],
             [
              0.2222222222222222,
              "#7201a8"
             ],
             [
              0.3333333333333333,
              "#9c179e"
             ],
             [
              0.4444444444444444,
              "#bd3786"
             ],
             [
              0.5555555555555556,
              "#d8576b"
             ],
             [
              0.6666666666666666,
              "#ed7953"
             ],
             [
              0.7777777777777778,
              "#fb9f3a"
             ],
             [
              0.8888888888888888,
              "#fdca26"
             ],
             [
              1,
              "#f0f921"
             ]
            ],
            "type": "surface"
           }
          ],
          "table": [
           {
            "cells": {
             "fill": {
              "color": "#EBF0F8"
             },
             "line": {
              "color": "white"
             }
            },
            "header": {
             "fill": {
              "color": "#C8D4E3"
             },
             "line": {
              "color": "white"
             }
            },
            "type": "table"
           }
          ]
         },
         "layout": {
          "annotationdefaults": {
           "arrowcolor": "#2a3f5f",
           "arrowhead": 0,
           "arrowwidth": 1
          },
          "autotypenumbers": "strict",
          "coloraxis": {
           "colorbar": {
            "outlinewidth": 0,
            "ticks": ""
           }
          },
          "colorscale": {
           "diverging": [
            [
             0,
             "#8e0152"
            ],
            [
             0.1,
             "#c51b7d"
            ],
            [
             0.2,
             "#de77ae"
            ],
            [
             0.3,
             "#f1b6da"
            ],
            [
             0.4,
             "#fde0ef"
            ],
            [
             0.5,
             "#f7f7f7"
            ],
            [
             0.6,
             "#e6f5d0"
            ],
            [
             0.7,
             "#b8e186"
            ],
            [
             0.8,
             "#7fbc41"
            ],
            [
             0.9,
             "#4d9221"
            ],
            [
             1,
             "#276419"
            ]
           ],
           "sequential": [
            [
             0,
             "#0d0887"
            ],
            [
             0.1111111111111111,
             "#46039f"
            ],
            [
             0.2222222222222222,
             "#7201a8"
            ],
            [
             0.3333333333333333,
             "#9c179e"
            ],
            [
             0.4444444444444444,
             "#bd3786"
            ],
            [
             0.5555555555555556,
             "#d8576b"
            ],
            [
             0.6666666666666666,
             "#ed7953"
            ],
            [
             0.7777777777777778,
             "#fb9f3a"
            ],
            [
             0.8888888888888888,
             "#fdca26"
            ],
            [
             1,
             "#f0f921"
            ]
           ],
           "sequentialminus": [
            [
             0,
             "#0d0887"
            ],
            [
             0.1111111111111111,
             "#46039f"
            ],
            [
             0.2222222222222222,
             "#7201a8"
            ],
            [
             0.3333333333333333,
             "#9c179e"
            ],
            [
             0.4444444444444444,
             "#bd3786"
            ],
            [
             0.5555555555555556,
             "#d8576b"
            ],
            [
             0.6666666666666666,
             "#ed7953"
            ],
            [
             0.7777777777777778,
             "#fb9f3a"
            ],
            [
             0.8888888888888888,
             "#fdca26"
            ],
            [
             1,
             "#f0f921"
            ]
           ]
          },
          "colorway": [
           "#636efa",
           "#EF553B",
           "#00cc96",
           "#ab63fa",
           "#FFA15A",
           "#19d3f3",
           "#FF6692",
           "#B6E880",
           "#FF97FF",
           "#FECB52"
          ],
          "font": {
           "color": "#2a3f5f"
          },
          "geo": {
           "bgcolor": "white",
           "lakecolor": "white",
           "landcolor": "#E5ECF6",
           "showlakes": true,
           "showland": true,
           "subunitcolor": "white"
          },
          "hoverlabel": {
           "align": "left"
          },
          "hovermode": "closest",
          "mapbox": {
           "style": "light"
          },
          "paper_bgcolor": "white",
          "plot_bgcolor": "#E5ECF6",
          "polar": {
           "angularaxis": {
            "gridcolor": "white",
            "linecolor": "white",
            "ticks": ""
           },
           "bgcolor": "#E5ECF6",
           "radialaxis": {
            "gridcolor": "white",
            "linecolor": "white",
            "ticks": ""
           }
          },
          "scene": {
           "xaxis": {
            "backgroundcolor": "#E5ECF6",
            "gridcolor": "white",
            "gridwidth": 2,
            "linecolor": "white",
            "showbackground": true,
            "ticks": "",
            "zerolinecolor": "white"
           },
           "yaxis": {
            "backgroundcolor": "#E5ECF6",
            "gridcolor": "white",
            "gridwidth": 2,
            "linecolor": "white",
            "showbackground": true,
            "ticks": "",
            "zerolinecolor": "white"
           },
           "zaxis": {
            "backgroundcolor": "#E5ECF6",
            "gridcolor": "white",
            "gridwidth": 2,
            "linecolor": "white",
            "showbackground": true,
            "ticks": "",
            "zerolinecolor": "white"
           }
          },
          "shapedefaults": {
           "line": {
            "color": "#2a3f5f"
           }
          },
          "ternary": {
           "aaxis": {
            "gridcolor": "white",
            "linecolor": "white",
            "ticks": ""
           },
           "baxis": {
            "gridcolor": "white",
            "linecolor": "white",
            "ticks": ""
           },
           "bgcolor": "#E5ECF6",
           "caxis": {
            "gridcolor": "white",
            "linecolor": "white",
            "ticks": ""
           }
          },
          "title": {
           "x": 0.05
          },
          "xaxis": {
           "automargin": true,
           "gridcolor": "white",
           "linecolor": "white",
           "ticks": "",
           "title": {
            "standoff": 15
           },
           "zerolinecolor": "white",
           "zerolinewidth": 2
          },
          "yaxis": {
           "automargin": true,
           "gridcolor": "white",
           "linecolor": "white",
           "ticks": "",
           "title": {
            "standoff": 15
           },
           "zerolinecolor": "white",
           "zerolinewidth": 2
          }
         }
        },
        "xaxis": {
         "anchor": "y",
         "domain": [
          0,
          1
         ],
         "title": {
          "text": "age_int"
         }
        },
        "yaxis": {
         "anchor": "x",
         "domain": [
          0,
          1
         ],
         "title": {
          "text": "value"
         }
        }
       }
      }
     },
     "metadata": {},
     "output_type": "display_data"
    }
   ],
   "source": [
    "# Let's look at playing time by age\n",
    "\n",
    "pt_by_age = yrly_games.query('2010<=year_id<2020').groupby('age_int')[pos_cols].sum()/10/162\n",
    "position_colors = {'g_c': 'black', 'g_1b': 'darkkhaki', 'g_2b': 'khaki', 'g_3b': 'brown', 'g_ss': 'tan', 'g_lf': 'green', 'g_cf': 'green', 'g_rf': 'green', 'g_dh': 'grey'}\n",
    "#{'c': 'black', 'cf': 'green', 'P': 'white', '1B': 'darkkhaki', '2B': 'khaki', '3B': 'brown', 'SS': 'tan'}\n",
    "\n",
    "px.line(pt_by_age,color_discrete_map=position_colors)"
   ]
  },
  {
   "cell_type": "code",
   "execution_count": 7,
   "metadata": {},
   "outputs": [
    {
     "data": {
      "text/plain": [
       "g_c           0.000000\n",
       "g_1b          2.655556\n",
       "g_2b         49.255556\n",
       "g_3b          4.033333\n",
       "g_ss          4.944444\n",
       "g_lf          5.444444\n",
       "g_cf          0.433333\n",
       "g_rf          2.233333\n",
       "g_dh          3.177778\n",
       "g_defense    66.644444\n",
       "g_all        75.122222\n",
       "n            90.000000\n",
       "Name: 2b, dtype: float64"
      ]
     },
     "execution_count": 7,
     "metadata": {},
     "output_type": "execute_result"
    }
   ],
   "source": [
    "# Let's look at 28yo second basemen.  What were they doing 5 years later?\n",
    "\n",
    "def get_future_pt(gms: pd.DataFrame, pos: str, start_age: int = 28, comp_age: int = 33, gm_threshold: int = 100) -> pd.Series:\n",
    "    max_year = 2019-(comp_age-start_age)\n",
    "\n",
    "    prime_regulars = gms.query(f'age_int==@start_age and g_all>=@gm_threshold and primary==@pos and year_id<=@max_year')['player_id']\n",
    "    avg_gms = gms.query('player_id in @prime_regulars and age_int==@comp_age')[pos_all_cols].sum()/len(prime_regulars)\n",
    "    avg_gms['n'] = len(prime_regulars)\n",
    "    return avg_gms.rename(pos)\n",
    "\n",
    "get_future_pt(yrly_games, '2b')"
   ]
  },
  {
   "cell_type": "code",
   "execution_count": 8,
   "metadata": {},
   "outputs": [
    {
     "data": {
      "text/html": [
       "<div>\n",
       "<style scoped>\n",
       "    .dataframe tbody tr th:only-of-type {\n",
       "        vertical-align: middle;\n",
       "    }\n",
       "\n",
       "    .dataframe tbody tr th {\n",
       "        vertical-align: top;\n",
       "    }\n",
       "\n",
       "    .dataframe thead th {\n",
       "        text-align: right;\n",
       "    }\n",
       "</style>\n",
       "<table border=\"1\" class=\"dataframe\">\n",
       "  <thead>\n",
       "    <tr style=\"text-align: right;\">\n",
       "      <th></th>\n",
       "      <th>g_c</th>\n",
       "      <th>g_1b</th>\n",
       "      <th>g_2b</th>\n",
       "      <th>g_3b</th>\n",
       "      <th>g_ss</th>\n",
       "      <th>g_lf</th>\n",
       "      <th>g_cf</th>\n",
       "      <th>g_rf</th>\n",
       "      <th>g_dh</th>\n",
       "      <th>g_defense</th>\n",
       "      <th>g_all</th>\n",
       "      <th>n</th>\n",
       "    </tr>\n",
       "  </thead>\n",
       "  <tbody>\n",
       "    <tr>\n",
       "      <th>c</th>\n",
       "      <td>63.611111</td>\n",
       "      <td>3.125000</td>\n",
       "      <td>0.027778</td>\n",
       "      <td>0.069444</td>\n",
       "      <td>0.000000</td>\n",
       "      <td>0.041667</td>\n",
       "      <td>0.000000</td>\n",
       "      <td>0.250000</td>\n",
       "      <td>1.208333</td>\n",
       "      <td>66.611111</td>\n",
       "      <td>70.875000</td>\n",
       "      <td>72.0</td>\n",
       "    </tr>\n",
       "    <tr>\n",
       "      <th>1b</th>\n",
       "      <td>0.000000</td>\n",
       "      <td>61.847059</td>\n",
       "      <td>0.094118</td>\n",
       "      <td>3.188235</td>\n",
       "      <td>0.000000</td>\n",
       "      <td>3.035294</td>\n",
       "      <td>0.000000</td>\n",
       "      <td>1.447059</td>\n",
       "      <td>6.894118</td>\n",
       "      <td>68.576471</td>\n",
       "      <td>79.505882</td>\n",
       "      <td>85.0</td>\n",
       "    </tr>\n",
       "    <tr>\n",
       "      <th>2b</th>\n",
       "      <td>0.000000</td>\n",
       "      <td>2.655556</td>\n",
       "      <td>49.255556</td>\n",
       "      <td>4.033333</td>\n",
       "      <td>4.944444</td>\n",
       "      <td>5.444444</td>\n",
       "      <td>0.433333</td>\n",
       "      <td>2.233333</td>\n",
       "      <td>3.177778</td>\n",
       "      <td>66.644444</td>\n",
       "      <td>75.122222</td>\n",
       "      <td>90.0</td>\n",
       "    </tr>\n",
       "    <tr>\n",
       "      <th>3b</th>\n",
       "      <td>0.031579</td>\n",
       "      <td>11.178947</td>\n",
       "      <td>3.031579</td>\n",
       "      <td>50.063158</td>\n",
       "      <td>1.926316</td>\n",
       "      <td>2.736842</td>\n",
       "      <td>0.136842</td>\n",
       "      <td>0.715789</td>\n",
       "      <td>4.263158</td>\n",
       "      <td>68.905263</td>\n",
       "      <td>79.294737</td>\n",
       "      <td>95.0</td>\n",
       "    </tr>\n",
       "    <tr>\n",
       "      <th>ss</th>\n",
       "      <td>0.000000</td>\n",
       "      <td>1.313953</td>\n",
       "      <td>10.755814</td>\n",
       "      <td>8.290698</td>\n",
       "      <td>40.500000</td>\n",
       "      <td>2.058140</td>\n",
       "      <td>2.534884</td>\n",
       "      <td>1.813953</td>\n",
       "      <td>1.546512</td>\n",
       "      <td>66.174419</td>\n",
       "      <td>70.558140</td>\n",
       "      <td>86.0</td>\n",
       "    </tr>\n",
       "    <tr>\n",
       "      <th>lf</th>\n",
       "      <td>0.000000</td>\n",
       "      <td>3.040816</td>\n",
       "      <td>0.438776</td>\n",
       "      <td>2.704082</td>\n",
       "      <td>0.214286</td>\n",
       "      <td>30.520408</td>\n",
       "      <td>5.193878</td>\n",
       "      <td>7.602041</td>\n",
       "      <td>7.418367</td>\n",
       "      <td>48.632653</td>\n",
       "      <td>61.142857</td>\n",
       "      <td>98.0</td>\n",
       "    </tr>\n",
       "    <tr>\n",
       "      <th>cf</th>\n",
       "      <td>0.000000</td>\n",
       "      <td>0.825243</td>\n",
       "      <td>0.786408</td>\n",
       "      <td>0.834951</td>\n",
       "      <td>0.592233</td>\n",
       "      <td>16.271845</td>\n",
       "      <td>35.116505</td>\n",
       "      <td>19.000000</td>\n",
       "      <td>3.009709</td>\n",
       "      <td>70.398058</td>\n",
       "      <td>79.572816</td>\n",
       "      <td>103.0</td>\n",
       "    </tr>\n",
       "    <tr>\n",
       "      <th>rf</th>\n",
       "      <td>0.000000</td>\n",
       "      <td>4.297297</td>\n",
       "      <td>1.099099</td>\n",
       "      <td>0.324324</td>\n",
       "      <td>0.000000</td>\n",
       "      <td>9.324324</td>\n",
       "      <td>7.054054</td>\n",
       "      <td>38.243243</td>\n",
       "      <td>6.144144</td>\n",
       "      <td>58.747748</td>\n",
       "      <td>70.306306</td>\n",
       "      <td>111.0</td>\n",
       "    </tr>\n",
       "    <tr>\n",
       "      <th>dh</th>\n",
       "      <td>0.000000</td>\n",
       "      <td>8.461538</td>\n",
       "      <td>0.000000</td>\n",
       "      <td>0.000000</td>\n",
       "      <td>0.000000</td>\n",
       "      <td>1.769231</td>\n",
       "      <td>0.000000</td>\n",
       "      <td>4.923077</td>\n",
       "      <td>35.000000</td>\n",
       "      <td>14.384615</td>\n",
       "      <td>54.230769</td>\n",
       "      <td>13.0</td>\n",
       "    </tr>\n",
       "  </tbody>\n",
       "</table>\n",
       "</div>"
      ],
      "text/plain": [
       "          g_c       g_1b       g_2b       g_3b       g_ss       g_lf  \\\n",
       "c   63.611111   3.125000   0.027778   0.069444   0.000000   0.041667   \n",
       "1b   0.000000  61.847059   0.094118   3.188235   0.000000   3.035294   \n",
       "2b   0.000000   2.655556  49.255556   4.033333   4.944444   5.444444   \n",
       "3b   0.031579  11.178947   3.031579  50.063158   1.926316   2.736842   \n",
       "ss   0.000000   1.313953  10.755814   8.290698  40.500000   2.058140   \n",
       "lf   0.000000   3.040816   0.438776   2.704082   0.214286  30.520408   \n",
       "cf   0.000000   0.825243   0.786408   0.834951   0.592233  16.271845   \n",
       "rf   0.000000   4.297297   1.099099   0.324324   0.000000   9.324324   \n",
       "dh   0.000000   8.461538   0.000000   0.000000   0.000000   1.769231   \n",
       "\n",
       "         g_cf       g_rf       g_dh  g_defense      g_all      n  \n",
       "c    0.000000   0.250000   1.208333  66.611111  70.875000   72.0  \n",
       "1b   0.000000   1.447059   6.894118  68.576471  79.505882   85.0  \n",
       "2b   0.433333   2.233333   3.177778  66.644444  75.122222   90.0  \n",
       "3b   0.136842   0.715789   4.263158  68.905263  79.294737   95.0  \n",
       "ss   2.534884   1.813953   1.546512  66.174419  70.558140   86.0  \n",
       "lf   5.193878   7.602041   7.418367  48.632653  61.142857   98.0  \n",
       "cf  35.116505  19.000000   3.009709  70.398058  79.572816  103.0  \n",
       "rf   7.054054  38.243243   6.144144  58.747748  70.306306  111.0  \n",
       "dh   0.000000   4.923077  35.000000  14.384615  54.230769   13.0  "
      ]
     },
     "execution_count": 8,
     "metadata": {},
     "output_type": "execute_result"
    }
   ],
   "source": [
    "future = pd.concat([get_future_pt(yrly_games, pos) for pos in posns], axis=1).T\n",
    "future"
   ]
  },
  {
   "cell_type": "code",
   "execution_count": 9,
   "metadata": {},
   "outputs": [
    {
     "data": {
      "text/html": [
       "<div>\n",
       "<style scoped>\n",
       "    .dataframe tbody tr th:only-of-type {\n",
       "        vertical-align: middle;\n",
       "    }\n",
       "\n",
       "    .dataframe tbody tr th {\n",
       "        vertical-align: top;\n",
       "    }\n",
       "\n",
       "    .dataframe thead th {\n",
       "        text-align: right;\n",
       "    }\n",
       "</style>\n",
       "<table border=\"1\" class=\"dataframe\">\n",
       "  <thead>\n",
       "    <tr style=\"text-align: right;\">\n",
       "      <th></th>\n",
       "      <th>g_c</th>\n",
       "      <th>g_1b</th>\n",
       "      <th>g_2b</th>\n",
       "      <th>g_3b</th>\n",
       "      <th>g_ss</th>\n",
       "      <th>g_lf</th>\n",
       "      <th>g_cf</th>\n",
       "      <th>g_rf</th>\n",
       "      <th>g_dh</th>\n",
       "      <th>g_defense</th>\n",
       "      <th>g_all</th>\n",
       "      <th>n</th>\n",
       "    </tr>\n",
       "  </thead>\n",
       "  <tbody>\n",
       "    <tr>\n",
       "      <th>c</th>\n",
       "      <td>105.0</td>\n",
       "      <td>1.3</td>\n",
       "      <td>0.0</td>\n",
       "      <td>0.0</td>\n",
       "      <td>0.0</td>\n",
       "      <td>0.0</td>\n",
       "      <td>0.0</td>\n",
       "      <td>0.0</td>\n",
       "      <td>2.6</td>\n",
       "      <td>105.4</td>\n",
       "      <td>110.8</td>\n",
       "      <td>20.0</td>\n",
       "    </tr>\n",
       "    <tr>\n",
       "      <th>1b</th>\n",
       "      <td>0.0</td>\n",
       "      <td>101.1</td>\n",
       "      <td>5.9</td>\n",
       "      <td>0.7</td>\n",
       "      <td>0.0</td>\n",
       "      <td>1.5</td>\n",
       "      <td>0.0</td>\n",
       "      <td>0.1</td>\n",
       "      <td>7.7</td>\n",
       "      <td>108.2</td>\n",
       "      <td>120.4</td>\n",
       "      <td>25.0</td>\n",
       "    </tr>\n",
       "    <tr>\n",
       "      <th>2b</th>\n",
       "      <td>0.0</td>\n",
       "      <td>4.0</td>\n",
       "      <td>72.8</td>\n",
       "      <td>11.8</td>\n",
       "      <td>6.7</td>\n",
       "      <td>5.1</td>\n",
       "      <td>4.5</td>\n",
       "      <td>0.6</td>\n",
       "      <td>1.2</td>\n",
       "      <td>103.0</td>\n",
       "      <td>109.9</td>\n",
       "      <td>34.0</td>\n",
       "    </tr>\n",
       "    <tr>\n",
       "      <th>3b</th>\n",
       "      <td>0.0</td>\n",
       "      <td>12.0</td>\n",
       "      <td>2.9</td>\n",
       "      <td>70.9</td>\n",
       "      <td>0.6</td>\n",
       "      <td>5.4</td>\n",
       "      <td>1.4</td>\n",
       "      <td>5.5</td>\n",
       "      <td>5.2</td>\n",
       "      <td>96.2</td>\n",
       "      <td>105.2</td>\n",
       "      <td>36.0</td>\n",
       "    </tr>\n",
       "    <tr>\n",
       "      <th>ss</th>\n",
       "      <td>0.0</td>\n",
       "      <td>0.0</td>\n",
       "      <td>12.0</td>\n",
       "      <td>4.9</td>\n",
       "      <td>100.5</td>\n",
       "      <td>0.5</td>\n",
       "      <td>0.2</td>\n",
       "      <td>0.2</td>\n",
       "      <td>1.2</td>\n",
       "      <td>117.5</td>\n",
       "      <td>120.6</td>\n",
       "      <td>34.0</td>\n",
       "    </tr>\n",
       "    <tr>\n",
       "      <th>lf</th>\n",
       "      <td>0.0</td>\n",
       "      <td>0.1</td>\n",
       "      <td>3.4</td>\n",
       "      <td>0.0</td>\n",
       "      <td>0.4</td>\n",
       "      <td>52.0</td>\n",
       "      <td>9.8</td>\n",
       "      <td>26.9</td>\n",
       "      <td>6.2</td>\n",
       "      <td>90.6</td>\n",
       "      <td>100.4</td>\n",
       "      <td>25.0</td>\n",
       "    </tr>\n",
       "    <tr>\n",
       "      <th>cf</th>\n",
       "      <td>0.0</td>\n",
       "      <td>0.5</td>\n",
       "      <td>0.7</td>\n",
       "      <td>0.1</td>\n",
       "      <td>0.3</td>\n",
       "      <td>12.4</td>\n",
       "      <td>85.0</td>\n",
       "      <td>15.2</td>\n",
       "      <td>1.2</td>\n",
       "      <td>112.8</td>\n",
       "      <td>118.9</td>\n",
       "      <td>42.0</td>\n",
       "    </tr>\n",
       "    <tr>\n",
       "      <th>rf</th>\n",
       "      <td>0.0</td>\n",
       "      <td>4.3</td>\n",
       "      <td>0.0</td>\n",
       "      <td>0.0</td>\n",
       "      <td>0.0</td>\n",
       "      <td>22.6</td>\n",
       "      <td>30.0</td>\n",
       "      <td>50.5</td>\n",
       "      <td>0.9</td>\n",
       "      <td>103.3</td>\n",
       "      <td>107.8</td>\n",
       "      <td>26.0</td>\n",
       "    </tr>\n",
       "    <tr>\n",
       "      <th>dh</th>\n",
       "      <td>0.0</td>\n",
       "      <td>22.5</td>\n",
       "      <td>0.0</td>\n",
       "      <td>0.0</td>\n",
       "      <td>0.0</td>\n",
       "      <td>4.5</td>\n",
       "      <td>0.0</td>\n",
       "      <td>10.5</td>\n",
       "      <td>56.0</td>\n",
       "      <td>37.5</td>\n",
       "      <td>102.5</td>\n",
       "      <td>2.0</td>\n",
       "    </tr>\n",
       "  </tbody>\n",
       "</table>\n",
       "</div>"
      ],
      "text/plain": [
       "      g_c   g_1b  g_2b  g_3b   g_ss  g_lf  g_cf  g_rf  g_dh  g_defense  g_all  \\\n",
       "c   105.0    1.3   0.0   0.0    0.0   0.0   0.0   0.0   2.6      105.4  110.8   \n",
       "1b    0.0  101.1   5.9   0.7    0.0   1.5   0.0   0.1   7.7      108.2  120.4   \n",
       "2b    0.0    4.0  72.8  11.8    6.7   5.1   4.5   0.6   1.2      103.0  109.9   \n",
       "3b    0.0   12.0   2.9  70.9    0.6   5.4   1.4   5.5   5.2       96.2  105.2   \n",
       "ss    0.0    0.0  12.0   4.9  100.5   0.5   0.2   0.2   1.2      117.5  120.6   \n",
       "lf    0.0    0.1   3.4   0.0    0.4  52.0   9.8  26.9   6.2       90.6  100.4   \n",
       "cf    0.0    0.5   0.7   0.1    0.3  12.4  85.0  15.2   1.2      112.8  118.9   \n",
       "rf    0.0    4.3   0.0   0.0    0.0  22.6  30.0  50.5   0.9      103.3  107.8   \n",
       "dh    0.0   22.5   0.0   0.0    0.0   4.5   0.0  10.5  56.0       37.5  102.5   \n",
       "\n",
       "       n  \n",
       "c   20.0  \n",
       "1b  25.0  \n",
       "2b  34.0  \n",
       "3b  36.0  \n",
       "ss  34.0  \n",
       "lf  25.0  \n",
       "cf  42.0  \n",
       "rf  26.0  \n",
       "dh   2.0  "
      ]
     },
     "execution_count": 9,
     "metadata": {},
     "output_type": "execute_result"
    }
   ],
   "source": [
    "# try it again for 2000-current\n",
    "def get_pt_matrix(start_age=24, comp_age=27):\n",
    "    future = pd.concat([get_future_pt(yrly_games.query('year_id>=2000'), pos, start_age=start_age, comp_age=comp_age) for pos in posns], axis=1).T\n",
    "    return future.apply(lambda x: round(x, 1))\n",
    "\n",
    "get_pt_matrix(24, 27)"
   ]
  },
  {
   "cell_type": "code",
   "execution_count": 10,
   "metadata": {},
   "outputs": [
    {
     "data": {
      "text/html": [
       "<div>\n",
       "<style scoped>\n",
       "    .dataframe tbody tr th:only-of-type {\n",
       "        vertical-align: middle;\n",
       "    }\n",
       "\n",
       "    .dataframe tbody tr th {\n",
       "        vertical-align: top;\n",
       "    }\n",
       "\n",
       "    .dataframe thead th {\n",
       "        text-align: right;\n",
       "    }\n",
       "</style>\n",
       "<table border=\"1\" class=\"dataframe\">\n",
       "  <thead>\n",
       "    <tr style=\"text-align: right;\">\n",
       "      <th></th>\n",
       "      <th>g_c</th>\n",
       "      <th>g_1b</th>\n",
       "      <th>g_2b</th>\n",
       "      <th>g_3b</th>\n",
       "      <th>g_ss</th>\n",
       "      <th>g_lf</th>\n",
       "      <th>g_cf</th>\n",
       "      <th>g_rf</th>\n",
       "      <th>g_dh</th>\n",
       "      <th>g_defense</th>\n",
       "      <th>g_all</th>\n",
       "      <th>n</th>\n",
       "    </tr>\n",
       "  </thead>\n",
       "  <tbody>\n",
       "    <tr>\n",
       "      <th>c</th>\n",
       "      <td>84.2</td>\n",
       "      <td>8.0</td>\n",
       "      <td>0.0</td>\n",
       "      <td>0.1</td>\n",
       "      <td>0.0</td>\n",
       "      <td>0.4</td>\n",
       "      <td>0.0</td>\n",
       "      <td>0.2</td>\n",
       "      <td>7.6</td>\n",
       "      <td>91.5</td>\n",
       "      <td>104.2</td>\n",
       "      <td>37.0</td>\n",
       "    </tr>\n",
       "    <tr>\n",
       "      <th>1b</th>\n",
       "      <td>0.0</td>\n",
       "      <td>76.1</td>\n",
       "      <td>0.1</td>\n",
       "      <td>5.8</td>\n",
       "      <td>0.0</td>\n",
       "      <td>2.8</td>\n",
       "      <td>0.0</td>\n",
       "      <td>8.7</td>\n",
       "      <td>7.0</td>\n",
       "      <td>92.0</td>\n",
       "      <td>103.2</td>\n",
       "      <td>45.0</td>\n",
       "    </tr>\n",
       "    <tr>\n",
       "      <th>2b</th>\n",
       "      <td>0.0</td>\n",
       "      <td>2.8</td>\n",
       "      <td>62.7</td>\n",
       "      <td>9.7</td>\n",
       "      <td>6.6</td>\n",
       "      <td>4.5</td>\n",
       "      <td>1.2</td>\n",
       "      <td>0.8</td>\n",
       "      <td>0.8</td>\n",
       "      <td>86.0</td>\n",
       "      <td>92.4</td>\n",
       "      <td>59.0</td>\n",
       "    </tr>\n",
       "    <tr>\n",
       "      <th>3b</th>\n",
       "      <td>0.0</td>\n",
       "      <td>12.2</td>\n",
       "      <td>7.4</td>\n",
       "      <td>62.4</td>\n",
       "      <td>4.4</td>\n",
       "      <td>0.5</td>\n",
       "      <td>0.0</td>\n",
       "      <td>3.2</td>\n",
       "      <td>4.1</td>\n",
       "      <td>88.1</td>\n",
       "      <td>96.0</td>\n",
       "      <td>42.0</td>\n",
       "    </tr>\n",
       "    <tr>\n",
       "      <th>ss</th>\n",
       "      <td>0.0</td>\n",
       "      <td>0.4</td>\n",
       "      <td>12.5</td>\n",
       "      <td>10.6</td>\n",
       "      <td>89.0</td>\n",
       "      <td>0.8</td>\n",
       "      <td>2.8</td>\n",
       "      <td>0.2</td>\n",
       "      <td>0.8</td>\n",
       "      <td>114.2</td>\n",
       "      <td>118.7</td>\n",
       "      <td>47.0</td>\n",
       "    </tr>\n",
       "    <tr>\n",
       "      <th>lf</th>\n",
       "      <td>0.0</td>\n",
       "      <td>9.4</td>\n",
       "      <td>0.4</td>\n",
       "      <td>2.3</td>\n",
       "      <td>0.0</td>\n",
       "      <td>54.7</td>\n",
       "      <td>6.5</td>\n",
       "      <td>13.2</td>\n",
       "      <td>8.9</td>\n",
       "      <td>84.6</td>\n",
       "      <td>99.8</td>\n",
       "      <td>48.0</td>\n",
       "    </tr>\n",
       "    <tr>\n",
       "      <th>cf</th>\n",
       "      <td>0.0</td>\n",
       "      <td>2.6</td>\n",
       "      <td>0.9</td>\n",
       "      <td>0.1</td>\n",
       "      <td>0.1</td>\n",
       "      <td>18.8</td>\n",
       "      <td>58.8</td>\n",
       "      <td>11.5</td>\n",
       "      <td>1.7</td>\n",
       "      <td>90.1</td>\n",
       "      <td>96.2</td>\n",
       "      <td>58.0</td>\n",
       "    </tr>\n",
       "    <tr>\n",
       "      <th>rf</th>\n",
       "      <td>0.0</td>\n",
       "      <td>4.5</td>\n",
       "      <td>1.5</td>\n",
       "      <td>0.1</td>\n",
       "      <td>0.2</td>\n",
       "      <td>14.0</td>\n",
       "      <td>17.7</td>\n",
       "      <td>63.7</td>\n",
       "      <td>4.7</td>\n",
       "      <td>97.4</td>\n",
       "      <td>106.1</td>\n",
       "      <td>41.0</td>\n",
       "    </tr>\n",
       "    <tr>\n",
       "      <th>dh</th>\n",
       "      <td>1.3</td>\n",
       "      <td>22.2</td>\n",
       "      <td>0.0</td>\n",
       "      <td>5.2</td>\n",
       "      <td>0.0</td>\n",
       "      <td>12.7</td>\n",
       "      <td>0.0</td>\n",
       "      <td>1.1</td>\n",
       "      <td>34.0</td>\n",
       "      <td>40.2</td>\n",
       "      <td>80.0</td>\n",
       "      <td>10.0</td>\n",
       "    </tr>\n",
       "  </tbody>\n",
       "</table>\n",
       "</div>"
      ],
      "text/plain": [
       "     g_c  g_1b  g_2b  g_3b  g_ss  g_lf  g_cf  g_rf  g_dh  g_defense  g_all  \\\n",
       "c   84.2   8.0   0.0   0.1   0.0   0.4   0.0   0.2   7.6       91.5  104.2   \n",
       "1b   0.0  76.1   0.1   5.8   0.0   2.8   0.0   8.7   7.0       92.0  103.2   \n",
       "2b   0.0   2.8  62.7   9.7   6.6   4.5   1.2   0.8   0.8       86.0   92.4   \n",
       "3b   0.0  12.2   7.4  62.4   4.4   0.5   0.0   3.2   4.1       88.1   96.0   \n",
       "ss   0.0   0.4  12.5  10.6  89.0   0.8   2.8   0.2   0.8      114.2  118.7   \n",
       "lf   0.0   9.4   0.4   2.3   0.0  54.7   6.5  13.2   8.9       84.6   99.8   \n",
       "cf   0.0   2.6   0.9   0.1   0.1  18.8  58.8  11.5   1.7       90.1   96.2   \n",
       "rf   0.0   4.5   1.5   0.1   0.2  14.0  17.7  63.7   4.7       97.4  106.1   \n",
       "dh   1.3  22.2   0.0   5.2   0.0  12.7   0.0   1.1  34.0       40.2   80.0   \n",
       "\n",
       "       n  \n",
       "c   37.0  \n",
       "1b  45.0  \n",
       "2b  59.0  \n",
       "3b  42.0  \n",
       "ss  47.0  \n",
       "lf  48.0  \n",
       "cf  58.0  \n",
       "rf  41.0  \n",
       "dh  10.0  "
      ]
     },
     "execution_count": 10,
     "metadata": {},
     "output_type": "execute_result"
    }
   ],
   "source": [
    "get_pt_matrix(27, 30)"
   ]
  },
  {
   "cell_type": "code",
   "execution_count": 11,
   "metadata": {},
   "outputs": [
    {
     "name": "stdout",
     "output_type": "stream",
     "text": [
      "       g_c  g_1b  g_2b  g_3b  g_ss  g_lf  g_cf  g_rf   g_dh\n",
      "25306    0   119     0     0     0     0     0     0   14.0\n",
      "43268    0   157     0     0     0     0     0     0    5.0\n",
      "43163    0   157     0     0     0     0     0     0    2.0\n",
      "42704    0   120     0     0     0    14     0     0    0.0\n",
      "42415    0    79     0     0     0     0     0     0    0.0\n",
      "41792    0   105     0    16     0     0     0     0    0.0\n",
      "38941    0     1     0     0     0     0     0     1    0.0\n",
      "38940    0     1     0     0     0     0     0     1    0.0\n",
      "38778    0   160     0     0     0     0     0     0    0.0\n",
      "37779    0     7     0     0     0     0     0     0  150.0\n",
      "36814    0   150     0     0     0     0     0     0    1.0\n",
      "37666    0    36     0     0     0     0     0     0    0.0\n",
      "35207    0   159     0     0     0     0     0     0    3.0\n",
      "34228    0   151     0     0     0     0     0     0    0.0\n",
      "34206    0   116     0     0     0     0     0     0    3.0\n",
      "33929    0   156     0     0     0     0     0     0    2.0\n",
      "33286    0    74     0     0     0     0     0     0    4.0\n",
      "33285    0    54     0     0     0     0     0     0    0.0\n",
      "33072    0   155     0     0     0     0     0     0    8.0\n",
      "30731    0   154     0     0     0     0     0     0    0.0\n",
      "25350    0   155     0     0     0     0     0     0    0.0\n",
      "35426    0     6     0     0     0    23     0     0    0.0\n",
      "43988    0    86     0     0     0     0     0     0    0.0\n",
      "43728    0   157    10     1     0     1     0     0    0.0\n",
      "39642    0    12   138     0     0     0     0     0    0.0\n"
     ]
    }
   ],
   "source": [
    "# Wait, how do we get 1b->2b move of 5.9 games?  Did someone move from 1B to 2B?  Let's find out.\n",
    "\n",
    "def temp_get_future_pt(gms: pd.DataFrame, pos: str, start_age: int = 28, comp_age: int = 33, gm_threshold: int = 100) -> pd.Series:\n",
    "    max_year = 2019-(comp_age-start_age)\n",
    "\n",
    "    prime_regulars = gms.query(f'age_int==@start_age and g_all>=@gm_threshold and primary==@pos and year_id<=@max_year')['player_id']\n",
    "    print(gms.query('player_id in @prime_regulars and age_int==@comp_age')[[f'g_{pos}' for pos in posns]].sort_values('g_2b'))\n",
    "\n",
    "temp_get_future_pt(yrly_games.query('year_id>=2000'), '1b', start_age=24, comp_age=27)"
   ]
  },
  {
   "cell_type": "code",
   "execution_count": 12,
   "metadata": {},
   "outputs": [
    {
     "data": {
      "text/plain": [
       "player_id     murphda08\n",
       "year_id            2012\n",
       "team_id             NYN\n",
       "lg_id                NL\n",
       "g_all               156\n",
       "gs                136.0\n",
       "g_batting           156\n",
       "g_defense         144.0\n",
       "g_p                   0\n",
       "g_c                   0\n",
       "g_1b                 12\n",
       "g_2b                138\n",
       "g_3b                  0\n",
       "g_ss                  0\n",
       "g_lf                  0\n",
       "g_cf                  0\n",
       "g_rf                  0\n",
       "g_of                  0\n",
       "g_dh                0.0\n",
       "g_ph               18.0\n",
       "g_pr                0.0\n",
       "birthdate    1985-04-01\n",
       "age           27.250575\n",
       "age_int              27\n",
       "primary              2b\n",
       "Name: 39642, dtype: object"
      ]
     },
     "execution_count": 12,
     "metadata": {},
     "output_type": "execute_result"
    }
   ],
   "source": [
    "yrly_games.loc[39642]"
   ]
  },
  {
   "cell_type": "code",
   "execution_count": null,
   "metadata": {},
   "outputs": [],
   "source": []
  }
 ],
 "metadata": {
  "interpreter": {
   "hash": "cd78fef2128015050713e82ca51c6520b11aee7c9ee8df750520bbbc7384cbaa"
  },
  "kernelspec": {
   "display_name": "Python 3.8.8 ('base')",
   "language": "python",
   "name": "python3"
  },
  "language_info": {
   "codemirror_mode": {
    "name": "ipython",
    "version": 3
   },
   "file_extension": ".py",
   "mimetype": "text/x-python",
   "name": "python",
   "nbconvert_exporter": "python",
   "pygments_lexer": "ipython3",
   "version": "3.8.8"
  }
 },
 "nbformat": 4,
 "nbformat_minor": 4
}
