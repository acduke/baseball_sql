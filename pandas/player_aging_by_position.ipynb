{
 "cells": [
  {
   "cell_type": "markdown",
   "metadata": {},
   "source": [
    "# Age Distributions by Position"
   ]
  },
  {
   "cell_type": "code",
   "execution_count": 1,
   "metadata": {},
   "outputs": [],
   "source": [
    "import pandas as pd\n",
    "import plotly.express as px\n",
    "\n",
    "import boxball_loader as bbl\n"
   ]
  },
  {
   "cell_type": "code",
   "execution_count": 2,
   "metadata": {},
   "outputs": [
    {
     "data": {
      "text/plain": [
       "Index(['year_id', 'team_id', 'lg_id', 'player_id', 'g_all', 'gs', 'g_batting',\n",
       "       'g_defense', 'g_p', 'g_c', 'g_1b', 'g_2b', 'g_3b', 'g_ss', 'g_lf',\n",
       "       'g_cf', 'g_rf', 'g_of', 'g_dh', 'g_ph', 'g_pr'],\n",
       "      dtype='object')"
      ]
     },
     "execution_count": 2,
     "metadata": {},
     "output_type": "execute_result"
    }
   ],
   "source": [
    "apps = bbl.load_appearances()\n",
    "apps.columns"
   ]
  },
  {
   "cell_type": "code",
   "execution_count": 3,
   "metadata": {},
   "outputs": [
    {
     "data": {
      "text/plain": [
       "player_id\n",
       "richbla01    1897-12-18\n",
       "fletcge01    1845-04-21\n",
       "gibauia01    1993-11-19\n",
       "hendrky01    1989-12-07\n",
       "rohrle01     1946-03-05\n",
       "lyonru01     1913-06-26\n",
       "larocan01    1983-09-13\n",
       "sheajo01     1904-12-27\n",
       "whitesa01    1893-08-23\n",
       "bartosh01    1963-05-14\n",
       "Name: birthdate, dtype: object"
      ]
     },
     "execution_count": 3,
     "metadata": {},
     "output_type": "execute_result"
    }
   ],
   "source": [
    "birthdates = bbl.load_birthdates()\n",
    "birthdates.sample(10)\n"
   ]
  },
  {
   "cell_type": "code",
   "execution_count": 4,
   "metadata": {},
   "outputs": [
    {
     "data": {
      "text/html": [
       "<div>\n",
       "<style scoped>\n",
       "    .dataframe tbody tr th:only-of-type {\n",
       "        vertical-align: middle;\n",
       "    }\n",
       "\n",
       "    .dataframe tbody tr th {\n",
       "        vertical-align: top;\n",
       "    }\n",
       "\n",
       "    .dataframe thead th {\n",
       "        text-align: right;\n",
       "    }\n",
       "</style>\n",
       "<table border=\"1\" class=\"dataframe\">\n",
       "  <thead>\n",
       "    <tr style=\"text-align: right;\">\n",
       "      <th></th>\n",
       "      <th>player_id</th>\n",
       "      <th>year_id</th>\n",
       "      <th>team_id</th>\n",
       "      <th>lg_id</th>\n",
       "      <th>g_all</th>\n",
       "      <th>gs</th>\n",
       "      <th>g_batting</th>\n",
       "      <th>g_defense</th>\n",
       "      <th>g_p</th>\n",
       "      <th>g_c</th>\n",
       "      <th>...</th>\n",
       "      <th>g_ss</th>\n",
       "      <th>g_lf</th>\n",
       "      <th>g_cf</th>\n",
       "      <th>g_rf</th>\n",
       "      <th>g_of</th>\n",
       "      <th>g_dh</th>\n",
       "      <th>g_ph</th>\n",
       "      <th>g_pr</th>\n",
       "      <th>birthdate</th>\n",
       "      <th>baseball_age</th>\n",
       "    </tr>\n",
       "  </thead>\n",
       "  <tbody>\n",
       "    <tr>\n",
       "      <th>7360</th>\n",
       "      <td>johnsro03</td>\n",
       "      <td>1983</td>\n",
       "      <td>KCA</td>\n",
       "      <td>AL</td>\n",
       "      <td>9</td>\n",
       "      <td>7.0</td>\n",
       "      <td>9</td>\n",
       "      <td>9.0</td>\n",
       "      <td>0</td>\n",
       "      <td>2</td>\n",
       "      <td>...</td>\n",
       "      <td>0</td>\n",
       "      <td>0</td>\n",
       "      <td>0</td>\n",
       "      <td>0</td>\n",
       "      <td>0</td>\n",
       "      <td>0.0</td>\n",
       "      <td>0.0</td>\n",
       "      <td>0.0</td>\n",
       "      <td>1956-03-23</td>\n",
       "      <td>27</td>\n",
       "    </tr>\n",
       "    <tr>\n",
       "      <th>42043</th>\n",
       "      <td>lecursa01</td>\n",
       "      <td>2011</td>\n",
       "      <td>CIN</td>\n",
       "      <td>NL</td>\n",
       "      <td>43</td>\n",
       "      <td>4.0</td>\n",
       "      <td>40</td>\n",
       "      <td>43.0</td>\n",
       "      <td>43</td>\n",
       "      <td>0</td>\n",
       "      <td>...</td>\n",
       "      <td>0</td>\n",
       "      <td>0</td>\n",
       "      <td>0</td>\n",
       "      <td>0</td>\n",
       "      <td>0</td>\n",
       "      <td>0.0</td>\n",
       "      <td>0.0</td>\n",
       "      <td>0.0</td>\n",
       "      <td>1984-05-04</td>\n",
       "      <td>27</td>\n",
       "    </tr>\n",
       "    <tr>\n",
       "      <th>30544</th>\n",
       "      <td>mateohe01</td>\n",
       "      <td>2004</td>\n",
       "      <td>MON</td>\n",
       "      <td>NL</td>\n",
       "      <td>40</td>\n",
       "      <td>1.0</td>\n",
       "      <td>40</td>\n",
       "      <td>10.0</td>\n",
       "      <td>0</td>\n",
       "      <td>0</td>\n",
       "      <td>...</td>\n",
       "      <td>0</td>\n",
       "      <td>1</td>\n",
       "      <td>0</td>\n",
       "      <td>0</td>\n",
       "      <td>1</td>\n",
       "      <td>0.0</td>\n",
       "      <td>28.0</td>\n",
       "      <td>4.0</td>\n",
       "      <td>1976-10-14</td>\n",
       "      <td>27</td>\n",
       "    </tr>\n",
       "    <tr>\n",
       "      <th>13892</th>\n",
       "      <td>gerenbo01</td>\n",
       "      <td>1991</td>\n",
       "      <td>NYA</td>\n",
       "      <td>AL</td>\n",
       "      <td>64</td>\n",
       "      <td>42.0</td>\n",
       "      <td>64</td>\n",
       "      <td>63.0</td>\n",
       "      <td>0</td>\n",
       "      <td>63</td>\n",
       "      <td>...</td>\n",
       "      <td>0</td>\n",
       "      <td>0</td>\n",
       "      <td>0</td>\n",
       "      <td>0</td>\n",
       "      <td>0</td>\n",
       "      <td>0.0</td>\n",
       "      <td>1.0</td>\n",
       "      <td>0.0</td>\n",
       "      <td>1961-09-22</td>\n",
       "      <td>29</td>\n",
       "    </tr>\n",
       "    <tr>\n",
       "      <th>33417</th>\n",
       "      <td>welleto01</td>\n",
       "      <td>2006</td>\n",
       "      <td>FLO</td>\n",
       "      <td>NL</td>\n",
       "      <td>18</td>\n",
       "      <td>0.0</td>\n",
       "      <td>18</td>\n",
       "      <td>18.0</td>\n",
       "      <td>18</td>\n",
       "      <td>0</td>\n",
       "      <td>...</td>\n",
       "      <td>0</td>\n",
       "      <td>0</td>\n",
       "      <td>0</td>\n",
       "      <td>0</td>\n",
       "      <td>0</td>\n",
       "      <td>0.0</td>\n",
       "      <td>0.0</td>\n",
       "      <td>0.0</td>\n",
       "      <td>1978-08-30</td>\n",
       "      <td>27</td>\n",
       "    </tr>\n",
       "    <tr>\n",
       "      <th>37430</th>\n",
       "      <td>stokebr01</td>\n",
       "      <td>2009</td>\n",
       "      <td>NYN</td>\n",
       "      <td>NL</td>\n",
       "      <td>69</td>\n",
       "      <td>0.0</td>\n",
       "      <td>66</td>\n",
       "      <td>69.0</td>\n",
       "      <td>69</td>\n",
       "      <td>0</td>\n",
       "      <td>...</td>\n",
       "      <td>0</td>\n",
       "      <td>0</td>\n",
       "      <td>0</td>\n",
       "      <td>0</td>\n",
       "      <td>0</td>\n",
       "      <td>0.0</td>\n",
       "      <td>0.0</td>\n",
       "      <td>0.0</td>\n",
       "      <td>1979-09-07</td>\n",
       "      <td>29</td>\n",
       "    </tr>\n",
       "    <tr>\n",
       "      <th>36036</th>\n",
       "      <td>tejedro01</td>\n",
       "      <td>2009</td>\n",
       "      <td>KCA</td>\n",
       "      <td>AL</td>\n",
       "      <td>35</td>\n",
       "      <td>6.0</td>\n",
       "      <td>0</td>\n",
       "      <td>35.0</td>\n",
       "      <td>35</td>\n",
       "      <td>0</td>\n",
       "      <td>...</td>\n",
       "      <td>0</td>\n",
       "      <td>0</td>\n",
       "      <td>0</td>\n",
       "      <td>0</td>\n",
       "      <td>0</td>\n",
       "      <td>0.0</td>\n",
       "      <td>0.0</td>\n",
       "      <td>0.0</td>\n",
       "      <td>1982-03-24</td>\n",
       "      <td>27</td>\n",
       "    </tr>\n",
       "    <tr>\n",
       "      <th>36529</th>\n",
       "      <td>hammeja01</td>\n",
       "      <td>2007</td>\n",
       "      <td>TBA</td>\n",
       "      <td>AL</td>\n",
       "      <td>24</td>\n",
       "      <td>14.0</td>\n",
       "      <td>1</td>\n",
       "      <td>24.0</td>\n",
       "      <td>24</td>\n",
       "      <td>0</td>\n",
       "      <td>...</td>\n",
       "      <td>0</td>\n",
       "      <td>0</td>\n",
       "      <td>0</td>\n",
       "      <td>0</td>\n",
       "      <td>0</td>\n",
       "      <td>0.0</td>\n",
       "      <td>0.0</td>\n",
       "      <td>0.0</td>\n",
       "      <td>1982-09-02</td>\n",
       "      <td>24</td>\n",
       "    </tr>\n",
       "    <tr>\n",
       "      <th>48699</th>\n",
       "      <td>hellebe01</td>\n",
       "      <td>2017</td>\n",
       "      <td>NYA</td>\n",
       "      <td>AL</td>\n",
       "      <td>9</td>\n",
       "      <td>0.0</td>\n",
       "      <td>0</td>\n",
       "      <td>9.0</td>\n",
       "      <td>9</td>\n",
       "      <td>0</td>\n",
       "      <td>...</td>\n",
       "      <td>0</td>\n",
       "      <td>0</td>\n",
       "      <td>0</td>\n",
       "      <td>0</td>\n",
       "      <td>0</td>\n",
       "      <td>0.0</td>\n",
       "      <td>0.0</td>\n",
       "      <td>0.0</td>\n",
       "      <td>1991-08-05</td>\n",
       "      <td>25</td>\n",
       "    </tr>\n",
       "    <tr>\n",
       "      <th>19048</th>\n",
       "      <td>pughti01</td>\n",
       "      <td>1994</td>\n",
       "      <td>CIN</td>\n",
       "      <td>NL</td>\n",
       "      <td>10</td>\n",
       "      <td>9.0</td>\n",
       "      <td>10</td>\n",
       "      <td>10.0</td>\n",
       "      <td>10</td>\n",
       "      <td>0</td>\n",
       "      <td>...</td>\n",
       "      <td>0</td>\n",
       "      <td>0</td>\n",
       "      <td>0</td>\n",
       "      <td>0</td>\n",
       "      <td>0</td>\n",
       "      <td>0.0</td>\n",
       "      <td>0.0</td>\n",
       "      <td>0.0</td>\n",
       "      <td>1967-01-26</td>\n",
       "      <td>27</td>\n",
       "    </tr>\n",
       "  </tbody>\n",
       "</table>\n",
       "<p>10 rows × 23 columns</p>\n",
       "</div>"
      ],
      "text/plain": [
       "       player_id  year_id team_id lg_id  g_all    gs  g_batting  g_defense  \\\n",
       "7360   johnsro03     1983     KCA    AL      9   7.0          9        9.0   \n",
       "42043  lecursa01     2011     CIN    NL     43   4.0         40       43.0   \n",
       "30544  mateohe01     2004     MON    NL     40   1.0         40       10.0   \n",
       "13892  gerenbo01     1991     NYA    AL     64  42.0         64       63.0   \n",
       "33417  welleto01     2006     FLO    NL     18   0.0         18       18.0   \n",
       "37430  stokebr01     2009     NYN    NL     69   0.0         66       69.0   \n",
       "36036  tejedro01     2009     KCA    AL     35   6.0          0       35.0   \n",
       "36529  hammeja01     2007     TBA    AL     24  14.0          1       24.0   \n",
       "48699  hellebe01     2017     NYA    AL      9   0.0          0        9.0   \n",
       "19048   pughti01     1994     CIN    NL     10   9.0         10       10.0   \n",
       "\n",
       "       g_p  g_c  ...  g_ss  g_lf  g_cf  g_rf  g_of  g_dh  g_ph  g_pr  \\\n",
       "7360     0    2  ...     0     0     0     0     0   0.0   0.0   0.0   \n",
       "42043   43    0  ...     0     0     0     0     0   0.0   0.0   0.0   \n",
       "30544    0    0  ...     0     1     0     0     1   0.0  28.0   4.0   \n",
       "13892    0   63  ...     0     0     0     0     0   0.0   1.0   0.0   \n",
       "33417   18    0  ...     0     0     0     0     0   0.0   0.0   0.0   \n",
       "37430   69    0  ...     0     0     0     0     0   0.0   0.0   0.0   \n",
       "36036   35    0  ...     0     0     0     0     0   0.0   0.0   0.0   \n",
       "36529   24    0  ...     0     0     0     0     0   0.0   0.0   0.0   \n",
       "48699    9    0  ...     0     0     0     0     0   0.0   0.0   0.0   \n",
       "19048   10    0  ...     0     0     0     0     0   0.0   0.0   0.0   \n",
       "\n",
       "        birthdate  baseball_age  \n",
       "7360   1956-03-23            27  \n",
       "42043  1984-05-04            27  \n",
       "30544  1976-10-14            27  \n",
       "13892  1961-09-22            29  \n",
       "33417  1978-08-30            27  \n",
       "37430  1979-09-07            29  \n",
       "36036  1982-03-24            27  \n",
       "36529  1982-09-02            24  \n",
       "48699  1991-08-05            25  \n",
       "19048  1967-01-26            27  \n",
       "\n",
       "[10 rows x 23 columns]"
      ]
     },
     "execution_count": 4,
     "metadata": {},
     "output_type": "execute_result"
    }
   ],
   "source": [
    "def compute_baseball_age(yr: int, bd):\n",
    "    age = yr - bd.year - (1 if bd.month >= 7 else 0)\n",
    "    return age\n",
    "\n",
    "df = pd.merge(left=apps.query('year_id >= 1980').set_index('player_id'), right=birthdates, on='player_id').reset_index()\n",
    "df['baseball_age'] = df.apply(lambda row: compute_baseball_age(row['year_id'], row['birthdate']), axis=1)\n",
    "\n",
    "yrly_games = df\n",
    "yrly_games.sample(10)\n"
   ]
  },
  {
   "cell_type": "code",
   "execution_count": 5,
   "metadata": {},
   "outputs": [
    {
     "data": {
      "text/html": [
       "<div>\n",
       "<style scoped>\n",
       "    .dataframe tbody tr th:only-of-type {\n",
       "        vertical-align: middle;\n",
       "    }\n",
       "\n",
       "    .dataframe tbody tr th {\n",
       "        vertical-align: top;\n",
       "    }\n",
       "\n",
       "    .dataframe thead th {\n",
       "        text-align: right;\n",
       "    }\n",
       "</style>\n",
       "<table border=\"1\" class=\"dataframe\">\n",
       "  <thead>\n",
       "    <tr style=\"text-align: right;\">\n",
       "      <th></th>\n",
       "      <th>player_id</th>\n",
       "      <th>year_id</th>\n",
       "      <th>team_id</th>\n",
       "      <th>lg_id</th>\n",
       "      <th>g_all</th>\n",
       "      <th>gs</th>\n",
       "      <th>g_batting</th>\n",
       "      <th>g_defense</th>\n",
       "      <th>g_p</th>\n",
       "      <th>g_c</th>\n",
       "      <th>...</th>\n",
       "      <th>g_lf</th>\n",
       "      <th>g_cf</th>\n",
       "      <th>g_rf</th>\n",
       "      <th>g_of</th>\n",
       "      <th>g_dh</th>\n",
       "      <th>g_ph</th>\n",
       "      <th>g_pr</th>\n",
       "      <th>birthdate</th>\n",
       "      <th>baseball_age</th>\n",
       "      <th>primary</th>\n",
       "    </tr>\n",
       "  </thead>\n",
       "  <tbody>\n",
       "    <tr>\n",
       "      <th>30576</th>\n",
       "      <td>milleco01</td>\n",
       "      <td>2007</td>\n",
       "      <td>ATL</td>\n",
       "      <td>NL</td>\n",
       "      <td>12</td>\n",
       "      <td>6.0</td>\n",
       "      <td>12</td>\n",
       "      <td>11.0</td>\n",
       "      <td>0</td>\n",
       "      <td>11</td>\n",
       "      <td>...</td>\n",
       "      <td>0</td>\n",
       "      <td>0</td>\n",
       "      <td>0</td>\n",
       "      <td>0</td>\n",
       "      <td>0.0</td>\n",
       "      <td>1.0</td>\n",
       "      <td>0.0</td>\n",
       "      <td>1976-03-18</td>\n",
       "      <td>31</td>\n",
       "      <td>c</td>\n",
       "    </tr>\n",
       "    <tr>\n",
       "      <th>50548</th>\n",
       "      <td>shafeju01</td>\n",
       "      <td>2019</td>\n",
       "      <td>TOR</td>\n",
       "      <td>AL</td>\n",
       "      <td>34</td>\n",
       "      <td>0.0</td>\n",
       "      <td>2</td>\n",
       "      <td>34.0</td>\n",
       "      <td>34</td>\n",
       "      <td>0</td>\n",
       "      <td>...</td>\n",
       "      <td>0</td>\n",
       "      <td>0</td>\n",
       "      <td>0</td>\n",
       "      <td>0</td>\n",
       "      <td>0.0</td>\n",
       "      <td>0.0</td>\n",
       "      <td>0.0</td>\n",
       "      <td>1992-09-18</td>\n",
       "      <td>26</td>\n",
       "      <td>c</td>\n",
       "    </tr>\n",
       "    <tr>\n",
       "      <th>25978</th>\n",
       "      <td>bakopa01</td>\n",
       "      <td>2008</td>\n",
       "      <td>CIN</td>\n",
       "      <td>NL</td>\n",
       "      <td>99</td>\n",
       "      <td>88.0</td>\n",
       "      <td>99</td>\n",
       "      <td>96.0</td>\n",
       "      <td>0</td>\n",
       "      <td>96</td>\n",
       "      <td>...</td>\n",
       "      <td>0</td>\n",
       "      <td>0</td>\n",
       "      <td>0</td>\n",
       "      <td>0</td>\n",
       "      <td>0.0</td>\n",
       "      <td>5.0</td>\n",
       "      <td>1.0</td>\n",
       "      <td>1972-06-20</td>\n",
       "      <td>36</td>\n",
       "      <td>c</td>\n",
       "    </tr>\n",
       "    <tr>\n",
       "      <th>6518</th>\n",
       "      <td>powerte01</td>\n",
       "      <td>1992</td>\n",
       "      <td>CLE</td>\n",
       "      <td>AL</td>\n",
       "      <td>64</td>\n",
       "      <td>0.0</td>\n",
       "      <td>0</td>\n",
       "      <td>64.0</td>\n",
       "      <td>64</td>\n",
       "      <td>0</td>\n",
       "      <td>...</td>\n",
       "      <td>0</td>\n",
       "      <td>0</td>\n",
       "      <td>0</td>\n",
       "      <td>0</td>\n",
       "      <td>0.0</td>\n",
       "      <td>0.0</td>\n",
       "      <td>0.0</td>\n",
       "      <td>1955-01-31</td>\n",
       "      <td>37</td>\n",
       "      <td>c</td>\n",
       "    </tr>\n",
       "    <tr>\n",
       "      <th>13712</th>\n",
       "      <td>brilegr01</td>\n",
       "      <td>1992</td>\n",
       "      <td>SEA</td>\n",
       "      <td>AL</td>\n",
       "      <td>86</td>\n",
       "      <td>47.0</td>\n",
       "      <td>86</td>\n",
       "      <td>49.0</td>\n",
       "      <td>0</td>\n",
       "      <td>0</td>\n",
       "      <td>...</td>\n",
       "      <td>27</td>\n",
       "      <td>13</td>\n",
       "      <td>4</td>\n",
       "      <td>42</td>\n",
       "      <td>12.0</td>\n",
       "      <td>31.0</td>\n",
       "      <td>2.0</td>\n",
       "      <td>1965-05-24</td>\n",
       "      <td>27</td>\n",
       "      <td>lf</td>\n",
       "    </tr>\n",
       "    <tr>\n",
       "      <th>24627</th>\n",
       "      <td>wrighja01</td>\n",
       "      <td>2002</td>\n",
       "      <td>MIL</td>\n",
       "      <td>NL</td>\n",
       "      <td>19</td>\n",
       "      <td>19.0</td>\n",
       "      <td>19</td>\n",
       "      <td>19.0</td>\n",
       "      <td>19</td>\n",
       "      <td>0</td>\n",
       "      <td>...</td>\n",
       "      <td>0</td>\n",
       "      <td>0</td>\n",
       "      <td>0</td>\n",
       "      <td>0</td>\n",
       "      <td>0.0</td>\n",
       "      <td>0.0</td>\n",
       "      <td>0.0</td>\n",
       "      <td>1974-12-24</td>\n",
       "      <td>27</td>\n",
       "      <td>c</td>\n",
       "    </tr>\n",
       "    <tr>\n",
       "      <th>44899</th>\n",
       "      <td>rodried04</td>\n",
       "      <td>2012</td>\n",
       "      <td>SDN</td>\n",
       "      <td>NL</td>\n",
       "      <td>2</td>\n",
       "      <td>2.0</td>\n",
       "      <td>2</td>\n",
       "      <td>2.0</td>\n",
       "      <td>0</td>\n",
       "      <td>2</td>\n",
       "      <td>...</td>\n",
       "      <td>0</td>\n",
       "      <td>0</td>\n",
       "      <td>0</td>\n",
       "      <td>0</td>\n",
       "      <td>0.0</td>\n",
       "      <td>0.0</td>\n",
       "      <td>0.0</td>\n",
       "      <td>1985-12-01</td>\n",
       "      <td>26</td>\n",
       "      <td>c</td>\n",
       "    </tr>\n",
       "    <tr>\n",
       "      <th>6619</th>\n",
       "      <td>ruckeda01</td>\n",
       "      <td>1985</td>\n",
       "      <td>PHI</td>\n",
       "      <td>NL</td>\n",
       "      <td>41</td>\n",
       "      <td>3.0</td>\n",
       "      <td>41</td>\n",
       "      <td>39.0</td>\n",
       "      <td>39</td>\n",
       "      <td>0</td>\n",
       "      <td>...</td>\n",
       "      <td>0</td>\n",
       "      <td>0</td>\n",
       "      <td>0</td>\n",
       "      <td>0</td>\n",
       "      <td>0.0</td>\n",
       "      <td>0.0</td>\n",
       "      <td>2.0</td>\n",
       "      <td>1957-09-01</td>\n",
       "      <td>27</td>\n",
       "      <td>c</td>\n",
       "    </tr>\n",
       "    <tr>\n",
       "      <th>30339</th>\n",
       "      <td>ingebr01</td>\n",
       "      <td>2007</td>\n",
       "      <td>DET</td>\n",
       "      <td>AL</td>\n",
       "      <td>151</td>\n",
       "      <td>146.0</td>\n",
       "      <td>151</td>\n",
       "      <td>150.0</td>\n",
       "      <td>0</td>\n",
       "      <td>0</td>\n",
       "      <td>...</td>\n",
       "      <td>0</td>\n",
       "      <td>0</td>\n",
       "      <td>0</td>\n",
       "      <td>0</td>\n",
       "      <td>0.0</td>\n",
       "      <td>0.0</td>\n",
       "      <td>1.0</td>\n",
       "      <td>1977-05-19</td>\n",
       "      <td>30</td>\n",
       "      <td>3b</td>\n",
       "    </tr>\n",
       "    <tr>\n",
       "      <th>19216</th>\n",
       "      <td>snowjt01</td>\n",
       "      <td>2001</td>\n",
       "      <td>SFN</td>\n",
       "      <td>NL</td>\n",
       "      <td>101</td>\n",
       "      <td>80.0</td>\n",
       "      <td>101</td>\n",
       "      <td>92.0</td>\n",
       "      <td>0</td>\n",
       "      <td>0</td>\n",
       "      <td>...</td>\n",
       "      <td>0</td>\n",
       "      <td>0</td>\n",
       "      <td>0</td>\n",
       "      <td>0</td>\n",
       "      <td>0.0</td>\n",
       "      <td>15.0</td>\n",
       "      <td>0.0</td>\n",
       "      <td>1968-02-26</td>\n",
       "      <td>33</td>\n",
       "      <td>1b</td>\n",
       "    </tr>\n",
       "  </tbody>\n",
       "</table>\n",
       "<p>10 rows × 24 columns</p>\n",
       "</div>"
      ],
      "text/plain": [
       "       player_id  year_id team_id lg_id  g_all     gs  g_batting  g_defense  \\\n",
       "30576  milleco01     2007     ATL    NL     12    6.0         12       11.0   \n",
       "50548  shafeju01     2019     TOR    AL     34    0.0          2       34.0   \n",
       "25978   bakopa01     2008     CIN    NL     99   88.0         99       96.0   \n",
       "6518   powerte01     1992     CLE    AL     64    0.0          0       64.0   \n",
       "13712  brilegr01     1992     SEA    AL     86   47.0         86       49.0   \n",
       "24627  wrighja01     2002     MIL    NL     19   19.0         19       19.0   \n",
       "44899  rodried04     2012     SDN    NL      2    2.0          2        2.0   \n",
       "6619   ruckeda01     1985     PHI    NL     41    3.0         41       39.0   \n",
       "30339   ingebr01     2007     DET    AL    151  146.0        151      150.0   \n",
       "19216   snowjt01     2001     SFN    NL    101   80.0        101       92.0   \n",
       "\n",
       "       g_p  g_c  ...  g_lf  g_cf  g_rf  g_of  g_dh  g_ph  g_pr   birthdate  \\\n",
       "30576    0   11  ...     0     0     0     0   0.0   1.0   0.0  1976-03-18   \n",
       "50548   34    0  ...     0     0     0     0   0.0   0.0   0.0  1992-09-18   \n",
       "25978    0   96  ...     0     0     0     0   0.0   5.0   1.0  1972-06-20   \n",
       "6518    64    0  ...     0     0     0     0   0.0   0.0   0.0  1955-01-31   \n",
       "13712    0    0  ...    27    13     4    42  12.0  31.0   2.0  1965-05-24   \n",
       "24627   19    0  ...     0     0     0     0   0.0   0.0   0.0  1974-12-24   \n",
       "44899    0    2  ...     0     0     0     0   0.0   0.0   0.0  1985-12-01   \n",
       "6619    39    0  ...     0     0     0     0   0.0   0.0   2.0  1957-09-01   \n",
       "30339    0    0  ...     0     0     0     0   0.0   0.0   1.0  1977-05-19   \n",
       "19216    0    0  ...     0     0     0     0   0.0  15.0   0.0  1968-02-26   \n",
       "\n",
       "       baseball_age  primary  \n",
       "30576            31        c  \n",
       "50548            26        c  \n",
       "25978            36        c  \n",
       "6518             37        c  \n",
       "13712            27       lf  \n",
       "24627            27        c  \n",
       "44899            26        c  \n",
       "6619             27        c  \n",
       "30339            30       3b  \n",
       "19216            33       1b  \n",
       "\n",
       "[10 rows x 24 columns]"
      ]
     },
     "execution_count": 5,
     "metadata": {},
     "output_type": "execute_result"
    }
   ],
   "source": [
    "posns = ['c', '1b', '2b', '3b', 'ss', 'lf', 'cf', 'rf', 'dh']\n",
    "pos_cols = [f'g_{pos}' for pos in posns]\n",
    "pos_all_cols =  [f'g_{pos}' for pos in (posns+['defense', 'all'])]\n",
    "\n",
    "yrly_games['primary'] = yrly_games[pos_cols].idxmax(axis=1).str[2:]\n",
    "yrly_games.sample(10)\n"
   ]
  },
  {
   "cell_type": "code",
   "execution_count": 6,
   "metadata": {},
   "outputs": [
    {
     "data": {
      "application/vnd.plotly.v1+json": {
       "config": {
        "plotlyServerURL": "https://plot.ly"
       },
       "data": [
        {
         "hovertemplate": "variable=g_c<br>baseball_age=%{x}<br>value=%{y}<extra></extra>",
         "legendgroup": "g_c",
         "line": {
          "color": "black",
          "dash": "solid"
         },
         "mode": "lines",
         "name": "g_c",
         "orientation": "v",
         "showlegend": true,
         "type": "scatter",
         "x": [
          19,
          20,
          21,
          22,
          23,
          24,
          25,
          26,
          27,
          28,
          29,
          30,
          31,
          32,
          33,
          34,
          35,
          36,
          37,
          38,
          39,
          40,
          41,
          42,
          43,
          44,
          45,
          47,
          49
         ],
         "xaxis": "x",
         "y": [
          0,
          0,
          0.08765432098765431,
          0.3382716049382716,
          1.0648148148148149,
          1.9728395061728397,
          2.6444444444444444,
          3.282716049382716,
          4.077160493827161,
          3.3796296296296298,
          3.0950617283950614,
          3.1462962962962964,
          2.8376543209876544,
          2.15679012345679,
          1.560493827160494,
          1.1876543209876544,
          1.060493827160494,
          0.6604938271604939,
          0.22962962962962966,
          0.34444444444444444,
          0.30493827160493825,
          0.013580246913580249,
          0.04197530864197531,
          0,
          0,
          0,
          0,
          0,
          0
         ],
         "yaxis": "y"
        },
        {
         "hovertemplate": "variable=g_1b<br>baseball_age=%{x}<br>value=%{y}<extra></extra>",
         "legendgroup": "g_1b",
         "line": {
          "color": "darkkhaki",
          "dash": "solid"
         },
         "mode": "lines",
         "name": "g_1b",
         "orientation": "v",
         "showlegend": true,
         "type": "scatter",
         "x": [
          19,
          20,
          21,
          22,
          23,
          24,
          25,
          26,
          27,
          28,
          29,
          30,
          31,
          32,
          33,
          34,
          35,
          36,
          37,
          38,
          39,
          40,
          41,
          42,
          43,
          44,
          45,
          47,
          49
         ],
         "xaxis": "x",
         "y": [
          0,
          0.007407407407407407,
          0.26728395061728394,
          0.512962962962963,
          0.9888888888888888,
          1.8166666666666667,
          2.556172839506173,
          3.224074074074074,
          3.253086419753086,
          3.6141975308641974,
          3.1796296296296296,
          2.7907407407407407,
          2.859259259259259,
          2.873456790123457,
          2.1432098765432097,
          1.871604938271605,
          1.1333333333333333,
          0.7611111111111111,
          0.2358024691358025,
          0.15555555555555556,
          0.16234567901234567,
          0.027160493827160497,
          0.010493827160493827,
          0.006790123456790124,
          0.0024691358024691358,
          0.0006172839506172839,
          0.0012345679012345679,
          0,
          0
         ],
         "yaxis": "y"
        },
        {
         "hovertemplate": "variable=g_2b<br>baseball_age=%{x}<br>value=%{y}<extra></extra>",
         "legendgroup": "g_2b",
         "line": {
          "color": "khaki",
          "dash": "solid"
         },
         "mode": "lines",
         "name": "g_2b",
         "orientation": "v",
         "showlegend": true,
         "type": "scatter",
         "x": [
          19,
          20,
          21,
          22,
          23,
          24,
          25,
          26,
          27,
          28,
          29,
          30,
          31,
          32,
          33,
          34,
          35,
          36,
          37,
          38,
          39,
          40,
          41,
          42,
          43,
          44,
          45,
          47,
          49
         ],
         "xaxis": "x",
         "y": [
          0.0030864197530864196,
          0.19320987654320987,
          0.46851851851851856,
          0.9901234567901235,
          1.612962962962963,
          2.7574074074074075,
          3.1530864197530866,
          3.473456790123457,
          3.7160493827160495,
          3.432098765432099,
          2.811111111111111,
          2.5290123456790123,
          2.200617283950617,
          2.1919753086419753,
          1.5012345679012344,
          1.1666666666666667,
          0.782716049382716,
          0.7129629629629629,
          0.3493827160493827,
          0.1574074074074074,
          0.06358024691358025,
          0.03271604938271605,
          0,
          0,
          0.011728395061728394,
          0.009876543209876543,
          0.014814814814814814,
          0,
          0
         ],
         "yaxis": "y"
        },
        {
         "hovertemplate": "variable=g_3b<br>baseball_age=%{x}<br>value=%{y}<extra></extra>",
         "legendgroup": "g_3b",
         "line": {
          "color": "brown",
          "dash": "solid"
         },
         "mode": "lines",
         "name": "g_3b",
         "orientation": "v",
         "showlegend": true,
         "type": "scatter",
         "x": [
          19,
          20,
          21,
          22,
          23,
          24,
          25,
          26,
          27,
          28,
          29,
          30,
          31,
          32,
          33,
          34,
          35,
          36,
          37,
          38,
          39,
          40,
          41,
          42,
          43,
          44,
          45,
          47,
          49
         ],
         "xaxis": "x",
         "y": [
          0.03148148148148148,
          0.20308641975308642,
          0.245679012345679,
          0.8444444444444446,
          2.028395061728395,
          3.0179012345679013,
          3.278395061728395,
          3.8203703703703704,
          3.607407407407407,
          3.124691358024691,
          2.725925925925926,
          2.197530864197531,
          1.8753086419753087,
          1.6691358024691356,
          1.641358024691358,
          1.2685185185185186,
          0.8604938271604938,
          0.7709876543209877,
          0.5185185185185185,
          0.20987654320987653,
          0.24135802469135803,
          0.0728395061728395,
          0,
          0,
          0.051234567901234575,
          0.017901234567901235,
          0.011111111111111112,
          0,
          0
         ],
         "yaxis": "y"
        },
        {
         "hovertemplate": "variable=g_ss<br>baseball_age=%{x}<br>value=%{y}<extra></extra>",
         "legendgroup": "g_ss",
         "line": {
          "color": "tan",
          "dash": "solid"
         },
         "mode": "lines",
         "name": "g_ss",
         "orientation": "v",
         "showlegend": true,
         "type": "scatter",
         "x": [
          19,
          20,
          21,
          22,
          23,
          24,
          25,
          26,
          27,
          28,
          29,
          30,
          31,
          32,
          33,
          34,
          35,
          36,
          37,
          38,
          39,
          40,
          41,
          42,
          43,
          44,
          45,
          47,
          49
         ],
         "xaxis": "x",
         "y": [
          0.0018518518518518517,
          0.22962962962962966,
          0.7407407407407407,
          1.672222222222222,
          2.5512345679012345,
          3.0407407407407407,
          3.9339506172839505,
          3.180864197530864,
          3.192592592592593,
          3.200617283950617,
          2.8518518518518516,
          2.151851851851852,
          1.7438271604938271,
          1.2259259259259259,
          0.9438271604938272,
          0.9006172839506174,
          0.35246913580246914,
          0.44197530864197526,
          0.2191358024691358,
          0.1388888888888889,
          0.04567901234567901,
          0.09444444444444444,
          0,
          0,
          0.005555555555555556,
          0.005555555555555556,
          0.006172839506172839,
          0,
          0
         ],
         "yaxis": "y"
        },
        {
         "hovertemplate": "variable=g_lf<br>baseball_age=%{x}<br>value=%{y}<extra></extra>",
         "legendgroup": "g_lf",
         "line": {
          "color": "green",
          "dash": "solid"
         },
         "mode": "lines",
         "name": "g_lf",
         "orientation": "v",
         "showlegend": true,
         "type": "scatter",
         "x": [
          19,
          20,
          21,
          22,
          23,
          24,
          25,
          26,
          27,
          28,
          29,
          30,
          31,
          32,
          33,
          34,
          35,
          36,
          37,
          38,
          39,
          40,
          41,
          42,
          43,
          44,
          45,
          47,
          49
         ],
         "xaxis": "x",
         "y": [
          0.0808641975308642,
          0.2598765432098766,
          0.35617283950617284,
          0.7740740740740741,
          1.4944444444444445,
          2.787037037037037,
          3.2339506172839503,
          4.147530864197531,
          3.4882716049382716,
          3.412345679012345,
          3.2148148148148143,
          2.880864197530864,
          2.672222222222222,
          2.4611111111111112,
          2.060493827160494,
          1.6845679012345678,
          0.9771604938271605,
          0.5172839506172839,
          0.3925925925925926,
          0.35432098765432096,
          0.0882716049382716,
          0.06728395061728396,
          0.07962962962962963,
          0.030246913580246917,
          0.005555555555555556,
          0.006790123456790124,
          0.0006172839506172839,
          0,
          0
         ],
         "yaxis": "y"
        },
        {
         "hovertemplate": "variable=g_cf<br>baseball_age=%{x}<br>value=%{y}<extra></extra>",
         "legendgroup": "g_cf",
         "line": {
          "color": "green",
          "dash": "solid"
         },
         "mode": "lines",
         "name": "g_cf",
         "orientation": "v",
         "showlegend": true,
         "type": "scatter",
         "x": [
          19,
          20,
          21,
          22,
          23,
          24,
          25,
          26,
          27,
          28,
          29,
          30,
          31,
          32,
          33,
          34,
          35,
          36,
          37,
          38,
          39,
          40,
          41,
          42,
          43,
          44,
          45,
          47,
          49
         ],
         "xaxis": "x",
         "y": [
          0.06481481481481481,
          0.08333333333333333,
          0.2506172839506173,
          0.9055555555555554,
          2.074074074074074,
          3.271604938271605,
          4.279629629629629,
          4.26358024691358,
          4.102469135802469,
          3.4271604938271607,
          3.3987654320987657,
          2.7666666666666666,
          1.9203703703703705,
          1.2740740740740741,
          1.1734567901234567,
          0.49753086419753084,
          0.23703703703703702,
          0.14876543209876544,
          0.062345679012345674,
          0.030246913580246917,
          0.008024691358024692,
          0.03518518518518519,
          0.004320987654320987,
          0.008641975308641974,
          0.006172839506172839,
          0,
          0,
          0,
          0
         ],
         "yaxis": "y"
        },
        {
         "hovertemplate": "variable=g_rf<br>baseball_age=%{x}<br>value=%{y}<extra></extra>",
         "legendgroup": "g_rf",
         "line": {
          "color": "green",
          "dash": "solid"
         },
         "mode": "lines",
         "name": "g_rf",
         "orientation": "v",
         "showlegend": true,
         "type": "scatter",
         "x": [
          19,
          20,
          21,
          22,
          23,
          24,
          25,
          26,
          27,
          28,
          29,
          30,
          31,
          32,
          33,
          34,
          35,
          36,
          37,
          38,
          39,
          40,
          41,
          42,
          43,
          44,
          45,
          47,
          49
         ],
         "xaxis": "x",
         "y": [
          0.04814814814814815,
          0.1648148148148148,
          0.32222222222222224,
          0.9296296296296296,
          1.7981481481481483,
          2.4611111111111112,
          3.0555555555555554,
          3.7746913580246915,
          3.8641975308641974,
          3.0617283950617282,
          2.7962962962962963,
          2.519135802469136,
          2.7203703703703703,
          2.2981481481481483,
          1.5666666666666667,
          1.4228395061728396,
          0.9222222222222223,
          0.7246913580246914,
          0.40370370370370373,
          0.3148148148148148,
          0.19753086419753085,
          0.10679012345679013,
          0.04567901234567901,
          0.037037037037037035,
          0.009876543209876543,
          0.0006172839506172839,
          0.0012345679012345679,
          0,
          0
         ],
         "yaxis": "y"
        },
        {
         "hovertemplate": "variable=g_dh<br>baseball_age=%{x}<br>value=%{y}<extra></extra>",
         "legendgroup": "g_dh",
         "line": {
          "color": "grey",
          "dash": "solid"
         },
         "mode": "lines",
         "name": "g_dh",
         "orientation": "v",
         "showlegend": true,
         "type": "scatter",
         "x": [
          19,
          20,
          21,
          22,
          23,
          24,
          25,
          26,
          27,
          28,
          29,
          30,
          31,
          32,
          33,
          34,
          35,
          36,
          37,
          38,
          39,
          40,
          41,
          42,
          43,
          44,
          45,
          47,
          49
         ],
         "xaxis": "x",
         "y": [
          0.0006172839506172839,
          0.030246913580246917,
          0.03888888888888889,
          0.24691358024691357,
          0.3753086419753086,
          0.6327160493827161,
          0.8580246913580247,
          1.1783950617283951,
          1.151851851851852,
          1.1413580246913582,
          1.1080246913580247,
          1.056172839506173,
          1.252469135802469,
          1.212962962962963,
          1.0061728395061729,
          1.2185185185185186,
          1.0345679012345679,
          0.9055555555555554,
          0.825925925925926,
          0.3753086419753086,
          0.42592592592592593,
          0.3419753086419753,
          0.04074074074074074,
          0.06481481481481481,
          0.016666666666666666,
          0.0030864197530864196,
          0.0006172839506172839,
          0,
          0
         ],
         "yaxis": "y"
        }
       ],
       "layout": {
        "legend": {
         "title": {
          "text": "variable"
         },
         "tracegroupgap": 0
        },
        "margin": {
         "t": 60
        },
        "template": {
         "data": {
          "bar": [
           {
            "error_x": {
             "color": "#2a3f5f"
            },
            "error_y": {
             "color": "#2a3f5f"
            },
            "marker": {
             "line": {
              "color": "#E5ECF6",
              "width": 0.5
             }
            },
            "type": "bar"
           }
          ],
          "barpolar": [
           {
            "marker": {
             "line": {
              "color": "#E5ECF6",
              "width": 0.5
             }
            },
            "type": "barpolar"
           }
          ],
          "carpet": [
           {
            "aaxis": {
             "endlinecolor": "#2a3f5f",
             "gridcolor": "white",
             "linecolor": "white",
             "minorgridcolor": "white",
             "startlinecolor": "#2a3f5f"
            },
            "baxis": {
             "endlinecolor": "#2a3f5f",
             "gridcolor": "white",
             "linecolor": "white",
             "minorgridcolor": "white",
             "startlinecolor": "#2a3f5f"
            },
            "type": "carpet"
           }
          ],
          "choropleth": [
           {
            "colorbar": {
             "outlinewidth": 0,
             "ticks": ""
            },
            "type": "choropleth"
           }
          ],
          "contour": [
           {
            "colorbar": {
             "outlinewidth": 0,
             "ticks": ""
            },
            "colorscale": [
             [
              0,
              "#0d0887"
             ],
             [
              0.1111111111111111,
              "#46039f"
             ],
             [
              0.2222222222222222,
              "#7201a8"
             ],
             [
              0.3333333333333333,
              "#9c179e"
             ],
             [
              0.4444444444444444,
              "#bd3786"
             ],
             [
              0.5555555555555556,
              "#d8576b"
             ],
             [
              0.6666666666666666,
              "#ed7953"
             ],
             [
              0.7777777777777778,
              "#fb9f3a"
             ],
             [
              0.8888888888888888,
              "#fdca26"
             ],
             [
              1,
              "#f0f921"
             ]
            ],
            "type": "contour"
           }
          ],
          "contourcarpet": [
           {
            "colorbar": {
             "outlinewidth": 0,
             "ticks": ""
            },
            "type": "contourcarpet"
           }
          ],
          "heatmap": [
           {
            "colorbar": {
             "outlinewidth": 0,
             "ticks": ""
            },
            "colorscale": [
             [
              0,
              "#0d0887"
             ],
             [
              0.1111111111111111,
              "#46039f"
             ],
             [
              0.2222222222222222,
              "#7201a8"
             ],
             [
              0.3333333333333333,
              "#9c179e"
             ],
             [
              0.4444444444444444,
              "#bd3786"
             ],
             [
              0.5555555555555556,
              "#d8576b"
             ],
             [
              0.6666666666666666,
              "#ed7953"
             ],
             [
              0.7777777777777778,
              "#fb9f3a"
             ],
             [
              0.8888888888888888,
              "#fdca26"
             ],
             [
              1,
              "#f0f921"
             ]
            ],
            "type": "heatmap"
           }
          ],
          "heatmapgl": [
           {
            "colorbar": {
             "outlinewidth": 0,
             "ticks": ""
            },
            "colorscale": [
             [
              0,
              "#0d0887"
             ],
             [
              0.1111111111111111,
              "#46039f"
             ],
             [
              0.2222222222222222,
              "#7201a8"
             ],
             [
              0.3333333333333333,
              "#9c179e"
             ],
             [
              0.4444444444444444,
              "#bd3786"
             ],
             [
              0.5555555555555556,
              "#d8576b"
             ],
             [
              0.6666666666666666,
              "#ed7953"
             ],
             [
              0.7777777777777778,
              "#fb9f3a"
             ],
             [
              0.8888888888888888,
              "#fdca26"
             ],
             [
              1,
              "#f0f921"
             ]
            ],
            "type": "heatmapgl"
           }
          ],
          "histogram": [
           {
            "marker": {
             "colorbar": {
              "outlinewidth": 0,
              "ticks": ""
             }
            },
            "type": "histogram"
           }
          ],
          "histogram2d": [
           {
            "colorbar": {
             "outlinewidth": 0,
             "ticks": ""
            },
            "colorscale": [
             [
              0,
              "#0d0887"
             ],
             [
              0.1111111111111111,
              "#46039f"
             ],
             [
              0.2222222222222222,
              "#7201a8"
             ],
             [
              0.3333333333333333,
              "#9c179e"
             ],
             [
              0.4444444444444444,
              "#bd3786"
             ],
             [
              0.5555555555555556,
              "#d8576b"
             ],
             [
              0.6666666666666666,
              "#ed7953"
             ],
             [
              0.7777777777777778,
              "#fb9f3a"
             ],
             [
              0.8888888888888888,
              "#fdca26"
             ],
             [
              1,
              "#f0f921"
             ]
            ],
            "type": "histogram2d"
           }
          ],
          "histogram2dcontour": [
           {
            "colorbar": {
             "outlinewidth": 0,
             "ticks": ""
            },
            "colorscale": [
             [
              0,
              "#0d0887"
             ],
             [
              0.1111111111111111,
              "#46039f"
             ],
             [
              0.2222222222222222,
              "#7201a8"
             ],
             [
              0.3333333333333333,
              "#9c179e"
             ],
             [
              0.4444444444444444,
              "#bd3786"
             ],
             [
              0.5555555555555556,
              "#d8576b"
             ],
             [
              0.6666666666666666,
              "#ed7953"
             ],
             [
              0.7777777777777778,
              "#fb9f3a"
             ],
             [
              0.8888888888888888,
              "#fdca26"
             ],
             [
              1,
              "#f0f921"
             ]
            ],
            "type": "histogram2dcontour"
           }
          ],
          "mesh3d": [
           {
            "colorbar": {
             "outlinewidth": 0,
             "ticks": ""
            },
            "type": "mesh3d"
           }
          ],
          "parcoords": [
           {
            "line": {
             "colorbar": {
              "outlinewidth": 0,
              "ticks": ""
             }
            },
            "type": "parcoords"
           }
          ],
          "pie": [
           {
            "automargin": true,
            "type": "pie"
           }
          ],
          "scatter": [
           {
            "marker": {
             "colorbar": {
              "outlinewidth": 0,
              "ticks": ""
             }
            },
            "type": "scatter"
           }
          ],
          "scatter3d": [
           {
            "line": {
             "colorbar": {
              "outlinewidth": 0,
              "ticks": ""
             }
            },
            "marker": {
             "colorbar": {
              "outlinewidth": 0,
              "ticks": ""
             }
            },
            "type": "scatter3d"
           }
          ],
          "scattercarpet": [
           {
            "marker": {
             "colorbar": {
              "outlinewidth": 0,
              "ticks": ""
             }
            },
            "type": "scattercarpet"
           }
          ],
          "scattergeo": [
           {
            "marker": {
             "colorbar": {
              "outlinewidth": 0,
              "ticks": ""
             }
            },
            "type": "scattergeo"
           }
          ],
          "scattergl": [
           {
            "marker": {
             "colorbar": {
              "outlinewidth": 0,
              "ticks": ""
             }
            },
            "type": "scattergl"
           }
          ],
          "scattermapbox": [
           {
            "marker": {
             "colorbar": {
              "outlinewidth": 0,
              "ticks": ""
             }
            },
            "type": "scattermapbox"
           }
          ],
          "scatterpolar": [
           {
            "marker": {
             "colorbar": {
              "outlinewidth": 0,
              "ticks": ""
             }
            },
            "type": "scatterpolar"
           }
          ],
          "scatterpolargl": [
           {
            "marker": {
             "colorbar": {
              "outlinewidth": 0,
              "ticks": ""
             }
            },
            "type": "scatterpolargl"
           }
          ],
          "scatterternary": [
           {
            "marker": {
             "colorbar": {
              "outlinewidth": 0,
              "ticks": ""
             }
            },
            "type": "scatterternary"
           }
          ],
          "surface": [
           {
            "colorbar": {
             "outlinewidth": 0,
             "ticks": ""
            },
            "colorscale": [
             [
              0,
              "#0d0887"
             ],
             [
              0.1111111111111111,
              "#46039f"
             ],
             [
              0.2222222222222222,
              "#7201a8"
             ],
             [
              0.3333333333333333,
              "#9c179e"
             ],
             [
              0.4444444444444444,
              "#bd3786"
             ],
             [
              0.5555555555555556,
              "#d8576b"
             ],
             [
              0.6666666666666666,
              "#ed7953"
             ],
             [
              0.7777777777777778,
              "#fb9f3a"
             ],
             [
              0.8888888888888888,
              "#fdca26"
             ],
             [
              1,
              "#f0f921"
             ]
            ],
            "type": "surface"
           }
          ],
          "table": [
           {
            "cells": {
             "fill": {
              "color": "#EBF0F8"
             },
             "line": {
              "color": "white"
             }
            },
            "header": {
             "fill": {
              "color": "#C8D4E3"
             },
             "line": {
              "color": "white"
             }
            },
            "type": "table"
           }
          ]
         },
         "layout": {
          "annotationdefaults": {
           "arrowcolor": "#2a3f5f",
           "arrowhead": 0,
           "arrowwidth": 1
          },
          "autotypenumbers": "strict",
          "coloraxis": {
           "colorbar": {
            "outlinewidth": 0,
            "ticks": ""
           }
          },
          "colorscale": {
           "diverging": [
            [
             0,
             "#8e0152"
            ],
            [
             0.1,
             "#c51b7d"
            ],
            [
             0.2,
             "#de77ae"
            ],
            [
             0.3,
             "#f1b6da"
            ],
            [
             0.4,
             "#fde0ef"
            ],
            [
             0.5,
             "#f7f7f7"
            ],
            [
             0.6,
             "#e6f5d0"
            ],
            [
             0.7,
             "#b8e186"
            ],
            [
             0.8,
             "#7fbc41"
            ],
            [
             0.9,
             "#4d9221"
            ],
            [
             1,
             "#276419"
            ]
           ],
           "sequential": [
            [
             0,
             "#0d0887"
            ],
            [
             0.1111111111111111,
             "#46039f"
            ],
            [
             0.2222222222222222,
             "#7201a8"
            ],
            [
             0.3333333333333333,
             "#9c179e"
            ],
            [
             0.4444444444444444,
             "#bd3786"
            ],
            [
             0.5555555555555556,
             "#d8576b"
            ],
            [
             0.6666666666666666,
             "#ed7953"
            ],
            [
             0.7777777777777778,
             "#fb9f3a"
            ],
            [
             0.8888888888888888,
             "#fdca26"
            ],
            [
             1,
             "#f0f921"
            ]
           ],
           "sequentialminus": [
            [
             0,
             "#0d0887"
            ],
            [
             0.1111111111111111,
             "#46039f"
            ],
            [
             0.2222222222222222,
             "#7201a8"
            ],
            [
             0.3333333333333333,
             "#9c179e"
            ],
            [
             0.4444444444444444,
             "#bd3786"
            ],
            [
             0.5555555555555556,
             "#d8576b"
            ],
            [
             0.6666666666666666,
             "#ed7953"
            ],
            [
             0.7777777777777778,
             "#fb9f3a"
            ],
            [
             0.8888888888888888,
             "#fdca26"
            ],
            [
             1,
             "#f0f921"
            ]
           ]
          },
          "colorway": [
           "#636efa",
           "#EF553B",
           "#00cc96",
           "#ab63fa",
           "#FFA15A",
           "#19d3f3",
           "#FF6692",
           "#B6E880",
           "#FF97FF",
           "#FECB52"
          ],
          "font": {
           "color": "#2a3f5f"
          },
          "geo": {
           "bgcolor": "white",
           "lakecolor": "white",
           "landcolor": "#E5ECF6",
           "showlakes": true,
           "showland": true,
           "subunitcolor": "white"
          },
          "hoverlabel": {
           "align": "left"
          },
          "hovermode": "closest",
          "mapbox": {
           "style": "light"
          },
          "paper_bgcolor": "white",
          "plot_bgcolor": "#E5ECF6",
          "polar": {
           "angularaxis": {
            "gridcolor": "white",
            "linecolor": "white",
            "ticks": ""
           },
           "bgcolor": "#E5ECF6",
           "radialaxis": {
            "gridcolor": "white",
            "linecolor": "white",
            "ticks": ""
           }
          },
          "scene": {
           "xaxis": {
            "backgroundcolor": "#E5ECF6",
            "gridcolor": "white",
            "gridwidth": 2,
            "linecolor": "white",
            "showbackground": true,
            "ticks": "",
            "zerolinecolor": "white"
           },
           "yaxis": {
            "backgroundcolor": "#E5ECF6",
            "gridcolor": "white",
            "gridwidth": 2,
            "linecolor": "white",
            "showbackground": true,
            "ticks": "",
            "zerolinecolor": "white"
           },
           "zaxis": {
            "backgroundcolor": "#E5ECF6",
            "gridcolor": "white",
            "gridwidth": 2,
            "linecolor": "white",
            "showbackground": true,
            "ticks": "",
            "zerolinecolor": "white"
           }
          },
          "shapedefaults": {
           "line": {
            "color": "#2a3f5f"
           }
          },
          "ternary": {
           "aaxis": {
            "gridcolor": "white",
            "linecolor": "white",
            "ticks": ""
           },
           "baxis": {
            "gridcolor": "white",
            "linecolor": "white",
            "ticks": ""
           },
           "bgcolor": "#E5ECF6",
           "caxis": {
            "gridcolor": "white",
            "linecolor": "white",
            "ticks": ""
           }
          },
          "title": {
           "x": 0.05
          },
          "xaxis": {
           "automargin": true,
           "gridcolor": "white",
           "linecolor": "white",
           "ticks": "",
           "title": {
            "standoff": 15
           },
           "zerolinecolor": "white",
           "zerolinewidth": 2
          },
          "yaxis": {
           "automargin": true,
           "gridcolor": "white",
           "linecolor": "white",
           "ticks": "",
           "title": {
            "standoff": 15
           },
           "zerolinecolor": "white",
           "zerolinewidth": 2
          }
         }
        },
        "xaxis": {
         "anchor": "y",
         "domain": [
          0,
          1
         ],
         "title": {
          "text": "baseball_age"
         }
        },
        "yaxis": {
         "anchor": "x",
         "domain": [
          0,
          1
         ],
         "title": {
          "text": "value"
         }
        }
       }
      }
     },
     "metadata": {},
     "output_type": "display_data"
    }
   ],
   "source": [
    "# Let's look at playing time by age\n",
    "\n",
    "pt_by_age = yrly_games.query('2010<=year_id<2020').groupby('baseball_age')[pos_cols].sum()/10/162\n",
    "position_colors = {'g_c': 'black', 'g_1b': 'darkkhaki', 'g_2b': 'khaki', 'g_3b': 'brown', 'g_ss': 'tan', 'g_lf': 'green', 'g_cf': 'green', 'g_rf': 'green', 'g_dh': 'grey'}\n",
    "\n",
    "px.line(pt_by_age,color_discrete_map=position_colors)"
   ]
  },
  {
   "cell_type": "code",
   "execution_count": 7,
   "metadata": {},
   "outputs": [
    {
     "data": {
      "text/plain": [
       "g_c           0.000000\n",
       "g_1b          2.655556\n",
       "g_2b         49.255556\n",
       "g_3b          4.033333\n",
       "g_ss          4.944444\n",
       "g_lf          5.444444\n",
       "g_cf          0.433333\n",
       "g_rf          2.233333\n",
       "g_dh          3.177778\n",
       "g_defense    66.644444\n",
       "g_all        75.122222\n",
       "n            90.000000\n",
       "Name: 2b, dtype: float64"
      ]
     },
     "execution_count": 7,
     "metadata": {},
     "output_type": "execute_result"
    }
   ],
   "source": [
    "# Let's look at 28yo second basemen.  What were they doing 5 years later?\n",
    "\n",
    "def get_future_pt(gms: pd.DataFrame, pos: str, start_age: int = 28, comp_age: int = 33, gm_threshold: int = 100) -> pd.Series:\n",
    "    max_year = 2019-(comp_age-start_age)\n",
    "\n",
    "    prime_regulars = gms.query(f'baseball_age==@start_age and g_all>=@gm_threshold and primary==@pos and year_id<=@max_year')['player_id']\n",
    "    avg_gms = gms.query('player_id in @prime_regulars and baseball_age==@comp_age')[pos_all_cols].sum()/len(prime_regulars)\n",
    "    avg_gms['n'] = len(prime_regulars)\n",
    "    return avg_gms.rename(pos)\n",
    "\n",
    "get_future_pt(yrly_games, '2b')"
   ]
  },
  {
   "cell_type": "code",
   "execution_count": 8,
   "metadata": {},
   "outputs": [
    {
     "data": {
      "text/html": [
       "<div>\n",
       "<style scoped>\n",
       "    .dataframe tbody tr th:only-of-type {\n",
       "        vertical-align: middle;\n",
       "    }\n",
       "\n",
       "    .dataframe tbody tr th {\n",
       "        vertical-align: top;\n",
       "    }\n",
       "\n",
       "    .dataframe thead th {\n",
       "        text-align: right;\n",
       "    }\n",
       "</style>\n",
       "<table border=\"1\" class=\"dataframe\">\n",
       "  <thead>\n",
       "    <tr style=\"text-align: right;\">\n",
       "      <th></th>\n",
       "      <th>g_c</th>\n",
       "      <th>g_1b</th>\n",
       "      <th>g_2b</th>\n",
       "      <th>g_3b</th>\n",
       "      <th>g_ss</th>\n",
       "      <th>g_lf</th>\n",
       "      <th>g_cf</th>\n",
       "      <th>g_rf</th>\n",
       "      <th>g_dh</th>\n",
       "      <th>g_defense</th>\n",
       "      <th>g_all</th>\n",
       "      <th>n</th>\n",
       "    </tr>\n",
       "  </thead>\n",
       "  <tbody>\n",
       "    <tr>\n",
       "      <th>c</th>\n",
       "      <td>63.611111</td>\n",
       "      <td>3.125000</td>\n",
       "      <td>0.027778</td>\n",
       "      <td>0.069444</td>\n",
       "      <td>0.000000</td>\n",
       "      <td>0.041667</td>\n",
       "      <td>0.000000</td>\n",
       "      <td>0.250000</td>\n",
       "      <td>1.208333</td>\n",
       "      <td>66.611111</td>\n",
       "      <td>70.875000</td>\n",
       "      <td>72.0</td>\n",
       "    </tr>\n",
       "    <tr>\n",
       "      <th>1b</th>\n",
       "      <td>0.000000</td>\n",
       "      <td>61.847059</td>\n",
       "      <td>0.094118</td>\n",
       "      <td>3.188235</td>\n",
       "      <td>0.000000</td>\n",
       "      <td>3.035294</td>\n",
       "      <td>0.000000</td>\n",
       "      <td>1.447059</td>\n",
       "      <td>6.894118</td>\n",
       "      <td>68.576471</td>\n",
       "      <td>79.505882</td>\n",
       "      <td>85.0</td>\n",
       "    </tr>\n",
       "    <tr>\n",
       "      <th>2b</th>\n",
       "      <td>0.000000</td>\n",
       "      <td>2.655556</td>\n",
       "      <td>49.255556</td>\n",
       "      <td>4.033333</td>\n",
       "      <td>4.944444</td>\n",
       "      <td>5.444444</td>\n",
       "      <td>0.433333</td>\n",
       "      <td>2.233333</td>\n",
       "      <td>3.177778</td>\n",
       "      <td>66.644444</td>\n",
       "      <td>75.122222</td>\n",
       "      <td>90.0</td>\n",
       "    </tr>\n",
       "    <tr>\n",
       "      <th>3b</th>\n",
       "      <td>0.031579</td>\n",
       "      <td>11.178947</td>\n",
       "      <td>3.031579</td>\n",
       "      <td>50.063158</td>\n",
       "      <td>1.926316</td>\n",
       "      <td>2.736842</td>\n",
       "      <td>0.136842</td>\n",
       "      <td>0.715789</td>\n",
       "      <td>4.263158</td>\n",
       "      <td>68.905263</td>\n",
       "      <td>79.294737</td>\n",
       "      <td>95.0</td>\n",
       "    </tr>\n",
       "    <tr>\n",
       "      <th>ss</th>\n",
       "      <td>0.000000</td>\n",
       "      <td>1.313953</td>\n",
       "      <td>10.755814</td>\n",
       "      <td>8.290698</td>\n",
       "      <td>40.500000</td>\n",
       "      <td>2.058140</td>\n",
       "      <td>2.534884</td>\n",
       "      <td>1.813953</td>\n",
       "      <td>1.546512</td>\n",
       "      <td>66.174419</td>\n",
       "      <td>70.558140</td>\n",
       "      <td>86.0</td>\n",
       "    </tr>\n",
       "    <tr>\n",
       "      <th>lf</th>\n",
       "      <td>0.000000</td>\n",
       "      <td>3.040816</td>\n",
       "      <td>0.438776</td>\n",
       "      <td>2.704082</td>\n",
       "      <td>0.214286</td>\n",
       "      <td>30.520408</td>\n",
       "      <td>5.193878</td>\n",
       "      <td>7.602041</td>\n",
       "      <td>7.418367</td>\n",
       "      <td>48.632653</td>\n",
       "      <td>61.142857</td>\n",
       "      <td>98.0</td>\n",
       "    </tr>\n",
       "    <tr>\n",
       "      <th>cf</th>\n",
       "      <td>0.000000</td>\n",
       "      <td>0.825243</td>\n",
       "      <td>0.786408</td>\n",
       "      <td>0.834951</td>\n",
       "      <td>0.592233</td>\n",
       "      <td>16.271845</td>\n",
       "      <td>35.116505</td>\n",
       "      <td>19.000000</td>\n",
       "      <td>3.009709</td>\n",
       "      <td>70.398058</td>\n",
       "      <td>79.572816</td>\n",
       "      <td>103.0</td>\n",
       "    </tr>\n",
       "    <tr>\n",
       "      <th>rf</th>\n",
       "      <td>0.000000</td>\n",
       "      <td>4.297297</td>\n",
       "      <td>1.099099</td>\n",
       "      <td>0.324324</td>\n",
       "      <td>0.000000</td>\n",
       "      <td>9.864865</td>\n",
       "      <td>7.054054</td>\n",
       "      <td>37.126126</td>\n",
       "      <td>6.927928</td>\n",
       "      <td>58.162162</td>\n",
       "      <td>70.477477</td>\n",
       "      <td>111.0</td>\n",
       "    </tr>\n",
       "    <tr>\n",
       "      <th>dh</th>\n",
       "      <td>0.000000</td>\n",
       "      <td>8.461538</td>\n",
       "      <td>0.000000</td>\n",
       "      <td>0.000000</td>\n",
       "      <td>0.000000</td>\n",
       "      <td>1.769231</td>\n",
       "      <td>0.000000</td>\n",
       "      <td>4.923077</td>\n",
       "      <td>35.000000</td>\n",
       "      <td>14.384615</td>\n",
       "      <td>54.230769</td>\n",
       "      <td>13.0</td>\n",
       "    </tr>\n",
       "  </tbody>\n",
       "</table>\n",
       "</div>"
      ],
      "text/plain": [
       "          g_c       g_1b       g_2b       g_3b       g_ss       g_lf  \\\n",
       "c   63.611111   3.125000   0.027778   0.069444   0.000000   0.041667   \n",
       "1b   0.000000  61.847059   0.094118   3.188235   0.000000   3.035294   \n",
       "2b   0.000000   2.655556  49.255556   4.033333   4.944444   5.444444   \n",
       "3b   0.031579  11.178947   3.031579  50.063158   1.926316   2.736842   \n",
       "ss   0.000000   1.313953  10.755814   8.290698  40.500000   2.058140   \n",
       "lf   0.000000   3.040816   0.438776   2.704082   0.214286  30.520408   \n",
       "cf   0.000000   0.825243   0.786408   0.834951   0.592233  16.271845   \n",
       "rf   0.000000   4.297297   1.099099   0.324324   0.000000   9.864865   \n",
       "dh   0.000000   8.461538   0.000000   0.000000   0.000000   1.769231   \n",
       "\n",
       "         g_cf       g_rf       g_dh  g_defense      g_all      n  \n",
       "c    0.000000   0.250000   1.208333  66.611111  70.875000   72.0  \n",
       "1b   0.000000   1.447059   6.894118  68.576471  79.505882   85.0  \n",
       "2b   0.433333   2.233333   3.177778  66.644444  75.122222   90.0  \n",
       "3b   0.136842   0.715789   4.263158  68.905263  79.294737   95.0  \n",
       "ss   2.534884   1.813953   1.546512  66.174419  70.558140   86.0  \n",
       "lf   5.193878   7.602041   7.418367  48.632653  61.142857   98.0  \n",
       "cf  35.116505  19.000000   3.009709  70.398058  79.572816  103.0  \n",
       "rf   7.054054  37.126126   6.927928  58.162162  70.477477  111.0  \n",
       "dh   0.000000   4.923077  35.000000  14.384615  54.230769   13.0  "
      ]
     },
     "execution_count": 8,
     "metadata": {},
     "output_type": "execute_result"
    }
   ],
   "source": [
    "future = pd.concat([get_future_pt(yrly_games, pos) for pos in posns], axis=1).T\n",
    "future"
   ]
  },
  {
   "cell_type": "code",
   "execution_count": 9,
   "metadata": {},
   "outputs": [
    {
     "data": {
      "text/html": [
       "<div>\n",
       "<style scoped>\n",
       "    .dataframe tbody tr th:only-of-type {\n",
       "        vertical-align: middle;\n",
       "    }\n",
       "\n",
       "    .dataframe tbody tr th {\n",
       "        vertical-align: top;\n",
       "    }\n",
       "\n",
       "    .dataframe thead th {\n",
       "        text-align: right;\n",
       "    }\n",
       "</style>\n",
       "<table border=\"1\" class=\"dataframe\">\n",
       "  <thead>\n",
       "    <tr style=\"text-align: right;\">\n",
       "      <th></th>\n",
       "      <th>g_c</th>\n",
       "      <th>g_1b</th>\n",
       "      <th>g_2b</th>\n",
       "      <th>g_3b</th>\n",
       "      <th>g_ss</th>\n",
       "      <th>g_lf</th>\n",
       "      <th>g_cf</th>\n",
       "      <th>g_rf</th>\n",
       "      <th>g_dh</th>\n",
       "      <th>g_defense</th>\n",
       "      <th>g_all</th>\n",
       "      <th>n</th>\n",
       "    </tr>\n",
       "  </thead>\n",
       "  <tbody>\n",
       "    <tr>\n",
       "      <th>c</th>\n",
       "      <td>105.0</td>\n",
       "      <td>1.3</td>\n",
       "      <td>0.0</td>\n",
       "      <td>0.0</td>\n",
       "      <td>0.0</td>\n",
       "      <td>0.0</td>\n",
       "      <td>0.0</td>\n",
       "      <td>0.0</td>\n",
       "      <td>2.6</td>\n",
       "      <td>105.4</td>\n",
       "      <td>110.8</td>\n",
       "      <td>20.0</td>\n",
       "    </tr>\n",
       "    <tr>\n",
       "      <th>1b</th>\n",
       "      <td>0.0</td>\n",
       "      <td>101.1</td>\n",
       "      <td>5.9</td>\n",
       "      <td>0.7</td>\n",
       "      <td>0.0</td>\n",
       "      <td>1.5</td>\n",
       "      <td>0.0</td>\n",
       "      <td>0.1</td>\n",
       "      <td>7.7</td>\n",
       "      <td>108.2</td>\n",
       "      <td>120.4</td>\n",
       "      <td>25.0</td>\n",
       "    </tr>\n",
       "    <tr>\n",
       "      <th>2b</th>\n",
       "      <td>0.0</td>\n",
       "      <td>4.0</td>\n",
       "      <td>72.8</td>\n",
       "      <td>11.8</td>\n",
       "      <td>6.7</td>\n",
       "      <td>5.1</td>\n",
       "      <td>4.5</td>\n",
       "      <td>0.6</td>\n",
       "      <td>1.2</td>\n",
       "      <td>103.0</td>\n",
       "      <td>109.9</td>\n",
       "      <td>34.0</td>\n",
       "    </tr>\n",
       "    <tr>\n",
       "      <th>3b</th>\n",
       "      <td>0.0</td>\n",
       "      <td>12.0</td>\n",
       "      <td>2.9</td>\n",
       "      <td>70.9</td>\n",
       "      <td>0.6</td>\n",
       "      <td>5.4</td>\n",
       "      <td>1.4</td>\n",
       "      <td>5.5</td>\n",
       "      <td>5.2</td>\n",
       "      <td>96.2</td>\n",
       "      <td>105.2</td>\n",
       "      <td>36.0</td>\n",
       "    </tr>\n",
       "    <tr>\n",
       "      <th>ss</th>\n",
       "      <td>0.0</td>\n",
       "      <td>0.0</td>\n",
       "      <td>12.0</td>\n",
       "      <td>4.9</td>\n",
       "      <td>100.5</td>\n",
       "      <td>0.5</td>\n",
       "      <td>0.2</td>\n",
       "      <td>0.2</td>\n",
       "      <td>1.2</td>\n",
       "      <td>117.5</td>\n",
       "      <td>120.6</td>\n",
       "      <td>34.0</td>\n",
       "    </tr>\n",
       "    <tr>\n",
       "      <th>lf</th>\n",
       "      <td>0.0</td>\n",
       "      <td>0.1</td>\n",
       "      <td>3.4</td>\n",
       "      <td>0.0</td>\n",
       "      <td>0.4</td>\n",
       "      <td>52.0</td>\n",
       "      <td>9.8</td>\n",
       "      <td>26.9</td>\n",
       "      <td>6.2</td>\n",
       "      <td>90.6</td>\n",
       "      <td>100.4</td>\n",
       "      <td>25.0</td>\n",
       "    </tr>\n",
       "    <tr>\n",
       "      <th>cf</th>\n",
       "      <td>0.0</td>\n",
       "      <td>0.5</td>\n",
       "      <td>0.7</td>\n",
       "      <td>0.1</td>\n",
       "      <td>0.3</td>\n",
       "      <td>12.4</td>\n",
       "      <td>85.0</td>\n",
       "      <td>15.2</td>\n",
       "      <td>1.2</td>\n",
       "      <td>112.8</td>\n",
       "      <td>118.9</td>\n",
       "      <td>42.0</td>\n",
       "    </tr>\n",
       "    <tr>\n",
       "      <th>rf</th>\n",
       "      <td>0.0</td>\n",
       "      <td>4.3</td>\n",
       "      <td>0.0</td>\n",
       "      <td>0.0</td>\n",
       "      <td>0.0</td>\n",
       "      <td>22.6</td>\n",
       "      <td>30.0</td>\n",
       "      <td>50.5</td>\n",
       "      <td>0.9</td>\n",
       "      <td>103.3</td>\n",
       "      <td>107.8</td>\n",
       "      <td>26.0</td>\n",
       "    </tr>\n",
       "    <tr>\n",
       "      <th>dh</th>\n",
       "      <td>0.0</td>\n",
       "      <td>22.5</td>\n",
       "      <td>0.0</td>\n",
       "      <td>0.0</td>\n",
       "      <td>0.0</td>\n",
       "      <td>4.5</td>\n",
       "      <td>0.0</td>\n",
       "      <td>10.5</td>\n",
       "      <td>56.0</td>\n",
       "      <td>37.5</td>\n",
       "      <td>102.5</td>\n",
       "      <td>2.0</td>\n",
       "    </tr>\n",
       "  </tbody>\n",
       "</table>\n",
       "</div>"
      ],
      "text/plain": [
       "      g_c   g_1b  g_2b  g_3b   g_ss  g_lf  g_cf  g_rf  g_dh  g_defense  g_all  \\\n",
       "c   105.0    1.3   0.0   0.0    0.0   0.0   0.0   0.0   2.6      105.4  110.8   \n",
       "1b    0.0  101.1   5.9   0.7    0.0   1.5   0.0   0.1   7.7      108.2  120.4   \n",
       "2b    0.0    4.0  72.8  11.8    6.7   5.1   4.5   0.6   1.2      103.0  109.9   \n",
       "3b    0.0   12.0   2.9  70.9    0.6   5.4   1.4   5.5   5.2       96.2  105.2   \n",
       "ss    0.0    0.0  12.0   4.9  100.5   0.5   0.2   0.2   1.2      117.5  120.6   \n",
       "lf    0.0    0.1   3.4   0.0    0.4  52.0   9.8  26.9   6.2       90.6  100.4   \n",
       "cf    0.0    0.5   0.7   0.1    0.3  12.4  85.0  15.2   1.2      112.8  118.9   \n",
       "rf    0.0    4.3   0.0   0.0    0.0  22.6  30.0  50.5   0.9      103.3  107.8   \n",
       "dh    0.0   22.5   0.0   0.0    0.0   4.5   0.0  10.5  56.0       37.5  102.5   \n",
       "\n",
       "       n  \n",
       "c   20.0  \n",
       "1b  25.0  \n",
       "2b  34.0  \n",
       "3b  36.0  \n",
       "ss  34.0  \n",
       "lf  25.0  \n",
       "cf  42.0  \n",
       "rf  26.0  \n",
       "dh   2.0  "
      ]
     },
     "execution_count": 9,
     "metadata": {},
     "output_type": "execute_result"
    }
   ],
   "source": [
    "# try it again for 2000-current\n",
    "def get_pt_matrix(start_age=24, comp_age=27):\n",
    "    future = pd.concat([get_future_pt(yrly_games.query('year_id>=2000'), pos, start_age=start_age, comp_age=comp_age) for pos in posns], axis=1).T\n",
    "    return future.apply(lambda x: round(x, 1))\n",
    "\n",
    "get_pt_matrix(24, 27)"
   ]
  },
  {
   "cell_type": "code",
   "execution_count": 10,
   "metadata": {},
   "outputs": [
    {
     "data": {
      "text/html": [
       "<div>\n",
       "<style scoped>\n",
       "    .dataframe tbody tr th:only-of-type {\n",
       "        vertical-align: middle;\n",
       "    }\n",
       "\n",
       "    .dataframe tbody tr th {\n",
       "        vertical-align: top;\n",
       "    }\n",
       "\n",
       "    .dataframe thead th {\n",
       "        text-align: right;\n",
       "    }\n",
       "</style>\n",
       "<table border=\"1\" class=\"dataframe\">\n",
       "  <thead>\n",
       "    <tr style=\"text-align: right;\">\n",
       "      <th></th>\n",
       "      <th>g_c</th>\n",
       "      <th>g_1b</th>\n",
       "      <th>g_2b</th>\n",
       "      <th>g_3b</th>\n",
       "      <th>g_ss</th>\n",
       "      <th>g_lf</th>\n",
       "      <th>g_cf</th>\n",
       "      <th>g_rf</th>\n",
       "      <th>g_dh</th>\n",
       "      <th>g_defense</th>\n",
       "      <th>g_all</th>\n",
       "      <th>n</th>\n",
       "    </tr>\n",
       "  </thead>\n",
       "  <tbody>\n",
       "    <tr>\n",
       "      <th>c</th>\n",
       "      <td>84.2</td>\n",
       "      <td>8.0</td>\n",
       "      <td>0.0</td>\n",
       "      <td>0.1</td>\n",
       "      <td>0.0</td>\n",
       "      <td>0.4</td>\n",
       "      <td>0.0</td>\n",
       "      <td>0.2</td>\n",
       "      <td>7.6</td>\n",
       "      <td>91.5</td>\n",
       "      <td>104.2</td>\n",
       "      <td>37.0</td>\n",
       "    </tr>\n",
       "    <tr>\n",
       "      <th>1b</th>\n",
       "      <td>0.0</td>\n",
       "      <td>76.1</td>\n",
       "      <td>0.1</td>\n",
       "      <td>5.8</td>\n",
       "      <td>0.0</td>\n",
       "      <td>2.8</td>\n",
       "      <td>0.0</td>\n",
       "      <td>8.7</td>\n",
       "      <td>7.0</td>\n",
       "      <td>92.0</td>\n",
       "      <td>103.2</td>\n",
       "      <td>45.0</td>\n",
       "    </tr>\n",
       "    <tr>\n",
       "      <th>2b</th>\n",
       "      <td>0.0</td>\n",
       "      <td>2.8</td>\n",
       "      <td>62.7</td>\n",
       "      <td>9.7</td>\n",
       "      <td>6.6</td>\n",
       "      <td>4.5</td>\n",
       "      <td>1.2</td>\n",
       "      <td>0.8</td>\n",
       "      <td>0.8</td>\n",
       "      <td>86.0</td>\n",
       "      <td>92.4</td>\n",
       "      <td>59.0</td>\n",
       "    </tr>\n",
       "    <tr>\n",
       "      <th>3b</th>\n",
       "      <td>0.0</td>\n",
       "      <td>12.2</td>\n",
       "      <td>7.4</td>\n",
       "      <td>62.4</td>\n",
       "      <td>4.4</td>\n",
       "      <td>0.5</td>\n",
       "      <td>0.0</td>\n",
       "      <td>3.2</td>\n",
       "      <td>4.1</td>\n",
       "      <td>88.1</td>\n",
       "      <td>96.0</td>\n",
       "      <td>42.0</td>\n",
       "    </tr>\n",
       "    <tr>\n",
       "      <th>ss</th>\n",
       "      <td>0.0</td>\n",
       "      <td>0.4</td>\n",
       "      <td>12.5</td>\n",
       "      <td>10.6</td>\n",
       "      <td>89.0</td>\n",
       "      <td>0.8</td>\n",
       "      <td>2.8</td>\n",
       "      <td>0.2</td>\n",
       "      <td>0.8</td>\n",
       "      <td>114.2</td>\n",
       "      <td>118.7</td>\n",
       "      <td>47.0</td>\n",
       "    </tr>\n",
       "    <tr>\n",
       "      <th>lf</th>\n",
       "      <td>0.0</td>\n",
       "      <td>9.4</td>\n",
       "      <td>0.4</td>\n",
       "      <td>2.3</td>\n",
       "      <td>0.0</td>\n",
       "      <td>54.7</td>\n",
       "      <td>6.5</td>\n",
       "      <td>13.2</td>\n",
       "      <td>8.9</td>\n",
       "      <td>84.6</td>\n",
       "      <td>99.8</td>\n",
       "      <td>48.0</td>\n",
       "    </tr>\n",
       "    <tr>\n",
       "      <th>cf</th>\n",
       "      <td>0.0</td>\n",
       "      <td>2.6</td>\n",
       "      <td>0.9</td>\n",
       "      <td>0.1</td>\n",
       "      <td>0.1</td>\n",
       "      <td>18.8</td>\n",
       "      <td>58.8</td>\n",
       "      <td>11.5</td>\n",
       "      <td>1.7</td>\n",
       "      <td>90.1</td>\n",
       "      <td>96.2</td>\n",
       "      <td>58.0</td>\n",
       "    </tr>\n",
       "    <tr>\n",
       "      <th>rf</th>\n",
       "      <td>0.0</td>\n",
       "      <td>4.4</td>\n",
       "      <td>1.4</td>\n",
       "      <td>0.1</td>\n",
       "      <td>0.2</td>\n",
       "      <td>13.7</td>\n",
       "      <td>21.0</td>\n",
       "      <td>62.2</td>\n",
       "      <td>4.6</td>\n",
       "      <td>98.8</td>\n",
       "      <td>107.4</td>\n",
       "      <td>42.0</td>\n",
       "    </tr>\n",
       "    <tr>\n",
       "      <th>dh</th>\n",
       "      <td>1.3</td>\n",
       "      <td>22.2</td>\n",
       "      <td>0.0</td>\n",
       "      <td>5.2</td>\n",
       "      <td>0.0</td>\n",
       "      <td>12.7</td>\n",
       "      <td>0.0</td>\n",
       "      <td>1.1</td>\n",
       "      <td>34.0</td>\n",
       "      <td>40.2</td>\n",
       "      <td>80.0</td>\n",
       "      <td>10.0</td>\n",
       "    </tr>\n",
       "  </tbody>\n",
       "</table>\n",
       "</div>"
      ],
      "text/plain": [
       "     g_c  g_1b  g_2b  g_3b  g_ss  g_lf  g_cf  g_rf  g_dh  g_defense  g_all  \\\n",
       "c   84.2   8.0   0.0   0.1   0.0   0.4   0.0   0.2   7.6       91.5  104.2   \n",
       "1b   0.0  76.1   0.1   5.8   0.0   2.8   0.0   8.7   7.0       92.0  103.2   \n",
       "2b   0.0   2.8  62.7   9.7   6.6   4.5   1.2   0.8   0.8       86.0   92.4   \n",
       "3b   0.0  12.2   7.4  62.4   4.4   0.5   0.0   3.2   4.1       88.1   96.0   \n",
       "ss   0.0   0.4  12.5  10.6  89.0   0.8   2.8   0.2   0.8      114.2  118.7   \n",
       "lf   0.0   9.4   0.4   2.3   0.0  54.7   6.5  13.2   8.9       84.6   99.8   \n",
       "cf   0.0   2.6   0.9   0.1   0.1  18.8  58.8  11.5   1.7       90.1   96.2   \n",
       "rf   0.0   4.4   1.4   0.1   0.2  13.7  21.0  62.2   4.6       98.8  107.4   \n",
       "dh   1.3  22.2   0.0   5.2   0.0  12.7   0.0   1.1  34.0       40.2   80.0   \n",
       "\n",
       "       n  \n",
       "c   37.0  \n",
       "1b  45.0  \n",
       "2b  59.0  \n",
       "3b  42.0  \n",
       "ss  47.0  \n",
       "lf  48.0  \n",
       "cf  58.0  \n",
       "rf  42.0  \n",
       "dh  10.0  "
      ]
     },
     "execution_count": 10,
     "metadata": {},
     "output_type": "execute_result"
    }
   ],
   "source": [
    "get_pt_matrix(27, 30)"
   ]
  },
  {
   "cell_type": "code",
   "execution_count": 11,
   "metadata": {},
   "outputs": [
    {
     "name": "stdout",
     "output_type": "stream",
     "text": [
      "       g_c  g_1b  g_2b  g_3b  g_ss  g_lf  g_cf  g_rf   g_dh\n",
      "25306    0   119     0     0     0     0     0     0   14.0\n",
      "43268    0   157     0     0     0     0     0     0    5.0\n",
      "43163    0   157     0     0     0     0     0     0    2.0\n",
      "42704    0   120     0     0     0    14     0     0    0.0\n",
      "42415    0    79     0     0     0     0     0     0    0.0\n",
      "41792    0   105     0    16     0     0     0     0    0.0\n",
      "38941    0     1     0     0     0     0     0     1    0.0\n",
      "38940    0     1     0     0     0     0     0     1    0.0\n",
      "38778    0   160     0     0     0     0     0     0    0.0\n",
      "37779    0     7     0     0     0     0     0     0  150.0\n",
      "36814    0   150     0     0     0     0     0     0    1.0\n",
      "37666    0    36     0     0     0     0     0     0    0.0\n",
      "35207    0   159     0     0     0     0     0     0    3.0\n",
      "34228    0   151     0     0     0     0     0     0    0.0\n",
      "34206    0   116     0     0     0     0     0     0    3.0\n",
      "33929    0   156     0     0     0     0     0     0    2.0\n",
      "33286    0    74     0     0     0     0     0     0    4.0\n",
      "33285    0    54     0     0     0     0     0     0    0.0\n",
      "33072    0   155     0     0     0     0     0     0    8.0\n",
      "30731    0   154     0     0     0     0     0     0    0.0\n",
      "25350    0   155     0     0     0     0     0     0    0.0\n",
      "35426    0     6     0     0     0    23     0     0    0.0\n",
      "43988    0    86     0     0     0     0     0     0    0.0\n",
      "43728    0   157    10     1     0     1     0     0    0.0\n",
      "39642    0    12   138     0     0     0     0     0    0.0\n"
     ]
    }
   ],
   "source": [
    "# as an aside\n",
    "# Wait, how do we get 1b->2b move of 5.9 games at age 24->27?  Did someone move from 1B to 2B?  Let's find out.\n",
    "\n",
    "def temp_get_future_pt(gms: pd.DataFrame, pos: str, start_age: int = 28, comp_age: int = 33, gm_threshold: int = 100) -> pd.Series:\n",
    "    max_year = 2019-(comp_age-start_age)\n",
    "\n",
    "    prime_regulars = gms.query(f'baseball_age==@start_age and g_all>=@gm_threshold and primary==@pos and year_id<=@max_year')['player_id']\n",
    "    print(gms.query('player_id in @prime_regulars and baseball_age==@comp_age')[[f'g_{pos}' for pos in posns]].sort_values('g_2b'))\n",
    "\n",
    "temp_get_future_pt(yrly_games.query('year_id>=2000'), '1b', start_age=24, comp_age=27)"
   ]
  },
  {
   "cell_type": "code",
   "execution_count": 12,
   "metadata": {},
   "outputs": [
    {
     "data": {
      "text/plain": [
       "player_id        murphda08\n",
       "year_id               2012\n",
       "team_id                NYN\n",
       "lg_id                   NL\n",
       "g_all                  156\n",
       "gs                   136.0\n",
       "g_batting              156\n",
       "g_defense            144.0\n",
       "g_p                      0\n",
       "g_c                      0\n",
       "g_1b                    12\n",
       "g_2b                   138\n",
       "g_3b                     0\n",
       "g_ss                     0\n",
       "g_lf                     0\n",
       "g_cf                     0\n",
       "g_rf                     0\n",
       "g_of                     0\n",
       "g_dh                   0.0\n",
       "g_ph                  18.0\n",
       "g_pr                   0.0\n",
       "birthdate       1985-04-01\n",
       "baseball_age            27\n",
       "primary                 2b\n",
       "Name: 39642, dtype: object"
      ]
     },
     "execution_count": 12,
     "metadata": {},
     "output_type": "execute_result"
    }
   ],
   "source": [
    "yrly_games.loc[39642]"
   ]
  },
  {
   "cell_type": "code",
   "execution_count": null,
   "metadata": {},
   "outputs": [],
   "source": []
  }
 ],
 "metadata": {
  "interpreter": {
   "hash": "cd78fef2128015050713e82ca51c6520b11aee7c9ee8df750520bbbc7384cbaa"
  },
  "kernelspec": {
   "display_name": "Python 3.8.8 ('base')",
   "language": "python",
   "name": "python3"
  },
  "language_info": {
   "codemirror_mode": {
    "name": "ipython",
    "version": 3
   },
   "file_extension": ".py",
   "mimetype": "text/x-python",
   "name": "python",
   "nbconvert_exporter": "python",
   "pygments_lexer": "ipython3",
   "version": "3.8.8"
  }
 },
 "nbformat": 4,
 "nbformat_minor": 4
}
