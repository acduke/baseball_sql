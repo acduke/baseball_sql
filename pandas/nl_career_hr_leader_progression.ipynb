{
 "cells": [
  {
   "cell_type": "markdown",
   "metadata": {},
   "source": [
    "# Progression of the NL career home run record\n",
    "\n",
    "\"Who the heck is Cy Williams?\"\n",
    "\n",
    "\"I think he used to be the NL's career home run leader at some point.\"\n",
    "\n",
    "OK, let's see."
   ]
  },
  {
   "cell_type": "code",
   "execution_count": 1,
   "metadata": {},
   "outputs": [],
   "source": [
    "import pandas as pd\n",
    "import boxball_loader as bbl\n",
    "import numpy as np"
   ]
  },
  {
   "cell_type": "code",
   "execution_count": 2,
   "metadata": {},
   "outputs": [
    {
     "data": {
      "text/plain": [
       "player_id  yr    lg_id\n",
       "aardsda01  2004  NL        0\n",
       "           2006  NL        0\n",
       "           2013  NL        0\n",
       "           2015  NL        0\n",
       "aaronha01  1954  NL       13\n",
       "                          ..\n",
       "zuvelpa01  1983  NL        0\n",
       "           1984  NL        0\n",
       "           1985  NL        0\n",
       "zuverge01  1954  NL        0\n",
       "zwilldu01  1916  NL        1\n",
       "Name: hr, Length: 52360, dtype: int16"
      ]
     },
     "execution_count": 2,
     "metadata": {},
     "output_type": "execute_result"
    }
   ],
   "source": [
    "# get the count of HR for each player-season in the NL\n",
    "df = bbl.load_batting(coalesce_type=bbl.CoalesceMode.PLAYER_SEASON_LEAGUE)\n",
    "nl_hr = df[df.index.get_level_values('lg_id')=='NL']['hr']\n",
    "nl_hr"
   ]
  },
  {
   "cell_type": "code",
   "execution_count": 3,
   "metadata": {},
   "outputs": [
    {
     "data": {
      "text/plain": [
       "player_id  yr    lg_id\n",
       "aardsda01  2004  NL        0\n",
       "           2006  NL        0\n",
       "           2013  NL        0\n",
       "           2015  NL        0\n",
       "aaronha01  1954  NL       13\n",
       "                          ..\n",
       "zuvelpa01  1983  NL        0\n",
       "           1984  NL        0\n",
       "           1985  NL        0\n",
       "zuverge01  1954  NL        0\n",
       "zwilldu01  1916  NL        1\n",
       "Name: hr, Length: 52360, dtype: int16"
      ]
     },
     "execution_count": 3,
     "metadata": {},
     "output_type": "execute_result"
    }
   ],
   "source": [
    "# cumulative career totals\n",
    "totals = nl_hr.groupby(level=0).cumsum()\n",
    "totals"
   ]
  },
  {
   "cell_type": "code",
   "execution_count": 4,
   "metadata": {},
   "outputs": [
    {
     "data": {
      "text/plain": [
       "yr\n",
       "1876      5\n",
       "1877      6\n",
       "1878      9\n",
       "1879     18\n",
       "1880     23\n",
       "       ... \n",
       "2016    382\n",
       "2017    302\n",
       "2018    322\n",
       "2019    344\n",
       "2020    352\n",
       "Name: hr, Length: 145, dtype: int16"
      ]
     },
     "execution_count": 4,
     "metadata": {},
     "output_type": "execute_result"
    }
   ],
   "source": [
    "# here's the annual leader\n",
    "# two problems: only counts active players, and is missing the player id\n",
    "totals.reset_index().groupby('yr')['hr'].max()"
   ]
  },
  {
   "cell_type": "code",
   "execution_count": 5,
   "metadata": {},
   "outputs": [
    {
     "data": {
      "text/plain": [
       "player_id\n",
       "willicy01    186\n",
       "Name: hr, dtype: int16"
      ]
     },
     "execution_count": 5,
     "metadata": {},
     "output_type": "execute_result"
    }
   ],
   "source": [
    "# ok, this is what we really need to do for each year\n",
    "def get_yearly_leader(yr):\n",
    "    yrly = nl_hr[nl_hr.index.get_level_values('yr')<=yr].reset_index().groupby('player_id')['hr'].sum()\n",
    "    leader = yrly[yrly == yrly.max()]\n",
    "    return leader\n",
    "\n",
    "get_yearly_leader(1925)"
   ]
  },
  {
   "cell_type": "code",
   "execution_count": 6,
   "metadata": {},
   "outputs": [
    {
     "data": {
      "text/html": [
       "<div>\n",
       "<style scoped>\n",
       "    .dataframe tbody tr th:only-of-type {\n",
       "        vertical-align: middle;\n",
       "    }\n",
       "\n",
       "    .dataframe tbody tr th {\n",
       "        vertical-align: top;\n",
       "    }\n",
       "\n",
       "    .dataframe thead th {\n",
       "        text-align: right;\n",
       "    }\n",
       "</style>\n",
       "<table border=\"1\" class=\"dataframe\">\n",
       "  <thead>\n",
       "    <tr style=\"text-align: right;\">\n",
       "      <th></th>\n",
       "      <th>player_id</th>\n",
       "      <th>hr</th>\n",
       "    </tr>\n",
       "  </thead>\n",
       "  <tbody>\n",
       "    <tr>\n",
       "      <th>1876</th>\n",
       "      <td>hallge01</td>\n",
       "      <td>5</td>\n",
       "    </tr>\n",
       "    <tr>\n",
       "      <th>1877</th>\n",
       "      <td>jonesch01</td>\n",
       "      <td>6</td>\n",
       "    </tr>\n",
       "    <tr>\n",
       "      <th>1878</th>\n",
       "      <td>jonesch01</td>\n",
       "      <td>9</td>\n",
       "    </tr>\n",
       "    <tr>\n",
       "      <th>1879</th>\n",
       "      <td>jonesch01</td>\n",
       "      <td>18</td>\n",
       "    </tr>\n",
       "    <tr>\n",
       "      <th>1880</th>\n",
       "      <td>jonesch01</td>\n",
       "      <td>23</td>\n",
       "    </tr>\n",
       "    <tr>\n",
       "      <th>...</th>\n",
       "      <td>...</td>\n",
       "      <td>...</td>\n",
       "    </tr>\n",
       "    <tr>\n",
       "      <th>2016</th>\n",
       "      <td>bondsba01</td>\n",
       "      <td>762</td>\n",
       "    </tr>\n",
       "    <tr>\n",
       "      <th>2017</th>\n",
       "      <td>bondsba01</td>\n",
       "      <td>762</td>\n",
       "    </tr>\n",
       "    <tr>\n",
       "      <th>2018</th>\n",
       "      <td>bondsba01</td>\n",
       "      <td>762</td>\n",
       "    </tr>\n",
       "    <tr>\n",
       "      <th>2019</th>\n",
       "      <td>bondsba01</td>\n",
       "      <td>762</td>\n",
       "    </tr>\n",
       "    <tr>\n",
       "      <th>2020</th>\n",
       "      <td>bondsba01</td>\n",
       "      <td>762</td>\n",
       "    </tr>\n",
       "  </tbody>\n",
       "</table>\n",
       "<p>146 rows × 2 columns</p>\n",
       "</div>"
      ],
      "text/plain": [
       "      player_id   hr\n",
       "1876   hallge01    5\n",
       "1877  jonesch01    6\n",
       "1878  jonesch01    9\n",
       "1879  jonesch01   18\n",
       "1880  jonesch01   23\n",
       "...         ...  ...\n",
       "2016  bondsba01  762\n",
       "2017  bondsba01  762\n",
       "2018  bondsba01  762\n",
       "2019  bondsba01  762\n",
       "2020  bondsba01  762\n",
       "\n",
       "[146 rows x 2 columns]"
      ]
     },
     "execution_count": 6,
     "metadata": {},
     "output_type": "execute_result"
    }
   ],
   "source": [
    "# combine years into a df\n",
    "yrly_leaders = pd.concat({yr: get_yearly_leader(yr) for yr in range(1870, 2021)}).reset_index(level=1)\n",
    "yrly_leaders"
   ]
  },
  {
   "cell_type": "code",
   "execution_count": 7,
   "metadata": {},
   "outputs": [
    {
     "name": "stdout",
     "output_type": "stream",
     "text": [
      "      player_id   hr\n",
      "1876   hallge01    5\n",
      "1877  jonesch01    6\n",
      "1878  jonesch01    9\n",
      "1879  jonesch01   18\n",
      "1880  jonesch01   23\n",
      "1884  broutda01   35\n",
      "1884  willine01   35\n",
      "1885  broutda01   42\n",
      "1886  broutda01   53\n",
      "1887  broutda01   65\n",
      "1888  broutda01   74\n",
      "1889  broutda01   81\n",
      "1891  ansonca01   84\n",
      "1892  broutda01   86\n",
      "1893  connoro01   96\n",
      "1894  connoro01  104\n",
      "1895  thompsa01  113\n",
      "1896  thompsa01  125\n",
      "1898  thompsa01  126\n",
      "1923  willicy01  149\n",
      "1924  willicy01  173\n",
      "1925  willicy01  186\n",
      "1926  willicy01  204\n",
      "1927  willicy01  234\n",
      "1928  willicy01  246\n",
      "1929  hornsro01  277\n",
      "1930  hornsro01  279\n",
      "1931  hornsro01  295\n",
      "1932  hornsro01  296\n",
      "1933  hornsro01  298\n",
      "1937    ottme01  306\n",
      "1938    ottme01  342\n",
      "1939    ottme01  369\n",
      "1940    ottme01  388\n",
      "1941    ottme01  415\n",
      "1942    ottme01  445\n",
      "1943    ottme01  463\n",
      "1944    ottme01  489\n",
      "1945    ottme01  510\n",
      "1946    ottme01  511\n",
      "1966   mayswi01  542\n",
      "1967   mayswi01  564\n",
      "1968   mayswi01  587\n",
      "1969   mayswi01  600\n",
      "1970   mayswi01  628\n",
      "1971   mayswi01  646\n",
      "1972  aaronha01  673\n",
      "1973  aaronha01  713\n",
      "1974  aaronha01  733\n",
      "2006  bondsba01  734\n",
      "2007  bondsba01  762\n"
     ]
    }
   ],
   "source": [
    "print(yrly_leaders.drop_duplicates().to_string())"
   ]
  },
  {
   "cell_type": "code",
   "execution_count": 8,
   "metadata": {},
   "outputs": [
    {
     "data": {
      "text/plain": [
       "aaronha01    34\n",
       "ottme01      29\n",
       "thompsa01    28\n",
       "bondsba01    15\n",
       "broutda01     8\n",
       "hornsro01     8\n",
       "jonesch01     7\n",
       "mayswi01      6\n",
       "willicy01     6\n",
       "connoro01     2\n",
       "ansonca01     1\n",
       "hallge01      1\n",
       "willine01     1\n",
       "Name: player_id, dtype: int64"
      ]
     },
     "execution_count": 8,
     "metadata": {},
     "output_type": "execute_result"
    }
   ],
   "source": [
    "yrly_leaders['player_id'].value_counts()"
   ]
  },
  {
   "cell_type": "code",
   "execution_count": 9,
   "metadata": {},
   "outputs": [],
   "source": [
    "# ok, now let's visualize the projection\n",
    "import plotly.express as px"
   ]
  },
  {
   "cell_type": "code",
   "execution_count": 10,
   "metadata": {},
   "outputs": [
    {
     "data": {
      "application/vnd.plotly.v1+json": {
       "config": {
        "plotlyServerURL": "https://plot.ly"
       },
       "data": [
        {
         "hovertemplate": "color=hallge01<br>variable=hr<br>index=%{x}<br>value=%{y}<extra></extra>",
         "legendgroup": "hallge01",
         "line": {
          "color": "#636efa",
          "dash": "solid"
         },
         "mode": "lines",
         "name": "hallge01",
         "orientation": "v",
         "showlegend": true,
         "type": "scatter",
         "x": [
          1876
         ],
         "xaxis": "x",
         "y": [
          5
         ],
         "yaxis": "y"
        },
        {
         "hovertemplate": "color=jonesch01<br>variable=hr<br>index=%{x}<br>value=%{y}<extra></extra>",
         "legendgroup": "jonesch01",
         "line": {
          "color": "#EF553B",
          "dash": "solid"
         },
         "mode": "lines",
         "name": "jonesch01",
         "orientation": "v",
         "showlegend": true,
         "type": "scatter",
         "x": [
          1877,
          1878,
          1879,
          1880,
          1881,
          1882,
          1883
         ],
         "xaxis": "x",
         "y": [
          6,
          9,
          18,
          23,
          23,
          23,
          23
         ],
         "yaxis": "y"
        },
        {
         "hovertemplate": "color=broutda01<br>variable=hr<br>index=%{x}<br>value=%{y}<extra></extra>",
         "legendgroup": "broutda01",
         "line": {
          "color": "#00cc96",
          "dash": "solid"
         },
         "mode": "lines",
         "name": "broutda01",
         "orientation": "v",
         "showlegend": true,
         "type": "scatter",
         "x": [
          1884,
          1885,
          1886,
          1887,
          1888,
          1889,
          1890,
          1892
         ],
         "xaxis": "x",
         "y": [
          35,
          42,
          53,
          65,
          74,
          81,
          81,
          86
         ],
         "yaxis": "y"
        },
        {
         "hovertemplate": "color=willine01<br>variable=hr<br>index=%{x}<br>value=%{y}<extra></extra>",
         "legendgroup": "willine01",
         "line": {
          "color": "#ab63fa",
          "dash": "solid"
         },
         "mode": "lines",
         "name": "willine01",
         "orientation": "v",
         "showlegend": true,
         "type": "scatter",
         "x": [
          1884
         ],
         "xaxis": "x",
         "y": [
          35
         ],
         "yaxis": "y"
        },
        {
         "hovertemplate": "color=ansonca01<br>variable=hr<br>index=%{x}<br>value=%{y}<extra></extra>",
         "legendgroup": "ansonca01",
         "line": {
          "color": "#FFA15A",
          "dash": "solid"
         },
         "mode": "lines",
         "name": "ansonca01",
         "orientation": "v",
         "showlegend": true,
         "type": "scatter",
         "x": [
          1891
         ],
         "xaxis": "x",
         "y": [
          84
         ],
         "yaxis": "y"
        },
        {
         "hovertemplate": "color=connoro01<br>variable=hr<br>index=%{x}<br>value=%{y}<extra></extra>",
         "legendgroup": "connoro01",
         "line": {
          "color": "#19d3f3",
          "dash": "solid"
         },
         "mode": "lines",
         "name": "connoro01",
         "orientation": "v",
         "showlegend": true,
         "type": "scatter",
         "x": [
          1893,
          1894
         ],
         "xaxis": "x",
         "y": [
          96,
          104
         ],
         "yaxis": "y"
        },
        {
         "hovertemplate": "color=thompsa01<br>variable=hr<br>index=%{x}<br>value=%{y}<extra></extra>",
         "legendgroup": "thompsa01",
         "line": {
          "color": "#FF6692",
          "dash": "solid"
         },
         "mode": "lines",
         "name": "thompsa01",
         "orientation": "v",
         "showlegend": true,
         "type": "scatter",
         "x": [
          1895,
          1896,
          1897,
          1898,
          1899,
          1900,
          1901,
          1902,
          1903,
          1904,
          1905,
          1906,
          1907,
          1908,
          1909,
          1910,
          1911,
          1912,
          1913,
          1914,
          1915,
          1916,
          1917,
          1918,
          1919,
          1920,
          1921,
          1922
         ],
         "xaxis": "x",
         "y": [
          113,
          125,
          125,
          126,
          126,
          126,
          126,
          126,
          126,
          126,
          126,
          126,
          126,
          126,
          126,
          126,
          126,
          126,
          126,
          126,
          126,
          126,
          126,
          126,
          126,
          126,
          126,
          126
         ],
         "yaxis": "y"
        },
        {
         "hovertemplate": "color=willicy01<br>variable=hr<br>index=%{x}<br>value=%{y}<extra></extra>",
         "legendgroup": "willicy01",
         "line": {
          "color": "#B6E880",
          "dash": "solid"
         },
         "mode": "lines",
         "name": "willicy01",
         "orientation": "v",
         "showlegend": true,
         "type": "scatter",
         "x": [
          1923,
          1924,
          1925,
          1926,
          1927,
          1928
         ],
         "xaxis": "x",
         "y": [
          149,
          173,
          186,
          204,
          234,
          246
         ],
         "yaxis": "y"
        },
        {
         "hovertemplate": "color=hornsro01<br>variable=hr<br>index=%{x}<br>value=%{y}<extra></extra>",
         "legendgroup": "hornsro01",
         "line": {
          "color": "#FF97FF",
          "dash": "solid"
         },
         "mode": "lines",
         "name": "hornsro01",
         "orientation": "v",
         "showlegend": true,
         "type": "scatter",
         "x": [
          1929,
          1930,
          1931,
          1932,
          1933,
          1934,
          1935,
          1936
         ],
         "xaxis": "x",
         "y": [
          277,
          279,
          295,
          296,
          298,
          298,
          298,
          298
         ],
         "yaxis": "y"
        },
        {
         "hovertemplate": "color=ottme01<br>variable=hr<br>index=%{x}<br>value=%{y}<extra></extra>",
         "legendgroup": "ottme01",
         "line": {
          "color": "#FECB52",
          "dash": "solid"
         },
         "mode": "lines",
         "name": "ottme01",
         "orientation": "v",
         "showlegend": true,
         "type": "scatter",
         "x": [
          1937,
          1938,
          1939,
          1940,
          1941,
          1942,
          1943,
          1944,
          1945,
          1946,
          1947,
          1948,
          1949,
          1950,
          1951,
          1952,
          1953,
          1954,
          1955,
          1956,
          1957,
          1958,
          1959,
          1960,
          1961,
          1962,
          1963,
          1964,
          1965
         ],
         "xaxis": "x",
         "y": [
          306,
          342,
          369,
          388,
          415,
          445,
          463,
          489,
          510,
          511,
          511,
          511,
          511,
          511,
          511,
          511,
          511,
          511,
          511,
          511,
          511,
          511,
          511,
          511,
          511,
          511,
          511,
          511,
          511
         ],
         "yaxis": "y"
        },
        {
         "hovertemplate": "color=mayswi01<br>variable=hr<br>index=%{x}<br>value=%{y}<extra></extra>",
         "legendgroup": "mayswi01",
         "line": {
          "color": "#636efa",
          "dash": "solid"
         },
         "mode": "lines",
         "name": "mayswi01",
         "orientation": "v",
         "showlegend": true,
         "type": "scatter",
         "x": [
          1966,
          1967,
          1968,
          1969,
          1970,
          1971
         ],
         "xaxis": "x",
         "y": [
          542,
          564,
          587,
          600,
          628,
          646
         ],
         "yaxis": "y"
        },
        {
         "hovertemplate": "color=aaronha01<br>variable=hr<br>index=%{x}<br>value=%{y}<extra></extra>",
         "legendgroup": "aaronha01",
         "line": {
          "color": "#EF553B",
          "dash": "solid"
         },
         "mode": "lines",
         "name": "aaronha01",
         "orientation": "v",
         "showlegend": true,
         "type": "scatter",
         "x": [
          1972,
          1973,
          1974,
          1975,
          1976,
          1977,
          1978,
          1979,
          1980,
          1981,
          1982,
          1983,
          1984,
          1985,
          1986,
          1987,
          1988,
          1989,
          1990,
          1991,
          1992,
          1993,
          1994,
          1995,
          1996,
          1997,
          1998,
          1999,
          2000,
          2001,
          2002,
          2003,
          2004,
          2005
         ],
         "xaxis": "x",
         "y": [
          673,
          713,
          733,
          733,
          733,
          733,
          733,
          733,
          733,
          733,
          733,
          733,
          733,
          733,
          733,
          733,
          733,
          733,
          733,
          733,
          733,
          733,
          733,
          733,
          733,
          733,
          733,
          733,
          733,
          733,
          733,
          733,
          733,
          733
         ],
         "yaxis": "y"
        },
        {
         "hovertemplate": "color=bondsba01<br>variable=hr<br>index=%{x}<br>value=%{y}<extra></extra>",
         "legendgroup": "bondsba01",
         "line": {
          "color": "#00cc96",
          "dash": "solid"
         },
         "mode": "lines",
         "name": "bondsba01",
         "orientation": "v",
         "showlegend": true,
         "type": "scatter",
         "x": [
          2006,
          2007,
          2008,
          2009,
          2010,
          2011,
          2012,
          2013,
          2014,
          2015,
          2016,
          2017,
          2018,
          2019,
          2020
         ],
         "xaxis": "x",
         "y": [
          734,
          762,
          762,
          762,
          762,
          762,
          762,
          762,
          762,
          762,
          762,
          762,
          762,
          762,
          762
         ],
         "yaxis": "y"
        }
       ],
       "layout": {
        "legend": {
         "title": {
          "text": "color"
         },
         "tracegroupgap": 0
        },
        "margin": {
         "t": 60
        },
        "template": {
         "data": {
          "bar": [
           {
            "error_x": {
             "color": "#2a3f5f"
            },
            "error_y": {
             "color": "#2a3f5f"
            },
            "marker": {
             "line": {
              "color": "#E5ECF6",
              "width": 0.5
             }
            },
            "type": "bar"
           }
          ],
          "barpolar": [
           {
            "marker": {
             "line": {
              "color": "#E5ECF6",
              "width": 0.5
             }
            },
            "type": "barpolar"
           }
          ],
          "carpet": [
           {
            "aaxis": {
             "endlinecolor": "#2a3f5f",
             "gridcolor": "white",
             "linecolor": "white",
             "minorgridcolor": "white",
             "startlinecolor": "#2a3f5f"
            },
            "baxis": {
             "endlinecolor": "#2a3f5f",
             "gridcolor": "white",
             "linecolor": "white",
             "minorgridcolor": "white",
             "startlinecolor": "#2a3f5f"
            },
            "type": "carpet"
           }
          ],
          "choropleth": [
           {
            "colorbar": {
             "outlinewidth": 0,
             "ticks": ""
            },
            "type": "choropleth"
           }
          ],
          "contour": [
           {
            "colorbar": {
             "outlinewidth": 0,
             "ticks": ""
            },
            "colorscale": [
             [
              0,
              "#0d0887"
             ],
             [
              0.1111111111111111,
              "#46039f"
             ],
             [
              0.2222222222222222,
              "#7201a8"
             ],
             [
              0.3333333333333333,
              "#9c179e"
             ],
             [
              0.4444444444444444,
              "#bd3786"
             ],
             [
              0.5555555555555556,
              "#d8576b"
             ],
             [
              0.6666666666666666,
              "#ed7953"
             ],
             [
              0.7777777777777778,
              "#fb9f3a"
             ],
             [
              0.8888888888888888,
              "#fdca26"
             ],
             [
              1,
              "#f0f921"
             ]
            ],
            "type": "contour"
           }
          ],
          "contourcarpet": [
           {
            "colorbar": {
             "outlinewidth": 0,
             "ticks": ""
            },
            "type": "contourcarpet"
           }
          ],
          "heatmap": [
           {
            "colorbar": {
             "outlinewidth": 0,
             "ticks": ""
            },
            "colorscale": [
             [
              0,
              "#0d0887"
             ],
             [
              0.1111111111111111,
              "#46039f"
             ],
             [
              0.2222222222222222,
              "#7201a8"
             ],
             [
              0.3333333333333333,
              "#9c179e"
             ],
             [
              0.4444444444444444,
              "#bd3786"
             ],
             [
              0.5555555555555556,
              "#d8576b"
             ],
             [
              0.6666666666666666,
              "#ed7953"
             ],
             [
              0.7777777777777778,
              "#fb9f3a"
             ],
             [
              0.8888888888888888,
              "#fdca26"
             ],
             [
              1,
              "#f0f921"
             ]
            ],
            "type": "heatmap"
           }
          ],
          "heatmapgl": [
           {
            "colorbar": {
             "outlinewidth": 0,
             "ticks": ""
            },
            "colorscale": [
             [
              0,
              "#0d0887"
             ],
             [
              0.1111111111111111,
              "#46039f"
             ],
             [
              0.2222222222222222,
              "#7201a8"
             ],
             [
              0.3333333333333333,
              "#9c179e"
             ],
             [
              0.4444444444444444,
              "#bd3786"
             ],
             [
              0.5555555555555556,
              "#d8576b"
             ],
             [
              0.6666666666666666,
              "#ed7953"
             ],
             [
              0.7777777777777778,
              "#fb9f3a"
             ],
             [
              0.8888888888888888,
              "#fdca26"
             ],
             [
              1,
              "#f0f921"
             ]
            ],
            "type": "heatmapgl"
           }
          ],
          "histogram": [
           {
            "marker": {
             "colorbar": {
              "outlinewidth": 0,
              "ticks": ""
             }
            },
            "type": "histogram"
           }
          ],
          "histogram2d": [
           {
            "colorbar": {
             "outlinewidth": 0,
             "ticks": ""
            },
            "colorscale": [
             [
              0,
              "#0d0887"
             ],
             [
              0.1111111111111111,
              "#46039f"
             ],
             [
              0.2222222222222222,
              "#7201a8"
             ],
             [
              0.3333333333333333,
              "#9c179e"
             ],
             [
              0.4444444444444444,
              "#bd3786"
             ],
             [
              0.5555555555555556,
              "#d8576b"
             ],
             [
              0.6666666666666666,
              "#ed7953"
             ],
             [
              0.7777777777777778,
              "#fb9f3a"
             ],
             [
              0.8888888888888888,
              "#fdca26"
             ],
             [
              1,
              "#f0f921"
             ]
            ],
            "type": "histogram2d"
           }
          ],
          "histogram2dcontour": [
           {
            "colorbar": {
             "outlinewidth": 0,
             "ticks": ""
            },
            "colorscale": [
             [
              0,
              "#0d0887"
             ],
             [
              0.1111111111111111,
              "#46039f"
             ],
             [
              0.2222222222222222,
              "#7201a8"
             ],
             [
              0.3333333333333333,
              "#9c179e"
             ],
             [
              0.4444444444444444,
              "#bd3786"
             ],
             [
              0.5555555555555556,
              "#d8576b"
             ],
             [
              0.6666666666666666,
              "#ed7953"
             ],
             [
              0.7777777777777778,
              "#fb9f3a"
             ],
             [
              0.8888888888888888,
              "#fdca26"
             ],
             [
              1,
              "#f0f921"
             ]
            ],
            "type": "histogram2dcontour"
           }
          ],
          "mesh3d": [
           {
            "colorbar": {
             "outlinewidth": 0,
             "ticks": ""
            },
            "type": "mesh3d"
           }
          ],
          "parcoords": [
           {
            "line": {
             "colorbar": {
              "outlinewidth": 0,
              "ticks": ""
             }
            },
            "type": "parcoords"
           }
          ],
          "pie": [
           {
            "automargin": true,
            "type": "pie"
           }
          ],
          "scatter": [
           {
            "marker": {
             "colorbar": {
              "outlinewidth": 0,
              "ticks": ""
             }
            },
            "type": "scatter"
           }
          ],
          "scatter3d": [
           {
            "line": {
             "colorbar": {
              "outlinewidth": 0,
              "ticks": ""
             }
            },
            "marker": {
             "colorbar": {
              "outlinewidth": 0,
              "ticks": ""
             }
            },
            "type": "scatter3d"
           }
          ],
          "scattercarpet": [
           {
            "marker": {
             "colorbar": {
              "outlinewidth": 0,
              "ticks": ""
             }
            },
            "type": "scattercarpet"
           }
          ],
          "scattergeo": [
           {
            "marker": {
             "colorbar": {
              "outlinewidth": 0,
              "ticks": ""
             }
            },
            "type": "scattergeo"
           }
          ],
          "scattergl": [
           {
            "marker": {
             "colorbar": {
              "outlinewidth": 0,
              "ticks": ""
             }
            },
            "type": "scattergl"
           }
          ],
          "scattermapbox": [
           {
            "marker": {
             "colorbar": {
              "outlinewidth": 0,
              "ticks": ""
             }
            },
            "type": "scattermapbox"
           }
          ],
          "scatterpolar": [
           {
            "marker": {
             "colorbar": {
              "outlinewidth": 0,
              "ticks": ""
             }
            },
            "type": "scatterpolar"
           }
          ],
          "scatterpolargl": [
           {
            "marker": {
             "colorbar": {
              "outlinewidth": 0,
              "ticks": ""
             }
            },
            "type": "scatterpolargl"
           }
          ],
          "scatterternary": [
           {
            "marker": {
             "colorbar": {
              "outlinewidth": 0,
              "ticks": ""
             }
            },
            "type": "scatterternary"
           }
          ],
          "surface": [
           {
            "colorbar": {
             "outlinewidth": 0,
             "ticks": ""
            },
            "colorscale": [
             [
              0,
              "#0d0887"
             ],
             [
              0.1111111111111111,
              "#46039f"
             ],
             [
              0.2222222222222222,
              "#7201a8"
             ],
             [
              0.3333333333333333,
              "#9c179e"
             ],
             [
              0.4444444444444444,
              "#bd3786"
             ],
             [
              0.5555555555555556,
              "#d8576b"
             ],
             [
              0.6666666666666666,
              "#ed7953"
             ],
             [
              0.7777777777777778,
              "#fb9f3a"
             ],
             [
              0.8888888888888888,
              "#fdca26"
             ],
             [
              1,
              "#f0f921"
             ]
            ],
            "type": "surface"
           }
          ],
          "table": [
           {
            "cells": {
             "fill": {
              "color": "#EBF0F8"
             },
             "line": {
              "color": "white"
             }
            },
            "header": {
             "fill": {
              "color": "#C8D4E3"
             },
             "line": {
              "color": "white"
             }
            },
            "type": "table"
           }
          ]
         },
         "layout": {
          "annotationdefaults": {
           "arrowcolor": "#2a3f5f",
           "arrowhead": 0,
           "arrowwidth": 1
          },
          "autotypenumbers": "strict",
          "coloraxis": {
           "colorbar": {
            "outlinewidth": 0,
            "ticks": ""
           }
          },
          "colorscale": {
           "diverging": [
            [
             0,
             "#8e0152"
            ],
            [
             0.1,
             "#c51b7d"
            ],
            [
             0.2,
             "#de77ae"
            ],
            [
             0.3,
             "#f1b6da"
            ],
            [
             0.4,
             "#fde0ef"
            ],
            [
             0.5,
             "#f7f7f7"
            ],
            [
             0.6,
             "#e6f5d0"
            ],
            [
             0.7,
             "#b8e186"
            ],
            [
             0.8,
             "#7fbc41"
            ],
            [
             0.9,
             "#4d9221"
            ],
            [
             1,
             "#276419"
            ]
           ],
           "sequential": [
            [
             0,
             "#0d0887"
            ],
            [
             0.1111111111111111,
             "#46039f"
            ],
            [
             0.2222222222222222,
             "#7201a8"
            ],
            [
             0.3333333333333333,
             "#9c179e"
            ],
            [
             0.4444444444444444,
             "#bd3786"
            ],
            [
             0.5555555555555556,
             "#d8576b"
            ],
            [
             0.6666666666666666,
             "#ed7953"
            ],
            [
             0.7777777777777778,
             "#fb9f3a"
            ],
            [
             0.8888888888888888,
             "#fdca26"
            ],
            [
             1,
             "#f0f921"
            ]
           ],
           "sequentialminus": [
            [
             0,
             "#0d0887"
            ],
            [
             0.1111111111111111,
             "#46039f"
            ],
            [
             0.2222222222222222,
             "#7201a8"
            ],
            [
             0.3333333333333333,
             "#9c179e"
            ],
            [
             0.4444444444444444,
             "#bd3786"
            ],
            [
             0.5555555555555556,
             "#d8576b"
            ],
            [
             0.6666666666666666,
             "#ed7953"
            ],
            [
             0.7777777777777778,
             "#fb9f3a"
            ],
            [
             0.8888888888888888,
             "#fdca26"
            ],
            [
             1,
             "#f0f921"
            ]
           ]
          },
          "colorway": [
           "#636efa",
           "#EF553B",
           "#00cc96",
           "#ab63fa",
           "#FFA15A",
           "#19d3f3",
           "#FF6692",
           "#B6E880",
           "#FF97FF",
           "#FECB52"
          ],
          "font": {
           "color": "#2a3f5f"
          },
          "geo": {
           "bgcolor": "white",
           "lakecolor": "white",
           "landcolor": "#E5ECF6",
           "showlakes": true,
           "showland": true,
           "subunitcolor": "white"
          },
          "hoverlabel": {
           "align": "left"
          },
          "hovermode": "closest",
          "mapbox": {
           "style": "light"
          },
          "paper_bgcolor": "white",
          "plot_bgcolor": "#E5ECF6",
          "polar": {
           "angularaxis": {
            "gridcolor": "white",
            "linecolor": "white",
            "ticks": ""
           },
           "bgcolor": "#E5ECF6",
           "radialaxis": {
            "gridcolor": "white",
            "linecolor": "white",
            "ticks": ""
           }
          },
          "scene": {
           "xaxis": {
            "backgroundcolor": "#E5ECF6",
            "gridcolor": "white",
            "gridwidth": 2,
            "linecolor": "white",
            "showbackground": true,
            "ticks": "",
            "zerolinecolor": "white"
           },
           "yaxis": {
            "backgroundcolor": "#E5ECF6",
            "gridcolor": "white",
            "gridwidth": 2,
            "linecolor": "white",
            "showbackground": true,
            "ticks": "",
            "zerolinecolor": "white"
           },
           "zaxis": {
            "backgroundcolor": "#E5ECF6",
            "gridcolor": "white",
            "gridwidth": 2,
            "linecolor": "white",
            "showbackground": true,
            "ticks": "",
            "zerolinecolor": "white"
           }
          },
          "shapedefaults": {
           "line": {
            "color": "#2a3f5f"
           }
          },
          "ternary": {
           "aaxis": {
            "gridcolor": "white",
            "linecolor": "white",
            "ticks": ""
           },
           "baxis": {
            "gridcolor": "white",
            "linecolor": "white",
            "ticks": ""
           },
           "bgcolor": "#E5ECF6",
           "caxis": {
            "gridcolor": "white",
            "linecolor": "white",
            "ticks": ""
           }
          },
          "title": {
           "x": 0.05
          },
          "xaxis": {
           "automargin": true,
           "gridcolor": "white",
           "linecolor": "white",
           "ticks": "",
           "title": {
            "standoff": 15
           },
           "zerolinecolor": "white",
           "zerolinewidth": 2
          },
          "yaxis": {
           "automargin": true,
           "gridcolor": "white",
           "linecolor": "white",
           "ticks": "",
           "title": {
            "standoff": 15
           },
           "zerolinecolor": "white",
           "zerolinewidth": 2
          }
         }
        },
        "xaxis": {
         "anchor": "y",
         "domain": [
          0,
          1
         ],
         "title": {
          "text": "index"
         }
        },
        "yaxis": {
         "anchor": "x",
         "domain": [
          0,
          1
         ],
         "title": {
          "text": "value"
         }
        }
       }
      }
     },
     "metadata": {},
     "output_type": "display_data"
    }
   ],
   "source": [
    "px.line(yrly_leaders['hr'], color=yrly_leaders['player_id'])"
   ]
  },
  {
   "cell_type": "markdown",
   "metadata": {},
   "source": [
    "Ok, that's a start for visualization.  I'd like to try a couple more things:\n",
    "* one line for the leader, but use shading to indicate the record-holder\n",
    "* show career progression for each player who ever held the record (e.g., you see Aaron's climb towards the record)\n",
    "* show the progression of the top-n, not just the top 1.  Gives some feeling about the distance of the record.\n",
    "    * To this point, de-emphasize or hide retired players, since active players are the ones who threaten a record"
   ]
  },
  {
   "cell_type": "code",
   "execution_count": null,
   "metadata": {},
   "outputs": [],
   "source": []
  }
 ],
 "metadata": {
  "interpreter": {
   "hash": "cd78fef2128015050713e82ca51c6520b11aee7c9ee8df750520bbbc7384cbaa"
  },
  "kernelspec": {
   "display_name": "Python 3.8.8 64-bit ('base': conda)",
   "language": "python",
   "name": "python3"
  },
  "language_info": {
   "codemirror_mode": {
    "name": "ipython",
    "version": 3
   },
   "file_extension": ".py",
   "mimetype": "text/x-python",
   "name": "python",
   "nbconvert_exporter": "python",
   "pygments_lexer": "ipython3",
   "version": "3.8.8"
  },
  "orig_nbformat": 4
 },
 "nbformat": 4,
 "nbformat_minor": 2
}
