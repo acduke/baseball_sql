{
 "cells": [
  {
   "cell_type": "code",
   "execution_count": 1,
   "metadata": {},
   "outputs": [],
   "source": [
    "import pandas as pd\n",
    "import boxball_loader as bbl"
   ]
  },
  {
   "cell_type": "code",
   "execution_count": 2,
   "metadata": {},
   "outputs": [
    {
     "data": {
      "text/plain": [
       "(1848938, 12)"
      ]
     },
     "execution_count": 2,
     "metadata": {},
     "output_type": "execute_result"
    }
   ],
   "source": [
    "ev = bbl.load_event_data(bbl.Seasons(2010, 2019), requested_columns=['bat_last_id', 'inn_ct'])\n",
    "ev.shape"
   ]
  },
  {
   "cell_type": "code",
   "execution_count": 3,
   "metadata": {},
   "outputs": [
    {
     "data": {
      "text/plain": [
       "Index(['game_id', 'date', 'game_type', 'event_cd', 'inn_ct', 'bat_event_fl',\n",
       "       'tb_ct', 'bat_last_id', 'ab_fl', 'h_fl', 'ob_fl', 'yr'],\n",
       "      dtype='object')"
      ]
     },
     "execution_count": 3,
     "metadata": {},
     "output_type": "execute_result"
    }
   ],
   "source": [
    "ev.columns"
   ]
  },
  {
   "cell_type": "code",
   "execution_count": 4,
   "metadata": {},
   "outputs": [],
   "source": [
    "ibb = ev[(ev['event_cd']==15)]"
   ]
  },
  {
   "cell_type": "code",
   "execution_count": 5,
   "metadata": {},
   "outputs": [
    {
     "data": {
      "text/plain": [
       "bat_last_id  inn_ct\n",
       "0            1         119\n",
       "             2         261\n",
       "             3         289\n",
       "             4         410\n",
       "             5         502\n",
       "             6         600\n",
       "             7         635\n",
       "             8         736\n",
       "             9         713\n",
       "             10        235\n",
       "             11        127\n",
       "             12         85\n",
       "             13         57\n",
       "             14         32\n",
       "             15         16\n",
       "             16          8\n",
       "             17          5\n",
       "             18          4\n",
       "             19          2\n",
       "1            1         117\n",
       "             2         277\n",
       "             3         322\n",
       "             4         457\n",
       "             5         577\n",
       "             6         610\n",
       "             7         797\n",
       "             8         905\n",
       "             9         516\n",
       "             10        273\n",
       "             11        163\n",
       "             12         72\n",
       "             13         53\n",
       "             14         27\n",
       "             15         17\n",
       "             16          9\n",
       "             17          5\n",
       "             18          4\n",
       "             19          3\n",
       "Name: event_cd, dtype: int64"
      ]
     },
     "execution_count": 5,
     "metadata": {},
     "output_type": "execute_result"
    }
   ],
   "source": [
    "ibb.groupby(['bat_last_id', 'inn_ct'])['event_cd'].count() "
   ]
  },
  {
   "cell_type": "code",
   "execution_count": 6,
   "metadata": {},
   "outputs": [
    {
     "data": {
      "text/plain": [
       "<AxesSubplot:xlabel='inn_ct'>"
      ]
     },
     "execution_count": 6,
     "metadata": {},
     "output_type": "execute_result"
    },
    {
     "data": {
      "image/png": "[encoded data removed]",
      "text/plain": [
       "<Figure size 432x288 with 1 Axes>"
      ]
     },
     "metadata": {
      "needs_background": "light"
     },
     "output_type": "display_data"
    }
   ],
   "source": [
    "# ibb frequencies (per PA or event)\n",
    "def summarize(pa):\n",
    "    return pa.groupby(['inn_ct', 'bat_last_id'])['event_cd'].count()\n",
    "\n",
    "(summarize(ibb) / summarize(ev)).round(4).unstack().plot()"
   ]
  },
  {
   "cell_type": "code",
   "execution_count": null,
   "metadata": {},
   "outputs": [],
   "source": []
  }
 ],
 "metadata": {
  "interpreter": {
   "hash": "cd78fef2128015050713e82ca51c6520b11aee7c9ee8df750520bbbc7384cbaa"
  },
  "kernelspec": {
   "display_name": "Python 3.8.8 ('base')",
   "language": "python",
   "name": "python3"
  },
  "language_info": {
   "codemirror_mode": {
    "name": "ipython",
    "version": 3
   },
   "file_extension": ".py",
   "mimetype": "text/x-python",
   "name": "python",
   "nbconvert_exporter": "python",
   "pygments_lexer": "ipython3",
   "version": "3.8.8"
  },
  "orig_nbformat": 4
 },
 "nbformat": 4,
 "nbformat_minor": 2
}
