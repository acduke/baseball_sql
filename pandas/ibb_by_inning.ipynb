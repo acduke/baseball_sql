{
 "cells": [
  {
   "cell_type": "code",
   "execution_count": 1,
   "source": [
    "import pandas as pd\n",
    "import boxball_loader as bbl"
   ],
   "outputs": [],
   "metadata": {}
  },
  {
   "cell_type": "code",
   "execution_count": 6,
   "source": [
    "ev = bbl.load_event_data(start_yr=2010, end_yr=2019, requested_columns=['bat_last_id', 'inn_ct'])\n",
    "ev.shape"
   ],
   "outputs": [
    {
     "output_type": "execute_result",
     "data": {
      "text/plain": [
       "(1876441, 11)"
      ]
     },
     "metadata": {},
     "execution_count": 6
    }
   ],
   "metadata": {}
  },
  {
   "cell_type": "code",
   "execution_count": 7,
   "source": [
    "ev.columns"
   ],
   "outputs": [
    {
     "output_type": "execute_result",
     "data": {
      "text/plain": [
       "Index(['game_id', 'date', 'inn_ct', 'event_cd', 'ab_fl', 'tb_ct',\n",
       "       'bat_event_fl', 'bat_last_id', 'h_fl', 'ob_fl', 'yr'],\n",
       "      dtype='object')"
      ]
     },
     "metadata": {},
     "execution_count": 7
    }
   ],
   "metadata": {}
  },
  {
   "cell_type": "code",
   "execution_count": 20,
   "source": [
    "ibb = ev[(ev['event_cd']==15)]"
   ],
   "outputs": [],
   "metadata": {}
  },
  {
   "cell_type": "code",
   "execution_count": 21,
   "source": [
    "ibb.groupby(['bat_last_id', 'inn_ct'])['event_cd'].count() "
   ],
   "outputs": [
    {
     "output_type": "execute_result",
     "data": {
      "text/plain": [
       "bat_last_id  inn_ct\n",
       "0            1         120\n",
       "             2         264\n",
       "             3         293\n",
       "             4         417\n",
       "             5         517\n",
       "             6         611\n",
       "             7         648\n",
       "             8         753\n",
       "             9         728\n",
       "             10        241\n",
       "             11        129\n",
       "             12         87\n",
       "             13         58\n",
       "             14         32\n",
       "             15         16\n",
       "             16          8\n",
       "             17          5\n",
       "             18          4\n",
       "             19          2\n",
       "1            1         122\n",
       "             2         288\n",
       "             3         331\n",
       "             4         471\n",
       "             5         597\n",
       "             6         630\n",
       "             7         813\n",
       "             8         928\n",
       "             9         522\n",
       "             10        278\n",
       "             11        164\n",
       "             12         75\n",
       "             13         53\n",
       "             14         28\n",
       "             15         17\n",
       "             16          9\n",
       "             17          5\n",
       "             18          4\n",
       "             19          3\n",
       "Name: event_cd, dtype: int64"
      ]
     },
     "metadata": {},
     "execution_count": 21
    }
   ],
   "metadata": {}
  },
  {
   "cell_type": "code",
   "execution_count": 28,
   "source": [
    "# ibb frequencies (per PA or event)\n",
    "def summarize(pa):\n",
    "    return pa.groupby(['inn_ct', 'bat_last_id'])['event_cd'].count()\n",
    "\n",
    "(summarize(ibb) / summarize(ev)).round(4).unstack().plot()"
   ],
   "outputs": [
    {
     "output_type": "execute_result",
     "data": {
      "text/plain": [
       "<AxesSubplot:xlabel='inn_ct'>"
      ]
     },
     "metadata": {},
     "execution_count": 28
    },
    {
     "output_type": "display_data",
     "data": {
      "image/png": "[encoded data removed]",
      "text/plain": [
       "<Figure size 432x288 with 1 Axes>"
      ]
     },
     "metadata": {
      "needs_background": "light"
     }
    }
   ],
   "metadata": {}
  },
  {
   "cell_type": "code",
   "execution_count": null,
   "source": [],
   "outputs": [],
   "metadata": {}
  }
 ],
 "metadata": {
  "orig_nbformat": 4,
  "language_info": {
   "name": "python",
   "version": "3.8.8",
   "mimetype": "text/x-python",
   "codemirror_mode": {
    "name": "ipython",
    "version": 3
   },
   "pygments_lexer": "ipython3",
   "nbconvert_exporter": "python",
   "file_extension": ".py"
  },
  "kernelspec": {
   "name": "python3",
   "display_name": "Python 3.8.8 64-bit ('base': conda)"
  },
  "interpreter": {
   "hash": "344443636c3027c5042750c9c609acdda283a9c43681b128a8c1053e7ad2aa7d"
  }
 },
 "nbformat": 4,
 "nbformat_minor": 2
}