{
 "cells": [
  {
   "cell_type": "code",
   "execution_count": 1,
   "metadata": {},
   "outputs": [],
   "source": [
    "import boxball_loader as bbl"
   ]
  },
  {
   "cell_type": "code",
   "execution_count": 2,
   "metadata": {},
   "outputs": [
    {
     "data": {
      "text/plain": [
       "Index(['game_id', 'date', 'game_type', 'ab_fl', 'bat_event_fl', 'pit_id',\n",
       "       'tb_ct', 'bat_id', 'event_cd', 'event_id', 'h_fl', 'ob_fl', 'yr'],\n",
       "      dtype='object')"
      ]
     },
     "execution_count": 2,
     "metadata": {},
     "output_type": "execute_result"
    }
   ],
   "source": [
    "ev = bbl.load_event_data(1800, 3000, ['bat_id', 'pit_id', 'event_id'], True)\n",
    "ev.columns"
   ]
  },
  {
   "cell_type": "code",
   "execution_count": 3,
   "metadata": {},
   "outputs": [
    {
     "data": {
      "text/html": [
       "<div>\n",
       "<style scoped>\n",
       "    .dataframe tbody tr th:only-of-type {\n",
       "        vertical-align: middle;\n",
       "    }\n",
       "\n",
       "    .dataframe tbody tr th {\n",
       "        vertical-align: top;\n",
       "    }\n",
       "\n",
       "    .dataframe thead th {\n",
       "        text-align: right;\n",
       "    }\n",
       "</style>\n",
       "<table border=\"1\" class=\"dataframe\">\n",
       "  <thead>\n",
       "    <tr style=\"text-align: right;\">\n",
       "      <th></th>\n",
       "      <th>game_id</th>\n",
       "      <th>date</th>\n",
       "      <th>game_type</th>\n",
       "      <th>ab_fl</th>\n",
       "      <th>bat_event_fl</th>\n",
       "      <th>pit_id</th>\n",
       "      <th>tb_ct</th>\n",
       "      <th>bat_id</th>\n",
       "      <th>event_cd</th>\n",
       "      <th>event_id</th>\n",
       "      <th>h_fl</th>\n",
       "      <th>ob_fl</th>\n",
       "      <th>yr</th>\n",
       "      <th>matchup_ct</th>\n",
       "      <th>first_matchup</th>\n",
       "    </tr>\n",
       "  </thead>\n",
       "  <tbody>\n",
       "    <tr>\n",
       "      <th>8886008</th>\n",
       "      <td>MON199206100</td>\n",
       "      <td>1992-06-10</td>\n",
       "      <td>RS</td>\n",
       "      <td>True</td>\n",
       "      <td>True</td>\n",
       "      <td>gardm001</td>\n",
       "      <td>0</td>\n",
       "      <td>bonib001</td>\n",
       "      <td>3</td>\n",
       "      <td>36</td>\n",
       "      <td>0</td>\n",
       "      <td>0</td>\n",
       "      <td>1992</td>\n",
       "      <td>10</td>\n",
       "      <td>False</td>\n",
       "    </tr>\n",
       "    <tr>\n",
       "      <th>9313007</th>\n",
       "      <td>CHN199504300</td>\n",
       "      <td>1995-04-30</td>\n",
       "      <td>RS</td>\n",
       "      <td>True</td>\n",
       "      <td>True</td>\n",
       "      <td>hereg001</td>\n",
       "      <td>0</td>\n",
       "      <td>johnh001</td>\n",
       "      <td>2</td>\n",
       "      <td>37</td>\n",
       "      <td>0</td>\n",
       "      <td>0</td>\n",
       "      <td>1995</td>\n",
       "      <td>2</td>\n",
       "      <td>False</td>\n",
       "    </tr>\n",
       "    <tr>\n",
       "      <th>10988047</th>\n",
       "      <td>SLN200308260</td>\n",
       "      <td>2003-08-26</td>\n",
       "      <td>RS</td>\n",
       "      <td>True</td>\n",
       "      <td>True</td>\n",
       "      <td>stepg001</td>\n",
       "      <td>0</td>\n",
       "      <td>gonza001</td>\n",
       "      <td>2</td>\n",
       "      <td>12</td>\n",
       "      <td>0</td>\n",
       "      <td>0</td>\n",
       "      <td>2003</td>\n",
       "      <td>0</td>\n",
       "      <td>True</td>\n",
       "    </tr>\n",
       "    <tr>\n",
       "      <th>5415853</th>\n",
       "      <td>SFN197009110</td>\n",
       "      <td>1970-09-11</td>\n",
       "      <td>RS</td>\n",
       "      <td>True</td>\n",
       "      <td>True</td>\n",
       "      <td>brewj102</td>\n",
       "      <td>0</td>\n",
       "      <td>lanih101</td>\n",
       "      <td>3</td>\n",
       "      <td>79</td>\n",
       "      <td>0</td>\n",
       "      <td>0</td>\n",
       "      <td>1970</td>\n",
       "      <td>16</td>\n",
       "      <td>False</td>\n",
       "    </tr>\n",
       "    <tr>\n",
       "      <th>9827532</th>\n",
       "      <td>PHI199709152</td>\n",
       "      <td>1997-09-15</td>\n",
       "      <td>RS</td>\n",
       "      <td>True</td>\n",
       "      <td>True</td>\n",
       "      <td>winsd001</td>\n",
       "      <td>0</td>\n",
       "      <td>olerj001</td>\n",
       "      <td>2</td>\n",
       "      <td>40</td>\n",
       "      <td>0</td>\n",
       "      <td>0</td>\n",
       "      <td>1997</td>\n",
       "      <td>3</td>\n",
       "      <td>False</td>\n",
       "    </tr>\n",
       "    <tr>\n",
       "      <th>3998574</th>\n",
       "      <td>SLN195908110</td>\n",
       "      <td>1959-08-11</td>\n",
       "      <td>RS</td>\n",
       "      <td>True</td>\n",
       "      <td>True</td>\n",
       "      <td>stond102</td>\n",
       "      <td>0</td>\n",
       "      <td>kirkw101</td>\n",
       "      <td>3</td>\n",
       "      <td>67</td>\n",
       "      <td>0</td>\n",
       "      <td>0</td>\n",
       "      <td>1959</td>\n",
       "      <td>0</td>\n",
       "      <td>True</td>\n",
       "    </tr>\n",
       "    <tr>\n",
       "      <th>13607300</th>\n",
       "      <td>OAK201705180</td>\n",
       "      <td>2017-05-18</td>\n",
       "      <td>RS</td>\n",
       "      <td>True</td>\n",
       "      <td>True</td>\n",
       "      <td>grays001</td>\n",
       "      <td>0</td>\n",
       "      <td>ramih003</td>\n",
       "      <td>3</td>\n",
       "      <td>24</td>\n",
       "      <td>0</td>\n",
       "      <td>0</td>\n",
       "      <td>2017</td>\n",
       "      <td>6</td>\n",
       "      <td>False</td>\n",
       "    </tr>\n",
       "    <tr>\n",
       "      <th>13706299</th>\n",
       "      <td>CHA201708212</td>\n",
       "      <td>2017-08-21</td>\n",
       "      <td>RS</td>\n",
       "      <td>True</td>\n",
       "      <td>True</td>\n",
       "      <td>coved001</td>\n",
       "      <td>4</td>\n",
       "      <td>buxtb001</td>\n",
       "      <td>23</td>\n",
       "      <td>39</td>\n",
       "      <td>1</td>\n",
       "      <td>1</td>\n",
       "      <td>2017</td>\n",
       "      <td>3</td>\n",
       "      <td>False</td>\n",
       "    </tr>\n",
       "    <tr>\n",
       "      <th>6091496</th>\n",
       "      <td>PIT197506070</td>\n",
       "      <td>1975-06-07</td>\n",
       "      <td>RS</td>\n",
       "      <td>True</td>\n",
       "      <td>True</td>\n",
       "      <td>rookj101</td>\n",
       "      <td>0</td>\n",
       "      <td>adamg101</td>\n",
       "      <td>3</td>\n",
       "      <td>6</td>\n",
       "      <td>0</td>\n",
       "      <td>0</td>\n",
       "      <td>1975</td>\n",
       "      <td>0</td>\n",
       "      <td>True</td>\n",
       "    </tr>\n",
       "    <tr>\n",
       "      <th>1239895</th>\n",
       "      <td>CLE193108142</td>\n",
       "      <td>1931-08-14</td>\n",
       "      <td>RS</td>\n",
       "      <td>True</td>\n",
       "      <td>True</td>\n",
       "      <td>rhodg101</td>\n",
       "      <td>1</td>\n",
       "      <td>morge102</td>\n",
       "      <td>20</td>\n",
       "      <td>58</td>\n",
       "      <td>1</td>\n",
       "      <td>1</td>\n",
       "      <td>1931</td>\n",
       "      <td>4</td>\n",
       "      <td>False</td>\n",
       "    </tr>\n",
       "  </tbody>\n",
       "</table>\n",
       "</div>"
      ],
      "text/plain": [
       "               game_id       date game_type  ab_fl  bat_event_fl    pit_id  \\\n",
       "8886008   MON199206100 1992-06-10        RS   True          True  gardm001   \n",
       "9313007   CHN199504300 1995-04-30        RS   True          True  hereg001   \n",
       "10988047  SLN200308260 2003-08-26        RS   True          True  stepg001   \n",
       "5415853   SFN197009110 1970-09-11        RS   True          True  brewj102   \n",
       "9827532   PHI199709152 1997-09-15        RS   True          True  winsd001   \n",
       "3998574   SLN195908110 1959-08-11        RS   True          True  stond102   \n",
       "13607300  OAK201705180 2017-05-18        RS   True          True  grays001   \n",
       "13706299  CHA201708212 2017-08-21        RS   True          True  coved001   \n",
       "6091496   PIT197506070 1975-06-07        RS   True          True  rookj101   \n",
       "1239895   CLE193108142 1931-08-14        RS   True          True  rhodg101   \n",
       "\n",
       "          tb_ct    bat_id  event_cd  event_id  h_fl  ob_fl    yr  matchup_ct  \\\n",
       "8886008       0  bonib001         3        36     0      0  1992          10   \n",
       "9313007       0  johnh001         2        37     0      0  1995           2   \n",
       "10988047      0  gonza001         2        12     0      0  2003           0   \n",
       "5415853       0  lanih101         3        79     0      0  1970          16   \n",
       "9827532       0  olerj001         2        40     0      0  1997           3   \n",
       "3998574       0  kirkw101         3        67     0      0  1959           0   \n",
       "13607300      0  ramih003         3        24     0      0  2017           6   \n",
       "13706299      4  buxtb001        23        39     1      1  2017           3   \n",
       "6091496       0  adamg101         3         6     0      0  1975           0   \n",
       "1239895       1  morge102        20        58     1      1  1931           4   \n",
       "\n",
       "          first_matchup  \n",
       "8886008           False  \n",
       "9313007           False  \n",
       "10988047           True  \n",
       "5415853           False  \n",
       "9827532           False  \n",
       "3998574            True  \n",
       "13607300          False  \n",
       "13706299          False  \n",
       "6091496            True  \n",
       "1239895           False  "
      ]
     },
     "execution_count": 3,
     "metadata": {},
     "output_type": "execute_result"
    }
   ],
   "source": [
    "ev['matchup_ct'] = ev.sort_values(['bat_id', 'pit_id', 'date', 'event_id']).groupby(['bat_id', 'pit_id']).cumcount()\n",
    "ev['first_matchup'] = (ev['matchup_ct']==0)\n",
    "ev.sample(10)"
   ]
  },
  {
   "cell_type": "markdown",
   "metadata": {},
   "source": [
    "## How much prior history is there on average for a batter-pitcher matchup?\n",
    "\n",
    "For every plate appearance, count how many times these batter and pitcher have faced each other already.  Then average this across all PAs for each year, to view the trend over time."
   ]
  },
  {
   "cell_type": "code",
   "execution_count": 4,
   "metadata": {},
   "outputs": [
    {
     "data": {
      "text/plain": [
       "<AxesSubplot:xlabel='yr'>"
      ]
     },
     "execution_count": 4,
     "metadata": {},
     "output_type": "execute_result"
    },
    {
     "data": {
      "image/png": "[encoded data removed]",
      "text/plain": [
       "<Figure size 432x288 with 1 Axes>"
      ]
     },
     "metadata": {
      "needs_background": "light"
     },
     "output_type": "display_data"
    }
   ],
   "source": [
    "ev.groupby('yr')['matchup_ct'].mean().plot()"
   ]
  },
  {
   "cell_type": "code",
   "execution_count": 5,
   "metadata": {},
   "outputs": [
    {
     "data": {
      "text/plain": [
       "<AxesSubplot:xlabel='yr'>"
      ]
     },
     "execution_count": 5,
     "metadata": {},
     "output_type": "execute_result"
    },
    {
     "data": {
      "image/png": "[encoded data removed]",
      "text/plain": [
       "<Figure size 432x288 with 1 Axes>"
      ]
     },
     "metadata": {
      "needs_background": "light"
     },
     "output_type": "display_data"
    }
   ],
   "source": [
    "# Let's look at the median also\n",
    "\n",
    "ev.groupby('yr')['matchup_ct'].median().plot()"
   ]
  },
  {
   "cell_type": "markdown",
   "metadata": {},
   "source": [
    "## What fraction of PAs are \"new\" batter-pitcher matchups (e.g., no prior history)?"
   ]
  },
  {
   "cell_type": "code",
   "execution_count": 6,
   "metadata": {},
   "outputs": [
    {
     "data": {
      "text/plain": [
       "<AxesSubplot:xlabel='yr'>"
      ]
     },
     "execution_count": 6,
     "metadata": {},
     "output_type": "execute_result"
    },
    {
     "data": {
      "image/png": "[encoded data removed]",
      "text/plain": [
       "<Figure size 432x288 with 1 Axes>"
      ]
     },
     "metadata": {
      "needs_background": "light"
     },
     "output_type": "display_data"
    }
   ],
   "source": [
    "df = ev.groupby('yr')['first_matchup'].agg(func=[sum, len])\n",
    "(df['sum']/df['len']).plot()"
   ]
  },
  {
   "cell_type": "markdown",
   "metadata": {},
   "source": [
    "## How many pitchers does a typical full-time hitter face in a season?"
   ]
  },
  {
   "cell_type": "code",
   "execution_count": 7,
   "metadata": {},
   "outputs": [
    {
     "data": {
      "text/plain": [
       "(bat_id    yr  \n",
       " crabc001  2008    27\n",
       " owinm001  2007    40\n",
       " colar101  1959    84\n",
       " rodra101  1983    45\n",
       " axfoj001  2012     1\n",
       " rhemf101  1928    29\n",
       " montj003  2011    40\n",
       " tracs001  1995    33\n",
       " kenni001  2018     1\n",
       " alleg101  1969    86\n",
       " Name: pitcher_ct, dtype: int64,\n",
       " bat_id    yr  \n",
       " hollm001  2009    259\n",
       " semim001  2019    260\n",
       " escoe001  2018    260\n",
       " pillk001  2019    262\n",
       " hernc005  2019    263\n",
       " castn001  2019    267\n",
       " bogax001  2019    268\n",
       " mccua001  2018    271\n",
       " dever001  2019    275\n",
       " machm001  2018    276\n",
       " Name: pitcher_ct, dtype: int64)"
      ]
     },
     "execution_count": 7,
     "metadata": {},
     "output_type": "execute_result"
    }
   ],
   "source": [
    "pit_faced = ev.groupby(['bat_id', 'yr'])['pit_id'].nunique().rename('pitcher_ct')\n",
    "pit_faced.sample(10), pit_faced.sort_values().tail(10)"
   ]
  },
  {
   "cell_type": "code",
   "execution_count": 8,
   "metadata": {},
   "outputs": [
    {
     "data": {
      "text/plain": [
       "<AxesSubplot:xlabel='yr'>"
      ]
     },
     "execution_count": 8,
     "metadata": {},
     "output_type": "execute_result"
    },
    {
     "data": {
      "image/png": "[encoded data removed]",
      "text/plain": [
       "<Figure size 432x288 with 1 Axes>"
      ]
     },
     "metadata": {
      "needs_background": "light"
     },
     "output_type": "display_data"
    }
   ],
   "source": [
    "# For each year, choose the player with the 15th most pitchers faced in the year\n",
    "pit_faced.sort_values(ascending=False).groupby('yr').nth(15).plot()"
   ]
  },
  {
   "cell_type": "markdown",
   "metadata": {},
   "source": [
    "## How many distinct pitchers over a career?"
   ]
  },
  {
   "cell_type": "code",
   "execution_count": 9,
   "metadata": {},
   "outputs": [
    {
     "data": {
      "text/html": [
       "<div>\n",
       "<style scoped>\n",
       "    .dataframe tbody tr th:only-of-type {\n",
       "        vertical-align: middle;\n",
       "    }\n",
       "\n",
       "    .dataframe tbody tr th {\n",
       "        vertical-align: top;\n",
       "    }\n",
       "\n",
       "    .dataframe thead th {\n",
       "        text-align: right;\n",
       "    }\n",
       "</style>\n",
       "<table border=\"1\" class=\"dataframe\">\n",
       "  <thead>\n",
       "    <tr style=\"text-align: right;\">\n",
       "      <th></th>\n",
       "      <th>pitcher_ct</th>\n",
       "      <th>yr_last</th>\n",
       "    </tr>\n",
       "    <tr>\n",
       "      <th>bat_id</th>\n",
       "      <th></th>\n",
       "      <th></th>\n",
       "    </tr>\n",
       "  </thead>\n",
       "  <tbody>\n",
       "    <tr>\n",
       "      <th>pujoa001</th>\n",
       "      <td>1604</td>\n",
       "      <td>2020</td>\n",
       "    </tr>\n",
       "    <tr>\n",
       "      <th>belta001</th>\n",
       "      <td>1555</td>\n",
       "      <td>2018</td>\n",
       "    </tr>\n",
       "    <tr>\n",
       "      <th>beltc001</th>\n",
       "      <td>1493</td>\n",
       "      <td>2017</td>\n",
       "    </tr>\n",
       "    <tr>\n",
       "      <th>vizqo001</th>\n",
       "      <td>1477</td>\n",
       "      <td>2012</td>\n",
       "    </tr>\n",
       "    <tr>\n",
       "      <th>rodra001</th>\n",
       "      <td>1454</td>\n",
       "      <td>2016</td>\n",
       "    </tr>\n",
       "    <tr>\n",
       "      <th>cabrm001</th>\n",
       "      <td>1402</td>\n",
       "      <td>2020</td>\n",
       "    </tr>\n",
       "    <tr>\n",
       "      <th>ortid001</th>\n",
       "      <td>1390</td>\n",
       "      <td>2016</td>\n",
       "    </tr>\n",
       "    <tr>\n",
       "      <th>rodri001</th>\n",
       "      <td>1368</td>\n",
       "      <td>2011</td>\n",
       "    </tr>\n",
       "    <tr>\n",
       "      <th>jeted001</th>\n",
       "      <td>1362</td>\n",
       "      <td>2014</td>\n",
       "    </tr>\n",
       "    <tr>\n",
       "      <th>thomj002</th>\n",
       "      <td>1360</td>\n",
       "      <td>2012</td>\n",
       "    </tr>\n",
       "    <tr>\n",
       "      <th>suzui001</th>\n",
       "      <td>1347</td>\n",
       "      <td>2019</td>\n",
       "    </tr>\n",
       "    <tr>\n",
       "      <th>grifk002</th>\n",
       "      <td>1345</td>\n",
       "      <td>2010</td>\n",
       "    </tr>\n",
       "    <tr>\n",
       "      <th>shefg001</th>\n",
       "      <td>1339</td>\n",
       "      <td>2009</td>\n",
       "    </tr>\n",
       "    <tr>\n",
       "      <th>rollj001</th>\n",
       "      <td>1319</td>\n",
       "      <td>2016</td>\n",
       "    </tr>\n",
       "    <tr>\n",
       "      <th>canor001</th>\n",
       "      <td>1311</td>\n",
       "      <td>2020</td>\n",
       "    </tr>\n",
       "    <tr>\n",
       "      <th>jonec004</th>\n",
       "      <td>1306</td>\n",
       "      <td>2012</td>\n",
       "    </tr>\n",
       "    <tr>\n",
       "      <th>reyej001</th>\n",
       "      <td>1293</td>\n",
       "      <td>2018</td>\n",
       "    </tr>\n",
       "    <tr>\n",
       "      <th>moliy001</th>\n",
       "      <td>1289</td>\n",
       "      <td>2020</td>\n",
       "    </tr>\n",
       "    <tr>\n",
       "      <th>hendr001</th>\n",
       "      <td>1285</td>\n",
       "      <td>2003</td>\n",
       "    </tr>\n",
       "    <tr>\n",
       "      <th>markn001</th>\n",
       "      <td>1282</td>\n",
       "      <td>2020</td>\n",
       "    </tr>\n",
       "  </tbody>\n",
       "</table>\n",
       "</div>"
      ],
      "text/plain": [
       "          pitcher_ct  yr_last\n",
       "bat_id                       \n",
       "pujoa001        1604     2020\n",
       "belta001        1555     2018\n",
       "beltc001        1493     2017\n",
       "vizqo001        1477     2012\n",
       "rodra001        1454     2016\n",
       "cabrm001        1402     2020\n",
       "ortid001        1390     2016\n",
       "rodri001        1368     2011\n",
       "jeted001        1362     2014\n",
       "thomj002        1360     2012\n",
       "suzui001        1347     2019\n",
       "grifk002        1345     2010\n",
       "shefg001        1339     2009\n",
       "rollj001        1319     2016\n",
       "canor001        1311     2020\n",
       "jonec004        1306     2012\n",
       "reyej001        1293     2018\n",
       "moliy001        1289     2020\n",
       "hendr001        1285     2003\n",
       "markn001        1282     2020"
      ]
     },
     "execution_count": 9,
     "metadata": {},
     "output_type": "execute_result"
    }
   ],
   "source": [
    "h2h = ev.groupby('bat_id').agg(pitcher_ct=('pit_id', lambda x: x.nunique()), yr_last=('yr', max)).sort_values(by='pitcher_ct', ascending=False)\n",
    "h2h.head(20)"
   ]
  },
  {
   "cell_type": "code",
   "execution_count": 10,
   "metadata": {},
   "outputs": [
    {
     "data": {
      "text/html": [
       "<div>\n",
       "<style scoped>\n",
       "    .dataframe tbody tr th:only-of-type {\n",
       "        vertical-align: middle;\n",
       "    }\n",
       "\n",
       "    .dataframe tbody tr th {\n",
       "        vertical-align: top;\n",
       "    }\n",
       "\n",
       "    .dataframe thead th {\n",
       "        text-align: right;\n",
       "    }\n",
       "</style>\n",
       "<table border=\"1\" class=\"dataframe\">\n",
       "  <thead>\n",
       "    <tr style=\"text-align: right;\">\n",
       "      <th></th>\n",
       "      <th>pitcher_ct</th>\n",
       "      <th>yr_last</th>\n",
       "    </tr>\n",
       "    <tr>\n",
       "      <th>bat_id</th>\n",
       "      <th></th>\n",
       "      <th></th>\n",
       "    </tr>\n",
       "  </thead>\n",
       "  <tbody>\n",
       "    <tr>\n",
       "      <th>robif103</th>\n",
       "      <td>711</td>\n",
       "      <td>1976</td>\n",
       "    </tr>\n",
       "  </tbody>\n",
       "</table>\n",
       "</div>"
      ],
      "text/plain": [
       "          pitcher_ct  yr_last\n",
       "bat_id                       \n",
       "robif103         711     1976"
      ]
     },
     "execution_count": 10,
     "metadata": {},
     "output_type": "execute_result"
    }
   ],
   "source": [
    "h2h.query('bat_id==\"robif103\"')"
   ]
  },
  {
   "cell_type": "code",
   "execution_count": null,
   "metadata": {},
   "outputs": [],
   "source": []
  }
 ],
 "metadata": {
  "interpreter": {
   "hash": "cd78fef2128015050713e82ca51c6520b11aee7c9ee8df750520bbbc7384cbaa"
  },
  "kernelspec": {
   "display_name": "Python 3.8.8 ('base')",
   "language": "python",
   "name": "python3"
  },
  "language_info": {
   "codemirror_mode": {
    "name": "ipython",
    "version": 3
   },
   "file_extension": ".py",
   "mimetype": "text/x-python",
   "name": "python",
   "nbconvert_exporter": "python",
   "pygments_lexer": "ipython3",
   "version": "3.8.8"
  },
  "orig_nbformat": 4
 },
 "nbformat": 4,
 "nbformat_minor": 2
}
