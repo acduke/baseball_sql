{
 "cells": [
  {
   "cell_type": "code",
   "execution_count": 1,
   "metadata": {},
   "outputs": [],
   "source": [
    "import pandas as pd\n",
    "import boxball_loader as bbl\n",
    "import baseball_stats_utils as bsu\n"
   ]
  },
  {
   "cell_type": "code",
   "execution_count": 2,
   "metadata": {},
   "outputs": [
    {
     "data": {
      "text/plain": [
       "(71820, 7)"
      ]
     },
     "execution_count": 2,
     "metadata": {},
     "output_type": "execute_result"
    }
   ],
   "source": [
    "# Load in all saves\n",
    "pit = bbl.load_dailies_pit(bbl.GameType.RS|bbl.GameType.PS)\n",
    "pit_saves = pit.query('p_sv>0')[['game_id', 'game_dt', 'team_id', 'player_id', 'yr', 'opponent_id', 'park_id']]\n",
    "pit_saves.shape"
   ]
  },
  {
   "cell_type": "code",
   "execution_count": 3,
   "metadata": {},
   "outputs": [
    {
     "data": {
      "text/plain": [
       "(71820, 9)"
      ]
     },
     "execution_count": 3,
     "metadata": {},
     "output_type": "execute_result"
    }
   ],
   "source": [
    "# We want opponents' franchise IDs\n",
    "tms = bbl.load_teams()[['yr', 'team_id_retro', 'franch_id']]\n",
    "merged = pit_saves.merge(right=tms, left_on=['yr', 'opponent_id'], right_on=['yr', 'team_id_retro']).rename(columns={'franch_id': 'opp_franch_id'})\n",
    "merged.shape\n"
   ]
  },
  {
   "cell_type": "code",
   "execution_count": 4,
   "metadata": {},
   "outputs": [
    {
     "data": {
      "text/html": [
       "<div>\n",
       "<style scoped>\n",
       "    .dataframe tbody tr th:only-of-type {\n",
       "        vertical-align: middle;\n",
       "    }\n",
       "\n",
       "    .dataframe tbody tr th {\n",
       "        vertical-align: top;\n",
       "    }\n",
       "\n",
       "    .dataframe thead th {\n",
       "        text-align: right;\n",
       "    }\n",
       "</style>\n",
       "<table border=\"1\" class=\"dataframe\">\n",
       "  <thead>\n",
       "    <tr style=\"text-align: right;\">\n",
       "      <th></th>\n",
       "      <th>game_id</th>\n",
       "      <th>game_dt</th>\n",
       "      <th>player_id</th>\n",
       "      <th>yr</th>\n",
       "      <th>team_id</th>\n",
       "      <th>park_id</th>\n",
       "      <th>opp_franch_id</th>\n",
       "    </tr>\n",
       "  </thead>\n",
       "  <tbody>\n",
       "    <tr>\n",
       "      <th>22424</th>\n",
       "      <td>ATL197009011</td>\n",
       "      <td>1970-09-01</td>\n",
       "      <td>mikkp101</td>\n",
       "      <td>1970</td>\n",
       "      <td>LAN</td>\n",
       "      <td>ATL01</td>\n",
       "      <td>ATL</td>\n",
       "    </tr>\n",
       "    <tr>\n",
       "      <th>25846</th>\n",
       "      <td>PIT198108230</td>\n",
       "      <td>1981-08-23</td>\n",
       "      <td>romoe101</td>\n",
       "      <td>1981</td>\n",
       "      <td>PIT</td>\n",
       "      <td>PIT07</td>\n",
       "      <td>SDP</td>\n",
       "    </tr>\n",
       "    <tr>\n",
       "      <th>54242</th>\n",
       "      <td>SLA194206282</td>\n",
       "      <td>1942-06-28</td>\n",
       "      <td>carra101</td>\n",
       "      <td>1942</td>\n",
       "      <td>WS1</td>\n",
       "      <td>STL07</td>\n",
       "      <td>BAL</td>\n",
       "    </tr>\n",
       "    <tr>\n",
       "      <th>7582</th>\n",
       "      <td>COL201009130</td>\n",
       "      <td>2010-09-13</td>\n",
       "      <td>bellh001</td>\n",
       "      <td>2010</td>\n",
       "      <td>SDN</td>\n",
       "      <td>DEN02</td>\n",
       "      <td>COL</td>\n",
       "    </tr>\n",
       "    <tr>\n",
       "      <th>19618</th>\n",
       "      <td>MIA201508050</td>\n",
       "      <td>2015-08-05</td>\n",
       "      <td>famij001</td>\n",
       "      <td>2015</td>\n",
       "      <td>NYN</td>\n",
       "      <td>MIA02</td>\n",
       "      <td>FLA</td>\n",
       "    </tr>\n",
       "    <tr>\n",
       "      <th>19393</th>\n",
       "      <td>SDN201504120</td>\n",
       "      <td>2015-04-12</td>\n",
       "      <td>kimbc001</td>\n",
       "      <td>2015</td>\n",
       "      <td>SDN</td>\n",
       "      <td>SAN02</td>\n",
       "      <td>SFG</td>\n",
       "    </tr>\n",
       "    <tr>\n",
       "      <th>21320</th>\n",
       "      <td>PIT196608220</td>\n",
       "      <td>1966-08-22</td>\n",
       "      <td>mikkp101</td>\n",
       "      <td>1966</td>\n",
       "      <td>PIT</td>\n",
       "      <td>PIT06</td>\n",
       "      <td>PHI</td>\n",
       "    </tr>\n",
       "    <tr>\n",
       "      <th>60294</th>\n",
       "      <td>BSN193808071</td>\n",
       "      <td>1938-08-07</td>\n",
       "      <td>rootc101</td>\n",
       "      <td>1938</td>\n",
       "      <td>CHN</td>\n",
       "      <td>BOS08</td>\n",
       "      <td>ATL</td>\n",
       "    </tr>\n",
       "    <tr>\n",
       "      <th>21392</th>\n",
       "      <td>SLN196607180</td>\n",
       "      <td>1966-07-18</td>\n",
       "      <td>hoerj101</td>\n",
       "      <td>1966</td>\n",
       "      <td>SLN</td>\n",
       "      <td>STL09</td>\n",
       "      <td>CHC</td>\n",
       "    </tr>\n",
       "    <tr>\n",
       "      <th>24728</th>\n",
       "      <td>PHI197805120</td>\n",
       "      <td>1978-05-12</td>\n",
       "      <td>moskp101</td>\n",
       "      <td>1978</td>\n",
       "      <td>CIN</td>\n",
       "      <td>PHI12</td>\n",
       "      <td>PHI</td>\n",
       "    </tr>\n",
       "  </tbody>\n",
       "</table>\n",
       "</div>"
      ],
      "text/plain": [
       "            game_id    game_dt player_id    yr team_id park_id opp_franch_id\n",
       "22424  ATL197009011 1970-09-01  mikkp101  1970     LAN   ATL01           ATL\n",
       "25846  PIT198108230 1981-08-23  romoe101  1981     PIT   PIT07           SDP\n",
       "54242  SLA194206282 1942-06-28  carra101  1942     WS1   STL07           BAL\n",
       "7582   COL201009130 2010-09-13  bellh001  2010     SDN   DEN02           COL\n",
       "19618  MIA201508050 2015-08-05  famij001  2015     NYN   MIA02           FLA\n",
       "19393  SDN201504120 2015-04-12  kimbc001  2015     SDN   SAN02           SFG\n",
       "21320  PIT196608220 1966-08-22  mikkp101  1966     PIT   PIT06           PHI\n",
       "60294  BSN193808071 1938-08-07  rootc101  1938     CHN   BOS08           ATL\n",
       "21392  SLN196607180 1966-07-18  hoerj101  1966     SLN   STL09           CHC\n",
       "24728  PHI197805120 1978-05-12  moskp101  1978     CIN   PHI12           PHI"
      ]
     },
     "execution_count": 4,
     "metadata": {},
     "output_type": "execute_result"
    }
   ],
   "source": [
    "saves = merged[['game_id', 'game_dt', 'player_id', 'yr', 'team_id', 'park_id', 'opp_franch_id']]\n",
    "saves.sample(10)"
   ]
  },
  {
   "cell_type": "code",
   "execution_count": 5,
   "metadata": {},
   "outputs": [
    {
     "data": {
      "text/plain": [
       "player_id\n",
       "isrij001    30\n",
       "valvj001    30\n",
       "rodrf003    30\n",
       "benia001    30\n",
       "wickb001    30\n",
       "kimbc001    30\n",
       "hawkl001    30\n",
       "gregk001    30\n",
       "urbiu001    30\n",
       "sorir001    30\n",
       "chapa001    30\n",
       "streh001    30\n",
       "fuenb001    30\n",
       "mesaj001    30\n",
       "papej001    30\n",
       "aguir001    30\n",
       "gordt001    29\n",
       "romos001    29\n",
       "cordf002    29\n",
       "daviw001    29\n",
       "Name: opponent_ct, dtype: int64"
      ]
     },
     "execution_count": 5,
     "metadata": {},
     "output_type": "execute_result"
    }
   ],
   "source": [
    "opps_saved = saves.groupby(['player_id'])['opp_franch_id'].nunique().rename('opponent_ct').sort_values(ascending=False)\n",
    "opps_saved.head(20)"
   ]
  },
  {
   "cell_type": "code",
   "execution_count": 6,
   "metadata": {},
   "outputs": [
    {
     "name": "stdout",
     "output_type": "stream",
     "text": [
      "               name  opponent_ct\n",
      " Jason Isringhausen           30\n",
      "      Jose Valverde           30\n",
      "Francisco Rodriguez           30\n",
      "    Armando Benitez           30\n",
      "        Bob Wickman           30\n",
      "      Craig Kimbrel           30\n",
      "     LaTroy Hawkins           30\n",
      "        Kevin Gregg           30\n",
      "      Ugueth Urbina           30\n",
      "     Rafael Soriano           30\n",
      "    Aroldis Chapman           30\n",
      "      Huston Street           30\n",
      "      Brian Fuentes           30\n",
      "          Jose Mesa           30\n",
      "  Jonathan Papelbon           30\n",
      "      Rick Aguilera           30\n"
     ]
    }
   ],
   "source": [
    "print(pd.concat([bsu.get_player_names_idx(opps_saved.index, 'retro_id'), opps_saved], axis=1).query('opponent_ct==30').to_string(index=False))"
   ]
  },
  {
   "cell_type": "code",
   "execution_count": 7,
   "metadata": {},
   "outputs": [
    {
     "data": {
      "text/plain": [
       "27"
      ]
     },
     "execution_count": 7,
     "metadata": {},
     "output_type": "execute_result"
    }
   ],
   "source": [
    "opps_saved['doteo001']"
   ]
  },
  {
   "cell_type": "code",
   "execution_count": null,
   "metadata": {},
   "outputs": [],
   "source": []
  }
 ],
 "metadata": {
  "interpreter": {
   "hash": "cd78fef2128015050713e82ca51c6520b11aee7c9ee8df750520bbbc7384cbaa"
  },
  "kernelspec": {
   "display_name": "Python 3.8.8 ('base')",
   "language": "python",
   "name": "python3"
  },
  "language_info": {
   "codemirror_mode": {
    "name": "ipython",
    "version": 3
   },
   "file_extension": ".py",
   "mimetype": "text/x-python",
   "name": "python",
   "nbconvert_exporter": "python",
   "pygments_lexer": "ipython3",
   "version": "3.8.8"
  },
  "orig_nbformat": 4
 },
 "nbformat": 4,
 "nbformat_minor": 2
}
