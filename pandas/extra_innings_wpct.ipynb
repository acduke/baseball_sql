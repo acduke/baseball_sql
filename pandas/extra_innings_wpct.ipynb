{
 "cells": [
  {
   "cell_type": "code",
   "execution_count": 1,
   "metadata": {},
   "outputs": [],
   "source": [
    "import pandas as pd\n",
    "import boxball_loader as bbl"
   ]
  },
  {
   "cell_type": "markdown",
   "metadata": {},
   "source": [
    "# How often does the road team win in extra innings?  Is the performance of road teams in 2020-21 significant?"
   ]
  },
  {
   "cell_type": "code",
   "execution_count": 2,
   "metadata": {},
   "outputs": [
    {
     "data": {
      "text/plain": [
       "(143278, 164)"
      ]
     },
     "execution_count": 2,
     "metadata": {},
     "output_type": "execute_result"
    }
   ],
   "source": [
    "gl = bbl.load_gamelogs(game_types=bbl.GameType.RS, seasons=bbl.Eras.Integration)\n",
    "gl.shape"
   ]
  },
  {
   "cell_type": "code",
   "execution_count": 3,
   "metadata": {},
   "outputs": [
    {
     "data": {
      "text/plain": [
       "array(['date', 'double_header', 'day_of_week', 'visiting_team',\n",
       "       'visiting_team_league', 'visiting_team_game_number', 'home_team',\n",
       "       'home_team_league', 'home_team_game_number', 'visitor_runs_scored',\n",
       "       'home_runs_scored', 'length_in_outs', 'day_night',\n",
       "       'completion_info', 'forfeit_info', 'protest_info', 'park_id',\n",
       "       'attendance', 'duration', 'visitor_line_score', 'home_line_score',\n",
       "       'visitor_ab', 'visitor_h', 'visitor_d', 'visitor_t', 'visitor_hr',\n",
       "       'visitor_rbi', 'visitor_sh', 'visitor_sf', 'visitor_hbp',\n",
       "       'visitor_bb', 'visitor_ibb', 'visitor_k', 'visitor_sb',\n",
       "       'visitor_cs', 'visitor_gdp', 'visitor_ci', 'visitor_lob',\n",
       "       'visitor_pitchers', 'visitor_er', 'visitor_ter', 'visitor_wp',\n",
       "       'visitor_balks', 'visitor_po', 'visitor_a', 'visitor_e',\n",
       "       'visitor_passed', 'visitor_db', 'visitor_tp', 'home_ab', 'home_h',\n",
       "       'home_d', 'home_t', 'home_hr', 'home_rbi', 'home_sh', 'home_sf',\n",
       "       'home_hbp', 'home_bb', 'home_ibb', 'home_k', 'home_sb', 'home_cs',\n",
       "       'home_gdp', 'home_ci', 'home_lob', 'home_pitchers', 'home_er',\n",
       "       'home_ter', 'home_wp', 'home_balks', 'home_po', 'home_a', 'home_e',\n",
       "       'home_passed', 'home_db', 'home_tp', 'umpire_h_id',\n",
       "       'umpire_h_name', 'umpire_1b_id', 'umpire_1b_name', 'umpire_2b_id',\n",
       "       'umpire_2b_name', 'umpire_3b_id', 'umpire_3b_name', 'umpire_lf_id',\n",
       "       'umpire_lf_name', 'umpire_rf_id', 'umpire_rf_name',\n",
       "       'visitor_manager_id', 'visitor_manager_name', 'home_manager_id',\n",
       "       'home_manager_name', 'winning_pitcher_id', 'winning_pitcher_name',\n",
       "       'losing_pitcher_id', 'losing_pitcher_name', 'saving_pitcher_id',\n",
       "       'saving_pitcher_name', 'game_winning_rbi_id',\n",
       "       'game_winning_rbi_name', 'visitor_starting_pitcher_id',\n",
       "       'visitor_starting_pitcher_name', 'home_starting_pitcher_id',\n",
       "       'home_starting_pitcher_name', 'visitor_batting_1_player_id',\n",
       "       'visitor_batting_1_name', 'visitor_batting_1_position',\n",
       "       'visitor_batting_2_player_id', 'visitor_batting_2_name',\n",
       "       'visitor_batting_2_position', 'visitor_batting_3_player_id',\n",
       "       'visitor_batting_3_name', 'visitor_batting_3_position',\n",
       "       'visitor_batting_4_player_id', 'visitor_batting_4_name',\n",
       "       'visitor_batting_4_position', 'visitor_batting_5_player_id',\n",
       "       'visitor_batting_5_name', 'visitor_batting_5_position',\n",
       "       'visitor_batting_6_player_id', 'visitor_batting_6_name',\n",
       "       'visitor_batting_6_position', 'visitor_batting_7_player_id',\n",
       "       'visitor_batting_7_name', 'visitor_batting_7_position',\n",
       "       'visitor_batting_8_player_id', 'visitor_batting_8_name',\n",
       "       'visitor_batting_8_position', 'visitor_batting_9_player_id',\n",
       "       'visitor_batting_9_name', 'visitor_batting_9_position',\n",
       "       'home_batting_1_player_id', 'home_batting_1_name',\n",
       "       'home_batting_1_position', 'home_batting_2_player_id',\n",
       "       'home_batting_2_name', 'home_batting_2_position',\n",
       "       'home_batting_3_player_id', 'home_batting_3_name',\n",
       "       'home_batting_3_position', 'home_batting_4_player_id',\n",
       "       'home_batting_4_name', 'home_batting_4_position',\n",
       "       'home_batting_5_player_id', 'home_batting_5_name',\n",
       "       'home_batting_5_position', 'home_batting_6_player_id',\n",
       "       'home_batting_6_name', 'home_batting_6_position',\n",
       "       'home_batting_7_player_id', 'home_batting_7_name',\n",
       "       'home_batting_7_position', 'home_batting_8_player_id',\n",
       "       'home_batting_8_name', 'home_batting_8_position',\n",
       "       'home_batting_9_player_id', 'home_batting_9_name',\n",
       "       'home_batting_9_position', 'additional_info', 'acquisition_info',\n",
       "       'game_id', 'yr', 'game_type'], dtype=object)"
      ]
     },
     "execution_count": 3,
     "metadata": {},
     "output_type": "execute_result"
    }
   ],
   "source": [
    "gl.columns.values"
   ]
  },
  {
   "cell_type": "code",
   "execution_count": 4,
   "metadata": {},
   "outputs": [
    {
     "data": {
      "text/plain": [
       "(13093, 165)"
      ]
     },
     "execution_count": 4,
     "metadata": {},
     "output_type": "execute_result"
    }
   ],
   "source": [
    "gl['vis_win'] = gl['visitor_runs_scored'] > gl['home_runs_scored']\n",
    "extras = gl.query('length_in_outs>54')\n",
    "extras.shape\n"
   ]
  },
  {
   "cell_type": "code",
   "execution_count": 5,
   "metadata": {},
   "outputs": [
    {
     "data": {
      "text/html": [
       "<div>\n",
       "<style scoped>\n",
       "    .dataframe tbody tr th:only-of-type {\n",
       "        vertical-align: middle;\n",
       "    }\n",
       "\n",
       "    .dataframe tbody tr th {\n",
       "        vertical-align: top;\n",
       "    }\n",
       "\n",
       "    .dataframe thead th {\n",
       "        text-align: right;\n",
       "    }\n",
       "</style>\n",
       "<table border=\"1\" class=\"dataframe\">\n",
       "  <thead>\n",
       "    <tr style=\"text-align: right;\">\n",
       "      <th>vis_win</th>\n",
       "      <th>False</th>\n",
       "      <th>True</th>\n",
       "    </tr>\n",
       "    <tr>\n",
       "      <th>yr</th>\n",
       "      <th></th>\n",
       "      <th></th>\n",
       "    </tr>\n",
       "  </thead>\n",
       "  <tbody>\n",
       "    <tr>\n",
       "      <th>1947</th>\n",
       "      <td>40</td>\n",
       "      <td>53</td>\n",
       "    </tr>\n",
       "    <tr>\n",
       "      <th>1948</th>\n",
       "      <td>45</td>\n",
       "      <td>43</td>\n",
       "    </tr>\n",
       "    <tr>\n",
       "      <th>1949</th>\n",
       "      <td>60</td>\n",
       "      <td>57</td>\n",
       "    </tr>\n",
       "    <tr>\n",
       "      <th>1950</th>\n",
       "      <td>55</td>\n",
       "      <td>43</td>\n",
       "    </tr>\n",
       "    <tr>\n",
       "      <th>1951</th>\n",
       "      <td>65</td>\n",
       "      <td>53</td>\n",
       "    </tr>\n",
       "    <tr>\n",
       "      <th>...</th>\n",
       "      <td>...</td>\n",
       "      <td>...</td>\n",
       "    </tr>\n",
       "    <tr>\n",
       "      <th>2016</th>\n",
       "      <td>93</td>\n",
       "      <td>92</td>\n",
       "    </tr>\n",
       "    <tr>\n",
       "      <th>2017</th>\n",
       "      <td>96</td>\n",
       "      <td>86</td>\n",
       "    </tr>\n",
       "    <tr>\n",
       "      <th>2018</th>\n",
       "      <td>117</td>\n",
       "      <td>99</td>\n",
       "    </tr>\n",
       "    <tr>\n",
       "      <th>2019</th>\n",
       "      <td>99</td>\n",
       "      <td>109</td>\n",
       "    </tr>\n",
       "    <tr>\n",
       "      <th>2020</th>\n",
       "      <td>32</td>\n",
       "      <td>36</td>\n",
       "    </tr>\n",
       "  </tbody>\n",
       "</table>\n",
       "<p>74 rows × 2 columns</p>\n",
       "</div>"
      ],
      "text/plain": [
       "vis_win  False  True \n",
       "yr                   \n",
       "1947        40     53\n",
       "1948        45     43\n",
       "1949        60     57\n",
       "1950        55     43\n",
       "1951        65     53\n",
       "...        ...    ...\n",
       "2016        93     92\n",
       "2017        96     86\n",
       "2018       117     99\n",
       "2019        99    109\n",
       "2020        32     36\n",
       "\n",
       "[74 rows x 2 columns]"
      ]
     },
     "execution_count": 5,
     "metadata": {},
     "output_type": "execute_result"
    }
   ],
   "source": [
    "by_yr = extras.groupby(['yr', 'vis_win'])['date'].count().unstack()\n",
    "by_yr"
   ]
  },
  {
   "cell_type": "code",
   "execution_count": 6,
   "metadata": {},
   "outputs": [
    {
     "data": {
      "text/html": [
       "<div>\n",
       "<style scoped>\n",
       "    .dataframe tbody tr th:only-of-type {\n",
       "        vertical-align: middle;\n",
       "    }\n",
       "\n",
       "    .dataframe tbody tr th {\n",
       "        vertical-align: top;\n",
       "    }\n",
       "\n",
       "    .dataframe thead th {\n",
       "        text-align: right;\n",
       "    }\n",
       "</style>\n",
       "<table border=\"1\" class=\"dataframe\">\n",
       "  <thead>\n",
       "    <tr style=\"text-align: right;\">\n",
       "      <th>vis_win</th>\n",
       "      <th>False</th>\n",
       "      <th>True</th>\n",
       "    </tr>\n",
       "    <tr>\n",
       "      <th>yr</th>\n",
       "      <th></th>\n",
       "      <th></th>\n",
       "    </tr>\n",
       "  </thead>\n",
       "  <tbody>\n",
       "    <tr>\n",
       "      <th>1947</th>\n",
       "      <td>40</td>\n",
       "      <td>53</td>\n",
       "    </tr>\n",
       "    <tr>\n",
       "      <th>1960</th>\n",
       "      <td>69</td>\n",
       "      <td>71</td>\n",
       "    </tr>\n",
       "    <tr>\n",
       "      <th>1964</th>\n",
       "      <td>67</td>\n",
       "      <td>80</td>\n",
       "    </tr>\n",
       "    <tr>\n",
       "      <th>1968</th>\n",
       "      <td>72</td>\n",
       "      <td>89</td>\n",
       "    </tr>\n",
       "    <tr>\n",
       "      <th>1976</th>\n",
       "      <td>96</td>\n",
       "      <td>106</td>\n",
       "    </tr>\n",
       "    <tr>\n",
       "      <th>1979</th>\n",
       "      <td>78</td>\n",
       "      <td>105</td>\n",
       "    </tr>\n",
       "    <tr>\n",
       "      <th>1983</th>\n",
       "      <td>93</td>\n",
       "      <td>97</td>\n",
       "    </tr>\n",
       "    <tr>\n",
       "      <th>1988</th>\n",
       "      <td>97</td>\n",
       "      <td>100</td>\n",
       "    </tr>\n",
       "    <tr>\n",
       "      <th>1992</th>\n",
       "      <td>101</td>\n",
       "      <td>109</td>\n",
       "    </tr>\n",
       "    <tr>\n",
       "      <th>1996</th>\n",
       "      <td>108</td>\n",
       "      <td>110</td>\n",
       "    </tr>\n",
       "    <tr>\n",
       "      <th>1998</th>\n",
       "      <td>102</td>\n",
       "      <td>105</td>\n",
       "    </tr>\n",
       "    <tr>\n",
       "      <th>1999</th>\n",
       "      <td>93</td>\n",
       "      <td>98</td>\n",
       "    </tr>\n",
       "    <tr>\n",
       "      <th>2001</th>\n",
       "      <td>95</td>\n",
       "      <td>101</td>\n",
       "    </tr>\n",
       "    <tr>\n",
       "      <th>2014</th>\n",
       "      <td>112</td>\n",
       "      <td>120</td>\n",
       "    </tr>\n",
       "    <tr>\n",
       "      <th>2019</th>\n",
       "      <td>99</td>\n",
       "      <td>109</td>\n",
       "    </tr>\n",
       "    <tr>\n",
       "      <th>2020</th>\n",
       "      <td>32</td>\n",
       "      <td>36</td>\n",
       "    </tr>\n",
       "  </tbody>\n",
       "</table>\n",
       "</div>"
      ],
      "text/plain": [
       "vis_win  False  True \n",
       "yr                   \n",
       "1947        40     53\n",
       "1960        69     71\n",
       "1964        67     80\n",
       "1968        72     89\n",
       "1976        96    106\n",
       "1979        78    105\n",
       "1983        93     97\n",
       "1988        97    100\n",
       "1992       101    109\n",
       "1996       108    110\n",
       "1998       102    105\n",
       "1999        93     98\n",
       "2001        95    101\n",
       "2014       112    120\n",
       "2019        99    109\n",
       "2020        32     36"
      ]
     },
     "execution_count": 6,
     "metadata": {},
     "output_type": "execute_result"
    }
   ],
   "source": [
    "by_yr[by_yr[False]< by_yr[True]]"
   ]
  },
  {
   "cell_type": "code",
   "execution_count": 7,
   "metadata": {},
   "outputs": [
    {
     "data": {
      "text/plain": [
       "vis_win\n",
       "False    6853\n",
       "True     6240\n",
       "dtype: int64"
      ]
     },
     "execution_count": 7,
     "metadata": {},
     "output_type": "execute_result"
    }
   ],
   "source": [
    "by_yr.sum()"
   ]
  },
  {
   "cell_type": "code",
   "execution_count": 8,
   "metadata": {},
   "outputs": [
    {
     "data": {
      "text/plain": [
       "0.47631477927063337"
      ]
     },
     "execution_count": 8,
     "metadata": {},
     "output_type": "execute_result"
    }
   ],
   "source": [
    "6204/(6204+6821)"
   ]
  },
  {
   "cell_type": "code",
   "execution_count": 9,
   "metadata": {},
   "outputs": [
    {
     "data": {
      "text/plain": [
       "vis_win\n",
       "False    92.608108\n",
       "True     84.324324\n",
       "dtype: float64"
      ]
     },
     "execution_count": 9,
     "metadata": {},
     "output_type": "execute_result"
    }
   ],
   "source": [
    "by_yr.mean()"
   ]
  },
  {
   "cell_type": "code",
   "execution_count": null,
   "metadata": {},
   "outputs": [],
   "source": []
  },
  {
   "cell_type": "markdown",
   "metadata": {},
   "source": [
    "## Quality of teams in extra inning games\n",
    "\n",
    "Someone on reddit suggested that road teams in extras are, on average, above-average teams, because they've managed to offset HFA by tying the game.  Is this true"
   ]
  },
  {
   "cell_type": "code",
   "execution_count": 10,
   "metadata": {},
   "outputs": [
    {
     "data": {
      "text/plain": [
       "(286556, 76)"
      ]
     },
     "execution_count": 10,
     "metadata": {},
     "output_type": "execute_result"
    }
   ],
   "source": [
    "glt = bbl.load_gamelog_teams(game_types=bbl.GameType.RS, seasons=bbl.Eras.Integration)\n",
    "glt.shape"
   ]
  },
  {
   "cell_type": "code",
   "execution_count": 11,
   "metadata": {},
   "outputs": [
    {
     "data": {
      "text/plain": [
       "array(['game_id', 'date', 'double_header', 'yr', 'game_type', 'park_id',\n",
       "       'team', 'team_league', 'team_game_number', 'runs_scored',\n",
       "       'line_score', 'ab', 'h', 'd', 't', 'hr', 'rbi', 'sh', 'sf', 'hbp',\n",
       "       'bb', 'ibb', 'k', 'sb', 'cs', 'gdp', 'ci', 'lob', 'pitchers', 'er',\n",
       "       'ter', 'wp', 'balks', 'po', 'a', 'e', 'passed', 'db', 'tp',\n",
       "       'manager_id', 'manager_name', 'starting_pitcher_id',\n",
       "       'starting_pitcher_name', 'batting_1_player_id', 'batting_1_name',\n",
       "       'batting_1_position', 'batting_2_player_id', 'batting_2_name',\n",
       "       'batting_2_position', 'batting_3_player_id', 'batting_3_name',\n",
       "       'batting_3_position', 'batting_4_player_id', 'batting_4_name',\n",
       "       'batting_4_position', 'batting_5_player_id', 'batting_5_name',\n",
       "       'batting_5_position', 'batting_6_player_id', 'batting_6_name',\n",
       "       'batting_6_position', 'batting_7_player_id', 'batting_7_name',\n",
       "       'batting_7_position', 'batting_8_player_id', 'batting_8_name',\n",
       "       'batting_8_position', 'batting_9_player_id', 'batting_9_name',\n",
       "       'batting_9_position', 'HA', 'opp', 'runs_allowed', 'W', 'L',\n",
       "       'linescore_parsed'], dtype=object)"
      ]
     },
     "execution_count": 11,
     "metadata": {},
     "output_type": "execute_result"
    }
   ],
   "source": [
    "glt.columns.values"
   ]
  },
  {
   "cell_type": "code",
   "execution_count": 12,
   "metadata": {},
   "outputs": [
    {
     "data": {
      "text/html": [
       "<div>\n",
       "<style scoped>\n",
       "    .dataframe tbody tr th:only-of-type {\n",
       "        vertical-align: middle;\n",
       "    }\n",
       "\n",
       "    .dataframe tbody tr th {\n",
       "        vertical-align: top;\n",
       "    }\n",
       "\n",
       "    .dataframe thead th {\n",
       "        text-align: right;\n",
       "    }\n",
       "</style>\n",
       "<table border=\"1\" class=\"dataframe\">\n",
       "  <thead>\n",
       "    <tr style=\"text-align: right;\">\n",
       "      <th></th>\n",
       "      <th></th>\n",
       "      <th>W</th>\n",
       "      <th>L</th>\n",
       "      <th>pct</th>\n",
       "    </tr>\n",
       "    <tr>\n",
       "      <th>team</th>\n",
       "      <th>yr</th>\n",
       "      <th></th>\n",
       "      <th></th>\n",
       "      <th></th>\n",
       "    </tr>\n",
       "  </thead>\n",
       "  <tbody>\n",
       "    <tr>\n",
       "      <th rowspan=\"5\" valign=\"top\">ANA</th>\n",
       "      <th>1997</th>\n",
       "      <td>84</td>\n",
       "      <td>78</td>\n",
       "      <td>0.518519</td>\n",
       "    </tr>\n",
       "    <tr>\n",
       "      <th>1998</th>\n",
       "      <td>85</td>\n",
       "      <td>77</td>\n",
       "      <td>0.524691</td>\n",
       "    </tr>\n",
       "    <tr>\n",
       "      <th>1999</th>\n",
       "      <td>70</td>\n",
       "      <td>92</td>\n",
       "      <td>0.432099</td>\n",
       "    </tr>\n",
       "    <tr>\n",
       "      <th>2000</th>\n",
       "      <td>82</td>\n",
       "      <td>80</td>\n",
       "      <td>0.506173</td>\n",
       "    </tr>\n",
       "    <tr>\n",
       "      <th>2001</th>\n",
       "      <td>75</td>\n",
       "      <td>87</td>\n",
       "      <td>0.462963</td>\n",
       "    </tr>\n",
       "    <tr>\n",
       "      <th>...</th>\n",
       "      <th>...</th>\n",
       "      <td>...</td>\n",
       "      <td>...</td>\n",
       "      <td>...</td>\n",
       "    </tr>\n",
       "    <tr>\n",
       "      <th rowspan=\"5\" valign=\"top\">WS2</th>\n",
       "      <th>1967</th>\n",
       "      <td>76</td>\n",
       "      <td>85</td>\n",
       "      <td>0.472050</td>\n",
       "    </tr>\n",
       "    <tr>\n",
       "      <th>1968</th>\n",
       "      <td>65</td>\n",
       "      <td>96</td>\n",
       "      <td>0.403727</td>\n",
       "    </tr>\n",
       "    <tr>\n",
       "      <th>1969</th>\n",
       "      <td>86</td>\n",
       "      <td>76</td>\n",
       "      <td>0.530864</td>\n",
       "    </tr>\n",
       "    <tr>\n",
       "      <th>1970</th>\n",
       "      <td>70</td>\n",
       "      <td>92</td>\n",
       "      <td>0.432099</td>\n",
       "    </tr>\n",
       "    <tr>\n",
       "      <th>1971</th>\n",
       "      <td>64</td>\n",
       "      <td>95</td>\n",
       "      <td>0.402516</td>\n",
       "    </tr>\n",
       "  </tbody>\n",
       "</table>\n",
       "<p>1820 rows × 3 columns</p>\n",
       "</div>"
      ],
      "text/plain": [
       "            W   L       pct\n",
       "team yr                    \n",
       "ANA  1997  84  78  0.518519\n",
       "     1998  85  77  0.524691\n",
       "     1999  70  92  0.432099\n",
       "     2000  82  80  0.506173\n",
       "     2001  75  87  0.462963\n",
       "...        ..  ..       ...\n",
       "WS2  1967  76  85  0.472050\n",
       "     1968  65  96  0.403727\n",
       "     1969  86  76  0.530864\n",
       "     1970  70  92  0.432099\n",
       "     1971  64  95  0.402516\n",
       "\n",
       "[1820 rows x 3 columns]"
      ]
     },
     "execution_count": 12,
     "metadata": {},
     "output_type": "execute_result"
    }
   ],
   "source": [
    "# Compute seasonal w-L records\n",
    "\n",
    "def get_seasonal_wl(glt):\n",
    "    wl_records = glt.groupby(['team', 'yr'])[['W', 'L']].sum()\n",
    "    wl_records['pct'] = wl_records['W']/(wl_records['W']+wl_records['L'])\n",
    "    return wl_records\n",
    "\n",
    "get_seasonal_wl(glt)"
   ]
  },
  {
   "cell_type": "code",
   "execution_count": 13,
   "metadata": {},
   "outputs": [
    {
     "data": {
      "text/html": [
       "<div>\n",
       "<style scoped>\n",
       "    .dataframe tbody tr th:only-of-type {\n",
       "        vertical-align: middle;\n",
       "    }\n",
       "\n",
       "    .dataframe tbody tr th {\n",
       "        vertical-align: top;\n",
       "    }\n",
       "\n",
       "    .dataframe thead th {\n",
       "        text-align: right;\n",
       "    }\n",
       "</style>\n",
       "<table border=\"1\" class=\"dataframe\">\n",
       "  <thead>\n",
       "    <tr style=\"text-align: right;\">\n",
       "      <th></th>\n",
       "      <th>yr</th>\n",
       "      <th>home_team</th>\n",
       "      <th>visiting_team</th>\n",
       "      <th>vis_win</th>\n",
       "      <th>home_wpct</th>\n",
       "      <th>vis_wpct</th>\n",
       "    </tr>\n",
       "  </thead>\n",
       "  <tbody>\n",
       "    <tr>\n",
       "      <th>0</th>\n",
       "      <td>1947</td>\n",
       "      <td>SLA</td>\n",
       "      <td>DET</td>\n",
       "      <td>False</td>\n",
       "      <td>0.383117</td>\n",
       "      <td>0.551948</td>\n",
       "    </tr>\n",
       "    <tr>\n",
       "      <th>1</th>\n",
       "      <td>1947</td>\n",
       "      <td>SLA</td>\n",
       "      <td>DET</td>\n",
       "      <td>False</td>\n",
       "      <td>0.383117</td>\n",
       "      <td>0.551948</td>\n",
       "    </tr>\n",
       "    <tr>\n",
       "      <th>2</th>\n",
       "      <td>1947</td>\n",
       "      <td>PHA</td>\n",
       "      <td>DET</td>\n",
       "      <td>True</td>\n",
       "      <td>0.506494</td>\n",
       "      <td>0.551948</td>\n",
       "    </tr>\n",
       "    <tr>\n",
       "      <th>3</th>\n",
       "      <td>1947</td>\n",
       "      <td>BOS</td>\n",
       "      <td>DET</td>\n",
       "      <td>True</td>\n",
       "      <td>0.538961</td>\n",
       "      <td>0.551948</td>\n",
       "    </tr>\n",
       "    <tr>\n",
       "      <th>4</th>\n",
       "      <td>1947</td>\n",
       "      <td>CHA</td>\n",
       "      <td>DET</td>\n",
       "      <td>True</td>\n",
       "      <td>0.454545</td>\n",
       "      <td>0.551948</td>\n",
       "    </tr>\n",
       "    <tr>\n",
       "      <th>...</th>\n",
       "      <td>...</td>\n",
       "      <td>...</td>\n",
       "      <td>...</td>\n",
       "      <td>...</td>\n",
       "      <td>...</td>\n",
       "      <td>...</td>\n",
       "    </tr>\n",
       "    <tr>\n",
       "      <th>13088</th>\n",
       "      <td>2020</td>\n",
       "      <td>BAL</td>\n",
       "      <td>BOS</td>\n",
       "      <td>False</td>\n",
       "      <td>0.416667</td>\n",
       "      <td>0.400000</td>\n",
       "    </tr>\n",
       "    <tr>\n",
       "      <th>13089</th>\n",
       "      <td>2020</td>\n",
       "      <td>ATL</td>\n",
       "      <td>BOS</td>\n",
       "      <td>False</td>\n",
       "      <td>0.583333</td>\n",
       "      <td>0.400000</td>\n",
       "    </tr>\n",
       "    <tr>\n",
       "      <th>13090</th>\n",
       "      <td>2020</td>\n",
       "      <td>CHN</td>\n",
       "      <td>PIT</td>\n",
       "      <td>False</td>\n",
       "      <td>0.566667</td>\n",
       "      <td>0.316667</td>\n",
       "    </tr>\n",
       "    <tr>\n",
       "      <th>13091</th>\n",
       "      <td>2020</td>\n",
       "      <td>MIN</td>\n",
       "      <td>CIN</td>\n",
       "      <td>True</td>\n",
       "      <td>0.600000</td>\n",
       "      <td>0.516667</td>\n",
       "    </tr>\n",
       "    <tr>\n",
       "      <th>13092</th>\n",
       "      <td>2020</td>\n",
       "      <td>LAN</td>\n",
       "      <td>ARI</td>\n",
       "      <td>False</td>\n",
       "      <td>0.716667</td>\n",
       "      <td>0.416667</td>\n",
       "    </tr>\n",
       "  </tbody>\n",
       "</table>\n",
       "<p>13093 rows × 6 columns</p>\n",
       "</div>"
      ],
      "text/plain": [
       "         yr home_team visiting_team  vis_win  home_wpct  vis_wpct\n",
       "0      1947       SLA           DET    False   0.383117  0.551948\n",
       "1      1947       SLA           DET    False   0.383117  0.551948\n",
       "2      1947       PHA           DET     True   0.506494  0.551948\n",
       "3      1947       BOS           DET     True   0.538961  0.551948\n",
       "4      1947       CHA           DET     True   0.454545  0.551948\n",
       "...     ...       ...           ...      ...        ...       ...\n",
       "13088  2020       BAL           BOS    False   0.416667  0.400000\n",
       "13089  2020       ATL           BOS    False   0.583333  0.400000\n",
       "13090  2020       CHN           PIT    False   0.566667  0.316667\n",
       "13091  2020       MIN           CIN     True   0.600000  0.516667\n",
       "13092  2020       LAN           ARI    False   0.716667  0.416667\n",
       "\n",
       "[13093 rows x 6 columns]"
      ]
     },
     "execution_count": 13,
     "metadata": {},
     "output_type": "execute_result"
    }
   ],
   "source": [
    "def add_wpct_to_gms(extras, wl_records):\n",
    "    e = extras[['yr', 'home_team', 'visiting_team', 'vis_win']]\n",
    "    e = pd.merge(e, wl_records['pct'].reset_index(), left_on=['yr', 'home_team'], right_on=['yr', 'team']).rename(columns={'pct': 'home_wpct'})\n",
    "    e = pd.merge(e, wl_records['pct'].reset_index(), left_on=['yr', 'visiting_team'], right_on=['yr', 'team']).rename(columns={'pct': 'vis_wpct'})\n",
    "    e = e[['yr', 'home_team', 'visiting_team', 'vis_win', 'home_wpct', 'vis_wpct']]\n",
    "    return e\n",
    "\n",
    "e = add_wpct_to_gms(extras, get_seasonal_wl(glt))\n",
    "e"
   ]
  },
  {
   "cell_type": "code",
   "execution_count": 14,
   "metadata": {},
   "outputs": [
    {
     "data": {
      "text/plain": [
       "<AxesSubplot:xlabel='yr'>"
      ]
     },
     "execution_count": 14,
     "metadata": {},
     "output_type": "execute_result"
    },
    {
     "data": {
      "image/png": "[encoded data removed]",
      "text/plain": [
       "<Figure size 432x288 with 1 Axes>"
      ]
     },
     "metadata": {
      "needs_background": "light"
     },
     "output_type": "display_data"
    }
   ],
   "source": [
    "e.groupby('yr')[['home_wpct', 'vis_wpct']].mean().rolling(25).mean().plot()"
   ]
  },
  {
   "cell_type": "code",
   "execution_count": 15,
   "metadata": {},
   "outputs": [
    {
     "data": {
      "text/plain": [
       "yr           1986.727259\n",
       "vis_win         0.476591\n",
       "home_wpct       0.500014\n",
       "vis_wpct        0.501245\n",
       "dtype: float64"
      ]
     },
     "execution_count": 15,
     "metadata": {},
     "output_type": "execute_result"
    }
   ],
   "source": [
    "# Well, I'll be.  Visiting teams are consistently better.  But the difference is small:\n",
    "e.mean()"
   ]
  },
  {
   "cell_type": "code",
   "execution_count": 16,
   "metadata": {},
   "outputs": [
    {
     "data": {
      "text/plain": [
       "yr           1986.727259\n",
       "vis_win         0.476591\n",
       "home_wpct       0.461969\n",
       "vis_wpct        0.463166\n",
       "dtype: float64"
      ]
     },
     "execution_count": 16,
     "metadata": {},
     "output_type": "execute_result"
    }
   ],
   "source": [
    "# Now just look at road records of visiting teams\n",
    "\n",
    "e = add_wpct_to_gms(extras, get_seasonal_wl(glt[glt['HA']=='A']))\n",
    "e.mean()"
   ]
  }
 ],
 "metadata": {
  "interpreter": {
   "hash": "cd78fef2128015050713e82ca51c6520b11aee7c9ee8df750520bbbc7384cbaa"
  },
  "kernelspec": {
   "display_name": "Python 3.8.8 ('base')",
   "language": "python",
   "name": "python3"
  },
  "language_info": {
   "codemirror_mode": {
    "name": "ipython",
    "version": 3
   },
   "file_extension": ".py",
   "mimetype": "text/x-python",
   "name": "python",
   "nbconvert_exporter": "python",
   "pygments_lexer": "ipython3",
   "version": "3.8.8"
  },
  "orig_nbformat": 4
 },
 "nbformat": 4,
 "nbformat_minor": 2
}
