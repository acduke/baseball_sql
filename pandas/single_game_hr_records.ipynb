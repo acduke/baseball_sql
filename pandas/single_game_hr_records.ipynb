{
 "cells": [
  {
   "cell_type": "code",
   "execution_count": 1,
   "metadata": {},
   "outputs": [],
   "source": [
    "# Single-game HR records\n",
    "\n",
    "# With HR rates at all-time highs since 2015, and so many HR records falling routinely, why have we not seen\n",
    "# that many records for single-game HRs (for teams or for league/MLB)?\n",
    "\n",
    "# The implied question:\n",
    "# * Is there some reason that single-game highs would not increase along with the recent increase of HR rates?\n",
    "\n"
   ]
  },
  {
   "cell_type": "code",
   "execution_count": 2,
   "metadata": {},
   "outputs": [],
   "source": [
    "import pandas as pd\n",
    "import numpy as np\n",
    "import plotly.express as px\n",
    "import plotly.graph_objects as go # for dual-Y-axis plots\n",
    "from plotly.subplots import make_subplots\n",
    "\n",
    "import boxball_loader as bbl"
   ]
  },
  {
   "cell_type": "code",
   "execution_count": 3,
   "metadata": {},
   "outputs": [
    {
     "data": {
      "text/plain": [
       "Index(['game_id', 'date', 'double_header', 'yr', 'game_type', 'park_id',\n",
       "       'team', 'team_league', 'team_game_number', 'runs_scored', 'line_score',\n",
       "       'ab', 'h', 'd', 't', 'hr', 'rbi', 'sh', 'sf', 'hbp', 'bb', 'ibb', 'k',\n",
       "       'sb', 'cs', 'gdp', 'ci', 'lob', 'pitchers', 'er', 'ter', 'wp', 'balks',\n",
       "       'po', 'a', 'e', 'passed', 'db', 'tp', 'manager_id', 'manager_name',\n",
       "       'starting_pitcher_id', 'starting_pitcher_name', 'batting_1_player_id',\n",
       "       'batting_1_name', 'batting_1_position', 'batting_2_player_id',\n",
       "       'batting_2_name', 'batting_2_position', 'batting_3_player_id',\n",
       "       'batting_3_name', 'batting_3_position', 'batting_4_player_id',\n",
       "       'batting_4_name', 'batting_4_position', 'batting_5_player_id',\n",
       "       'batting_5_name', 'batting_5_position', 'batting_6_player_id',\n",
       "       'batting_6_name', 'batting_6_position', 'batting_7_player_id',\n",
       "       'batting_7_name', 'batting_7_position', 'batting_8_player_id',\n",
       "       'batting_8_name', 'batting_8_position', 'batting_9_player_id',\n",
       "       'batting_9_name', 'batting_9_position', 'HA', 'opp', 'runs_allowed',\n",
       "       'W', 'L', 'linescore_parsed'],\n",
       "      dtype='object')"
      ]
     },
     "execution_count": 3,
     "metadata": {},
     "output_type": "execute_result"
    }
   ],
   "source": [
    "glt = bbl.load_gamelog_teams(bbl.GameType.RS, bbl.Eras.Integration)\n",
    "glt.columns"
   ]
  },
  {
   "cell_type": "code",
   "execution_count": 4,
   "metadata": {},
   "outputs": [
    {
     "data": {
      "text/html": [
       "<div>\n",
       "<style scoped>\n",
       "    .dataframe tbody tr th:only-of-type {\n",
       "        vertical-align: middle;\n",
       "    }\n",
       "\n",
       "    .dataframe tbody tr th {\n",
       "        vertical-align: top;\n",
       "    }\n",
       "\n",
       "    .dataframe thead th {\n",
       "        text-align: right;\n",
       "    }\n",
       "</style>\n",
       "<table border=\"1\" class=\"dataframe\">\n",
       "  <thead>\n",
       "    <tr style=\"text-align: right;\">\n",
       "      <th></th>\n",
       "      <th></th>\n",
       "      <th>max</th>\n",
       "      <th>mean</th>\n",
       "      <th>g</th>\n",
       "    </tr>\n",
       "    <tr>\n",
       "      <th>yr</th>\n",
       "      <th>team</th>\n",
       "      <th></th>\n",
       "      <th></th>\n",
       "      <th></th>\n",
       "    </tr>\n",
       "  </thead>\n",
       "  <tbody>\n",
       "    <tr>\n",
       "      <th>2017</th>\n",
       "      <th>NYN</th>\n",
       "      <td>7.0</td>\n",
       "      <td>1.382716</td>\n",
       "      <td>162</td>\n",
       "    </tr>\n",
       "    <tr>\n",
       "      <th>1948</th>\n",
       "      <th>BRO</th>\n",
       "      <td>3.0</td>\n",
       "      <td>0.587097</td>\n",
       "      <td>155</td>\n",
       "    </tr>\n",
       "    <tr>\n",
       "      <th>2015</th>\n",
       "      <th>TOR</th>\n",
       "      <td>5.0</td>\n",
       "      <td>1.432099</td>\n",
       "      <td>162</td>\n",
       "    </tr>\n",
       "    <tr>\n",
       "      <th>1974</th>\n",
       "      <th>MIL</th>\n",
       "      <td>3.0</td>\n",
       "      <td>0.740741</td>\n",
       "      <td>162</td>\n",
       "    </tr>\n",
       "    <tr>\n",
       "      <th>2018</th>\n",
       "      <th>ANA</th>\n",
       "      <td>5.0</td>\n",
       "      <td>1.320988</td>\n",
       "      <td>162</td>\n",
       "    </tr>\n",
       "    <tr>\n",
       "      <th>1951</th>\n",
       "      <th>CIN</th>\n",
       "      <td>3.0</td>\n",
       "      <td>0.567742</td>\n",
       "      <td>155</td>\n",
       "    </tr>\n",
       "    <tr>\n",
       "      <th>1970</th>\n",
       "      <th>NYA</th>\n",
       "      <td>4.0</td>\n",
       "      <td>0.680982</td>\n",
       "      <td>163</td>\n",
       "    </tr>\n",
       "    <tr>\n",
       "      <th>1979</th>\n",
       "      <th>MIN</th>\n",
       "      <td>5.0</td>\n",
       "      <td>0.691358</td>\n",
       "      <td>162</td>\n",
       "    </tr>\n",
       "    <tr>\n",
       "      <th>2009</th>\n",
       "      <th>CHA</th>\n",
       "      <td>6.0</td>\n",
       "      <td>1.135802</td>\n",
       "      <td>162</td>\n",
       "    </tr>\n",
       "    <tr>\n",
       "      <th>1951</th>\n",
       "      <th>BRO</th>\n",
       "      <td>5.0</td>\n",
       "      <td>1.164557</td>\n",
       "      <td>158</td>\n",
       "    </tr>\n",
       "  </tbody>\n",
       "</table>\n",
       "</div>"
      ],
      "text/plain": [
       "           max      mean    g\n",
       "yr   team                    \n",
       "2017 NYN   7.0  1.382716  162\n",
       "1948 BRO   3.0  0.587097  155\n",
       "2015 TOR   5.0  1.432099  162\n",
       "1974 MIL   3.0  0.740741  162\n",
       "2018 ANA   5.0  1.320988  162\n",
       "1951 CIN   3.0  0.567742  155\n",
       "1970 NYA   4.0  0.680982  163\n",
       "1979 MIN   5.0  0.691358  162\n",
       "2009 CHA   6.0  1.135802  162\n",
       "1951 BRO   5.0  1.164557  158"
      ]
     },
     "execution_count": 4,
     "metadata": {},
     "output_type": "execute_result"
    }
   ],
   "source": [
    "teams = glt.groupby(['yr', 'team'])['hr'].agg([max, np.mean, len]).rename(columns={'len': 'g'})\n",
    "teams.sample(10)"
   ]
  },
  {
   "cell_type": "code",
   "execution_count": 5,
   "metadata": {},
   "outputs": [
    {
     "data": {
      "text/html": [
       "<div>\n",
       "<style scoped>\n",
       "    .dataframe tbody tr th:only-of-type {\n",
       "        vertical-align: middle;\n",
       "    }\n",
       "\n",
       "    .dataframe tbody tr th {\n",
       "        vertical-align: top;\n",
       "    }\n",
       "\n",
       "    .dataframe thead th {\n",
       "        text-align: right;\n",
       "    }\n",
       "</style>\n",
       "<table border=\"1\" class=\"dataframe\">\n",
       "  <thead>\n",
       "    <tr style=\"text-align: right;\">\n",
       "      <th></th>\n",
       "      <th>mean_high</th>\n",
       "      <th>lg_hr_rate</th>\n",
       "      <th>mean_g</th>\n",
       "    </tr>\n",
       "    <tr>\n",
       "      <th>yr</th>\n",
       "      <th></th>\n",
       "      <th></th>\n",
       "      <th></th>\n",
       "    </tr>\n",
       "  </thead>\n",
       "  <tbody>\n",
       "    <tr>\n",
       "      <th>1947</th>\n",
       "      <td>4.125000</td>\n",
       "      <td>0.629114</td>\n",
       "      <td>155.375000</td>\n",
       "    </tr>\n",
       "    <tr>\n",
       "      <th>1948</th>\n",
       "      <td>3.812500</td>\n",
       "      <td>0.628105</td>\n",
       "      <td>154.625000</td>\n",
       "    </tr>\n",
       "    <tr>\n",
       "      <th>1949</th>\n",
       "      <td>4.375000</td>\n",
       "      <td>0.686785</td>\n",
       "      <td>155.000000</td>\n",
       "    </tr>\n",
       "    <tr>\n",
       "      <th>1950</th>\n",
       "      <td>4.812500</td>\n",
       "      <td>0.837188</td>\n",
       "      <td>154.750000</td>\n",
       "    </tr>\n",
       "    <tr>\n",
       "      <th>1951</th>\n",
       "      <td>4.062500</td>\n",
       "      <td>0.750769</td>\n",
       "      <td>154.875000</td>\n",
       "    </tr>\n",
       "    <tr>\n",
       "      <th>...</th>\n",
       "      <td>...</td>\n",
       "      <td>...</td>\n",
       "      <td>...</td>\n",
       "    </tr>\n",
       "    <tr>\n",
       "      <th>2015</th>\n",
       "      <td>4.800000</td>\n",
       "      <td>1.010455</td>\n",
       "      <td>161.933333</td>\n",
       "    </tr>\n",
       "    <tr>\n",
       "      <th>2016</th>\n",
       "      <td>5.233333</td>\n",
       "      <td>1.155147</td>\n",
       "      <td>161.866667</td>\n",
       "    </tr>\n",
       "    <tr>\n",
       "      <th>2017</th>\n",
       "      <td>5.366667</td>\n",
       "      <td>1.256173</td>\n",
       "      <td>162.000000</td>\n",
       "    </tr>\n",
       "    <tr>\n",
       "      <th>2018</th>\n",
       "      <td>5.033333</td>\n",
       "      <td>1.148493</td>\n",
       "      <td>162.066667</td>\n",
       "    </tr>\n",
       "    <tr>\n",
       "      <th>2019</th>\n",
       "      <td>6.033333</td>\n",
       "      <td>1.394662</td>\n",
       "      <td>161.933333</td>\n",
       "    </tr>\n",
       "  </tbody>\n",
       "</table>\n",
       "<p>70 rows × 3 columns</p>\n",
       "</div>"
      ],
      "text/plain": [
       "      mean_high  lg_hr_rate      mean_g\n",
       "yr                                     \n",
       "1947   4.125000    0.629114  155.375000\n",
       "1948   3.812500    0.628105  154.625000\n",
       "1949   4.375000    0.686785  155.000000\n",
       "1950   4.812500    0.837188  154.750000\n",
       "1951   4.062500    0.750769  154.875000\n",
       "...         ...         ...         ...\n",
       "2015   4.800000    1.010455  161.933333\n",
       "2016   5.233333    1.155147  161.866667\n",
       "2017   5.366667    1.256173  162.000000\n",
       "2018   5.033333    1.148493  162.066667\n",
       "2019   6.033333    1.394662  161.933333\n",
       "\n",
       "[70 rows x 3 columns]"
      ]
     },
     "execution_count": 5,
     "metadata": {},
     "output_type": "execute_result"
    }
   ],
   "source": [
    "# Consolidate to seasons (and throw out partial seasons)\n",
    "MIN_SEASON_SIZE = 150\n",
    "col_mapper = {'max': 'mean_high', 'mean': 'lg_hr_rate', 'g': 'mean_g'}\n",
    "years = teams.groupby('yr').mean().rename(columns=col_mapper).query('mean_g > @MIN_SEASON_SIZE')\n",
    "years"
   ]
  },
  {
   "cell_type": "code",
   "execution_count": 6,
   "metadata": {},
   "outputs": [
    {
     "data": {
      "application/vnd.plotly.v1+json": {
       "config": {
        "plotlyServerURL": "https://plot.ly"
       },
       "data": [
        {
         "hovertemplate": "yr=%{x}<br>lg_hr_rate=%{y}<extra></extra>",
         "legendgroup": "",
         "marker": {
          "color": "#636efa",
          "symbol": "circle"
         },
         "mode": "markers",
         "name": "",
         "orientation": "v",
         "showlegend": false,
         "type": "scatter",
         "x": [
          1947,
          1948,
          1949,
          1950,
          1951,
          1952,
          1953,
          1954,
          1955,
          1956,
          1957,
          1958,
          1959,
          1960,
          1961,
          1962,
          1963,
          1964,
          1965,
          1966,
          1967,
          1968,
          1969,
          1970,
          1971,
          1972,
          1973,
          1974,
          1975,
          1976,
          1977,
          1978,
          1979,
          1980,
          1982,
          1983,
          1984,
          1985,
          1986,
          1987,
          1988,
          1989,
          1990,
          1991,
          1992,
          1993,
          1996,
          1997,
          1998,
          1999,
          2000,
          2001,
          2002,
          2003,
          2004,
          2005,
          2006,
          2007,
          2008,
          2009,
          2010,
          2011,
          2012,
          2013,
          2014,
          2015,
          2016,
          2017,
          2018,
          2019
         ],
         "xaxis": "x",
         "y": [
          0.6291142012871179,
          0.6281046587557498,
          0.6867845891609247,
          0.8371880261639398,
          0.7507693114994646,
          0.6869560561946786,
          0.8367837796783696,
          0.7837234785823496,
          0.9016958847604009,
          0.9259143808044569,
          0.8916270807518436,
          0.9070706563887304,
          0.9088000244995057,
          0.8608718902065676,
          0.9545692102041179,
          0.9254040988077288,
          0.8353980814636989,
          0.8491667405597028,
          0.8282112758925816,
          0.8492498395676581,
          0.7094816372821944,
          0.6135861655277673,
          0.8014174150143742,
          0.8818708112482749,
          0.7387404163266983,
          0.6816127561383728,
          0.7981622063747668,
          0.680814854566744,
          0.6978883580535863,
          0.576439587725022,
          0.8663283844443265,
          0.7030325315304088,
          0.8189036149075021,
          0.7333143981297378,
          0.8016563834559745,
          0.7827212929462418,
          0.7737774707633337,
          0.8564641974440144,
          0.9063162993919529,
          1.0589369031398017,
          0.7572230397422671,
          0.7320739443705906,
          0.7878539871293495,
          0.8039658761126153,
          0.7212725546058879,
          0.8880652124517155,
          1.0943341672837792,
          1.023846495119787,
          1.04102927545327,
          1.1382317118780174,
          1.1719022387941507,
          1.1235577537509904,
          1.0425798123865757,
          1.0713054815793324,
          1.1223295759527645,
          1.0318210507712893,
          1.1086739258236842,
          1.0195271276730036,
          1.004510448328059,
          1.0373659430874689,
          0.9491769547325103,
          0.9369718579863507,
          1.0152263374485597,
          0.9586230402181323,
          0.8613168724279835,
          1.010455486542443,
          1.1551465889630141,
          1.2561728395061729,
          1.1484934489291205,
          1.394661707946732
         ],
         "yaxis": "y"
        }
       ],
       "layout": {
        "legend": {
         "tracegroupgap": 0
        },
        "margin": {
         "t": 60
        },
        "template": {
         "data": {
          "bar": [
           {
            "error_x": {
             "color": "#2a3f5f"
            },
            "error_y": {
             "color": "#2a3f5f"
            },
            "marker": {
             "line": {
              "color": "#E5ECF6",
              "width": 0.5
             }
            },
            "type": "bar"
           }
          ],
          "barpolar": [
           {
            "marker": {
             "line": {
              "color": "#E5ECF6",
              "width": 0.5
             }
            },
            "type": "barpolar"
           }
          ],
          "carpet": [
           {
            "aaxis": {
             "endlinecolor": "#2a3f5f",
             "gridcolor": "white",
             "linecolor": "white",
             "minorgridcolor": "white",
             "startlinecolor": "#2a3f5f"
            },
            "baxis": {
             "endlinecolor": "#2a3f5f",
             "gridcolor": "white",
             "linecolor": "white",
             "minorgridcolor": "white",
             "startlinecolor": "#2a3f5f"
            },
            "type": "carpet"
           }
          ],
          "choropleth": [
           {
            "colorbar": {
             "outlinewidth": 0,
             "ticks": ""
            },
            "type": "choropleth"
           }
          ],
          "contour": [
           {
            "colorbar": {
             "outlinewidth": 0,
             "ticks": ""
            },
            "colorscale": [
             [
              0,
              "#0d0887"
             ],
             [
              0.1111111111111111,
              "#46039f"
             ],
             [
              0.2222222222222222,
              "#7201a8"
             ],
             [
              0.3333333333333333,
              "#9c179e"
             ],
             [
              0.4444444444444444,
              "#bd3786"
             ],
             [
              0.5555555555555556,
              "#d8576b"
             ],
             [
              0.6666666666666666,
              "#ed7953"
             ],
             [
              0.7777777777777778,
              "#fb9f3a"
             ],
             [
              0.8888888888888888,
              "#fdca26"
             ],
             [
              1,
              "#f0f921"
             ]
            ],
            "type": "contour"
           }
          ],
          "contourcarpet": [
           {
            "colorbar": {
             "outlinewidth": 0,
             "ticks": ""
            },
            "type": "contourcarpet"
           }
          ],
          "heatmap": [
           {
            "colorbar": {
             "outlinewidth": 0,
             "ticks": ""
            },
            "colorscale": [
             [
              0,
              "#0d0887"
             ],
             [
              0.1111111111111111,
              "#46039f"
             ],
             [
              0.2222222222222222,
              "#7201a8"
             ],
             [
              0.3333333333333333,
              "#9c179e"
             ],
             [
              0.4444444444444444,
              "#bd3786"
             ],
             [
              0.5555555555555556,
              "#d8576b"
             ],
             [
              0.6666666666666666,
              "#ed7953"
             ],
             [
              0.7777777777777778,
              "#fb9f3a"
             ],
             [
              0.8888888888888888,
              "#fdca26"
             ],
             [
              1,
              "#f0f921"
             ]
            ],
            "type": "heatmap"
           }
          ],
          "heatmapgl": [
           {
            "colorbar": {
             "outlinewidth": 0,
             "ticks": ""
            },
            "colorscale": [
             [
              0,
              "#0d0887"
             ],
             [
              0.1111111111111111,
              "#46039f"
             ],
             [
              0.2222222222222222,
              "#7201a8"
             ],
             [
              0.3333333333333333,
              "#9c179e"
             ],
             [
              0.4444444444444444,
              "#bd3786"
             ],
             [
              0.5555555555555556,
              "#d8576b"
             ],
             [
              0.6666666666666666,
              "#ed7953"
             ],
             [
              0.7777777777777778,
              "#fb9f3a"
             ],
             [
              0.8888888888888888,
              "#fdca26"
             ],
             [
              1,
              "#f0f921"
             ]
            ],
            "type": "heatmapgl"
           }
          ],
          "histogram": [
           {
            "marker": {
             "colorbar": {
              "outlinewidth": 0,
              "ticks": ""
             }
            },
            "type": "histogram"
           }
          ],
          "histogram2d": [
           {
            "colorbar": {
             "outlinewidth": 0,
             "ticks": ""
            },
            "colorscale": [
             [
              0,
              "#0d0887"
             ],
             [
              0.1111111111111111,
              "#46039f"
             ],
             [
              0.2222222222222222,
              "#7201a8"
             ],
             [
              0.3333333333333333,
              "#9c179e"
             ],
             [
              0.4444444444444444,
              "#bd3786"
             ],
             [
              0.5555555555555556,
              "#d8576b"
             ],
             [
              0.6666666666666666,
              "#ed7953"
             ],
             [
              0.7777777777777778,
              "#fb9f3a"
             ],
             [
              0.8888888888888888,
              "#fdca26"
             ],
             [
              1,
              "#f0f921"
             ]
            ],
            "type": "histogram2d"
           }
          ],
          "histogram2dcontour": [
           {
            "colorbar": {
             "outlinewidth": 0,
             "ticks": ""
            },
            "colorscale": [
             [
              0,
              "#0d0887"
             ],
             [
              0.1111111111111111,
              "#46039f"
             ],
             [
              0.2222222222222222,
              "#7201a8"
             ],
             [
              0.3333333333333333,
              "#9c179e"
             ],
             [
              0.4444444444444444,
              "#bd3786"
             ],
             [
              0.5555555555555556,
              "#d8576b"
             ],
             [
              0.6666666666666666,
              "#ed7953"
             ],
             [
              0.7777777777777778,
              "#fb9f3a"
             ],
             [
              0.8888888888888888,
              "#fdca26"
             ],
             [
              1,
              "#f0f921"
             ]
            ],
            "type": "histogram2dcontour"
           }
          ],
          "mesh3d": [
           {
            "colorbar": {
             "outlinewidth": 0,
             "ticks": ""
            },
            "type": "mesh3d"
           }
          ],
          "parcoords": [
           {
            "line": {
             "colorbar": {
              "outlinewidth": 0,
              "ticks": ""
             }
            },
            "type": "parcoords"
           }
          ],
          "pie": [
           {
            "automargin": true,
            "type": "pie"
           }
          ],
          "scatter": [
           {
            "marker": {
             "colorbar": {
              "outlinewidth": 0,
              "ticks": ""
             }
            },
            "type": "scatter"
           }
          ],
          "scatter3d": [
           {
            "line": {
             "colorbar": {
              "outlinewidth": 0,
              "ticks": ""
             }
            },
            "marker": {
             "colorbar": {
              "outlinewidth": 0,
              "ticks": ""
             }
            },
            "type": "scatter3d"
           }
          ],
          "scattercarpet": [
           {
            "marker": {
             "colorbar": {
              "outlinewidth": 0,
              "ticks": ""
             }
            },
            "type": "scattercarpet"
           }
          ],
          "scattergeo": [
           {
            "marker": {
             "colorbar": {
              "outlinewidth": 0,
              "ticks": ""
             }
            },
            "type": "scattergeo"
           }
          ],
          "scattergl": [
           {
            "marker": {
             "colorbar": {
              "outlinewidth": 0,
              "ticks": ""
             }
            },
            "type": "scattergl"
           }
          ],
          "scattermapbox": [
           {
            "marker": {
             "colorbar": {
              "outlinewidth": 0,
              "ticks": ""
             }
            },
            "type": "scattermapbox"
           }
          ],
          "scatterpolar": [
           {
            "marker": {
             "colorbar": {
              "outlinewidth": 0,
              "ticks": ""
             }
            },
            "type": "scatterpolar"
           }
          ],
          "scatterpolargl": [
           {
            "marker": {
             "colorbar": {
              "outlinewidth": 0,
              "ticks": ""
             }
            },
            "type": "scatterpolargl"
           }
          ],
          "scatterternary": [
           {
            "marker": {
             "colorbar": {
              "outlinewidth": 0,
              "ticks": ""
             }
            },
            "type": "scatterternary"
           }
          ],
          "surface": [
           {
            "colorbar": {
             "outlinewidth": 0,
             "ticks": ""
            },
            "colorscale": [
             [
              0,
              "#0d0887"
             ],
             [
              0.1111111111111111,
              "#46039f"
             ],
             [
              0.2222222222222222,
              "#7201a8"
             ],
             [
              0.3333333333333333,
              "#9c179e"
             ],
             [
              0.4444444444444444,
              "#bd3786"
             ],
             [
              0.5555555555555556,
              "#d8576b"
             ],
             [
              0.6666666666666666,
              "#ed7953"
             ],
             [
              0.7777777777777778,
              "#fb9f3a"
             ],
             [
              0.8888888888888888,
              "#fdca26"
             ],
             [
              1,
              "#f0f921"
             ]
            ],
            "type": "surface"
           }
          ],
          "table": [
           {
            "cells": {
             "fill": {
              "color": "#EBF0F8"
             },
             "line": {
              "color": "white"
             }
            },
            "header": {
             "fill": {
              "color": "#C8D4E3"
             },
             "line": {
              "color": "white"
             }
            },
            "type": "table"
           }
          ]
         },
         "layout": {
          "annotationdefaults": {
           "arrowcolor": "#2a3f5f",
           "arrowhead": 0,
           "arrowwidth": 1
          },
          "autotypenumbers": "strict",
          "coloraxis": {
           "colorbar": {
            "outlinewidth": 0,
            "ticks": ""
           }
          },
          "colorscale": {
           "diverging": [
            [
             0,
             "#8e0152"
            ],
            [
             0.1,
             "#c51b7d"
            ],
            [
             0.2,
             "#de77ae"
            ],
            [
             0.3,
             "#f1b6da"
            ],
            [
             0.4,
             "#fde0ef"
            ],
            [
             0.5,
             "#f7f7f7"
            ],
            [
             0.6,
             "#e6f5d0"
            ],
            [
             0.7,
             "#b8e186"
            ],
            [
             0.8,
             "#7fbc41"
            ],
            [
             0.9,
             "#4d9221"
            ],
            [
             1,
             "#276419"
            ]
           ],
           "sequential": [
            [
             0,
             "#0d0887"
            ],
            [
             0.1111111111111111,
             "#46039f"
            ],
            [
             0.2222222222222222,
             "#7201a8"
            ],
            [
             0.3333333333333333,
             "#9c179e"
            ],
            [
             0.4444444444444444,
             "#bd3786"
            ],
            [
             0.5555555555555556,
             "#d8576b"
            ],
            [
             0.6666666666666666,
             "#ed7953"
            ],
            [
             0.7777777777777778,
             "#fb9f3a"
            ],
            [
             0.8888888888888888,
             "#fdca26"
            ],
            [
             1,
             "#f0f921"
            ]
           ],
           "sequentialminus": [
            [
             0,
             "#0d0887"
            ],
            [
             0.1111111111111111,
             "#46039f"
            ],
            [
             0.2222222222222222,
             "#7201a8"
            ],
            [
             0.3333333333333333,
             "#9c179e"
            ],
            [
             0.4444444444444444,
             "#bd3786"
            ],
            [
             0.5555555555555556,
             "#d8576b"
            ],
            [
             0.6666666666666666,
             "#ed7953"
            ],
            [
             0.7777777777777778,
             "#fb9f3a"
            ],
            [
             0.8888888888888888,
             "#fdca26"
            ],
            [
             1,
             "#f0f921"
            ]
           ]
          },
          "colorway": [
           "#636efa",
           "#EF553B",
           "#00cc96",
           "#ab63fa",
           "#FFA15A",
           "#19d3f3",
           "#FF6692",
           "#B6E880",
           "#FF97FF",
           "#FECB52"
          ],
          "font": {
           "color": "#2a3f5f"
          },
          "geo": {
           "bgcolor": "white",
           "lakecolor": "white",
           "landcolor": "#E5ECF6",
           "showlakes": true,
           "showland": true,
           "subunitcolor": "white"
          },
          "hoverlabel": {
           "align": "left"
          },
          "hovermode": "closest",
          "mapbox": {
           "style": "light"
          },
          "paper_bgcolor": "white",
          "plot_bgcolor": "#E5ECF6",
          "polar": {
           "angularaxis": {
            "gridcolor": "white",
            "linecolor": "white",
            "ticks": ""
           },
           "bgcolor": "#E5ECF6",
           "radialaxis": {
            "gridcolor": "white",
            "linecolor": "white",
            "ticks": ""
           }
          },
          "scene": {
           "xaxis": {
            "backgroundcolor": "#E5ECF6",
            "gridcolor": "white",
            "gridwidth": 2,
            "linecolor": "white",
            "showbackground": true,
            "ticks": "",
            "zerolinecolor": "white"
           },
           "yaxis": {
            "backgroundcolor": "#E5ECF6",
            "gridcolor": "white",
            "gridwidth": 2,
            "linecolor": "white",
            "showbackground": true,
            "ticks": "",
            "zerolinecolor": "white"
           },
           "zaxis": {
            "backgroundcolor": "#E5ECF6",
            "gridcolor": "white",
            "gridwidth": 2,
            "linecolor": "white",
            "showbackground": true,
            "ticks": "",
            "zerolinecolor": "white"
           }
          },
          "shapedefaults": {
           "line": {
            "color": "#2a3f5f"
           }
          },
          "ternary": {
           "aaxis": {
            "gridcolor": "white",
            "linecolor": "white",
            "ticks": ""
           },
           "baxis": {
            "gridcolor": "white",
            "linecolor": "white",
            "ticks": ""
           },
           "bgcolor": "#E5ECF6",
           "caxis": {
            "gridcolor": "white",
            "linecolor": "white",
            "ticks": ""
           }
          },
          "title": {
           "x": 0.05
          },
          "xaxis": {
           "automargin": true,
           "gridcolor": "white",
           "linecolor": "white",
           "ticks": "",
           "title": {
            "standoff": 15
           },
           "zerolinecolor": "white",
           "zerolinewidth": 2
          },
          "yaxis": {
           "automargin": true,
           "gridcolor": "white",
           "linecolor": "white",
           "ticks": "",
           "title": {
            "standoff": 15
           },
           "zerolinecolor": "white",
           "zerolinewidth": 2
          }
         }
        },
        "xaxis": {
         "anchor": "y",
         "domain": [
          0,
          1
         ],
         "title": {
          "text": "yr"
         }
        },
        "yaxis": {
         "anchor": "x",
         "domain": [
          0,
          1
         ],
         "title": {
          "text": "lg_hr_rate"
         }
        }
       }
      }
     },
     "metadata": {},
     "output_type": "display_data"
    }
   ],
   "source": [
    "px.scatter(years, y='lg_hr_rate')"
   ]
  },
  {
   "cell_type": "code",
   "execution_count": 7,
   "metadata": {},
   "outputs": [
    {
     "data": {
      "application/vnd.plotly.v1+json": {
       "config": {
        "plotlyServerURL": "https://plot.ly"
       },
       "data": [
        {
         "hovertemplate": "yr=%{x}<br>mean_high=%{y}<extra></extra>",
         "legendgroup": "",
         "marker": {
          "color": "#636efa",
          "symbol": "circle"
         },
         "mode": "markers",
         "name": "",
         "orientation": "v",
         "showlegend": false,
         "type": "scatter",
         "x": [
          1947,
          1948,
          1949,
          1950,
          1951,
          1952,
          1953,
          1954,
          1955,
          1956,
          1957,
          1958,
          1959,
          1960,
          1961,
          1962,
          1963,
          1964,
          1965,
          1966,
          1967,
          1968,
          1969,
          1970,
          1971,
          1972,
          1973,
          1974,
          1975,
          1976,
          1977,
          1978,
          1979,
          1980,
          1982,
          1983,
          1984,
          1985,
          1986,
          1987,
          1988,
          1989,
          1990,
          1991,
          1992,
          1993,
          1996,
          1997,
          1998,
          1999,
          2000,
          2001,
          2002,
          2003,
          2004,
          2005,
          2006,
          2007,
          2008,
          2009,
          2010,
          2011,
          2012,
          2013,
          2014,
          2015,
          2016,
          2017,
          2018,
          2019
         ],
         "xaxis": "x",
         "y": [
          4.125,
          3.8125,
          4.375,
          4.8125,
          4.0625,
          3.625,
          4.1875,
          4.6875,
          4.75,
          4.75,
          4.6875,
          4.25,
          4.375,
          4.0625,
          4.944444444444445,
          4.55,
          4.25,
          4.3,
          4.35,
          4.55,
          4.15,
          3.6,
          4.208333333333333,
          4.583333333333333,
          3.9166666666666665,
          3.9166666666666665,
          4.041666666666667,
          4.208333333333333,
          3.8333333333333335,
          3.8333333333333335,
          4.730769230769231,
          3.9615384615384617,
          4.653846153846154,
          4.346153846153846,
          3.8846153846153846,
          4.153846153846154,
          3.8076923076923075,
          4.3076923076923075,
          4.230769230769231,
          5,
          4.076923076923077,
          4.153846153846154,
          4.384615384615385,
          4.1923076923076925,
          3.6153846153846154,
          4.464285714285714,
          5.107142857142857,
          4.928571428571429,
          4.833333333333333,
          5.2,
          5.2,
          4.966666666666667,
          5.366666666666666,
          5.1,
          5.233333333333333,
          4.766666666666667,
          5.333333333333333,
          4.8,
          4.8,
          4.733333333333333,
          4.633333333333334,
          4.733333333333333,
          4.766666666666667,
          4.966666666666667,
          4.733333333333333,
          4.8,
          5.233333333333333,
          5.366666666666666,
          5.033333333333333,
          6.033333333333333
         ],
         "yaxis": "y"
        }
       ],
       "layout": {
        "legend": {
         "tracegroupgap": 0
        },
        "margin": {
         "t": 60
        },
        "template": {
         "data": {
          "bar": [
           {
            "error_x": {
             "color": "#2a3f5f"
            },
            "error_y": {
             "color": "#2a3f5f"
            },
            "marker": {
             "line": {
              "color": "#E5ECF6",
              "width": 0.5
             }
            },
            "type": "bar"
           }
          ],
          "barpolar": [
           {
            "marker": {
             "line": {
              "color": "#E5ECF6",
              "width": 0.5
             }
            },
            "type": "barpolar"
           }
          ],
          "carpet": [
           {
            "aaxis": {
             "endlinecolor": "#2a3f5f",
             "gridcolor": "white",
             "linecolor": "white",
             "minorgridcolor": "white",
             "startlinecolor": "#2a3f5f"
            },
            "baxis": {
             "endlinecolor": "#2a3f5f",
             "gridcolor": "white",
             "linecolor": "white",
             "minorgridcolor": "white",
             "startlinecolor": "#2a3f5f"
            },
            "type": "carpet"
           }
          ],
          "choropleth": [
           {
            "colorbar": {
             "outlinewidth": 0,
             "ticks": ""
            },
            "type": "choropleth"
           }
          ],
          "contour": [
           {
            "colorbar": {
             "outlinewidth": 0,
             "ticks": ""
            },
            "colorscale": [
             [
              0,
              "#0d0887"
             ],
             [
              0.1111111111111111,
              "#46039f"
             ],
             [
              0.2222222222222222,
              "#7201a8"
             ],
             [
              0.3333333333333333,
              "#9c179e"
             ],
             [
              0.4444444444444444,
              "#bd3786"
             ],
             [
              0.5555555555555556,
              "#d8576b"
             ],
             [
              0.6666666666666666,
              "#ed7953"
             ],
             [
              0.7777777777777778,
              "#fb9f3a"
             ],
             [
              0.8888888888888888,
              "#fdca26"
             ],
             [
              1,
              "#f0f921"
             ]
            ],
            "type": "contour"
           }
          ],
          "contourcarpet": [
           {
            "colorbar": {
             "outlinewidth": 0,
             "ticks": ""
            },
            "type": "contourcarpet"
           }
          ],
          "heatmap": [
           {
            "colorbar": {
             "outlinewidth": 0,
             "ticks": ""
            },
            "colorscale": [
             [
              0,
              "#0d0887"
             ],
             [
              0.1111111111111111,
              "#46039f"
             ],
             [
              0.2222222222222222,
              "#7201a8"
             ],
             [
              0.3333333333333333,
              "#9c179e"
             ],
             [
              0.4444444444444444,
              "#bd3786"
             ],
             [
              0.5555555555555556,
              "#d8576b"
             ],
             [
              0.6666666666666666,
              "#ed7953"
             ],
             [
              0.7777777777777778,
              "#fb9f3a"
             ],
             [
              0.8888888888888888,
              "#fdca26"
             ],
             [
              1,
              "#f0f921"
             ]
            ],
            "type": "heatmap"
           }
          ],
          "heatmapgl": [
           {
            "colorbar": {
             "outlinewidth": 0,
             "ticks": ""
            },
            "colorscale": [
             [
              0,
              "#0d0887"
             ],
             [
              0.1111111111111111,
              "#46039f"
             ],
             [
              0.2222222222222222,
              "#7201a8"
             ],
             [
              0.3333333333333333,
              "#9c179e"
             ],
             [
              0.4444444444444444,
              "#bd3786"
             ],
             [
              0.5555555555555556,
              "#d8576b"
             ],
             [
              0.6666666666666666,
              "#ed7953"
             ],
             [
              0.7777777777777778,
              "#fb9f3a"
             ],
             [
              0.8888888888888888,
              "#fdca26"
             ],
             [
              1,
              "#f0f921"
             ]
            ],
            "type": "heatmapgl"
           }
          ],
          "histogram": [
           {
            "marker": {
             "colorbar": {
              "outlinewidth": 0,
              "ticks": ""
             }
            },
            "type": "histogram"
           }
          ],
          "histogram2d": [
           {
            "colorbar": {
             "outlinewidth": 0,
             "ticks": ""
            },
            "colorscale": [
             [
              0,
              "#0d0887"
             ],
             [
              0.1111111111111111,
              "#46039f"
             ],
             [
              0.2222222222222222,
              "#7201a8"
             ],
             [
              0.3333333333333333,
              "#9c179e"
             ],
             [
              0.4444444444444444,
              "#bd3786"
             ],
             [
              0.5555555555555556,
              "#d8576b"
             ],
             [
              0.6666666666666666,
              "#ed7953"
             ],
             [
              0.7777777777777778,
              "#fb9f3a"
             ],
             [
              0.8888888888888888,
              "#fdca26"
             ],
             [
              1,
              "#f0f921"
             ]
            ],
            "type": "histogram2d"
           }
          ],
          "histogram2dcontour": [
           {
            "colorbar": {
             "outlinewidth": 0,
             "ticks": ""
            },
            "colorscale": [
             [
              0,
              "#0d0887"
             ],
             [
              0.1111111111111111,
              "#46039f"
             ],
             [
              0.2222222222222222,
              "#7201a8"
             ],
             [
              0.3333333333333333,
              "#9c179e"
             ],
             [
              0.4444444444444444,
              "#bd3786"
             ],
             [
              0.5555555555555556,
              "#d8576b"
             ],
             [
              0.6666666666666666,
              "#ed7953"
             ],
             [
              0.7777777777777778,
              "#fb9f3a"
             ],
             [
              0.8888888888888888,
              "#fdca26"
             ],
             [
              1,
              "#f0f921"
             ]
            ],
            "type": "histogram2dcontour"
           }
          ],
          "mesh3d": [
           {
            "colorbar": {
             "outlinewidth": 0,
             "ticks": ""
            },
            "type": "mesh3d"
           }
          ],
          "parcoords": [
           {
            "line": {
             "colorbar": {
              "outlinewidth": 0,
              "ticks": ""
             }
            },
            "type": "parcoords"
           }
          ],
          "pie": [
           {
            "automargin": true,
            "type": "pie"
           }
          ],
          "scatter": [
           {
            "marker": {
             "colorbar": {
              "outlinewidth": 0,
              "ticks": ""
             }
            },
            "type": "scatter"
           }
          ],
          "scatter3d": [
           {
            "line": {
             "colorbar": {
              "outlinewidth": 0,
              "ticks": ""
             }
            },
            "marker": {
             "colorbar": {
              "outlinewidth": 0,
              "ticks": ""
             }
            },
            "type": "scatter3d"
           }
          ],
          "scattercarpet": [
           {
            "marker": {
             "colorbar": {
              "outlinewidth": 0,
              "ticks": ""
             }
            },
            "type": "scattercarpet"
           }
          ],
          "scattergeo": [
           {
            "marker": {
             "colorbar": {
              "outlinewidth": 0,
              "ticks": ""
             }
            },
            "type": "scattergeo"
           }
          ],
          "scattergl": [
           {
            "marker": {
             "colorbar": {
              "outlinewidth": 0,
              "ticks": ""
             }
            },
            "type": "scattergl"
           }
          ],
          "scattermapbox": [
           {
            "marker": {
             "colorbar": {
              "outlinewidth": 0,
              "ticks": ""
             }
            },
            "type": "scattermapbox"
           }
          ],
          "scatterpolar": [
           {
            "marker": {
             "colorbar": {
              "outlinewidth": 0,
              "ticks": ""
             }
            },
            "type": "scatterpolar"
           }
          ],
          "scatterpolargl": [
           {
            "marker": {
             "colorbar": {
              "outlinewidth": 0,
              "ticks": ""
             }
            },
            "type": "scatterpolargl"
           }
          ],
          "scatterternary": [
           {
            "marker": {
             "colorbar": {
              "outlinewidth": 0,
              "ticks": ""
             }
            },
            "type": "scatterternary"
           }
          ],
          "surface": [
           {
            "colorbar": {
             "outlinewidth": 0,
             "ticks": ""
            },
            "colorscale": [
             [
              0,
              "#0d0887"
             ],
             [
              0.1111111111111111,
              "#46039f"
             ],
             [
              0.2222222222222222,
              "#7201a8"
             ],
             [
              0.3333333333333333,
              "#9c179e"
             ],
             [
              0.4444444444444444,
              "#bd3786"
             ],
             [
              0.5555555555555556,
              "#d8576b"
             ],
             [
              0.6666666666666666,
              "#ed7953"
             ],
             [
              0.7777777777777778,
              "#fb9f3a"
             ],
             [
              0.8888888888888888,
              "#fdca26"
             ],
             [
              1,
              "#f0f921"
             ]
            ],
            "type": "surface"
           }
          ],
          "table": [
           {
            "cells": {
             "fill": {
              "color": "#EBF0F8"
             },
             "line": {
              "color": "white"
             }
            },
            "header": {
             "fill": {
              "color": "#C8D4E3"
             },
             "line": {
              "color": "white"
             }
            },
            "type": "table"
           }
          ]
         },
         "layout": {
          "annotationdefaults": {
           "arrowcolor": "#2a3f5f",
           "arrowhead": 0,
           "arrowwidth": 1
          },
          "autotypenumbers": "strict",
          "coloraxis": {
           "colorbar": {
            "outlinewidth": 0,
            "ticks": ""
           }
          },
          "colorscale": {
           "diverging": [
            [
             0,
             "#8e0152"
            ],
            [
             0.1,
             "#c51b7d"
            ],
            [
             0.2,
             "#de77ae"
            ],
            [
             0.3,
             "#f1b6da"
            ],
            [
             0.4,
             "#fde0ef"
            ],
            [
             0.5,
             "#f7f7f7"
            ],
            [
             0.6,
             "#e6f5d0"
            ],
            [
             0.7,
             "#b8e186"
            ],
            [
             0.8,
             "#7fbc41"
            ],
            [
             0.9,
             "#4d9221"
            ],
            [
             1,
             "#276419"
            ]
           ],
           "sequential": [
            [
             0,
             "#0d0887"
            ],
            [
             0.1111111111111111,
             "#46039f"
            ],
            [
             0.2222222222222222,
             "#7201a8"
            ],
            [
             0.3333333333333333,
             "#9c179e"
            ],
            [
             0.4444444444444444,
             "#bd3786"
            ],
            [
             0.5555555555555556,
             "#d8576b"
            ],
            [
             0.6666666666666666,
             "#ed7953"
            ],
            [
             0.7777777777777778,
             "#fb9f3a"
            ],
            [
             0.8888888888888888,
             "#fdca26"
            ],
            [
             1,
             "#f0f921"
            ]
           ],
           "sequentialminus": [
            [
             0,
             "#0d0887"
            ],
            [
             0.1111111111111111,
             "#46039f"
            ],
            [
             0.2222222222222222,
             "#7201a8"
            ],
            [
             0.3333333333333333,
             "#9c179e"
            ],
            [
             0.4444444444444444,
             "#bd3786"
            ],
            [
             0.5555555555555556,
             "#d8576b"
            ],
            [
             0.6666666666666666,
             "#ed7953"
            ],
            [
             0.7777777777777778,
             "#fb9f3a"
            ],
            [
             0.8888888888888888,
             "#fdca26"
            ],
            [
             1,
             "#f0f921"
            ]
           ]
          },
          "colorway": [
           "#636efa",
           "#EF553B",
           "#00cc96",
           "#ab63fa",
           "#FFA15A",
           "#19d3f3",
           "#FF6692",
           "#B6E880",
           "#FF97FF",
           "#FECB52"
          ],
          "font": {
           "color": "#2a3f5f"
          },
          "geo": {
           "bgcolor": "white",
           "lakecolor": "white",
           "landcolor": "#E5ECF6",
           "showlakes": true,
           "showland": true,
           "subunitcolor": "white"
          },
          "hoverlabel": {
           "align": "left"
          },
          "hovermode": "closest",
          "mapbox": {
           "style": "light"
          },
          "paper_bgcolor": "white",
          "plot_bgcolor": "#E5ECF6",
          "polar": {
           "angularaxis": {
            "gridcolor": "white",
            "linecolor": "white",
            "ticks": ""
           },
           "bgcolor": "#E5ECF6",
           "radialaxis": {
            "gridcolor": "white",
            "linecolor": "white",
            "ticks": ""
           }
          },
          "scene": {
           "xaxis": {
            "backgroundcolor": "#E5ECF6",
            "gridcolor": "white",
            "gridwidth": 2,
            "linecolor": "white",
            "showbackground": true,
            "ticks": "",
            "zerolinecolor": "white"
           },
           "yaxis": {
            "backgroundcolor": "#E5ECF6",
            "gridcolor": "white",
            "gridwidth": 2,
            "linecolor": "white",
            "showbackground": true,
            "ticks": "",
            "zerolinecolor": "white"
           },
           "zaxis": {
            "backgroundcolor": "#E5ECF6",
            "gridcolor": "white",
            "gridwidth": 2,
            "linecolor": "white",
            "showbackground": true,
            "ticks": "",
            "zerolinecolor": "white"
           }
          },
          "shapedefaults": {
           "line": {
            "color": "#2a3f5f"
           }
          },
          "ternary": {
           "aaxis": {
            "gridcolor": "white",
            "linecolor": "white",
            "ticks": ""
           },
           "baxis": {
            "gridcolor": "white",
            "linecolor": "white",
            "ticks": ""
           },
           "bgcolor": "#E5ECF6",
           "caxis": {
            "gridcolor": "white",
            "linecolor": "white",
            "ticks": ""
           }
          },
          "title": {
           "x": 0.05
          },
          "xaxis": {
           "automargin": true,
           "gridcolor": "white",
           "linecolor": "white",
           "ticks": "",
           "title": {
            "standoff": 15
           },
           "zerolinecolor": "white",
           "zerolinewidth": 2
          },
          "yaxis": {
           "automargin": true,
           "gridcolor": "white",
           "linecolor": "white",
           "ticks": "",
           "title": {
            "standoff": 15
           },
           "zerolinecolor": "white",
           "zerolinewidth": 2
          }
         }
        },
        "xaxis": {
         "anchor": "y",
         "domain": [
          0,
          1
         ],
         "title": {
          "text": "yr"
         }
        },
        "yaxis": {
         "anchor": "x",
         "domain": [
          0,
          1
         ],
         "title": {
          "text": "mean_high"
         }
        }
       }
      }
     },
     "metadata": {},
     "output_type": "display_data"
    }
   ],
   "source": [
    "px.scatter(years, y='mean_high')"
   ]
  },
  {
   "cell_type": "code",
   "execution_count": 8,
   "metadata": {},
   "outputs": [
    {
     "data": {
      "application/vnd.plotly.v1+json": {
       "config": {
        "plotlyServerURL": "https://plot.ly"
       },
       "data": [
        {
         "name": "lg_hr_rate",
         "type": "scatter",
         "x": [
          1947,
          1948,
          1949,
          1950,
          1951,
          1952,
          1953,
          1954,
          1955,
          1956,
          1957,
          1958,
          1959,
          1960,
          1961,
          1962,
          1963,
          1964,
          1965,
          1966,
          1967,
          1968,
          1969,
          1970,
          1971,
          1972,
          1973,
          1974,
          1975,
          1976,
          1977,
          1978,
          1979,
          1980,
          1982,
          1983,
          1984,
          1985,
          1986,
          1987,
          1988,
          1989,
          1990,
          1991,
          1992,
          1993,
          1996,
          1997,
          1998,
          1999,
          2000,
          2001,
          2002,
          2003,
          2004,
          2005,
          2006,
          2007,
          2008,
          2009,
          2010,
          2011,
          2012,
          2013,
          2014,
          2015,
          2016,
          2017,
          2018,
          2019
         ],
         "xaxis": "x",
         "y": [
          0.6291142012871179,
          0.6281046587557498,
          0.6867845891609247,
          0.8371880261639398,
          0.7507693114994646,
          0.6869560561946786,
          0.8367837796783696,
          0.7837234785823496,
          0.9016958847604009,
          0.9259143808044569,
          0.8916270807518436,
          0.9070706563887304,
          0.9088000244995057,
          0.8608718902065676,
          0.9545692102041179,
          0.9254040988077288,
          0.8353980814636989,
          0.8491667405597028,
          0.8282112758925816,
          0.8492498395676581,
          0.7094816372821944,
          0.6135861655277673,
          0.8014174150143742,
          0.8818708112482749,
          0.7387404163266983,
          0.6816127561383728,
          0.7981622063747668,
          0.680814854566744,
          0.6978883580535863,
          0.576439587725022,
          0.8663283844443265,
          0.7030325315304088,
          0.8189036149075021,
          0.7333143981297378,
          0.8016563834559745,
          0.7827212929462418,
          0.7737774707633337,
          0.8564641974440144,
          0.9063162993919529,
          1.0589369031398017,
          0.7572230397422671,
          0.7320739443705906,
          0.7878539871293495,
          0.8039658761126153,
          0.7212725546058879,
          0.8880652124517155,
          1.0943341672837792,
          1.023846495119787,
          1.04102927545327,
          1.1382317118780174,
          1.1719022387941507,
          1.1235577537509904,
          1.0425798123865757,
          1.0713054815793324,
          1.1223295759527645,
          1.0318210507712893,
          1.1086739258236842,
          1.0195271276730036,
          1.004510448328059,
          1.0373659430874689,
          0.9491769547325103,
          0.9369718579863507,
          1.0152263374485597,
          0.9586230402181323,
          0.8613168724279835,
          1.010455486542443,
          1.1551465889630141,
          1.2561728395061729,
          1.1484934489291205,
          1.394661707946732
         ],
         "yaxis": "y"
        },
        {
         "name": "mean_high",
         "type": "scatter",
         "x": [
          1947,
          1948,
          1949,
          1950,
          1951,
          1952,
          1953,
          1954,
          1955,
          1956,
          1957,
          1958,
          1959,
          1960,
          1961,
          1962,
          1963,
          1964,
          1965,
          1966,
          1967,
          1968,
          1969,
          1970,
          1971,
          1972,
          1973,
          1974,
          1975,
          1976,
          1977,
          1978,
          1979,
          1980,
          1982,
          1983,
          1984,
          1985,
          1986,
          1987,
          1988,
          1989,
          1990,
          1991,
          1992,
          1993,
          1996,
          1997,
          1998,
          1999,
          2000,
          2001,
          2002,
          2003,
          2004,
          2005,
          2006,
          2007,
          2008,
          2009,
          2010,
          2011,
          2012,
          2013,
          2014,
          2015,
          2016,
          2017,
          2018,
          2019
         ],
         "xaxis": "x",
         "y": [
          4.125,
          3.8125,
          4.375,
          4.8125,
          4.0625,
          3.625,
          4.1875,
          4.6875,
          4.75,
          4.75,
          4.6875,
          4.25,
          4.375,
          4.0625,
          4.944444444444445,
          4.55,
          4.25,
          4.3,
          4.35,
          4.55,
          4.15,
          3.6,
          4.208333333333333,
          4.583333333333333,
          3.9166666666666665,
          3.9166666666666665,
          4.041666666666667,
          4.208333333333333,
          3.8333333333333335,
          3.8333333333333335,
          4.730769230769231,
          3.9615384615384617,
          4.653846153846154,
          4.346153846153846,
          3.8846153846153846,
          4.153846153846154,
          3.8076923076923075,
          4.3076923076923075,
          4.230769230769231,
          5,
          4.076923076923077,
          4.153846153846154,
          4.384615384615385,
          4.1923076923076925,
          3.6153846153846154,
          4.464285714285714,
          5.107142857142857,
          4.928571428571429,
          4.833333333333333,
          5.2,
          5.2,
          4.966666666666667,
          5.366666666666666,
          5.1,
          5.233333333333333,
          4.766666666666667,
          5.333333333333333,
          4.8,
          4.8,
          4.733333333333333,
          4.633333333333334,
          4.733333333333333,
          4.766666666666667,
          4.966666666666667,
          4.733333333333333,
          4.8,
          5.233333333333333,
          5.366666666666666,
          5.033333333333333,
          6.033333333333333
         ],
         "yaxis": "y2"
        }
       ],
       "layout": {
        "template": {
         "data": {
          "bar": [
           {
            "error_x": {
             "color": "#2a3f5f"
            },
            "error_y": {
             "color": "#2a3f5f"
            },
            "marker": {
             "line": {
              "color": "#E5ECF6",
              "width": 0.5
             }
            },
            "type": "bar"
           }
          ],
          "barpolar": [
           {
            "marker": {
             "line": {
              "color": "#E5ECF6",
              "width": 0.5
             }
            },
            "type": "barpolar"
           }
          ],
          "carpet": [
           {
            "aaxis": {
             "endlinecolor": "#2a3f5f",
             "gridcolor": "white",
             "linecolor": "white",
             "minorgridcolor": "white",
             "startlinecolor": "#2a3f5f"
            },
            "baxis": {
             "endlinecolor": "#2a3f5f",
             "gridcolor": "white",
             "linecolor": "white",
             "minorgridcolor": "white",
             "startlinecolor": "#2a3f5f"
            },
            "type": "carpet"
           }
          ],
          "choropleth": [
           {
            "colorbar": {
             "outlinewidth": 0,
             "ticks": ""
            },
            "type": "choropleth"
           }
          ],
          "contour": [
           {
            "colorbar": {
             "outlinewidth": 0,
             "ticks": ""
            },
            "colorscale": [
             [
              0,
              "#0d0887"
             ],
             [
              0.1111111111111111,
              "#46039f"
             ],
             [
              0.2222222222222222,
              "#7201a8"
             ],
             [
              0.3333333333333333,
              "#9c179e"
             ],
             [
              0.4444444444444444,
              "#bd3786"
             ],
             [
              0.5555555555555556,
              "#d8576b"
             ],
             [
              0.6666666666666666,
              "#ed7953"
             ],
             [
              0.7777777777777778,
              "#fb9f3a"
             ],
             [
              0.8888888888888888,
              "#fdca26"
             ],
             [
              1,
              "#f0f921"
             ]
            ],
            "type": "contour"
           }
          ],
          "contourcarpet": [
           {
            "colorbar": {
             "outlinewidth": 0,
             "ticks": ""
            },
            "type": "contourcarpet"
           }
          ],
          "heatmap": [
           {
            "colorbar": {
             "outlinewidth": 0,
             "ticks": ""
            },
            "colorscale": [
             [
              0,
              "#0d0887"
             ],
             [
              0.1111111111111111,
              "#46039f"
             ],
             [
              0.2222222222222222,
              "#7201a8"
             ],
             [
              0.3333333333333333,
              "#9c179e"
             ],
             [
              0.4444444444444444,
              "#bd3786"
             ],
             [
              0.5555555555555556,
              "#d8576b"
             ],
             [
              0.6666666666666666,
              "#ed7953"
             ],
             [
              0.7777777777777778,
              "#fb9f3a"
             ],
             [
              0.8888888888888888,
              "#fdca26"
             ],
             [
              1,
              "#f0f921"
             ]
            ],
            "type": "heatmap"
           }
          ],
          "heatmapgl": [
           {
            "colorbar": {
             "outlinewidth": 0,
             "ticks": ""
            },
            "colorscale": [
             [
              0,
              "#0d0887"
             ],
             [
              0.1111111111111111,
              "#46039f"
             ],
             [
              0.2222222222222222,
              "#7201a8"
             ],
             [
              0.3333333333333333,
              "#9c179e"
             ],
             [
              0.4444444444444444,
              "#bd3786"
             ],
             [
              0.5555555555555556,
              "#d8576b"
             ],
             [
              0.6666666666666666,
              "#ed7953"
             ],
             [
              0.7777777777777778,
              "#fb9f3a"
             ],
             [
              0.8888888888888888,
              "#fdca26"
             ],
             [
              1,
              "#f0f921"
             ]
            ],
            "type": "heatmapgl"
           }
          ],
          "histogram": [
           {
            "marker": {
             "colorbar": {
              "outlinewidth": 0,
              "ticks": ""
             }
            },
            "type": "histogram"
           }
          ],
          "histogram2d": [
           {
            "colorbar": {
             "outlinewidth": 0,
             "ticks": ""
            },
            "colorscale": [
             [
              0,
              "#0d0887"
             ],
             [
              0.1111111111111111,
              "#46039f"
             ],
             [
              0.2222222222222222,
              "#7201a8"
             ],
             [
              0.3333333333333333,
              "#9c179e"
             ],
             [
              0.4444444444444444,
              "#bd3786"
             ],
             [
              0.5555555555555556,
              "#d8576b"
             ],
             [
              0.6666666666666666,
              "#ed7953"
             ],
             [
              0.7777777777777778,
              "#fb9f3a"
             ],
             [
              0.8888888888888888,
              "#fdca26"
             ],
             [
              1,
              "#f0f921"
             ]
            ],
            "type": "histogram2d"
           }
          ],
          "histogram2dcontour": [
           {
            "colorbar": {
             "outlinewidth": 0,
             "ticks": ""
            },
            "colorscale": [
             [
              0,
              "#0d0887"
             ],
             [
              0.1111111111111111,
              "#46039f"
             ],
             [
              0.2222222222222222,
              "#7201a8"
             ],
             [
              0.3333333333333333,
              "#9c179e"
             ],
             [
              0.4444444444444444,
              "#bd3786"
             ],
             [
              0.5555555555555556,
              "#d8576b"
             ],
             [
              0.6666666666666666,
              "#ed7953"
             ],
             [
              0.7777777777777778,
              "#fb9f3a"
             ],
             [
              0.8888888888888888,
              "#fdca26"
             ],
             [
              1,
              "#f0f921"
             ]
            ],
            "type": "histogram2dcontour"
           }
          ],
          "mesh3d": [
           {
            "colorbar": {
             "outlinewidth": 0,
             "ticks": ""
            },
            "type": "mesh3d"
           }
          ],
          "parcoords": [
           {
            "line": {
             "colorbar": {
              "outlinewidth": 0,
              "ticks": ""
             }
            },
            "type": "parcoords"
           }
          ],
          "pie": [
           {
            "automargin": true,
            "type": "pie"
           }
          ],
          "scatter": [
           {
            "marker": {
             "colorbar": {
              "outlinewidth": 0,
              "ticks": ""
             }
            },
            "type": "scatter"
           }
          ],
          "scatter3d": [
           {
            "line": {
             "colorbar": {
              "outlinewidth": 0,
              "ticks": ""
             }
            },
            "marker": {
             "colorbar": {
              "outlinewidth": 0,
              "ticks": ""
             }
            },
            "type": "scatter3d"
           }
          ],
          "scattercarpet": [
           {
            "marker": {
             "colorbar": {
              "outlinewidth": 0,
              "ticks": ""
             }
            },
            "type": "scattercarpet"
           }
          ],
          "scattergeo": [
           {
            "marker": {
             "colorbar": {
              "outlinewidth": 0,
              "ticks": ""
             }
            },
            "type": "scattergeo"
           }
          ],
          "scattergl": [
           {
            "marker": {
             "colorbar": {
              "outlinewidth": 0,
              "ticks": ""
             }
            },
            "type": "scattergl"
           }
          ],
          "scattermapbox": [
           {
            "marker": {
             "colorbar": {
              "outlinewidth": 0,
              "ticks": ""
             }
            },
            "type": "scattermapbox"
           }
          ],
          "scatterpolar": [
           {
            "marker": {
             "colorbar": {
              "outlinewidth": 0,
              "ticks": ""
             }
            },
            "type": "scatterpolar"
           }
          ],
          "scatterpolargl": [
           {
            "marker": {
             "colorbar": {
              "outlinewidth": 0,
              "ticks": ""
             }
            },
            "type": "scatterpolargl"
           }
          ],
          "scatterternary": [
           {
            "marker": {
             "colorbar": {
              "outlinewidth": 0,
              "ticks": ""
             }
            },
            "type": "scatterternary"
           }
          ],
          "surface": [
           {
            "colorbar": {
             "outlinewidth": 0,
             "ticks": ""
            },
            "colorscale": [
             [
              0,
              "#0d0887"
             ],
             [
              0.1111111111111111,
              "#46039f"
             ],
             [
              0.2222222222222222,
              "#7201a8"
             ],
             [
              0.3333333333333333,
              "#9c179e"
             ],
             [
              0.4444444444444444,
              "#bd3786"
             ],
             [
              0.5555555555555556,
              "#d8576b"
             ],
             [
              0.6666666666666666,
              "#ed7953"
             ],
             [
              0.7777777777777778,
              "#fb9f3a"
             ],
             [
              0.8888888888888888,
              "#fdca26"
             ],
             [
              1,
              "#f0f921"
             ]
            ],
            "type": "surface"
           }
          ],
          "table": [
           {
            "cells": {
             "fill": {
              "color": "#EBF0F8"
             },
             "line": {
              "color": "white"
             }
            },
            "header": {
             "fill": {
              "color": "#C8D4E3"
             },
             "line": {
              "color": "white"
             }
            },
            "type": "table"
           }
          ]
         },
         "layout": {
          "annotationdefaults": {
           "arrowcolor": "#2a3f5f",
           "arrowhead": 0,
           "arrowwidth": 1
          },
          "autotypenumbers": "strict",
          "coloraxis": {
           "colorbar": {
            "outlinewidth": 0,
            "ticks": ""
           }
          },
          "colorscale": {
           "diverging": [
            [
             0,
             "#8e0152"
            ],
            [
             0.1,
             "#c51b7d"
            ],
            [
             0.2,
             "#de77ae"
            ],
            [
             0.3,
             "#f1b6da"
            ],
            [
             0.4,
             "#fde0ef"
            ],
            [
             0.5,
             "#f7f7f7"
            ],
            [
             0.6,
             "#e6f5d0"
            ],
            [
             0.7,
             "#b8e186"
            ],
            [
             0.8,
             "#7fbc41"
            ],
            [
             0.9,
             "#4d9221"
            ],
            [
             1,
             "#276419"
            ]
           ],
           "sequential": [
            [
             0,
             "#0d0887"
            ],
            [
             0.1111111111111111,
             "#46039f"
            ],
            [
             0.2222222222222222,
             "#7201a8"
            ],
            [
             0.3333333333333333,
             "#9c179e"
            ],
            [
             0.4444444444444444,
             "#bd3786"
            ],
            [
             0.5555555555555556,
             "#d8576b"
            ],
            [
             0.6666666666666666,
             "#ed7953"
            ],
            [
             0.7777777777777778,
             "#fb9f3a"
            ],
            [
             0.8888888888888888,
             "#fdca26"
            ],
            [
             1,
             "#f0f921"
            ]
           ],
           "sequentialminus": [
            [
             0,
             "#0d0887"
            ],
            [
             0.1111111111111111,
             "#46039f"
            ],
            [
             0.2222222222222222,
             "#7201a8"
            ],
            [
             0.3333333333333333,
             "#9c179e"
            ],
            [
             0.4444444444444444,
             "#bd3786"
            ],
            [
             0.5555555555555556,
             "#d8576b"
            ],
            [
             0.6666666666666666,
             "#ed7953"
            ],
            [
             0.7777777777777778,
             "#fb9f3a"
            ],
            [
             0.8888888888888888,
             "#fdca26"
            ],
            [
             1,
             "#f0f921"
            ]
           ]
          },
          "colorway": [
           "#636efa",
           "#EF553B",
           "#00cc96",
           "#ab63fa",
           "#FFA15A",
           "#19d3f3",
           "#FF6692",
           "#B6E880",
           "#FF97FF",
           "#FECB52"
          ],
          "font": {
           "color": "#2a3f5f"
          },
          "geo": {
           "bgcolor": "white",
           "lakecolor": "white",
           "landcolor": "#E5ECF6",
           "showlakes": true,
           "showland": true,
           "subunitcolor": "white"
          },
          "hoverlabel": {
           "align": "left"
          },
          "hovermode": "closest",
          "mapbox": {
           "style": "light"
          },
          "paper_bgcolor": "white",
          "plot_bgcolor": "#E5ECF6",
          "polar": {
           "angularaxis": {
            "gridcolor": "white",
            "linecolor": "white",
            "ticks": ""
           },
           "bgcolor": "#E5ECF6",
           "radialaxis": {
            "gridcolor": "white",
            "linecolor": "white",
            "ticks": ""
           }
          },
          "scene": {
           "xaxis": {
            "backgroundcolor": "#E5ECF6",
            "gridcolor": "white",
            "gridwidth": 2,
            "linecolor": "white",
            "showbackground": true,
            "ticks": "",
            "zerolinecolor": "white"
           },
           "yaxis": {
            "backgroundcolor": "#E5ECF6",
            "gridcolor": "white",
            "gridwidth": 2,
            "linecolor": "white",
            "showbackground": true,
            "ticks": "",
            "zerolinecolor": "white"
           },
           "zaxis": {
            "backgroundcolor": "#E5ECF6",
            "gridcolor": "white",
            "gridwidth": 2,
            "linecolor": "white",
            "showbackground": true,
            "ticks": "",
            "zerolinecolor": "white"
           }
          },
          "shapedefaults": {
           "line": {
            "color": "#2a3f5f"
           }
          },
          "ternary": {
           "aaxis": {
            "gridcolor": "white",
            "linecolor": "white",
            "ticks": ""
           },
           "baxis": {
            "gridcolor": "white",
            "linecolor": "white",
            "ticks": ""
           },
           "bgcolor": "#E5ECF6",
           "caxis": {
            "gridcolor": "white",
            "linecolor": "white",
            "ticks": ""
           }
          },
          "title": {
           "x": 0.05
          },
          "xaxis": {
           "automargin": true,
           "gridcolor": "white",
           "linecolor": "white",
           "ticks": "",
           "title": {
            "standoff": 15
           },
           "zerolinecolor": "white",
           "zerolinewidth": 2
          },
          "yaxis": {
           "automargin": true,
           "gridcolor": "white",
           "linecolor": "white",
           "ticks": "",
           "title": {
            "standoff": 15
           },
           "zerolinecolor": "white",
           "zerolinewidth": 2
          }
         }
        },
        "xaxis": {
         "anchor": "y",
         "domain": [
          0,
          0.94
         ]
        },
        "yaxis": {
         "anchor": "x",
         "domain": [
          0,
          1
         ]
        },
        "yaxis2": {
         "anchor": "x",
         "overlaying": "y",
         "side": "right"
        }
       }
      }
     },
     "metadata": {},
     "output_type": "display_data"
    }
   ],
   "source": [
    "def make_dual_axis_plot(df, ys):\n",
    "    # Create figure with secondary y-axis\n",
    "    fig = make_subplots(specs=[[{\"secondary_y\": True}]])\n",
    "\n",
    "    # Add traces\n",
    "    for (i, y_col) in enumerate(ys):\n",
    "        y = df[y_col]\n",
    "        fig.add_trace(go.Scatter(x=df.index, y=y, name=y.name), secondary_y=i)\n",
    "\n",
    "    return fig\n",
    "\n",
    "make_dual_axis_plot(years, ['lg_hr_rate', 'mean_high'])"
   ]
  },
  {
   "cell_type": "code",
   "execution_count": 9,
   "metadata": {},
   "outputs": [
    {
     "data": {
      "application/vnd.plotly.v1+json": {
       "config": {
        "plotlyServerURL": "https://plot.ly"
       },
       "data": [
        {
         "hovertemplate": "lg_hr_rate=%{x}<br>mean_high=%{y}<extra></extra>",
         "legendgroup": "",
         "marker": {
          "color": "#636efa",
          "symbol": "circle"
         },
         "mode": "markers",
         "name": "",
         "orientation": "v",
         "showlegend": false,
         "type": "scatter",
         "x": [
          0.6291142012871179,
          0.6281046587557498,
          0.6867845891609247,
          0.8371880261639398,
          0.7507693114994646,
          0.6869560561946786,
          0.8367837796783696,
          0.7837234785823496,
          0.9016958847604009,
          0.9259143808044569,
          0.8916270807518436,
          0.9070706563887304,
          0.9088000244995057,
          0.8608718902065676,
          0.9545692102041179,
          0.9254040988077288,
          0.8353980814636989,
          0.8491667405597028,
          0.8282112758925816,
          0.8492498395676581,
          0.7094816372821944,
          0.6135861655277673,
          0.8014174150143742,
          0.8818708112482749,
          0.7387404163266983,
          0.6816127561383728,
          0.7981622063747668,
          0.680814854566744,
          0.6978883580535863,
          0.576439587725022,
          0.8663283844443265,
          0.7030325315304088,
          0.8189036149075021,
          0.7333143981297378,
          0.8016563834559745,
          0.7827212929462418,
          0.7737774707633337,
          0.8564641974440144,
          0.9063162993919529,
          1.0589369031398017,
          0.7572230397422671,
          0.7320739443705906,
          0.7878539871293495,
          0.8039658761126153,
          0.7212725546058879,
          0.8880652124517155,
          1.0943341672837792,
          1.023846495119787,
          1.04102927545327,
          1.1382317118780174,
          1.1719022387941507,
          1.1235577537509904,
          1.0425798123865757,
          1.0713054815793324,
          1.1223295759527645,
          1.0318210507712893,
          1.1086739258236842,
          1.0195271276730036,
          1.004510448328059,
          1.0373659430874689,
          0.9491769547325103,
          0.9369718579863507,
          1.0152263374485597,
          0.9586230402181323,
          0.8613168724279835,
          1.010455486542443,
          1.1551465889630141,
          1.2561728395061729,
          1.1484934489291205,
          1.394661707946732
         ],
         "xaxis": "x",
         "y": [
          4.125,
          3.8125,
          4.375,
          4.8125,
          4.0625,
          3.625,
          4.1875,
          4.6875,
          4.75,
          4.75,
          4.6875,
          4.25,
          4.375,
          4.0625,
          4.944444444444445,
          4.55,
          4.25,
          4.3,
          4.35,
          4.55,
          4.15,
          3.6,
          4.208333333333333,
          4.583333333333333,
          3.9166666666666665,
          3.9166666666666665,
          4.041666666666667,
          4.208333333333333,
          3.8333333333333335,
          3.8333333333333335,
          4.730769230769231,
          3.9615384615384617,
          4.653846153846154,
          4.346153846153846,
          3.8846153846153846,
          4.153846153846154,
          3.8076923076923075,
          4.3076923076923075,
          4.230769230769231,
          5,
          4.076923076923077,
          4.153846153846154,
          4.384615384615385,
          4.1923076923076925,
          3.6153846153846154,
          4.464285714285714,
          5.107142857142857,
          4.928571428571429,
          4.833333333333333,
          5.2,
          5.2,
          4.966666666666667,
          5.366666666666666,
          5.1,
          5.233333333333333,
          4.766666666666667,
          5.333333333333333,
          4.8,
          4.8,
          4.733333333333333,
          4.633333333333334,
          4.733333333333333,
          4.766666666666667,
          4.966666666666667,
          4.733333333333333,
          4.8,
          5.233333333333333,
          5.366666666666666,
          5.033333333333333,
          6.033333333333333
         ],
         "yaxis": "y"
        }
       ],
       "layout": {
        "legend": {
         "tracegroupgap": 0
        },
        "margin": {
         "t": 60
        },
        "template": {
         "data": {
          "bar": [
           {
            "error_x": {
             "color": "#2a3f5f"
            },
            "error_y": {
             "color": "#2a3f5f"
            },
            "marker": {
             "line": {
              "color": "#E5ECF6",
              "width": 0.5
             }
            },
            "type": "bar"
           }
          ],
          "barpolar": [
           {
            "marker": {
             "line": {
              "color": "#E5ECF6",
              "width": 0.5
             }
            },
            "type": "barpolar"
           }
          ],
          "carpet": [
           {
            "aaxis": {
             "endlinecolor": "#2a3f5f",
             "gridcolor": "white",
             "linecolor": "white",
             "minorgridcolor": "white",
             "startlinecolor": "#2a3f5f"
            },
            "baxis": {
             "endlinecolor": "#2a3f5f",
             "gridcolor": "white",
             "linecolor": "white",
             "minorgridcolor": "white",
             "startlinecolor": "#2a3f5f"
            },
            "type": "carpet"
           }
          ],
          "choropleth": [
           {
            "colorbar": {
             "outlinewidth": 0,
             "ticks": ""
            },
            "type": "choropleth"
           }
          ],
          "contour": [
           {
            "colorbar": {
             "outlinewidth": 0,
             "ticks": ""
            },
            "colorscale": [
             [
              0,
              "#0d0887"
             ],
             [
              0.1111111111111111,
              "#46039f"
             ],
             [
              0.2222222222222222,
              "#7201a8"
             ],
             [
              0.3333333333333333,
              "#9c179e"
             ],
             [
              0.4444444444444444,
              "#bd3786"
             ],
             [
              0.5555555555555556,
              "#d8576b"
             ],
             [
              0.6666666666666666,
              "#ed7953"
             ],
             [
              0.7777777777777778,
              "#fb9f3a"
             ],
             [
              0.8888888888888888,
              "#fdca26"
             ],
             [
              1,
              "#f0f921"
             ]
            ],
            "type": "contour"
           }
          ],
          "contourcarpet": [
           {
            "colorbar": {
             "outlinewidth": 0,
             "ticks": ""
            },
            "type": "contourcarpet"
           }
          ],
          "heatmap": [
           {
            "colorbar": {
             "outlinewidth": 0,
             "ticks": ""
            },
            "colorscale": [
             [
              0,
              "#0d0887"
             ],
             [
              0.1111111111111111,
              "#46039f"
             ],
             [
              0.2222222222222222,
              "#7201a8"
             ],
             [
              0.3333333333333333,
              "#9c179e"
             ],
             [
              0.4444444444444444,
              "#bd3786"
             ],
             [
              0.5555555555555556,
              "#d8576b"
             ],
             [
              0.6666666666666666,
              "#ed7953"
             ],
             [
              0.7777777777777778,
              "#fb9f3a"
             ],
             [
              0.8888888888888888,
              "#fdca26"
             ],
             [
              1,
              "#f0f921"
             ]
            ],
            "type": "heatmap"
           }
          ],
          "heatmapgl": [
           {
            "colorbar": {
             "outlinewidth": 0,
             "ticks": ""
            },
            "colorscale": [
             [
              0,
              "#0d0887"
             ],
             [
              0.1111111111111111,
              "#46039f"
             ],
             [
              0.2222222222222222,
              "#7201a8"
             ],
             [
              0.3333333333333333,
              "#9c179e"
             ],
             [
              0.4444444444444444,
              "#bd3786"
             ],
             [
              0.5555555555555556,
              "#d8576b"
             ],
             [
              0.6666666666666666,
              "#ed7953"
             ],
             [
              0.7777777777777778,
              "#fb9f3a"
             ],
             [
              0.8888888888888888,
              "#fdca26"
             ],
             [
              1,
              "#f0f921"
             ]
            ],
            "type": "heatmapgl"
           }
          ],
          "histogram": [
           {
            "marker": {
             "colorbar": {
              "outlinewidth": 0,
              "ticks": ""
             }
            },
            "type": "histogram"
           }
          ],
          "histogram2d": [
           {
            "colorbar": {
             "outlinewidth": 0,
             "ticks": ""
            },
            "colorscale": [
             [
              0,
              "#0d0887"
             ],
             [
              0.1111111111111111,
              "#46039f"
             ],
             [
              0.2222222222222222,
              "#7201a8"
             ],
             [
              0.3333333333333333,
              "#9c179e"
             ],
             [
              0.4444444444444444,
              "#bd3786"
             ],
             [
              0.5555555555555556,
              "#d8576b"
             ],
             [
              0.6666666666666666,
              "#ed7953"
             ],
             [
              0.7777777777777778,
              "#fb9f3a"
             ],
             [
              0.8888888888888888,
              "#fdca26"
             ],
             [
              1,
              "#f0f921"
             ]
            ],
            "type": "histogram2d"
           }
          ],
          "histogram2dcontour": [
           {
            "colorbar": {
             "outlinewidth": 0,
             "ticks": ""
            },
            "colorscale": [
             [
              0,
              "#0d0887"
             ],
             [
              0.1111111111111111,
              "#46039f"
             ],
             [
              0.2222222222222222,
              "#7201a8"
             ],
             [
              0.3333333333333333,
              "#9c179e"
             ],
             [
              0.4444444444444444,
              "#bd3786"
             ],
             [
              0.5555555555555556,
              "#d8576b"
             ],
             [
              0.6666666666666666,
              "#ed7953"
             ],
             [
              0.7777777777777778,
              "#fb9f3a"
             ],
             [
              0.8888888888888888,
              "#fdca26"
             ],
             [
              1,
              "#f0f921"
             ]
            ],
            "type": "histogram2dcontour"
           }
          ],
          "mesh3d": [
           {
            "colorbar": {
             "outlinewidth": 0,
             "ticks": ""
            },
            "type": "mesh3d"
           }
          ],
          "parcoords": [
           {
            "line": {
             "colorbar": {
              "outlinewidth": 0,
              "ticks": ""
             }
            },
            "type": "parcoords"
           }
          ],
          "pie": [
           {
            "automargin": true,
            "type": "pie"
           }
          ],
          "scatter": [
           {
            "marker": {
             "colorbar": {
              "outlinewidth": 0,
              "ticks": ""
             }
            },
            "type": "scatter"
           }
          ],
          "scatter3d": [
           {
            "line": {
             "colorbar": {
              "outlinewidth": 0,
              "ticks": ""
             }
            },
            "marker": {
             "colorbar": {
              "outlinewidth": 0,
              "ticks": ""
             }
            },
            "type": "scatter3d"
           }
          ],
          "scattercarpet": [
           {
            "marker": {
             "colorbar": {
              "outlinewidth": 0,
              "ticks": ""
             }
            },
            "type": "scattercarpet"
           }
          ],
          "scattergeo": [
           {
            "marker": {
             "colorbar": {
              "outlinewidth": 0,
              "ticks": ""
             }
            },
            "type": "scattergeo"
           }
          ],
          "scattergl": [
           {
            "marker": {
             "colorbar": {
              "outlinewidth": 0,
              "ticks": ""
             }
            },
            "type": "scattergl"
           }
          ],
          "scattermapbox": [
           {
            "marker": {
             "colorbar": {
              "outlinewidth": 0,
              "ticks": ""
             }
            },
            "type": "scattermapbox"
           }
          ],
          "scatterpolar": [
           {
            "marker": {
             "colorbar": {
              "outlinewidth": 0,
              "ticks": ""
             }
            },
            "type": "scatterpolar"
           }
          ],
          "scatterpolargl": [
           {
            "marker": {
             "colorbar": {
              "outlinewidth": 0,
              "ticks": ""
             }
            },
            "type": "scatterpolargl"
           }
          ],
          "scatterternary": [
           {
            "marker": {
             "colorbar": {
              "outlinewidth": 0,
              "ticks": ""
             }
            },
            "type": "scatterternary"
           }
          ],
          "surface": [
           {
            "colorbar": {
             "outlinewidth": 0,
             "ticks": ""
            },
            "colorscale": [
             [
              0,
              "#0d0887"
             ],
             [
              0.1111111111111111,
              "#46039f"
             ],
             [
              0.2222222222222222,
              "#7201a8"
             ],
             [
              0.3333333333333333,
              "#9c179e"
             ],
             [
              0.4444444444444444,
              "#bd3786"
             ],
             [
              0.5555555555555556,
              "#d8576b"
             ],
             [
              0.6666666666666666,
              "#ed7953"
             ],
             [
              0.7777777777777778,
              "#fb9f3a"
             ],
             [
              0.8888888888888888,
              "#fdca26"
             ],
             [
              1,
              "#f0f921"
             ]
            ],
            "type": "surface"
           }
          ],
          "table": [
           {
            "cells": {
             "fill": {
              "color": "#EBF0F8"
             },
             "line": {
              "color": "white"
             }
            },
            "header": {
             "fill": {
              "color": "#C8D4E3"
             },
             "line": {
              "color": "white"
             }
            },
            "type": "table"
           }
          ]
         },
         "layout": {
          "annotationdefaults": {
           "arrowcolor": "#2a3f5f",
           "arrowhead": 0,
           "arrowwidth": 1
          },
          "autotypenumbers": "strict",
          "coloraxis": {
           "colorbar": {
            "outlinewidth": 0,
            "ticks": ""
           }
          },
          "colorscale": {
           "diverging": [
            [
             0,
             "#8e0152"
            ],
            [
             0.1,
             "#c51b7d"
            ],
            [
             0.2,
             "#de77ae"
            ],
            [
             0.3,
             "#f1b6da"
            ],
            [
             0.4,
             "#fde0ef"
            ],
            [
             0.5,
             "#f7f7f7"
            ],
            [
             0.6,
             "#e6f5d0"
            ],
            [
             0.7,
             "#b8e186"
            ],
            [
             0.8,
             "#7fbc41"
            ],
            [
             0.9,
             "#4d9221"
            ],
            [
             1,
             "#276419"
            ]
           ],
           "sequential": [
            [
             0,
             "#0d0887"
            ],
            [
             0.1111111111111111,
             "#46039f"
            ],
            [
             0.2222222222222222,
             "#7201a8"
            ],
            [
             0.3333333333333333,
             "#9c179e"
            ],
            [
             0.4444444444444444,
             "#bd3786"
            ],
            [
             0.5555555555555556,
             "#d8576b"
            ],
            [
             0.6666666666666666,
             "#ed7953"
            ],
            [
             0.7777777777777778,
             "#fb9f3a"
            ],
            [
             0.8888888888888888,
             "#fdca26"
            ],
            [
             1,
             "#f0f921"
            ]
           ],
           "sequentialminus": [
            [
             0,
             "#0d0887"
            ],
            [
             0.1111111111111111,
             "#46039f"
            ],
            [
             0.2222222222222222,
             "#7201a8"
            ],
            [
             0.3333333333333333,
             "#9c179e"
            ],
            [
             0.4444444444444444,
             "#bd3786"
            ],
            [
             0.5555555555555556,
             "#d8576b"
            ],
            [
             0.6666666666666666,
             "#ed7953"
            ],
            [
             0.7777777777777778,
             "#fb9f3a"
            ],
            [
             0.8888888888888888,
             "#fdca26"
            ],
            [
             1,
             "#f0f921"
            ]
           ]
          },
          "colorway": [
           "#636efa",
           "#EF553B",
           "#00cc96",
           "#ab63fa",
           "#FFA15A",
           "#19d3f3",
           "#FF6692",
           "#B6E880",
           "#FF97FF",
           "#FECB52"
          ],
          "font": {
           "color": "#2a3f5f"
          },
          "geo": {
           "bgcolor": "white",
           "lakecolor": "white",
           "landcolor": "#E5ECF6",
           "showlakes": true,
           "showland": true,
           "subunitcolor": "white"
          },
          "hoverlabel": {
           "align": "left"
          },
          "hovermode": "closest",
          "mapbox": {
           "style": "light"
          },
          "paper_bgcolor": "white",
          "plot_bgcolor": "#E5ECF6",
          "polar": {
           "angularaxis": {
            "gridcolor": "white",
            "linecolor": "white",
            "ticks": ""
           },
           "bgcolor": "#E5ECF6",
           "radialaxis": {
            "gridcolor": "white",
            "linecolor": "white",
            "ticks": ""
           }
          },
          "scene": {
           "xaxis": {
            "backgroundcolor": "#E5ECF6",
            "gridcolor": "white",
            "gridwidth": 2,
            "linecolor": "white",
            "showbackground": true,
            "ticks": "",
            "zerolinecolor": "white"
           },
           "yaxis": {
            "backgroundcolor": "#E5ECF6",
            "gridcolor": "white",
            "gridwidth": 2,
            "linecolor": "white",
            "showbackground": true,
            "ticks": "",
            "zerolinecolor": "white"
           },
           "zaxis": {
            "backgroundcolor": "#E5ECF6",
            "gridcolor": "white",
            "gridwidth": 2,
            "linecolor": "white",
            "showbackground": true,
            "ticks": "",
            "zerolinecolor": "white"
           }
          },
          "shapedefaults": {
           "line": {
            "color": "#2a3f5f"
           }
          },
          "ternary": {
           "aaxis": {
            "gridcolor": "white",
            "linecolor": "white",
            "ticks": ""
           },
           "baxis": {
            "gridcolor": "white",
            "linecolor": "white",
            "ticks": ""
           },
           "bgcolor": "#E5ECF6",
           "caxis": {
            "gridcolor": "white",
            "linecolor": "white",
            "ticks": ""
           }
          },
          "title": {
           "x": 0.05
          },
          "xaxis": {
           "automargin": true,
           "gridcolor": "white",
           "linecolor": "white",
           "ticks": "",
           "title": {
            "standoff": 15
           },
           "zerolinecolor": "white",
           "zerolinewidth": 2
          },
          "yaxis": {
           "automargin": true,
           "gridcolor": "white",
           "linecolor": "white",
           "ticks": "",
           "title": {
            "standoff": 15
           },
           "zerolinecolor": "white",
           "zerolinewidth": 2
          }
         }
        },
        "xaxis": {
         "anchor": "y",
         "domain": [
          0,
          1
         ],
         "title": {
          "text": "lg_hr_rate"
         }
        },
        "yaxis": {
         "anchor": "x",
         "domain": [
          0,
          1
         ],
         "title": {
          "text": "mean_high"
         }
        }
       }
      }
     },
     "metadata": {},
     "output_type": "display_data"
    }
   ],
   "source": [
    "px.scatter(years, x='lg_hr_rate', y='mean_high')"
   ]
  },
  {
   "cell_type": "code",
   "execution_count": 10,
   "metadata": {},
   "outputs": [
    {
     "data": {
      "application/vnd.plotly.v1+json": {
       "config": {
        "plotlyServerURL": "https://plot.ly"
       },
       "data": [
        {
         "hovertemplate": "mean=%{x}<br>max=%{y}<extra></extra>",
         "legendgroup": "",
         "marker": {
          "color": "#636efa",
          "symbol": "circle"
         },
         "mode": "markers",
         "name": "",
         "showlegend": false,
         "type": "scattergl",
         "x": [
          0.6560509554140127,
          0.535483870967742,
          0.551948051948052,
          0.3419354838709677,
          0.45806451612903226,
          0.6168831168831169,
          0.7133757961783439,
          0.6518987341772152,
          1.4258064516129032,
          0.7419354838709677,
          0.391025641025641,
          0.3870967741935484,
          1,
          0.5844155844155844,
          0.7371794871794872,
          0.2727272727272727,
          0.7806451612903226,
          0.5870967741935483,
          0.6168831168831169,
          0.35714285714285715,
          0.5612903225806452,
          0.6797385620915033,
          0.9935897435897436,
          0.5064935064935064,
          1.0580645161290323,
          0.9025974025974026,
          0.44155844155844154,
          0.5870967741935483,
          0.6923076923076923,
          0.4064516129032258,
          0.6774193548387096,
          0.2012987012987013,
          0.8451612903225807,
          0.9743589743589743,
          0.6560509554140127,
          0.2792207792207792,
          0.6298701298701299,
          0.5512820512820513,
          0.7272727272727273,
          0.567741935483871,
          0.9423076923076923,
          0.7419354838709677,
          0.5324675324675324,
          0.7922077922077922,
          0.8181818181818182,
          0.7548387096774194,
          0.6496815286624203,
          0.525974025974026,
          1.0454545454545454,
          1.2516129032258065,
          0.9487179487179487,
          0.5961538461538461,
          1.0454545454545454,
          0.6470588235294118,
          1.0580645161290323,
          0.7261146496815286,
          0.8636363636363636,
          1.0258064516129033,
          0.6493506493506493,
          0.7961783439490446,
          0.8961038961038961,
          0.6883116883116883,
          0.6666666666666666,
          0.49032258064516127,
          0.8246753246753247,
          1.1645569620253164,
          0.8387096774193549,
          0.5548387096774193,
          0.6645161290322581,
          0.567741935483871,
          0.9032258064516129,
          0.6753246753246753,
          1.1401273885350318,
          0.9090909090909091,
          0.6623376623376623,
          0.7012987012987013,
          0.8838709677419355,
          0.5584415584415584,
          0.6129032258064516,
          0.35064935064935066,
          0.7337662337662337,
          0.9870967741935484,
          0.7096774193548387,
          0.5128205128205128,
          0.6903225806451613,
          0.6753246753246753,
          0.9548387096774194,
          0.6602564102564102,
          0.9805194805194806,
          0.8376623376623377,
          0.5741935483870968,
          0.6038961038961039,
          0.5935483870967742,
          0.5290322580645161,
          0.6298701298701299,
          0.3184713375796178,
          0.6601307189542484,
          1.3419354838709678,
          0.47435897435897434,
          0.8838709677419355,
          1.070967741935484,
          1.032258064516129,
          0.6835443037974683,
          0.9936305732484076,
          1.135483870967742,
          0.9205298013245033,
          0.7388535031847133,
          0.7371794871794872,
          0.6428571428571429,
          0.7272727272727273,
          0.89171974522293,
          0.45394736842105265,
          0.33766233766233766,
          0.7884615384615384,
          1.2077922077922079,
          0.6064516129032258,
          1.0324675324675325,
          0.9545454545454546,
          1,
          0.5806451612903226,
          0.9025974025974026,
          1.2077922077922079,
          0.8580645161290322,
          0.6025641025641025,
          0.6666666666666666,
          0.4935064935064935,
          0.7777777777777778,
          0.5225806451612903,
          0.34615384615384615,
          0.8896103896103896,
          1.3051948051948052,
          0.7483870967741936,
          1.0649350649350648,
          1.1753246753246753,
          0.961038961038961,
          0.8441558441558441,
          0.7806451612903226,
          1.1818181818181819,
          1.0974025974025974,
          1.1363636363636365,
          0.8571428571428571,
          0.5909090909090909,
          0.9285714285714286,
          0.5194805194805194,
          0.5909090909090909,
          0.896774193548387,
          1.1623376623376624,
          0.8311688311688312,
          0.9044585987261147,
          1.4258064516129032,
          0.9870967741935484,
          0.967741935483871,
          0.7272727272727273,
          1.1419354838709677,
          0.9415584415584416,
          1.2337662337662338,
          0.7857142857142857,
          0.7006369426751592,
          0.7948717948717948,
          0.7225806451612903,
          0.564935064935065,
          0.9935064935064936,
          0.9545454545454546,
          0.6838709677419355,
          0.9423076923076923,
          1.2142857142857142,
          0.9150326797385621,
          0.7532467532467533,
          1.077922077922078,
          1.2838709677419355,
          1.0194805194805194,
          0.9415584415584416,
          0.75,
          0.5935483870967742,
          0.8571428571428571,
          0.7207792207792207,
          0.7012987012987013,
          1,
          0.6516129032258065,
          1.1818181818181819,
          0.7987012987012987,
          1.0522875816993464,
          0.7077922077922078,
          0.8846153846153846,
          1.1168831168831168,
          1.0844155844155845,
          1.0580645161290323,
          0.8051948051948052,
          0.8701298701298701,
          1.103896103896104,
          0.7207792207792207,
          0.7756410256410257,
          0.7032258064516129,
          0.8116883116883117,
          0.6217948717948718,
          1.0516129032258064,
          1.0454545454545454,
          1.0844155844155845,
          1.0389610389610389,
          0.7597402597402597,
          0.9487179487179487,
          1.127388535031847,
          0.9870967741935484,
          0.7290322580645161,
          0.7225806451612903,
          1.0844155844155845,
          0.7662337662337663,
          1.0584415584415585,
          0.7987012987012987,
          0.8051948051948052,
          0.7272727272727273,
          0.7628205128205128,
          0.9090909090909091,
          0.8246753246753247,
          0.974025974025974,
          0.7096774193548387,
          0.8181818181818182,
          1.103896103896104,
          1.2451612903225806,
          0.6428571428571429,
          0.7741935483870968,
          0.8333333333333334,
          0.8903225806451613,
          0.9545454545454546,
          0.9141104294478528,
          0.6871165644171779,
          0.8466257668711656,
          1.1282051282051282,
          1.025974025974026,
          0.9316770186335404,
          1.1042944785276074,
          0.5555555555555556,
          1.1666666666666667,
          1.0194805194805194,
          1.0372670807453417,
          1.2129032258064516,
          1.4723926380368098,
          0.6645161290322581,
          0.8311688311688312,
          1.1806451612903226,
          0.6645161290322581,
          0.7391304347826086,
          0.9629629629629629,
          0.9125,
          0.5679012345679012,
          0.7777777777777778,
          1.0308641975308641,
          1.1111111111111112,
          1.2981366459627328,
          0.6481481481481481,
          0.7160493827160493,
          0.845679012345679,
          0.8484848484848485,
          1.1349693251533743,
          1.117283950617284,
          1.228395061728395,
          0.8633540372670807,
          0.8819875776397516,
          0.6708074534161491,
          1.2363636363636363,
          0.8404907975460123,
          0.8148148148148148,
          0.9012345679012346,
          1.062111801242236,
          0.7037037037037037,
          0.7839506172839507,
          0.7530864197530864,
          1.0432098765432098,
          0.9135802469135802,
          0.38271604938271603,
          0.5864197530864198,
          0.5900621118012422,
          0.6748466257668712,
          1.3975155279503106,
          0.852760736196319,
          1.1677018633540373,
          0.5925925925925926,
          0.7777777777777778,
          0.6666666666666666,
          1.2160493827160495,
          0.7901234567901234,
          0.8518518518518519,
          0.9938650306748467,
          1.1481481481481481,
          0.654320987654321,
          0.8950617283950617,
          0.7975460122699386,
          1,
          0.9631901840490797,
          0.43209876543209874,
          1.01840490797546,
          0.6296296296296297,
          0.4817073170731707,
          1.3558282208588956,
          0.9814814814814815,
          0.9878048780487805,
          0.6319018404907976,
          0.8024691358024691,
          0.7469135802469136,
          1.0185185185185186,
          0.6728395061728395,
          0.7716049382716049,
          0.7716049382716049,
          1.0185185185185186,
          0.5679012345679012,
          0.7716049382716049,
          0.8170731707317073,
          1.1296296296296295,
          0.9629629629629629,
          1,
          0.5987654320987654,
          0.6790123456790124,
          0.48148148148148145,
          0.9259259259259259,
          1.2098765432098766,
          0.9197530864197531,
          0.6524390243902439,
          0.8888888888888888,
          0.6809815950920245,
          0.9754601226993865,
          0.6728395061728395,
          0.8395061728395061,
          1.2699386503067485,
          1.09375,
          0.8950617283950617,
          0.7530864197530864,
          0.5337423312883436,
          0.8641975308641975,
          0.93125,
          0.9567901234567902,
          1.1049382716049383,
          0.6871165644171779,
          0.4375,
          0.6666666666666666,
          0.8888888888888888,
          1.0125,
          0.6086956521739131,
          0.7222222222222222,
          0.9753086419753086,
          1.124223602484472,
          0.6666666666666666,
          0.7924528301886793,
          0.9753086419753086,
          0.8571428571428571,
          0.9753086419753086,
          0.7080745341614907,
          0.5493827160493827,
          0.7901234567901234,
          0.6728395061728395,
          0.808641975308642,
          0.9325153374233128,
          0.5740740740740741,
          0.42857142857142855,
          0.5061728395061729,
          0.7987804878048781,
          0.6134969325153374,
          0.5123456790123457,
          0.6358024691358025,
          0.558282208588957,
          0.8641975308641975,
          0.7142857142857143,
          0.7142857142857143,
          0.49079754601226994,
          0.8209876543209876,
          0.7716049382716049,
          0.5123456790123457,
          0.4382716049382716,
          0.7975460122699386,
          0.6503067484662577,
          0.46296296296296297,
          1.1280487804878048,
          0.4074074074074074,
          0.41358024691358025,
          0.6481481481481481,
          0.6646341463414634,
          0.49693251533742333,
          0.5766871165644172,
          0.6172839506172839,
          0.49079754601226994,
          0.6625766871165644,
          0.4506172839506173,
          0.7701863354037267,
          0.8703703703703703,
          1.0802469135802468,
          1.2160493827160495,
          0.5398773006134969,
          0.691358024691358,
          0.8711656441717791,
          1.049079754601227,
          0.7391304347826086,
          1.123456790123457,
          0.6419753086419753,
          0.6012269938650306,
          0.5987654320987654,
          1.0061728395061729,
          0.7716049382716049,
          0.5802469135802469,
          0.6728395061728395,
          0.9135802469135802,
          0.845679012345679,
          0.7345679012345679,
          0.6111111111111112,
          0.7668711656441718,
          0.8395061728395061,
          0.5555555555555556,
          0.9135802469135802,
          0.9876543209876543,
          1.1049382716049383,
          1.2530864197530864,
          0.7037037037037037,
          0.7592592592592593,
          1.1049382716049383,
          1.1790123456790123,
          1.1296296296296295,
          0.9135802469135802,
          0.7962962962962963,
          0.5987654320987654,
          0.5403726708074534,
          0.7730061349693251,
          0.9444444444444444,
          0.8395061728395061,
          0.6809815950920245,
          0.7407407407407407,
          1.0555555555555556,
          0.6273291925465838,
          0.8024691358024691,
          1.0617283950617284,
          1.0185185185185186,
          0.6975308641975309,
          0.8518518518518519,
          0.9444444444444444,
          1,
          0.9938271604938271,
          0.5925925925925926,
          0.8518518518518519,
          0.7901234567901234,
          0.8518518518518519,
          0.6728395061728395,
          1.1049382716049383,
          0.4382716049382716,
          0.4968944099378882,
          0.5864197530864198,
          0.6459627329192547,
          0.725,
          0.5432098765432098,
          0.5987654320987654,
          0.6049382716049383,
          0.9937888198757764,
          0.7592592592592593,
          0.9506172839506173,
          0.5962732919254659,
          0.8641975308641975,
          0.5828220858895705,
          0.5408805031446541,
          0.9290322580645162,
          0.6493506493506493,
          0.8,
          0.5032258064516129,
          0.7012987012987013,
          0.8525641025641025,
          0.8051948051948052,
          0.5833333333333334,
          0.782051282051282,
          0.8758169934640523,
          0.5064935064935064,
          0.632258064516129,
          0.5641025641025641,
          0.6038961038961039,
          0.5833333333333334,
          0.6645161290322581,
          0.6730769230769231,
          0.864516129032258,
          0.6282051282051282,
          0.7096774193548387,
          0.6666666666666666,
          0.967741935483871,
          0.44871794871794873,
          0.36363636363636365,
          1.271604938271605,
          0.7345679012345679,
          0.9074074074074074,
          0.5740740740740741,
          0.6851851851851852,
          0.7267080745341615,
          0.845679012345679,
          0.9753086419753086,
          0.9691358024691358,
          0.8271604938271605,
          0.7037037037037037,
          0.6790123456790124,
          0.8950617283950617,
          0.7407407407407407,
          0.7716049382716049,
          0.808641975308642,
          0.5279503105590062,
          0.9074074074074074,
          0.8271604938271605,
          0.9506172839506173,
          0.691358024691358,
          0.9938271604938271,
          0.46296296296296297,
          0.6790123456790124,
          0.7361963190184049,
          0.7160493827160493,
          0.6728395061728395,
          0.5828220858895705,
          0.8282208588957055,
          0.6790123456790124,
          0.8282208588957055,
          0.808641975308642,
          0.808641975308642,
          0.6790123456790124,
          0.5493827160493827,
          0.8580246913580247,
          0.7407407407407407,
          0.6809815950920245,
          0.5341614906832298,
          0.6234567901234568,
          0.5925925925925926,
          0.8148148148148148,
          0.5864197530864198,
          0.7037037037037037,
          0.6111111111111112,
          0.5740740740740741,
          0.515527950310559,
          0.6149068322981367,
          0.6645962732919255,
          0.779874213836478,
          0.8375,
          0.3416149068322981,
          0.5838509316770186,
          0.5864197530864198,
          0.7654320987654321,
          0.9622641509433962,
          0.7861635220125787,
          0.5185185185185185,
          0.7283950617283951,
          0.7283950617283951,
          0.9012345679012346,
          0.7610062893081762,
          0.6049382716049383,
          0.6875,
          0.6234567901234568,
          0.9320987654320988,
          0.7716049382716049,
          0.8571428571428571,
          0.48148148148148145,
          0.5217391304347826,
          0.49693251533742333,
          0.8271604938271605,
          0.5061728395061729,
          0.7345679012345679,
          0.8271604938271605,
          0.3888888888888889,
          0.453416149068323,
          0.6481481481481481,
          0.8703703703703703,
          0.5345911949685535,
          0.6273291925465838,
          0.4074074074074074,
          0.4012345679012346,
          0.5617283950617284,
          0.546583850931677,
          0.5,
          0.5802469135802469,
          0.7547169811320755,
          0.6296296296296297,
          0.7018633540372671,
          0.6790123456790124,
          0.6790123456790124,
          0.3950617283950617,
          0.5246913580246914,
          0.3888888888888889,
          0.49382716049382713,
          0.8580246913580247,
          0.9192546583850931,
          1.3229813664596273,
          0.808641975308642,
          1.1851851851851851,
          0.6851851851851852,
          1.117283950617284,
          0.6211180124223602,
          1.0246913580246915,
          0.7037037037037037,
          0.9012345679012346,
          1.1790123456790123,
          0.7716049382716049,
          0.7639751552795031,
          0.8518518518518519,
          1.1358024691358024,
          0.5432098765432098,
          0.7267080745341615,
          1.1481481481481481,
          0.8209876543209876,
          0.7407407407407407,
          0.8209876543209876,
          0.8271604938271605,
          0.5925925925925926,
          0.8333333333333334,
          0.6211180124223602,
          0.7592592592592593,
          0.9565217391304348,
          1.0552147239263803,
          0.6666666666666666,
          0.6583850931677019,
          0.4444444444444444,
          0.84472049689441,
          0.6666666666666666,
          0.7962962962962963,
          0.43209876543209874,
          0.6049382716049383,
          0.9197530864197531,
          1.0679012345679013,
          0.5061728395061729,
          0.7469135802469136,
          0.7668711656441718,
          0.5308641975308642,
          0.6172839506172839,
          0.8209876543209876,
          0.7142857142857143,
          0.46296296296296297,
          0.60625,
          0.7222222222222222,
          0.4876543209876543,
          0.8148148148148148,
          0.6086956521739131,
          0.7875,
          1.1383647798742138,
          1.2125,
          1.0123456790123457,
          0.7987421383647799,
          0.8333333333333334,
          0.8198757763975155,
          0.8571428571428571,
          1.025,
          0.30246913580246915,
          0.7160493827160493,
          1.1296296296296295,
          1.1490683229813665,
          0.691358024691358,
          0.89375,
          0.9375,
          0.4539877300613497,
          0.6666666666666666,
          0.7300613496932515,
          0.9079754601226994,
          0.577639751552795,
          0.8148148148148148,
          0.7716049382716049,
          0.6134969325153374,
          0.8641975308641975,
          0.5864197530864198,
          0.8944099378881988,
          0.9629629629629629,
          1.0125,
          0.6625,
          0.5617283950617284,
          0.6604938271604939,
          0.6932515337423313,
          0.55625,
          0.8773006134969326,
          0.4601226993865031,
          0.7098765432098766,
          0.9079754601226994,
          1.2530864197530864,
          0.6149068322981367,
          0.7037037037037037,
          1.1666666666666667,
          0.3765432098765432,
          0.845679012345679,
          0.7222222222222222,
          0.7160493827160493,
          0.4110429447852761,
          0.6380368098159509,
          0.4968944099378882,
          0.6234567901234568,
          0.7607361963190185,
          0.7777777777777778,
          0.5981308411214953,
          0.8380952380952381,
          0.8333333333333334,
          0.8818181818181818,
          0.7169811320754716,
          0.5377358490566038,
          0.5925925925925926,
          0.3786407766990291,
          0.5963302752293578,
          0.4090909090909091,
          0.5922330097087378,
          0.7454545454545455,
          0.8807339449541285,
          0.42727272727272725,
          0.75,
          0.9345794392523364,
          0.5428571428571428,
          0.9541284403669725,
          0.6448598130841121,
          0.5339805825242718,
          0.2909090909090909,
          0.8090909090909091,
          0.5675675675675675,
          0.4854368932038835,
          0.4666666666666667,
          0.5754716981132075,
          0.9012345679012346,
          1.098159509202454,
          0.8395061728395061,
          1.1481481481481481,
          0.8395061728395061,
          0.6296296296296297,
          0.5061728395061729,
          0.6728395061728395,
          1.0925925925925926,
          0.4567901234567901,
          0.8148148148148148,
          0.8518518518518519,
          1.3251533742331287,
          0.9135802469135802,
          0.8209876543209876,
          0.9938271604938271,
          0.5987654320987654,
          0.9197530864197531,
          0.691358024691358,
          0.8271604938271605,
          0.5,
          0.8024691358024691,
          0.8209876543209876,
          0.41358024691358025,
          0.7098765432098766,
          0.654320987654321,
          0.8024691358024691,
          1.037037037037037,
          0.8765432098765432,
          0.9506172839506173,
          0.9691358024691358,
          0.8641975308641975,
          0.6604938271604939,
          0.5308641975308642,
          0.9629629629629629,
          0.5987654320987654,
          0.6687116564417178,
          0.8957055214723927,
          0.8148148148148148,
          0.8703703703703703,
          0.6257668711656442,
          0.9444444444444444,
          0.691358024691358,
          0.7469135802469136,
          0.7668711656441718,
          0.7469135802469136,
          0.5705521472392638,
          0.6851851851851852,
          0.8765432098765432,
          0.5123456790123457,
          0.6503067484662577,
          1.0308641975308641,
          0.6851851851851852,
          0.9876543209876543,
          1.117283950617284,
          0.9259259259259259,
          1.0617283950617284,
          0.84472049689441,
          0.654320987654321,
          0.754601226993865,
          1.154320987654321,
          0.4876543209876543,
          0.7222222222222222,
          0.6296296296296297,
          0.5962732919254659,
          0.7037037037037037,
          0.5962732919254659,
          0.8024691358024691,
          0.6604938271604939,
          0.9753086419753086,
          0.9074074074074074,
          0.6049382716049383,
          0.6728395061728395,
          0.7962962962962963,
          0.691358024691358,
          0.46296296296296297,
          0.7453416149068323,
          0.8773006134969326,
          0.7777777777777778,
          1.329192546583851,
          0.9938650306748467,
          0.9444444444444444,
          0.8957055214723927,
          0.9259259259259259,
          0.7037037037037037,
          0.7160493827160493,
          1.2546583850931676,
          0.7469135802469136,
          0.9506172839506173,
          0.7962962962962963,
          0.6273291925465838,
          0.8703703703703703,
          0.7329192546583851,
          1.093167701863354,
          0.8271604938271605,
          0.9567901234567902,
          0.8703703703703703,
          0.4968944099378882,
          0.6728395061728395,
          1.0555555555555556,
          0.7098765432098766,
          0.5370370370370371,
          0.8012422360248447,
          0.9813664596273292,
          0.8571428571428571,
          1.0432098765432098,
          0.8944099378881988,
          1.0308641975308641,
          0.7469135802469136,
          0.96875,
          0.8888888888888888,
          0.9631901840490797,
          1.2222222222222223,
          0.7716049382716049,
          0.845679012345679,
          0.8024691358024691,
          0.7888198757763976,
          1.2098765432098766,
          0.6832298136645962,
          1.1604938271604939,
          0.9135802469135802,
          1.0061728395061729,
          0.9565217391304348,
          0.6851851851851852,
          0.8395061728395061,
          0.9753086419753086,
          0.7037037037037037,
          0.36024844720496896,
          1.1358024691358024,
          1.1104294478527608,
          0.9440993788819876,
          1.3024691358024691,
          1.0740740740740742,
          1.0617283950617284,
          1.0679012345679013,
          1.2981366459627328,
          1.1851851851851851,
          1.154320987654321,
          1.3888888888888888,
          0.7530864197530864,
          1.037037037037037,
          0.7716049382716049,
          1.0061728395061729,
          1.2098765432098766,
          0.7407407407407407,
          1.2098765432098766,
          1.1851851851851851,
          1.228395061728395,
          1.0432098765432098,
          0.808641975308642,
          0.6975308641975309,
          0.9938271604938271,
          1.2654320987654322,
          0.5802469135802469,
          1.1975308641975309,
          1.3271604938271604,
          0.6,
          0.8509316770186336,
          0.7654320987654321,
          0.7654320987654321,
          0.8198757763975155,
          0.6932515337423313,
          0.7577639751552795,
          0.8271604938271605,
          0.8827160493827161,
          0.5925925925925926,
          0.7515527950310559,
          0.6111111111111112,
          0.6975308641975309,
          0.9320987654320988,
          0.656441717791411,
          0.9192546583850931,
          0.95,
          0.9629629629629629,
          0.654320987654321,
          0.6875,
          0.5838509316770186,
          0.9192546583850931,
          0.6975308641975309,
          0.4382716049382716,
          0.6956521739130435,
          0.9753086419753086,
          0.7950310559006211,
          0.7962962962962963,
          0.6666666666666666,
          0.8950617283950617,
          0.5838509316770186,
          0.7654320987654321,
          0.7901234567901234,
          0.7839506172839507,
          0.7160493827160493,
          0.5987654320987654,
          0.6234567901234568,
          0.55625,
          0.7777777777777778,
          0.7222222222222222,
          0.6172839506172839,
          0.8074534161490683,
          0.9074074074074074,
          0.7839506172839507,
          0.754601226993865,
          0.5792682926829268,
          0.7407407407407407,
          0.8271604938271605,
          0.8703703703703703,
          0.4451219512195122,
          0.7530864197530864,
          0.8765432098765432,
          1,
          0.8198757763975155,
          0.654320987654321,
          0.9074074074074074,
          0.654320987654321,
          0.8395061728395061,
          0.7716049382716049,
          0.6790123456790124,
          1.0617283950617284,
          0.5802469135802469,
          0.6211180124223602,
          0.7962962962962963,
          0.7901234567901234,
          0.6172839506172839,
          0.7037037037037037,
          0.9074074074074074,
          1.0617283950617284,
          1.0123456790123457,
          0.6358024691358025,
          0.8518518518518519,
          0.7592592592592593,
          0.6604938271604939,
          0.9382716049382716,
          0.4506172839506173,
          0.6790123456790124,
          1.0308641975308641,
          0.8703703703703703,
          1.0493827160493827,
          0.7777777777777778,
          0.7098765432098766,
          0.8580246913580247,
          0.99375,
          1.0123456790123457,
          0.4876543209876543,
          1.2901234567901234,
          0.4876543209876543,
          0.7222222222222222,
          0.6666666666666666,
          0.7160493827160493,
          0.8641975308641975,
          0.5900621118012422,
          0.9074074074074074,
          0.7267080745341615,
          0.9814814814814815,
          0.6851851851851852,
          0.7777777777777778,
          0.7469135802469136,
          0.7777777777777778,
          0.8703703703703703,
          0.41975308641975306,
          1.0925925925925926,
          0.8209876543209876,
          0.8518518518518519,
          0.9135802469135802,
          0.5185185185185185,
          0.5432098765432098,
          0.6790123456790124,
          0.6419753086419753,
          0.6111111111111112,
          0.7839506172839507,
          1.123456790123457,
          0.5925925925925926,
          0.46296296296296297,
          0.4444444444444444,
          0.5061728395061729,
          0.6419753086419753,
          0.6296296296296297,
          1.0061728395061729,
          0.5740740740740741,
          0.8765432098765432,
          0.7283950617283951,
          0.654320987654321,
          0.8333333333333334,
          0.9197530864197531,
          0.6481481481481481,
          0.5802469135802469,
          0.9814814814814815,
          1.0061728395061729,
          1.0432098765432098,
          0.9691358024691358,
          0.7037037037037037,
          0.7037037037037037,
          1,
          0.9877300613496932,
          0.845679012345679,
          0.8703703703703703,
          0.8765432098765432,
          1.0987654320987654,
          0.5802469135802469,
          0.8518518518518519,
          0.7716049382716049,
          0.8024691358024691,
          0.7716049382716049,
          0.7469135802469136,
          0.7484662576687117,
          1.0987654320987654,
          0.9753086419753086,
          0.9753086419753086,
          0.9629629629629629,
          0.6790123456790124,
          0.9444444444444444,
          0.9938271604938271,
          1.037037037037037,
          0.7283950617283951,
          1.117283950617284,
          0.9814814814814815,
          1.2017543859649122,
          1.2410714285714286,
          1.0434782608695652,
          1.0434782608695652,
          1.0707964601769913,
          0.9646017699115044,
          1.0782608695652174,
          1.4778761061946903,
          1.0683760683760684,
          1.4,
          0.8173913043478261,
          1.0434782608695652,
          0.8695652173913043,
          1.0087719298245614,
          0.8608695652173913,
          0.911504424778761,
          0.9473684210526315,
          1.2300884955752212,
          1.0353982300884956,
          0.9912280701754386,
          0.6956521739130435,
          0.7017543859649122,
          0.7863247863247863,
          1.3660714285714286,
          1.0695652173913044,
          0.9391304347826087,
          1.087719298245614,
          1,
          1.1666666666666667,
          1.2013888888888888,
          1.2152777777777777,
          1.282758620689655,
          1.006896551724138,
          1.0972222222222223,
          1.1180555555555556,
          1.4375,
          1.3888888888888888,
          1.1041666666666667,
          1.006993006993007,
          0.7569444444444444,
          0.8263888888888888,
          0.9722222222222222,
          0.8888888888888888,
          0.8333333333333334,
          0.8194444444444444,
          0.8413793103448276,
          0.8680555555555556,
          1.1736111111111112,
          0.6527777777777778,
          0.8680555555555556,
          0.8055555555555556,
          1.2551724137931035,
          1.0555555555555556,
          0.7482517482517482,
          0.9583333333333334,
          0.9722222222222222,
          1.2160493827160495,
          1.5766871165644172,
          1.2901234567901234,
          1.1925465838509317,
          1.2037037037037037,
          1.0802469135802468,
          1.1790123456790123,
          1.3540372670807452,
          1.3641975308641976,
          1.2592592592592593,
          0.9259259259259259,
          0.7962962962962963,
          0.7639751552795031,
          0.9259259259259259,
          1.0987654320987654,
          0.7283950617283951,
          0.9135802469135802,
          1,
          0.9074074074074074,
          1.5,
          0.8148148148148148,
          0.8518518518518519,
          0.9074074074074074,
          1.5217391304347827,
          0.9444444444444444,
          0.8765432098765432,
          1.3558282208588956,
          1.0925925925925926,
          0.9938271604938271,
          1.0740740740740742,
          1.2098765432098766,
          1.1419753086419753,
          0.9813664596273292,
          0.7839506172839507,
          0.8765432098765432,
          1.3664596273291925,
          1.4753086419753085,
          1.0864197530864197,
          0.8395061728395061,
          0.8209876543209876,
          0.9813664596273292,
          1.0740740740740742,
          0.8385093167701864,
          0.8148148148148148,
          1.0617283950617284,
          0.9938271604938271,
          0.9444444444444444,
          1.2160493827160495,
          0.7160493827160493,
          0.7962962962962963,
          0.9382716049382716,
          1.6296296296296295,
          1.0617283950617284,
          0.8888888888888888,
          1.154320987654321,
          0.9074074074074074,
          0.9074074074074074,
          0.9814814814814815,
          1.3271604938271604,
          1.3209876543209877,
          1.2654320987654322,
          1.2147239263803682,
          1.3006134969325154,
          0.8518518518518519,
          1.2222222222222223,
          1.1296296296296295,
          1.0185185185185186,
          0.7037037037037037,
          1.0246913580246915,
          0.8322981366459627,
          0.9814814814814815,
          0.9382716049382716,
          0.7098765432098766,
          0.9074074074074074,
          1.2777777777777777,
          0.8395061728395061,
          0.9197530864197531,
          0.7777777777777778,
          0.656441717791411,
          1.0308641975308641,
          1.453416149068323,
          0.9877300613496932,
          1.3680981595092025,
          0.6851851851851852,
          1.2407407407407407,
          1.3558282208588956,
          0.9753086419753086,
          1.3333333333333333,
          1.2160493827160495,
          1.2530864197530864,
          1.0864197530864197,
          1,
          1.1666666666666667,
          1.2822085889570551,
          1.2901234567901234,
          1.376543209876543,
          1.3167701863354038,
          0.7901234567901234,
          1.037037037037037,
          0.937888198757764,
          1.154320987654321,
          1.0248447204968945,
          0.6521739130434783,
          1.0061728395061729,
          1.191358024691358,
          1.1104294478527608,
          1.4506172839506173,
          0.9938271604938271,
          1.062111801242236,
          0.9444444444444444,
          1.5061728395061729,
          1.1604938271604939,
          1.204968944099379,
          0.8950617283950617,
          1.4197530864197532,
          1.308641975308642,
          1.4567901234567902,
          1.1049382716049383,
          1.1049382716049383,
          1.1358024691358024,
          1.0308641975308641,
          1.3333333333333333,
          1.1296296296296295,
          1.2269938650306749,
          1.3641975308641976,
          0.9938271604938271,
          1.0925925925925926,
          0.9937888198757764,
          1.537037037037037,
          0.9259259259259259,
          1.3024691358024691,
          1.0858895705521472,
          0.7160493827160493,
          1.0987654320987654,
          1.2732919254658386,
          1.2222222222222223,
          1.484472049689441,
          0.8888888888888888,
          1.037037037037037,
          0.9691358024691358,
          1.2222222222222223,
          1.3950617283950617,
          1.4506172839506173,
          1.0062111801242235,
          1.0679012345679013,
          1.5061728395061729,
          0.9753086419753086,
          1.2839506172839505,
          1.0740740740740742,
          0.8395061728395061,
          1.2298136645962734,
          1.3209876543209877,
          1.1975308641975309,
          1.0864197530864197,
          1.308641975308642,
          1.3148148148148149,
          0.8580246913580247,
          1.0246913580246915,
          1.2839506172839505,
          0.9382716049382716,
          1.271604938271605,
          1.2901234567901234,
          1.0123456790123457,
          0.808641975308642,
          1.2608695652173914,
          0.9074074074074074,
          1.228395061728395,
          1.0123456790123457,
          0.9938271604938271,
          0.9938271604938271,
          1.0432098765432098,
          1.4506172839506173,
          1.228395061728395,
          0.7469135802469136,
          1.5185185185185186,
          1.2037037037037037,
          0.9382716049382716,
          1.0185185185185186,
          1.0186335403726707,
          1.0185185185185186,
          1.0925925925925926,
          1.3395061728395061,
          1.2345679012345678,
          1.0432098765432098,
          1.1851851851851851,
          0.9382716049382716,
          0.7701863354037267,
          0.9012345679012346,
          1.0308641975308641,
          0.8641975308641975,
          0.9567901234567902,
          0.8580246913580247,
          1.0372670807453417,
          1,
          1.3850931677018634,
          0.9937888198757764,
          1.2654320987654322,
          1.0248447204968945,
          0.8819875776397516,
          0.8395061728395061,
          0.9382716049382716,
          1.2222222222222223,
          1.0802469135802468,
          0.8260869565217391,
          1.4197530864197532,
          1.154320987654321,
          0.9259259259259259,
          0.9382716049382716,
          1.4506172839506173,
          0.9325153374233128,
          1.4691358024691359,
          1.3580246913580247,
          1.0617283950617284,
          1.123456790123457,
          0.9753086419753086,
          1.2222222222222223,
          0.9444444444444444,
          0.9691358024691358,
          1.1790123456790123,
          1,
          0.7654320987654321,
          1.2098765432098766,
          0.9567901234567902,
          0.8888888888888888,
          1.4110429447852761,
          0.7701863354037267,
          1.0864197530864197,
          1.0246913580246915,
          1.0061728395061729,
          0.7901234567901234,
          0.8580246913580247,
          1.1180124223602483,
          1.2098765432098766,
          0.845679012345679,
          1.4753086419753085,
          1.1728395061728396,
          1,
          0.8333333333333334,
          1.0987654320987654,
          1.0432098765432098,
          1.3703703703703705,
          1.4938271604938271,
          1.4506172839506173,
          1.1975308641975309,
          1.1358024691358024,
          1.2469135802469136,
          1.2407407407407407,
          0.9135802469135802,
          1.154320987654321,
          0.9259259259259259,
          1.2530864197530864,
          0.8385093167701864,
          1.1790123456790123,
          0.9320987654320988,
          1.4938271604938271,
          1.1419753086419753,
          1.1666666666666667,
          1.3271604938271604,
          0.8819875776397516,
          0.8580246913580247,
          0.8395061728395061,
          1.1296296296296295,
          1.3209876543209877,
          0.9006211180124224,
          1.4012345679012346,
          0.9006211180124224,
          0.9074074074074074,
          1.1790123456790123,
          1.1358024691358024,
          1.1666666666666667,
          1.228395061728395,
          1.2345679012345678,
          1.1975308641975309,
          1.361963190184049,
          1.2777777777777777,
          0.9259259259259259,
          1.037037037037037,
          0.7901234567901234,
          0.9877300613496932,
          0.7777777777777778,
          0.9197530864197531,
          1.0802469135802468,
          0.8271604938271605,
          1.4135802469135803,
          1.0802469135802468,
          0.9567901234567902,
          1.0308641975308641,
          0.8580246913580247,
          0.8024691358024691,
          0.8024691358024691,
          0.7901234567901234,
          1.0493827160493827,
          0.9691358024691358,
          1.6049382716049383,
          0.8395061728395061,
          0.7222222222222222,
          0.9814814814814815,
          0.9876543209876543,
          1.3703703703703705,
          1.0123456790123457,
          1.1851851851851851,
          1.4567901234567902,
          1.0246913580246915,
          1.3395061728395061,
          1.2098765432098766,
          0.9691358024691358,
          1.2530864197530864,
          1.123456790123457,
          1.0740740740740742,
          0.7654320987654321,
          0.9444444444444444,
          1.1111111111111112,
          0.8827160493827161,
          1.2962962962962963,
          1.2345679012345678,
          1.0802469135802468,
          1.3333333333333333,
          0.8703703703703703,
          0.9938271604938271,
          1.0617283950617284,
          1.0124223602484472,
          1.1428571428571428,
          1.1728395061728396,
          1.1296296296296295,
          1.228395061728395,
          1.0123456790123457,
          0.7592592592592593,
          1.0555555555555556,
          1.0864197530864197,
          0.8765432098765432,
          1.0246913580246915,
          1.1728395061728396,
          0.9320987654320988,
          1.2592592592592593,
          1.0987654320987654,
          1.049079754601227,
          1.0925925925925926,
          1.2407407407407407,
          1.0308641975308641,
          0.6296296296296297,
          0.7962962962962963,
          1.4259259259259258,
          0.7283950617283951,
          1.2407407407407407,
          1.0925925925925926,
          1.0555555555555556,
          1.3148148148148149,
          0.9135802469135802,
          1.049079754601227,
          0.9444444444444444,
          0.808641975308642,
          0.8703703703703703,
          1.154320987654321,
          1.1049382716049383,
          1.0185185185185186,
          0.7592592592592593,
          0.9814814814814815,
          0.9814814814814815,
          0.8024691358024691,
          1.0683229813664596,
          1.0679012345679013,
          1.4417177914110428,
          1.1428571428571428,
          1.154320987654321,
          1.0555555555555556,
          0.9876543209876543,
          1.2345679012345678,
          1.2919254658385093,
          1.0372670807453417,
          0.7407407407407407,
          0.845679012345679,
          1.2222222222222223,
          0.6809815950920245,
          1.1111111111111112,
          1.0617283950617284,
          0.7763975155279503,
          1.3209876543209877,
          0.9444444444444444,
          0.9506172839506173,
          0.7654320987654321,
          0.5802469135802469,
          1.0740740740740742,
          1.1111111111111112,
          1.1975308641975309,
          0.7777777777777778,
          0.7267080745341615,
          1.0679012345679013,
          1.0679012345679013,
          0.9197530864197531,
          0.9876543209876543,
          1.308641975308642,
          1.1358024691358024,
          1,
          0.9753086419753086,
          0.9938271604938271,
          1.1728395061728396,
          1.1226993865030674,
          0.9814814814814815,
          0.8765432098765432,
          0.8888888888888888,
          0.8950617283950617,
          1.123456790123457,
          1.0552147239263803,
          1.5061728395061729,
          0.5864197530864198,
          0.8333333333333334,
          1.382716049382716,
          0.7763975155279503,
          0.8703703703703703,
          0.9876543209876543,
          0.7530864197530864,
          0.9876543209876543,
          1.228395061728395,
          1.382716049382716,
          1.2901234567901234,
          0.9629629629629629,
          0.9567901234567902,
          1.1111111111111112,
          0.8580246913580247,
          0.8209876543209876,
          1.3024691358024691,
          1.0925925925925926,
          0.9197530864197531,
          1.1604938271604939,
          0.7901234567901234,
          1.0679012345679013,
          0.9382716049382716,
          0.9382716049382716,
          0.6666666666666666,
          0.7469135802469136,
          0.7407407407407407,
          1.123456790123457,
          0.8765432098765432,
          1.2407407407407407,
          0.7901234567901234,
          0.6728395061728395,
          1.0246913580246915,
          0.7777777777777778,
          0.8148148148148148,
          0.6234567901234568,
          1,
          0.9259259259259259,
          0.9876543209876543,
          1,
          1.5864197530864197,
          0.9197530864197531,
          0.9567901234567902,
          1.0617283950617284,
          1.0679012345679013,
          1.1790123456790123,
          1.2530864197530864,
          0.9506172839506173,
          0.9135802469135802,
          1.1296296296296295,
          0.9506172839506173,
          1.0061728395061729,
          1.0432098765432098,
          0.9197530864197531,
          0.5864197530864198,
          0.7962962962962963,
          0.7267080745341615,
          1.1419753086419753,
          0.6358024691358025,
          1.3703703703703705,
          0.6666666666666666,
          0.7037037037037037,
          0.9444444444444444,
          0.6604938271604939,
          0.5617283950617284,
          0.6728395061728395,
          0.7469135802469136,
          1,
          1.0617283950617284,
          1.2962962962962963,
          1.1481481481481481,
          0.9565217391304348,
          1.154320987654321,
          1.0185185185185186,
          0.9197530864197531,
          1.3209876543209877,
          1.0185185185185186,
          1.3024691358024691,
          0.845679012345679,
          1.0617283950617284,
          0.8395061728395061,
          1.0246913580246915,
          1.0061728395061729,
          0.9012345679012346,
          0.808641975308642,
          0.7160493827160493,
          0.845679012345679,
          1.2469135802469136,
          0.808641975308642,
          1.5123456790123457,
          0.8580246913580247,
          1.2037037037037037,
          0.9753086419753086,
          1.0493827160493827,
          0.7469135802469136,
          0.9197530864197531,
          0.6358024691358025,
          0.9814814814814815,
          1.0802469135802468,
          1.2345679012345678,
          1.2222222222222223,
          1.1975308641975309,
          1.0123456790123457,
          0.8024691358024691,
          1.117283950617284,
          1.308641975308642,
          1.0987654320987654,
          0.9135802469135802,
          1.0617283950617284,
          0.9567901234567902,
          1.0555555555555556,
          0.9814814814814815,
          1.0864197530864197,
          0.9135802469135802,
          0.691358024691358,
          0.8518518518518519,
          0.5864197530864198,
          0.9691358024691358,
          0.9320987654320988,
          0.8888888888888888,
          0.8024691358024691,
          1.1481481481481481,
          0.8641975308641975,
          0.9938271604938271,
          0.9012345679012346,
          1.1604938271604939,
          0.6604938271604939,
          0.7716049382716049,
          1.0122699386503067,
          1.0797546012269938,
          1.1419753086419753,
          0.9938271604938271,
          0.9567901234567902,
          0.7283950617283951,
          0.7592592592592593,
          1.3024691358024691,
          0.7592592592592593,
          0.9567901234567902,
          0.9691358024691358,
          0.808641975308642,
          0.8765432098765432,
          1.1481481481481481,
          0.9567901234567902,
          1.0061728395061729,
          0.5864197530864198,
          0.8271604938271605,
          0.7530864197530864,
          0.9259259259259259,
          0.7901234567901234,
          0.9074074074074074,
          0.7716049382716049,
          0.9012345679012346,
          0.7716049382716049,
          0.9629629629629629,
          0.6728395061728395,
          0.8395061728395061,
          0.8148148148148148,
          0.6481481481481481,
          0.7222222222222222,
          0.6851851851851852,
          1.0925925925925926,
          0.9382716049382716,
          1.0864197530864197,
          0.9506172839506173,
          0.6172839506172839,
          1.3395061728395061,
          0.9938271604938271,
          0.8395061728395061,
          1.0555555555555556,
          1.0308641975308641,
          0.8757763975155279,
          1.1481481481481481,
          0.937888198757764,
          1.4197530864197532,
          0.8580246913580247,
          1.154320987654321,
          0.7407407407407407,
          0.8950617283950617,
          0.9629629629629629,
          1.308641975308642,
          1.0925925925925926,
          0.9012345679012346,
          0.8024691358024691,
          0.8641975308641975,
          0.9135802469135802,
          1.2222222222222223,
          0.8395061728395061,
          0.845679012345679,
          1.0308641975308641,
          1.0617283950617284,
          1.4320987654320987,
          1.0925925925925926,
          0.9629629629629629,
          1.1728395061728396,
          0.7577639751552795,
          1.5617283950617284,
          1.2839506172839505,
          1.037037037037037,
          1.228395061728395,
          1.0123456790123457,
          1.1490683229813665,
          1.2592592592592593,
          1.31055900621118,
          1.2222222222222223,
          0.9074074074074074,
          1.1666666666666667,
          0.7950310559006211,
          1.1975308641975309,
          1.2345679012345678,
          1.1296296296296295,
          1.345679012345679,
          1.0432098765432098,
          0.9938271604938271,
          0.9444444444444444,
          1.0925925925925926,
          1.376543209876543,
          0.8024691358024691,
          1.3888888888888888,
          1.3333333333333333,
          1.3271604938271604,
          1.3641975308641976,
          1.2530864197530864,
          1.1481481481481481,
          1.3580246913580247,
          1.0185185185185186,
          1.4320987654320987,
          1.037037037037037,
          1.1481481481481481,
          1.376543209876543,
          1.3518518518518519,
          1.308641975308642,
          1.1851851851851851,
          1.154320987654321,
          1.4691358024691359,
          1.191358024691358,
          1.3641975308641976,
          1.1975308641975309,
          1.382716049382716,
          1.271604938271605,
          1.4876543209876543,
          1.382716049382716,
          1.4444444444444444,
          1.0740740740740742,
          0.9320987654320988,
          1.1666666666666667,
          1.2345679012345678,
          0.7901234567901234,
          1.2098765432098766,
          1.4074074074074074,
          1.462962962962963,
          1.3703703703703705,
          1.3271604938271604,
          1.3209876543209877,
          1.0864197530864197,
          1.0802469135802468,
          1.1604938271604939,
          1.2839506172839505,
          1.123456790123457,
          1.0245398773006136,
          1.0617283950617284,
          1.3333333333333333,
          1.2883435582822085,
          0.8333333333333334,
          1.2654320987654322,
          0.9567901234567902,
          1.4417177914110428,
          0.7950310559006211,
          1.3374233128834356,
          1.0246913580246915,
          1.6481481481481481,
          1.0493827160493827,
          1.4012345679012346,
          1.1481481481481481,
          0.9751552795031055,
          1,
          1.0864197530864197,
          0.8209876543209876,
          1.2654320987654322,
          0.9259259259259259,
          1.1975308641975309,
          1.3395061728395061,
          1.1790123456790123,
          1.3580246913580247,
          1.3580246913580247,
          1.537037037037037,
          1.3148148148148149,
          1.5123456790123457,
          1.1304347826086956,
          1.5802469135802468,
          1.4012345679012346,
          1.376543209876543,
          1.382716049382716,
          0.9254658385093167,
          1.7777777777777777,
          1,
          1.7222222222222223,
          0.9012345679012346,
          1.5432098765432098,
          1.8950617283950617,
          1.8888888888888888,
          1.4938271604938271,
          1.5864197530864197,
          1.3271604938271604,
          1.0061728395061729,
          1.3518518518518519,
          1.4753086419753085,
          1.0308641975308641,
          1.2962962962962963,
          1.3395061728395061,
          1.376543209876543,
          1.5246913580246915,
          1.4259259259259258,
          1.4166666666666667,
          0.9666666666666667,
          1.7166666666666666,
          1.2833333333333334,
          1.35,
          1.6,
          1.2333333333333334,
          1.5,
          0.9833333333333333,
          1.05,
          1.0689655172413792,
          1.15,
          1.1333333333333333,
          1.9666666666666666,
          1,
          1.25,
          1.5166666666666666,
          1.5666666666666667,
          1.4333333333333333,
          1.1833333333333333,
          1.3666666666666667,
          0.9833333333333333,
          1.5833333333333333,
          1,
          1.35,
          0.8793103448275862,
          1.3333333333333333,
          1.0333333333333334,
          1.4666666666666666,
          1.1
         ],
         "xaxis": "x",
         "y": [
          4,
          3,
          4,
          3,
          4,
          5,
          5,
          5,
          6,
          4,
          3,
          3,
          7,
          4,
          3,
          3,
          4,
          3,
          4,
          4,
          4,
          4,
          4,
          3,
          5,
          4,
          3,
          6,
          4,
          3,
          4,
          2,
          4,
          4,
          4,
          3,
          3,
          4,
          4,
          4,
          5,
          6,
          3,
          6,
          6,
          3,
          4,
          7,
          7,
          5,
          5,
          4,
          4,
          5,
          5,
          5,
          7,
          6,
          3,
          4,
          5,
          3,
          5,
          4,
          5,
          5,
          4,
          3,
          5,
          3,
          4,
          5,
          5,
          5,
          3,
          3,
          5,
          3,
          4,
          3,
          4,
          5,
          4,
          3,
          3,
          3,
          4,
          4,
          4,
          4,
          3,
          3,
          4,
          3,
          4,
          3,
          3,
          5,
          3,
          4,
          4,
          4,
          4,
          8,
          5,
          4,
          3,
          4,
          3,
          5,
          5,
          3,
          3,
          5,
          5,
          3,
          6,
          5,
          4,
          6,
          7,
          6,
          4,
          4,
          5,
          4,
          5,
          3,
          3,
          4,
          6,
          7,
          6,
          5,
          4,
          5,
          5,
          4,
          5,
          5,
          4,
          4,
          5,
          4,
          4,
          4,
          5,
          6,
          5,
          8,
          5,
          4,
          4,
          5,
          7,
          4,
          4,
          3,
          4,
          4,
          3,
          6,
          5,
          4,
          4,
          7,
          6,
          4,
          5,
          5,
          6,
          4,
          4,
          4,
          4,
          4,
          3,
          5,
          5,
          5,
          4,
          4,
          3,
          5,
          5,
          5,
          5,
          3,
          4,
          5,
          3,
          4,
          4,
          6,
          4,
          5,
          5,
          6,
          4,
          3,
          4,
          5,
          4,
          3,
          4,
          4,
          4,
          5,
          5,
          3,
          4,
          4,
          4,
          3,
          5,
          3,
          4,
          5,
          5,
          4,
          3,
          5,
          4,
          4,
          5,
          5,
          4,
          4,
          4,
          5,
          5,
          4,
          5,
          5,
          4,
          6,
          7,
          5,
          5,
          8,
          4,
          4,
          4,
          4,
          3,
          6,
          4,
          4,
          6,
          4,
          4,
          5,
          4,
          6,
          5,
          5,
          5,
          4,
          4,
          4,
          6,
          4,
          4,
          4,
          4,
          5,
          4,
          6,
          4,
          3,
          3,
          4,
          3,
          8,
          3,
          4,
          3,
          4,
          4,
          6,
          5,
          4,
          5,
          5,
          4,
          5,
          3,
          4,
          4,
          3,
          4,
          4,
          4,
          6,
          5,
          4,
          5,
          4,
          4,
          5,
          4,
          4,
          5,
          5,
          3,
          4,
          5,
          4,
          5,
          4,
          3,
          4,
          3,
          5,
          5,
          4,
          4,
          6,
          5,
          5,
          3,
          5,
          5,
          5,
          4,
          4,
          4,
          4,
          5,
          7,
          5,
          3,
          3,
          5,
          6,
          5,
          3,
          4,
          6,
          5,
          4,
          4,
          7,
          7,
          5,
          4,
          4,
          7,
          4,
          3,
          4,
          4,
          3,
          3,
          5,
          3,
          4,
          3,
          3,
          4,
          3,
          3,
          3,
          4,
          3,
          3,
          3,
          5,
          4,
          4,
          6,
          4,
          4,
          4,
          3,
          2,
          3,
          4,
          3,
          4,
          3,
          3,
          5,
          4,
          5,
          5,
          5,
          4,
          5,
          4,
          6,
          3,
          4,
          4,
          4,
          4,
          4,
          4,
          4,
          4,
          4,
          3,
          4,
          4,
          3,
          5,
          4,
          5,
          4,
          5,
          4,
          7,
          7,
          6,
          4,
          5,
          4,
          3,
          3,
          4,
          4,
          4,
          5,
          5,
          3,
          6,
          5,
          4,
          4,
          5,
          5,
          4,
          4,
          3,
          4,
          4,
          4,
          3,
          6,
          3,
          3,
          3,
          5,
          4,
          3,
          4,
          3,
          5,
          4,
          5,
          4,
          3,
          4,
          4,
          5,
          3,
          4,
          3,
          5,
          5,
          4,
          4,
          3,
          5,
          4,
          3,
          4,
          3,
          3,
          4,
          4,
          4,
          6,
          4,
          3,
          4,
          3,
          4,
          5,
          4,
          4,
          4,
          4,
          4,
          4,
          5,
          4,
          5,
          4,
          4,
          3,
          4,
          4,
          4,
          3,
          4,
          4,
          5,
          4,
          4,
          3,
          4,
          3,
          4,
          4,
          4,
          6,
          6,
          6,
          5,
          5,
          3,
          3,
          6,
          3,
          4,
          5,
          6,
          3,
          5,
          3,
          4,
          3,
          3,
          4,
          3,
          4,
          4,
          4,
          3,
          4,
          4,
          3,
          3,
          5,
          4,
          5,
          3,
          5,
          3,
          4,
          4,
          3,
          3,
          5,
          4,
          3,
          5,
          3,
          4,
          3,
          4,
          4,
          3,
          4,
          3,
          6,
          3,
          4,
          4,
          3,
          7,
          3,
          3,
          3,
          4,
          4,
          4,
          6,
          4,
          2,
          3,
          4,
          4,
          4,
          6,
          8,
          4,
          6,
          7,
          5,
          4,
          4,
          5,
          5,
          5,
          5,
          4,
          4,
          6,
          3,
          3,
          6,
          4,
          4,
          4,
          4,
          4,
          5,
          4,
          4,
          4,
          4,
          4,
          5,
          4,
          6,
          3,
          3,
          3,
          3,
          3,
          4,
          3,
          8,
          4,
          4,
          3,
          4,
          5,
          3,
          3,
          5,
          3,
          5,
          3,
          4,
          5,
          6,
          5,
          6,
          6,
          4,
          5,
          4,
          2,
          3,
          7,
          6,
          5,
          5,
          5,
          3,
          5,
          5,
          5,
          3,
          6,
          4,
          4,
          5,
          3,
          5,
          3,
          6,
          6,
          4,
          5,
          5,
          5,
          5,
          4,
          4,
          4,
          7,
          3,
          3,
          5,
          3,
          6,
          4,
          4,
          3,
          3,
          4,
          4,
          4,
          4,
          3,
          4,
          6,
          4,
          5,
          4,
          3,
          3,
          4,
          3,
          2,
          4,
          4,
          3,
          3,
          4,
          2,
          5,
          4,
          3,
          2,
          4,
          3,
          4,
          4,
          3,
          4,
          5,
          5,
          5,
          5,
          3,
          3,
          5,
          5,
          2,
          4,
          4,
          5,
          4,
          3,
          4,
          3,
          4,
          3,
          4,
          3,
          4,
          5,
          2,
          4,
          3,
          4,
          6,
          4,
          4,
          5,
          4,
          3,
          4,
          4,
          3,
          4,
          4,
          5,
          5,
          5,
          5,
          4,
          3,
          3,
          4,
          3,
          6,
          5,
          3,
          3,
          5,
          3,
          4,
          5,
          4,
          5,
          4,
          3,
          5,
          4,
          4,
          4,
          4,
          3,
          4,
          4,
          3,
          3,
          5,
          4,
          4,
          4,
          3,
          3,
          2,
          4,
          4,
          3,
          7,
          4,
          6,
          4,
          4,
          3,
          4,
          5,
          3,
          5,
          3,
          3,
          3,
          5,
          5,
          5,
          4,
          6,
          3,
          4,
          7,
          3,
          3,
          5,
          5,
          4,
          5,
          4,
          4,
          3,
          4,
          4,
          5,
          6,
          4,
          5,
          4,
          4,
          5,
          4,
          4,
          4,
          4,
          4,
          4,
          4,
          4,
          3,
          3,
          7,
          4,
          4,
          6,
          4,
          6,
          5,
          6,
          7,
          5,
          5,
          4,
          5,
          4,
          5,
          4,
          3,
          5,
          5,
          5,
          5,
          5,
          3,
          5,
          5,
          4,
          5,
          10,
          4,
          4,
          4,
          5,
          5,
          3,
          4,
          3,
          5,
          3,
          4,
          4,
          4,
          5,
          3,
          5,
          6,
          4,
          3,
          4,
          3,
          5,
          5,
          3,
          3,
          5,
          4,
          4,
          3,
          4,
          4,
          6,
          4,
          6,
          5,
          4,
          5,
          4,
          5,
          4,
          5,
          5,
          3,
          4,
          4,
          3,
          3,
          4,
          4,
          3,
          4,
          4,
          5,
          4,
          4,
          6,
          3,
          5,
          5,
          5,
          5,
          4,
          4,
          4,
          3,
          4,
          3,
          6,
          5,
          7,
          3,
          4,
          4,
          4,
          5,
          4,
          3,
          5,
          4,
          4,
          4,
          4,
          5,
          4,
          5,
          3,
          4,
          3,
          6,
          4,
          5,
          4,
          4,
          4,
          4,
          6,
          4,
          4,
          5,
          3,
          4,
          4,
          4,
          4,
          4,
          5,
          3,
          3,
          3,
          4,
          3,
          4,
          4,
          3,
          3,
          3,
          4,
          5,
          3,
          4,
          4,
          4,
          3,
          3,
          4,
          4,
          3,
          3,
          4,
          4,
          6,
          4,
          4,
          4,
          5,
          4,
          4,
          4,
          4,
          5,
          3,
          3,
          4,
          4,
          4,
          6,
          4,
          5,
          5,
          4,
          6,
          4,
          5,
          4,
          5,
          5,
          5,
          5,
          5,
          6,
          6,
          5,
          5,
          5,
          5,
          6,
          5,
          5,
          3,
          4,
          3,
          4,
          5,
          4,
          5,
          4,
          4,
          4,
          4,
          3,
          4,
          5,
          4,
          5,
          5,
          6,
          5,
          6,
          5,
          4,
          5,
          5,
          4,
          6,
          5,
          7,
          4,
          5,
          5,
          5,
          4,
          3,
          5,
          4,
          4,
          4,
          4,
          4,
          5,
          5,
          5,
          3,
          4,
          4,
          6,
          6,
          5,
          4,
          5,
          6,
          5,
          5,
          5,
          5,
          4,
          5,
          3,
          6,
          5,
          5,
          5,
          4,
          4,
          8,
          4,
          4,
          5,
          7,
          4,
          7,
          5,
          6,
          4,
          4,
          4,
          6,
          4,
          5,
          4,
          8,
          7,
          6,
          4,
          4,
          5,
          6,
          4,
          4,
          6,
          5,
          5,
          6,
          4,
          5,
          5,
          6,
          4,
          4,
          5,
          4,
          5,
          5,
          5,
          4,
          5,
          6,
          6,
          4,
          5,
          4,
          4,
          4,
          4,
          4,
          4,
          5,
          4,
          4,
          4,
          4,
          6,
          7,
          4,
          6,
          6,
          4,
          5,
          4,
          6,
          7,
          4,
          5,
          5,
          5,
          7,
          6,
          5,
          9,
          5,
          6,
          5,
          4,
          5,
          5,
          4,
          4,
          4,
          4,
          6,
          6,
          6,
          5,
          5,
          5,
          7,
          5,
          4,
          4,
          5,
          6,
          6,
          5,
          4,
          4,
          5,
          5,
          5,
          6,
          5,
          5,
          8,
          4,
          7,
          5,
          6,
          4,
          6,
          5,
          5,
          5,
          6,
          4,
          4,
          5,
          5,
          6,
          6,
          5,
          5,
          5,
          5,
          5,
          5,
          5,
          6,
          4,
          5,
          6,
          5,
          5,
          5,
          4,
          5,
          5,
          5,
          6,
          7,
          4,
          5,
          4,
          4,
          4,
          5,
          5,
          6,
          5,
          5,
          4,
          5,
          5,
          5,
          5,
          5,
          5,
          7,
          6,
          6,
          5,
          5,
          3,
          6,
          4,
          5,
          5,
          8,
          5,
          5,
          6,
          6,
          4,
          5,
          4,
          5,
          5,
          7,
          7,
          5,
          6,
          6,
          5,
          7,
          4,
          6,
          4,
          7,
          6,
          6,
          6,
          4,
          4,
          5,
          4,
          6,
          6,
          5,
          5,
          4,
          4,
          6,
          3,
          6,
          5,
          7,
          4,
          4,
          5,
          4,
          4,
          7,
          5,
          4,
          5,
          6,
          5,
          5,
          6,
          6,
          5,
          8,
          5,
          7,
          4,
          6,
          4,
          5,
          4,
          6,
          4,
          6,
          4,
          5,
          6,
          4,
          5,
          6,
          6,
          5,
          5,
          6,
          4,
          4,
          5,
          5,
          4,
          5,
          5,
          5,
          6,
          5,
          4,
          5,
          4,
          5,
          4,
          4,
          5,
          3,
          6,
          7,
          4,
          5,
          4,
          5,
          4,
          4,
          5,
          5,
          8,
          4,
          4,
          4,
          6,
          8,
          5,
          5,
          5,
          6,
          6,
          6,
          4,
          8,
          5,
          6,
          4,
          7,
          6,
          3,
          5,
          5,
          4,
          5,
          4,
          4,
          5,
          6,
          6,
          6,
          6,
          5,
          5,
          4,
          4,
          4,
          6,
          5,
          4,
          4,
          5,
          4,
          4,
          4,
          5,
          4,
          4,
          3,
          6,
          6,
          8,
          4,
          6,
          5,
          6,
          5,
          4,
          4,
          6,
          5,
          7,
          4,
          4,
          4,
          5,
          5,
          5,
          6,
          4,
          5,
          7,
          5,
          6,
          5,
          6,
          5,
          3,
          4,
          5,
          4,
          4,
          4,
          6,
          5,
          5,
          5,
          4,
          4,
          4,
          5,
          6,
          3,
          5,
          5,
          5,
          4,
          4,
          6,
          6,
          4,
          5,
          6,
          4,
          4,
          4,
          5,
          4,
          5,
          5,
          5,
          5,
          3,
          5,
          5,
          5,
          3,
          4,
          5,
          4,
          6,
          5,
          6,
          5,
          3,
          6,
          4,
          5,
          5,
          5,
          5,
          7,
          4,
          4,
          5,
          5,
          4,
          3,
          4,
          4,
          5,
          6,
          4,
          4,
          5,
          4,
          4,
          4,
          4,
          4,
          5,
          5,
          8,
          4,
          5,
          5,
          5,
          4,
          6,
          4,
          6,
          7,
          5,
          4,
          5,
          5,
          4,
          4,
          4,
          5,
          5,
          5,
          4,
          3,
          5,
          4,
          4,
          4,
          6,
          4,
          5,
          5,
          4,
          6,
          5,
          6,
          5,
          7,
          5,
          5,
          5,
          5,
          4,
          5,
          5,
          4,
          4,
          4,
          5,
          5,
          4,
          5,
          4,
          5,
          4,
          4,
          4,
          4,
          3,
          5,
          4,
          6,
          6,
          6,
          5,
          3,
          5,
          4,
          8,
          4,
          5,
          6,
          7,
          6,
          5,
          6,
          4,
          6,
          3,
          5,
          4,
          5,
          4,
          5,
          4,
          6,
          4,
          5,
          6,
          5,
          4,
          5,
          5,
          5,
          5,
          5,
          5,
          6,
          4,
          6,
          4,
          4,
          5,
          5,
          5,
          5,
          3,
          4,
          4,
          4,
          4,
          5,
          5,
          5,
          4,
          6,
          4,
          4,
          6,
          4,
          5,
          5,
          5,
          6,
          5,
          4,
          4,
          8,
          5,
          4,
          5,
          5,
          4,
          5,
          5,
          6,
          4,
          5,
          4,
          4,
          4,
          5,
          8,
          5,
          4,
          4,
          4,
          6,
          4,
          4,
          4,
          5,
          5,
          5,
          5,
          6,
          4,
          7,
          5,
          7,
          5,
          5,
          5,
          7,
          6,
          5,
          4,
          7,
          4,
          5,
          6,
          5,
          6,
          4,
          4,
          5,
          4,
          5,
          4,
          6,
          5,
          5,
          5,
          6,
          5,
          6,
          5,
          5,
          6,
          6,
          6,
          5,
          5,
          5,
          6,
          6,
          5,
          5,
          4,
          6,
          7,
          5,
          7,
          5,
          6,
          4,
          5,
          4,
          3,
          5,
          5,
          5,
          6,
          8,
          5,
          6,
          4,
          4,
          6,
          6,
          4,
          5,
          5,
          5,
          5,
          5,
          5,
          7,
          3,
          5,
          4,
          6,
          5,
          5,
          7,
          5,
          4,
          4,
          4,
          5,
          4,
          6,
          5,
          7,
          5,
          8,
          6,
          5,
          6,
          5,
          6,
          6,
          7,
          5,
          5,
          7,
          5,
          8,
          4,
          7,
          8,
          7,
          6,
          6,
          5,
          5,
          7,
          6,
          6,
          5,
          6,
          5,
          6,
          8,
          4,
          5,
          7,
          4,
          5,
          6,
          6,
          4,
          5,
          3,
          5,
          4,
          6,
          7,
          4,
          5,
          5,
          7,
          5,
          4,
          5,
          4,
          6,
          4,
          4,
          5,
          5,
          5,
          7,
          5
         ],
         "yaxis": "y"
        }
       ],
       "layout": {
        "legend": {
         "tracegroupgap": 0
        },
        "margin": {
         "t": 60
        },
        "template": {
         "data": {
          "bar": [
           {
            "error_x": {
             "color": "#2a3f5f"
            },
            "error_y": {
             "color": "#2a3f5f"
            },
            "marker": {
             "line": {
              "color": "#E5ECF6",
              "width": 0.5
             }
            },
            "type": "bar"
           }
          ],
          "barpolar": [
           {
            "marker": {
             "line": {
              "color": "#E5ECF6",
              "width": 0.5
             }
            },
            "type": "barpolar"
           }
          ],
          "carpet": [
           {
            "aaxis": {
             "endlinecolor": "#2a3f5f",
             "gridcolor": "white",
             "linecolor": "white",
             "minorgridcolor": "white",
             "startlinecolor": "#2a3f5f"
            },
            "baxis": {
             "endlinecolor": "#2a3f5f",
             "gridcolor": "white",
             "linecolor": "white",
             "minorgridcolor": "white",
             "startlinecolor": "#2a3f5f"
            },
            "type": "carpet"
           }
          ],
          "choropleth": [
           {
            "colorbar": {
             "outlinewidth": 0,
             "ticks": ""
            },
            "type": "choropleth"
           }
          ],
          "contour": [
           {
            "colorbar": {
             "outlinewidth": 0,
             "ticks": ""
            },
            "colorscale": [
             [
              0,
              "#0d0887"
             ],
             [
              0.1111111111111111,
              "#46039f"
             ],
             [
              0.2222222222222222,
              "#7201a8"
             ],
             [
              0.3333333333333333,
              "#9c179e"
             ],
             [
              0.4444444444444444,
              "#bd3786"
             ],
             [
              0.5555555555555556,
              "#d8576b"
             ],
             [
              0.6666666666666666,
              "#ed7953"
             ],
             [
              0.7777777777777778,
              "#fb9f3a"
             ],
             [
              0.8888888888888888,
              "#fdca26"
             ],
             [
              1,
              "#f0f921"
             ]
            ],
            "type": "contour"
           }
          ],
          "contourcarpet": [
           {
            "colorbar": {
             "outlinewidth": 0,
             "ticks": ""
            },
            "type": "contourcarpet"
           }
          ],
          "heatmap": [
           {
            "colorbar": {
             "outlinewidth": 0,
             "ticks": ""
            },
            "colorscale": [
             [
              0,
              "#0d0887"
             ],
             [
              0.1111111111111111,
              "#46039f"
             ],
             [
              0.2222222222222222,
              "#7201a8"
             ],
             [
              0.3333333333333333,
              "#9c179e"
             ],
             [
              0.4444444444444444,
              "#bd3786"
             ],
             [
              0.5555555555555556,
              "#d8576b"
             ],
             [
              0.6666666666666666,
              "#ed7953"
             ],
             [
              0.7777777777777778,
              "#fb9f3a"
             ],
             [
              0.8888888888888888,
              "#fdca26"
             ],
             [
              1,
              "#f0f921"
             ]
            ],
            "type": "heatmap"
           }
          ],
          "heatmapgl": [
           {
            "colorbar": {
             "outlinewidth": 0,
             "ticks": ""
            },
            "colorscale": [
             [
              0,
              "#0d0887"
             ],
             [
              0.1111111111111111,
              "#46039f"
             ],
             [
              0.2222222222222222,
              "#7201a8"
             ],
             [
              0.3333333333333333,
              "#9c179e"
             ],
             [
              0.4444444444444444,
              "#bd3786"
             ],
             [
              0.5555555555555556,
              "#d8576b"
             ],
             [
              0.6666666666666666,
              "#ed7953"
             ],
             [
              0.7777777777777778,
              "#fb9f3a"
             ],
             [
              0.8888888888888888,
              "#fdca26"
             ],
             [
              1,
              "#f0f921"
             ]
            ],
            "type": "heatmapgl"
           }
          ],
          "histogram": [
           {
            "marker": {
             "colorbar": {
              "outlinewidth": 0,
              "ticks": ""
             }
            },
            "type": "histogram"
           }
          ],
          "histogram2d": [
           {
            "colorbar": {
             "outlinewidth": 0,
             "ticks": ""
            },
            "colorscale": [
             [
              0,
              "#0d0887"
             ],
             [
              0.1111111111111111,
              "#46039f"
             ],
             [
              0.2222222222222222,
              "#7201a8"
             ],
             [
              0.3333333333333333,
              "#9c179e"
             ],
             [
              0.4444444444444444,
              "#bd3786"
             ],
             [
              0.5555555555555556,
              "#d8576b"
             ],
             [
              0.6666666666666666,
              "#ed7953"
             ],
             [
              0.7777777777777778,
              "#fb9f3a"
             ],
             [
              0.8888888888888888,
              "#fdca26"
             ],
             [
              1,
              "#f0f921"
             ]
            ],
            "type": "histogram2d"
           }
          ],
          "histogram2dcontour": [
           {
            "colorbar": {
             "outlinewidth": 0,
             "ticks": ""
            },
            "colorscale": [
             [
              0,
              "#0d0887"
             ],
             [
              0.1111111111111111,
              "#46039f"
             ],
             [
              0.2222222222222222,
              "#7201a8"
             ],
             [
              0.3333333333333333,
              "#9c179e"
             ],
             [
              0.4444444444444444,
              "#bd3786"
             ],
             [
              0.5555555555555556,
              "#d8576b"
             ],
             [
              0.6666666666666666,
              "#ed7953"
             ],
             [
              0.7777777777777778,
              "#fb9f3a"
             ],
             [
              0.8888888888888888,
              "#fdca26"
             ],
             [
              1,
              "#f0f921"
             ]
            ],
            "type": "histogram2dcontour"
           }
          ],
          "mesh3d": [
           {
            "colorbar": {
             "outlinewidth": 0,
             "ticks": ""
            },
            "type": "mesh3d"
           }
          ],
          "parcoords": [
           {
            "line": {
             "colorbar": {
              "outlinewidth": 0,
              "ticks": ""
             }
            },
            "type": "parcoords"
           }
          ],
          "pie": [
           {
            "automargin": true,
            "type": "pie"
           }
          ],
          "scatter": [
           {
            "marker": {
             "colorbar": {
              "outlinewidth": 0,
              "ticks": ""
             }
            },
            "type": "scatter"
           }
          ],
          "scatter3d": [
           {
            "line": {
             "colorbar": {
              "outlinewidth": 0,
              "ticks": ""
             }
            },
            "marker": {
             "colorbar": {
              "outlinewidth": 0,
              "ticks": ""
             }
            },
            "type": "scatter3d"
           }
          ],
          "scattercarpet": [
           {
            "marker": {
             "colorbar": {
              "outlinewidth": 0,
              "ticks": ""
             }
            },
            "type": "scattercarpet"
           }
          ],
          "scattergeo": [
           {
            "marker": {
             "colorbar": {
              "outlinewidth": 0,
              "ticks": ""
             }
            },
            "type": "scattergeo"
           }
          ],
          "scattergl": [
           {
            "marker": {
             "colorbar": {
              "outlinewidth": 0,
              "ticks": ""
             }
            },
            "type": "scattergl"
           }
          ],
          "scattermapbox": [
           {
            "marker": {
             "colorbar": {
              "outlinewidth": 0,
              "ticks": ""
             }
            },
            "type": "scattermapbox"
           }
          ],
          "scatterpolar": [
           {
            "marker": {
             "colorbar": {
              "outlinewidth": 0,
              "ticks": ""
             }
            },
            "type": "scatterpolar"
           }
          ],
          "scatterpolargl": [
           {
            "marker": {
             "colorbar": {
              "outlinewidth": 0,
              "ticks": ""
             }
            },
            "type": "scatterpolargl"
           }
          ],
          "scatterternary": [
           {
            "marker": {
             "colorbar": {
              "outlinewidth": 0,
              "ticks": ""
             }
            },
            "type": "scatterternary"
           }
          ],
          "surface": [
           {
            "colorbar": {
             "outlinewidth": 0,
             "ticks": ""
            },
            "colorscale": [
             [
              0,
              "#0d0887"
             ],
             [
              0.1111111111111111,
              "#46039f"
             ],
             [
              0.2222222222222222,
              "#7201a8"
             ],
             [
              0.3333333333333333,
              "#9c179e"
             ],
             [
              0.4444444444444444,
              "#bd3786"
             ],
             [
              0.5555555555555556,
              "#d8576b"
             ],
             [
              0.6666666666666666,
              "#ed7953"
             ],
             [
              0.7777777777777778,
              "#fb9f3a"
             ],
             [
              0.8888888888888888,
              "#fdca26"
             ],
             [
              1,
              "#f0f921"
             ]
            ],
            "type": "surface"
           }
          ],
          "table": [
           {
            "cells": {
             "fill": {
              "color": "#EBF0F8"
             },
             "line": {
              "color": "white"
             }
            },
            "header": {
             "fill": {
              "color": "#C8D4E3"
             },
             "line": {
              "color": "white"
             }
            },
            "type": "table"
           }
          ]
         },
         "layout": {
          "annotationdefaults": {
           "arrowcolor": "#2a3f5f",
           "arrowhead": 0,
           "arrowwidth": 1
          },
          "autotypenumbers": "strict",
          "coloraxis": {
           "colorbar": {
            "outlinewidth": 0,
            "ticks": ""
           }
          },
          "colorscale": {
           "diverging": [
            [
             0,
             "#8e0152"
            ],
            [
             0.1,
             "#c51b7d"
            ],
            [
             0.2,
             "#de77ae"
            ],
            [
             0.3,
             "#f1b6da"
            ],
            [
             0.4,
             "#fde0ef"
            ],
            [
             0.5,
             "#f7f7f7"
            ],
            [
             0.6,
             "#e6f5d0"
            ],
            [
             0.7,
             "#b8e186"
            ],
            [
             0.8,
             "#7fbc41"
            ],
            [
             0.9,
             "#4d9221"
            ],
            [
             1,
             "#276419"
            ]
           ],
           "sequential": [
            [
             0,
             "#0d0887"
            ],
            [
             0.1111111111111111,
             "#46039f"
            ],
            [
             0.2222222222222222,
             "#7201a8"
            ],
            [
             0.3333333333333333,
             "#9c179e"
            ],
            [
             0.4444444444444444,
             "#bd3786"
            ],
            [
             0.5555555555555556,
             "#d8576b"
            ],
            [
             0.6666666666666666,
             "#ed7953"
            ],
            [
             0.7777777777777778,
             "#fb9f3a"
            ],
            [
             0.8888888888888888,
             "#fdca26"
            ],
            [
             1,
             "#f0f921"
            ]
           ],
           "sequentialminus": [
            [
             0,
             "#0d0887"
            ],
            [
             0.1111111111111111,
             "#46039f"
            ],
            [
             0.2222222222222222,
             "#7201a8"
            ],
            [
             0.3333333333333333,
             "#9c179e"
            ],
            [
             0.4444444444444444,
             "#bd3786"
            ],
            [
             0.5555555555555556,
             "#d8576b"
            ],
            [
             0.6666666666666666,
             "#ed7953"
            ],
            [
             0.7777777777777778,
             "#fb9f3a"
            ],
            [
             0.8888888888888888,
             "#fdca26"
            ],
            [
             1,
             "#f0f921"
            ]
           ]
          },
          "colorway": [
           "#636efa",
           "#EF553B",
           "#00cc96",
           "#ab63fa",
           "#FFA15A",
           "#19d3f3",
           "#FF6692",
           "#B6E880",
           "#FF97FF",
           "#FECB52"
          ],
          "font": {
           "color": "#2a3f5f"
          },
          "geo": {
           "bgcolor": "white",
           "lakecolor": "white",
           "landcolor": "#E5ECF6",
           "showlakes": true,
           "showland": true,
           "subunitcolor": "white"
          },
          "hoverlabel": {
           "align": "left"
          },
          "hovermode": "closest",
          "mapbox": {
           "style": "light"
          },
          "paper_bgcolor": "white",
          "plot_bgcolor": "#E5ECF6",
          "polar": {
           "angularaxis": {
            "gridcolor": "white",
            "linecolor": "white",
            "ticks": ""
           },
           "bgcolor": "#E5ECF6",
           "radialaxis": {
            "gridcolor": "white",
            "linecolor": "white",
            "ticks": ""
           }
          },
          "scene": {
           "xaxis": {
            "backgroundcolor": "#E5ECF6",
            "gridcolor": "white",
            "gridwidth": 2,
            "linecolor": "white",
            "showbackground": true,
            "ticks": "",
            "zerolinecolor": "white"
           },
           "yaxis": {
            "backgroundcolor": "#E5ECF6",
            "gridcolor": "white",
            "gridwidth": 2,
            "linecolor": "white",
            "showbackground": true,
            "ticks": "",
            "zerolinecolor": "white"
           },
           "zaxis": {
            "backgroundcolor": "#E5ECF6",
            "gridcolor": "white",
            "gridwidth": 2,
            "linecolor": "white",
            "showbackground": true,
            "ticks": "",
            "zerolinecolor": "white"
           }
          },
          "shapedefaults": {
           "line": {
            "color": "#2a3f5f"
           }
          },
          "ternary": {
           "aaxis": {
            "gridcolor": "white",
            "linecolor": "white",
            "ticks": ""
           },
           "baxis": {
            "gridcolor": "white",
            "linecolor": "white",
            "ticks": ""
           },
           "bgcolor": "#E5ECF6",
           "caxis": {
            "gridcolor": "white",
            "linecolor": "white",
            "ticks": ""
           }
          },
          "title": {
           "x": 0.05
          },
          "xaxis": {
           "automargin": true,
           "gridcolor": "white",
           "linecolor": "white",
           "ticks": "",
           "title": {
            "standoff": 15
           },
           "zerolinecolor": "white",
           "zerolinewidth": 2
          },
          "yaxis": {
           "automargin": true,
           "gridcolor": "white",
           "linecolor": "white",
           "ticks": "",
           "title": {
            "standoff": 15
           },
           "zerolinecolor": "white",
           "zerolinewidth": 2
          }
         }
        },
        "xaxis": {
         "anchor": "y",
         "domain": [
          0,
          1
         ],
         "title": {
          "text": "mean"
         }
        },
        "yaxis": {
         "anchor": "x",
         "domain": [
          0,
          1
         ],
         "title": {
          "text": "max"
         }
        }
       }
      }
     },
     "metadata": {},
     "output_type": "display_data"
    }
   ],
   "source": [
    "px.scatter(teams, x='mean', y='max')"
   ]
  },
  {
   "cell_type": "code",
   "execution_count": 11,
   "metadata": {},
   "outputs": [
    {
     "data": {
      "text/html": [
       "<div>\n",
       "<style scoped>\n",
       "    .dataframe tbody tr th:only-of-type {\n",
       "        vertical-align: middle;\n",
       "    }\n",
       "\n",
       "    .dataframe tbody tr th {\n",
       "        vertical-align: top;\n",
       "    }\n",
       "\n",
       "    .dataframe thead th {\n",
       "        text-align: right;\n",
       "    }\n",
       "</style>\n",
       "<table border=\"1\" class=\"dataframe\">\n",
       "  <thead>\n",
       "    <tr style=\"text-align: right;\">\n",
       "      <th></th>\n",
       "      <th>bin_size</th>\n",
       "      <th>bin_hr_rate</th>\n",
       "      <th>avg_high</th>\n",
       "    </tr>\n",
       "    <tr>\n",
       "      <th>mean</th>\n",
       "      <th></th>\n",
       "      <th></th>\n",
       "      <th></th>\n",
       "    </tr>\n",
       "  </thead>\n",
       "  <tbody>\n",
       "    <tr>\n",
       "      <th>(0.2, 0.452]</th>\n",
       "      <td>46</td>\n",
       "      <td>0.387835</td>\n",
       "      <td>3.086957</td>\n",
       "    </tr>\n",
       "    <tr>\n",
       "      <th>(0.452, 0.515]</th>\n",
       "      <td>45</td>\n",
       "      <td>0.486970</td>\n",
       "      <td>3.266667</td>\n",
       "    </tr>\n",
       "    <tr>\n",
       "      <th>(0.515, 0.568]</th>\n",
       "      <td>46</td>\n",
       "      <td>0.542291</td>\n",
       "      <td>3.695652</td>\n",
       "    </tr>\n",
       "    <tr>\n",
       "      <th>(0.568, 0.592]</th>\n",
       "      <td>45</td>\n",
       "      <td>0.581021</td>\n",
       "      <td>3.577778</td>\n",
       "    </tr>\n",
       "    <tr>\n",
       "      <th>(0.592, 0.617]</th>\n",
       "      <td>47</td>\n",
       "      <td>0.602290</td>\n",
       "      <td>3.446809</td>\n",
       "    </tr>\n",
       "    <tr>\n",
       "      <th>(0.617, 0.648]</th>\n",
       "      <td>47</td>\n",
       "      <td>0.631872</td>\n",
       "      <td>3.914894</td>\n",
       "    </tr>\n",
       "    <tr>\n",
       "      <th>(0.648, 0.667]</th>\n",
       "      <td>52</td>\n",
       "      <td>0.659582</td>\n",
       "      <td>3.942308</td>\n",
       "    </tr>\n",
       "    <tr>\n",
       "      <th>(0.667, 0.683]</th>\n",
       "      <td>36</td>\n",
       "      <td>0.676267</td>\n",
       "      <td>4.027778</td>\n",
       "    </tr>\n",
       "    <tr>\n",
       "      <th>(0.683, 0.704]</th>\n",
       "      <td>53</td>\n",
       "      <td>0.695089</td>\n",
       "      <td>3.924528</td>\n",
       "    </tr>\n",
       "    <tr>\n",
       "      <th>(0.704, 0.726]</th>\n",
       "      <td>38</td>\n",
       "      <td>0.716250</td>\n",
       "      <td>4.105263</td>\n",
       "    </tr>\n",
       "    <tr>\n",
       "      <th>(0.726, 0.747]</th>\n",
       "      <td>55</td>\n",
       "      <td>0.736890</td>\n",
       "      <td>4.145455</td>\n",
       "    </tr>\n",
       "    <tr>\n",
       "      <th>(0.747, 0.765]</th>\n",
       "      <td>41</td>\n",
       "      <td>0.757659</td>\n",
       "      <td>4.097561</td>\n",
       "    </tr>\n",
       "    <tr>\n",
       "      <th>(0.765, 0.778]</th>\n",
       "      <td>42</td>\n",
       "      <td>0.773368</td>\n",
       "      <td>4.214286</td>\n",
       "    </tr>\n",
       "    <tr>\n",
       "      <th>(0.778, 0.796]</th>\n",
       "      <td>45</td>\n",
       "      <td>0.790252</td>\n",
       "      <td>4.177778</td>\n",
       "    </tr>\n",
       "    <tr>\n",
       "      <th>(0.796, 0.815]</th>\n",
       "      <td>50</td>\n",
       "      <td>0.806368</td>\n",
       "      <td>4.360000</td>\n",
       "    </tr>\n",
       "    <tr>\n",
       "      <th>(0.815, 0.833]</th>\n",
       "      <td>47</td>\n",
       "      <td>0.825775</td>\n",
       "      <td>4.489362</td>\n",
       "    </tr>\n",
       "    <tr>\n",
       "      <th>(0.833, 0.846]</th>\n",
       "      <td>40</td>\n",
       "      <td>0.841592</td>\n",
       "      <td>4.475000</td>\n",
       "    </tr>\n",
       "    <tr>\n",
       "      <th>(0.846, 0.864]</th>\n",
       "      <td>47</td>\n",
       "      <td>0.856988</td>\n",
       "      <td>4.382979</td>\n",
       "    </tr>\n",
       "    <tr>\n",
       "      <th>(0.864, 0.884]</th>\n",
       "      <td>43</td>\n",
       "      <td>0.875002</td>\n",
       "      <td>4.441860</td>\n",
       "    </tr>\n",
       "    <tr>\n",
       "      <th>(0.884, 0.907]</th>\n",
       "      <td>59</td>\n",
       "      <td>0.898874</td>\n",
       "      <td>4.440678</td>\n",
       "    </tr>\n",
       "    <tr>\n",
       "      <th>(0.907, 0.92]</th>\n",
       "      <td>37</td>\n",
       "      <td>0.915465</td>\n",
       "      <td>4.594595</td>\n",
       "    </tr>\n",
       "    <tr>\n",
       "      <th>(0.92, 0.938]</th>\n",
       "      <td>41</td>\n",
       "      <td>0.931807</td>\n",
       "      <td>4.634146</td>\n",
       "    </tr>\n",
       "    <tr>\n",
       "      <th>(0.938, 0.957]</th>\n",
       "      <td>52</td>\n",
       "      <td>0.949934</td>\n",
       "      <td>4.903846</td>\n",
       "    </tr>\n",
       "    <tr>\n",
       "      <th>(0.957, 0.975]</th>\n",
       "      <td>48</td>\n",
       "      <td>0.969118</td>\n",
       "      <td>4.562500</td>\n",
       "    </tr>\n",
       "    <tr>\n",
       "      <th>(0.975, 0.993]</th>\n",
       "      <td>35</td>\n",
       "      <td>0.984265</td>\n",
       "      <td>4.600000</td>\n",
       "    </tr>\n",
       "    <tr>\n",
       "      <th>(0.993, 1.0]</th>\n",
       "      <td>48</td>\n",
       "      <td>0.996638</td>\n",
       "      <td>4.750000</td>\n",
       "    </tr>\n",
       "    <tr>\n",
       "      <th>(1.0, 1.025]</th>\n",
       "      <td>43</td>\n",
       "      <td>1.012635</td>\n",
       "      <td>4.883721</td>\n",
       "    </tr>\n",
       "    <tr>\n",
       "      <th>(1.025, 1.043]</th>\n",
       "      <td>51</td>\n",
       "      <td>1.033107</td>\n",
       "      <td>4.882353</td>\n",
       "    </tr>\n",
       "    <tr>\n",
       "      <th>(1.043, 1.062]</th>\n",
       "      <td>46</td>\n",
       "      <td>1.055231</td>\n",
       "      <td>4.978261</td>\n",
       "    </tr>\n",
       "    <tr>\n",
       "      <th>(1.062, 1.086]</th>\n",
       "      <td>48</td>\n",
       "      <td>1.076306</td>\n",
       "      <td>4.979167</td>\n",
       "    </tr>\n",
       "    <tr>\n",
       "      <th>(1.086, 1.109]</th>\n",
       "      <td>37</td>\n",
       "      <td>1.097857</td>\n",
       "      <td>5.378378</td>\n",
       "    </tr>\n",
       "    <tr>\n",
       "      <th>(1.109, 1.136]</th>\n",
       "      <td>46</td>\n",
       "      <td>1.124484</td>\n",
       "      <td>5.260870</td>\n",
       "    </tr>\n",
       "    <tr>\n",
       "      <th>(1.136, 1.167]</th>\n",
       "      <td>49</td>\n",
       "      <td>1.153066</td>\n",
       "      <td>5.142857</td>\n",
       "    </tr>\n",
       "    <tr>\n",
       "      <th>(1.167, 1.204]</th>\n",
       "      <td>43</td>\n",
       "      <td>1.186487</td>\n",
       "      <td>5.232558</td>\n",
       "    </tr>\n",
       "    <tr>\n",
       "      <th>(1.204, 1.234]</th>\n",
       "      <td>44</td>\n",
       "      <td>1.218841</td>\n",
       "      <td>5.272727</td>\n",
       "    </tr>\n",
       "    <tr>\n",
       "      <th>(1.234, 1.282]</th>\n",
       "      <td>46</td>\n",
       "      <td>1.253055</td>\n",
       "      <td>5.456522</td>\n",
       "    </tr>\n",
       "    <tr>\n",
       "      <th>(1.282, 1.326]</th>\n",
       "      <td>45</td>\n",
       "      <td>1.302615</td>\n",
       "      <td>5.288889</td>\n",
       "    </tr>\n",
       "    <tr>\n",
       "      <th>(1.326, 1.371]</th>\n",
       "      <td>46</td>\n",
       "      <td>1.348687</td>\n",
       "      <td>5.760870</td>\n",
       "    </tr>\n",
       "    <tr>\n",
       "      <th>(1.371, 1.457]</th>\n",
       "      <td>46</td>\n",
       "      <td>1.413886</td>\n",
       "      <td>5.739130</td>\n",
       "    </tr>\n",
       "    <tr>\n",
       "      <th>(1.457, 1.967]</th>\n",
       "      <td>45</td>\n",
       "      <td>1.565140</td>\n",
       "      <td>6.355556</td>\n",
       "    </tr>\n",
       "  </tbody>\n",
       "</table>\n",
       "</div>"
      ],
      "text/plain": [
       "                bin_size  bin_hr_rate  avg_high\n",
       "mean                                           \n",
       "(0.2, 0.452]          46     0.387835  3.086957\n",
       "(0.452, 0.515]        45     0.486970  3.266667\n",
       "(0.515, 0.568]        46     0.542291  3.695652\n",
       "(0.568, 0.592]        45     0.581021  3.577778\n",
       "(0.592, 0.617]        47     0.602290  3.446809\n",
       "(0.617, 0.648]        47     0.631872  3.914894\n",
       "(0.648, 0.667]        52     0.659582  3.942308\n",
       "(0.667, 0.683]        36     0.676267  4.027778\n",
       "(0.683, 0.704]        53     0.695089  3.924528\n",
       "(0.704, 0.726]        38     0.716250  4.105263\n",
       "(0.726, 0.747]        55     0.736890  4.145455\n",
       "(0.747, 0.765]        41     0.757659  4.097561\n",
       "(0.765, 0.778]        42     0.773368  4.214286\n",
       "(0.778, 0.796]        45     0.790252  4.177778\n",
       "(0.796, 0.815]        50     0.806368  4.360000\n",
       "(0.815, 0.833]        47     0.825775  4.489362\n",
       "(0.833, 0.846]        40     0.841592  4.475000\n",
       "(0.846, 0.864]        47     0.856988  4.382979\n",
       "(0.864, 0.884]        43     0.875002  4.441860\n",
       "(0.884, 0.907]        59     0.898874  4.440678\n",
       "(0.907, 0.92]         37     0.915465  4.594595\n",
       "(0.92, 0.938]         41     0.931807  4.634146\n",
       "(0.938, 0.957]        52     0.949934  4.903846\n",
       "(0.957, 0.975]        48     0.969118  4.562500\n",
       "(0.975, 0.993]        35     0.984265  4.600000\n",
       "(0.993, 1.0]          48     0.996638  4.750000\n",
       "(1.0, 1.025]          43     1.012635  4.883721\n",
       "(1.025, 1.043]        51     1.033107  4.882353\n",
       "(1.043, 1.062]        46     1.055231  4.978261\n",
       "(1.062, 1.086]        48     1.076306  4.979167\n",
       "(1.086, 1.109]        37     1.097857  5.378378\n",
       "(1.109, 1.136]        46     1.124484  5.260870\n",
       "(1.136, 1.167]        49     1.153066  5.142857\n",
       "(1.167, 1.204]        43     1.186487  5.232558\n",
       "(1.204, 1.234]        44     1.218841  5.272727\n",
       "(1.234, 1.282]        46     1.253055  5.456522\n",
       "(1.282, 1.326]        45     1.302615  5.288889\n",
       "(1.326, 1.371]        46     1.348687  5.760870\n",
       "(1.371, 1.457]        46     1.413886  5.739130\n",
       "(1.457, 1.967]        45     1.565140  6.355556"
      ]
     },
     "execution_count": 11,
     "metadata": {},
     "output_type": "execute_result"
    }
   ],
   "source": [
    "bins = pd.qcut(teams['mean'], q=40)\n",
    "binned_teams = teams.groupby(bins).agg(bin_size=('max', len), bin_hr_rate=('mean', np.mean), avg_high=('max', np.mean))\n",
    "binned_teams"
   ]
  },
  {
   "cell_type": "code",
   "execution_count": 12,
   "metadata": {},
   "outputs": [
    {
     "data": {
      "application/vnd.plotly.v1+json": {
       "config": {
        "plotlyServerURL": "https://plot.ly"
       },
       "data": [
        {
         "customdata": [
          [
           46
          ],
          [
           45
          ],
          [
           46
          ],
          [
           45
          ],
          [
           47
          ],
          [
           47
          ],
          [
           52
          ],
          [
           36
          ],
          [
           53
          ],
          [
           38
          ],
          [
           55
          ],
          [
           41
          ],
          [
           42
          ],
          [
           45
          ],
          [
           50
          ],
          [
           47
          ],
          [
           40
          ],
          [
           47
          ],
          [
           43
          ],
          [
           59
          ],
          [
           37
          ],
          [
           41
          ],
          [
           52
          ],
          [
           48
          ],
          [
           35
          ],
          [
           48
          ],
          [
           43
          ],
          [
           51
          ],
          [
           46
          ],
          [
           48
          ],
          [
           37
          ],
          [
           46
          ],
          [
           49
          ],
          [
           43
          ],
          [
           44
          ],
          [
           46
          ],
          [
           45
          ],
          [
           46
          ],
          [
           46
          ],
          [
           45
          ]
         ],
         "hovertemplate": "bin_hr_rate=%{x}<br>avg_high=%{y}<br>bin_size=%{customdata[0]}<extra></extra>",
         "legendgroup": "",
         "marker": {
          "color": "#636efa",
          "symbol": "circle"
         },
         "mode": "markers",
         "name": "",
         "orientation": "v",
         "showlegend": false,
         "type": "scatter",
         "x": [
          0.38783540429549573,
          0.48696950341199363,
          0.542291140100097,
          0.5810213710393242,
          0.6022898199267896,
          0.6318723221398731,
          0.6595815783485863,
          0.6762671110238092,
          0.695089383640322,
          0.7162496611578382,
          0.7368901924961518,
          0.7576586839810313,
          0.7733675493133144,
          0.790251660962922,
          0.8063681973996603,
          0.8257754440835131,
          0.8415922049237364,
          0.8569876672591564,
          0.8750023623642941,
          0.8988736415451017,
          0.9154649930101305,
          0.931807419871768,
          0.9499341751205018,
          0.9691182631833007,
          0.9842648985514422,
          0.9966382304107652,
          1.0126349270474109,
          1.03310719878355,
          1.055231138087222,
          1.0763064168312895,
          1.097857073485399,
          1.1244837186145122,
          1.153066385593195,
          1.1864873188938043,
          1.218840724567912,
          1.2530551037862916,
          1.3026145336975032,
          1.34868650562688,
          1.413885914739626,
          1.5651403375348507
         ],
         "xaxis": "x",
         "y": [
          3.0869565217391304,
          3.2666666666666666,
          3.6956521739130435,
          3.577777777777778,
          3.4468085106382977,
          3.9148936170212765,
          3.9423076923076925,
          4.027777777777778,
          3.9245283018867925,
          4.105263157894737,
          4.1454545454545455,
          4.097560975609756,
          4.214285714285714,
          4.177777777777778,
          4.36,
          4.48936170212766,
          4.475,
          4.382978723404255,
          4.441860465116279,
          4.440677966101695,
          4.594594594594595,
          4.634146341463414,
          4.903846153846154,
          4.5625,
          4.6,
          4.75,
          4.883720930232558,
          4.882352941176471,
          4.978260869565218,
          4.979166666666667,
          5.378378378378378,
          5.260869565217392,
          5.142857142857143,
          5.232558139534884,
          5.2727272727272725,
          5.456521739130435,
          5.288888888888889,
          5.760869565217392,
          5.739130434782608,
          6.355555555555555
         ],
         "yaxis": "y"
        }
       ],
       "layout": {
        "legend": {
         "tracegroupgap": 0
        },
        "template": {
         "data": {
          "bar": [
           {
            "error_x": {
             "color": "#2a3f5f"
            },
            "error_y": {
             "color": "#2a3f5f"
            },
            "marker": {
             "line": {
              "color": "#E5ECF6",
              "width": 0.5
             }
            },
            "type": "bar"
           }
          ],
          "barpolar": [
           {
            "marker": {
             "line": {
              "color": "#E5ECF6",
              "width": 0.5
             }
            },
            "type": "barpolar"
           }
          ],
          "carpet": [
           {
            "aaxis": {
             "endlinecolor": "#2a3f5f",
             "gridcolor": "white",
             "linecolor": "white",
             "minorgridcolor": "white",
             "startlinecolor": "#2a3f5f"
            },
            "baxis": {
             "endlinecolor": "#2a3f5f",
             "gridcolor": "white",
             "linecolor": "white",
             "minorgridcolor": "white",
             "startlinecolor": "#2a3f5f"
            },
            "type": "carpet"
           }
          ],
          "choropleth": [
           {
            "colorbar": {
             "outlinewidth": 0,
             "ticks": ""
            },
            "type": "choropleth"
           }
          ],
          "contour": [
           {
            "colorbar": {
             "outlinewidth": 0,
             "ticks": ""
            },
            "colorscale": [
             [
              0,
              "#0d0887"
             ],
             [
              0.1111111111111111,
              "#46039f"
             ],
             [
              0.2222222222222222,
              "#7201a8"
             ],
             [
              0.3333333333333333,
              "#9c179e"
             ],
             [
              0.4444444444444444,
              "#bd3786"
             ],
             [
              0.5555555555555556,
              "#d8576b"
             ],
             [
              0.6666666666666666,
              "#ed7953"
             ],
             [
              0.7777777777777778,
              "#fb9f3a"
             ],
             [
              0.8888888888888888,
              "#fdca26"
             ],
             [
              1,
              "#f0f921"
             ]
            ],
            "type": "contour"
           }
          ],
          "contourcarpet": [
           {
            "colorbar": {
             "outlinewidth": 0,
             "ticks": ""
            },
            "type": "contourcarpet"
           }
          ],
          "heatmap": [
           {
            "colorbar": {
             "outlinewidth": 0,
             "ticks": ""
            },
            "colorscale": [
             [
              0,
              "#0d0887"
             ],
             [
              0.1111111111111111,
              "#46039f"
             ],
             [
              0.2222222222222222,
              "#7201a8"
             ],
             [
              0.3333333333333333,
              "#9c179e"
             ],
             [
              0.4444444444444444,
              "#bd3786"
             ],
             [
              0.5555555555555556,
              "#d8576b"
             ],
             [
              0.6666666666666666,
              "#ed7953"
             ],
             [
              0.7777777777777778,
              "#fb9f3a"
             ],
             [
              0.8888888888888888,
              "#fdca26"
             ],
             [
              1,
              "#f0f921"
             ]
            ],
            "type": "heatmap"
           }
          ],
          "heatmapgl": [
           {
            "colorbar": {
             "outlinewidth": 0,
             "ticks": ""
            },
            "colorscale": [
             [
              0,
              "#0d0887"
             ],
             [
              0.1111111111111111,
              "#46039f"
             ],
             [
              0.2222222222222222,
              "#7201a8"
             ],
             [
              0.3333333333333333,
              "#9c179e"
             ],
             [
              0.4444444444444444,
              "#bd3786"
             ],
             [
              0.5555555555555556,
              "#d8576b"
             ],
             [
              0.6666666666666666,
              "#ed7953"
             ],
             [
              0.7777777777777778,
              "#fb9f3a"
             ],
             [
              0.8888888888888888,
              "#fdca26"
             ],
             [
              1,
              "#f0f921"
             ]
            ],
            "type": "heatmapgl"
           }
          ],
          "histogram": [
           {
            "marker": {
             "colorbar": {
              "outlinewidth": 0,
              "ticks": ""
             }
            },
            "type": "histogram"
           }
          ],
          "histogram2d": [
           {
            "colorbar": {
             "outlinewidth": 0,
             "ticks": ""
            },
            "colorscale": [
             [
              0,
              "#0d0887"
             ],
             [
              0.1111111111111111,
              "#46039f"
             ],
             [
              0.2222222222222222,
              "#7201a8"
             ],
             [
              0.3333333333333333,
              "#9c179e"
             ],
             [
              0.4444444444444444,
              "#bd3786"
             ],
             [
              0.5555555555555556,
              "#d8576b"
             ],
             [
              0.6666666666666666,
              "#ed7953"
             ],
             [
              0.7777777777777778,
              "#fb9f3a"
             ],
             [
              0.8888888888888888,
              "#fdca26"
             ],
             [
              1,
              "#f0f921"
             ]
            ],
            "type": "histogram2d"
           }
          ],
          "histogram2dcontour": [
           {
            "colorbar": {
             "outlinewidth": 0,
             "ticks": ""
            },
            "colorscale": [
             [
              0,
              "#0d0887"
             ],
             [
              0.1111111111111111,
              "#46039f"
             ],
             [
              0.2222222222222222,
              "#7201a8"
             ],
             [
              0.3333333333333333,
              "#9c179e"
             ],
             [
              0.4444444444444444,
              "#bd3786"
             ],
             [
              0.5555555555555556,
              "#d8576b"
             ],
             [
              0.6666666666666666,
              "#ed7953"
             ],
             [
              0.7777777777777778,
              "#fb9f3a"
             ],
             [
              0.8888888888888888,
              "#fdca26"
             ],
             [
              1,
              "#f0f921"
             ]
            ],
            "type": "histogram2dcontour"
           }
          ],
          "mesh3d": [
           {
            "colorbar": {
             "outlinewidth": 0,
             "ticks": ""
            },
            "type": "mesh3d"
           }
          ],
          "parcoords": [
           {
            "line": {
             "colorbar": {
              "outlinewidth": 0,
              "ticks": ""
             }
            },
            "type": "parcoords"
           }
          ],
          "pie": [
           {
            "automargin": true,
            "type": "pie"
           }
          ],
          "scatter": [
           {
            "marker": {
             "colorbar": {
              "outlinewidth": 0,
              "ticks": ""
             }
            },
            "type": "scatter"
           }
          ],
          "scatter3d": [
           {
            "line": {
             "colorbar": {
              "outlinewidth": 0,
              "ticks": ""
             }
            },
            "marker": {
             "colorbar": {
              "outlinewidth": 0,
              "ticks": ""
             }
            },
            "type": "scatter3d"
           }
          ],
          "scattercarpet": [
           {
            "marker": {
             "colorbar": {
              "outlinewidth": 0,
              "ticks": ""
             }
            },
            "type": "scattercarpet"
           }
          ],
          "scattergeo": [
           {
            "marker": {
             "colorbar": {
              "outlinewidth": 0,
              "ticks": ""
             }
            },
            "type": "scattergeo"
           }
          ],
          "scattergl": [
           {
            "marker": {
             "colorbar": {
              "outlinewidth": 0,
              "ticks": ""
             }
            },
            "type": "scattergl"
           }
          ],
          "scattermapbox": [
           {
            "marker": {
             "colorbar": {
              "outlinewidth": 0,
              "ticks": ""
             }
            },
            "type": "scattermapbox"
           }
          ],
          "scatterpolar": [
           {
            "marker": {
             "colorbar": {
              "outlinewidth": 0,
              "ticks": ""
             }
            },
            "type": "scatterpolar"
           }
          ],
          "scatterpolargl": [
           {
            "marker": {
             "colorbar": {
              "outlinewidth": 0,
              "ticks": ""
             }
            },
            "type": "scatterpolargl"
           }
          ],
          "scatterternary": [
           {
            "marker": {
             "colorbar": {
              "outlinewidth": 0,
              "ticks": ""
             }
            },
            "type": "scatterternary"
           }
          ],
          "surface": [
           {
            "colorbar": {
             "outlinewidth": 0,
             "ticks": ""
            },
            "colorscale": [
             [
              0,
              "#0d0887"
             ],
             [
              0.1111111111111111,
              "#46039f"
             ],
             [
              0.2222222222222222,
              "#7201a8"
             ],
             [
              0.3333333333333333,
              "#9c179e"
             ],
             [
              0.4444444444444444,
              "#bd3786"
             ],
             [
              0.5555555555555556,
              "#d8576b"
             ],
             [
              0.6666666666666666,
              "#ed7953"
             ],
             [
              0.7777777777777778,
              "#fb9f3a"
             ],
             [
              0.8888888888888888,
              "#fdca26"
             ],
             [
              1,
              "#f0f921"
             ]
            ],
            "type": "surface"
           }
          ],
          "table": [
           {
            "cells": {
             "fill": {
              "color": "#EBF0F8"
             },
             "line": {
              "color": "white"
             }
            },
            "header": {
             "fill": {
              "color": "#C8D4E3"
             },
             "line": {
              "color": "white"
             }
            },
            "type": "table"
           }
          ]
         },
         "layout": {
          "annotationdefaults": {
           "arrowcolor": "#2a3f5f",
           "arrowhead": 0,
           "arrowwidth": 1
          },
          "autotypenumbers": "strict",
          "coloraxis": {
           "colorbar": {
            "outlinewidth": 0,
            "ticks": ""
           }
          },
          "colorscale": {
           "diverging": [
            [
             0,
             "#8e0152"
            ],
            [
             0.1,
             "#c51b7d"
            ],
            [
             0.2,
             "#de77ae"
            ],
            [
             0.3,
             "#f1b6da"
            ],
            [
             0.4,
             "#fde0ef"
            ],
            [
             0.5,
             "#f7f7f7"
            ],
            [
             0.6,
             "#e6f5d0"
            ],
            [
             0.7,
             "#b8e186"
            ],
            [
             0.8,
             "#7fbc41"
            ],
            [
             0.9,
             "#4d9221"
            ],
            [
             1,
             "#276419"
            ]
           ],
           "sequential": [
            [
             0,
             "#0d0887"
            ],
            [
             0.1111111111111111,
             "#46039f"
            ],
            [
             0.2222222222222222,
             "#7201a8"
            ],
            [
             0.3333333333333333,
             "#9c179e"
            ],
            [
             0.4444444444444444,
             "#bd3786"
            ],
            [
             0.5555555555555556,
             "#d8576b"
            ],
            [
             0.6666666666666666,
             "#ed7953"
            ],
            [
             0.7777777777777778,
             "#fb9f3a"
            ],
            [
             0.8888888888888888,
             "#fdca26"
            ],
            [
             1,
             "#f0f921"
            ]
           ],
           "sequentialminus": [
            [
             0,
             "#0d0887"
            ],
            [
             0.1111111111111111,
             "#46039f"
            ],
            [
             0.2222222222222222,
             "#7201a8"
            ],
            [
             0.3333333333333333,
             "#9c179e"
            ],
            [
             0.4444444444444444,
             "#bd3786"
            ],
            [
             0.5555555555555556,
             "#d8576b"
            ],
            [
             0.6666666666666666,
             "#ed7953"
            ],
            [
             0.7777777777777778,
             "#fb9f3a"
            ],
            [
             0.8888888888888888,
             "#fdca26"
            ],
            [
             1,
             "#f0f921"
            ]
           ]
          },
          "colorway": [
           "#636efa",
           "#EF553B",
           "#00cc96",
           "#ab63fa",
           "#FFA15A",
           "#19d3f3",
           "#FF6692",
           "#B6E880",
           "#FF97FF",
           "#FECB52"
          ],
          "font": {
           "color": "#2a3f5f"
          },
          "geo": {
           "bgcolor": "white",
           "lakecolor": "white",
           "landcolor": "#E5ECF6",
           "showlakes": true,
           "showland": true,
           "subunitcolor": "white"
          },
          "hoverlabel": {
           "align": "left"
          },
          "hovermode": "closest",
          "mapbox": {
           "style": "light"
          },
          "paper_bgcolor": "white",
          "plot_bgcolor": "#E5ECF6",
          "polar": {
           "angularaxis": {
            "gridcolor": "white",
            "linecolor": "white",
            "ticks": ""
           },
           "bgcolor": "#E5ECF6",
           "radialaxis": {
            "gridcolor": "white",
            "linecolor": "white",
            "ticks": ""
           }
          },
          "scene": {
           "xaxis": {
            "backgroundcolor": "#E5ECF6",
            "gridcolor": "white",
            "gridwidth": 2,
            "linecolor": "white",
            "showbackground": true,
            "ticks": "",
            "zerolinecolor": "white"
           },
           "yaxis": {
            "backgroundcolor": "#E5ECF6",
            "gridcolor": "white",
            "gridwidth": 2,
            "linecolor": "white",
            "showbackground": true,
            "ticks": "",
            "zerolinecolor": "white"
           },
           "zaxis": {
            "backgroundcolor": "#E5ECF6",
            "gridcolor": "white",
            "gridwidth": 2,
            "linecolor": "white",
            "showbackground": true,
            "ticks": "",
            "zerolinecolor": "white"
           }
          },
          "shapedefaults": {
           "line": {
            "color": "#2a3f5f"
           }
          },
          "ternary": {
           "aaxis": {
            "gridcolor": "white",
            "linecolor": "white",
            "ticks": ""
           },
           "baxis": {
            "gridcolor": "white",
            "linecolor": "white",
            "ticks": ""
           },
           "bgcolor": "#E5ECF6",
           "caxis": {
            "gridcolor": "white",
            "linecolor": "white",
            "ticks": ""
           }
          },
          "title": {
           "x": 0.05
          },
          "xaxis": {
           "automargin": true,
           "gridcolor": "white",
           "linecolor": "white",
           "ticks": "",
           "title": {
            "standoff": 15
           },
           "zerolinecolor": "white",
           "zerolinewidth": 2
          },
          "yaxis": {
           "automargin": true,
           "gridcolor": "white",
           "linecolor": "white",
           "ticks": "",
           "title": {
            "standoff": 15
           },
           "zerolinecolor": "white",
           "zerolinewidth": 2
          }
         }
        },
        "title": {
         "text": "Team-seasons binned by HR/G rate"
        },
        "xaxis": {
         "anchor": "y",
         "domain": [
          0,
          1
         ],
         "title": {
          "text": "bin_hr_rate"
         }
        },
        "yaxis": {
         "anchor": "x",
         "domain": [
          0,
          1
         ],
         "title": {
          "text": "avg_high"
         }
        }
       }
      }
     },
     "metadata": {},
     "output_type": "display_data"
    }
   ],
   "source": [
    "px.scatter(binned_teams, x='bin_hr_rate', y='avg_high', hover_data=['bin_size'], title=\"Team-seasons binned by HR/G rate\")"
   ]
  },
  {
   "cell_type": "code",
   "execution_count": 13,
   "metadata": {},
   "outputs": [],
   "source": [
    "from sklearn.linear_model import LinearRegression\n",
    "from sklearn.metrics import mean_squared_error"
   ]
  },
  {
   "cell_type": "code",
   "execution_count": 14,
   "metadata": {},
   "outputs": [
    {
     "data": {
      "text/plain": [
       "yr    team\n",
       "1947  BOS     3.880311\n",
       "      BRO     3.553362\n",
       "      BSN     3.598009\n",
       "      CHA     3.028506\n",
       "      CHN     3.343420\n",
       "                ...   \n",
       "2019  SLN     5.616502\n",
       "      TBA     5.733677\n",
       "      TEX     5.834112\n",
       "      TOR     6.235854\n",
       "      WAS     5.968026\n",
       "Name: pred, Length: 1708, dtype: float64"
      ]
     },
     "execution_count": 14,
     "metadata": {},
     "output_type": "execute_result"
    }
   ],
   "source": [
    "# Do a linear regression, predicting team-season high HR count from team-season HR/G rate \n",
    "\n",
    "lr = LinearRegression()\n",
    "\n",
    "qualified_tms = teams.query('g >= @MIN_SEASON_SIZE')\n",
    "\n",
    "X = qualified_tms[['mean']]\n",
    "y = qualified_tms['max'].astype(int)\n",
    "\n",
    "lr.fit(X, y)\n",
    "\n",
    "y_pred = pd.Series(lr.predict(X), index=X.index).rename('pred')\n",
    "y_pred\n"
   ]
  },
  {
   "cell_type": "code",
   "execution_count": 15,
   "metadata": {},
   "outputs": [
    {
     "data": {
      "text/html": [
       "<div>\n",
       "<style scoped>\n",
       "    .dataframe tbody tr th:only-of-type {\n",
       "        vertical-align: middle;\n",
       "    }\n",
       "\n",
       "    .dataframe tbody tr th {\n",
       "        vertical-align: top;\n",
       "    }\n",
       "\n",
       "    .dataframe thead th {\n",
       "        text-align: right;\n",
       "    }\n",
       "</style>\n",
       "<table border=\"1\" class=\"dataframe\">\n",
       "  <thead>\n",
       "    <tr style=\"text-align: right;\">\n",
       "      <th></th>\n",
       "      <th></th>\n",
       "      <th>max</th>\n",
       "      <th>pred</th>\n",
       "      <th>err</th>\n",
       "      <th>abs_err</th>\n",
       "    </tr>\n",
       "    <tr>\n",
       "      <th>yr</th>\n",
       "      <th>team</th>\n",
       "      <th></th>\n",
       "      <th></th>\n",
       "      <th></th>\n",
       "      <th></th>\n",
       "    </tr>\n",
       "  </thead>\n",
       "  <tbody>\n",
       "    <tr>\n",
       "      <th rowspan=\"5\" valign=\"top\">1947</th>\n",
       "      <th>BOS</th>\n",
       "      <td>4</td>\n",
       "      <td>3.880311</td>\n",
       "      <td>0.119689</td>\n",
       "      <td>0.119689</td>\n",
       "    </tr>\n",
       "    <tr>\n",
       "      <th>BRO</th>\n",
       "      <td>3</td>\n",
       "      <td>3.553362</td>\n",
       "      <td>-0.553362</td>\n",
       "      <td>0.553362</td>\n",
       "    </tr>\n",
       "    <tr>\n",
       "      <th>BSN</th>\n",
       "      <td>4</td>\n",
       "      <td>3.598009</td>\n",
       "      <td>0.401991</td>\n",
       "      <td>0.401991</td>\n",
       "    </tr>\n",
       "    <tr>\n",
       "      <th>CHA</th>\n",
       "      <td>3</td>\n",
       "      <td>3.028506</td>\n",
       "      <td>-0.028506</td>\n",
       "      <td>0.028506</td>\n",
       "    </tr>\n",
       "    <tr>\n",
       "      <th>CHN</th>\n",
       "      <td>4</td>\n",
       "      <td>3.343420</td>\n",
       "      <td>0.656580</td>\n",
       "      <td>0.656580</td>\n",
       "    </tr>\n",
       "    <tr>\n",
       "      <th>...</th>\n",
       "      <th>...</th>\n",
       "      <td>...</td>\n",
       "      <td>...</td>\n",
       "      <td>...</td>\n",
       "      <td>...</td>\n",
       "    </tr>\n",
       "    <tr>\n",
       "      <th rowspan=\"5\" valign=\"top\">2019</th>\n",
       "      <th>SLN</th>\n",
       "      <td>5</td>\n",
       "      <td>5.616502</td>\n",
       "      <td>-0.616502</td>\n",
       "      <td>0.616502</td>\n",
       "    </tr>\n",
       "    <tr>\n",
       "      <th>TBA</th>\n",
       "      <td>6</td>\n",
       "      <td>5.733677</td>\n",
       "      <td>0.266323</td>\n",
       "      <td>0.266323</td>\n",
       "    </tr>\n",
       "    <tr>\n",
       "      <th>TEX</th>\n",
       "      <td>5</td>\n",
       "      <td>5.834112</td>\n",
       "      <td>-0.834112</td>\n",
       "      <td>0.834112</td>\n",
       "    </tr>\n",
       "    <tr>\n",
       "      <th>TOR</th>\n",
       "      <td>6</td>\n",
       "      <td>6.235854</td>\n",
       "      <td>-0.235854</td>\n",
       "      <td>0.235854</td>\n",
       "    </tr>\n",
       "    <tr>\n",
       "      <th>WAS</th>\n",
       "      <td>8</td>\n",
       "      <td>5.968026</td>\n",
       "      <td>2.031974</td>\n",
       "      <td>2.031974</td>\n",
       "    </tr>\n",
       "  </tbody>\n",
       "</table>\n",
       "<p>1708 rows × 4 columns</p>\n",
       "</div>"
      ],
      "text/plain": [
       "           max      pred       err   abs_err\n",
       "yr   team                                   \n",
       "1947 BOS     4  3.880311  0.119689  0.119689\n",
       "     BRO     3  3.553362 -0.553362  0.553362\n",
       "     BSN     4  3.598009  0.401991  0.401991\n",
       "     CHA     3  3.028506 -0.028506  0.028506\n",
       "     CHN     4  3.343420  0.656580  0.656580\n",
       "...        ...       ...       ...       ...\n",
       "2019 SLN     5  5.616502 -0.616502  0.616502\n",
       "     TBA     6  5.733677  0.266323  0.266323\n",
       "     TEX     5  5.834112 -0.834112  0.834112\n",
       "     TOR     6  6.235854 -0.235854  0.235854\n",
       "     WAS     8  5.968026  2.031974  2.031974\n",
       "\n",
       "[1708 rows x 4 columns]"
      ]
     },
     "execution_count": 15,
     "metadata": {},
     "output_type": "execute_result"
    }
   ],
   "source": [
    "# Look at the \"errors\" over time\n",
    "ys = pd.concat([y, y_pred], axis=1)\n",
    "ys['err'] = ys['max'] - ys['pred']\n",
    "ys['abs_err'] = abs(ys['err'])\n",
    "ys"
   ]
  },
  {
   "cell_type": "code",
   "execution_count": 16,
   "metadata": {},
   "outputs": [
    {
     "data": {
      "application/vnd.plotly.v1+json": {
       "config": {
        "plotlyServerURL": "https://plot.ly"
       },
       "data": [
        {
         "hovertemplate": "variable=err<br>yr=%{x}<br>value=%{y}<extra></extra>",
         "legendgroup": "err",
         "marker": {
          "color": "#636efa",
          "symbol": "circle"
         },
         "mode": "markers",
         "name": "err",
         "orientation": "v",
         "showlegend": true,
         "type": "scatter",
         "x": [
          1947,
          1948,
          1949,
          1950,
          1951,
          1952,
          1953,
          1954,
          1955,
          1956,
          1957,
          1958,
          1959,
          1960,
          1961,
          1962,
          1963,
          1964,
          1965,
          1966,
          1967,
          1968,
          1969,
          1970,
          1971,
          1972,
          1973,
          1974,
          1975,
          1976,
          1977,
          1978,
          1979,
          1980,
          1982,
          1983,
          1984,
          1985,
          1986,
          1987,
          1988,
          1989,
          1990,
          1991,
          1992,
          1993,
          1996,
          1997,
          1998,
          1999,
          2000,
          2001,
          2002,
          2003,
          2004,
          2005,
          2006,
          2007,
          2008,
          2009,
          2010,
          2011,
          2012,
          2013,
          2014,
          2015,
          2016,
          2017,
          2018,
          2019
         ],
         "xaxis": "x",
         "y": [
          0.31773468527461185,
          0.007972320769750768,
          0.41134652335358524,
          0.4409887313967257,
          -0.07466458844000004,
          -0.3391184538249537,
          -0.18291504977811757,
          0.4609716703448744,
          0.20355900043259567,
          0.13788428901728028,
          0.16836316483473127,
          -0.3110160819743237,
          -0.19070571057055885,
          -0.373236187168393,
          0.25462375756006383,
          -0.060731949463648016,
          -0.11665737092837951,
          -0.10399464864624355,
          0.002831509843676261,
          0.14578000691633008,
          0.12479761120675663,
          -0.16515703246512992,
          -0.0661766780439056,
          0.09065314448381191,
          -0.1878784635840458,
          -0.03296204805289601,
          -0.22401600515926556,
          0.26086833494690814,
          -0.16043088249033455,
          0.16890884729982278,
          0.2802363492168321,
          -0.04617551020506468,
          0.33191779206257116,
          0.25632276662582876,
          -0.3905426514538466,
          -0.06996449043675784,
          -0.3918648511659155,
          -0.11609128136010485,
          -0.32820121724097867,
          0.02715933936644124,
          -0.07774246364573825,
          0.06737888528756387,
          0.14688611348440334,
          -0.08911312999998913,
          -0.4417918931535852,
          -0.045192194401017786,
          0.03831336618232263,
          0.05088747857621475,
          -0.09094616651193904,
          0.012130971331461548,
          -0.07917536471831091,
          -0.18141013198230968,
          0.4381824851826833,
          0.09361874220647687,
          0.0885870562129632,
          -0.13264235204152902,
          0.225617880909279,
          -0.06597086880106467,
          -0.02524926162110024,
          -0.18101209399543244,
          -0.04186485918429246,
          0.09123241511143194,
          -0.08764149787999873,
          0.2658529719665724,
          0.2963904618636825,
          -0.04137076926436798,
          -0.0004047562860533501,
          -0.14103021204200922,
          -0.18236304754671656,
          0.15008809470494264
         ],
         "yaxis": "y"
        }
       ],
       "layout": {
        "legend": {
         "title": {
          "text": "variable"
         },
         "tracegroupgap": 0
        },
        "margin": {
         "t": 60
        },
        "template": {
         "data": {
          "bar": [
           {
            "error_x": {
             "color": "#2a3f5f"
            },
            "error_y": {
             "color": "#2a3f5f"
            },
            "marker": {
             "line": {
              "color": "#E5ECF6",
              "width": 0.5
             }
            },
            "type": "bar"
           }
          ],
          "barpolar": [
           {
            "marker": {
             "line": {
              "color": "#E5ECF6",
              "width": 0.5
             }
            },
            "type": "barpolar"
           }
          ],
          "carpet": [
           {
            "aaxis": {
             "endlinecolor": "#2a3f5f",
             "gridcolor": "white",
             "linecolor": "white",
             "minorgridcolor": "white",
             "startlinecolor": "#2a3f5f"
            },
            "baxis": {
             "endlinecolor": "#2a3f5f",
             "gridcolor": "white",
             "linecolor": "white",
             "minorgridcolor": "white",
             "startlinecolor": "#2a3f5f"
            },
            "type": "carpet"
           }
          ],
          "choropleth": [
           {
            "colorbar": {
             "outlinewidth": 0,
             "ticks": ""
            },
            "type": "choropleth"
           }
          ],
          "contour": [
           {
            "colorbar": {
             "outlinewidth": 0,
             "ticks": ""
            },
            "colorscale": [
             [
              0,
              "#0d0887"
             ],
             [
              0.1111111111111111,
              "#46039f"
             ],
             [
              0.2222222222222222,
              "#7201a8"
             ],
             [
              0.3333333333333333,
              "#9c179e"
             ],
             [
              0.4444444444444444,
              "#bd3786"
             ],
             [
              0.5555555555555556,
              "#d8576b"
             ],
             [
              0.6666666666666666,
              "#ed7953"
             ],
             [
              0.7777777777777778,
              "#fb9f3a"
             ],
             [
              0.8888888888888888,
              "#fdca26"
             ],
             [
              1,
              "#f0f921"
             ]
            ],
            "type": "contour"
           }
          ],
          "contourcarpet": [
           {
            "colorbar": {
             "outlinewidth": 0,
             "ticks": ""
            },
            "type": "contourcarpet"
           }
          ],
          "heatmap": [
           {
            "colorbar": {
             "outlinewidth": 0,
             "ticks": ""
            },
            "colorscale": [
             [
              0,
              "#0d0887"
             ],
             [
              0.1111111111111111,
              "#46039f"
             ],
             [
              0.2222222222222222,
              "#7201a8"
             ],
             [
              0.3333333333333333,
              "#9c179e"
             ],
             [
              0.4444444444444444,
              "#bd3786"
             ],
             [
              0.5555555555555556,
              "#d8576b"
             ],
             [
              0.6666666666666666,
              "#ed7953"
             ],
             [
              0.7777777777777778,
              "#fb9f3a"
             ],
             [
              0.8888888888888888,
              "#fdca26"
             ],
             [
              1,
              "#f0f921"
             ]
            ],
            "type": "heatmap"
           }
          ],
          "heatmapgl": [
           {
            "colorbar": {
             "outlinewidth": 0,
             "ticks": ""
            },
            "colorscale": [
             [
              0,
              "#0d0887"
             ],
             [
              0.1111111111111111,
              "#46039f"
             ],
             [
              0.2222222222222222,
              "#7201a8"
             ],
             [
              0.3333333333333333,
              "#9c179e"
             ],
             [
              0.4444444444444444,
              "#bd3786"
             ],
             [
              0.5555555555555556,
              "#d8576b"
             ],
             [
              0.6666666666666666,
              "#ed7953"
             ],
             [
              0.7777777777777778,
              "#fb9f3a"
             ],
             [
              0.8888888888888888,
              "#fdca26"
             ],
             [
              1,
              "#f0f921"
             ]
            ],
            "type": "heatmapgl"
           }
          ],
          "histogram": [
           {
            "marker": {
             "colorbar": {
              "outlinewidth": 0,
              "ticks": ""
             }
            },
            "type": "histogram"
           }
          ],
          "histogram2d": [
           {
            "colorbar": {
             "outlinewidth": 0,
             "ticks": ""
            },
            "colorscale": [
             [
              0,
              "#0d0887"
             ],
             [
              0.1111111111111111,
              "#46039f"
             ],
             [
              0.2222222222222222,
              "#7201a8"
             ],
             [
              0.3333333333333333,
              "#9c179e"
             ],
             [
              0.4444444444444444,
              "#bd3786"
             ],
             [
              0.5555555555555556,
              "#d8576b"
             ],
             [
              0.6666666666666666,
              "#ed7953"
             ],
             [
              0.7777777777777778,
              "#fb9f3a"
             ],
             [
              0.8888888888888888,
              "#fdca26"
             ],
             [
              1,
              "#f0f921"
             ]
            ],
            "type": "histogram2d"
           }
          ],
          "histogram2dcontour": [
           {
            "colorbar": {
             "outlinewidth": 0,
             "ticks": ""
            },
            "colorscale": [
             [
              0,
              "#0d0887"
             ],
             [
              0.1111111111111111,
              "#46039f"
             ],
             [
              0.2222222222222222,
              "#7201a8"
             ],
             [
              0.3333333333333333,
              "#9c179e"
             ],
             [
              0.4444444444444444,
              "#bd3786"
             ],
             [
              0.5555555555555556,
              "#d8576b"
             ],
             [
              0.6666666666666666,
              "#ed7953"
             ],
             [
              0.7777777777777778,
              "#fb9f3a"
             ],
             [
              0.8888888888888888,
              "#fdca26"
             ],
             [
              1,
              "#f0f921"
             ]
            ],
            "type": "histogram2dcontour"
           }
          ],
          "mesh3d": [
           {
            "colorbar": {
             "outlinewidth": 0,
             "ticks": ""
            },
            "type": "mesh3d"
           }
          ],
          "parcoords": [
           {
            "line": {
             "colorbar": {
              "outlinewidth": 0,
              "ticks": ""
             }
            },
            "type": "parcoords"
           }
          ],
          "pie": [
           {
            "automargin": true,
            "type": "pie"
           }
          ],
          "scatter": [
           {
            "marker": {
             "colorbar": {
              "outlinewidth": 0,
              "ticks": ""
             }
            },
            "type": "scatter"
           }
          ],
          "scatter3d": [
           {
            "line": {
             "colorbar": {
              "outlinewidth": 0,
              "ticks": ""
             }
            },
            "marker": {
             "colorbar": {
              "outlinewidth": 0,
              "ticks": ""
             }
            },
            "type": "scatter3d"
           }
          ],
          "scattercarpet": [
           {
            "marker": {
             "colorbar": {
              "outlinewidth": 0,
              "ticks": ""
             }
            },
            "type": "scattercarpet"
           }
          ],
          "scattergeo": [
           {
            "marker": {
             "colorbar": {
              "outlinewidth": 0,
              "ticks": ""
             }
            },
            "type": "scattergeo"
           }
          ],
          "scattergl": [
           {
            "marker": {
             "colorbar": {
              "outlinewidth": 0,
              "ticks": ""
             }
            },
            "type": "scattergl"
           }
          ],
          "scattermapbox": [
           {
            "marker": {
             "colorbar": {
              "outlinewidth": 0,
              "ticks": ""
             }
            },
            "type": "scattermapbox"
           }
          ],
          "scatterpolar": [
           {
            "marker": {
             "colorbar": {
              "outlinewidth": 0,
              "ticks": ""
             }
            },
            "type": "scatterpolar"
           }
          ],
          "scatterpolargl": [
           {
            "marker": {
             "colorbar": {
              "outlinewidth": 0,
              "ticks": ""
             }
            },
            "type": "scatterpolargl"
           }
          ],
          "scatterternary": [
           {
            "marker": {
             "colorbar": {
              "outlinewidth": 0,
              "ticks": ""
             }
            },
            "type": "scatterternary"
           }
          ],
          "surface": [
           {
            "colorbar": {
             "outlinewidth": 0,
             "ticks": ""
            },
            "colorscale": [
             [
              0,
              "#0d0887"
             ],
             [
              0.1111111111111111,
              "#46039f"
             ],
             [
              0.2222222222222222,
              "#7201a8"
             ],
             [
              0.3333333333333333,
              "#9c179e"
             ],
             [
              0.4444444444444444,
              "#bd3786"
             ],
             [
              0.5555555555555556,
              "#d8576b"
             ],
             [
              0.6666666666666666,
              "#ed7953"
             ],
             [
              0.7777777777777778,
              "#fb9f3a"
             ],
             [
              0.8888888888888888,
              "#fdca26"
             ],
             [
              1,
              "#f0f921"
             ]
            ],
            "type": "surface"
           }
          ],
          "table": [
           {
            "cells": {
             "fill": {
              "color": "#EBF0F8"
             },
             "line": {
              "color": "white"
             }
            },
            "header": {
             "fill": {
              "color": "#C8D4E3"
             },
             "line": {
              "color": "white"
             }
            },
            "type": "table"
           }
          ]
         },
         "layout": {
          "annotationdefaults": {
           "arrowcolor": "#2a3f5f",
           "arrowhead": 0,
           "arrowwidth": 1
          },
          "autotypenumbers": "strict",
          "coloraxis": {
           "colorbar": {
            "outlinewidth": 0,
            "ticks": ""
           }
          },
          "colorscale": {
           "diverging": [
            [
             0,
             "#8e0152"
            ],
            [
             0.1,
             "#c51b7d"
            ],
            [
             0.2,
             "#de77ae"
            ],
            [
             0.3,
             "#f1b6da"
            ],
            [
             0.4,
             "#fde0ef"
            ],
            [
             0.5,
             "#f7f7f7"
            ],
            [
             0.6,
             "#e6f5d0"
            ],
            [
             0.7,
             "#b8e186"
            ],
            [
             0.8,
             "#7fbc41"
            ],
            [
             0.9,
             "#4d9221"
            ],
            [
             1,
             "#276419"
            ]
           ],
           "sequential": [
            [
             0,
             "#0d0887"
            ],
            [
             0.1111111111111111,
             "#46039f"
            ],
            [
             0.2222222222222222,
             "#7201a8"
            ],
            [
             0.3333333333333333,
             "#9c179e"
            ],
            [
             0.4444444444444444,
             "#bd3786"
            ],
            [
             0.5555555555555556,
             "#d8576b"
            ],
            [
             0.6666666666666666,
             "#ed7953"
            ],
            [
             0.7777777777777778,
             "#fb9f3a"
            ],
            [
             0.8888888888888888,
             "#fdca26"
            ],
            [
             1,
             "#f0f921"
            ]
           ],
           "sequentialminus": [
            [
             0,
             "#0d0887"
            ],
            [
             0.1111111111111111,
             "#46039f"
            ],
            [
             0.2222222222222222,
             "#7201a8"
            ],
            [
             0.3333333333333333,
             "#9c179e"
            ],
            [
             0.4444444444444444,
             "#bd3786"
            ],
            [
             0.5555555555555556,
             "#d8576b"
            ],
            [
             0.6666666666666666,
             "#ed7953"
            ],
            [
             0.7777777777777778,
             "#fb9f3a"
            ],
            [
             0.8888888888888888,
             "#fdca26"
            ],
            [
             1,
             "#f0f921"
            ]
           ]
          },
          "colorway": [
           "#636efa",
           "#EF553B",
           "#00cc96",
           "#ab63fa",
           "#FFA15A",
           "#19d3f3",
           "#FF6692",
           "#B6E880",
           "#FF97FF",
           "#FECB52"
          ],
          "font": {
           "color": "#2a3f5f"
          },
          "geo": {
           "bgcolor": "white",
           "lakecolor": "white",
           "landcolor": "#E5ECF6",
           "showlakes": true,
           "showland": true,
           "subunitcolor": "white"
          },
          "hoverlabel": {
           "align": "left"
          },
          "hovermode": "closest",
          "mapbox": {
           "style": "light"
          },
          "paper_bgcolor": "white",
          "plot_bgcolor": "#E5ECF6",
          "polar": {
           "angularaxis": {
            "gridcolor": "white",
            "linecolor": "white",
            "ticks": ""
           },
           "bgcolor": "#E5ECF6",
           "radialaxis": {
            "gridcolor": "white",
            "linecolor": "white",
            "ticks": ""
           }
          },
          "scene": {
           "xaxis": {
            "backgroundcolor": "#E5ECF6",
            "gridcolor": "white",
            "gridwidth": 2,
            "linecolor": "white",
            "showbackground": true,
            "ticks": "",
            "zerolinecolor": "white"
           },
           "yaxis": {
            "backgroundcolor": "#E5ECF6",
            "gridcolor": "white",
            "gridwidth": 2,
            "linecolor": "white",
            "showbackground": true,
            "ticks": "",
            "zerolinecolor": "white"
           },
           "zaxis": {
            "backgroundcolor": "#E5ECF6",
            "gridcolor": "white",
            "gridwidth": 2,
            "linecolor": "white",
            "showbackground": true,
            "ticks": "",
            "zerolinecolor": "white"
           }
          },
          "shapedefaults": {
           "line": {
            "color": "#2a3f5f"
           }
          },
          "ternary": {
           "aaxis": {
            "gridcolor": "white",
            "linecolor": "white",
            "ticks": ""
           },
           "baxis": {
            "gridcolor": "white",
            "linecolor": "white",
            "ticks": ""
           },
           "bgcolor": "#E5ECF6",
           "caxis": {
            "gridcolor": "white",
            "linecolor": "white",
            "ticks": ""
           }
          },
          "title": {
           "x": 0.05
          },
          "xaxis": {
           "automargin": true,
           "gridcolor": "white",
           "linecolor": "white",
           "ticks": "",
           "title": {
            "standoff": 15
           },
           "zerolinecolor": "white",
           "zerolinewidth": 2
          },
          "yaxis": {
           "automargin": true,
           "gridcolor": "white",
           "linecolor": "white",
           "ticks": "",
           "title": {
            "standoff": 15
           },
           "zerolinecolor": "white",
           "zerolinewidth": 2
          }
         }
        },
        "xaxis": {
         "anchor": "y",
         "domain": [
          0,
          1
         ],
         "title": {
          "text": "yr"
         }
        },
        "yaxis": {
         "anchor": "x",
         "domain": [
          0,
          1
         ],
         "title": {
          "text": "value"
         }
        }
       }
      }
     },
     "metadata": {},
     "output_type": "display_data"
    }
   ],
   "source": [
    "# mean error by year\n",
    "# This measures bias -- Are we off in one direction or another?\n",
    "px.scatter(ys.groupby('yr')['err'].mean())"
   ]
  },
  {
   "cell_type": "code",
   "execution_count": 17,
   "metadata": {},
   "outputs": [
    {
     "data": {
      "application/vnd.plotly.v1+json": {
       "config": {
        "plotlyServerURL": "https://plot.ly"
       },
       "data": [
        {
         "hovertemplate": "variable=abs_err<br>yr=%{x}<br>value=%{y}<extra></extra>",
         "legendgroup": "abs_err",
         "marker": {
          "color": "#636efa",
          "symbol": "circle"
         },
         "mode": "markers",
         "name": "abs_err",
         "orientation": "v",
         "showlegend": true,
         "type": "scatter",
         "x": [
          1947,
          1948,
          1949,
          1950,
          1951,
          1952,
          1953,
          1954,
          1955,
          1956,
          1957,
          1958,
          1959,
          1960,
          1961,
          1962,
          1963,
          1964,
          1965,
          1966,
          1967,
          1968,
          1969,
          1970,
          1971,
          1972,
          1973,
          1974,
          1975,
          1976,
          1977,
          1978,
          1979,
          1980,
          1982,
          1983,
          1984,
          1985,
          1986,
          1987,
          1988,
          1989,
          1990,
          1991,
          1992,
          1993,
          1996,
          1997,
          1998,
          1999,
          2000,
          2001,
          2002,
          2003,
          2004,
          2005,
          2006,
          2007,
          2008,
          2009,
          2010,
          2011,
          2012,
          2013,
          2014,
          2015,
          2016,
          2017,
          2018,
          2019
         ],
         "xaxis": "x",
         "y": [
          0.5812333455943546,
          0.4929752838333208,
          0.8754420267241989,
          0.8812200297459479,
          0.5744986748249129,
          0.4447741316784781,
          0.7649840597622443,
          0.8233143859871805,
          0.6461936327022058,
          0.7354841821089648,
          0.5823495757435171,
          0.542029564245524,
          0.5666471025757863,
          0.5963213851509978,
          0.679260880528577,
          0.6599720005647981,
          0.6865013270607447,
          0.44786610124197745,
          0.5876097559655978,
          0.574824760938598,
          0.8657517441620556,
          0.6044953430314902,
          0.5051264097029967,
          0.7227544681270252,
          0.5394544714940117,
          0.6143127279194599,
          0.37001436273945987,
          0.8757601097588763,
          0.6555364862339402,
          0.6881441978571088,
          0.6934318264076709,
          0.8484425499764885,
          0.7534615517607276,
          0.7172967009470228,
          0.6206186054436421,
          0.6360059762434447,
          0.5847799911128978,
          0.8185695754046873,
          0.5937265403987045,
          0.6892852387400216,
          0.564288919123438,
          0.66072579918765,
          0.6125528516820109,
          0.621721286420821,
          0.6421888621055163,
          0.49617435919716535,
          0.7860820506639606,
          0.6704116459134235,
          0.7055553044561959,
          0.693151973190539,
          0.6002375887608824,
          0.671403894368528,
          0.7700164857762779,
          0.7499193357750237,
          0.6671241525390044,
          0.4821927694148778,
          0.8377553409234821,
          0.8843197779418545,
          0.6838872865608618,
          0.6614643588221412,
          0.5736300093236536,
          0.61183671186619,
          0.5235902034376845,
          0.7864347761736378,
          0.5676722125652474,
          0.5235883237756657,
          0.6167000327092074,
          0.7661193085567702,
          0.7569748164714755,
          0.626026699598136
         ],
         "yaxis": "y"
        }
       ],
       "layout": {
        "legend": {
         "title": {
          "text": "variable"
         },
         "tracegroupgap": 0
        },
        "margin": {
         "t": 60
        },
        "template": {
         "data": {
          "bar": [
           {
            "error_x": {
             "color": "#2a3f5f"
            },
            "error_y": {
             "color": "#2a3f5f"
            },
            "marker": {
             "line": {
              "color": "#E5ECF6",
              "width": 0.5
             }
            },
            "type": "bar"
           }
          ],
          "barpolar": [
           {
            "marker": {
             "line": {
              "color": "#E5ECF6",
              "width": 0.5
             }
            },
            "type": "barpolar"
           }
          ],
          "carpet": [
           {
            "aaxis": {
             "endlinecolor": "#2a3f5f",
             "gridcolor": "white",
             "linecolor": "white",
             "minorgridcolor": "white",
             "startlinecolor": "#2a3f5f"
            },
            "baxis": {
             "endlinecolor": "#2a3f5f",
             "gridcolor": "white",
             "linecolor": "white",
             "minorgridcolor": "white",
             "startlinecolor": "#2a3f5f"
            },
            "type": "carpet"
           }
          ],
          "choropleth": [
           {
            "colorbar": {
             "outlinewidth": 0,
             "ticks": ""
            },
            "type": "choropleth"
           }
          ],
          "contour": [
           {
            "colorbar": {
             "outlinewidth": 0,
             "ticks": ""
            },
            "colorscale": [
             [
              0,
              "#0d0887"
             ],
             [
              0.1111111111111111,
              "#46039f"
             ],
             [
              0.2222222222222222,
              "#7201a8"
             ],
             [
              0.3333333333333333,
              "#9c179e"
             ],
             [
              0.4444444444444444,
              "#bd3786"
             ],
             [
              0.5555555555555556,
              "#d8576b"
             ],
             [
              0.6666666666666666,
              "#ed7953"
             ],
             [
              0.7777777777777778,
              "#fb9f3a"
             ],
             [
              0.8888888888888888,
              "#fdca26"
             ],
             [
              1,
              "#f0f921"
             ]
            ],
            "type": "contour"
           }
          ],
          "contourcarpet": [
           {
            "colorbar": {
             "outlinewidth": 0,
             "ticks": ""
            },
            "type": "contourcarpet"
           }
          ],
          "heatmap": [
           {
            "colorbar": {
             "outlinewidth": 0,
             "ticks": ""
            },
            "colorscale": [
             [
              0,
              "#0d0887"
             ],
             [
              0.1111111111111111,
              "#46039f"
             ],
             [
              0.2222222222222222,
              "#7201a8"
             ],
             [
              0.3333333333333333,
              "#9c179e"
             ],
             [
              0.4444444444444444,
              "#bd3786"
             ],
             [
              0.5555555555555556,
              "#d8576b"
             ],
             [
              0.6666666666666666,
              "#ed7953"
             ],
             [
              0.7777777777777778,
              "#fb9f3a"
             ],
             [
              0.8888888888888888,
              "#fdca26"
             ],
             [
              1,
              "#f0f921"
             ]
            ],
            "type": "heatmap"
           }
          ],
          "heatmapgl": [
           {
            "colorbar": {
             "outlinewidth": 0,
             "ticks": ""
            },
            "colorscale": [
             [
              0,
              "#0d0887"
             ],
             [
              0.1111111111111111,
              "#46039f"
             ],
             [
              0.2222222222222222,
              "#7201a8"
             ],
             [
              0.3333333333333333,
              "#9c179e"
             ],
             [
              0.4444444444444444,
              "#bd3786"
             ],
             [
              0.5555555555555556,
              "#d8576b"
             ],
             [
              0.6666666666666666,
              "#ed7953"
             ],
             [
              0.7777777777777778,
              "#fb9f3a"
             ],
             [
              0.8888888888888888,
              "#fdca26"
             ],
             [
              1,
              "#f0f921"
             ]
            ],
            "type": "heatmapgl"
           }
          ],
          "histogram": [
           {
            "marker": {
             "colorbar": {
              "outlinewidth": 0,
              "ticks": ""
             }
            },
            "type": "histogram"
           }
          ],
          "histogram2d": [
           {
            "colorbar": {
             "outlinewidth": 0,
             "ticks": ""
            },
            "colorscale": [
             [
              0,
              "#0d0887"
             ],
             [
              0.1111111111111111,
              "#46039f"
             ],
             [
              0.2222222222222222,
              "#7201a8"
             ],
             [
              0.3333333333333333,
              "#9c179e"
             ],
             [
              0.4444444444444444,
              "#bd3786"
             ],
             [
              0.5555555555555556,
              "#d8576b"
             ],
             [
              0.6666666666666666,
              "#ed7953"
             ],
             [
              0.7777777777777778,
              "#fb9f3a"
             ],
             [
              0.8888888888888888,
              "#fdca26"
             ],
             [
              1,
              "#f0f921"
             ]
            ],
            "type": "histogram2d"
           }
          ],
          "histogram2dcontour": [
           {
            "colorbar": {
             "outlinewidth": 0,
             "ticks": ""
            },
            "colorscale": [
             [
              0,
              "#0d0887"
             ],
             [
              0.1111111111111111,
              "#46039f"
             ],
             [
              0.2222222222222222,
              "#7201a8"
             ],
             [
              0.3333333333333333,
              "#9c179e"
             ],
             [
              0.4444444444444444,
              "#bd3786"
             ],
             [
              0.5555555555555556,
              "#d8576b"
             ],
             [
              0.6666666666666666,
              "#ed7953"
             ],
             [
              0.7777777777777778,
              "#fb9f3a"
             ],
             [
              0.8888888888888888,
              "#fdca26"
             ],
             [
              1,
              "#f0f921"
             ]
            ],
            "type": "histogram2dcontour"
           }
          ],
          "mesh3d": [
           {
            "colorbar": {
             "outlinewidth": 0,
             "ticks": ""
            },
            "type": "mesh3d"
           }
          ],
          "parcoords": [
           {
            "line": {
             "colorbar": {
              "outlinewidth": 0,
              "ticks": ""
             }
            },
            "type": "parcoords"
           }
          ],
          "pie": [
           {
            "automargin": true,
            "type": "pie"
           }
          ],
          "scatter": [
           {
            "marker": {
             "colorbar": {
              "outlinewidth": 0,
              "ticks": ""
             }
            },
            "type": "scatter"
           }
          ],
          "scatter3d": [
           {
            "line": {
             "colorbar": {
              "outlinewidth": 0,
              "ticks": ""
             }
            },
            "marker": {
             "colorbar": {
              "outlinewidth": 0,
              "ticks": ""
             }
            },
            "type": "scatter3d"
           }
          ],
          "scattercarpet": [
           {
            "marker": {
             "colorbar": {
              "outlinewidth": 0,
              "ticks": ""
             }
            },
            "type": "scattercarpet"
           }
          ],
          "scattergeo": [
           {
            "marker": {
             "colorbar": {
              "outlinewidth": 0,
              "ticks": ""
             }
            },
            "type": "scattergeo"
           }
          ],
          "scattergl": [
           {
            "marker": {
             "colorbar": {
              "outlinewidth": 0,
              "ticks": ""
             }
            },
            "type": "scattergl"
           }
          ],
          "scattermapbox": [
           {
            "marker": {
             "colorbar": {
              "outlinewidth": 0,
              "ticks": ""
             }
            },
            "type": "scattermapbox"
           }
          ],
          "scatterpolar": [
           {
            "marker": {
             "colorbar": {
              "outlinewidth": 0,
              "ticks": ""
             }
            },
            "type": "scatterpolar"
           }
          ],
          "scatterpolargl": [
           {
            "marker": {
             "colorbar": {
              "outlinewidth": 0,
              "ticks": ""
             }
            },
            "type": "scatterpolargl"
           }
          ],
          "scatterternary": [
           {
            "marker": {
             "colorbar": {
              "outlinewidth": 0,
              "ticks": ""
             }
            },
            "type": "scatterternary"
           }
          ],
          "surface": [
           {
            "colorbar": {
             "outlinewidth": 0,
             "ticks": ""
            },
            "colorscale": [
             [
              0,
              "#0d0887"
             ],
             [
              0.1111111111111111,
              "#46039f"
             ],
             [
              0.2222222222222222,
              "#7201a8"
             ],
             [
              0.3333333333333333,
              "#9c179e"
             ],
             [
              0.4444444444444444,
              "#bd3786"
             ],
             [
              0.5555555555555556,
              "#d8576b"
             ],
             [
              0.6666666666666666,
              "#ed7953"
             ],
             [
              0.7777777777777778,
              "#fb9f3a"
             ],
             [
              0.8888888888888888,
              "#fdca26"
             ],
             [
              1,
              "#f0f921"
             ]
            ],
            "type": "surface"
           }
          ],
          "table": [
           {
            "cells": {
             "fill": {
              "color": "#EBF0F8"
             },
             "line": {
              "color": "white"
             }
            },
            "header": {
             "fill": {
              "color": "#C8D4E3"
             },
             "line": {
              "color": "white"
             }
            },
            "type": "table"
           }
          ]
         },
         "layout": {
          "annotationdefaults": {
           "arrowcolor": "#2a3f5f",
           "arrowhead": 0,
           "arrowwidth": 1
          },
          "autotypenumbers": "strict",
          "coloraxis": {
           "colorbar": {
            "outlinewidth": 0,
            "ticks": ""
           }
          },
          "colorscale": {
           "diverging": [
            [
             0,
             "#8e0152"
            ],
            [
             0.1,
             "#c51b7d"
            ],
            [
             0.2,
             "#de77ae"
            ],
            [
             0.3,
             "#f1b6da"
            ],
            [
             0.4,
             "#fde0ef"
            ],
            [
             0.5,
             "#f7f7f7"
            ],
            [
             0.6,
             "#e6f5d0"
            ],
            [
             0.7,
             "#b8e186"
            ],
            [
             0.8,
             "#7fbc41"
            ],
            [
             0.9,
             "#4d9221"
            ],
            [
             1,
             "#276419"
            ]
           ],
           "sequential": [
            [
             0,
             "#0d0887"
            ],
            [
             0.1111111111111111,
             "#46039f"
            ],
            [
             0.2222222222222222,
             "#7201a8"
            ],
            [
             0.3333333333333333,
             "#9c179e"
            ],
            [
             0.4444444444444444,
             "#bd3786"
            ],
            [
             0.5555555555555556,
             "#d8576b"
            ],
            [
             0.6666666666666666,
             "#ed7953"
            ],
            [
             0.7777777777777778,
             "#fb9f3a"
            ],
            [
             0.8888888888888888,
             "#fdca26"
            ],
            [
             1,
             "#f0f921"
            ]
           ],
           "sequentialminus": [
            [
             0,
             "#0d0887"
            ],
            [
             0.1111111111111111,
             "#46039f"
            ],
            [
             0.2222222222222222,
             "#7201a8"
            ],
            [
             0.3333333333333333,
             "#9c179e"
            ],
            [
             0.4444444444444444,
             "#bd3786"
            ],
            [
             0.5555555555555556,
             "#d8576b"
            ],
            [
             0.6666666666666666,
             "#ed7953"
            ],
            [
             0.7777777777777778,
             "#fb9f3a"
            ],
            [
             0.8888888888888888,
             "#fdca26"
            ],
            [
             1,
             "#f0f921"
            ]
           ]
          },
          "colorway": [
           "#636efa",
           "#EF553B",
           "#00cc96",
           "#ab63fa",
           "#FFA15A",
           "#19d3f3",
           "#FF6692",
           "#B6E880",
           "#FF97FF",
           "#FECB52"
          ],
          "font": {
           "color": "#2a3f5f"
          },
          "geo": {
           "bgcolor": "white",
           "lakecolor": "white",
           "landcolor": "#E5ECF6",
           "showlakes": true,
           "showland": true,
           "subunitcolor": "white"
          },
          "hoverlabel": {
           "align": "left"
          },
          "hovermode": "closest",
          "mapbox": {
           "style": "light"
          },
          "paper_bgcolor": "white",
          "plot_bgcolor": "#E5ECF6",
          "polar": {
           "angularaxis": {
            "gridcolor": "white",
            "linecolor": "white",
            "ticks": ""
           },
           "bgcolor": "#E5ECF6",
           "radialaxis": {
            "gridcolor": "white",
            "linecolor": "white",
            "ticks": ""
           }
          },
          "scene": {
           "xaxis": {
            "backgroundcolor": "#E5ECF6",
            "gridcolor": "white",
            "gridwidth": 2,
            "linecolor": "white",
            "showbackground": true,
            "ticks": "",
            "zerolinecolor": "white"
           },
           "yaxis": {
            "backgroundcolor": "#E5ECF6",
            "gridcolor": "white",
            "gridwidth": 2,
            "linecolor": "white",
            "showbackground": true,
            "ticks": "",
            "zerolinecolor": "white"
           },
           "zaxis": {
            "backgroundcolor": "#E5ECF6",
            "gridcolor": "white",
            "gridwidth": 2,
            "linecolor": "white",
            "showbackground": true,
            "ticks": "",
            "zerolinecolor": "white"
           }
          },
          "shapedefaults": {
           "line": {
            "color": "#2a3f5f"
           }
          },
          "ternary": {
           "aaxis": {
            "gridcolor": "white",
            "linecolor": "white",
            "ticks": ""
           },
           "baxis": {
            "gridcolor": "white",
            "linecolor": "white",
            "ticks": ""
           },
           "bgcolor": "#E5ECF6",
           "caxis": {
            "gridcolor": "white",
            "linecolor": "white",
            "ticks": ""
           }
          },
          "title": {
           "x": 0.05
          },
          "xaxis": {
           "automargin": true,
           "gridcolor": "white",
           "linecolor": "white",
           "ticks": "",
           "title": {
            "standoff": 15
           },
           "zerolinecolor": "white",
           "zerolinewidth": 2
          },
          "yaxis": {
           "automargin": true,
           "gridcolor": "white",
           "linecolor": "white",
           "ticks": "",
           "title": {
            "standoff": 15
           },
           "zerolinecolor": "white",
           "zerolinewidth": 2
          }
         }
        },
        "xaxis": {
         "anchor": "y",
         "domain": [
          0,
          1
         ],
         "title": {
          "text": "yr"
         }
        },
        "yaxis": {
         "anchor": "x",
         "domain": [
          0,
          1
         ],
         "title": {
          "text": "value"
         }
        }
       }
      }
     },
     "metadata": {},
     "output_type": "display_data"
    }
   ],
   "source": [
    "# mean absolute error by year\n",
    "# This measures error -- how far are we off?\n",
    "px.scatter(ys.groupby('yr')['abs_err'].mean())"
   ]
  }
 ],
 "metadata": {
  "kernelspec": {
   "display_name": "Python 3.8.8 ('base')",
   "language": "python",
   "name": "python3"
  },
  "language_info": {
   "codemirror_mode": {
    "name": "ipython",
    "version": 3
   },
   "file_extension": ".py",
   "mimetype": "text/x-python",
   "name": "python",
   "nbconvert_exporter": "python",
   "pygments_lexer": "ipython3",
   "version": "3.8.8"
  },
  "orig_nbformat": 4,
  "vscode": {
   "interpreter": {
    "hash": "cd78fef2128015050713e82ca51c6520b11aee7c9ee8df750520bbbc7384cbaa"
   }
  }
 },
 "nbformat": 4,
 "nbformat_minor": 2
}
