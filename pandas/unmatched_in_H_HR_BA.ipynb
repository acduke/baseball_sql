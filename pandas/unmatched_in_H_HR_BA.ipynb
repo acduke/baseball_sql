{
 "cells": [
  {
   "cell_type": "markdown",
   "id": "refined-spencer",
   "metadata": {},
   "source": [
    "A friend posed this question:\n",
    "\n",
    "> Miguel Cabrera passed up Babe Ruth on the career hits list last night, meaning that there is now no player in history with more career hits, more career home runs, and a higher batting average than Miguel Cabrera. I wonder \n",
    "how many players that can be said about. Ruth, Aaron, Bonds, Cobb, Rose…but who else?\n",
    "\n",
    "Here I set out to answer it, first with a brute-force approach, and then with a more efficient approach."
   ]
  },
  {
   "cell_type": "code",
   "execution_count": 1,
   "id": "comic-ribbon",
   "metadata": {
    "ExecuteTime": {
     "end_time": "2021-05-08T23:18:38.580368Z",
     "start_time": "2021-05-08T23:18:38.234394Z"
    }
   },
   "outputs": [],
   "source": [
    "import pandas as pd\n",
    "import numpy as np\n",
    "from functools import reduce\n",
    "\n",
    "import boxball_loader as bbl\n",
    "import utils"
   ]
  },
  {
   "cell_type": "code",
   "execution_count": 2,
   "id": "educated-turtle",
   "metadata": {
    "ExecuteTime": {
     "end_time": "2021-05-08T23:18:38.709357Z",
     "start_time": "2021-05-08T23:18:38.581513Z"
    }
   },
   "outputs": [
    {
     "data": {
      "text/html": [
       "<div>\n",
       "<style scoped>\n",
       "    .dataframe tbody tr th:only-of-type {\n",
       "        vertical-align: middle;\n",
       "    }\n",
       "\n",
       "    .dataframe tbody tr th {\n",
       "        vertical-align: top;\n",
       "    }\n",
       "\n",
       "    .dataframe thead th {\n",
       "        text-align: right;\n",
       "    }\n",
       "</style>\n",
       "<table border=\"1\" class=\"dataframe\">\n",
       "  <thead>\n",
       "    <tr style=\"text-align: right;\">\n",
       "      <th></th>\n",
       "      <th>ab</th>\n",
       "      <th>h</th>\n",
       "      <th>hr</th>\n",
       "      <th>ba</th>\n",
       "    </tr>\n",
       "    <tr>\n",
       "      <th>player_id</th>\n",
       "      <th></th>\n",
       "      <th></th>\n",
       "      <th></th>\n",
       "      <th></th>\n",
       "    </tr>\n",
       "  </thead>\n",
       "  <tbody>\n",
       "    <tr>\n",
       "      <th>aardsda01</th>\n",
       "      <td>4</td>\n",
       "      <td>0</td>\n",
       "      <td>0</td>\n",
       "      <td>0.000000</td>\n",
       "    </tr>\n",
       "    <tr>\n",
       "      <th>aaronha01</th>\n",
       "      <td>12364</td>\n",
       "      <td>3771</td>\n",
       "      <td>755</td>\n",
       "      <td>0.304998</td>\n",
       "    </tr>\n",
       "    <tr>\n",
       "      <th>aaronto01</th>\n",
       "      <td>944</td>\n",
       "      <td>216</td>\n",
       "      <td>13</td>\n",
       "      <td>0.228814</td>\n",
       "    </tr>\n",
       "    <tr>\n",
       "      <th>aasedo01</th>\n",
       "      <td>5</td>\n",
       "      <td>0</td>\n",
       "      <td>0</td>\n",
       "      <td>0.000000</td>\n",
       "    </tr>\n",
       "    <tr>\n",
       "      <th>abadan01</th>\n",
       "      <td>21</td>\n",
       "      <td>2</td>\n",
       "      <td>0</td>\n",
       "      <td>0.095238</td>\n",
       "    </tr>\n",
       "    <tr>\n",
       "      <th>...</th>\n",
       "      <td>...</td>\n",
       "      <td>...</td>\n",
       "      <td>...</td>\n",
       "      <td>...</td>\n",
       "    </tr>\n",
       "    <tr>\n",
       "      <th>zupofr01</th>\n",
       "      <td>18</td>\n",
       "      <td>3</td>\n",
       "      <td>0</td>\n",
       "      <td>0.166667</td>\n",
       "    </tr>\n",
       "    <tr>\n",
       "      <th>zuvelpa01</th>\n",
       "      <td>491</td>\n",
       "      <td>109</td>\n",
       "      <td>2</td>\n",
       "      <td>0.221996</td>\n",
       "    </tr>\n",
       "    <tr>\n",
       "      <th>zuverge01</th>\n",
       "      <td>142</td>\n",
       "      <td>21</td>\n",
       "      <td>0</td>\n",
       "      <td>0.147887</td>\n",
       "    </tr>\n",
       "    <tr>\n",
       "      <th>zwilldu01</th>\n",
       "      <td>1280</td>\n",
       "      <td>364</td>\n",
       "      <td>30</td>\n",
       "      <td>0.284375</td>\n",
       "    </tr>\n",
       "    <tr>\n",
       "      <th>zychto01</th>\n",
       "      <td>0</td>\n",
       "      <td>0</td>\n",
       "      <td>0</td>\n",
       "      <td>0.000000</td>\n",
       "    </tr>\n",
       "  </tbody>\n",
       "</table>\n",
       "<p>19898 rows × 4 columns</p>\n",
       "</div>"
      ],
      "text/plain": [
       "              ab     h   hr        ba\n",
       "player_id                            \n",
       "aardsda01      4     0    0  0.000000\n",
       "aaronha01  12364  3771  755  0.304998\n",
       "aaronto01    944   216   13  0.228814\n",
       "aasedo01       5     0    0  0.000000\n",
       "abadan01      21     2    0  0.095238\n",
       "...          ...   ...  ...       ...\n",
       "zupofr01      18     3    0  0.166667\n",
       "zuvelpa01    491   109    2  0.221996\n",
       "zuverge01    142    21    0  0.147887\n",
       "zwilldu01   1280   364   30  0.284375\n",
       "zychto01       0     0    0  0.000000\n",
       "\n",
       "[19898 rows x 4 columns]"
      ]
     },
     "execution_count": 2,
     "metadata": {},
     "output_type": "execute_result"
    }
   ],
   "source": [
    "bat = pd.read_parquet('../data/baseballdatabank/batting.parquet')\n",
    "\n",
    "careers = bat.groupby('player_id')[['ab', 'h', 'hr']].sum()\n",
    "careers['ba'] = (careers['h']/careers['ab']).fillna(0)\n",
    "\n",
    "careers"
   ]
  },
  {
   "cell_type": "code",
   "execution_count": 3,
   "id": "urban-crossing",
   "metadata": {
    "ExecuteTime": {
     "end_time": "2021-05-08T23:18:38.713206Z",
     "start_time": "2021-05-08T23:18:38.710766Z"
    }
   },
   "outputs": [],
   "source": [
    "# Find players who match this player's career totals in all of the categories\n",
    "def find_matches(row, df):\n",
    "    cats = ['h', 'hr', 'ba']\n",
    "    cat_matches = [df[cat]>=row[cat] for cat in cats]\n",
    "    matches_all = reduce((lambda x, y: x & y), cat_matches)\n",
    "    \n",
    "    return df[matches_all]\n",
    "    "
   ]
  },
  {
   "cell_type": "code",
   "execution_count": 4,
   "id": "addressed-topic",
   "metadata": {
    "ExecuteTime": {
     "end_time": "2021-05-08T23:18:38.721177Z",
     "start_time": "2021-05-08T23:18:38.714559Z"
    }
   },
   "outputs": [
    {
     "data": {
      "text/html": [
       "<div>\n",
       "<style scoped>\n",
       "    .dataframe tbody tr th:only-of-type {\n",
       "        vertical-align: middle;\n",
       "    }\n",
       "\n",
       "    .dataframe tbody tr th {\n",
       "        vertical-align: top;\n",
       "    }\n",
       "\n",
       "    .dataframe thead th {\n",
       "        text-align: right;\n",
       "    }\n",
       "</style>\n",
       "<table border=\"1\" class=\"dataframe\">\n",
       "  <thead>\n",
       "    <tr style=\"text-align: right;\">\n",
       "      <th></th>\n",
       "      <th>ab</th>\n",
       "      <th>h</th>\n",
       "      <th>hr</th>\n",
       "      <th>ba</th>\n",
       "    </tr>\n",
       "    <tr>\n",
       "      <th>player_id</th>\n",
       "      <th></th>\n",
       "      <th></th>\n",
       "      <th></th>\n",
       "      <th></th>\n",
       "    </tr>\n",
       "  </thead>\n",
       "  <tbody>\n",
       "    <tr>\n",
       "      <th>oconnfr01</th>\n",
       "      <td>2</td>\n",
       "      <td>2</td>\n",
       "      <td>1</td>\n",
       "      <td>1.0</td>\n",
       "    </tr>\n",
       "    <tr>\n",
       "      <th>yanes01</th>\n",
       "      <td>2</td>\n",
       "      <td>2</td>\n",
       "      <td>1</td>\n",
       "      <td>1.0</td>\n",
       "    </tr>\n",
       "  </tbody>\n",
       "</table>\n",
       "</div>"
      ],
      "text/plain": [
       "           ab  h  hr   ba\n",
       "player_id                \n",
       "oconnfr01   2  2   1  1.0\n",
       "yanes01     2  2   1  1.0"
      ]
     },
     "execution_count": 4,
     "metadata": {},
     "output_type": "execute_result"
    }
   ],
   "source": [
    "# This should return two guys tied\n",
    "find_matches({'ba': 1, 'h': 2, 'hr': 1}, careers)"
   ]
  },
  {
   "cell_type": "code",
   "execution_count": 5,
   "id": "dated-midwest",
   "metadata": {
    "ExecuteTime": {
     "end_time": "2021-05-08T23:18:38.724453Z",
     "start_time": "2021-05-08T23:18:38.722065Z"
    }
   },
   "outputs": [],
   "source": [
    "# The brute force method iterates over every single player,\n",
    "# Finding how many guys match his totals, and filtering\n",
    "# for those with only match (themselves)\n",
    "def get_unmatchables_brute_force(careers):\n",
    "\n",
    "    careers_matching = careers.apply(lambda row: len(find_matches(row, careers)), axis=1)\n",
    "    unmatchables = careers[careers_matching==1]\n",
    "    return unmatchables.sort_values(by='h')"
   ]
  },
  {
   "cell_type": "code",
   "execution_count": 6,
   "id": "continental-service",
   "metadata": {
    "ExecuteTime": {
     "end_time": "2021-05-08T23:18:56.730559Z",
     "start_time": "2021-05-08T23:18:38.725600Z"
    }
   },
   "outputs": [
    {
     "data": {
      "text/plain": [
       "(              ab     h   hr        ba\n",
       " player_id                            \n",
       " paciojo01      3     3    0  1.000000\n",
       " jansera01      5     4    0  0.800000\n",
       " brittza01      8     5    1  0.625000\n",
       " silvelu01     11     6    0  0.545455\n",
       " durhado01     14     7    2  0.500000\n",
       " dappecl01     17     8    1  0.470588\n",
       " martido02     22     9    2  0.409091\n",
       " heathsl01     25    10    2  0.400000\n",
       " pattepa01     35    14    1  0.400000\n",
       " willigl01     40    17    0  0.425000\n",
       " rhombke01     47    18    1  0.382979\n",
       " goodahe01     45    19    0  0.422222\n",
       " forstte01     78    31    0  0.397436\n",
       " hayeske01     85    32    5  0.376471\n",
       " willite01   7706  2654  521  0.344407\n",
       " ruthba01    8398  2873  714  0.342105\n",
       " simmoal01   8759  2927  307  0.334171\n",
       " hornsro01   8173  2930  301  0.358497\n",
       " bondsba01   9847  2935  762  0.298060\n",
       " gwynnto01   9288  3141  135  0.338178\n",
       " musiast01  10972  3630  475  0.330842\n",
       " aaronha01  12364  3771  755  0.304998\n",
       " cobbty01   11436  4189  117  0.366299\n",
       " rosepe01   14053  4256  160  0.302853,\n",
       " 24)"
      ]
     },
     "execution_count": 6,
     "metadata": {},
     "output_type": "execute_result"
    }
   ],
   "source": [
    "unmatchables = get_unmatchables_brute_force(careers)\n",
    "unmatchables, len(unmatchables)"
   ]
  },
  {
   "cell_type": "code",
   "execution_count": 7,
   "id": "suited-breathing",
   "metadata": {
    "ExecuteTime": {
     "end_time": "2021-05-08T23:18:56.734827Z",
     "start_time": "2021-05-08T23:18:56.731516Z"
    }
   },
   "outputs": [],
   "source": [
    "# This is an iterative approach, which starts with the observation\n",
    "# that anybody who leads in one category must be unmatchable.\n",
    "# And that anybody who can't match that player in at least one\n",
    "# category has no chance to be unmatchable, because they are\n",
    "# completely dominated already.  So iterate by taking the current\n",
    "# leader, and pruning everybody with no chance at matching, until\n",
    "# there's nobody left.  Then clean up for ties.\n",
    "def get_unmatchables_iterative(careers):\n",
    "    cats = ['h', 'hr', 'ba']\n",
    "\n",
    "    def run_one_iteration(unmatchables, df):\n",
    "        leader = df.iloc[0]\n",
    "\n",
    "        # Keep any player who beats our leader in at least one category\n",
    "        # Discard the rest\n",
    "        cat_matches = [df[cat]>leader[cat] for cat in cats]\n",
    "        beats_any = reduce((lambda x, y: x | y), cat_matches)\n",
    "        remain = df[beats_any]\n",
    "        return unmatchables.append(leader), remain\n",
    "    \n",
    "    df = careers.sort_values(by=cats, ascending=False)\n",
    "    unmatchables = pd.DataFrame()\n",
    "    while len(df) > 0:\n",
    "        unmatchables, df = run_one_iteration(unmatchables, df)\n",
    "    \n",
    "    # there might be some ties, so run the original definition again to filter out the real answers\n",
    "    careers_matching = unmatchables.apply(lambda row: len(find_matches(row, careers)), axis=1)\n",
    "    return unmatchables[careers_matching==1]"
   ]
  },
  {
   "cell_type": "code",
   "execution_count": 8,
   "id": "twelve-perth",
   "metadata": {
    "ExecuteTime": {
     "end_time": "2021-05-08T23:18:56.800920Z",
     "start_time": "2021-05-08T23:18:56.736567Z"
    }
   },
   "outputs": [
    {
     "data": {
      "text/plain": [
       "(                ab        ba       h     hr\n",
       " rosepe01   14053.0  0.302853  4256.0  160.0\n",
       " cobbty01   11436.0  0.366299  4189.0  117.0\n",
       " aaronha01  12364.0  0.304998  3771.0  755.0\n",
       " musiast01  10972.0  0.330842  3630.0  475.0\n",
       " gwynnto01   9288.0  0.338178  3141.0  135.0\n",
       " bondsba01   9847.0  0.298060  2935.0  762.0\n",
       " hornsro01   8173.0  0.358497  2930.0  301.0\n",
       " simmoal01   8759.0  0.334171  2927.0  307.0\n",
       " ruthba01    8398.0  0.342105  2873.0  714.0\n",
       " willite01   7706.0  0.344407  2654.0  521.0\n",
       " hayeske01     85.0  0.376471    32.0    5.0\n",
       " forstte01     78.0  0.397436    31.0    0.0\n",
       " goodahe01     45.0  0.422222    19.0    0.0\n",
       " rhombke01     47.0  0.382979    18.0    1.0\n",
       " willigl01     40.0  0.425000    17.0    0.0\n",
       " pattepa01     35.0  0.400000    14.0    1.0\n",
       " heathsl01     25.0  0.400000    10.0    2.0\n",
       " martido02     22.0  0.409091     9.0    2.0\n",
       " dappecl01     17.0  0.470588     8.0    1.0\n",
       " durhado01     14.0  0.500000     7.0    2.0\n",
       " silvelu01     11.0  0.545455     6.0    0.0\n",
       " brittza01      8.0  0.625000     5.0    1.0\n",
       " jansera01      5.0  0.800000     4.0    0.0\n",
       " paciojo01      3.0  1.000000     3.0    0.0,\n",
       " 24)"
      ]
     },
     "execution_count": 8,
     "metadata": {},
     "output_type": "execute_result"
    }
   ],
   "source": [
    "unmatchables = get_unmatchables_iterative(careers)\n",
    "unmatchables, len(unmatchables)"
   ]
  },
  {
   "cell_type": "code",
   "execution_count": 9,
   "id": "august-cleanup",
   "metadata": {
    "ExecuteTime": {
     "end_time": "2021-05-08T23:18:56.851165Z",
     "start_time": "2021-05-08T23:18:56.801964Z"
    }
   },
   "outputs": [
    {
     "name": "stdout",
     "output_type": "stream",
     "text": [
      "                       name        ba     hr       h       ab\n",
      "rosepe01          Pete Rose  0.302853  160.0  4256.0  14053.0\n",
      "cobbty01            Ty Cobb  0.366299  117.0  4189.0  11436.0\n",
      "aaronha01        Hank Aaron  0.304998  755.0  3771.0  12364.0\n",
      "musiast01       Stan Musial  0.330842  475.0  3630.0  10972.0\n",
      "gwynnto01        Tony Gwynn  0.338178  135.0  3141.0   9288.0\n",
      "bondsba01       Barry Bonds  0.298060  762.0  2935.0   9847.0\n",
      "hornsro01    Rogers Hornsby  0.358497  301.0  2930.0   8173.0\n",
      "simmoal01        Al Simmons  0.334171  307.0  2927.0   8759.0\n",
      "ruthba01          Babe Ruth  0.342105  714.0  2873.0   8398.0\n",
      "willite01      Ted Williams  0.344407  521.0  2654.0   7706.0\n",
      "hayeske01    Ke'Bryan Hayes  0.376471    5.0    32.0     85.0\n",
      "forstte01     Terry Forster  0.397436    0.0    31.0     78.0\n",
      "goodahe01      Herb Goodall  0.422222    0.0    19.0     45.0\n",
      "rhombke01    Kevin Rhomberg  0.382979    1.0    18.0     47.0\n",
      "willigl01    Glenn Williams  0.425000    0.0    17.0     40.0\n",
      "pattepa01     Pat Patterson  0.400000    1.0    14.0     35.0\n",
      "heathsl01   Slade Heathcott  0.400000    2.0    10.0     25.0\n",
      "martido02  Domingo Martinez  0.409091    2.0     9.0     22.0\n",
      "dappecl01      Cliff Dapper  0.470588    1.0     8.0     17.0\n",
      "durhado01        Don Durham  0.500000    2.0     7.0     14.0\n",
      "silvelu01     Luis Silverio  0.545455    0.0     6.0     11.0\n",
      "brittza01      Zack Britton  0.625000    1.0     5.0      8.0\n",
      "jansera01        Ray Jansen  0.800000    0.0     4.0      5.0\n",
      "paciojo01     John Paciorek  1.000000    0.0     3.0      3.0\n"
     ]
    }
   ],
   "source": [
    "unmatchables['name'] = utils.get_player_names_df(unmatchables, idx_fld='player_id')\n",
    "print(unmatchables[['name', 'ba', 'hr', 'h', 'ab']].to_string())"
   ]
  },
  {
   "cell_type": "code",
   "execution_count": null,
   "id": "vanilla-remove",
   "metadata": {},
   "outputs": [],
   "source": []
  }
 ],
 "metadata": {
  "kernelspec": {
   "display_name": "Python 3",
   "language": "python",
   "name": "python3"
  },
  "language_info": {
   "codemirror_mode": {
    "name": "ipython",
    "version": 3
   },
   "file_extension": ".py",
   "mimetype": "text/x-python",
   "name": "python",
   "nbconvert_exporter": "python",
   "pygments_lexer": "ipython3",
   "version": "3.8.8"
  }
 },
 "nbformat": 4,
 "nbformat_minor": 5
}
