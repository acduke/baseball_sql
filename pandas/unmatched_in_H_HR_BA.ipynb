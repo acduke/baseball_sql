{
 "cells": [
  {
   "cell_type": "markdown",
   "id": "dense-stuff",
   "metadata": {},
   "source": [
    "A friend posed this question:\n",
    "\n",
    "> Miguel Cabrera passed up Babe Ruth on the career hits list last night, meaning that there is now no player in history with more career hits, more career home runs, and a higher batting average than Miguel Cabrera. I wonder \n",
    "how many players that can be said about. Ruth, Aaron, Bonds, Cobb, Rose…but who else?\n",
    "\n",
    "Here I set out to answer it, first with a brute-force approach, and then with a more efficient approach."
   ]
  },
  {
   "cell_type": "code",
   "execution_count": 1,
   "id": "roman-india",
   "metadata": {
    "ExecuteTime": {
     "end_time": "2021-05-08T23:57:01.571904Z",
     "start_time": "2021-05-08T23:57:01.232909Z"
    }
   },
   "outputs": [],
   "source": [
    "import pandas as pd\n",
    "import numpy as np\n",
    "from functools import reduce\n",
    "\n",
    "import boxball_loader as bbl\n",
    "import utils"
   ]
  },
  {
   "cell_type": "code",
   "execution_count": 2,
   "id": "bearing-archive",
   "metadata": {
    "ExecuteTime": {
     "end_time": "2021-05-08T23:57:01.728659Z",
     "start_time": "2021-05-08T23:57:01.573104Z"
    }
   },
   "outputs": [
    {
     "data": {
      "text/html": [
       "<div>\n",
       "<style scoped>\n",
       "    .dataframe tbody tr th:only-of-type {\n",
       "        vertical-align: middle;\n",
       "    }\n",
       "\n",
       "    .dataframe tbody tr th {\n",
       "        vertical-align: top;\n",
       "    }\n",
       "\n",
       "    .dataframe thead th {\n",
       "        text-align: right;\n",
       "    }\n",
       "</style>\n",
       "<table border=\"1\" class=\"dataframe\">\n",
       "  <thead>\n",
       "    <tr style=\"text-align: right;\">\n",
       "      <th></th>\n",
       "      <th>ab</th>\n",
       "      <th>h</th>\n",
       "      <th>hr</th>\n",
       "      <th>ba</th>\n",
       "    </tr>\n",
       "    <tr>\n",
       "      <th>player_id</th>\n",
       "      <th></th>\n",
       "      <th></th>\n",
       "      <th></th>\n",
       "      <th></th>\n",
       "    </tr>\n",
       "  </thead>\n",
       "  <tbody>\n",
       "    <tr>\n",
       "      <th>aardsda01</th>\n",
       "      <td>4</td>\n",
       "      <td>0</td>\n",
       "      <td>0</td>\n",
       "      <td>0.000000</td>\n",
       "    </tr>\n",
       "    <tr>\n",
       "      <th>aaronha01</th>\n",
       "      <td>12364</td>\n",
       "      <td>3771</td>\n",
       "      <td>755</td>\n",
       "      <td>0.304998</td>\n",
       "    </tr>\n",
       "    <tr>\n",
       "      <th>aaronto01</th>\n",
       "      <td>944</td>\n",
       "      <td>216</td>\n",
       "      <td>13</td>\n",
       "      <td>0.228814</td>\n",
       "    </tr>\n",
       "    <tr>\n",
       "      <th>aasedo01</th>\n",
       "      <td>5</td>\n",
       "      <td>0</td>\n",
       "      <td>0</td>\n",
       "      <td>0.000000</td>\n",
       "    </tr>\n",
       "    <tr>\n",
       "      <th>abadan01</th>\n",
       "      <td>21</td>\n",
       "      <td>2</td>\n",
       "      <td>0</td>\n",
       "      <td>0.095238</td>\n",
       "    </tr>\n",
       "    <tr>\n",
       "      <th>...</th>\n",
       "      <td>...</td>\n",
       "      <td>...</td>\n",
       "      <td>...</td>\n",
       "      <td>...</td>\n",
       "    </tr>\n",
       "    <tr>\n",
       "      <th>zupofr01</th>\n",
       "      <td>18</td>\n",
       "      <td>3</td>\n",
       "      <td>0</td>\n",
       "      <td>0.166667</td>\n",
       "    </tr>\n",
       "    <tr>\n",
       "      <th>zuvelpa01</th>\n",
       "      <td>491</td>\n",
       "      <td>109</td>\n",
       "      <td>2</td>\n",
       "      <td>0.221996</td>\n",
       "    </tr>\n",
       "    <tr>\n",
       "      <th>zuverge01</th>\n",
       "      <td>142</td>\n",
       "      <td>21</td>\n",
       "      <td>0</td>\n",
       "      <td>0.147887</td>\n",
       "    </tr>\n",
       "    <tr>\n",
       "      <th>zwilldu01</th>\n",
       "      <td>1280</td>\n",
       "      <td>364</td>\n",
       "      <td>30</td>\n",
       "      <td>0.284375</td>\n",
       "    </tr>\n",
       "    <tr>\n",
       "      <th>zychto01</th>\n",
       "      <td>0</td>\n",
       "      <td>0</td>\n",
       "      <td>0</td>\n",
       "      <td>0.000000</td>\n",
       "    </tr>\n",
       "  </tbody>\n",
       "</table>\n",
       "<p>19898 rows × 4 columns</p>\n",
       "</div>"
      ],
      "text/plain": [
       "              ab     h   hr        ba\n",
       "player_id                            \n",
       "aardsda01      4     0    0  0.000000\n",
       "aaronha01  12364  3771  755  0.304998\n",
       "aaronto01    944   216   13  0.228814\n",
       "aasedo01       5     0    0  0.000000\n",
       "abadan01      21     2    0  0.095238\n",
       "...          ...   ...  ...       ...\n",
       "zupofr01      18     3    0  0.166667\n",
       "zuvelpa01    491   109    2  0.221996\n",
       "zuverge01    142    21    0  0.147887\n",
       "zwilldu01   1280   364   30  0.284375\n",
       "zychto01       0     0    0  0.000000\n",
       "\n",
       "[19898 rows x 4 columns]"
      ]
     },
     "execution_count": 2,
     "metadata": {},
     "output_type": "execute_result"
    }
   ],
   "source": [
    "bat = pd.read_parquet('../data/baseballdatabank/batting.parquet')\n",
    "\n",
    "careers = bat.groupby('player_id')[['ab', 'h', 'hr']].sum()\n",
    "careers['ba'] = (careers['h']/careers['ab']).fillna(0)\n",
    "\n",
    "careers"
   ]
  },
  {
   "cell_type": "code",
   "execution_count": 3,
   "id": "about-blood",
   "metadata": {
    "ExecuteTime": {
     "end_time": "2021-05-08T23:57:01.742529Z",
     "start_time": "2021-05-08T23:57:01.735138Z"
    }
   },
   "outputs": [],
   "source": [
    "# Find players who match this player's career totals in all of the categories\n",
    "def find_matches(row, df):\n",
    "    categories = ['h', 'hr', 'ba']\n",
    "    cat_matches = [df[cat]>=row[cat] for cat in categories]\n",
    "    matches_all = reduce((lambda x, y: x & y), cat_matches)\n",
    "    \n",
    "    return df[matches_all]\n",
    "    "
   ]
  },
  {
   "cell_type": "code",
   "execution_count": 4,
   "id": "collaborative-development",
   "metadata": {
    "ExecuteTime": {
     "end_time": "2021-05-08T23:57:01.752385Z",
     "start_time": "2021-05-08T23:57:01.743535Z"
    }
   },
   "outputs": [
    {
     "data": {
      "text/html": [
       "<div>\n",
       "<style scoped>\n",
       "    .dataframe tbody tr th:only-of-type {\n",
       "        vertical-align: middle;\n",
       "    }\n",
       "\n",
       "    .dataframe tbody tr th {\n",
       "        vertical-align: top;\n",
       "    }\n",
       "\n",
       "    .dataframe thead th {\n",
       "        text-align: right;\n",
       "    }\n",
       "</style>\n",
       "<table border=\"1\" class=\"dataframe\">\n",
       "  <thead>\n",
       "    <tr style=\"text-align: right;\">\n",
       "      <th></th>\n",
       "      <th>ab</th>\n",
       "      <th>h</th>\n",
       "      <th>hr</th>\n",
       "      <th>ba</th>\n",
       "    </tr>\n",
       "    <tr>\n",
       "      <th>player_id</th>\n",
       "      <th></th>\n",
       "      <th></th>\n",
       "      <th></th>\n",
       "      <th></th>\n",
       "    </tr>\n",
       "  </thead>\n",
       "  <tbody>\n",
       "    <tr>\n",
       "      <th>oconnfr01</th>\n",
       "      <td>2</td>\n",
       "      <td>2</td>\n",
       "      <td>1</td>\n",
       "      <td>1.0</td>\n",
       "    </tr>\n",
       "    <tr>\n",
       "      <th>yanes01</th>\n",
       "      <td>2</td>\n",
       "      <td>2</td>\n",
       "      <td>1</td>\n",
       "      <td>1.0</td>\n",
       "    </tr>\n",
       "  </tbody>\n",
       "</table>\n",
       "</div>"
      ],
      "text/plain": [
       "           ab  h  hr   ba\n",
       "player_id                \n",
       "oconnfr01   2  2   1  1.0\n",
       "yanes01     2  2   1  1.0"
      ]
     },
     "execution_count": 4,
     "metadata": {},
     "output_type": "execute_result"
    }
   ],
   "source": [
    "# This should return two guys tied\n",
    "find_matches({'ba': 1, 'h': 2, 'hr': 1}, careers)"
   ]
  },
  {
   "cell_type": "code",
   "execution_count": 5,
   "id": "informed-australia",
   "metadata": {
    "ExecuteTime": {
     "end_time": "2021-05-08T23:57:01.757860Z",
     "start_time": "2021-05-08T23:57:01.755244Z"
    }
   },
   "outputs": [],
   "source": [
    "# The brute force method iterates over every single player,\n",
    "# Finding how many guys match his totals, and filtering\n",
    "# for those with only one match (themselves)\n",
    "def get_unmatchables_brute_force(careers):\n",
    "\n",
    "    careers_matching = careers.apply(lambda row: len(find_matches(row, careers)), axis=1)\n",
    "    unmatchables = careers[careers_matching==1]\n",
    "    return unmatchables.sort_values(by='h')"
   ]
  },
  {
   "cell_type": "code",
   "execution_count": 6,
   "id": "helpful-intro",
   "metadata": {
    "ExecuteTime": {
     "end_time": "2021-05-08T23:57:19.777123Z",
     "start_time": "2021-05-08T23:57:01.760198Z"
    }
   },
   "outputs": [
    {
     "data": {
      "text/plain": [
       "(              ab     h   hr        ba\n",
       " player_id                            \n",
       " paciojo01      3     3    0  1.000000\n",
       " jansera01      5     4    0  0.800000\n",
       " brittza01      8     5    1  0.625000\n",
       " silvelu01     11     6    0  0.545455\n",
       " durhado01     14     7    2  0.500000\n",
       " dappecl01     17     8    1  0.470588\n",
       " martido02     22     9    2  0.409091\n",
       " heathsl01     25    10    2  0.400000\n",
       " pattepa01     35    14    1  0.400000\n",
       " willigl01     40    17    0  0.425000\n",
       " rhombke01     47    18    1  0.382979\n",
       " goodahe01     45    19    0  0.422222\n",
       " forstte01     78    31    0  0.397436\n",
       " hayeske01     85    32    5  0.376471\n",
       " willite01   7706  2654  521  0.344407\n",
       " ruthba01    8398  2873  714  0.342105\n",
       " simmoal01   8759  2927  307  0.334171\n",
       " hornsro01   8173  2930  301  0.358497\n",
       " bondsba01   9847  2935  762  0.298060\n",
       " gwynnto01   9288  3141  135  0.338178\n",
       " musiast01  10972  3630  475  0.330842\n",
       " aaronha01  12364  3771  755  0.304998\n",
       " cobbty01   11436  4189  117  0.366299\n",
       " rosepe01   14053  4256  160  0.302853,\n",
       " 24)"
      ]
     },
     "execution_count": 6,
     "metadata": {},
     "output_type": "execute_result"
    }
   ],
   "source": [
    "unmatchables = get_unmatchables_brute_force(careers)\n",
    "unmatchables, len(unmatchables)"
   ]
  },
  {
   "cell_type": "code",
   "execution_count": 7,
   "id": "level-replication",
   "metadata": {
    "ExecuteTime": {
     "end_time": "2021-05-08T23:57:19.783681Z",
     "start_time": "2021-05-08T23:57:19.779289Z"
    }
   },
   "outputs": [],
   "source": [
    "# This is an iterative approach, which starts with the observation\n",
    "# that anybody who leads in one category must be unmatchable.\n",
    "# And that anybody who can't match that player in at least one\n",
    "# category has no chance to be unmatchable, because they are\n",
    "# completely dominated already.  So iterate by taking the current\n",
    "# leader, and pruning everybody with no chance at matching, until\n",
    "# there's nobody left.  Then clean up for ties.\n",
    "def get_unmatchables_iterative(careers):\n",
    "    categories = ['h', 'hr', 'ba']\n",
    "\n",
    "    def run_one_iteration(unmatchables, df):\n",
    "        leader = df.head(1)\n",
    "\n",
    "        # Keep any player who beats our leader in at least one category\n",
    "        # Discard the rest\n",
    "        cat_matches = [df[cat]>leader[cat][0] for cat in categories]\n",
    "        beats_any = reduce((lambda x, y: x | y), cat_matches)\n",
    "        remain = df[beats_any]\n",
    "        print (leader.iloc[0].name, len(remain)) # to see the iterative process\n",
    "        return unmatchables.append(leader), remain\n",
    "    \n",
    "    df = careers.sort_values(by=categories, ascending=False)\n",
    "    unmatchables = careers.head(0)\n",
    "    while len(df) > 0:\n",
    "        unmatchables, df = run_one_iteration(unmatchables, df)\n",
    "    \n",
    "    # there might be some ties, so run the original definition again to filter out the real answers\n",
    "    careers_matching = unmatchables.apply(lambda row: len(find_matches(row, careers)), axis=1)\n",
    "    return unmatchables[careers_matching==1]"
   ]
  },
  {
   "cell_type": "code",
   "execution_count": 8,
   "id": "economic-service",
   "metadata": {
    "ExecuteTime": {
     "end_time": "2021-05-08T23:57:19.844986Z",
     "start_time": "2021-05-08T23:57:19.785461Z"
    }
   },
   "outputs": [
    {
     "name": "stdout",
     "output_type": "stream",
     "text": [
      "rosepe01 1460\n",
      "cobbty01 926\n",
      "aaronha01 475\n",
      "musiast01 435\n",
      "gwynnto01 433\n",
      "bondsba01 432\n",
      "hornsro01 429\n",
      "simmoal01 428\n",
      "ruthba01 423\n",
      "willite01 422\n",
      "hayeske01 394\n",
      "forstte01 381\n",
      "goodahe01 334\n",
      "rhombke01 333\n",
      "willigl01 330\n",
      "pattepa01 326\n",
      "oconnda01 306\n",
      "heathsl01 304\n",
      "martido02 303\n",
      "dappecl01 298\n",
      "durhado01 129\n",
      "silvelu01 128\n",
      "brittza01 119\n",
      "jansera01 95\n",
      "paciojo01 2\n",
      "oconnfr01 0\n"
     ]
    },
    {
     "data": {
      "text/plain": [
       "(              ab     h   hr        ba\n",
       " player_id                            \n",
       " rosepe01   14053  4256  160  0.302853\n",
       " cobbty01   11436  4189  117  0.366299\n",
       " aaronha01  12364  3771  755  0.304998\n",
       " musiast01  10972  3630  475  0.330842\n",
       " gwynnto01   9288  3141  135  0.338178\n",
       " bondsba01   9847  2935  762  0.298060\n",
       " hornsro01   8173  2930  301  0.358497\n",
       " simmoal01   8759  2927  307  0.334171\n",
       " ruthba01    8398  2873  714  0.342105\n",
       " willite01   7706  2654  521  0.344407\n",
       " hayeske01     85    32    5  0.376471\n",
       " forstte01     78    31    0  0.397436\n",
       " goodahe01     45    19    0  0.422222\n",
       " rhombke01     47    18    1  0.382979\n",
       " willigl01     40    17    0  0.425000\n",
       " pattepa01     35    14    1  0.400000\n",
       " heathsl01     25    10    2  0.400000\n",
       " martido02     22     9    2  0.409091\n",
       " dappecl01     17     8    1  0.470588\n",
       " durhado01     14     7    2  0.500000\n",
       " silvelu01     11     6    0  0.545455\n",
       " brittza01      8     5    1  0.625000\n",
       " jansera01      5     4    0  0.800000\n",
       " paciojo01      3     3    0  1.000000,\n",
       " 24)"
      ]
     },
     "execution_count": 8,
     "metadata": {},
     "output_type": "execute_result"
    }
   ],
   "source": [
    "unmatchables = get_unmatchables_iterative(careers)\n",
    "unmatchables, len(unmatchables)"
   ]
  },
  {
   "cell_type": "code",
   "execution_count": 9,
   "id": "latin-dairy",
   "metadata": {
    "ExecuteTime": {
     "end_time": "2021-05-08T23:57:19.902940Z",
     "start_time": "2021-05-08T23:57:19.845869Z"
    }
   },
   "outputs": [
    {
     "name": "stdout",
     "output_type": "stream",
     "text": [
      "                       name        ba   hr     h     ab\n",
      "player_id                                              \n",
      "rosepe01          Pete Rose  0.302853  160  4256  14053\n",
      "cobbty01            Ty Cobb  0.366299  117  4189  11436\n",
      "aaronha01        Hank Aaron  0.304998  755  3771  12364\n",
      "musiast01       Stan Musial  0.330842  475  3630  10972\n",
      "gwynnto01        Tony Gwynn  0.338178  135  3141   9288\n",
      "bondsba01       Barry Bonds  0.298060  762  2935   9847\n",
      "hornsro01    Rogers Hornsby  0.358497  301  2930   8173\n",
      "simmoal01        Al Simmons  0.334171  307  2927   8759\n",
      "ruthba01          Babe Ruth  0.342105  714  2873   8398\n",
      "willite01      Ted Williams  0.344407  521  2654   7706\n",
      "hayeske01    Ke'Bryan Hayes  0.376471    5    32     85\n",
      "forstte01     Terry Forster  0.397436    0    31     78\n",
      "goodahe01      Herb Goodall  0.422222    0    19     45\n",
      "rhombke01    Kevin Rhomberg  0.382979    1    18     47\n",
      "willigl01    Glenn Williams  0.425000    0    17     40\n",
      "pattepa01     Pat Patterson  0.400000    1    14     35\n",
      "heathsl01   Slade Heathcott  0.400000    2    10     25\n",
      "martido02  Domingo Martinez  0.409091    2     9     22\n",
      "dappecl01      Cliff Dapper  0.470588    1     8     17\n",
      "durhado01        Don Durham  0.500000    2     7     14\n",
      "silvelu01     Luis Silverio  0.545455    0     6     11\n",
      "brittza01      Zack Britton  0.625000    1     5      8\n",
      "jansera01        Ray Jansen  0.800000    0     4      5\n",
      "paciojo01     John Paciorek  1.000000    0     3      3\n"
     ]
    }
   ],
   "source": [
    "unmatchables['name'] = utils.get_player_names_df(unmatchables, idx_fld='player_id')\n",
    "print(unmatchables[['name', 'ba', 'hr', 'h', 'ab']].to_string())"
   ]
  },
  {
   "cell_type": "code",
   "execution_count": null,
   "id": "employed-reference",
   "metadata": {},
   "outputs": [],
   "source": []
  }
 ],
 "metadata": {
  "kernelspec": {
   "display_name": "Python 3",
   "language": "python",
   "name": "python3"
  },
  "language_info": {
   "codemirror_mode": {
    "name": "ipython",
    "version": 3
   },
   "file_extension": ".py",
   "mimetype": "text/x-python",
   "name": "python",
   "nbconvert_exporter": "python",
   "pygments_lexer": "ipython3",
   "version": "3.8.8"
  }
 },
 "nbformat": 4,
 "nbformat_minor": 5
}
