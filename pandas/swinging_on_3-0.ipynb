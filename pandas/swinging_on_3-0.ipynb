{
 "cells": [
  {
   "cell_type": "markdown",
   "id": "passing-tennessee",
   "metadata": {},
   "source": [
    "### How often do batters swing at 3-0 pitchers?  How has this changed over time?"
   ]
  },
  {
   "cell_type": "code",
   "execution_count": 1,
   "id": "australian-chile",
   "metadata": {
    "ExecuteTime": {
     "end_time": "2021-05-24T05:25:51.482187Z",
     "start_time": "2021-05-24T05:25:51.017267Z"
    }
   },
   "outputs": [],
   "source": [
    "import pandas as pd\n",
    "import numpy as np\n",
    "import plotly.express as px\n",
    "\n",
    "import boxball_loader as bbl"
   ]
  },
  {
   "cell_type": "code",
   "execution_count": 2,
   "id": "assumed-vault",
   "metadata": {
    "ExecuteTime": {
     "end_time": "2021-05-24T05:25:51.485538Z",
     "start_time": "2021-05-24T05:25:51.483320Z"
    }
   },
   "outputs": [],
   "source": [
    "def get_threeoh_outcomes(pa):\n",
    "    def filter_pitches_only(seq):\n",
    "        return ''.join(filter(str.isalpha, seq))\n",
    "    pitches_only = pa['pitch_seq_tx'].apply(filter_pitches_only)\n",
    "    threeoh = pitches_only.str.contains('^BBB')\n",
    "    return pitches_only[threeoh].str[3].isin(['X', 'S', 'F', 'T', 'M']).value_counts()"
   ]
  },
  {
   "cell_type": "code",
   "execution_count": 3,
   "id": "stylish-booking",
   "metadata": {
    "ExecuteTime": {
     "end_time": "2021-05-24T05:25:51.488774Z",
     "start_time": "2021-05-24T05:25:51.486825Z"
    }
   },
   "outputs": [],
   "source": [
    "def compute_data(df, yr):\n",
    "    pa = df[df['yr']==yr]\n",
    "    outcomes = get_threeoh_outcomes(pa.dropna())\n",
    "    return {'yr': yr, 'pa': len(pa), 'pa_pitch': len(pa.dropna()), 'pa_3_0': outcomes.sum(), 'pa_3_0_swing': outcomes.loc[True]}\n"
   ]
  },
  {
   "cell_type": "code",
   "execution_count": 4,
   "id": "elect-spotlight",
   "metadata": {
    "ExecuteTime": {
     "end_time": "2021-05-24T05:25:58.959879Z",
     "start_time": "2021-05-24T05:25:51.489912Z"
    }
   },
   "outputs": [],
   "source": [
    "era = bbl.Eras.PitchCount\n",
    "pa = bbl.load_event_data(era, ['pitch_seq_tx'])\n"
   ]
  },
  {
   "cell_type": "code",
   "execution_count": 5,
   "id": "e5cd7f4b",
   "metadata": {},
   "outputs": [
    {
     "data": {
      "text/html": [
       "<div>\n",
       "<style scoped>\n",
       "    .dataframe tbody tr th:only-of-type {\n",
       "        vertical-align: middle;\n",
       "    }\n",
       "\n",
       "    .dataframe tbody tr th {\n",
       "        vertical-align: top;\n",
       "    }\n",
       "\n",
       "    .dataframe thead th {\n",
       "        text-align: right;\n",
       "    }\n",
       "</style>\n",
       "<table border=\"1\" class=\"dataframe\">\n",
       "  <thead>\n",
       "    <tr style=\"text-align: right;\">\n",
       "      <th></th>\n",
       "      <th>yr</th>\n",
       "      <th>pa</th>\n",
       "      <th>pa_pitch</th>\n",
       "      <th>pa_3_0</th>\n",
       "      <th>pa_3_0_swing</th>\n",
       "      <th>swing_30_freq</th>\n",
       "    </tr>\n",
       "  </thead>\n",
       "  <tbody>\n",
       "    <tr>\n",
       "      <th>0</th>\n",
       "      <td>1988</td>\n",
       "      <td>159380</td>\n",
       "      <td>156883</td>\n",
       "      <td>7296</td>\n",
       "      <td>725</td>\n",
       "      <td>0.099370</td>\n",
       "    </tr>\n",
       "    <tr>\n",
       "      <th>1</th>\n",
       "      <td>1989</td>\n",
       "      <td>160033</td>\n",
       "      <td>155302</td>\n",
       "      <td>7365</td>\n",
       "      <td>657</td>\n",
       "      <td>0.089206</td>\n",
       "    </tr>\n",
       "    <tr>\n",
       "      <th>2</th>\n",
       "      <td>1990</td>\n",
       "      <td>160316</td>\n",
       "      <td>147577</td>\n",
       "      <td>7187</td>\n",
       "      <td>662</td>\n",
       "      <td>0.092111</td>\n",
       "    </tr>\n",
       "    <tr>\n",
       "      <th>3</th>\n",
       "      <td>1991</td>\n",
       "      <td>160746</td>\n",
       "      <td>160744</td>\n",
       "      <td>7865</td>\n",
       "      <td>666</td>\n",
       "      <td>0.084679</td>\n",
       "    </tr>\n",
       "    <tr>\n",
       "      <th>4</th>\n",
       "      <td>1992</td>\n",
       "      <td>160545</td>\n",
       "      <td>160487</td>\n",
       "      <td>7485</td>\n",
       "      <td>637</td>\n",
       "      <td>0.085104</td>\n",
       "    </tr>\n",
       "    <tr>\n",
       "      <th>5</th>\n",
       "      <td>1993</td>\n",
       "      <td>174564</td>\n",
       "      <td>168861</td>\n",
       "      <td>8082</td>\n",
       "      <td>827</td>\n",
       "      <td>0.102326</td>\n",
       "    </tr>\n",
       "    <tr>\n",
       "      <th>6</th>\n",
       "      <td>1994</td>\n",
       "      <td>124483</td>\n",
       "      <td>119143</td>\n",
       "      <td>5861</td>\n",
       "      <td>594</td>\n",
       "      <td>0.101348</td>\n",
       "    </tr>\n",
       "    <tr>\n",
       "      <th>7</th>\n",
       "      <td>1995</td>\n",
       "      <td>156703</td>\n",
       "      <td>146326</td>\n",
       "      <td>7089</td>\n",
       "      <td>749</td>\n",
       "      <td>0.105657</td>\n",
       "    </tr>\n",
       "    <tr>\n",
       "      <th>8</th>\n",
       "      <td>1996</td>\n",
       "      <td>177261</td>\n",
       "      <td>158903</td>\n",
       "      <td>7648</td>\n",
       "      <td>921</td>\n",
       "      <td>0.120424</td>\n",
       "    </tr>\n",
       "    <tr>\n",
       "      <th>9</th>\n",
       "      <td>1997</td>\n",
       "      <td>175541</td>\n",
       "      <td>163080</td>\n",
       "      <td>7970</td>\n",
       "      <td>940</td>\n",
       "      <td>0.117942</td>\n",
       "    </tr>\n",
       "    <tr>\n",
       "      <th>10</th>\n",
       "      <td>1998</td>\n",
       "      <td>188280</td>\n",
       "      <td>176341</td>\n",
       "      <td>8454</td>\n",
       "      <td>968</td>\n",
       "      <td>0.114502</td>\n",
       "    </tr>\n",
       "    <tr>\n",
       "      <th>11</th>\n",
       "      <td>1999</td>\n",
       "      <td>189692</td>\n",
       "      <td>186635</td>\n",
       "      <td>10097</td>\n",
       "      <td>1021</td>\n",
       "      <td>0.101119</td>\n",
       "    </tr>\n",
       "    <tr>\n",
       "      <th>12</th>\n",
       "      <td>2000</td>\n",
       "      <td>190261</td>\n",
       "      <td>190261</td>\n",
       "      <td>9924</td>\n",
       "      <td>885</td>\n",
       "      <td>0.089178</td>\n",
       "    </tr>\n",
       "    <tr>\n",
       "      <th>13</th>\n",
       "      <td>2001</td>\n",
       "      <td>186976</td>\n",
       "      <td>186976</td>\n",
       "      <td>8204</td>\n",
       "      <td>830</td>\n",
       "      <td>0.101170</td>\n",
       "    </tr>\n",
       "    <tr>\n",
       "      <th>14</th>\n",
       "      <td>2002</td>\n",
       "      <td>186615</td>\n",
       "      <td>186615</td>\n",
       "      <td>8421</td>\n",
       "      <td>724</td>\n",
       "      <td>0.085976</td>\n",
       "    </tr>\n",
       "    <tr>\n",
       "      <th>15</th>\n",
       "      <td>2003</td>\n",
       "      <td>187449</td>\n",
       "      <td>187449</td>\n",
       "      <td>8346</td>\n",
       "      <td>595</td>\n",
       "      <td>0.071292</td>\n",
       "    </tr>\n",
       "    <tr>\n",
       "      <th>16</th>\n",
       "      <td>2004</td>\n",
       "      <td>188539</td>\n",
       "      <td>188539</td>\n",
       "      <td>8609</td>\n",
       "      <td>663</td>\n",
       "      <td>0.077012</td>\n",
       "    </tr>\n",
       "    <tr>\n",
       "      <th>17</th>\n",
       "      <td>2005</td>\n",
       "      <td>186292</td>\n",
       "      <td>186292</td>\n",
       "      <td>8109</td>\n",
       "      <td>585</td>\n",
       "      <td>0.072142</td>\n",
       "    </tr>\n",
       "    <tr>\n",
       "      <th>18</th>\n",
       "      <td>2006</td>\n",
       "      <td>188071</td>\n",
       "      <td>188071</td>\n",
       "      <td>8193</td>\n",
       "      <td>522</td>\n",
       "      <td>0.063713</td>\n",
       "    </tr>\n",
       "    <tr>\n",
       "      <th>19</th>\n",
       "      <td>2007</td>\n",
       "      <td>188623</td>\n",
       "      <td>188623</td>\n",
       "      <td>8240</td>\n",
       "      <td>559</td>\n",
       "      <td>0.067840</td>\n",
       "    </tr>\n",
       "    <tr>\n",
       "      <th>20</th>\n",
       "      <td>2008</td>\n",
       "      <td>187631</td>\n",
       "      <td>187631</td>\n",
       "      <td>8381</td>\n",
       "      <td>595</td>\n",
       "      <td>0.070994</td>\n",
       "    </tr>\n",
       "    <tr>\n",
       "      <th>21</th>\n",
       "      <td>2009</td>\n",
       "      <td>187079</td>\n",
       "      <td>187079</td>\n",
       "      <td>8601</td>\n",
       "      <td>503</td>\n",
       "      <td>0.058482</td>\n",
       "    </tr>\n",
       "    <tr>\n",
       "      <th>22</th>\n",
       "      <td>2010</td>\n",
       "      <td>185553</td>\n",
       "      <td>185553</td>\n",
       "      <td>8128</td>\n",
       "      <td>505</td>\n",
       "      <td>0.062131</td>\n",
       "    </tr>\n",
       "    <tr>\n",
       "      <th>23</th>\n",
       "      <td>2011</td>\n",
       "      <td>185245</td>\n",
       "      <td>185245</td>\n",
       "      <td>7974</td>\n",
       "      <td>608</td>\n",
       "      <td>0.076248</td>\n",
       "    </tr>\n",
       "    <tr>\n",
       "      <th>24</th>\n",
       "      <td>2012</td>\n",
       "      <td>184179</td>\n",
       "      <td>184179</td>\n",
       "      <td>7688</td>\n",
       "      <td>605</td>\n",
       "      <td>0.078694</td>\n",
       "    </tr>\n",
       "    <tr>\n",
       "      <th>25</th>\n",
       "      <td>2013</td>\n",
       "      <td>184873</td>\n",
       "      <td>184873</td>\n",
       "      <td>7577</td>\n",
       "      <td>647</td>\n",
       "      <td>0.085390</td>\n",
       "    </tr>\n",
       "    <tr>\n",
       "      <th>26</th>\n",
       "      <td>2014</td>\n",
       "      <td>183929</td>\n",
       "      <td>183929</td>\n",
       "      <td>7147</td>\n",
       "      <td>666</td>\n",
       "      <td>0.093186</td>\n",
       "    </tr>\n",
       "    <tr>\n",
       "      <th>27</th>\n",
       "      <td>2015</td>\n",
       "      <td>183628</td>\n",
       "      <td>183628</td>\n",
       "      <td>7170</td>\n",
       "      <td>630</td>\n",
       "      <td>0.087866</td>\n",
       "    </tr>\n",
       "    <tr>\n",
       "      <th>28</th>\n",
       "      <td>2016</td>\n",
       "      <td>184580</td>\n",
       "      <td>184580</td>\n",
       "      <td>7622</td>\n",
       "      <td>736</td>\n",
       "      <td>0.096563</td>\n",
       "    </tr>\n",
       "    <tr>\n",
       "      <th>29</th>\n",
       "      <td>2017</td>\n",
       "      <td>185295</td>\n",
       "      <td>185295</td>\n",
       "      <td>7786</td>\n",
       "      <td>807</td>\n",
       "      <td>0.103648</td>\n",
       "    </tr>\n",
       "    <tr>\n",
       "      <th>30</th>\n",
       "      <td>2018</td>\n",
       "      <td>185139</td>\n",
       "      <td>185139</td>\n",
       "      <td>7603</td>\n",
       "      <td>808</td>\n",
       "      <td>0.106274</td>\n",
       "    </tr>\n",
       "    <tr>\n",
       "      <th>31</th>\n",
       "      <td>2019</td>\n",
       "      <td>186517</td>\n",
       "      <td>186517</td>\n",
       "      <td>7621</td>\n",
       "      <td>835</td>\n",
       "      <td>0.109566</td>\n",
       "    </tr>\n",
       "    <tr>\n",
       "      <th>32</th>\n",
       "      <td>2020</td>\n",
       "      <td>66506</td>\n",
       "      <td>66506</td>\n",
       "      <td>2875</td>\n",
       "      <td>300</td>\n",
       "      <td>0.104348</td>\n",
       "    </tr>\n",
       "  </tbody>\n",
       "</table>\n",
       "</div>"
      ],
      "text/plain": [
       "      yr      pa  pa_pitch  pa_3_0  pa_3_0_swing  swing_30_freq\n",
       "0   1988  159380    156883    7296           725       0.099370\n",
       "1   1989  160033    155302    7365           657       0.089206\n",
       "2   1990  160316    147577    7187           662       0.092111\n",
       "3   1991  160746    160744    7865           666       0.084679\n",
       "4   1992  160545    160487    7485           637       0.085104\n",
       "5   1993  174564    168861    8082           827       0.102326\n",
       "6   1994  124483    119143    5861           594       0.101348\n",
       "7   1995  156703    146326    7089           749       0.105657\n",
       "8   1996  177261    158903    7648           921       0.120424\n",
       "9   1997  175541    163080    7970           940       0.117942\n",
       "10  1998  188280    176341    8454           968       0.114502\n",
       "11  1999  189692    186635   10097          1021       0.101119\n",
       "12  2000  190261    190261    9924           885       0.089178\n",
       "13  2001  186976    186976    8204           830       0.101170\n",
       "14  2002  186615    186615    8421           724       0.085976\n",
       "15  2003  187449    187449    8346           595       0.071292\n",
       "16  2004  188539    188539    8609           663       0.077012\n",
       "17  2005  186292    186292    8109           585       0.072142\n",
       "18  2006  188071    188071    8193           522       0.063713\n",
       "19  2007  188623    188623    8240           559       0.067840\n",
       "20  2008  187631    187631    8381           595       0.070994\n",
       "21  2009  187079    187079    8601           503       0.058482\n",
       "22  2010  185553    185553    8128           505       0.062131\n",
       "23  2011  185245    185245    7974           608       0.076248\n",
       "24  2012  184179    184179    7688           605       0.078694\n",
       "25  2013  184873    184873    7577           647       0.085390\n",
       "26  2014  183929    183929    7147           666       0.093186\n",
       "27  2015  183628    183628    7170           630       0.087866\n",
       "28  2016  184580    184580    7622           736       0.096563\n",
       "29  2017  185295    185295    7786           807       0.103648\n",
       "30  2018  185139    185139    7603           808       0.106274\n",
       "31  2019  186517    186517    7621           835       0.109566\n",
       "32  2020   66506     66506    2875           300       0.104348"
      ]
     },
     "execution_count": 5,
     "metadata": {},
     "output_type": "execute_result"
    }
   ],
   "source": [
    "outcomes = pd.DataFrame([compute_data(pa, yr) for yr in set(pa['yr'])])\n",
    "outcomes['swing_30_freq'] = outcomes['pa_3_0_swing']/outcomes['pa_3_0']\n",
    "outcomes"
   ]
  },
  {
   "cell_type": "code",
   "execution_count": 6,
   "id": "arranged-telephone",
   "metadata": {
    "ExecuteTime": {
     "end_time": "2021-05-24T05:25:58.964076Z",
     "start_time": "2021-05-24T05:25:58.960805Z"
    }
   },
   "outputs": [
    {
     "name": "stdout",
     "output_type": "stream",
     "text": [
      "  yr     pa  pa_pitch  pa_3_0  pa_3_0_swing  swing_30_freq\n",
      "1988 159380    156883    7296           725       0.099370\n",
      "1989 160033    155302    7365           657       0.089206\n",
      "1990 160316    147577    7187           662       0.092111\n",
      "1991 160746    160744    7865           666       0.084679\n",
      "1992 160545    160487    7485           637       0.085104\n",
      "1993 174564    168861    8082           827       0.102326\n",
      "1994 124483    119143    5861           594       0.101348\n",
      "1995 156703    146326    7089           749       0.105657\n",
      "1996 177261    158903    7648           921       0.120424\n",
      "1997 175541    163080    7970           940       0.117942\n",
      "1998 188280    176341    8454           968       0.114502\n",
      "1999 189692    186635   10097          1021       0.101119\n",
      "2000 190261    190261    9924           885       0.089178\n",
      "2001 186976    186976    8204           830       0.101170\n",
      "2002 186615    186615    8421           724       0.085976\n",
      "2003 187449    187449    8346           595       0.071292\n",
      "2004 188539    188539    8609           663       0.077012\n",
      "2005 186292    186292    8109           585       0.072142\n",
      "2006 188071    188071    8193           522       0.063713\n",
      "2007 188623    188623    8240           559       0.067840\n",
      "2008 187631    187631    8381           595       0.070994\n",
      "2009 187079    187079    8601           503       0.058482\n",
      "2010 185553    185553    8128           505       0.062131\n",
      "2011 185245    185245    7974           608       0.076248\n",
      "2012 184179    184179    7688           605       0.078694\n",
      "2013 184873    184873    7577           647       0.085390\n",
      "2014 183929    183929    7147           666       0.093186\n",
      "2015 183628    183628    7170           630       0.087866\n",
      "2016 184580    184580    7622           736       0.096563\n",
      "2017 185295    185295    7786           807       0.103648\n",
      "2018 185139    185139    7603           808       0.106274\n",
      "2019 186517    186517    7621           835       0.109566\n",
      "2020  66506     66506    2875           300       0.104348\n"
     ]
    }
   ],
   "source": [
    "print(outcomes.to_string(index=False))"
   ]
  },
  {
   "cell_type": "code",
   "execution_count": 7,
   "id": "genuine-module",
   "metadata": {
    "ExecuteTime": {
     "end_time": "2021-05-24T05:25:59.314813Z",
     "start_time": "2021-05-24T05:25:58.964928Z"
    }
   },
   "outputs": [
    {
     "data": {
      "application/vnd.plotly.v1+json": {
       "config": {
        "plotlyServerURL": "https://plot.ly"
       },
       "data": [
        {
         "hovertemplate": "yr=%{x}<br>swing_30_freq=%{y}<extra></extra>",
         "legendgroup": "",
         "marker": {
          "color": "#636efa",
          "symbol": "circle"
         },
         "mode": "markers",
         "name": "",
         "orientation": "v",
         "showlegend": false,
         "type": "scatter",
         "x": [
          1988,
          1989,
          1990,
          1991,
          1992,
          1993,
          1994,
          1995,
          1996,
          1997,
          1998,
          1999,
          2000,
          2001,
          2002,
          2003,
          2004,
          2005,
          2006,
          2007,
          2008,
          2009,
          2010,
          2011,
          2012,
          2013,
          2014,
          2015,
          2016,
          2017,
          2018,
          2019,
          2020
         ],
         "xaxis": "x",
         "y": [
          0.09936951754385964,
          0.08920570264765784,
          0.09211075553081953,
          0.08467895740623013,
          0.08510354041416165,
          0.10232615689185845,
          0.10134789285104931,
          0.1056566511496685,
          0.12042364016736401,
          0.11794228356336262,
          0.11450201088242253,
          0.10111914430028722,
          0.08917775090689238,
          0.10117016089712336,
          0.08597553734710842,
          0.07129163671219746,
          0.07701242885352538,
          0.07214206437291898,
          0.06371292566825339,
          0.06783980582524272,
          0.07099391480730223,
          0.058481571910242995,
          0.062130905511811024,
          0.07624780536744419,
          0.07869406867845993,
          0.08538999604064933,
          0.0931859521477543,
          0.08786610878661087,
          0.0965625819994752,
          0.10364757256614436,
          0.1062738392739708,
          0.10956567379608975,
          0.10434782608695652
         ],
         "yaxis": "y"
        }
       ],
       "layout": {
        "legend": {
         "tracegroupgap": 0
        },
        "template": {
         "data": {
          "bar": [
           {
            "error_x": {
             "color": "#2a3f5f"
            },
            "error_y": {
             "color": "#2a3f5f"
            },
            "marker": {
             "line": {
              "color": "#E5ECF6",
              "width": 0.5
             }
            },
            "type": "bar"
           }
          ],
          "barpolar": [
           {
            "marker": {
             "line": {
              "color": "#E5ECF6",
              "width": 0.5
             }
            },
            "type": "barpolar"
           }
          ],
          "carpet": [
           {
            "aaxis": {
             "endlinecolor": "#2a3f5f",
             "gridcolor": "white",
             "linecolor": "white",
             "minorgridcolor": "white",
             "startlinecolor": "#2a3f5f"
            },
            "baxis": {
             "endlinecolor": "#2a3f5f",
             "gridcolor": "white",
             "linecolor": "white",
             "minorgridcolor": "white",
             "startlinecolor": "#2a3f5f"
            },
            "type": "carpet"
           }
          ],
          "choropleth": [
           {
            "colorbar": {
             "outlinewidth": 0,
             "ticks": ""
            },
            "type": "choropleth"
           }
          ],
          "contour": [
           {
            "colorbar": {
             "outlinewidth": 0,
             "ticks": ""
            },
            "colorscale": [
             [
              0,
              "#0d0887"
             ],
             [
              0.1111111111111111,
              "#46039f"
             ],
             [
              0.2222222222222222,
              "#7201a8"
             ],
             [
              0.3333333333333333,
              "#9c179e"
             ],
             [
              0.4444444444444444,
              "#bd3786"
             ],
             [
              0.5555555555555556,
              "#d8576b"
             ],
             [
              0.6666666666666666,
              "#ed7953"
             ],
             [
              0.7777777777777778,
              "#fb9f3a"
             ],
             [
              0.8888888888888888,
              "#fdca26"
             ],
             [
              1,
              "#f0f921"
             ]
            ],
            "type": "contour"
           }
          ],
          "contourcarpet": [
           {
            "colorbar": {
             "outlinewidth": 0,
             "ticks": ""
            },
            "type": "contourcarpet"
           }
          ],
          "heatmap": [
           {
            "colorbar": {
             "outlinewidth": 0,
             "ticks": ""
            },
            "colorscale": [
             [
              0,
              "#0d0887"
             ],
             [
              0.1111111111111111,
              "#46039f"
             ],
             [
              0.2222222222222222,
              "#7201a8"
             ],
             [
              0.3333333333333333,
              "#9c179e"
             ],
             [
              0.4444444444444444,
              "#bd3786"
             ],
             [
              0.5555555555555556,
              "#d8576b"
             ],
             [
              0.6666666666666666,
              "#ed7953"
             ],
             [
              0.7777777777777778,
              "#fb9f3a"
             ],
             [
              0.8888888888888888,
              "#fdca26"
             ],
             [
              1,
              "#f0f921"
             ]
            ],
            "type": "heatmap"
           }
          ],
          "heatmapgl": [
           {
            "colorbar": {
             "outlinewidth": 0,
             "ticks": ""
            },
            "colorscale": [
             [
              0,
              "#0d0887"
             ],
             [
              0.1111111111111111,
              "#46039f"
             ],
             [
              0.2222222222222222,
              "#7201a8"
             ],
             [
              0.3333333333333333,
              "#9c179e"
             ],
             [
              0.4444444444444444,
              "#bd3786"
             ],
             [
              0.5555555555555556,
              "#d8576b"
             ],
             [
              0.6666666666666666,
              "#ed7953"
             ],
             [
              0.7777777777777778,
              "#fb9f3a"
             ],
             [
              0.8888888888888888,
              "#fdca26"
             ],
             [
              1,
              "#f0f921"
             ]
            ],
            "type": "heatmapgl"
           }
          ],
          "histogram": [
           {
            "marker": {
             "colorbar": {
              "outlinewidth": 0,
              "ticks": ""
             }
            },
            "type": "histogram"
           }
          ],
          "histogram2d": [
           {
            "colorbar": {
             "outlinewidth": 0,
             "ticks": ""
            },
            "colorscale": [
             [
              0,
              "#0d0887"
             ],
             [
              0.1111111111111111,
              "#46039f"
             ],
             [
              0.2222222222222222,
              "#7201a8"
             ],
             [
              0.3333333333333333,
              "#9c179e"
             ],
             [
              0.4444444444444444,
              "#bd3786"
             ],
             [
              0.5555555555555556,
              "#d8576b"
             ],
             [
              0.6666666666666666,
              "#ed7953"
             ],
             [
              0.7777777777777778,
              "#fb9f3a"
             ],
             [
              0.8888888888888888,
              "#fdca26"
             ],
             [
              1,
              "#f0f921"
             ]
            ],
            "type": "histogram2d"
           }
          ],
          "histogram2dcontour": [
           {
            "colorbar": {
             "outlinewidth": 0,
             "ticks": ""
            },
            "colorscale": [
             [
              0,
              "#0d0887"
             ],
             [
              0.1111111111111111,
              "#46039f"
             ],
             [
              0.2222222222222222,
              "#7201a8"
             ],
             [
              0.3333333333333333,
              "#9c179e"
             ],
             [
              0.4444444444444444,
              "#bd3786"
             ],
             [
              0.5555555555555556,
              "#d8576b"
             ],
             [
              0.6666666666666666,
              "#ed7953"
             ],
             [
              0.7777777777777778,
              "#fb9f3a"
             ],
             [
              0.8888888888888888,
              "#fdca26"
             ],
             [
              1,
              "#f0f921"
             ]
            ],
            "type": "histogram2dcontour"
           }
          ],
          "mesh3d": [
           {
            "colorbar": {
             "outlinewidth": 0,
             "ticks": ""
            },
            "type": "mesh3d"
           }
          ],
          "parcoords": [
           {
            "line": {
             "colorbar": {
              "outlinewidth": 0,
              "ticks": ""
             }
            },
            "type": "parcoords"
           }
          ],
          "pie": [
           {
            "automargin": true,
            "type": "pie"
           }
          ],
          "scatter": [
           {
            "marker": {
             "colorbar": {
              "outlinewidth": 0,
              "ticks": ""
             }
            },
            "type": "scatter"
           }
          ],
          "scatter3d": [
           {
            "line": {
             "colorbar": {
              "outlinewidth": 0,
              "ticks": ""
             }
            },
            "marker": {
             "colorbar": {
              "outlinewidth": 0,
              "ticks": ""
             }
            },
            "type": "scatter3d"
           }
          ],
          "scattercarpet": [
           {
            "marker": {
             "colorbar": {
              "outlinewidth": 0,
              "ticks": ""
             }
            },
            "type": "scattercarpet"
           }
          ],
          "scattergeo": [
           {
            "marker": {
             "colorbar": {
              "outlinewidth": 0,
              "ticks": ""
             }
            },
            "type": "scattergeo"
           }
          ],
          "scattergl": [
           {
            "marker": {
             "colorbar": {
              "outlinewidth": 0,
              "ticks": ""
             }
            },
            "type": "scattergl"
           }
          ],
          "scattermapbox": [
           {
            "marker": {
             "colorbar": {
              "outlinewidth": 0,
              "ticks": ""
             }
            },
            "type": "scattermapbox"
           }
          ],
          "scatterpolar": [
           {
            "marker": {
             "colorbar": {
              "outlinewidth": 0,
              "ticks": ""
             }
            },
            "type": "scatterpolar"
           }
          ],
          "scatterpolargl": [
           {
            "marker": {
             "colorbar": {
              "outlinewidth": 0,
              "ticks": ""
             }
            },
            "type": "scatterpolargl"
           }
          ],
          "scatterternary": [
           {
            "marker": {
             "colorbar": {
              "outlinewidth": 0,
              "ticks": ""
             }
            },
            "type": "scatterternary"
           }
          ],
          "surface": [
           {
            "colorbar": {
             "outlinewidth": 0,
             "ticks": ""
            },
            "colorscale": [
             [
              0,
              "#0d0887"
             ],
             [
              0.1111111111111111,
              "#46039f"
             ],
             [
              0.2222222222222222,
              "#7201a8"
             ],
             [
              0.3333333333333333,
              "#9c179e"
             ],
             [
              0.4444444444444444,
              "#bd3786"
             ],
             [
              0.5555555555555556,
              "#d8576b"
             ],
             [
              0.6666666666666666,
              "#ed7953"
             ],
             [
              0.7777777777777778,
              "#fb9f3a"
             ],
             [
              0.8888888888888888,
              "#fdca26"
             ],
             [
              1,
              "#f0f921"
             ]
            ],
            "type": "surface"
           }
          ],
          "table": [
           {
            "cells": {
             "fill": {
              "color": "#EBF0F8"
             },
             "line": {
              "color": "white"
             }
            },
            "header": {
             "fill": {
              "color": "#C8D4E3"
             },
             "line": {
              "color": "white"
             }
            },
            "type": "table"
           }
          ]
         },
         "layout": {
          "annotationdefaults": {
           "arrowcolor": "#2a3f5f",
           "arrowhead": 0,
           "arrowwidth": 1
          },
          "autotypenumbers": "strict",
          "coloraxis": {
           "colorbar": {
            "outlinewidth": 0,
            "ticks": ""
           }
          },
          "colorscale": {
           "diverging": [
            [
             0,
             "#8e0152"
            ],
            [
             0.1,
             "#c51b7d"
            ],
            [
             0.2,
             "#de77ae"
            ],
            [
             0.3,
             "#f1b6da"
            ],
            [
             0.4,
             "#fde0ef"
            ],
            [
             0.5,
             "#f7f7f7"
            ],
            [
             0.6,
             "#e6f5d0"
            ],
            [
             0.7,
             "#b8e186"
            ],
            [
             0.8,
             "#7fbc41"
            ],
            [
             0.9,
             "#4d9221"
            ],
            [
             1,
             "#276419"
            ]
           ],
           "sequential": [
            [
             0,
             "#0d0887"
            ],
            [
             0.1111111111111111,
             "#46039f"
            ],
            [
             0.2222222222222222,
             "#7201a8"
            ],
            [
             0.3333333333333333,
             "#9c179e"
            ],
            [
             0.4444444444444444,
             "#bd3786"
            ],
            [
             0.5555555555555556,
             "#d8576b"
            ],
            [
             0.6666666666666666,
             "#ed7953"
            ],
            [
             0.7777777777777778,
             "#fb9f3a"
            ],
            [
             0.8888888888888888,
             "#fdca26"
            ],
            [
             1,
             "#f0f921"
            ]
           ],
           "sequentialminus": [
            [
             0,
             "#0d0887"
            ],
            [
             0.1111111111111111,
             "#46039f"
            ],
            [
             0.2222222222222222,
             "#7201a8"
            ],
            [
             0.3333333333333333,
             "#9c179e"
            ],
            [
             0.4444444444444444,
             "#bd3786"
            ],
            [
             0.5555555555555556,
             "#d8576b"
            ],
            [
             0.6666666666666666,
             "#ed7953"
            ],
            [
             0.7777777777777778,
             "#fb9f3a"
            ],
            [
             0.8888888888888888,
             "#fdca26"
            ],
            [
             1,
             "#f0f921"
            ]
           ]
          },
          "colorway": [
           "#636efa",
           "#EF553B",
           "#00cc96",
           "#ab63fa",
           "#FFA15A",
           "#19d3f3",
           "#FF6692",
           "#B6E880",
           "#FF97FF",
           "#FECB52"
          ],
          "font": {
           "color": "#2a3f5f"
          },
          "geo": {
           "bgcolor": "white",
           "lakecolor": "white",
           "landcolor": "#E5ECF6",
           "showlakes": true,
           "showland": true,
           "subunitcolor": "white"
          },
          "hoverlabel": {
           "align": "left"
          },
          "hovermode": "closest",
          "mapbox": {
           "style": "light"
          },
          "paper_bgcolor": "white",
          "plot_bgcolor": "#E5ECF6",
          "polar": {
           "angularaxis": {
            "gridcolor": "white",
            "linecolor": "white",
            "ticks": ""
           },
           "bgcolor": "#E5ECF6",
           "radialaxis": {
            "gridcolor": "white",
            "linecolor": "white",
            "ticks": ""
           }
          },
          "scene": {
           "xaxis": {
            "backgroundcolor": "#E5ECF6",
            "gridcolor": "white",
            "gridwidth": 2,
            "linecolor": "white",
            "showbackground": true,
            "ticks": "",
            "zerolinecolor": "white"
           },
           "yaxis": {
            "backgroundcolor": "#E5ECF6",
            "gridcolor": "white",
            "gridwidth": 2,
            "linecolor": "white",
            "showbackground": true,
            "ticks": "",
            "zerolinecolor": "white"
           },
           "zaxis": {
            "backgroundcolor": "#E5ECF6",
            "gridcolor": "white",
            "gridwidth": 2,
            "linecolor": "white",
            "showbackground": true,
            "ticks": "",
            "zerolinecolor": "white"
           }
          },
          "shapedefaults": {
           "line": {
            "color": "#2a3f5f"
           }
          },
          "ternary": {
           "aaxis": {
            "gridcolor": "white",
            "linecolor": "white",
            "ticks": ""
           },
           "baxis": {
            "gridcolor": "white",
            "linecolor": "white",
            "ticks": ""
           },
           "bgcolor": "#E5ECF6",
           "caxis": {
            "gridcolor": "white",
            "linecolor": "white",
            "ticks": ""
           }
          },
          "title": {
           "x": 0.05
          },
          "xaxis": {
           "automargin": true,
           "gridcolor": "white",
           "linecolor": "white",
           "ticks": "",
           "title": {
            "standoff": 15
           },
           "zerolinecolor": "white",
           "zerolinewidth": 2
          },
          "yaxis": {
           "automargin": true,
           "gridcolor": "white",
           "linecolor": "white",
           "ticks": "",
           "title": {
            "standoff": 15
           },
           "zerolinecolor": "white",
           "zerolinewidth": 2
          }
         }
        },
        "title": {
         "text": "Frequency of swinging on 3-0 counts"
        },
        "xaxis": {
         "anchor": "y",
         "domain": [
          0,
          1
         ],
         "title": {
          "text": "yr"
         }
        },
        "yaxis": {
         "anchor": "x",
         "domain": [
          0,
          1
         ],
         "title": {
          "text": "swing_30_freq"
         }
        }
       }
      }
     },
     "metadata": {},
     "output_type": "display_data"
    }
   ],
   "source": [
    "px.scatter(outcomes, x='yr', y='swing_30_freq', title=\"Frequency of swinging on 3-0 counts\")"
   ]
  },
  {
   "cell_type": "code",
   "execution_count": 8,
   "id": "complimentary-party",
   "metadata": {
    "ExecuteTime": {
     "end_time": "2021-05-24T05:25:59.318770Z",
     "start_time": "2021-05-24T05:25:59.315802Z"
    }
   },
   "outputs": [
    {
     "data": {
      "text/plain": [
       "0     4.027778\n",
       "1     3.650000\n",
       "2     3.677778\n",
       "3     3.700000\n",
       "4     3.538889\n",
       "5     4.594444\n",
       "6     3.300000\n",
       "7     4.161111\n",
       "8     5.116667\n",
       "9     5.222222\n",
       "10    5.377778\n",
       "11    5.672222\n",
       "12    4.916667\n",
       "13    4.611111\n",
       "14    4.022222\n",
       "15    3.305556\n",
       "16    3.683333\n",
       "17    3.250000\n",
       "18    2.900000\n",
       "19    3.105556\n",
       "20    3.305556\n",
       "21    2.794444\n",
       "22    2.805556\n",
       "23    3.377778\n",
       "24    3.361111\n",
       "25    3.594444\n",
       "26    3.700000\n",
       "27    3.500000\n",
       "28    4.088889\n",
       "29    4.483333\n",
       "30    4.488889\n",
       "31    4.638889\n",
       "32    1.666667\n",
       "Name: pa_3_0_swing, dtype: float64"
      ]
     },
     "execution_count": 8,
     "metadata": {},
     "output_type": "execute_result"
    }
   ],
   "source": [
    "# Roughly how many times/day does a player swing at a 3-0 pitch\n",
    "outcomes['pa_3_0_swing']/180"
   ]
  },
  {
   "cell_type": "code",
   "execution_count": null,
   "id": "brazilian-distributor",
   "metadata": {},
   "outputs": [],
   "source": []
  }
 ],
 "metadata": {
  "interpreter": {
   "hash": "cd78fef2128015050713e82ca51c6520b11aee7c9ee8df750520bbbc7384cbaa"
  },
  "kernelspec": {
   "display_name": "Python 3.8.8 ('base')",
   "language": "python",
   "name": "python3"
  },
  "language_info": {
   "codemirror_mode": {
    "name": "ipython",
    "version": 3
   },
   "file_extension": ".py",
   "mimetype": "text/x-python",
   "name": "python",
   "nbconvert_exporter": "python",
   "pygments_lexer": "ipython3",
   "version": "3.8.8"
  }
 },
 "nbformat": 4,
 "nbformat_minor": 5
}
