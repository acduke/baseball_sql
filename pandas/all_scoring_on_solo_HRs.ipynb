{
 "cells": [
  {
   "cell_type": "code",
   "execution_count": 1,
   "metadata": {},
   "outputs": [],
   "source": [
    "import pandas as pd\n",
    "import numpy as np"
   ]
  },
  {
   "cell_type": "code",
   "execution_count": 2,
   "metadata": {},
   "outputs": [],
   "source": [
    "# This is my custom table, for each team-game, derived from the original gamelog table\n",
    "glt = pd.read_parquet('../data/mine/gl_teams.parquet')"
   ]
  },
  {
   "cell_type": "code",
   "execution_count": 3,
   "metadata": {},
   "outputs": [],
   "source": [
    "# Narrow to games where all the scoring is from solo HRs (and regular-season games only)\n",
    "all_solos = glt[(glt['hr']==glt['runs_scored'])&(glt['game_type']=='RS')]"
   ]
  },
  {
   "cell_type": "code",
   "execution_count": 4,
   "metadata": {},
   "outputs": [
    {
     "name": "stderr",
     "output_type": "stream",
     "text": [
      "/Users/vkumar/opt/anaconda3/lib/python3.7/site-packages/ipykernel_launcher.py:2: SettingWithCopyWarning: \n",
      "A value is trying to be set on a copy of a slice from a DataFrame.\n",
      "Try using .loc[row_indexer,col_indexer] = value instead\n",
      "\n",
      "See the caveats in the documentation: https://pandas.pydata.org/pandas-docs/stable/user_guide/indexing.html#returning-a-view-versus-a-copy\n",
      "  \n"
     ]
    }
   ],
   "source": [
    "# identify consecutive games by subtracting the cumcount from team_game_number (two increasing counts)\n",
    "all_solos['streak_id'] = all_solos['team_game_number']-all_solos.groupby(['team', 'yr']).cumcount()"
   ]
  },
  {
   "cell_type": "code",
   "execution_count": 5,
   "metadata": {},
   "outputs": [
    {
     "data": {
      "text/html": [
       "<div>\n",
       "<style scoped>\n",
       "    .dataframe tbody tr th:only-of-type {\n",
       "        vertical-align: middle;\n",
       "    }\n",
       "\n",
       "    .dataframe tbody tr th {\n",
       "        vertical-align: top;\n",
       "    }\n",
       "\n",
       "    .dataframe thead th {\n",
       "        text-align: right;\n",
       "    }\n",
       "</style>\n",
       "<table border=\"1\" class=\"dataframe\">\n",
       "  <thead>\n",
       "    <tr style=\"text-align: right;\">\n",
       "      <th></th>\n",
       "      <th></th>\n",
       "      <th></th>\n",
       "      <th>hr</th>\n",
       "      <th>num_games</th>\n",
       "      <th>start_dt</th>\n",
       "    </tr>\n",
       "    <tr>\n",
       "      <th>team</th>\n",
       "      <th>yr</th>\n",
       "      <th>streak_id</th>\n",
       "      <th></th>\n",
       "      <th></th>\n",
       "      <th></th>\n",
       "    </tr>\n",
       "  </thead>\n",
       "  <tbody>\n",
       "    <tr>\n",
       "      <th>CHN</th>\n",
       "      <th>2018</th>\n",
       "      <th>102</th>\n",
       "      <td>5.0</td>\n",
       "      <td>5</td>\n",
       "      <td>2018-08-16</td>\n",
       "    </tr>\n",
       "    <tr>\n",
       "      <th>CIN</th>\n",
       "      <th>2018</th>\n",
       "      <th>127</th>\n",
       "      <td>5.0</td>\n",
       "      <td>5</td>\n",
       "      <td>2018-09-12</td>\n",
       "    </tr>\n",
       "    <tr>\n",
       "      <th>NYN</th>\n",
       "      <th>1963</th>\n",
       "      <th>1</th>\n",
       "      <td>3.0</td>\n",
       "      <td>5</td>\n",
       "      <td>1963-04-09</td>\n",
       "    </tr>\n",
       "    <tr>\n",
       "      <th>KCA</th>\n",
       "      <th>2017</th>\n",
       "      <th>110</th>\n",
       "      <td>2.0</td>\n",
       "      <td>5</td>\n",
       "      <td>2017-08-24</td>\n",
       "    </tr>\n",
       "    <tr>\n",
       "      <th>SLN</th>\n",
       "      <th>1904</th>\n",
       "      <th>142</th>\n",
       "      <td>2.0</td>\n",
       "      <td>5</td>\n",
       "      <td>1904-10-06</td>\n",
       "    </tr>\n",
       "    <tr>\n",
       "      <th>...</th>\n",
       "      <th>...</th>\n",
       "      <th>...</th>\n",
       "      <td>...</td>\n",
       "      <td>...</td>\n",
       "      <td>...</td>\n",
       "    </tr>\n",
       "    <tr>\n",
       "      <th rowspan=\"4\" valign=\"top\">WS2</th>\n",
       "      <th rowspan=\"4\" valign=\"top\">1971</th>\n",
       "      <th>76</th>\n",
       "      <td>0.0</td>\n",
       "      <td>1</td>\n",
       "      <td>1971-07-22</td>\n",
       "    </tr>\n",
       "    <tr>\n",
       "      <th>109</th>\n",
       "      <td>0.0</td>\n",
       "      <td>1</td>\n",
       "      <td>1971-08-29</td>\n",
       "    </tr>\n",
       "    <tr>\n",
       "      <th>115</th>\n",
       "      <td>0.0</td>\n",
       "      <td>1</td>\n",
       "      <td>1971-09-06</td>\n",
       "    </tr>\n",
       "    <tr>\n",
       "      <th>127</th>\n",
       "      <td>0.0</td>\n",
       "      <td>1</td>\n",
       "      <td>1971-09-24</td>\n",
       "    </tr>\n",
       "    <tr>\n",
       "      <th>WS3</th>\n",
       "      <th>1872</th>\n",
       "      <th>1</th>\n",
       "      <td>0.0</td>\n",
       "      <td>1</td>\n",
       "      <td>1872-04-18</td>\n",
       "    </tr>\n",
       "  </tbody>\n",
       "</table>\n",
       "<p>34986 rows × 3 columns</p>\n",
       "</div>"
      ],
      "text/plain": [
       "                      hr  num_games   start_dt\n",
       "team yr   streak_id                           \n",
       "CHN  2018 102        5.0          5 2018-08-16\n",
       "CIN  2018 127        5.0          5 2018-09-12\n",
       "NYN  1963 1          3.0          5 1963-04-09\n",
       "KCA  2017 110        2.0          5 2017-08-24\n",
       "SLN  1904 142        2.0          5 1904-10-06\n",
       "...                  ...        ...        ...\n",
       "WS2  1971 76         0.0          1 1971-07-22\n",
       "          109        0.0          1 1971-08-29\n",
       "          115        0.0          1 1971-09-06\n",
       "          127        0.0          1 1971-09-24\n",
       "WS3  1872 1          0.0          1 1872-04-18\n",
       "\n",
       "[34986 rows x 3 columns]"
      ]
     },
     "execution_count": 5,
     "metadata": {},
     "output_type": "execute_result"
    }
   ],
   "source": [
    "# Now find streaks, finding the total HR, the number of games, and the date of the streak's first game\n",
    "all_solos.groupby(['team', 'yr', 'streak_id']) \\\n",
    "    .agg({'hr': sum, 'streak_id': np.size, 'date': min}) \\\n",
    "    .rename(columns={'streak_id': 'num_games', 'date': 'start_dt'}) \\\n",
    "    .sort_values(by=['num_games', 'hr'], ascending=False)"
   ]
  }
 ],
 "metadata": {
  "kernelspec": {
   "display_name": "Python 3",
   "language": "python",
   "name": "python3"
  },
  "language_info": {
   "codemirror_mode": {
    "name": "ipython",
    "version": 3
   },
   "file_extension": ".py",
   "mimetype": "text/x-python",
   "name": "python",
   "nbconvert_exporter": "python",
   "pygments_lexer": "ipython3",
   "version": "3.7.6"
  }
 },
 "nbformat": 4,
 "nbformat_minor": 4
}
